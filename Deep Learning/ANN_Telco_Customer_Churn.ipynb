{
  "cells": [
    {
      "cell_type": "code",
      "execution_count": 64,
      "metadata": {
        "id": "jTDK_kxqk3lr"
      },
      "outputs": [],
      "source": [
        "import pandas as pd\n",
        "import numpy as np\n",
        "import matplotlib.pyplot as plt\n",
        "%matplotlib inline\n",
        "import seaborn as sns\n",
        "from sklearn.model_selection import train_test_split as tts\n",
        "from sklearn.metrics import confusion_matrix,classification_report\n",
        "\n",
        "import tensorflow as tf\n",
        "from tensorflow import keras"
      ]
    },
    {
      "cell_type": "code",
      "execution_count": 6,
      "metadata": {
        "id": "NIeuXK0ynhl9"
      },
      "outputs": [],
      "source": [
        "# dataset -> https://docs.google.com/spreadsheets/d/1sU5px5oYqBKBMNV3FVvhT-2DDmhRnqBHexw2MWPjCEs/edit?usp=sharing\n",
        "df = pd.read_csv('Telco_Customer_Churn.csv')"
      ]
    },
    {
      "cell_type": "code",
      "execution_count": 7,
      "metadata": {
        "colab": {
          "base_uri": "https://localhost:8080/",
          "height": 240
        },
        "id": "rmppUGZYnuPL",
        "outputId": "2824ee80-a6f6-4358-b1bc-2c5e864b3e12"
      },
      "outputs": [
        {
          "data": {
            "text/html": [
              "\n",
              "  <div id=\"df-08934eb8-cfff-4fb3-88e2-4d67b8ab6ed9\">\n",
              "    <div class=\"colab-df-container\">\n",
              "      <div>\n",
              "<style scoped>\n",
              "    .dataframe tbody tr th:only-of-type {\n",
              "        vertical-align: middle;\n",
              "    }\n",
              "\n",
              "    .dataframe tbody tr th {\n",
              "        vertical-align: top;\n",
              "    }\n",
              "\n",
              "    .dataframe thead th {\n",
              "        text-align: right;\n",
              "    }\n",
              "</style>\n",
              "<table border=\"1\" class=\"dataframe\">\n",
              "  <thead>\n",
              "    <tr style=\"text-align: right;\">\n",
              "      <th></th>\n",
              "      <th>customerID</th>\n",
              "      <th>gender</th>\n",
              "      <th>SeniorCitizen</th>\n",
              "      <th>Partner</th>\n",
              "      <th>Dependents</th>\n",
              "      <th>tenure</th>\n",
              "      <th>PhoneService</th>\n",
              "      <th>MultipleLines</th>\n",
              "      <th>InternetService</th>\n",
              "      <th>OnlineSecurity</th>\n",
              "      <th>...</th>\n",
              "      <th>DeviceProtection</th>\n",
              "      <th>TechSupport</th>\n",
              "      <th>StreamingTV</th>\n",
              "      <th>StreamingMovies</th>\n",
              "      <th>Contract</th>\n",
              "      <th>PaperlessBilling</th>\n",
              "      <th>PaymentMethod</th>\n",
              "      <th>MonthlyCharges</th>\n",
              "      <th>TotalCharges</th>\n",
              "      <th>Churn</th>\n",
              "    </tr>\n",
              "  </thead>\n",
              "  <tbody>\n",
              "    <tr>\n",
              "      <th>0</th>\n",
              "      <td>7590-VHVEG</td>\n",
              "      <td>Female</td>\n",
              "      <td>0</td>\n",
              "      <td>Yes</td>\n",
              "      <td>No</td>\n",
              "      <td>1</td>\n",
              "      <td>No</td>\n",
              "      <td>No phone service</td>\n",
              "      <td>DSL</td>\n",
              "      <td>No</td>\n",
              "      <td>...</td>\n",
              "      <td>No</td>\n",
              "      <td>No</td>\n",
              "      <td>No</td>\n",
              "      <td>No</td>\n",
              "      <td>Month-to-month</td>\n",
              "      <td>Yes</td>\n",
              "      <td>Electronic check</td>\n",
              "      <td>29.85</td>\n",
              "      <td>29.85</td>\n",
              "      <td>No</td>\n",
              "    </tr>\n",
              "    <tr>\n",
              "      <th>1</th>\n",
              "      <td>5575-GNVDE</td>\n",
              "      <td>Male</td>\n",
              "      <td>0</td>\n",
              "      <td>No</td>\n",
              "      <td>No</td>\n",
              "      <td>34</td>\n",
              "      <td>Yes</td>\n",
              "      <td>No</td>\n",
              "      <td>DSL</td>\n",
              "      <td>Yes</td>\n",
              "      <td>...</td>\n",
              "      <td>Yes</td>\n",
              "      <td>No</td>\n",
              "      <td>No</td>\n",
              "      <td>No</td>\n",
              "      <td>One year</td>\n",
              "      <td>No</td>\n",
              "      <td>Mailed check</td>\n",
              "      <td>56.95</td>\n",
              "      <td>1889.5</td>\n",
              "      <td>No</td>\n",
              "    </tr>\n",
              "  </tbody>\n",
              "</table>\n",
              "<p>2 rows × 21 columns</p>\n",
              "</div>\n",
              "      <button class=\"colab-df-convert\" onclick=\"convertToInteractive('df-08934eb8-cfff-4fb3-88e2-4d67b8ab6ed9')\"\n",
              "              title=\"Convert this dataframe to an interactive table.\"\n",
              "              style=\"display:none;\">\n",
              "        \n",
              "  <svg xmlns=\"http://www.w3.org/2000/svg\" height=\"24px\"viewBox=\"0 0 24 24\"\n",
              "       width=\"24px\">\n",
              "    <path d=\"M0 0h24v24H0V0z\" fill=\"none\"/>\n",
              "    <path d=\"M18.56 5.44l.94 2.06.94-2.06 2.06-.94-2.06-.94-.94-2.06-.94 2.06-2.06.94zm-11 1L8.5 8.5l.94-2.06 2.06-.94-2.06-.94L8.5 2.5l-.94 2.06-2.06.94zm10 10l.94 2.06.94-2.06 2.06-.94-2.06-.94-.94-2.06-.94 2.06-2.06.94z\"/><path d=\"M17.41 7.96l-1.37-1.37c-.4-.4-.92-.59-1.43-.59-.52 0-1.04.2-1.43.59L10.3 9.45l-7.72 7.72c-.78.78-.78 2.05 0 2.83L4 21.41c.39.39.9.59 1.41.59.51 0 1.02-.2 1.41-.59l7.78-7.78 2.81-2.81c.8-.78.8-2.07 0-2.86zM5.41 20L4 18.59l7.72-7.72 1.47 1.35L5.41 20z\"/>\n",
              "  </svg>\n",
              "      </button>\n",
              "      \n",
              "  <style>\n",
              "    .colab-df-container {\n",
              "      display:flex;\n",
              "      flex-wrap:wrap;\n",
              "      gap: 12px;\n",
              "    }\n",
              "\n",
              "    .colab-df-convert {\n",
              "      background-color: #E8F0FE;\n",
              "      border: none;\n",
              "      border-radius: 50%;\n",
              "      cursor: pointer;\n",
              "      display: none;\n",
              "      fill: #1967D2;\n",
              "      height: 32px;\n",
              "      padding: 0 0 0 0;\n",
              "      width: 32px;\n",
              "    }\n",
              "\n",
              "    .colab-df-convert:hover {\n",
              "      background-color: #E2EBFA;\n",
              "      box-shadow: 0px 1px 2px rgba(60, 64, 67, 0.3), 0px 1px 3px 1px rgba(60, 64, 67, 0.15);\n",
              "      fill: #174EA6;\n",
              "    }\n",
              "\n",
              "    [theme=dark] .colab-df-convert {\n",
              "      background-color: #3B4455;\n",
              "      fill: #D2E3FC;\n",
              "    }\n",
              "\n",
              "    [theme=dark] .colab-df-convert:hover {\n",
              "      background-color: #434B5C;\n",
              "      box-shadow: 0px 1px 3px 1px rgba(0, 0, 0, 0.15);\n",
              "      filter: drop-shadow(0px 1px 2px rgba(0, 0, 0, 0.3));\n",
              "      fill: #FFFFFF;\n",
              "    }\n",
              "  </style>\n",
              "\n",
              "      <script>\n",
              "        const buttonEl =\n",
              "          document.querySelector('#df-08934eb8-cfff-4fb3-88e2-4d67b8ab6ed9 button.colab-df-convert');\n",
              "        buttonEl.style.display =\n",
              "          google.colab.kernel.accessAllowed ? 'block' : 'none';\n",
              "\n",
              "        async function convertToInteractive(key) {\n",
              "          const element = document.querySelector('#df-08934eb8-cfff-4fb3-88e2-4d67b8ab6ed9');\n",
              "          const dataTable =\n",
              "            await google.colab.kernel.invokeFunction('convertToInteractive',\n",
              "                                                     [key], {});\n",
              "          if (!dataTable) return;\n",
              "\n",
              "          const docLinkHtml = 'Like what you see? Visit the ' +\n",
              "            '<a target=\"_blank\" href=https://colab.research.google.com/notebooks/data_table.ipynb>data table notebook</a>'\n",
              "            + ' to learn more about interactive tables.';\n",
              "          element.innerHTML = '';\n",
              "          dataTable['output_type'] = 'display_data';\n",
              "          await google.colab.output.renderOutput(dataTable, element);\n",
              "          const docLink = document.createElement('div');\n",
              "          docLink.innerHTML = docLinkHtml;\n",
              "          element.appendChild(docLink);\n",
              "        }\n",
              "      </script>\n",
              "    </div>\n",
              "  </div>\n",
              "  "
            ],
            "text/plain": [
              "   customerID  gender  SeniorCitizen Partner Dependents  tenure PhoneService  \\\n",
              "0  7590-VHVEG  Female              0     Yes         No       1           No   \n",
              "1  5575-GNVDE    Male              0      No         No      34          Yes   \n",
              "\n",
              "      MultipleLines InternetService OnlineSecurity  ... DeviceProtection  \\\n",
              "0  No phone service             DSL             No  ...               No   \n",
              "1                No             DSL            Yes  ...              Yes   \n",
              "\n",
              "  TechSupport StreamingTV StreamingMovies        Contract PaperlessBilling  \\\n",
              "0          No          No              No  Month-to-month              Yes   \n",
              "1          No          No              No        One year               No   \n",
              "\n",
              "      PaymentMethod MonthlyCharges  TotalCharges Churn  \n",
              "0  Electronic check          29.85         29.85    No  \n",
              "1      Mailed check          56.95        1889.5    No  \n",
              "\n",
              "[2 rows x 21 columns]"
            ]
          },
          "execution_count": 7,
          "metadata": {},
          "output_type": "execute_result"
        }
      ],
      "source": [
        "df.head(2)"
      ]
    },
    {
      "cell_type": "code",
      "execution_count": 8,
      "metadata": {
        "colab": {
          "base_uri": "https://localhost:8080/"
        },
        "id": "DJFLbd7-oYE-",
        "outputId": "eb7f3230-c262-4c57-c6c0-513c00dfa5a3"
      },
      "outputs": [
        {
          "data": {
            "text/plain": [
              "customerID           object\n",
              "gender               object\n",
              "SeniorCitizen         int64\n",
              "Partner              object\n",
              "Dependents           object\n",
              "tenure                int64\n",
              "PhoneService         object\n",
              "MultipleLines        object\n",
              "InternetService      object\n",
              "OnlineSecurity       object\n",
              "OnlineBackup         object\n",
              "DeviceProtection     object\n",
              "TechSupport          object\n",
              "StreamingTV          object\n",
              "StreamingMovies      object\n",
              "Contract             object\n",
              "PaperlessBilling     object\n",
              "PaymentMethod        object\n",
              "MonthlyCharges      float64\n",
              "TotalCharges         object\n",
              "Churn                object\n",
              "dtype: object"
            ]
          },
          "execution_count": 8,
          "metadata": {},
          "output_type": "execute_result"
        }
      ],
      "source": [
        "df.dtypes"
      ]
    },
    {
      "cell_type": "code",
      "execution_count": 9,
      "metadata": {
        "id": "8wWZ--07oZ0l"
      },
      "outputs": [],
      "source": [
        "df.drop('customerID',axis = 1, inplace = True)\n",
        "# No need for this col ⚡"
      ]
    },
    {
      "cell_type": "code",
      "execution_count": 10,
      "metadata": {
        "colab": {
          "base_uri": "https://localhost:8080/"
        },
        "id": "7vEeauYgoiE9",
        "outputId": "c55a0a6b-8831-4cf5-a202-c712fda090e3"
      },
      "outputs": [
        {
          "data": {
            "text/plain": [
              "array(['29.85', '1889.5', '108.15', ..., '346.45', '306.6', '6844.5'],\n",
              "      dtype=object)"
            ]
          },
          "execution_count": 10,
          "metadata": {},
          "output_type": "execute_result"
        }
      ],
      "source": [
        "df['TotalCharges'].values # Strings 😑"
      ]
    },
    {
      "cell_type": "code",
      "execution_count": 12,
      "metadata": {
        "colab": {
          "base_uri": "https://localhost:8080/"
        },
        "id": "d21_noZaok_v",
        "outputId": "5ba93fe0-db45-4f6f-bc1d-1e5325cf8adf"
      },
      "outputs": [
        {
          "data": {
            "text/plain": [
              "array([ 29.85,  56.95,  53.85, ...,  29.6 ,  74.4 , 105.65])"
            ]
          },
          "execution_count": 12,
          "metadata": {},
          "output_type": "execute_result"
        }
      ],
      "source": [
        "df['MonthlyCharges'].values # Float 😊"
      ]
    },
    {
      "cell_type": "code",
      "execution_count": 13,
      "metadata": {
        "colab": {
          "base_uri": "https://localhost:8080/",
          "height": 294
        },
        "id": "W6AX4-7eomp_",
        "outputId": "66a31033-6d93-402f-a40d-b483b1cd10eb"
      },
      "outputs": [
        {
          "ename": "ValueError",
          "evalue": "ignored",
          "output_type": "error",
          "traceback": [
            "\u001b[0;31m---------------------------------------------------------------------------\u001b[0m",
            "\u001b[0;31mValueError\u001b[0m                                Traceback (most recent call last)",
            "\u001b[0;32m/usr/local/lib/python3.10/dist-packages/pandas/_libs/lib.pyx\u001b[0m in \u001b[0;36mpandas._libs.lib.maybe_convert_numeric\u001b[0;34m()\u001b[0m\n",
            "\u001b[0;31mValueError\u001b[0m: Unable to parse string \" \"",
            "\nDuring handling of the above exception, another exception occurred:\n",
            "\u001b[0;31mValueError\u001b[0m                                Traceback (most recent call last)",
            "\u001b[0;32m<ipython-input-13-abb6be20094d>\u001b[0m in \u001b[0;36m<cell line: 2>\u001b[0;34m()\u001b[0m\n\u001b[1;32m      1\u001b[0m \u001b[0;31m# Let's convert the strings to integer\u001b[0m\u001b[0;34m\u001b[0m\u001b[0;34m\u001b[0m\u001b[0m\n\u001b[0;32m----> 2\u001b[0;31m \u001b[0mpd\u001b[0m\u001b[0;34m.\u001b[0m\u001b[0mto_numeric\u001b[0m\u001b[0;34m(\u001b[0m\u001b[0mdf\u001b[0m\u001b[0;34m[\u001b[0m\u001b[0;34m'TotalCharges'\u001b[0m\u001b[0;34m]\u001b[0m\u001b[0;34m)\u001b[0m\u001b[0;34m\u001b[0m\u001b[0;34m\u001b[0m\u001b[0m\n\u001b[0m\u001b[1;32m      3\u001b[0m \u001b[0;31m# error 😭 because some values have space in them\u001b[0m\u001b[0;34m\u001b[0m\u001b[0;34m\u001b[0m\u001b[0m\n",
            "\u001b[0;32m/usr/local/lib/python3.10/dist-packages/pandas/core/tools/numeric.py\u001b[0m in \u001b[0;36mto_numeric\u001b[0;34m(arg, errors, downcast)\u001b[0m\n\u001b[1;32m    183\u001b[0m         \u001b[0mcoerce_numeric\u001b[0m \u001b[0;34m=\u001b[0m \u001b[0merrors\u001b[0m \u001b[0;32mnot\u001b[0m \u001b[0;32min\u001b[0m \u001b[0;34m(\u001b[0m\u001b[0;34m\"ignore\"\u001b[0m\u001b[0;34m,\u001b[0m \u001b[0;34m\"raise\"\u001b[0m\u001b[0;34m)\u001b[0m\u001b[0;34m\u001b[0m\u001b[0;34m\u001b[0m\u001b[0m\n\u001b[1;32m    184\u001b[0m         \u001b[0;32mtry\u001b[0m\u001b[0;34m:\u001b[0m\u001b[0;34m\u001b[0m\u001b[0;34m\u001b[0m\u001b[0m\n\u001b[0;32m--> 185\u001b[0;31m             values, _ = lib.maybe_convert_numeric(\n\u001b[0m\u001b[1;32m    186\u001b[0m                 \u001b[0mvalues\u001b[0m\u001b[0;34m,\u001b[0m \u001b[0mset\u001b[0m\u001b[0;34m(\u001b[0m\u001b[0;34m)\u001b[0m\u001b[0;34m,\u001b[0m \u001b[0mcoerce_numeric\u001b[0m\u001b[0;34m=\u001b[0m\u001b[0mcoerce_numeric\u001b[0m\u001b[0;34m\u001b[0m\u001b[0;34m\u001b[0m\u001b[0m\n\u001b[1;32m    187\u001b[0m             )\n",
            "\u001b[0;32m/usr/local/lib/python3.10/dist-packages/pandas/_libs/lib.pyx\u001b[0m in \u001b[0;36mpandas._libs.lib.maybe_convert_numeric\u001b[0;34m()\u001b[0m\n",
            "\u001b[0;31mValueError\u001b[0m: Unable to parse string \" \" at position 488"
          ]
        }
      ],
      "source": [
        "# Let's convert the strings to integer\n",
        "pd.to_numeric(df['TotalCharges']) \n",
        "# error 😭 because some values have space in them"
      ]
    },
    {
      "cell_type": "code",
      "execution_count": 14,
      "metadata": {
        "colab": {
          "base_uri": "https://localhost:8080/"
        },
        "id": "7w4Kq3hiopv-",
        "outputId": "3556fb2d-45c2-4243-d8d3-d2e5f011b389"
      },
      "outputs": [
        {
          "data": {
            "text/plain": [
              "0         29.85\n",
              "1       1889.50\n",
              "2        108.15\n",
              "3       1840.75\n",
              "4        151.65\n",
              "         ...   \n",
              "7038    1990.50\n",
              "7039    7362.90\n",
              "7040     346.45\n",
              "7041     306.60\n",
              "7042    6844.50\n",
              "Name: TotalCharges, Length: 7043, dtype: float64"
            ]
          },
          "execution_count": 14,
          "metadata": {},
          "output_type": "execute_result"
        }
      ],
      "source": [
        "pd.to_numeric(df['TotalCharges'],errors='coerce') \n",
        "# telling it to ignore error and convert the value,\n",
        "# where-ever sapce is encountered filling null"
      ]
    },
    {
      "cell_type": "code",
      "execution_count": 15,
      "metadata": {
        "colab": {
          "base_uri": "https://localhost:8080/"
        },
        "id": "ZTMC4LnbosUb",
        "outputId": "f3ba6e29-a45d-4d28-8881-a76e547726ed"
      },
      "outputs": [
        {
          "data": {
            "text/plain": [
              "(11, 20)"
            ]
          },
          "execution_count": 15,
          "metadata": {},
          "output_type": "execute_result"
        }
      ],
      "source": [
        "df[pd.to_numeric(df['TotalCharges'],errors='coerce').isnull()].shape"
      ]
    },
    {
      "cell_type": "code",
      "execution_count": 16,
      "metadata": {
        "colab": {
          "base_uri": "https://localhost:8080/"
        },
        "id": "BIzWl9uhoxrr",
        "outputId": "1bf4a043-0837-43b0-f803-7ebceda41e63"
      },
      "outputs": [
        {
          "data": {
            "text/plain": [
              "(7043, 20)"
            ]
          },
          "execution_count": 16,
          "metadata": {},
          "output_type": "execute_result"
        }
      ],
      "source": [
        "df.shape\n",
        "# 11/7043 -> 0.15 % data so we can drop it😁"
      ]
    },
    {
      "cell_type": "code",
      "execution_count": 17,
      "metadata": {
        "id": "0Sf3d0ACoyHe"
      },
      "outputs": [],
      "source": [
        "df_new = df[df['TotalCharges'] != ' ']"
      ]
    },
    {
      "cell_type": "code",
      "execution_count": 18,
      "metadata": {
        "colab": {
          "base_uri": "https://localhost:8080/"
        },
        "id": "pFJ1RRUYo0d7",
        "outputId": "42ce5a1b-8275-4488-8850-fe014d0e77c7"
      },
      "outputs": [
        {
          "data": {
            "text/plain": [
              "(7032, 20)"
            ]
          },
          "execution_count": 18,
          "metadata": {},
          "output_type": "execute_result"
        }
      ],
      "source": [
        "df_new.shape"
      ]
    },
    {
      "cell_type": "code",
      "execution_count": 19,
      "metadata": {
        "colab": {
          "base_uri": "https://localhost:8080/"
        },
        "id": "TbcuqBV6o2re",
        "outputId": "3464a8e0-9a17-43fe-fc32-bdb2a85e4f7c"
      },
      "outputs": [
        {
          "name": "stderr",
          "output_type": "stream",
          "text": [
            "<ipython-input-19-73f08b2eadeb>:1: SettingWithCopyWarning: \n",
            "A value is trying to be set on a copy of a slice from a DataFrame.\n",
            "Try using .loc[row_indexer,col_indexer] = value instead\n",
            "\n",
            "See the caveats in the documentation: https://pandas.pydata.org/pandas-docs/stable/user_guide/indexing.html#returning-a-view-versus-a-copy\n",
            "  df_new['TotalCharges'] = pd.to_numeric(df_new['TotalCharges'])\n"
          ]
        }
      ],
      "source": [
        "df_new['TotalCharges'] = pd.to_numeric(df_new['TotalCharges'])"
      ]
    },
    {
      "cell_type": "markdown",
      "metadata": {
        "id": "I219Ogq6o9YL"
      },
      "source": [
        "<h3>\n",
        "Here we can roughly observe that the customer with slightly high tenure are not churning, i.e. not turning away from us...\n",
        "stay a little longer with me🐶\n",
        "</h3>\n"
      ]
    },
    {
      "cell_type": "code",
      "execution_count": 20,
      "metadata": {
        "colab": {
          "base_uri": "https://localhost:8080/",
          "height": 487
        },
        "id": "cmLT2iulpAd2",
        "outputId": "585a3631-1052-4220-b9eb-babe1bb37865"
      },
      "outputs": [
        {
          "data": {
            "image/png": "[encoded data removed]",
            "text/plain": [
              "<Figure size 1000x500 with 1 Axes>"
            ]
          },
          "metadata": {},
          "output_type": "display_data"
        }
      ],
      "source": [
        "fig = plt.figure(figsize=(10,5))\n",
        "plt.hist([df_new[df_new['Churn']=='No'].tenure, df_new[df_new['Churn']=='Yes'].tenure], color = ['green','orange'], label = ['Churn-> NO', 'Churn-> Yes ']);\n",
        "plt.xlabel('Tenure')\n",
        "plt.ylabel('Number Of Customers')\n",
        "plt.title('No Churn VS Churn')\n",
        "plt.legend();\n",
        "# orange -> customer leaves\n",
        "# green -> customer stays"
      ]
    },
    {
      "cell_type": "code",
      "execution_count": 21,
      "metadata": {
        "id": "XSgfEoc1pNP2"
      },
      "outputs": [],
      "source": [
        "fig.savefig('no_churn_VS_churn_tenure_hist.png')"
      ]
    },
    {
      "cell_type": "code",
      "execution_count": 22,
      "metadata": {
        "id": "6cxHz6QWpTUA"
      },
      "outputs": [],
      "source": [
        "# Doing as above for monthly charges\n",
        "churn_no = df_new[df_new['Churn'] == 'No']\n",
        "churn_yes = df_new[df_new['Churn'] == 'Yes']\n",
        "churn_no = churn_no['MonthlyCharges']\n",
        "churn_yes = churn_yes['MonthlyCharges']"
      ]
    },
    {
      "cell_type": "code",
      "execution_count": 24,
      "metadata": {
        "colab": {
          "base_uri": "https://localhost:8080/",
          "height": 487
        },
        "id": "1Kc23v-lpZ26",
        "outputId": "311a99b1-1614-4933-f4bb-5329ac937671"
      },
      "outputs": [
        {
          "data": {
            "image/png": "[encoded data removed]",
            "text/plain": [
              "<Figure size 1000x500 with 1 Axes>"
            ]
          },
          "metadata": {},
          "output_type": "display_data"
        }
      ],
      "source": [
        "fig2 = plt.figure(figsize = (10,5))\n",
        "plt.hist([churn_no,churn_yes],color=['green','orange'],label = ['Churn-> NO', 'Churn-> Yes ']);\n",
        "plt.xlabel('Monthly Charges')\n",
        "plt.ylabel('Number Of Customers')\n",
        "plt.title('No Churn VS Churn')\n",
        "plt.legend();\n",
        "fig2.savefig('Monthly_churn_rate.png')"
      ]
    },
    {
      "cell_type": "code",
      "execution_count": 25,
      "metadata": {
        "colab": {
          "base_uri": "https://localhost:8080/"
        },
        "id": "6Db9uI_npaZa",
        "outputId": "20053144-68df-48a3-aa95-e02d485c21d4"
      },
      "outputs": [
        {
          "name": "stdout",
          "output_type": "stream",
          "text": [
            "gender => ['Female' 'Male']\n",
            "SeniorCitizen => [0 1]\n",
            "Partner => ['Yes' 'No']\n",
            "Dependents => ['No' 'Yes']\n",
            "tenure => [ 1 34  2 45  8 22 10 28 62 13 16 58 49 25 69 52 71 21 12 30 47 72 17 27\n",
            "  5 46 11 70 63 43 15 60 18 66  9  3 31 50 64 56  7 42 35 48 29 65 38 68\n",
            " 32 55 37 36 41  6  4 33 67 23 57 61 14 20 53 40 59 24 44 19 54 51 26 39]\n",
            "PhoneService => ['No' 'Yes']\n",
            "MultipleLines => ['No phone service' 'No' 'Yes']\n",
            "InternetService => ['DSL' 'Fiber optic' 'No']\n",
            "OnlineSecurity => ['No' 'Yes' 'No internet service']\n",
            "OnlineBackup => ['Yes' 'No' 'No internet service']\n",
            "DeviceProtection => ['No' 'Yes' 'No internet service']\n",
            "TechSupport => ['No' 'Yes' 'No internet service']\n",
            "StreamingTV => ['No' 'Yes' 'No internet service']\n",
            "StreamingMovies => ['No' 'Yes' 'No internet service']\n",
            "Contract => ['Month-to-month' 'One year' 'Two year']\n",
            "PaperlessBilling => ['Yes' 'No']\n",
            "PaymentMethod => ['Electronic check' 'Mailed check' 'Bank transfer (automatic)'\n",
            " 'Credit card (automatic)']\n",
            "MonthlyCharges => [29.85 56.95 53.85 ... 63.1  44.2  78.7 ]\n",
            "TotalCharges => [  29.85 1889.5   108.15 ...  346.45  306.6  6844.5 ]\n",
            "Churn => ['No' 'Yes']\n"
          ]
        }
      ],
      "source": [
        "for col in df_new.columns:\n",
        "  print(f'{col} => {df_new[col].unique()}')"
      ]
    },
    {
      "cell_type": "code",
      "execution_count": 26,
      "metadata": {
        "colab": {
          "base_uri": "https://localhost:8080/"
        },
        "id": "7PjJL7VHpheF",
        "outputId": "18b925d9-eb74-4fa0-8a79-62b5e2f24ce5"
      },
      "outputs": [
        {
          "name": "stderr",
          "output_type": "stream",
          "text": [
            "<ipython-input-26-59e8d9062f78>:3: SettingWithCopyWarning: \n",
            "A value is trying to be set on a copy of a slice from a DataFrame\n",
            "\n",
            "See the caveats in the documentation: https://pandas.pydata.org/pandas-docs/stable/user_guide/indexing.html#returning-a-view-versus-a-copy\n",
            "  df_new.replace('No internet service','No',inplace=True)\n",
            "<ipython-input-26-59e8d9062f78>:4: SettingWithCopyWarning: \n",
            "A value is trying to be set on a copy of a slice from a DataFrame\n",
            "\n",
            "See the caveats in the documentation: https://pandas.pydata.org/pandas-docs/stable/user_guide/indexing.html#returning-a-view-versus-a-copy\n",
            "  df_new.replace('No phone service','No',inplace=True)\n"
          ]
        }
      ],
      "source": [
        "# here we can observe that in some place there is 'No .... Service'\n",
        "# so we will replace it with 'NO'\n",
        "df_new.replace('No internet service','No',inplace=True)\n",
        "df_new.replace('No phone service','No',inplace=True)"
      ]
    },
    {
      "cell_type": "code",
      "execution_count": 27,
      "metadata": {
        "colab": {
          "base_uri": "https://localhost:8080/"
        },
        "id": "cDiHXijUpmkQ",
        "outputId": "a0f58a3c-0b89-403a-c012-7109e812b3cf"
      },
      "outputs": [
        {
          "name": "stdout",
          "output_type": "stream",
          "text": [
            "gender => ['Female' 'Male']\n",
            "SeniorCitizen => [0 1]\n",
            "Partner => ['Yes' 'No']\n",
            "Dependents => ['No' 'Yes']\n",
            "tenure => [ 1 34  2 45  8 22 10 28 62 13 16 58 49 25 69 52 71 21 12 30 47 72 17 27\n",
            "  5 46 11 70 63 43 15 60 18 66  9  3 31 50 64 56  7 42 35 48 29 65 38 68\n",
            " 32 55 37 36 41  6  4 33 67 23 57 61 14 20 53 40 59 24 44 19 54 51 26 39]\n",
            "PhoneService => ['No' 'Yes']\n",
            "MultipleLines => ['No' 'Yes']\n",
            "InternetService => ['DSL' 'Fiber optic' 'No']\n",
            "OnlineSecurity => ['No' 'Yes']\n",
            "OnlineBackup => ['Yes' 'No']\n",
            "DeviceProtection => ['No' 'Yes']\n",
            "TechSupport => ['No' 'Yes']\n",
            "StreamingTV => ['No' 'Yes']\n",
            "StreamingMovies => ['No' 'Yes']\n",
            "Contract => ['Month-to-month' 'One year' 'Two year']\n",
            "PaperlessBilling => ['Yes' 'No']\n",
            "PaymentMethod => ['Electronic check' 'Mailed check' 'Bank transfer (automatic)'\n",
            " 'Credit card (automatic)']\n",
            "MonthlyCharges => [29.85 56.95 53.85 ... 63.1  44.2  78.7 ]\n",
            "TotalCharges => [  29.85 1889.5   108.15 ...  346.45  306.6  6844.5 ]\n",
            "Churn => ['No' 'Yes']\n"
          ]
        }
      ],
      "source": [
        "for col in df_new.columns:\n",
        "  print(f'{col} => {df_new[col].unique()}')"
      ]
    },
    {
      "cell_type": "code",
      "execution_count": 29,
      "metadata": {
        "colab": {
          "base_uri": "https://localhost:8080/"
        },
        "id": "VWRkBNNYprm_",
        "outputId": "9f394131-e55a-4cd7-c6e4-78b7c5082c06"
      },
      "outputs": [
        {
          "name": "stderr",
          "output_type": "stream",
          "text": [
            "<ipython-input-29-474e4bde8dc7>:1: SettingWithCopyWarning: \n",
            "A value is trying to be set on a copy of a slice from a DataFrame\n",
            "\n",
            "See the caveats in the documentation: https://pandas.pydata.org/pandas-docs/stable/user_guide/indexing.html#returning-a-view-versus-a-copy\n",
            "  df_new.replace({'Yes':1,'No':0},inplace=True)\n",
            "<ipython-input-29-474e4bde8dc7>:3: SettingWithCopyWarning: \n",
            "A value is trying to be set on a copy of a slice from a DataFrame\n",
            "\n",
            "See the caveats in the documentation: https://pandas.pydata.org/pandas-docs/stable/user_guide/indexing.html#returning-a-view-versus-a-copy\n",
            "  df_new['InternetService'].replace(0,'No',inplace = True)\n",
            "<ipython-input-29-474e4bde8dc7>:4: SettingWithCopyWarning: \n",
            "A value is trying to be set on a copy of a slice from a DataFrame\n",
            "\n",
            "See the caveats in the documentation: https://pandas.pydata.org/pandas-docs/stable/user_guide/indexing.html#returning-a-view-versus-a-copy\n",
            "  df_new.replace({'Male':1,'Female':0},inplace=True)\n"
          ]
        }
      ],
      "source": [
        "df_new.replace({'Yes':1,'No':0},inplace=True)\n",
        "# Replacing yes with one and no with zero\n",
        "df_new['InternetService'].replace(0,'No',inplace = True)\n",
        "df_new.replace({'Male':1,'Female':0},inplace=True)"
      ]
    },
    {
      "cell_type": "code",
      "execution_count": 30,
      "metadata": {
        "id": "g7c9hbs4pzbL"
      },
      "outputs": [],
      "source": [
        "# df2 = pd.get_dummies(data=df_new, columns = ['InternetService','Contract','PaymentMethod'],drop_first=True)\n",
        "df2 = pd.get_dummies(data=df_new, columns = ['InternetService','Contract','PaymentMethod'])"
      ]
    },
    {
      "cell_type": "code",
      "execution_count": 31,
      "metadata": {
        "colab": {
          "base_uri": "https://localhost:8080/"
        },
        "id": "sHM4D09GqBJq",
        "outputId": "3bb1b25d-52f4-4b5a-b6a8-e71d4cbac3c4"
      },
      "outputs": [
        {
          "data": {
            "text/plain": [
              "gender                                       int64\n",
              "SeniorCitizen                                int64\n",
              "Partner                                      int64\n",
              "Dependents                                   int64\n",
              "tenure                                       int64\n",
              "PhoneService                                 int64\n",
              "MultipleLines                                int64\n",
              "OnlineSecurity                               int64\n",
              "OnlineBackup                                 int64\n",
              "DeviceProtection                             int64\n",
              "TechSupport                                  int64\n",
              "StreamingTV                                  int64\n",
              "StreamingMovies                              int64\n",
              "PaperlessBilling                             int64\n",
              "MonthlyCharges                             float64\n",
              "TotalCharges                               float64\n",
              "Churn                                        int64\n",
              "InternetService_DSL                          uint8\n",
              "InternetService_Fiber optic                  uint8\n",
              "InternetService_No                           uint8\n",
              "Contract_Month-to-month                      uint8\n",
              "Contract_One year                            uint8\n",
              "Contract_Two year                            uint8\n",
              "PaymentMethod_Bank transfer (automatic)      uint8\n",
              "PaymentMethod_Credit card (automatic)        uint8\n",
              "PaymentMethod_Electronic check               uint8\n",
              "PaymentMethod_Mailed check                   uint8\n",
              "dtype: object"
            ]
          },
          "execution_count": 31,
          "metadata": {},
          "output_type": "execute_result"
        }
      ],
      "source": [
        "df2.dtypes"
      ]
    },
    {
      "cell_type": "code",
      "execution_count": 32,
      "metadata": {
        "colab": {
          "base_uri": "https://localhost:8080/",
          "height": 208
        },
        "id": "ALFR5pK5qERb",
        "outputId": "14c1768c-f108-4706-b86b-c75db60f65f7"
      },
      "outputs": [
        {
          "data": {
            "text/html": [
              "\n",
              "  <div id=\"df-c7d77d3a-5c23-4c3d-a5c7-708d02f59360\">\n",
              "    <div class=\"colab-df-container\">\n",
              "      <div>\n",
              "<style scoped>\n",
              "    .dataframe tbody tr th:only-of-type {\n",
              "        vertical-align: middle;\n",
              "    }\n",
              "\n",
              "    .dataframe tbody tr th {\n",
              "        vertical-align: top;\n",
              "    }\n",
              "\n",
              "    .dataframe thead th {\n",
              "        text-align: right;\n",
              "    }\n",
              "</style>\n",
              "<table border=\"1\" class=\"dataframe\">\n",
              "  <thead>\n",
              "    <tr style=\"text-align: right;\">\n",
              "      <th></th>\n",
              "      <th>gender</th>\n",
              "      <th>SeniorCitizen</th>\n",
              "      <th>Partner</th>\n",
              "      <th>Dependents</th>\n",
              "      <th>tenure</th>\n",
              "      <th>PhoneService</th>\n",
              "      <th>MultipleLines</th>\n",
              "      <th>OnlineSecurity</th>\n",
              "      <th>OnlineBackup</th>\n",
              "      <th>DeviceProtection</th>\n",
              "      <th>...</th>\n",
              "      <th>InternetService_DSL</th>\n",
              "      <th>InternetService_Fiber optic</th>\n",
              "      <th>InternetService_No</th>\n",
              "      <th>Contract_Month-to-month</th>\n",
              "      <th>Contract_One year</th>\n",
              "      <th>Contract_Two year</th>\n",
              "      <th>PaymentMethod_Bank transfer (automatic)</th>\n",
              "      <th>PaymentMethod_Credit card (automatic)</th>\n",
              "      <th>PaymentMethod_Electronic check</th>\n",
              "      <th>PaymentMethod_Mailed check</th>\n",
              "    </tr>\n",
              "  </thead>\n",
              "  <tbody>\n",
              "    <tr>\n",
              "      <th>5368</th>\n",
              "      <td>0</td>\n",
              "      <td>1</td>\n",
              "      <td>0</td>\n",
              "      <td>0</td>\n",
              "      <td>3</td>\n",
              "      <td>1</td>\n",
              "      <td>0</td>\n",
              "      <td>0</td>\n",
              "      <td>0</td>\n",
              "      <td>0</td>\n",
              "      <td>...</td>\n",
              "      <td>0</td>\n",
              "      <td>1</td>\n",
              "      <td>0</td>\n",
              "      <td>1</td>\n",
              "      <td>0</td>\n",
              "      <td>0</td>\n",
              "      <td>0</td>\n",
              "      <td>0</td>\n",
              "      <td>1</td>\n",
              "      <td>0</td>\n",
              "    </tr>\n",
              "  </tbody>\n",
              "</table>\n",
              "<p>1 rows × 27 columns</p>\n",
              "</div>\n",
              "      <button class=\"colab-df-convert\" onclick=\"convertToInteractive('df-c7d77d3a-5c23-4c3d-a5c7-708d02f59360')\"\n",
              "              title=\"Convert this dataframe to an interactive table.\"\n",
              "              style=\"display:none;\">\n",
              "        \n",
              "  <svg xmlns=\"http://www.w3.org/2000/svg\" height=\"24px\"viewBox=\"0 0 24 24\"\n",
              "       width=\"24px\">\n",
              "    <path d=\"M0 0h24v24H0V0z\" fill=\"none\"/>\n",
              "    <path d=\"M18.56 5.44l.94 2.06.94-2.06 2.06-.94-2.06-.94-.94-2.06-.94 2.06-2.06.94zm-11 1L8.5 8.5l.94-2.06 2.06-.94-2.06-.94L8.5 2.5l-.94 2.06-2.06.94zm10 10l.94 2.06.94-2.06 2.06-.94-2.06-.94-.94-2.06-.94 2.06-2.06.94z\"/><path d=\"M17.41 7.96l-1.37-1.37c-.4-.4-.92-.59-1.43-.59-.52 0-1.04.2-1.43.59L10.3 9.45l-7.72 7.72c-.78.78-.78 2.05 0 2.83L4 21.41c.39.39.9.59 1.41.59.51 0 1.02-.2 1.41-.59l7.78-7.78 2.81-2.81c.8-.78.8-2.07 0-2.86zM5.41 20L4 18.59l7.72-7.72 1.47 1.35L5.41 20z\"/>\n",
              "  </svg>\n",
              "      </button>\n",
              "      \n",
              "  <style>\n",
              "    .colab-df-container {\n",
              "      display:flex;\n",
              "      flex-wrap:wrap;\n",
              "      gap: 12px;\n",
              "    }\n",
              "\n",
              "    .colab-df-convert {\n",
              "      background-color: #E8F0FE;\n",
              "      border: none;\n",
              "      border-radius: 50%;\n",
              "      cursor: pointer;\n",
              "      display: none;\n",
              "      fill: #1967D2;\n",
              "      height: 32px;\n",
              "      padding: 0 0 0 0;\n",
              "      width: 32px;\n",
              "    }\n",
              "\n",
              "    .colab-df-convert:hover {\n",
              "      background-color: #E2EBFA;\n",
              "      box-shadow: 0px 1px 2px rgba(60, 64, 67, 0.3), 0px 1px 3px 1px rgba(60, 64, 67, 0.15);\n",
              "      fill: #174EA6;\n",
              "    }\n",
              "\n",
              "    [theme=dark] .colab-df-convert {\n",
              "      background-color: #3B4455;\n",
              "      fill: #D2E3FC;\n",
              "    }\n",
              "\n",
              "    [theme=dark] .colab-df-convert:hover {\n",
              "      background-color: #434B5C;\n",
              "      box-shadow: 0px 1px 3px 1px rgba(0, 0, 0, 0.15);\n",
              "      filter: drop-shadow(0px 1px 2px rgba(0, 0, 0, 0.3));\n",
              "      fill: #FFFFFF;\n",
              "    }\n",
              "  </style>\n",
              "\n",
              "      <script>\n",
              "        const buttonEl =\n",
              "          document.querySelector('#df-c7d77d3a-5c23-4c3d-a5c7-708d02f59360 button.colab-df-convert');\n",
              "        buttonEl.style.display =\n",
              "          google.colab.kernel.accessAllowed ? 'block' : 'none';\n",
              "\n",
              "        async function convertToInteractive(key) {\n",
              "          const element = document.querySelector('#df-c7d77d3a-5c23-4c3d-a5c7-708d02f59360');\n",
              "          const dataTable =\n",
              "            await google.colab.kernel.invokeFunction('convertToInteractive',\n",
              "                                                     [key], {});\n",
              "          if (!dataTable) return;\n",
              "\n",
              "          const docLinkHtml = 'Like what you see? Visit the ' +\n",
              "            '<a target=\"_blank\" href=https://colab.research.google.com/notebooks/data_table.ipynb>data table notebook</a>'\n",
              "            + ' to learn more about interactive tables.';\n",
              "          element.innerHTML = '';\n",
              "          dataTable['output_type'] = 'display_data';\n",
              "          await google.colab.output.renderOutput(dataTable, element);\n",
              "          const docLink = document.createElement('div');\n",
              "          docLink.innerHTML = docLinkHtml;\n",
              "          element.appendChild(docLink);\n",
              "        }\n",
              "      </script>\n",
              "    </div>\n",
              "  </div>\n",
              "  "
            ],
            "text/plain": [
              "      gender  SeniorCitizen  Partner  Dependents  tenure  PhoneService  \\\n",
              "5368       0              1        0           0       3             1   \n",
              "\n",
              "      MultipleLines  OnlineSecurity  OnlineBackup  DeviceProtection  ...  \\\n",
              "5368              0               0             0                 0  ...   \n",
              "\n",
              "      InternetService_DSL  InternetService_Fiber optic  InternetService_No  \\\n",
              "5368                    0                            1                   0   \n",
              "\n",
              "      Contract_Month-to-month  Contract_One year  Contract_Two year  \\\n",
              "5368                        1                  0                  0   \n",
              "\n",
              "      PaymentMethod_Bank transfer (automatic)  \\\n",
              "5368                                        0   \n",
              "\n",
              "      PaymentMethod_Credit card (automatic)  PaymentMethod_Electronic check  \\\n",
              "5368                                      0                               1   \n",
              "\n",
              "      PaymentMethod_Mailed check  \n",
              "5368                           0  \n",
              "\n",
              "[1 rows x 27 columns]"
            ]
          },
          "execution_count": 32,
          "metadata": {},
          "output_type": "execute_result"
        }
      ],
      "source": [
        "df2.sample(1)"
      ]
    },
    {
      "cell_type": "code",
      "execution_count": 33,
      "metadata": {
        "id": "2qIlhe7wqGP1"
      },
      "outputs": [],
      "source": [
        "X = df2.drop('Churn',axis = 'columns')\n",
        "y = df2['Churn']"
      ]
    },
    {
      "cell_type": "code",
      "execution_count": 34,
      "metadata": {
        "id": "fNff5E9XqI62"
      },
      "outputs": [],
      "source": [
        "X_train,X_test,y_train,y_test = tts(X,y,test_size=0.25,stratify = y, random_state = 0)"
      ]
    },
    {
      "cell_type": "code",
      "execution_count": 94,
      "metadata": {
        "id": "RhRufLEoqY-i"
      },
      "outputs": [],
      "source": [
        "def create_model(x):\n",
        "  model = keras.Sequential()\n",
        "  model.add(keras.layers.Dense(len(x.columns), input_shape=(26,), activation='relu'))\n",
        "  model.add(keras.layers.Dense(10,activation = 'relu'))\n",
        "  model.add(keras.layers.Dense(5,activation = 'relu'))\n",
        "  model.add(keras.layers.Dense(1,activation = 'sigmoid'))\n",
        "\n",
        "  model.compile(optimizer = 'adam', loss = 'binary_crossentropy', metrics = ['accuracy'])\n",
        "\n",
        "  return model\n",
        "\n",
        "def conv_to_bin(l):\n",
        "  return [ 1 if i > 0.5 else 0 for i in l]"
      ]
    },
    {
      "cell_type": "code",
      "execution_count": 90,
      "metadata": {
        "colab": {
          "base_uri": "https://localhost:8080/"
        },
        "id": "IEx6JaQZqh1a",
        "outputId": "027ec2da-abc2-411d-91f6-038c27d0ce74"
      },
      "outputs": [
        {
          "name": "stdout",
          "output_type": "stream",
          "text": [
            "Epoch 1/100\n",
            "165/165 [==============================] - 1s 1ms/step - loss: 3.3931 - accuracy: 0.6883\n",
            "Epoch 2/100\n",
            "165/165 [==============================] - 0s 1ms/step - loss: 1.2030 - accuracy: 0.7376\n",
            "Epoch 3/100\n",
            "165/165 [==============================] - 0s 1ms/step - loss: 2.0183 - accuracy: 0.7323\n",
            "Epoch 4/100\n",
            "165/165 [==============================] - 0s 1ms/step - loss: 1.1960 - accuracy: 0.7484\n",
            "Epoch 5/100\n",
            "165/165 [==============================] - 0s 1ms/step - loss: 1.1676 - accuracy: 0.7516\n",
            "Epoch 6/100\n",
            "165/165 [==============================] - 0s 2ms/step - loss: 1.0586 - accuracy: 0.7552\n",
            "Epoch 7/100\n",
            "165/165 [==============================] - 0s 2ms/step - loss: 1.7565 - accuracy: 0.7387\n",
            "Epoch 8/100\n",
            "165/165 [==============================] - 0s 2ms/step - loss: 1.0487 - accuracy: 0.7600\n",
            "Epoch 9/100\n",
            "165/165 [==============================] - 0s 2ms/step - loss: 1.5624 - accuracy: 0.7459\n",
            "Epoch 10/100\n",
            "165/165 [==============================] - 0s 2ms/step - loss: 1.1351 - accuracy: 0.7637\n",
            "Epoch 11/100\n",
            "165/165 [==============================] - 0s 2ms/step - loss: 1.5975 - accuracy: 0.7457\n",
            "Epoch 12/100\n",
            "165/165 [==============================] - 0s 1ms/step - loss: 1.7537 - accuracy: 0.7455\n",
            "Epoch 13/100\n",
            "165/165 [==============================] - 0s 1ms/step - loss: 1.0282 - accuracy: 0.7567\n",
            "Epoch 14/100\n",
            "165/165 [==============================] - 0s 1ms/step - loss: 1.3653 - accuracy: 0.7527\n",
            "Epoch 15/100\n",
            "165/165 [==============================] - 0s 1ms/step - loss: 0.9849 - accuracy: 0.7573\n",
            "Epoch 16/100\n",
            "165/165 [==============================] - 0s 1ms/step - loss: 1.1124 - accuracy: 0.7670\n",
            "Epoch 17/100\n",
            "165/165 [==============================] - 0s 1ms/step - loss: 0.9749 - accuracy: 0.7620\n",
            "Epoch 18/100\n",
            "165/165 [==============================] - 0s 1ms/step - loss: 1.1290 - accuracy: 0.7596\n",
            "Epoch 19/100\n",
            "165/165 [==============================] - 0s 1ms/step - loss: 1.5105 - accuracy: 0.7516\n",
            "Epoch 20/100\n",
            "165/165 [==============================] - 0s 1ms/step - loss: 1.1454 - accuracy: 0.7611\n",
            "Epoch 21/100\n",
            "165/165 [==============================] - 0s 1ms/step - loss: 1.1206 - accuracy: 0.7603\n",
            "Epoch 22/100\n",
            "165/165 [==============================] - 0s 1ms/step - loss: 1.0745 - accuracy: 0.7590\n",
            "Epoch 23/100\n",
            "165/165 [==============================] - 0s 1ms/step - loss: 0.9542 - accuracy: 0.7600\n",
            "Epoch 24/100\n",
            "165/165 [==============================] - 0s 1ms/step - loss: 0.9391 - accuracy: 0.7670\n",
            "Epoch 25/100\n",
            "165/165 [==============================] - 0s 1ms/step - loss: 1.1183 - accuracy: 0.7584\n",
            "Epoch 26/100\n",
            "165/165 [==============================] - 0s 1ms/step - loss: 1.3738 - accuracy: 0.7510\n",
            "Epoch 27/100\n",
            "165/165 [==============================] - 0s 1ms/step - loss: 0.7450 - accuracy: 0.7727\n",
            "Epoch 28/100\n",
            "165/165 [==============================] - 0s 1ms/step - loss: 0.7491 - accuracy: 0.7736\n",
            "Epoch 29/100\n",
            "165/165 [==============================] - 0s 1ms/step - loss: 1.5537 - accuracy: 0.7512\n",
            "Epoch 30/100\n",
            "165/165 [==============================] - 0s 1ms/step - loss: 1.1386 - accuracy: 0.7558\n",
            "Epoch 31/100\n",
            "165/165 [==============================] - 0s 1ms/step - loss: 1.0408 - accuracy: 0.7579\n",
            "Epoch 32/100\n",
            "165/165 [==============================] - 0s 1ms/step - loss: 0.8564 - accuracy: 0.7687\n",
            "Epoch 33/100\n",
            "165/165 [==============================] - 0s 1ms/step - loss: 1.0083 - accuracy: 0.7637\n",
            "Epoch 34/100\n",
            "165/165 [==============================] - 0s 1ms/step - loss: 0.9185 - accuracy: 0.7694\n",
            "Epoch 35/100\n",
            "165/165 [==============================] - 0s 1ms/step - loss: 1.6925 - accuracy: 0.7410\n",
            "Epoch 36/100\n",
            "165/165 [==============================] - 0s 1ms/step - loss: 0.6953 - accuracy: 0.7685\n",
            "Epoch 37/100\n",
            "165/165 [==============================] - 0s 1ms/step - loss: 1.0090 - accuracy: 0.7611\n",
            "Epoch 38/100\n",
            "165/165 [==============================] - 0s 1ms/step - loss: 0.7130 - accuracy: 0.7700\n",
            "Epoch 39/100\n",
            "165/165 [==============================] - 0s 1ms/step - loss: 0.6486 - accuracy: 0.7717\n",
            "Epoch 40/100\n",
            "165/165 [==============================] - 0s 1ms/step - loss: 0.6601 - accuracy: 0.7776\n",
            "Epoch 41/100\n",
            "165/165 [==============================] - 0s 1ms/step - loss: 1.1284 - accuracy: 0.7603\n",
            "Epoch 42/100\n",
            "165/165 [==============================] - 0s 1ms/step - loss: 1.2037 - accuracy: 0.7571\n",
            "Epoch 43/100\n",
            "165/165 [==============================] - 0s 1ms/step - loss: 1.2043 - accuracy: 0.7510\n",
            "Epoch 44/100\n",
            "165/165 [==============================] - 0s 1ms/step - loss: 0.9114 - accuracy: 0.7656\n",
            "Epoch 45/100\n",
            "165/165 [==============================] - 0s 1ms/step - loss: 0.8936 - accuracy: 0.7692\n",
            "Epoch 46/100\n",
            "165/165 [==============================] - 0s 1ms/step - loss: 0.8994 - accuracy: 0.7626\n",
            "Epoch 47/100\n",
            "165/165 [==============================] - 0s 1ms/step - loss: 1.1239 - accuracy: 0.7582\n",
            "Epoch 48/100\n",
            "165/165 [==============================] - 0s 1ms/step - loss: 0.7384 - accuracy: 0.7681\n",
            "Epoch 49/100\n",
            "165/165 [==============================] - 0s 1ms/step - loss: 1.0242 - accuracy: 0.7600\n",
            "Epoch 50/100\n",
            "165/165 [==============================] - 0s 1ms/step - loss: 0.7943 - accuracy: 0.7759\n",
            "Epoch 51/100\n",
            "165/165 [==============================] - 0s 1ms/step - loss: 0.9720 - accuracy: 0.7636\n",
            "Epoch 52/100\n",
            "165/165 [==============================] - 0s 1ms/step - loss: 1.3633 - accuracy: 0.7509\n",
            "Epoch 53/100\n",
            "165/165 [==============================] - 0s 1ms/step - loss: 0.8012 - accuracy: 0.7643\n",
            "Epoch 54/100\n",
            "165/165 [==============================] - 0s 1ms/step - loss: 0.8187 - accuracy: 0.7713\n",
            "Epoch 55/100\n",
            "165/165 [==============================] - 0s 1ms/step - loss: 0.7368 - accuracy: 0.7704\n",
            "Epoch 56/100\n",
            "165/165 [==============================] - 0s 1ms/step - loss: 0.8074 - accuracy: 0.7738\n",
            "Epoch 57/100\n",
            "165/165 [==============================] - 0s 1ms/step - loss: 0.6525 - accuracy: 0.7785\n",
            "Epoch 58/100\n",
            "165/165 [==============================] - 0s 1ms/step - loss: 0.6741 - accuracy: 0.7774\n",
            "Epoch 59/100\n",
            "165/165 [==============================] - 0s 2ms/step - loss: 0.6930 - accuracy: 0.7747\n",
            "Epoch 60/100\n",
            "165/165 [==============================] - 0s 2ms/step - loss: 0.8167 - accuracy: 0.7626\n",
            "Epoch 61/100\n",
            "165/165 [==============================] - 0s 2ms/step - loss: 0.8147 - accuracy: 0.7734\n",
            "Epoch 62/100\n",
            "165/165 [==============================] - 0s 2ms/step - loss: 0.7413 - accuracy: 0.7691\n",
            "Epoch 63/100\n",
            "165/165 [==============================] - 0s 2ms/step - loss: 0.9194 - accuracy: 0.7632\n",
            "Epoch 64/100\n",
            "165/165 [==============================] - 0s 2ms/step - loss: 0.7205 - accuracy: 0.7710\n",
            "Epoch 65/100\n",
            "165/165 [==============================] - 0s 1ms/step - loss: 1.0884 - accuracy: 0.7620\n",
            "Epoch 66/100\n",
            "165/165 [==============================] - 0s 1ms/step - loss: 0.7524 - accuracy: 0.7738\n",
            "Epoch 67/100\n",
            "165/165 [==============================] - 0s 1ms/step - loss: 0.7000 - accuracy: 0.7723\n",
            "Epoch 68/100\n",
            "165/165 [==============================] - 0s 1ms/step - loss: 0.7427 - accuracy: 0.7647\n",
            "Epoch 69/100\n",
            "165/165 [==============================] - 0s 1ms/step - loss: 0.8842 - accuracy: 0.7687\n",
            "Epoch 70/100\n",
            "165/165 [==============================] - 0s 1ms/step - loss: 0.9149 - accuracy: 0.7620\n",
            "Epoch 71/100\n",
            "165/165 [==============================] - 0s 1ms/step - loss: 0.6351 - accuracy: 0.7774\n",
            "Epoch 72/100\n",
            "165/165 [==============================] - 0s 1ms/step - loss: 0.7463 - accuracy: 0.7732\n",
            "Epoch 73/100\n",
            "165/165 [==============================] - 0s 1ms/step - loss: 0.8877 - accuracy: 0.7666\n",
            "Epoch 74/100\n",
            "165/165 [==============================] - 0s 1ms/step - loss: 0.7245 - accuracy: 0.7744\n",
            "Epoch 75/100\n",
            "165/165 [==============================] - 0s 1ms/step - loss: 0.8695 - accuracy: 0.7628\n",
            "Epoch 76/100\n",
            "165/165 [==============================] - 0s 1ms/step - loss: 1.1379 - accuracy: 0.7514\n",
            "Epoch 77/100\n",
            "165/165 [==============================] - 0s 1ms/step - loss: 1.2720 - accuracy: 0.7490\n",
            "Epoch 78/100\n",
            "165/165 [==============================] - 0s 1ms/step - loss: 0.6540 - accuracy: 0.7791\n",
            "Epoch 79/100\n",
            "165/165 [==============================] - 0s 1ms/step - loss: 0.9620 - accuracy: 0.7619\n",
            "Epoch 80/100\n",
            "165/165 [==============================] - 0s 1ms/step - loss: 0.7390 - accuracy: 0.7730\n",
            "Epoch 81/100\n",
            "165/165 [==============================] - 0s 1ms/step - loss: 0.6125 - accuracy: 0.7793\n",
            "Epoch 82/100\n",
            "165/165 [==============================] - 0s 1ms/step - loss: 0.7678 - accuracy: 0.7662\n",
            "Epoch 83/100\n",
            "165/165 [==============================] - 0s 1ms/step - loss: 0.8287 - accuracy: 0.7692\n",
            "Epoch 84/100\n",
            "165/165 [==============================] - 0s 1ms/step - loss: 0.7175 - accuracy: 0.7759\n",
            "Epoch 85/100\n",
            "165/165 [==============================] - 0s 1ms/step - loss: 0.6195 - accuracy: 0.7791\n",
            "Epoch 86/100\n",
            "165/165 [==============================] - 0s 1ms/step - loss: 0.5991 - accuracy: 0.7801\n",
            "Epoch 87/100\n",
            "165/165 [==============================] - 0s 1ms/step - loss: 0.8336 - accuracy: 0.7622\n",
            "Epoch 88/100\n",
            "165/165 [==============================] - 0s 1ms/step - loss: 0.7436 - accuracy: 0.7672\n",
            "Epoch 89/100\n",
            "165/165 [==============================] - 0s 1ms/step - loss: 0.6303 - accuracy: 0.7730\n",
            "Epoch 90/100\n",
            "165/165 [==============================] - 0s 1ms/step - loss: 0.5861 - accuracy: 0.7723\n",
            "Epoch 91/100\n",
            "165/165 [==============================] - 0s 1ms/step - loss: 0.7284 - accuracy: 0.7683\n",
            "Epoch 92/100\n",
            "165/165 [==============================] - 0s 1ms/step - loss: 0.6304 - accuracy: 0.7780\n",
            "Epoch 93/100\n",
            "165/165 [==============================] - 0s 1ms/step - loss: 0.8153 - accuracy: 0.7687\n",
            "Epoch 94/100\n",
            "165/165 [==============================] - 0s 1ms/step - loss: 0.6961 - accuracy: 0.7691\n",
            "Epoch 95/100\n",
            "165/165 [==============================] - 0s 1ms/step - loss: 0.9025 - accuracy: 0.7634\n",
            "Epoch 96/100\n",
            "165/165 [==============================] - 0s 1ms/step - loss: 0.9003 - accuracy: 0.7666\n",
            "Epoch 97/100\n",
            "165/165 [==============================] - 0s 1ms/step - loss: 0.8425 - accuracy: 0.7630\n",
            "Epoch 98/100\n",
            "165/165 [==============================] - 0s 1ms/step - loss: 0.6728 - accuracy: 0.7797\n",
            "Epoch 99/100\n",
            "165/165 [==============================] - 0s 1ms/step - loss: 0.7978 - accuracy: 0.7672\n",
            "Epoch 100/100\n",
            "165/165 [==============================] - 0s 1ms/step - loss: 0.6700 - accuracy: 0.7759\n"
          ]
        },
        {
          "data": {
            "text/plain": [
              "<keras.callbacks.History at 0x7fbc9b5798d0>"
            ]
          },
          "execution_count": 90,
          "metadata": {},
          "output_type": "execute_result"
        }
      ],
      "source": [
        "model = create_model(X_train)\n",
        "model.fit(X_train,y_train, epochs = 100)"
      ]
    },
    {
      "cell_type": "code",
      "execution_count": 91,
      "metadata": {
        "colab": {
          "base_uri": "https://localhost:8080/"
        },
        "id": "WTNEcOK_rkIb",
        "outputId": "3a86dd73-8f47-4815-a23c-9007b31bdda7"
      },
      "outputs": [
        {
          "name": "stdout",
          "output_type": "stream",
          "text": [
            "55/55 [==============================] - 0s 1ms/step - loss: 0.5586 - accuracy: 0.7969\n"
          ]
        },
        {
          "data": {
            "text/plain": [
              "[0.5586020350456238, 0.796928346157074]"
            ]
          },
          "execution_count": 91,
          "metadata": {},
          "output_type": "execute_result"
        }
      ],
      "source": [
        "model.evaluate(X_test,y_test)"
      ]
    },
    {
      "cell_type": "code",
      "execution_count": 92,
      "metadata": {
        "colab": {
          "base_uri": "https://localhost:8080/"
        },
        "id": "DuZ8bINvr542",
        "outputId": "37f18d1c-524e-497e-e55f-3f737a527644"
      },
      "outputs": [
        {
          "name": "stdout",
          "output_type": "stream",
          "text": [
            "55/55 [==============================] - 0s 839us/step\n"
          ]
        },
        {
          "data": {
            "text/plain": [
              "array([[0.06237733],\n",
              "       [0.5801331 ]], dtype=float32)"
            ]
          },
          "execution_count": 92,
          "metadata": {},
          "output_type": "execute_result"
        }
      ],
      "source": [
        "y_pred = model.predict(X_test)\n",
        "y_pred[:2] # -> non-binary 😑, but y_test is binary"
      ]
    },
    {
      "cell_type": "code",
      "execution_count": 95,
      "metadata": {
        "id": "mWcCQXiHr-Zy"
      },
      "outputs": [],
      "source": [
        "y_pred_bin = conv_to_bin(y_pred)"
      ]
    },
    {
      "cell_type": "code",
      "execution_count": 96,
      "metadata": {
        "colab": {
          "base_uri": "https://localhost:8080/"
        },
        "id": "WnSvbk9nsE9o",
        "outputId": "b263ebb4-c416-4160-f4b8-0a907da24ecf"
      },
      "outputs": [
        {
          "name": "stdout",
          "output_type": "stream",
          "text": [
            "              precision    recall  f1-score   support\n",
            "\n",
            "           0       0.84      0.90      0.87      1291\n",
            "           1       0.65      0.52      0.58       467\n",
            "\n",
            "    accuracy                           0.80      1758\n",
            "   macro avg       0.74      0.71      0.72      1758\n",
            "weighted avg       0.79      0.80      0.79      1758\n",
            "\n"
          ]
        }
      ],
      "source": [
        "print(classification_report(y_test,y_pred_bin)) \n",
        "# use print to get proper formatting"
      ]
    },
    {
      "cell_type": "code",
      "execution_count": 97,
      "metadata": {
        "colab": {
          "base_uri": "https://localhost:8080/",
          "height": 465
        },
        "id": "UpRYTuGYsJXx",
        "outputId": "1c5243c9-86a0-43d7-d0fa-cdecb1d36690"
      },
      "outputs": [
        {
          "data": {
            "image/png": "[encoded data removed]",
            "text/plain": [
              "<Figure size 500x500 with 2 Axes>"
            ]
          },
          "metadata": {},
          "output_type": "display_data"
        }
      ],
      "source": [
        "conf_mat = tf.math.confusion_matrix(labels = y_test, predictions = y_pred_bin)\n",
        "fig3 = plt.figure(figsize = (5,5))\n",
        "sns.heatmap(conf_mat,annot = True,fmt = 'd')\n",
        "plt.xlabel('Predictions')\n",
        "plt.ylabel('Truth')\n",
        "fig3.savefig('conf_mat.png')"
      ]
    }
  ],
  "metadata": {
    "colab": {
      "provenance": []
    },
    "kernelspec": {
      "display_name": "Python 3",
      "name": "python3"
    },
    "language_info": {
      "name": "python"
    }
  },
  "nbformat": 4,
  "nbformat_minor": 0
}
