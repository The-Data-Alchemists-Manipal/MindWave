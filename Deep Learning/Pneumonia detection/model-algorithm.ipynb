{
 "cells": [
  {
   "cell_type": "code",
   "execution_count": null,
   "metadata": {},
   "outputs": [],
   "source": [
    "import numpy as np\n",
    "import pandas as pd\n",
    "import sklearn \n",
    "import matplotlib.pyplot as plt\n",
    "import tensorflow as tf\n",
    "import cv2\n",
    "from sklearn.model_selection import train_test_split\n",
    "import os\n",
    "\n",
    "import ipywidgets as widgets\n",
    "import io\n",
    "from PIL import Image\n",
    "import tqdm\n",
    "from sklearn.utils import shuffle\n"
   ]
  },
  {
   "cell_type": "code",
   "execution_count": null,
   "metadata": {},
   "outputs": [],
   "source": [
    "X= []\n",
    "Y= []\n",
    "image_size = 300\n",
    "labels = ['NORMAL','PNEUMONIA']\n",
    "\n",
    "for i in labels:\n",
    "    folderPath = os.path.join('/content/drive/MyDrive/machine learning/pneumonia prediction/chest_xray/train',i)\n",
    "    for j in os.listdir(folderPath):\n",
    "        img = cv2.imread(os.path.join(folderPath,j))\n",
    "        \n",
    "        img = cv2.resize(img,(image_size,image_size))\n",
    "        X.append(img)\n",
    "        Y.append(i)\n",
    "\n",
    "\n",
    "for i in labels:\n",
    "    folderPath = os.path.join('/content/drive/MyDrive/machine learning/pneumonia prediction/chest_xray/test',i)\n",
    "    for j in os.listdir(folderPath):\n",
    "        img = cv2.imread(os.path.join(folderPath,j))\n",
    "\n",
    "        img = cv2.resize(img,(image_size,image_size))\n",
    "        X.append(img)\n",
    "        Y.append(i)\n",
    "\n",
    "X = np.array(X)\n",
    "Y = np.array(Y)\n",
    "\n",
    "X,Y = shuffle(X,Y,random_state=42)\n",
    "X.shape"
   ]
  },
  {
   "cell_type": "code",
   "execution_count": null,
   "metadata": {},
   "outputs": [],
   "source": [
    "from sklearn.model_selection import  train_test_split\n",
    "X_train,X_test,Y_train,Y_test = train_test_split(X,Y,test_size=0.1,random_state=0)"
   ]
  },
  {
   "cell_type": "code",
   "execution_count": null,
   "metadata": {},
   "outputs": [],
   "source": [
    "Y_train_new = []\n",
    "for i in Y_train:\n",
    "    Y_train_new.append(labels.index(i))\n",
    "Y_train=Y_train_new\n",
    "Y_train = tf.keras.utils.to_categorical(Y_train)\n",
    "\n",
    "Y_test_new = []\n",
    "for i in Y_test:\n",
    "    Y_test_new.append(labels.index(i))\n",
    "Y_test=Y_test_new\n",
    "Y_test = tf.keras.utils.to_categorical(Y_test)"
   ]
  },
  {
   "cell_type": "code",
   "execution_count": null,
   "metadata": {},
   "outputs": [],
   "source": [
    "X_train=X_train/255\n",
    "X_test=X_test/255\n",
    "\n",
    "\n",
    "X_train[0].shape"
   ]
  },
  {
   "cell_type": "code",
   "execution_count": null,
   "metadata": {},
   "outputs": [],
   "source": [
    "model=tf.keras.Sequential([\n",
    "    tf.keras.layers.Flatten(input_shape=(300,300,3)),\n",
    "    tf.keras.layers.Dense(100,activation='relu'),\n",
    "     tf.keras.layers.Dense(50,activation='relu'),\n",
    "      tf.keras.layers.Dense(25,activation='relu'),\n",
    "       tf.keras.layers.Dense(12,activation='PReLU'),\n",
    "       tf.keras.layers.Dense(6,activation='relu'),\n",
    "      tf.keras.layers.Dense(4,activation='sigmoid')\n",
    "\n",
    "])\n",
    "model.compile(optimizer='adam',\n",
    "loss='sparse_categorical_crossentropy',\n",
    "metrics=['accuracy']\n",
    ")\n",
    "model.fit(np.array(X_train),np.array(Y_train_new),epochs=410)"
   ]
  },
  {
   "cell_type": "code",
   "execution_count": null,
   "metadata": {},
   "outputs": [],
   "source": [
    "model.evaluate(np.array(X_test),np.array(Y_test_new))"
   ]
  }
 ],
 "metadata": {
  "language_info": {
   "name": "python"
  },
  "orig_nbformat": 4
 },
 "nbformat": 4,
 "nbformat_minor": 2
}
