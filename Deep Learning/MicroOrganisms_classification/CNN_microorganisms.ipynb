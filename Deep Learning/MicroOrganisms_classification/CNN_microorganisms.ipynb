{
 "cells": [
  {
   "cell_type": "code",
   "execution_count": null,
   "metadata": {},
   "outputs": [],
   "source": [
    "import numpy as np\n",
    "import pandas as pd\n",
    "import sklearn\n",
    "import matplotlib.pyplot as plt\n",
    "import os\n",
    "import cv2\n",
    "import keras\n",
    "import tensorflow as tf\n",
    "from tensorflow.keras import datasets,layers,models\n",
    "import ipywidgets as widgets\n",
    "import io\n",
    "from PIL import Image\n",
    "import tqdm\n",
    "from sklearn.utils import shuffle\n",
    "from sklearn.model_selection import train_test_split\n"
   ]
  },
  {
   "cell_type": "code",
   "execution_count": null,
   "metadata": {},
   "outputs": [],
   "source": [
    "labels = os.listdir('/content/drive/MyDrive/machine learning/Micro organism Classification/Micro_Organism')\n"
   ]
  },
  {
   "cell_type": "code",
   "execution_count": null,
   "metadata": {},
   "outputs": [],
   "source": [
    "len(labels)"
   ]
  },
  {
   "cell_type": "code",
   "execution_count": null,
   "metadata": {},
   "outputs": [],
   "source": [
    "X= []\n",
    "Y= []\n",
    "image_size = 255\n",
    "labels = os.listdir('/content/drive/MyDrive/machine learning/Micro organism Classification/Micro_Organism')\n",
    "for i in labels:\n",
    "    folderPath = os.path.join('/content/drive/MyDrive/machine learning/Micro organism Classification/Micro_Organism',i)\n",
    "    for j in os.listdir(folderPath):\n",
    "        img = cv2.imread(os.path.join(folderPath,j))\n",
    "        if img is not None:\n",
    "          img = cv2.resize(img,(image_size,image_size))\n",
    "          X.append(img)\n",
    "          Y.append(i)\n",
    "\n",
    "\n",
    "\n",
    "\n",
    "X = np.array(X)\n",
    "Y = np.array(Y)\n",
    "\n",
    "X,Y = shuffle(X,Y,random_state=42)\n",
    "X.shape"
   ]
  },
  {
   "cell_type": "code",
   "execution_count": null,
   "metadata": {},
   "outputs": [],
   "source": [
    "np.save('X',X)\n",
    "np.save('Y',Y)"
   ]
  },
  {
   "cell_type": "code",
   "execution_count": null,
   "metadata": {},
   "outputs": [],
   "source": [
    "from sklearn.model_selection import  train_test_split\n",
    "X_train,X_test,Y_train,Y_test = train_test_split(X,Y,test_size=0.1,random_state=42)"
   ]
  },
  {
   "cell_type": "code",
   "execution_count": null,
   "metadata": {},
   "outputs": [],
   "source": [
    "Y_train_new = []\n",
    "for i in Y_train:\n",
    "    Y_train_new.append(labels.index(i))\n",
    "Y_train=Y_train_new\n",
    "Y_train = tf.keras.utils.to_categorical(Y_train)\n",
    "\n",
    "Y_test_new = []\n",
    "for i in Y_test:\n",
    "    Y_test_new.append(labels.index(i))\n",
    "Y_test=Y_test_new\n",
    "Y_test = tf.keras.utils.to_categorical(Y_test)"
   ]
  },
  {
   "cell_type": "code",
   "execution_count": null,
   "metadata": {},
   "outputs": [],
   "source": [
    "X_train=X_train/255\n",
    "X_test=X_test/255"
   ]
  },
  {
   "cell_type": "code",
   "execution_count": null,
   "metadata": {},
   "outputs": [],
   "source": [
    "model=models.Sequential([\n",
    "    #cnn\n",
    "    layers.Conv2D(filters=23,kernel_size=(3,3),activation='relu',input_shape=(255,255,3)),\n",
    "    layers.MaxPooling2D((2,2)),\n",
    "\n",
    "    layers.Conv2D(filters=32,kernel_size=(3,3),activation='relu',input_shape=(255,255,3)),\n",
    "    layers.MaxPooling2D((2,2)),\n",
    "    #dense\n",
    "    layers.Flatten(),\n",
    "    layers.Dense(100,activation='relu'),\n",
    "    layers.Dropout(0.2),\n",
    "    layers.Dense(40,activation='relu'),\n",
    "    layers.Dropout(0.2),\n",
    "    layers.Dense(16,activation='relu'),\n",
    "    layers.Dropout(0.2),\n",
    "    layers.Dense(12,activation='relu'),\n",
    "    layers.Dropout(0.2),\n",
    "    layers.Dense(8,activation='softmax')\n",
    "\n",
    "])"
   ]
  },
  {
   "cell_type": "code",
   "execution_count": null,
   "metadata": {},
   "outputs": [],
   "source": [
    "model.compile(optimizer='adam',\n",
    "              loss='sparse_categorical_crossentropy',\n",
    "              metrics=['accuracy'])"
   ]
  },
  {
   "cell_type": "code",
   "execution_count": null,
   "metadata": {},
   "outputs": [],
   "source": [
    "model.fit(np.array(X_train) ,np.array(Y_train_new),epochs=50,batch_size=40)"
   ]
  },
  {
   "cell_type": "code",
   "execution_count": null,
   "metadata": {},
   "outputs": [],
   "source": [
    "model.evaluate(np.array(X_test),np.array(Y_test_new))"
   ]
  }
 ],
 "metadata": {
  "language_info": {
   "name": "python"
  },
  "orig_nbformat": 4
 },
 "nbformat": 4,
 "nbformat_minor": 2
}
