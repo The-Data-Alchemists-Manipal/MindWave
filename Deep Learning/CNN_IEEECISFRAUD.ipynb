{
 "cells": [
  {
   "cell_type": "code",
   "execution_count": 1,
   "id": "54d6b360",
   "metadata": {
    "_cell_guid": "b1076dfc-b9ad-4769-8c92-a6c4dae69d19",
    "_uuid": "8f2839f25d086af736a60e9eeb907d3b93b6e0e5",
    "execution": {
     "iopub.execute_input": "2023-05-03T07:30:10.216391Z",
     "iopub.status.busy": "2023-05-03T07:30:10.215583Z",
     "iopub.status.idle": "2023-05-03T07:30:10.230093Z",
     "shell.execute_reply": "2023-05-03T07:30:10.228751Z"
    },
    "papermill": {
     "duration": 0.034837,
     "end_time": "2023-05-03T07:30:10.233224",
     "exception": false,
     "start_time": "2023-05-03T07:30:10.198387",
     "status": "completed"
    },
    "tags": []
   },
   "outputs": [
    {
     "name": "stdout",
     "output_type": "stream",
     "text": [
      "/kaggle/input/ieee-fraud-detection/sample_submission.csv\n",
      "/kaggle/input/ieee-fraud-detection/test_identity.csv\n",
      "/kaggle/input/ieee-fraud-detection/train_identity.csv\n",
      "/kaggle/input/ieee-fraud-detection/test_transaction.csv\n",
      "/kaggle/input/ieee-fraud-detection/train_transaction.csv\n"
     ]
    }
   ],
   "source": [
    "# This Python 3 environment comes with many helpful analytics libraries installed\n",
    "# It is defined by the kaggle/python Docker image: https://github.com/kaggle/docker-python\n",
    "# For example, here's several helpful packages to load\n",
    "\n",
    "import numpy as np # linear algebra\n",
    "import pandas as pd # data processing, CSV file I/O (e.g. pd.read_csv)\n",
    "\n",
    "# Input data files are available in the read-only \"../input/\" directory\n",
    "# For example, running this (by clicking run or pressing Shift+Enter) will list all files under the input directory\n",
    "\n",
    "import os\n",
    "for dirname, _, filenames in os.walk('/kaggle/input'):\n",
    "    for filename in filenames:\n",
    "        print(os.path.join(dirname, filename))\n",
    "\n",
    "# You can write up to 20GB to the current directory (/kaggle/working/) that gets preserved as output when you create a version using \"Save & Run All\" \n",
    "# You can also write temporary files to /kaggle/temp/, but they won't be saved outside of the current session"
   ]
  },
  {
   "cell_type": "code",
   "execution_count": 2,
   "id": "a041a100",
   "metadata": {
    "execution": {
     "iopub.execute_input": "2023-05-03T07:30:10.266745Z",
     "iopub.status.busy": "2023-05-03T07:30:10.266213Z",
     "iopub.status.idle": "2023-05-03T07:30:11.907513Z",
     "shell.execute_reply": "2023-05-03T07:30:11.906220Z"
    },
    "papermill": {
     "duration": 1.661575,
     "end_time": "2023-05-03T07:30:11.910435",
     "exception": false,
     "start_time": "2023-05-03T07:30:10.248860",
     "status": "completed"
    },
    "tags": []
   },
   "outputs": [
    {
     "name": "stderr",
     "output_type": "stream",
     "text": [
      "/opt/conda/lib/python3.10/site-packages/scipy/__init__.py:146: UserWarning: A NumPy version >=1.16.5 and <1.23.0 is required for this version of SciPy (detected version 1.23.5\n",
      "  warnings.warn(f\"A NumPy version >={np_minversion} and <{np_maxversion}\"\n"
     ]
    }
   ],
   "source": [
    "import matplotlib.pyplot as plt\n",
    "import pandas as pd\n",
    "import numpy as np\n",
    "import seaborn as sns\n",
    "from sklearn.preprocessing import LabelEncoder\n",
    "import warnings\n",
    "warnings.filterwarnings('ignore')"
   ]
  },
  {
   "cell_type": "code",
   "execution_count": 3,
   "id": "d02c9842",
   "metadata": {
    "execution": {
     "iopub.execute_input": "2023-05-03T07:30:11.944259Z",
     "iopub.status.busy": "2023-05-03T07:30:11.943796Z",
     "iopub.status.idle": "2023-05-03T07:31:19.366628Z",
     "shell.execute_reply": "2023-05-03T07:31:19.365426Z"
    },
    "papermill": {
     "duration": 67.442492,
     "end_time": "2023-05-03T07:31:19.369519",
     "exception": false,
     "start_time": "2023-05-03T07:30:11.927027",
     "status": "completed"
    },
    "tags": []
   },
   "outputs": [],
   "source": [
    "train_transaction = pd.read_csv(\"/kaggle/input/ieee-fraud-detection/train_transaction.csv\")\n",
    "train_identity = pd.read_csv(\"/kaggle/input/ieee-fraud-detection/train_identity.csv\")\n",
    "test_transaction = pd.read_csv(\"/kaggle/input/ieee-fraud-detection/test_transaction.csv\")\n",
    "test_identity = pd.read_csv(\"/kaggle/input/ieee-fraud-detection/test_identity.csv\")"
   ]
  },
  {
   "cell_type": "code",
   "execution_count": 4,
   "id": "d3173551",
   "metadata": {
    "execution": {
     "iopub.execute_input": "2023-05-03T07:31:19.403825Z",
     "iopub.status.busy": "2023-05-03T07:31:19.402638Z",
     "iopub.status.idle": "2023-05-03T07:31:19.458131Z",
     "shell.execute_reply": "2023-05-03T07:31:19.456756Z"
    },
    "papermill": {
     "duration": 0.075161,
     "end_time": "2023-05-03T07:31:19.460557",
     "exception": false,
     "start_time": "2023-05-03T07:31:19.385396",
     "status": "completed"
    },
    "tags": []
   },
   "outputs": [
    {
     "data": {
      "text/html": [
       "<div>\n",
       "<style scoped>\n",
       "    .dataframe tbody tr th:only-of-type {\n",
       "        vertical-align: middle;\n",
       "    }\n",
       "\n",
       "    .dataframe tbody tr th {\n",
       "        vertical-align: top;\n",
       "    }\n",
       "\n",
       "    .dataframe thead th {\n",
       "        text-align: right;\n",
       "    }\n",
       "</style>\n",
       "<table border=\"1\" class=\"dataframe\">\n",
       "  <thead>\n",
       "    <tr style=\"text-align: right;\">\n",
       "      <th></th>\n",
       "      <th>TransactionID</th>\n",
       "      <th>isFraud</th>\n",
       "      <th>TransactionDT</th>\n",
       "      <th>TransactionAmt</th>\n",
       "      <th>ProductCD</th>\n",
       "      <th>card1</th>\n",
       "      <th>card2</th>\n",
       "      <th>card3</th>\n",
       "      <th>card4</th>\n",
       "      <th>card5</th>\n",
       "      <th>...</th>\n",
       "      <th>V330</th>\n",
       "      <th>V331</th>\n",
       "      <th>V332</th>\n",
       "      <th>V333</th>\n",
       "      <th>V334</th>\n",
       "      <th>V335</th>\n",
       "      <th>V336</th>\n",
       "      <th>V337</th>\n",
       "      <th>V338</th>\n",
       "      <th>V339</th>\n",
       "    </tr>\n",
       "  </thead>\n",
       "  <tbody>\n",
       "    <tr>\n",
       "      <th>0</th>\n",
       "      <td>2987000</td>\n",
       "      <td>0</td>\n",
       "      <td>86400</td>\n",
       "      <td>68.5</td>\n",
       "      <td>W</td>\n",
       "      <td>13926</td>\n",
       "      <td>NaN</td>\n",
       "      <td>150.0</td>\n",
       "      <td>discover</td>\n",
       "      <td>142.0</td>\n",
       "      <td>...</td>\n",
       "      <td>NaN</td>\n",
       "      <td>NaN</td>\n",
       "      <td>NaN</td>\n",
       "      <td>NaN</td>\n",
       "      <td>NaN</td>\n",
       "      <td>NaN</td>\n",
       "      <td>NaN</td>\n",
       "      <td>NaN</td>\n",
       "      <td>NaN</td>\n",
       "      <td>NaN</td>\n",
       "    </tr>\n",
       "    <tr>\n",
       "      <th>1</th>\n",
       "      <td>2987001</td>\n",
       "      <td>0</td>\n",
       "      <td>86401</td>\n",
       "      <td>29.0</td>\n",
       "      <td>W</td>\n",
       "      <td>2755</td>\n",
       "      <td>404.0</td>\n",
       "      <td>150.0</td>\n",
       "      <td>mastercard</td>\n",
       "      <td>102.0</td>\n",
       "      <td>...</td>\n",
       "      <td>NaN</td>\n",
       "      <td>NaN</td>\n",
       "      <td>NaN</td>\n",
       "      <td>NaN</td>\n",
       "      <td>NaN</td>\n",
       "      <td>NaN</td>\n",
       "      <td>NaN</td>\n",
       "      <td>NaN</td>\n",
       "      <td>NaN</td>\n",
       "      <td>NaN</td>\n",
       "    </tr>\n",
       "    <tr>\n",
       "      <th>2</th>\n",
       "      <td>2987002</td>\n",
       "      <td>0</td>\n",
       "      <td>86469</td>\n",
       "      <td>59.0</td>\n",
       "      <td>W</td>\n",
       "      <td>4663</td>\n",
       "      <td>490.0</td>\n",
       "      <td>150.0</td>\n",
       "      <td>visa</td>\n",
       "      <td>166.0</td>\n",
       "      <td>...</td>\n",
       "      <td>NaN</td>\n",
       "      <td>NaN</td>\n",
       "      <td>NaN</td>\n",
       "      <td>NaN</td>\n",
       "      <td>NaN</td>\n",
       "      <td>NaN</td>\n",
       "      <td>NaN</td>\n",
       "      <td>NaN</td>\n",
       "      <td>NaN</td>\n",
       "      <td>NaN</td>\n",
       "    </tr>\n",
       "    <tr>\n",
       "      <th>3</th>\n",
       "      <td>2987003</td>\n",
       "      <td>0</td>\n",
       "      <td>86499</td>\n",
       "      <td>50.0</td>\n",
       "      <td>W</td>\n",
       "      <td>18132</td>\n",
       "      <td>567.0</td>\n",
       "      <td>150.0</td>\n",
       "      <td>mastercard</td>\n",
       "      <td>117.0</td>\n",
       "      <td>...</td>\n",
       "      <td>NaN</td>\n",
       "      <td>NaN</td>\n",
       "      <td>NaN</td>\n",
       "      <td>NaN</td>\n",
       "      <td>NaN</td>\n",
       "      <td>NaN</td>\n",
       "      <td>NaN</td>\n",
       "      <td>NaN</td>\n",
       "      <td>NaN</td>\n",
       "      <td>NaN</td>\n",
       "    </tr>\n",
       "    <tr>\n",
       "      <th>4</th>\n",
       "      <td>2987004</td>\n",
       "      <td>0</td>\n",
       "      <td>86506</td>\n",
       "      <td>50.0</td>\n",
       "      <td>H</td>\n",
       "      <td>4497</td>\n",
       "      <td>514.0</td>\n",
       "      <td>150.0</td>\n",
       "      <td>mastercard</td>\n",
       "      <td>102.0</td>\n",
       "      <td>...</td>\n",
       "      <td>0.0</td>\n",
       "      <td>0.0</td>\n",
       "      <td>0.0</td>\n",
       "      <td>0.0</td>\n",
       "      <td>0.0</td>\n",
       "      <td>0.0</td>\n",
       "      <td>0.0</td>\n",
       "      <td>0.0</td>\n",
       "      <td>0.0</td>\n",
       "      <td>0.0</td>\n",
       "    </tr>\n",
       "  </tbody>\n",
       "</table>\n",
       "<p>5 rows × 394 columns</p>\n",
       "</div>"
      ],
      "text/plain": [
       "   TransactionID  isFraud  TransactionDT  TransactionAmt ProductCD  card1  \\\n",
       "0        2987000        0          86400            68.5         W  13926   \n",
       "1        2987001        0          86401            29.0         W   2755   \n",
       "2        2987002        0          86469            59.0         W   4663   \n",
       "3        2987003        0          86499            50.0         W  18132   \n",
       "4        2987004        0          86506            50.0         H   4497   \n",
       "\n",
       "   card2  card3       card4  card5  ... V330  V331  V332  V333  V334 V335  \\\n",
       "0    NaN  150.0    discover  142.0  ...  NaN   NaN   NaN   NaN   NaN  NaN   \n",
       "1  404.0  150.0  mastercard  102.0  ...  NaN   NaN   NaN   NaN   NaN  NaN   \n",
       "2  490.0  150.0        visa  166.0  ...  NaN   NaN   NaN   NaN   NaN  NaN   \n",
       "3  567.0  150.0  mastercard  117.0  ...  NaN   NaN   NaN   NaN   NaN  NaN   \n",
       "4  514.0  150.0  mastercard  102.0  ...  0.0   0.0   0.0   0.0   0.0  0.0   \n",
       "\n",
       "  V336  V337  V338  V339  \n",
       "0  NaN   NaN   NaN   NaN  \n",
       "1  NaN   NaN   NaN   NaN  \n",
       "2  NaN   NaN   NaN   NaN  \n",
       "3  NaN   NaN   NaN   NaN  \n",
       "4  0.0   0.0   0.0   0.0  \n",
       "\n",
       "[5 rows x 394 columns]"
      ]
     },
     "execution_count": 4,
     "metadata": {},
     "output_type": "execute_result"
    }
   ],
   "source": [
    "train_transaction.head()"
   ]
  },
  {
   "cell_type": "code",
   "execution_count": 5,
   "id": "02581092",
   "metadata": {
    "execution": {
     "iopub.execute_input": "2023-05-03T07:31:19.494544Z",
     "iopub.status.busy": "2023-05-03T07:31:19.493216Z",
     "iopub.status.idle": "2023-05-03T07:31:19.522709Z",
     "shell.execute_reply": "2023-05-03T07:31:19.521556Z"
    },
    "papermill": {
     "duration": 0.049505,
     "end_time": "2023-05-03T07:31:19.525660",
     "exception": false,
     "start_time": "2023-05-03T07:31:19.476155",
     "status": "completed"
    },
    "tags": []
   },
   "outputs": [
    {
     "data": {
      "text/html": [
       "<div>\n",
       "<style scoped>\n",
       "    .dataframe tbody tr th:only-of-type {\n",
       "        vertical-align: middle;\n",
       "    }\n",
       "\n",
       "    .dataframe tbody tr th {\n",
       "        vertical-align: top;\n",
       "    }\n",
       "\n",
       "    .dataframe thead th {\n",
       "        text-align: right;\n",
       "    }\n",
       "</style>\n",
       "<table border=\"1\" class=\"dataframe\">\n",
       "  <thead>\n",
       "    <tr style=\"text-align: right;\">\n",
       "      <th></th>\n",
       "      <th>TransactionID</th>\n",
       "      <th>id_01</th>\n",
       "      <th>id_02</th>\n",
       "      <th>id_03</th>\n",
       "      <th>id_04</th>\n",
       "      <th>id_05</th>\n",
       "      <th>id_06</th>\n",
       "      <th>id_07</th>\n",
       "      <th>id_08</th>\n",
       "      <th>id_09</th>\n",
       "      <th>...</th>\n",
       "      <th>id_31</th>\n",
       "      <th>id_32</th>\n",
       "      <th>id_33</th>\n",
       "      <th>id_34</th>\n",
       "      <th>id_35</th>\n",
       "      <th>id_36</th>\n",
       "      <th>id_37</th>\n",
       "      <th>id_38</th>\n",
       "      <th>DeviceType</th>\n",
       "      <th>DeviceInfo</th>\n",
       "    </tr>\n",
       "  </thead>\n",
       "  <tbody>\n",
       "    <tr>\n",
       "      <th>0</th>\n",
       "      <td>2987004</td>\n",
       "      <td>0.0</td>\n",
       "      <td>70787.0</td>\n",
       "      <td>NaN</td>\n",
       "      <td>NaN</td>\n",
       "      <td>NaN</td>\n",
       "      <td>NaN</td>\n",
       "      <td>NaN</td>\n",
       "      <td>NaN</td>\n",
       "      <td>NaN</td>\n",
       "      <td>...</td>\n",
       "      <td>samsung browser 6.2</td>\n",
       "      <td>32.0</td>\n",
       "      <td>2220x1080</td>\n",
       "      <td>match_status:2</td>\n",
       "      <td>T</td>\n",
       "      <td>F</td>\n",
       "      <td>T</td>\n",
       "      <td>T</td>\n",
       "      <td>mobile</td>\n",
       "      <td>SAMSUNG SM-G892A Build/NRD90M</td>\n",
       "    </tr>\n",
       "    <tr>\n",
       "      <th>1</th>\n",
       "      <td>2987008</td>\n",
       "      <td>-5.0</td>\n",
       "      <td>98945.0</td>\n",
       "      <td>NaN</td>\n",
       "      <td>NaN</td>\n",
       "      <td>0.0</td>\n",
       "      <td>-5.0</td>\n",
       "      <td>NaN</td>\n",
       "      <td>NaN</td>\n",
       "      <td>NaN</td>\n",
       "      <td>...</td>\n",
       "      <td>mobile safari 11.0</td>\n",
       "      <td>32.0</td>\n",
       "      <td>1334x750</td>\n",
       "      <td>match_status:1</td>\n",
       "      <td>T</td>\n",
       "      <td>F</td>\n",
       "      <td>F</td>\n",
       "      <td>T</td>\n",
       "      <td>mobile</td>\n",
       "      <td>iOS Device</td>\n",
       "    </tr>\n",
       "    <tr>\n",
       "      <th>2</th>\n",
       "      <td>2987010</td>\n",
       "      <td>-5.0</td>\n",
       "      <td>191631.0</td>\n",
       "      <td>0.0</td>\n",
       "      <td>0.0</td>\n",
       "      <td>0.0</td>\n",
       "      <td>0.0</td>\n",
       "      <td>NaN</td>\n",
       "      <td>NaN</td>\n",
       "      <td>0.0</td>\n",
       "      <td>...</td>\n",
       "      <td>chrome 62.0</td>\n",
       "      <td>NaN</td>\n",
       "      <td>NaN</td>\n",
       "      <td>NaN</td>\n",
       "      <td>F</td>\n",
       "      <td>F</td>\n",
       "      <td>T</td>\n",
       "      <td>T</td>\n",
       "      <td>desktop</td>\n",
       "      <td>Windows</td>\n",
       "    </tr>\n",
       "    <tr>\n",
       "      <th>3</th>\n",
       "      <td>2987011</td>\n",
       "      <td>-5.0</td>\n",
       "      <td>221832.0</td>\n",
       "      <td>NaN</td>\n",
       "      <td>NaN</td>\n",
       "      <td>0.0</td>\n",
       "      <td>-6.0</td>\n",
       "      <td>NaN</td>\n",
       "      <td>NaN</td>\n",
       "      <td>NaN</td>\n",
       "      <td>...</td>\n",
       "      <td>chrome 62.0</td>\n",
       "      <td>NaN</td>\n",
       "      <td>NaN</td>\n",
       "      <td>NaN</td>\n",
       "      <td>F</td>\n",
       "      <td>F</td>\n",
       "      <td>T</td>\n",
       "      <td>T</td>\n",
       "      <td>desktop</td>\n",
       "      <td>NaN</td>\n",
       "    </tr>\n",
       "    <tr>\n",
       "      <th>4</th>\n",
       "      <td>2987016</td>\n",
       "      <td>0.0</td>\n",
       "      <td>7460.0</td>\n",
       "      <td>0.0</td>\n",
       "      <td>0.0</td>\n",
       "      <td>1.0</td>\n",
       "      <td>0.0</td>\n",
       "      <td>NaN</td>\n",
       "      <td>NaN</td>\n",
       "      <td>0.0</td>\n",
       "      <td>...</td>\n",
       "      <td>chrome 62.0</td>\n",
       "      <td>24.0</td>\n",
       "      <td>1280x800</td>\n",
       "      <td>match_status:2</td>\n",
       "      <td>T</td>\n",
       "      <td>F</td>\n",
       "      <td>T</td>\n",
       "      <td>T</td>\n",
       "      <td>desktop</td>\n",
       "      <td>MacOS</td>\n",
       "    </tr>\n",
       "  </tbody>\n",
       "</table>\n",
       "<p>5 rows × 41 columns</p>\n",
       "</div>"
      ],
      "text/plain": [
       "   TransactionID  id_01     id_02  id_03  id_04  id_05  id_06  id_07  id_08  \\\n",
       "0        2987004    0.0   70787.0    NaN    NaN    NaN    NaN    NaN    NaN   \n",
       "1        2987008   -5.0   98945.0    NaN    NaN    0.0   -5.0    NaN    NaN   \n",
       "2        2987010   -5.0  191631.0    0.0    0.0    0.0    0.0    NaN    NaN   \n",
       "3        2987011   -5.0  221832.0    NaN    NaN    0.0   -6.0    NaN    NaN   \n",
       "4        2987016    0.0    7460.0    0.0    0.0    1.0    0.0    NaN    NaN   \n",
       "\n",
       "   id_09  ...                id_31  id_32      id_33           id_34  id_35  \\\n",
       "0    NaN  ...  samsung browser 6.2   32.0  2220x1080  match_status:2      T   \n",
       "1    NaN  ...   mobile safari 11.0   32.0   1334x750  match_status:1      T   \n",
       "2    0.0  ...          chrome 62.0    NaN        NaN             NaN      F   \n",
       "3    NaN  ...          chrome 62.0    NaN        NaN             NaN      F   \n",
       "4    0.0  ...          chrome 62.0   24.0   1280x800  match_status:2      T   \n",
       "\n",
       "  id_36 id_37  id_38  DeviceType                     DeviceInfo  \n",
       "0     F     T      T      mobile  SAMSUNG SM-G892A Build/NRD90M  \n",
       "1     F     F      T      mobile                     iOS Device  \n",
       "2     F     T      T     desktop                        Windows  \n",
       "3     F     T      T     desktop                            NaN  \n",
       "4     F     T      T     desktop                          MacOS  \n",
       "\n",
       "[5 rows x 41 columns]"
      ]
     },
     "execution_count": 5,
     "metadata": {},
     "output_type": "execute_result"
    }
   ],
   "source": [
    "train_identity.head()"
   ]
  },
  {
   "cell_type": "code",
   "execution_count": 6,
   "id": "573cf25b",
   "metadata": {
    "execution": {
     "iopub.execute_input": "2023-05-03T07:31:19.559511Z",
     "iopub.status.busy": "2023-05-03T07:31:19.559077Z",
     "iopub.status.idle": "2023-05-03T07:31:21.231694Z",
     "shell.execute_reply": "2023-05-03T07:31:21.230132Z"
    },
    "papermill": {
     "duration": 1.69263,
     "end_time": "2023-05-03T07:31:21.234302",
     "exception": false,
     "start_time": "2023-05-03T07:31:19.541672",
     "status": "completed"
    },
    "tags": []
   },
   "outputs": [
    {
     "name": "stdout",
     "output_type": "stream",
     "text": [
      "% of missing data =  41.073431200111266\n"
     ]
    }
   ],
   "source": [
    "missing_val = train_transaction.isna().sum()\n",
    "missing_val\n",
    "print (\"% of missing data = \",(missing_val.sum()/np.product(train_transaction.shape)) * 100)"
   ]
  },
  {
   "cell_type": "code",
   "execution_count": 7,
   "id": "d3479689",
   "metadata": {
    "execution": {
     "iopub.execute_input": "2023-05-03T07:31:21.267521Z",
     "iopub.status.busy": "2023-05-03T07:31:21.267109Z",
     "iopub.status.idle": "2023-05-03T07:31:21.625969Z",
     "shell.execute_reply": "2023-05-03T07:31:21.624659Z"
    },
    "papermill": {
     "duration": 0.378122,
     "end_time": "2023-05-03T07:31:21.628312",
     "exception": false,
     "start_time": "2023-05-03T07:31:21.250190",
     "status": "completed"
    },
    "tags": []
   },
   "outputs": [
    {
     "name": "stdout",
     "output_type": "stream",
     "text": [
      "% of missing data =  35.58109650830896\n"
     ]
    }
   ],
   "source": [
    "missing_val = train_identity.isna().sum()\n",
    "missing_val\n",
    "print (\"% of missing data = \",(missing_val.sum()/np.product(train_identity.shape)) * 100)"
   ]
  },
  {
   "cell_type": "code",
   "execution_count": 8,
   "id": "057030b6",
   "metadata": {
    "execution": {
     "iopub.execute_input": "2023-05-03T07:31:21.663126Z",
     "iopub.status.busy": "2023-05-03T07:31:21.662161Z",
     "iopub.status.idle": "2023-05-03T07:31:23.082589Z",
     "shell.execute_reply": "2023-05-03T07:31:23.081229Z"
    },
    "papermill": {
     "duration": 1.440353,
     "end_time": "2023-05-03T07:31:23.085332",
     "exception": false,
     "start_time": "2023-05-03T07:31:21.644979",
     "status": "completed"
    },
    "tags": []
   },
   "outputs": [
    {
     "name": "stdout",
     "output_type": "stream",
     "text": [
      "% of missing data =  36.90570194240822\n"
     ]
    }
   ],
   "source": [
    "missing_val = test_transaction.isna().sum()\n",
    "missing_val\n",
    "print (\"% of missing data = \",(missing_val.sum()/np.product(test_transaction.shape)) * 100)"
   ]
  },
  {
   "cell_type": "code",
   "execution_count": 9,
   "id": "f1124ecf",
   "metadata": {
    "execution": {
     "iopub.execute_input": "2023-05-03T07:31:23.120100Z",
     "iopub.status.busy": "2023-05-03T07:31:23.119201Z",
     "iopub.status.idle": "2023-05-03T07:31:27.333963Z",
     "shell.execute_reply": "2023-05-03T07:31:27.332724Z"
    },
    "papermill": {
     "duration": 4.235021,
     "end_time": "2023-05-03T07:31:27.336738",
     "exception": false,
     "start_time": "2023-05-03T07:31:23.101717",
     "status": "completed"
    },
    "tags": []
   },
   "outputs": [],
   "source": [
    "train_data = train_transaction.merge(train_identity, how=\"left\", on=\"TransactionID\")\n",
    "\n",
    "test_data = test_transaction.merge(test_identity, how=\"left\", on=\"TransactionID\")"
   ]
  },
  {
   "cell_type": "code",
   "execution_count": 10,
   "id": "9d589d4f",
   "metadata": {
    "execution": {
     "iopub.execute_input": "2023-05-03T07:31:27.371153Z",
     "iopub.status.busy": "2023-05-03T07:31:27.370352Z",
     "iopub.status.idle": "2023-05-03T07:31:27.397455Z",
     "shell.execute_reply": "2023-05-03T07:31:27.396191Z"
    },
    "papermill": {
     "duration": 0.047241,
     "end_time": "2023-05-03T07:31:27.399779",
     "exception": false,
     "start_time": "2023-05-03T07:31:27.352538",
     "status": "completed"
    },
    "tags": []
   },
   "outputs": [
    {
     "data": {
      "text/html": [
       "<div>\n",
       "<style scoped>\n",
       "    .dataframe tbody tr th:only-of-type {\n",
       "        vertical-align: middle;\n",
       "    }\n",
       "\n",
       "    .dataframe tbody tr th {\n",
       "        vertical-align: top;\n",
       "    }\n",
       "\n",
       "    .dataframe thead th {\n",
       "        text-align: right;\n",
       "    }\n",
       "</style>\n",
       "<table border=\"1\" class=\"dataframe\">\n",
       "  <thead>\n",
       "    <tr style=\"text-align: right;\">\n",
       "      <th></th>\n",
       "      <th>TransactionID</th>\n",
       "      <th>isFraud</th>\n",
       "      <th>TransactionDT</th>\n",
       "      <th>TransactionAmt</th>\n",
       "      <th>ProductCD</th>\n",
       "      <th>card1</th>\n",
       "      <th>card2</th>\n",
       "      <th>card3</th>\n",
       "      <th>card4</th>\n",
       "      <th>card5</th>\n",
       "      <th>...</th>\n",
       "      <th>id_31</th>\n",
       "      <th>id_32</th>\n",
       "      <th>id_33</th>\n",
       "      <th>id_34</th>\n",
       "      <th>id_35</th>\n",
       "      <th>id_36</th>\n",
       "      <th>id_37</th>\n",
       "      <th>id_38</th>\n",
       "      <th>DeviceType</th>\n",
       "      <th>DeviceInfo</th>\n",
       "    </tr>\n",
       "  </thead>\n",
       "  <tbody>\n",
       "    <tr>\n",
       "      <th>0</th>\n",
       "      <td>2987000</td>\n",
       "      <td>0</td>\n",
       "      <td>86400</td>\n",
       "      <td>68.5</td>\n",
       "      <td>W</td>\n",
       "      <td>13926</td>\n",
       "      <td>NaN</td>\n",
       "      <td>150.0</td>\n",
       "      <td>discover</td>\n",
       "      <td>142.0</td>\n",
       "      <td>...</td>\n",
       "      <td>NaN</td>\n",
       "      <td>NaN</td>\n",
       "      <td>NaN</td>\n",
       "      <td>NaN</td>\n",
       "      <td>NaN</td>\n",
       "      <td>NaN</td>\n",
       "      <td>NaN</td>\n",
       "      <td>NaN</td>\n",
       "      <td>NaN</td>\n",
       "      <td>NaN</td>\n",
       "    </tr>\n",
       "    <tr>\n",
       "      <th>1</th>\n",
       "      <td>2987001</td>\n",
       "      <td>0</td>\n",
       "      <td>86401</td>\n",
       "      <td>29.0</td>\n",
       "      <td>W</td>\n",
       "      <td>2755</td>\n",
       "      <td>404.0</td>\n",
       "      <td>150.0</td>\n",
       "      <td>mastercard</td>\n",
       "      <td>102.0</td>\n",
       "      <td>...</td>\n",
       "      <td>NaN</td>\n",
       "      <td>NaN</td>\n",
       "      <td>NaN</td>\n",
       "      <td>NaN</td>\n",
       "      <td>NaN</td>\n",
       "      <td>NaN</td>\n",
       "      <td>NaN</td>\n",
       "      <td>NaN</td>\n",
       "      <td>NaN</td>\n",
       "      <td>NaN</td>\n",
       "    </tr>\n",
       "    <tr>\n",
       "      <th>2</th>\n",
       "      <td>2987002</td>\n",
       "      <td>0</td>\n",
       "      <td>86469</td>\n",
       "      <td>59.0</td>\n",
       "      <td>W</td>\n",
       "      <td>4663</td>\n",
       "      <td>490.0</td>\n",
       "      <td>150.0</td>\n",
       "      <td>visa</td>\n",
       "      <td>166.0</td>\n",
       "      <td>...</td>\n",
       "      <td>NaN</td>\n",
       "      <td>NaN</td>\n",
       "      <td>NaN</td>\n",
       "      <td>NaN</td>\n",
       "      <td>NaN</td>\n",
       "      <td>NaN</td>\n",
       "      <td>NaN</td>\n",
       "      <td>NaN</td>\n",
       "      <td>NaN</td>\n",
       "      <td>NaN</td>\n",
       "    </tr>\n",
       "    <tr>\n",
       "      <th>3</th>\n",
       "      <td>2987003</td>\n",
       "      <td>0</td>\n",
       "      <td>86499</td>\n",
       "      <td>50.0</td>\n",
       "      <td>W</td>\n",
       "      <td>18132</td>\n",
       "      <td>567.0</td>\n",
       "      <td>150.0</td>\n",
       "      <td>mastercard</td>\n",
       "      <td>117.0</td>\n",
       "      <td>...</td>\n",
       "      <td>NaN</td>\n",
       "      <td>NaN</td>\n",
       "      <td>NaN</td>\n",
       "      <td>NaN</td>\n",
       "      <td>NaN</td>\n",
       "      <td>NaN</td>\n",
       "      <td>NaN</td>\n",
       "      <td>NaN</td>\n",
       "      <td>NaN</td>\n",
       "      <td>NaN</td>\n",
       "    </tr>\n",
       "    <tr>\n",
       "      <th>4</th>\n",
       "      <td>2987004</td>\n",
       "      <td>0</td>\n",
       "      <td>86506</td>\n",
       "      <td>50.0</td>\n",
       "      <td>H</td>\n",
       "      <td>4497</td>\n",
       "      <td>514.0</td>\n",
       "      <td>150.0</td>\n",
       "      <td>mastercard</td>\n",
       "      <td>102.0</td>\n",
       "      <td>...</td>\n",
       "      <td>samsung browser 6.2</td>\n",
       "      <td>32.0</td>\n",
       "      <td>2220x1080</td>\n",
       "      <td>match_status:2</td>\n",
       "      <td>T</td>\n",
       "      <td>F</td>\n",
       "      <td>T</td>\n",
       "      <td>T</td>\n",
       "      <td>mobile</td>\n",
       "      <td>SAMSUNG SM-G892A Build/NRD90M</td>\n",
       "    </tr>\n",
       "  </tbody>\n",
       "</table>\n",
       "<p>5 rows × 434 columns</p>\n",
       "</div>"
      ],
      "text/plain": [
       "   TransactionID  isFraud  TransactionDT  TransactionAmt ProductCD  card1  \\\n",
       "0        2987000        0          86400            68.5         W  13926   \n",
       "1        2987001        0          86401            29.0         W   2755   \n",
       "2        2987002        0          86469            59.0         W   4663   \n",
       "3        2987003        0          86499            50.0         W  18132   \n",
       "4        2987004        0          86506            50.0         H   4497   \n",
       "\n",
       "   card2  card3       card4  card5  ...                id_31  id_32  \\\n",
       "0    NaN  150.0    discover  142.0  ...                  NaN    NaN   \n",
       "1  404.0  150.0  mastercard  102.0  ...                  NaN    NaN   \n",
       "2  490.0  150.0        visa  166.0  ...                  NaN    NaN   \n",
       "3  567.0  150.0  mastercard  117.0  ...                  NaN    NaN   \n",
       "4  514.0  150.0  mastercard  102.0  ...  samsung browser 6.2   32.0   \n",
       "\n",
       "       id_33           id_34  id_35 id_36 id_37  id_38  DeviceType  \\\n",
       "0        NaN             NaN    NaN   NaN   NaN    NaN         NaN   \n",
       "1        NaN             NaN    NaN   NaN   NaN    NaN         NaN   \n",
       "2        NaN             NaN    NaN   NaN   NaN    NaN         NaN   \n",
       "3        NaN             NaN    NaN   NaN   NaN    NaN         NaN   \n",
       "4  2220x1080  match_status:2      T     F     T      T      mobile   \n",
       "\n",
       "                      DeviceInfo  \n",
       "0                            NaN  \n",
       "1                            NaN  \n",
       "2                            NaN  \n",
       "3                            NaN  \n",
       "4  SAMSUNG SM-G892A Build/NRD90M  \n",
       "\n",
       "[5 rows x 434 columns]"
      ]
     },
     "execution_count": 10,
     "metadata": {},
     "output_type": "execute_result"
    }
   ],
   "source": [
    "train_data.head()"
   ]
  },
  {
   "cell_type": "code",
   "execution_count": 11,
   "id": "501f5e29",
   "metadata": {
    "execution": {
     "iopub.execute_input": "2023-05-03T07:31:27.434193Z",
     "iopub.status.busy": "2023-05-03T07:31:27.433743Z",
     "iopub.status.idle": "2023-05-03T07:31:27.459231Z",
     "shell.execute_reply": "2023-05-03T07:31:27.458069Z"
    },
    "papermill": {
     "duration": 0.045841,
     "end_time": "2023-05-03T07:31:27.461707",
     "exception": false,
     "start_time": "2023-05-03T07:31:27.415866",
     "status": "completed"
    },
    "tags": []
   },
   "outputs": [
    {
     "data": {
      "text/html": [
       "<div>\n",
       "<style scoped>\n",
       "    .dataframe tbody tr th:only-of-type {\n",
       "        vertical-align: middle;\n",
       "    }\n",
       "\n",
       "    .dataframe tbody tr th {\n",
       "        vertical-align: top;\n",
       "    }\n",
       "\n",
       "    .dataframe thead th {\n",
       "        text-align: right;\n",
       "    }\n",
       "</style>\n",
       "<table border=\"1\" class=\"dataframe\">\n",
       "  <thead>\n",
       "    <tr style=\"text-align: right;\">\n",
       "      <th></th>\n",
       "      <th>TransactionID</th>\n",
       "      <th>TransactionDT</th>\n",
       "      <th>TransactionAmt</th>\n",
       "      <th>ProductCD</th>\n",
       "      <th>card1</th>\n",
       "      <th>card2</th>\n",
       "      <th>card3</th>\n",
       "      <th>card4</th>\n",
       "      <th>card5</th>\n",
       "      <th>card6</th>\n",
       "      <th>...</th>\n",
       "      <th>id-31</th>\n",
       "      <th>id-32</th>\n",
       "      <th>id-33</th>\n",
       "      <th>id-34</th>\n",
       "      <th>id-35</th>\n",
       "      <th>id-36</th>\n",
       "      <th>id-37</th>\n",
       "      <th>id-38</th>\n",
       "      <th>DeviceType</th>\n",
       "      <th>DeviceInfo</th>\n",
       "    </tr>\n",
       "  </thead>\n",
       "  <tbody>\n",
       "    <tr>\n",
       "      <th>0</th>\n",
       "      <td>3663549</td>\n",
       "      <td>18403224</td>\n",
       "      <td>31.95</td>\n",
       "      <td>W</td>\n",
       "      <td>10409</td>\n",
       "      <td>111.0</td>\n",
       "      <td>150.0</td>\n",
       "      <td>visa</td>\n",
       "      <td>226.0</td>\n",
       "      <td>debit</td>\n",
       "      <td>...</td>\n",
       "      <td>NaN</td>\n",
       "      <td>NaN</td>\n",
       "      <td>NaN</td>\n",
       "      <td>NaN</td>\n",
       "      <td>NaN</td>\n",
       "      <td>NaN</td>\n",
       "      <td>NaN</td>\n",
       "      <td>NaN</td>\n",
       "      <td>NaN</td>\n",
       "      <td>NaN</td>\n",
       "    </tr>\n",
       "    <tr>\n",
       "      <th>1</th>\n",
       "      <td>3663550</td>\n",
       "      <td>18403263</td>\n",
       "      <td>49.00</td>\n",
       "      <td>W</td>\n",
       "      <td>4272</td>\n",
       "      <td>111.0</td>\n",
       "      <td>150.0</td>\n",
       "      <td>visa</td>\n",
       "      <td>226.0</td>\n",
       "      <td>debit</td>\n",
       "      <td>...</td>\n",
       "      <td>NaN</td>\n",
       "      <td>NaN</td>\n",
       "      <td>NaN</td>\n",
       "      <td>NaN</td>\n",
       "      <td>NaN</td>\n",
       "      <td>NaN</td>\n",
       "      <td>NaN</td>\n",
       "      <td>NaN</td>\n",
       "      <td>NaN</td>\n",
       "      <td>NaN</td>\n",
       "    </tr>\n",
       "    <tr>\n",
       "      <th>2</th>\n",
       "      <td>3663551</td>\n",
       "      <td>18403310</td>\n",
       "      <td>171.00</td>\n",
       "      <td>W</td>\n",
       "      <td>4476</td>\n",
       "      <td>574.0</td>\n",
       "      <td>150.0</td>\n",
       "      <td>visa</td>\n",
       "      <td>226.0</td>\n",
       "      <td>debit</td>\n",
       "      <td>...</td>\n",
       "      <td>NaN</td>\n",
       "      <td>NaN</td>\n",
       "      <td>NaN</td>\n",
       "      <td>NaN</td>\n",
       "      <td>NaN</td>\n",
       "      <td>NaN</td>\n",
       "      <td>NaN</td>\n",
       "      <td>NaN</td>\n",
       "      <td>NaN</td>\n",
       "      <td>NaN</td>\n",
       "    </tr>\n",
       "    <tr>\n",
       "      <th>3</th>\n",
       "      <td>3663552</td>\n",
       "      <td>18403310</td>\n",
       "      <td>284.95</td>\n",
       "      <td>W</td>\n",
       "      <td>10989</td>\n",
       "      <td>360.0</td>\n",
       "      <td>150.0</td>\n",
       "      <td>visa</td>\n",
       "      <td>166.0</td>\n",
       "      <td>debit</td>\n",
       "      <td>...</td>\n",
       "      <td>NaN</td>\n",
       "      <td>NaN</td>\n",
       "      <td>NaN</td>\n",
       "      <td>NaN</td>\n",
       "      <td>NaN</td>\n",
       "      <td>NaN</td>\n",
       "      <td>NaN</td>\n",
       "      <td>NaN</td>\n",
       "      <td>NaN</td>\n",
       "      <td>NaN</td>\n",
       "    </tr>\n",
       "    <tr>\n",
       "      <th>4</th>\n",
       "      <td>3663553</td>\n",
       "      <td>18403317</td>\n",
       "      <td>67.95</td>\n",
       "      <td>W</td>\n",
       "      <td>18018</td>\n",
       "      <td>452.0</td>\n",
       "      <td>150.0</td>\n",
       "      <td>mastercard</td>\n",
       "      <td>117.0</td>\n",
       "      <td>debit</td>\n",
       "      <td>...</td>\n",
       "      <td>NaN</td>\n",
       "      <td>NaN</td>\n",
       "      <td>NaN</td>\n",
       "      <td>NaN</td>\n",
       "      <td>NaN</td>\n",
       "      <td>NaN</td>\n",
       "      <td>NaN</td>\n",
       "      <td>NaN</td>\n",
       "      <td>NaN</td>\n",
       "      <td>NaN</td>\n",
       "    </tr>\n",
       "  </tbody>\n",
       "</table>\n",
       "<p>5 rows × 433 columns</p>\n",
       "</div>"
      ],
      "text/plain": [
       "   TransactionID  TransactionDT  TransactionAmt ProductCD  card1  card2  \\\n",
       "0        3663549       18403224           31.95         W  10409  111.0   \n",
       "1        3663550       18403263           49.00         W   4272  111.0   \n",
       "2        3663551       18403310          171.00         W   4476  574.0   \n",
       "3        3663552       18403310          284.95         W  10989  360.0   \n",
       "4        3663553       18403317           67.95         W  18018  452.0   \n",
       "\n",
       "   card3       card4  card5  card6  ...  id-31  id-32  id-33  id-34 id-35  \\\n",
       "0  150.0        visa  226.0  debit  ...    NaN    NaN    NaN    NaN   NaN   \n",
       "1  150.0        visa  226.0  debit  ...    NaN    NaN    NaN    NaN   NaN   \n",
       "2  150.0        visa  226.0  debit  ...    NaN    NaN    NaN    NaN   NaN   \n",
       "3  150.0        visa  166.0  debit  ...    NaN    NaN    NaN    NaN   NaN   \n",
       "4  150.0  mastercard  117.0  debit  ...    NaN    NaN    NaN    NaN   NaN   \n",
       "\n",
       "  id-36  id-37  id-38  DeviceType  DeviceInfo  \n",
       "0   NaN    NaN    NaN         NaN         NaN  \n",
       "1   NaN    NaN    NaN         NaN         NaN  \n",
       "2   NaN    NaN    NaN         NaN         NaN  \n",
       "3   NaN    NaN    NaN         NaN         NaN  \n",
       "4   NaN    NaN    NaN         NaN         NaN  \n",
       "\n",
       "[5 rows x 433 columns]"
      ]
     },
     "execution_count": 11,
     "metadata": {},
     "output_type": "execute_result"
    }
   ],
   "source": [
    "test_data.head()"
   ]
  },
  {
   "cell_type": "code",
   "execution_count": 12,
   "id": "492a58eb",
   "metadata": {
    "execution": {
     "iopub.execute_input": "2023-05-03T07:31:27.497215Z",
     "iopub.status.busy": "2023-05-03T07:31:27.496552Z",
     "iopub.status.idle": "2023-05-03T07:31:30.541972Z",
     "shell.execute_reply": "2023-05-03T07:31:30.540718Z"
    },
    "papermill": {
     "duration": 3.065925,
     "end_time": "2023-05-03T07:31:30.544527",
     "exception": false,
     "start_time": "2023-05-03T07:31:27.478602",
     "status": "completed"
    },
    "tags": []
   },
   "outputs": [
    {
     "data": {
      "text/plain": [
       "TransactionID          0\n",
       "isFraud                0\n",
       "TransactionDT          0\n",
       "TransactionAmt         0\n",
       "ProductCD              0\n",
       "                   ...  \n",
       "id_36             449555\n",
       "id_37             449555\n",
       "id_38             449555\n",
       "DeviceType        449730\n",
       "DeviceInfo        471874\n",
       "Length: 434, dtype: int64"
      ]
     },
     "execution_count": 12,
     "metadata": {},
     "output_type": "execute_result"
    }
   ],
   "source": [
    "train_data.isnull().sum()"
   ]
  },
  {
   "cell_type": "code",
   "execution_count": 13,
   "id": "87eb1605",
   "metadata": {
    "execution": {
     "iopub.execute_input": "2023-05-03T07:31:30.581569Z",
     "iopub.status.busy": "2023-05-03T07:31:30.580315Z",
     "iopub.status.idle": "2023-05-03T07:31:33.352477Z",
     "shell.execute_reply": "2023-05-03T07:31:33.351185Z"
    },
    "papermill": {
     "duration": 2.793877,
     "end_time": "2023-05-03T07:31:33.355285",
     "exception": false,
     "start_time": "2023-05-03T07:31:30.561408",
     "status": "completed"
    },
    "tags": []
   },
   "outputs": [
    {
     "data": {
      "text/plain": [
       "TransactionID          0\n",
       "TransactionDT          0\n",
       "TransactionAmt         0\n",
       "ProductCD              0\n",
       "card1                  0\n",
       "                   ...  \n",
       "id-36             369714\n",
       "id-37             369714\n",
       "id-38             369714\n",
       "DeviceType        369760\n",
       "DeviceInfo        391634\n",
       "Length: 433, dtype: int64"
      ]
     },
     "execution_count": 13,
     "metadata": {},
     "output_type": "execute_result"
    }
   ],
   "source": [
    "test_data.isnull().sum()"
   ]
  },
  {
   "cell_type": "code",
   "execution_count": 14,
   "id": "8cdc08f2",
   "metadata": {
    "execution": {
     "iopub.execute_input": "2023-05-03T07:31:33.391283Z",
     "iopub.status.busy": "2023-05-03T07:31:33.390570Z",
     "iopub.status.idle": "2023-05-03T07:31:37.056626Z",
     "shell.execute_reply": "2023-05-03T07:31:37.055577Z"
    },
    "papermill": {
     "duration": 3.686844,
     "end_time": "2023-05-03T07:31:37.059238",
     "exception": false,
     "start_time": "2023-05-03T07:31:33.372394",
     "status": "completed"
    },
    "tags": []
   },
   "outputs": [],
   "source": [
    "test_data= test_data.rename(columns=lambda x:\"_\".join(x.split(\"-\")))"
   ]
  },
  {
   "cell_type": "code",
   "execution_count": 15,
   "id": "923029cc",
   "metadata": {
    "execution": {
     "iopub.execute_input": "2023-05-03T07:31:37.094432Z",
     "iopub.status.busy": "2023-05-03T07:31:37.094002Z",
     "iopub.status.idle": "2023-05-03T07:31:40.065791Z",
     "shell.execute_reply": "2023-05-03T07:31:40.064595Z"
    },
    "papermill": {
     "duration": 2.992423,
     "end_time": "2023-05-03T07:31:40.068452",
     "exception": false,
     "start_time": "2023-05-03T07:31:37.076029",
     "status": "completed"
    },
    "tags": []
   },
   "outputs": [
    {
     "name": "stdout",
     "output_type": "stream",
     "text": [
      "Number of columns with missing values are 414\n"
     ]
    }
   ],
   "source": [
    "print(f\"Number of columns with missing values are {train_data.isnull().any().sum()}\")"
   ]
  },
  {
   "cell_type": "code",
   "execution_count": 16,
   "id": "66ef6244",
   "metadata": {
    "execution": {
     "iopub.execute_input": "2023-05-03T07:31:40.104576Z",
     "iopub.status.busy": "2023-05-03T07:31:40.103249Z",
     "iopub.status.idle": "2023-05-03T07:31:40.129802Z",
     "shell.execute_reply": "2023-05-03T07:31:40.128400Z"
    },
    "papermill": {
     "duration": 0.047383,
     "end_time": "2023-05-03T07:31:40.132564",
     "exception": false,
     "start_time": "2023-05-03T07:31:40.085181",
     "status": "completed"
    },
    "tags": []
   },
   "outputs": [
    {
     "data": {
      "text/html": [
       "<div>\n",
       "<style scoped>\n",
       "    .dataframe tbody tr th:only-of-type {\n",
       "        vertical-align: middle;\n",
       "    }\n",
       "\n",
       "    .dataframe tbody tr th {\n",
       "        vertical-align: top;\n",
       "    }\n",
       "\n",
       "    .dataframe thead th {\n",
       "        text-align: right;\n",
       "    }\n",
       "</style>\n",
       "<table border=\"1\" class=\"dataframe\">\n",
       "  <thead>\n",
       "    <tr style=\"text-align: right;\">\n",
       "      <th></th>\n",
       "      <th>TransactionID</th>\n",
       "      <th>TransactionDT</th>\n",
       "      <th>TransactionAmt</th>\n",
       "      <th>ProductCD</th>\n",
       "      <th>card1</th>\n",
       "      <th>card2</th>\n",
       "      <th>card3</th>\n",
       "      <th>card4</th>\n",
       "      <th>card5</th>\n",
       "      <th>card6</th>\n",
       "      <th>...</th>\n",
       "      <th>id_31</th>\n",
       "      <th>id_32</th>\n",
       "      <th>id_33</th>\n",
       "      <th>id_34</th>\n",
       "      <th>id_35</th>\n",
       "      <th>id_36</th>\n",
       "      <th>id_37</th>\n",
       "      <th>id_38</th>\n",
       "      <th>DeviceType</th>\n",
       "      <th>DeviceInfo</th>\n",
       "    </tr>\n",
       "  </thead>\n",
       "  <tbody>\n",
       "    <tr>\n",
       "      <th>0</th>\n",
       "      <td>3663549</td>\n",
       "      <td>18403224</td>\n",
       "      <td>31.95</td>\n",
       "      <td>W</td>\n",
       "      <td>10409</td>\n",
       "      <td>111.0</td>\n",
       "      <td>150.0</td>\n",
       "      <td>visa</td>\n",
       "      <td>226.0</td>\n",
       "      <td>debit</td>\n",
       "      <td>...</td>\n",
       "      <td>NaN</td>\n",
       "      <td>NaN</td>\n",
       "      <td>NaN</td>\n",
       "      <td>NaN</td>\n",
       "      <td>NaN</td>\n",
       "      <td>NaN</td>\n",
       "      <td>NaN</td>\n",
       "      <td>NaN</td>\n",
       "      <td>NaN</td>\n",
       "      <td>NaN</td>\n",
       "    </tr>\n",
       "    <tr>\n",
       "      <th>1</th>\n",
       "      <td>3663550</td>\n",
       "      <td>18403263</td>\n",
       "      <td>49.00</td>\n",
       "      <td>W</td>\n",
       "      <td>4272</td>\n",
       "      <td>111.0</td>\n",
       "      <td>150.0</td>\n",
       "      <td>visa</td>\n",
       "      <td>226.0</td>\n",
       "      <td>debit</td>\n",
       "      <td>...</td>\n",
       "      <td>NaN</td>\n",
       "      <td>NaN</td>\n",
       "      <td>NaN</td>\n",
       "      <td>NaN</td>\n",
       "      <td>NaN</td>\n",
       "      <td>NaN</td>\n",
       "      <td>NaN</td>\n",
       "      <td>NaN</td>\n",
       "      <td>NaN</td>\n",
       "      <td>NaN</td>\n",
       "    </tr>\n",
       "    <tr>\n",
       "      <th>2</th>\n",
       "      <td>3663551</td>\n",
       "      <td>18403310</td>\n",
       "      <td>171.00</td>\n",
       "      <td>W</td>\n",
       "      <td>4476</td>\n",
       "      <td>574.0</td>\n",
       "      <td>150.0</td>\n",
       "      <td>visa</td>\n",
       "      <td>226.0</td>\n",
       "      <td>debit</td>\n",
       "      <td>...</td>\n",
       "      <td>NaN</td>\n",
       "      <td>NaN</td>\n",
       "      <td>NaN</td>\n",
       "      <td>NaN</td>\n",
       "      <td>NaN</td>\n",
       "      <td>NaN</td>\n",
       "      <td>NaN</td>\n",
       "      <td>NaN</td>\n",
       "      <td>NaN</td>\n",
       "      <td>NaN</td>\n",
       "    </tr>\n",
       "    <tr>\n",
       "      <th>3</th>\n",
       "      <td>3663552</td>\n",
       "      <td>18403310</td>\n",
       "      <td>284.95</td>\n",
       "      <td>W</td>\n",
       "      <td>10989</td>\n",
       "      <td>360.0</td>\n",
       "      <td>150.0</td>\n",
       "      <td>visa</td>\n",
       "      <td>166.0</td>\n",
       "      <td>debit</td>\n",
       "      <td>...</td>\n",
       "      <td>NaN</td>\n",
       "      <td>NaN</td>\n",
       "      <td>NaN</td>\n",
       "      <td>NaN</td>\n",
       "      <td>NaN</td>\n",
       "      <td>NaN</td>\n",
       "      <td>NaN</td>\n",
       "      <td>NaN</td>\n",
       "      <td>NaN</td>\n",
       "      <td>NaN</td>\n",
       "    </tr>\n",
       "    <tr>\n",
       "      <th>4</th>\n",
       "      <td>3663553</td>\n",
       "      <td>18403317</td>\n",
       "      <td>67.95</td>\n",
       "      <td>W</td>\n",
       "      <td>18018</td>\n",
       "      <td>452.0</td>\n",
       "      <td>150.0</td>\n",
       "      <td>mastercard</td>\n",
       "      <td>117.0</td>\n",
       "      <td>debit</td>\n",
       "      <td>...</td>\n",
       "      <td>NaN</td>\n",
       "      <td>NaN</td>\n",
       "      <td>NaN</td>\n",
       "      <td>NaN</td>\n",
       "      <td>NaN</td>\n",
       "      <td>NaN</td>\n",
       "      <td>NaN</td>\n",
       "      <td>NaN</td>\n",
       "      <td>NaN</td>\n",
       "      <td>NaN</td>\n",
       "    </tr>\n",
       "  </tbody>\n",
       "</table>\n",
       "<p>5 rows × 433 columns</p>\n",
       "</div>"
      ],
      "text/plain": [
       "   TransactionID  TransactionDT  TransactionAmt ProductCD  card1  card2  \\\n",
       "0        3663549       18403224           31.95         W  10409  111.0   \n",
       "1        3663550       18403263           49.00         W   4272  111.0   \n",
       "2        3663551       18403310          171.00         W   4476  574.0   \n",
       "3        3663552       18403310          284.95         W  10989  360.0   \n",
       "4        3663553       18403317           67.95         W  18018  452.0   \n",
       "\n",
       "   card3       card4  card5  card6  ...  id_31  id_32  id_33  id_34 id_35  \\\n",
       "0  150.0        visa  226.0  debit  ...    NaN    NaN    NaN    NaN   NaN   \n",
       "1  150.0        visa  226.0  debit  ...    NaN    NaN    NaN    NaN   NaN   \n",
       "2  150.0        visa  226.0  debit  ...    NaN    NaN    NaN    NaN   NaN   \n",
       "3  150.0        visa  166.0  debit  ...    NaN    NaN    NaN    NaN   NaN   \n",
       "4  150.0  mastercard  117.0  debit  ...    NaN    NaN    NaN    NaN   NaN   \n",
       "\n",
       "  id_36  id_37  id_38  DeviceType  DeviceInfo  \n",
       "0   NaN    NaN    NaN         NaN         NaN  \n",
       "1   NaN    NaN    NaN         NaN         NaN  \n",
       "2   NaN    NaN    NaN         NaN         NaN  \n",
       "3   NaN    NaN    NaN         NaN         NaN  \n",
       "4   NaN    NaN    NaN         NaN         NaN  \n",
       "\n",
       "[5 rows x 433 columns]"
      ]
     },
     "execution_count": 16,
     "metadata": {},
     "output_type": "execute_result"
    }
   ],
   "source": [
    "test_data.head()"
   ]
  },
  {
   "cell_type": "code",
   "execution_count": 17,
   "id": "ee5b9c97",
   "metadata": {
    "execution": {
     "iopub.execute_input": "2023-05-03T07:31:40.169671Z",
     "iopub.status.busy": "2023-05-03T07:31:40.169202Z",
     "iopub.status.idle": "2023-05-03T07:31:40.193987Z",
     "shell.execute_reply": "2023-05-03T07:31:40.192740Z"
    },
    "papermill": {
     "duration": 0.046319,
     "end_time": "2023-05-03T07:31:40.196599",
     "exception": false,
     "start_time": "2023-05-03T07:31:40.150280",
     "status": "completed"
    },
    "tags": []
   },
   "outputs": [
    {
     "data": {
      "text/html": [
       "<div>\n",
       "<style scoped>\n",
       "    .dataframe tbody tr th:only-of-type {\n",
       "        vertical-align: middle;\n",
       "    }\n",
       "\n",
       "    .dataframe tbody tr th {\n",
       "        vertical-align: top;\n",
       "    }\n",
       "\n",
       "    .dataframe thead th {\n",
       "        text-align: right;\n",
       "    }\n",
       "</style>\n",
       "<table border=\"1\" class=\"dataframe\">\n",
       "  <thead>\n",
       "    <tr style=\"text-align: right;\">\n",
       "      <th></th>\n",
       "      <th>TransactionID</th>\n",
       "      <th>isFraud</th>\n",
       "      <th>TransactionDT</th>\n",
       "      <th>TransactionAmt</th>\n",
       "      <th>ProductCD</th>\n",
       "      <th>card1</th>\n",
       "      <th>card2</th>\n",
       "      <th>card3</th>\n",
       "      <th>card4</th>\n",
       "      <th>card5</th>\n",
       "      <th>...</th>\n",
       "      <th>id_31</th>\n",
       "      <th>id_32</th>\n",
       "      <th>id_33</th>\n",
       "      <th>id_34</th>\n",
       "      <th>id_35</th>\n",
       "      <th>id_36</th>\n",
       "      <th>id_37</th>\n",
       "      <th>id_38</th>\n",
       "      <th>DeviceType</th>\n",
       "      <th>DeviceInfo</th>\n",
       "    </tr>\n",
       "  </thead>\n",
       "  <tbody>\n",
       "    <tr>\n",
       "      <th>0</th>\n",
       "      <td>2987000</td>\n",
       "      <td>0</td>\n",
       "      <td>86400</td>\n",
       "      <td>68.5</td>\n",
       "      <td>W</td>\n",
       "      <td>13926</td>\n",
       "      <td>NaN</td>\n",
       "      <td>150.0</td>\n",
       "      <td>discover</td>\n",
       "      <td>142.0</td>\n",
       "      <td>...</td>\n",
       "      <td>NaN</td>\n",
       "      <td>NaN</td>\n",
       "      <td>NaN</td>\n",
       "      <td>NaN</td>\n",
       "      <td>NaN</td>\n",
       "      <td>NaN</td>\n",
       "      <td>NaN</td>\n",
       "      <td>NaN</td>\n",
       "      <td>NaN</td>\n",
       "      <td>NaN</td>\n",
       "    </tr>\n",
       "    <tr>\n",
       "      <th>1</th>\n",
       "      <td>2987001</td>\n",
       "      <td>0</td>\n",
       "      <td>86401</td>\n",
       "      <td>29.0</td>\n",
       "      <td>W</td>\n",
       "      <td>2755</td>\n",
       "      <td>404.0</td>\n",
       "      <td>150.0</td>\n",
       "      <td>mastercard</td>\n",
       "      <td>102.0</td>\n",
       "      <td>...</td>\n",
       "      <td>NaN</td>\n",
       "      <td>NaN</td>\n",
       "      <td>NaN</td>\n",
       "      <td>NaN</td>\n",
       "      <td>NaN</td>\n",
       "      <td>NaN</td>\n",
       "      <td>NaN</td>\n",
       "      <td>NaN</td>\n",
       "      <td>NaN</td>\n",
       "      <td>NaN</td>\n",
       "    </tr>\n",
       "    <tr>\n",
       "      <th>2</th>\n",
       "      <td>2987002</td>\n",
       "      <td>0</td>\n",
       "      <td>86469</td>\n",
       "      <td>59.0</td>\n",
       "      <td>W</td>\n",
       "      <td>4663</td>\n",
       "      <td>490.0</td>\n",
       "      <td>150.0</td>\n",
       "      <td>visa</td>\n",
       "      <td>166.0</td>\n",
       "      <td>...</td>\n",
       "      <td>NaN</td>\n",
       "      <td>NaN</td>\n",
       "      <td>NaN</td>\n",
       "      <td>NaN</td>\n",
       "      <td>NaN</td>\n",
       "      <td>NaN</td>\n",
       "      <td>NaN</td>\n",
       "      <td>NaN</td>\n",
       "      <td>NaN</td>\n",
       "      <td>NaN</td>\n",
       "    </tr>\n",
       "    <tr>\n",
       "      <th>3</th>\n",
       "      <td>2987003</td>\n",
       "      <td>0</td>\n",
       "      <td>86499</td>\n",
       "      <td>50.0</td>\n",
       "      <td>W</td>\n",
       "      <td>18132</td>\n",
       "      <td>567.0</td>\n",
       "      <td>150.0</td>\n",
       "      <td>mastercard</td>\n",
       "      <td>117.0</td>\n",
       "      <td>...</td>\n",
       "      <td>NaN</td>\n",
       "      <td>NaN</td>\n",
       "      <td>NaN</td>\n",
       "      <td>NaN</td>\n",
       "      <td>NaN</td>\n",
       "      <td>NaN</td>\n",
       "      <td>NaN</td>\n",
       "      <td>NaN</td>\n",
       "      <td>NaN</td>\n",
       "      <td>NaN</td>\n",
       "    </tr>\n",
       "    <tr>\n",
       "      <th>4</th>\n",
       "      <td>2987004</td>\n",
       "      <td>0</td>\n",
       "      <td>86506</td>\n",
       "      <td>50.0</td>\n",
       "      <td>H</td>\n",
       "      <td>4497</td>\n",
       "      <td>514.0</td>\n",
       "      <td>150.0</td>\n",
       "      <td>mastercard</td>\n",
       "      <td>102.0</td>\n",
       "      <td>...</td>\n",
       "      <td>samsung browser 6.2</td>\n",
       "      <td>32.0</td>\n",
       "      <td>2220x1080</td>\n",
       "      <td>match_status:2</td>\n",
       "      <td>T</td>\n",
       "      <td>F</td>\n",
       "      <td>T</td>\n",
       "      <td>T</td>\n",
       "      <td>mobile</td>\n",
       "      <td>SAMSUNG SM-G892A Build/NRD90M</td>\n",
       "    </tr>\n",
       "  </tbody>\n",
       "</table>\n",
       "<p>5 rows × 434 columns</p>\n",
       "</div>"
      ],
      "text/plain": [
       "   TransactionID  isFraud  TransactionDT  TransactionAmt ProductCD  card1  \\\n",
       "0        2987000        0          86400            68.5         W  13926   \n",
       "1        2987001        0          86401            29.0         W   2755   \n",
       "2        2987002        0          86469            59.0         W   4663   \n",
       "3        2987003        0          86499            50.0         W  18132   \n",
       "4        2987004        0          86506            50.0         H   4497   \n",
       "\n",
       "   card2  card3       card4  card5  ...                id_31  id_32  \\\n",
       "0    NaN  150.0    discover  142.0  ...                  NaN    NaN   \n",
       "1  404.0  150.0  mastercard  102.0  ...                  NaN    NaN   \n",
       "2  490.0  150.0        visa  166.0  ...                  NaN    NaN   \n",
       "3  567.0  150.0  mastercard  117.0  ...                  NaN    NaN   \n",
       "4  514.0  150.0  mastercard  102.0  ...  samsung browser 6.2   32.0   \n",
       "\n",
       "       id_33           id_34  id_35 id_36 id_37  id_38  DeviceType  \\\n",
       "0        NaN             NaN    NaN   NaN   NaN    NaN         NaN   \n",
       "1        NaN             NaN    NaN   NaN   NaN    NaN         NaN   \n",
       "2        NaN             NaN    NaN   NaN   NaN    NaN         NaN   \n",
       "3        NaN             NaN    NaN   NaN   NaN    NaN         NaN   \n",
       "4  2220x1080  match_status:2      T     F     T      T      mobile   \n",
       "\n",
       "                      DeviceInfo  \n",
       "0                            NaN  \n",
       "1                            NaN  \n",
       "2                            NaN  \n",
       "3                            NaN  \n",
       "4  SAMSUNG SM-G892A Build/NRD90M  \n",
       "\n",
       "[5 rows x 434 columns]"
      ]
     },
     "execution_count": 17,
     "metadata": {},
     "output_type": "execute_result"
    }
   ],
   "source": [
    "train_data.head()"
   ]
  },
  {
   "cell_type": "code",
   "execution_count": 18,
   "id": "01eacf43",
   "metadata": {
    "execution": {
     "iopub.execute_input": "2023-05-03T07:31:40.233438Z",
     "iopub.status.busy": "2023-05-03T07:31:40.233017Z",
     "iopub.status.idle": "2023-05-03T07:31:41.190303Z",
     "shell.execute_reply": "2023-05-03T07:31:41.188984Z"
    },
    "papermill": {
     "duration": 0.97922,
     "end_time": "2023-05-03T07:31:41.193222",
     "exception": false,
     "start_time": "2023-05-03T07:31:40.214002",
     "status": "completed"
    },
    "tags": []
   },
   "outputs": [],
   "source": [
    "test_data= test_data.rename(columns=lambda x:\"_\".join(x.split(\"-\")))"
   ]
  },
  {
   "cell_type": "code",
   "execution_count": 19,
   "id": "a3bc1523",
   "metadata": {
    "execution": {
     "iopub.execute_input": "2023-05-03T07:31:41.230318Z",
     "iopub.status.busy": "2023-05-03T07:31:41.229889Z",
     "iopub.status.idle": "2023-05-03T07:31:41.262503Z",
     "shell.execute_reply": "2023-05-03T07:31:41.261020Z"
    },
    "papermill": {
     "duration": 0.054056,
     "end_time": "2023-05-03T07:31:41.265048",
     "exception": false,
     "start_time": "2023-05-03T07:31:41.210992",
     "status": "completed"
    },
    "tags": []
   },
   "outputs": [
    {
     "data": {
      "text/plain": [
       "desktop    85165\n",
       "mobile     55645\n",
       "Name: DeviceType, dtype: int64"
      ]
     },
     "execution_count": 19,
     "metadata": {},
     "output_type": "execute_result"
    }
   ],
   "source": [
    "\n",
    "\n",
    "DeviceType_Count = train_data['DeviceType'].value_counts()\n",
    "DeviceType_Count"
   ]
  },
  {
   "cell_type": "code",
   "execution_count": 20,
   "id": "50691b83",
   "metadata": {
    "execution": {
     "iopub.execute_input": "2023-05-03T07:31:41.303648Z",
     "iopub.status.busy": "2023-05-03T07:31:41.303244Z",
     "iopub.status.idle": "2023-05-03T07:31:41.798667Z",
     "shell.execute_reply": "2023-05-03T07:31:41.797426Z"
    },
    "papermill": {
     "duration": 0.517888,
     "end_time": "2023-05-03T07:31:41.801125",
     "exception": false,
     "start_time": "2023-05-03T07:31:41.283237",
     "status": "completed"
    },
    "tags": []
   },
   "outputs": [
    {
     "data": {
      "text/plain": [
       "<AxesSubplot: xlabel='DeviceType', ylabel='count'>"
      ]
     },
     "execution_count": 20,
     "metadata": {},
     "output_type": "execute_result"
    },
    {
     "data": {
      "image/png": "[encoded data removed]",
      "text/plain": [
       "<Figure size 640x480 with 1 Axes>"
      ]
     },
     "metadata": {},
     "output_type": "display_data"
    }
   ],
   "source": [
    "sns.countplot(x=train_data[\"DeviceType\"])"
   ]
  },
  {
   "cell_type": "code",
   "execution_count": 21,
   "id": "bd30ba79",
   "metadata": {
    "execution": {
     "iopub.execute_input": "2023-05-03T07:31:41.841474Z",
     "iopub.status.busy": "2023-05-03T07:31:41.840129Z",
     "iopub.status.idle": "2023-05-03T07:31:41.872547Z",
     "shell.execute_reply": "2023-05-03T07:31:41.871105Z"
    },
    "papermill": {
     "duration": 0.054506,
     "end_time": "2023-05-03T07:31:41.875328",
     "exception": false,
     "start_time": "2023-05-03T07:31:41.820822",
     "status": "completed"
    },
    "tags": []
   },
   "outputs": [
    {
     "data": {
      "text/plain": [
       "Windows        47722\n",
       "iOS Device     19782\n",
       "MacOS          12573\n",
       "Trident/7.0     7440\n",
       "rv:11.0         1901\n",
       "               ...  \n",
       "LGMS345            1\n",
       "verykool           1\n",
       "XT1072             1\n",
       "LG-H931            1\n",
       "0PJA2              1\n",
       "Name: DeviceInfo, Length: 1786, dtype: int64"
      ]
     },
     "execution_count": 21,
     "metadata": {},
     "output_type": "execute_result"
    }
   ],
   "source": [
    "train_data['DeviceInfo'].value_counts()"
   ]
  },
  {
   "cell_type": "code",
   "execution_count": 22,
   "id": "7cc997be",
   "metadata": {
    "execution": {
     "iopub.execute_input": "2023-05-03T07:31:41.913888Z",
     "iopub.status.busy": "2023-05-03T07:31:41.913063Z",
     "iopub.status.idle": "2023-05-03T07:31:42.285708Z",
     "shell.execute_reply": "2023-05-03T07:31:42.284218Z"
    },
    "papermill": {
     "duration": 0.394828,
     "end_time": "2023-05-03T07:31:42.288219",
     "exception": false,
     "start_time": "2023-05-03T07:31:41.893391",
     "status": "completed"
    },
    "tags": []
   },
   "outputs": [
    {
     "data": {
      "image/png": "[encoded data removed]",
      "text/plain": [
       "<Figure size 1000x500 with 1 Axes>"
      ]
     },
     "metadata": {},
     "output_type": "display_data"
    }
   ],
   "source": [
    "train_data['DeviceInfo'].value_counts().head(10).plot(kind='barh', figsize=(10, 5), title='Top 20 Devices in Train')\n",
    "plt.show()"
   ]
  },
  {
   "cell_type": "code",
   "execution_count": 23,
   "id": "a1e6aa06",
   "metadata": {
    "execution": {
     "iopub.execute_input": "2023-05-03T07:31:42.327192Z",
     "iopub.status.busy": "2023-05-03T07:31:42.326787Z",
     "iopub.status.idle": "2023-05-03T07:31:42.886809Z",
     "shell.execute_reply": "2023-05-03T07:31:42.885899Z"
    },
    "papermill": {
     "duration": 0.582236,
     "end_time": "2023-05-03T07:31:42.889034",
     "exception": false,
     "start_time": "2023-05-03T07:31:42.306798",
     "status": "completed"
    },
    "tags": []
   },
   "outputs": [
    {
     "data": {
      "text/plain": [
       "W    439670\n",
       "C     68519\n",
       "R     37699\n",
       "H     33024\n",
       "S     11628\n",
       "Name: ProductCD, dtype: int64"
      ]
     },
     "execution_count": 23,
     "metadata": {},
     "output_type": "execute_result"
    },
    {
     "data": {
      "image/png": "[encoded data removed]",
      "text/plain": [
       "<Figure size 640x480 with 1 Axes>"
      ]
     },
     "metadata": {},
     "output_type": "display_data"
    }
   ],
   "source": [
    "#ProductCD - Product Code - May not be an actual product - can be a service too\n",
    "sns.countplot(x=train_data['ProductCD'])\n",
    "\n",
    "train_data['ProductCD'].value_counts()"
   ]
  },
  {
   "cell_type": "code",
   "execution_count": 24,
   "id": "f6e1810f",
   "metadata": {
    "execution": {
     "iopub.execute_input": "2023-05-03T07:31:42.930612Z",
     "iopub.status.busy": "2023-05-03T07:31:42.929265Z",
     "iopub.status.idle": "2023-05-03T07:31:43.556165Z",
     "shell.execute_reply": "2023-05-03T07:31:43.554847Z"
    },
    "papermill": {
     "duration": 0.650162,
     "end_time": "2023-05-03T07:31:43.558679",
     "exception": false,
     "start_time": "2023-05-03T07:31:42.908517",
     "status": "completed"
    },
    "tags": []
   },
   "outputs": [
    {
     "data": {
      "image/png": "[encoded data removed]",
      "text/plain": [
       "<Figure size 640x480 with 1 Axes>"
      ]
     },
     "metadata": {},
     "output_type": "display_data"
    }
   ],
   "source": [
    "sns.countplot(data=train_data,x='ProductCD',hue='isFraud')\n",
    "plt.show()"
   ]
  },
  {
   "cell_type": "code",
   "execution_count": 25,
   "id": "92234d16",
   "metadata": {
    "execution": {
     "iopub.execute_input": "2023-05-03T07:31:43.601108Z",
     "iopub.status.busy": "2023-05-03T07:31:43.600721Z",
     "iopub.status.idle": "2023-05-03T07:31:43.620039Z",
     "shell.execute_reply": "2023-05-03T07:31:43.618824Z"
    },
    "papermill": {
     "duration": 0.042638,
     "end_time": "2023-05-03T07:31:43.622099",
     "exception": false,
     "start_time": "2023-05-03T07:31:43.579461",
     "status": "completed"
    },
    "tags": []
   },
   "outputs": [
    {
     "data": {
      "text/plain": [
       "299.0    46335\n",
       "325.0    42751\n",
       "204.0    42020\n",
       "264.0    39870\n",
       "330.0    26287\n",
       "315.0    23078\n",
       "441.0    20827\n",
       "272.0    20141\n",
       "123.0    16105\n",
       "126.0    15243\n",
       "Name: addr1, dtype: int64"
      ]
     },
     "execution_count": 25,
     "metadata": {},
     "output_type": "execute_result"
    }
   ],
   "source": [
    "# addr1-addr2: Address, billing region and billing country\n",
    "train_data['addr1'].value_counts().head(10)"
   ]
  },
  {
   "cell_type": "code",
   "execution_count": 26,
   "id": "982994b4",
   "metadata": {
    "execution": {
     "iopub.execute_input": "2023-05-03T07:31:43.664470Z",
     "iopub.status.busy": "2023-05-03T07:31:43.663214Z",
     "iopub.status.idle": "2023-05-03T07:31:43.682609Z",
     "shell.execute_reply": "2023-05-03T07:31:43.681223Z"
    },
    "papermill": {
     "duration": 0.042893,
     "end_time": "2023-05-03T07:31:43.684724",
     "exception": false,
     "start_time": "2023-05-03T07:31:43.641831",
     "status": "completed"
    },
    "tags": []
   },
   "outputs": [
    {
     "data": {
      "text/plain": [
       "87.0    520481\n",
       "60.0      3084\n",
       "96.0       638\n",
       "32.0        91\n",
       "65.0        82\n",
       "16.0        55\n",
       "31.0        47\n",
       "19.0        33\n",
       "26.0        25\n",
       "27.0        20\n",
       "Name: addr2, dtype: int64"
      ]
     },
     "execution_count": 26,
     "metadata": {},
     "output_type": "execute_result"
    }
   ],
   "source": [
    "train_data['addr2'].value_counts().head(10)"
   ]
  },
  {
   "cell_type": "code",
   "execution_count": 27,
   "id": "a5c9f9e0",
   "metadata": {
    "execution": {
     "iopub.execute_input": "2023-05-03T07:31:43.726807Z",
     "iopub.status.busy": "2023-05-03T07:31:43.726135Z",
     "iopub.status.idle": "2023-05-03T07:31:43.772817Z",
     "shell.execute_reply": "2023-05-03T07:31:43.771679Z"
    },
    "papermill": {
     "duration": 0.070866,
     "end_time": "2023-05-03T07:31:43.775239",
     "exception": false,
     "start_time": "2023-05-03T07:31:43.704373",
     "status": "completed"
    },
    "tags": []
   },
   "outputs": [
    {
     "data": {
      "text/plain": [
       "gmail.com        228355\n",
       "yahoo.com        100934\n",
       "hotmail.com       45250\n",
       "anonymous.com     36998\n",
       "aol.com           28289\n",
       "comcast.net        7888\n",
       "icloud.com         6267\n",
       "outlook.com        5096\n",
       "msn.com            4092\n",
       "att.net            4033\n",
       "Name: P_emaildomain, dtype: int64"
      ]
     },
     "execution_count": 27,
     "metadata": {},
     "output_type": "execute_result"
    }
   ],
   "source": [
    "train_data['P_emaildomain'].value_counts()[:10]\n",
    "#P_ and (R__) emaildomain: Purchaser and recipient email domain, some transactions do not require the recipient, and the corresponding Remaildomain is empty"
   ]
  },
  {
   "cell_type": "code",
   "execution_count": 28,
   "id": "c47c37f2",
   "metadata": {
    "execution": {
     "iopub.execute_input": "2023-05-03T07:31:43.817198Z",
     "iopub.status.busy": "2023-05-03T07:31:43.816802Z",
     "iopub.status.idle": "2023-05-03T07:31:43.847144Z",
     "shell.execute_reply": "2023-05-03T07:31:43.846000Z"
    },
    "papermill": {
     "duration": 0.053954,
     "end_time": "2023-05-03T07:31:43.849282",
     "exception": false,
     "start_time": "2023-05-03T07:31:43.795328",
     "status": "completed"
    },
    "tags": []
   },
   "outputs": [
    {
     "data": {
      "text/plain": [
       "gmail.com        57147\n",
       "hotmail.com      27509\n",
       "anonymous.com    20529\n",
       "yahoo.com        11842\n",
       "aol.com           3701\n",
       "outlook.com       2507\n",
       "comcast.net       1812\n",
       "yahoo.com.mx      1508\n",
       "icloud.com        1398\n",
       "msn.com            852\n",
       "Name: R_emaildomain, dtype: int64"
      ]
     },
     "execution_count": 28,
     "metadata": {},
     "output_type": "execute_result"
    }
   ],
   "source": [
    "train_data['R_emaildomain'].value_counts()[:10]"
   ]
  },
  {
   "cell_type": "code",
   "execution_count": 29,
   "id": "983347ad",
   "metadata": {
    "execution": {
     "iopub.execute_input": "2023-05-03T07:31:43.890812Z",
     "iopub.status.busy": "2023-05-03T07:31:43.890041Z",
     "iopub.status.idle": "2023-05-03T07:31:43.958326Z",
     "shell.execute_reply": "2023-05-03T07:31:43.956906Z"
    },
    "papermill": {
     "duration": 0.091981,
     "end_time": "2023-05-03T07:31:43.960888",
     "exception": false,
     "start_time": "2023-05-03T07:31:43.868907",
     "status": "completed"
    },
    "tags": []
   },
   "outputs": [
    {
     "data": {
      "text/plain": [
       "P_emaildomain\n",
       "aim.com               40\n",
       "anonymous.com        859\n",
       "aol.com              617\n",
       "att.net               30\n",
       "bellsouth.net         53\n",
       "cableone.net           3\n",
       "centurylink.net        0\n",
       "cfl.rr.com             0\n",
       "charter.net           25\n",
       "comcast.net          246\n",
       "cox.net               29\n",
       "earthlink.net         11\n",
       "embarqmail.com         9\n",
       "frontier.com           8\n",
       "frontiernet.net        5\n",
       "gmail                 11\n",
       "gmail.com           9943\n",
       "gmx.de                 0\n",
       "hotmail.co.uk          0\n",
       "hotmail.com         2396\n",
       "hotmail.de             0\n",
       "hotmail.es            20\n",
       "hotmail.fr             0\n",
       "icloud.com           197\n",
       "juno.com               6\n",
       "live.com              84\n",
       "live.com.mx           41\n",
       "live.fr                0\n",
       "mac.com               14\n",
       "mail.com             106\n",
       "me.com                27\n",
       "msn.com               90\n",
       "netzero.com            0\n",
       "netzero.net            1\n",
       "optonline.net         17\n",
       "outlook.com          482\n",
       "outlook.es            57\n",
       "prodigy.net.mx         1\n",
       "protonmail.com        31\n",
       "ptd.net                0\n",
       "q.com                  0\n",
       "roadrunner.com         3\n",
       "rocketmail.com         2\n",
       "sbcglobal.net         12\n",
       "sc.rr.com              1\n",
       "servicios-ta.com       0\n",
       "suddenlink.net         4\n",
       "twc.com                0\n",
       "verizon.net           22\n",
       "web.de                 0\n",
       "windstream.net         0\n",
       "yahoo.co.jp            0\n",
       "yahoo.co.uk            0\n",
       "yahoo.com           2297\n",
       "yahoo.com.mx          16\n",
       "yahoo.de               0\n",
       "yahoo.es               2\n",
       "yahoo.fr               5\n",
       "ymail.com             50\n",
       "Name: isFraud, dtype: int64"
      ]
     },
     "execution_count": 29,
     "metadata": {},
     "output_type": "execute_result"
    }
   ],
   "source": [
    "isfraud_Pemail = train_data.groupby(\"P_emaildomain\")[\"isFraud\"].sum()\n",
    "isfraud_Pemail"
   ]
  },
  {
   "cell_type": "code",
   "execution_count": 30,
   "id": "8af899f1",
   "metadata": {
    "execution": {
     "iopub.execute_input": "2023-05-03T07:31:44.005241Z",
     "iopub.status.busy": "2023-05-03T07:31:44.004749Z",
     "iopub.status.idle": "2023-05-03T07:31:44.055314Z",
     "shell.execute_reply": "2023-05-03T07:31:44.054049Z"
    },
    "papermill": {
     "duration": 0.077247,
     "end_time": "2023-05-03T07:31:44.058636",
     "exception": false,
     "start_time": "2023-05-03T07:31:43.981389",
     "status": "completed"
    },
    "tags": []
   },
   "outputs": [
    {
     "data": {
      "text/plain": [
       "R_emaildomain\n",
       "aim.com                1\n",
       "anonymous.com        598\n",
       "aol.com              129\n",
       "att.net                0\n",
       "bellsouth.net          2\n",
       "cableone.net           0\n",
       "centurylink.net        0\n",
       "cfl.rr.com             0\n",
       "charter.net            5\n",
       "comcast.net           21\n",
       "cox.net               11\n",
       "earthlink.net          6\n",
       "embarqmail.com         0\n",
       "frontier.com           0\n",
       "frontiernet.net        0\n",
       "gmail                  0\n",
       "gmail.com           6811\n",
       "gmx.de                 0\n",
       "hotmail.co.uk          0\n",
       "hotmail.com         2140\n",
       "hotmail.de             0\n",
       "hotmail.es            20\n",
       "hotmail.fr             0\n",
       "icloud.com           180\n",
       "juno.com               0\n",
       "live.com              38\n",
       "live.com.mx           44\n",
       "live.fr                0\n",
       "mac.com                2\n",
       "mail.com              46\n",
       "me.com                11\n",
       "msn.com                1\n",
       "netzero.com            0\n",
       "netzero.net            2\n",
       "optonline.net          2\n",
       "outlook.com          414\n",
       "outlook.es            57\n",
       "prodigy.net.mx         1\n",
       "protonmail.com        39\n",
       "ptd.net                0\n",
       "q.com                  0\n",
       "roadrunner.com         0\n",
       "rocketmail.com         3\n",
       "sbcglobal.net          1\n",
       "sc.rr.com              0\n",
       "scranton.edu           0\n",
       "servicios-ta.com       0\n",
       "suddenlink.net         1\n",
       "twc.com                0\n",
       "verizon.net            0\n",
       "web.de                 0\n",
       "windstream.net         0\n",
       "yahoo.co.jp            0\n",
       "yahoo.co.uk            0\n",
       "yahoo.com            610\n",
       "yahoo.com.mx          16\n",
       "yahoo.de               0\n",
       "yahoo.es               2\n",
       "yahoo.fr               5\n",
       "ymail.com              8\n",
       "Name: isFraud, dtype: int64"
      ]
     },
     "execution_count": 30,
     "metadata": {},
     "output_type": "execute_result"
    }
   ],
   "source": [
    "isfraud_Remail = train_data.groupby(\"R_emaildomain\")[\"isFraud\"].sum()\n",
    "isfraud_Remail"
   ]
  },
  {
   "cell_type": "code",
   "execution_count": 31,
   "id": "68b03922",
   "metadata": {
    "execution": {
     "iopub.execute_input": "2023-05-03T07:31:44.100761Z",
     "iopub.status.busy": "2023-05-03T07:31:44.100316Z",
     "iopub.status.idle": "2023-05-03T07:31:47.263451Z",
     "shell.execute_reply": "2023-05-03T07:31:47.261914Z"
    },
    "papermill": {
     "duration": 3.187335,
     "end_time": "2023-05-03T07:31:47.266273",
     "exception": false,
     "start_time": "2023-05-03T07:31:44.078938",
     "status": "completed"
    },
    "tags": []
   },
   "outputs": [
    {
     "data": {
      "text/html": [
       "<div>\n",
       "<style scoped>\n",
       "    .dataframe tbody tr th:only-of-type {\n",
       "        vertical-align: middle;\n",
       "    }\n",
       "\n",
       "    .dataframe tbody tr th {\n",
       "        vertical-align: top;\n",
       "    }\n",
       "\n",
       "    .dataframe thead th {\n",
       "        text-align: right;\n",
       "    }\n",
       "</style>\n",
       "<table border=\"1\" class=\"dataframe\">\n",
       "  <thead>\n",
       "    <tr style=\"text-align: right;\">\n",
       "      <th></th>\n",
       "      <th>card1</th>\n",
       "      <th>card2</th>\n",
       "      <th>card3</th>\n",
       "      <th>card4</th>\n",
       "      <th>card5</th>\n",
       "      <th>card6</th>\n",
       "    </tr>\n",
       "  </thead>\n",
       "  <tbody>\n",
       "    <tr>\n",
       "      <th>0</th>\n",
       "      <td>13926</td>\n",
       "      <td>NaN</td>\n",
       "      <td>150.0</td>\n",
       "      <td>discover</td>\n",
       "      <td>142.0</td>\n",
       "      <td>credit</td>\n",
       "    </tr>\n",
       "    <tr>\n",
       "      <th>1</th>\n",
       "      <td>2755</td>\n",
       "      <td>404.0</td>\n",
       "      <td>150.0</td>\n",
       "      <td>mastercard</td>\n",
       "      <td>102.0</td>\n",
       "      <td>credit</td>\n",
       "    </tr>\n",
       "    <tr>\n",
       "      <th>2</th>\n",
       "      <td>4663</td>\n",
       "      <td>490.0</td>\n",
       "      <td>150.0</td>\n",
       "      <td>visa</td>\n",
       "      <td>166.0</td>\n",
       "      <td>debit</td>\n",
       "    </tr>\n",
       "    <tr>\n",
       "      <th>3</th>\n",
       "      <td>18132</td>\n",
       "      <td>567.0</td>\n",
       "      <td>150.0</td>\n",
       "      <td>mastercard</td>\n",
       "      <td>117.0</td>\n",
       "      <td>debit</td>\n",
       "    </tr>\n",
       "    <tr>\n",
       "      <th>4</th>\n",
       "      <td>4497</td>\n",
       "      <td>514.0</td>\n",
       "      <td>150.0</td>\n",
       "      <td>mastercard</td>\n",
       "      <td>102.0</td>\n",
       "      <td>credit</td>\n",
       "    </tr>\n",
       "  </tbody>\n",
       "</table>\n",
       "</div>"
      ],
      "text/plain": [
       "   card1  card2  card3       card4  card5   card6\n",
       "0  13926    NaN  150.0    discover  142.0  credit\n",
       "1   2755  404.0  150.0  mastercard  102.0  credit\n",
       "2   4663  490.0  150.0        visa  166.0   debit\n",
       "3  18132  567.0  150.0  mastercard  117.0   debit\n",
       "4   4497  514.0  150.0  mastercard  102.0  credit"
      ]
     },
     "execution_count": 31,
     "metadata": {},
     "output_type": "execute_result"
    }
   ],
   "source": [
    "card_cols = [c for c in train_data.columns if 'card' in c]\n",
    "train_data[card_cols].head()"
   ]
  },
  {
   "cell_type": "code",
   "execution_count": 32,
   "id": "16329d9c",
   "metadata": {
    "execution": {
     "iopub.execute_input": "2023-05-03T07:31:47.316490Z",
     "iopub.status.busy": "2023-05-03T07:31:47.316055Z",
     "iopub.status.idle": "2023-05-03T07:31:47.409935Z",
     "shell.execute_reply": "2023-05-03T07:31:47.408611Z"
    },
    "papermill": {
     "duration": 0.125613,
     "end_time": "2023-05-03T07:31:47.412591",
     "exception": false,
     "start_time": "2023-05-03T07:31:47.286978",
     "status": "completed"
    },
    "tags": []
   },
   "outputs": [
    {
     "name": "stdout",
     "output_type": "stream",
     "text": [
      "card1  : 13553\n",
      "card2  : 500\n",
      "card3  : 114\n",
      "card4  : 4\n",
      "card5  : 119\n",
      "card6  : 4\n"
     ]
    }
   ],
   "source": [
    "for col in card_cols:\n",
    "    print(col+'  : ' + str(train_data[col].nunique()))"
   ]
  },
  {
   "cell_type": "code",
   "execution_count": 33,
   "id": "3797bfae",
   "metadata": {
    "execution": {
     "iopub.execute_input": "2023-05-03T07:31:47.457435Z",
     "iopub.status.busy": "2023-05-03T07:31:47.456606Z",
     "iopub.status.idle": "2023-05-03T07:31:48.078521Z",
     "shell.execute_reply": "2023-05-03T07:31:48.077263Z"
    },
    "papermill": {
     "duration": 0.646601,
     "end_time": "2023-05-03T07:31:48.081020",
     "exception": false,
     "start_time": "2023-05-03T07:31:47.434419",
     "status": "completed"
    },
    "tags": []
   },
   "outputs": [
    {
     "data": {
      "text/plain": [
       "visa                384767\n",
       "mastercard          189217\n",
       "american express      8328\n",
       "discover              6651\n",
       "Name: card4, dtype: int64"
      ]
     },
     "execution_count": 33,
     "metadata": {},
     "output_type": "execute_result"
    },
    {
     "data": {
      "image/png": "[encoded data removed]",
      "text/plain": [
       "<Figure size 640x480 with 1 Axes>"
      ]
     },
     "metadata": {},
     "output_type": "display_data"
    }
   ],
   "source": [
    "sns.countplot(x=train_data[\"card4\"])\n",
    "\n",
    "train_data[\"card4\"].value_counts()\n",
    "\n",
    "#Highest card used is Visa"
   ]
  },
  {
   "cell_type": "code",
   "execution_count": 34,
   "id": "b5d1a59c",
   "metadata": {
    "execution": {
     "iopub.execute_input": "2023-05-03T07:31:48.125054Z",
     "iopub.status.busy": "2023-05-03T07:31:48.124657Z",
     "iopub.status.idle": "2023-05-03T07:31:48.747392Z",
     "shell.execute_reply": "2023-05-03T07:31:48.746101Z"
    },
    "papermill": {
     "duration": 0.647704,
     "end_time": "2023-05-03T07:31:48.749798",
     "exception": false,
     "start_time": "2023-05-03T07:31:48.102094",
     "status": "completed"
    },
    "tags": []
   },
   "outputs": [
    {
     "data": {
      "text/plain": [
       "debit              439938\n",
       "credit             148986\n",
       "debit or credit        30\n",
       "charge card            15\n",
       "Name: card6, dtype: int64"
      ]
     },
     "execution_count": 34,
     "metadata": {},
     "output_type": "execute_result"
    },
    {
     "data": {
      "image/png": "[encoded data removed]",
      "text/plain": [
       "<Figure size 640x480 with 1 Axes>"
      ]
     },
     "metadata": {},
     "output_type": "display_data"
    }
   ],
   "source": [
    "sns.countplot(x=train_data[\"card6\"])\n",
    "\n",
    "train_data[\"card6\"].value_counts()\n",
    "\n",
    "#Mostly debit cards are used"
   ]
  },
  {
   "cell_type": "code",
   "execution_count": 35,
   "id": "f253125d",
   "metadata": {
    "execution": {
     "iopub.execute_input": "2023-05-03T07:31:48.795915Z",
     "iopub.status.busy": "2023-05-03T07:31:48.794944Z",
     "iopub.status.idle": "2023-05-03T07:31:48.833821Z",
     "shell.execute_reply": "2023-05-03T07:31:48.832705Z"
    },
    "papermill": {
     "duration": 0.064506,
     "end_time": "2023-05-03T07:31:48.836307",
     "exception": false,
     "start_time": "2023-05-03T07:31:48.771801",
     "status": "completed"
    },
    "tags": []
   },
   "outputs": [
    {
     "data": {
      "text/html": [
       "<div>\n",
       "<style scoped>\n",
       "    .dataframe tbody tr th:only-of-type {\n",
       "        vertical-align: middle;\n",
       "    }\n",
       "\n",
       "    .dataframe tbody tr th {\n",
       "        vertical-align: top;\n",
       "    }\n",
       "\n",
       "    .dataframe thead th {\n",
       "        text-align: right;\n",
       "    }\n",
       "</style>\n",
       "<table border=\"1\" class=\"dataframe\">\n",
       "  <thead>\n",
       "    <tr style=\"text-align: right;\">\n",
       "      <th></th>\n",
       "      <th>C1</th>\n",
       "      <th>C2</th>\n",
       "      <th>C3</th>\n",
       "      <th>C4</th>\n",
       "      <th>C5</th>\n",
       "      <th>C6</th>\n",
       "      <th>C7</th>\n",
       "      <th>C8</th>\n",
       "      <th>C9</th>\n",
       "      <th>C10</th>\n",
       "      <th>C11</th>\n",
       "      <th>C12</th>\n",
       "      <th>C13</th>\n",
       "      <th>C14</th>\n",
       "    </tr>\n",
       "  </thead>\n",
       "  <tbody>\n",
       "    <tr>\n",
       "      <th>0</th>\n",
       "      <td>1.0</td>\n",
       "      <td>1.0</td>\n",
       "      <td>0.0</td>\n",
       "      <td>0.0</td>\n",
       "      <td>0.0</td>\n",
       "      <td>1.0</td>\n",
       "      <td>0.0</td>\n",
       "      <td>0.0</td>\n",
       "      <td>1.0</td>\n",
       "      <td>0.0</td>\n",
       "      <td>2.0</td>\n",
       "      <td>0.0</td>\n",
       "      <td>1.0</td>\n",
       "      <td>1.0</td>\n",
       "    </tr>\n",
       "    <tr>\n",
       "      <th>1</th>\n",
       "      <td>1.0</td>\n",
       "      <td>1.0</td>\n",
       "      <td>0.0</td>\n",
       "      <td>0.0</td>\n",
       "      <td>0.0</td>\n",
       "      <td>1.0</td>\n",
       "      <td>0.0</td>\n",
       "      <td>0.0</td>\n",
       "      <td>0.0</td>\n",
       "      <td>0.0</td>\n",
       "      <td>1.0</td>\n",
       "      <td>0.0</td>\n",
       "      <td>1.0</td>\n",
       "      <td>1.0</td>\n",
       "    </tr>\n",
       "    <tr>\n",
       "      <th>2</th>\n",
       "      <td>1.0</td>\n",
       "      <td>1.0</td>\n",
       "      <td>0.0</td>\n",
       "      <td>0.0</td>\n",
       "      <td>0.0</td>\n",
       "      <td>1.0</td>\n",
       "      <td>0.0</td>\n",
       "      <td>0.0</td>\n",
       "      <td>1.0</td>\n",
       "      <td>0.0</td>\n",
       "      <td>1.0</td>\n",
       "      <td>0.0</td>\n",
       "      <td>1.0</td>\n",
       "      <td>1.0</td>\n",
       "    </tr>\n",
       "    <tr>\n",
       "      <th>3</th>\n",
       "      <td>2.0</td>\n",
       "      <td>5.0</td>\n",
       "      <td>0.0</td>\n",
       "      <td>0.0</td>\n",
       "      <td>0.0</td>\n",
       "      <td>4.0</td>\n",
       "      <td>0.0</td>\n",
       "      <td>0.0</td>\n",
       "      <td>1.0</td>\n",
       "      <td>0.0</td>\n",
       "      <td>1.0</td>\n",
       "      <td>0.0</td>\n",
       "      <td>25.0</td>\n",
       "      <td>1.0</td>\n",
       "    </tr>\n",
       "    <tr>\n",
       "      <th>4</th>\n",
       "      <td>1.0</td>\n",
       "      <td>1.0</td>\n",
       "      <td>0.0</td>\n",
       "      <td>0.0</td>\n",
       "      <td>0.0</td>\n",
       "      <td>1.0</td>\n",
       "      <td>0.0</td>\n",
       "      <td>1.0</td>\n",
       "      <td>0.0</td>\n",
       "      <td>1.0</td>\n",
       "      <td>1.0</td>\n",
       "      <td>0.0</td>\n",
       "      <td>1.0</td>\n",
       "      <td>1.0</td>\n",
       "    </tr>\n",
       "  </tbody>\n",
       "</table>\n",
       "</div>"
      ],
      "text/plain": [
       "    C1   C2   C3   C4   C5   C6   C7   C8   C9  C10  C11  C12   C13  C14\n",
       "0  1.0  1.0  0.0  0.0  0.0  1.0  0.0  0.0  1.0  0.0  2.0  0.0   1.0  1.0\n",
       "1  1.0  1.0  0.0  0.0  0.0  1.0  0.0  0.0  0.0  0.0  1.0  0.0   1.0  1.0\n",
       "2  1.0  1.0  0.0  0.0  0.0  1.0  0.0  0.0  1.0  0.0  1.0  0.0   1.0  1.0\n",
       "3  2.0  5.0  0.0  0.0  0.0  4.0  0.0  0.0  1.0  0.0  1.0  0.0  25.0  1.0\n",
       "4  1.0  1.0  0.0  0.0  0.0  1.0  0.0  1.0  0.0  1.0  1.0  0.0   1.0  1.0"
      ]
     },
     "execution_count": 35,
     "metadata": {},
     "output_type": "execute_result"
    }
   ],
   "source": [
    "c_cols = [c for c in train_data if c[0] == 'C']\n",
    "train_data[c_cols].head()"
   ]
  },
  {
   "cell_type": "code",
   "execution_count": 36,
   "id": "60111ecd",
   "metadata": {
    "execution": {
     "iopub.execute_input": "2023-05-03T07:31:48.883576Z",
     "iopub.status.busy": "2023-05-03T07:31:48.882281Z",
     "iopub.status.idle": "2023-05-03T07:31:48.887307Z",
     "shell.execute_reply": "2023-05-03T07:31:48.886386Z"
    },
    "papermill": {
     "duration": 0.030734,
     "end_time": "2023-05-03T07:31:48.889565",
     "exception": false,
     "start_time": "2023-05-03T07:31:48.858831",
     "status": "completed"
    },
    "tags": []
   },
   "outputs": [],
   "source": [
    "#C1-C14: Counting, such as how many addresses are found to be associated with the payment card, etc."
   ]
  },
  {
   "cell_type": "code",
   "execution_count": 37,
   "id": "88a7f6fd",
   "metadata": {
    "execution": {
     "iopub.execute_input": "2023-05-03T07:31:48.935218Z",
     "iopub.status.busy": "2023-05-03T07:31:48.934494Z",
     "iopub.status.idle": "2023-05-03T07:31:49.321814Z",
     "shell.execute_reply": "2023-05-03T07:31:49.320642Z"
    },
    "papermill": {
     "duration": 0.413267,
     "end_time": "2023-05-03T07:31:49.324436",
     "exception": false,
     "start_time": "2023-05-03T07:31:48.911169",
     "status": "completed"
    },
    "tags": []
   },
   "outputs": [
    {
     "data": {
      "text/html": [
       "<div>\n",
       "<style scoped>\n",
       "    .dataframe tbody tr th:only-of-type {\n",
       "        vertical-align: middle;\n",
       "    }\n",
       "\n",
       "    .dataframe tbody tr th {\n",
       "        vertical-align: top;\n",
       "    }\n",
       "\n",
       "    .dataframe thead th {\n",
       "        text-align: right;\n",
       "    }\n",
       "</style>\n",
       "<table border=\"1\" class=\"dataframe\">\n",
       "  <thead>\n",
       "    <tr style=\"text-align: right;\">\n",
       "      <th></th>\n",
       "      <th>C1</th>\n",
       "      <th>C2</th>\n",
       "      <th>C3</th>\n",
       "      <th>C4</th>\n",
       "      <th>C5</th>\n",
       "      <th>C6</th>\n",
       "      <th>C7</th>\n",
       "      <th>C8</th>\n",
       "      <th>C9</th>\n",
       "      <th>C10</th>\n",
       "      <th>C11</th>\n",
       "      <th>C12</th>\n",
       "      <th>C13</th>\n",
       "      <th>C14</th>\n",
       "    </tr>\n",
       "  </thead>\n",
       "  <tbody>\n",
       "    <tr>\n",
       "      <th>count</th>\n",
       "      <td>590540.000000</td>\n",
       "      <td>590540.000000</td>\n",
       "      <td>590540.000000</td>\n",
       "      <td>590540.000000</td>\n",
       "      <td>590540.000000</td>\n",
       "      <td>590540.000000</td>\n",
       "      <td>590540.000000</td>\n",
       "      <td>590540.000000</td>\n",
       "      <td>590540.000000</td>\n",
       "      <td>590540.000000</td>\n",
       "      <td>590540.000000</td>\n",
       "      <td>590540.000000</td>\n",
       "      <td>590540.000000</td>\n",
       "      <td>590540.000000</td>\n",
       "    </tr>\n",
       "    <tr>\n",
       "      <th>mean</th>\n",
       "      <td>14.092458</td>\n",
       "      <td>15.269734</td>\n",
       "      <td>0.005644</td>\n",
       "      <td>4.092185</td>\n",
       "      <td>5.571526</td>\n",
       "      <td>9.071082</td>\n",
       "      <td>2.848478</td>\n",
       "      <td>5.144574</td>\n",
       "      <td>4.480240</td>\n",
       "      <td>5.240343</td>\n",
       "      <td>10.241521</td>\n",
       "      <td>4.076227</td>\n",
       "      <td>32.539918</td>\n",
       "      <td>8.295215</td>\n",
       "    </tr>\n",
       "    <tr>\n",
       "      <th>std</th>\n",
       "      <td>133.569018</td>\n",
       "      <td>154.668899</td>\n",
       "      <td>0.150536</td>\n",
       "      <td>68.848459</td>\n",
       "      <td>25.786976</td>\n",
       "      <td>71.508467</td>\n",
       "      <td>61.727304</td>\n",
       "      <td>95.378574</td>\n",
       "      <td>16.674897</td>\n",
       "      <td>95.581443</td>\n",
       "      <td>94.336292</td>\n",
       "      <td>86.666218</td>\n",
       "      <td>129.364844</td>\n",
       "      <td>49.544262</td>\n",
       "    </tr>\n",
       "    <tr>\n",
       "      <th>min</th>\n",
       "      <td>0.000000</td>\n",
       "      <td>0.000000</td>\n",
       "      <td>0.000000</td>\n",
       "      <td>0.000000</td>\n",
       "      <td>0.000000</td>\n",
       "      <td>0.000000</td>\n",
       "      <td>0.000000</td>\n",
       "      <td>0.000000</td>\n",
       "      <td>0.000000</td>\n",
       "      <td>0.000000</td>\n",
       "      <td>0.000000</td>\n",
       "      <td>0.000000</td>\n",
       "      <td>0.000000</td>\n",
       "      <td>0.000000</td>\n",
       "    </tr>\n",
       "    <tr>\n",
       "      <th>25%</th>\n",
       "      <td>1.000000</td>\n",
       "      <td>1.000000</td>\n",
       "      <td>0.000000</td>\n",
       "      <td>0.000000</td>\n",
       "      <td>0.000000</td>\n",
       "      <td>1.000000</td>\n",
       "      <td>0.000000</td>\n",
       "      <td>0.000000</td>\n",
       "      <td>0.000000</td>\n",
       "      <td>0.000000</td>\n",
       "      <td>1.000000</td>\n",
       "      <td>0.000000</td>\n",
       "      <td>1.000000</td>\n",
       "      <td>1.000000</td>\n",
       "    </tr>\n",
       "    <tr>\n",
       "      <th>50%</th>\n",
       "      <td>1.000000</td>\n",
       "      <td>1.000000</td>\n",
       "      <td>0.000000</td>\n",
       "      <td>0.000000</td>\n",
       "      <td>0.000000</td>\n",
       "      <td>1.000000</td>\n",
       "      <td>0.000000</td>\n",
       "      <td>0.000000</td>\n",
       "      <td>1.000000</td>\n",
       "      <td>0.000000</td>\n",
       "      <td>1.000000</td>\n",
       "      <td>0.000000</td>\n",
       "      <td>3.000000</td>\n",
       "      <td>1.000000</td>\n",
       "    </tr>\n",
       "    <tr>\n",
       "      <th>75%</th>\n",
       "      <td>3.000000</td>\n",
       "      <td>3.000000</td>\n",
       "      <td>0.000000</td>\n",
       "      <td>0.000000</td>\n",
       "      <td>1.000000</td>\n",
       "      <td>2.000000</td>\n",
       "      <td>0.000000</td>\n",
       "      <td>0.000000</td>\n",
       "      <td>2.000000</td>\n",
       "      <td>0.000000</td>\n",
       "      <td>2.000000</td>\n",
       "      <td>0.000000</td>\n",
       "      <td>12.000000</td>\n",
       "      <td>2.000000</td>\n",
       "    </tr>\n",
       "    <tr>\n",
       "      <th>max</th>\n",
       "      <td>4685.000000</td>\n",
       "      <td>5691.000000</td>\n",
       "      <td>26.000000</td>\n",
       "      <td>2253.000000</td>\n",
       "      <td>349.000000</td>\n",
       "      <td>2253.000000</td>\n",
       "      <td>2255.000000</td>\n",
       "      <td>3331.000000</td>\n",
       "      <td>210.000000</td>\n",
       "      <td>3257.000000</td>\n",
       "      <td>3188.000000</td>\n",
       "      <td>3188.000000</td>\n",
       "      <td>2918.000000</td>\n",
       "      <td>1429.000000</td>\n",
       "    </tr>\n",
       "  </tbody>\n",
       "</table>\n",
       "</div>"
      ],
      "text/plain": [
       "                  C1             C2             C3             C4  \\\n",
       "count  590540.000000  590540.000000  590540.000000  590540.000000   \n",
       "mean       14.092458      15.269734       0.005644       4.092185   \n",
       "std       133.569018     154.668899       0.150536      68.848459   \n",
       "min         0.000000       0.000000       0.000000       0.000000   \n",
       "25%         1.000000       1.000000       0.000000       0.000000   \n",
       "50%         1.000000       1.000000       0.000000       0.000000   \n",
       "75%         3.000000       3.000000       0.000000       0.000000   \n",
       "max      4685.000000    5691.000000      26.000000    2253.000000   \n",
       "\n",
       "                  C5             C6             C7             C8  \\\n",
       "count  590540.000000  590540.000000  590540.000000  590540.000000   \n",
       "mean        5.571526       9.071082       2.848478       5.144574   \n",
       "std        25.786976      71.508467      61.727304      95.378574   \n",
       "min         0.000000       0.000000       0.000000       0.000000   \n",
       "25%         0.000000       1.000000       0.000000       0.000000   \n",
       "50%         0.000000       1.000000       0.000000       0.000000   \n",
       "75%         1.000000       2.000000       0.000000       0.000000   \n",
       "max       349.000000    2253.000000    2255.000000    3331.000000   \n",
       "\n",
       "                  C9            C10            C11            C12  \\\n",
       "count  590540.000000  590540.000000  590540.000000  590540.000000   \n",
       "mean        4.480240       5.240343      10.241521       4.076227   \n",
       "std        16.674897      95.581443      94.336292      86.666218   \n",
       "min         0.000000       0.000000       0.000000       0.000000   \n",
       "25%         0.000000       0.000000       1.000000       0.000000   \n",
       "50%         1.000000       0.000000       1.000000       0.000000   \n",
       "75%         2.000000       0.000000       2.000000       0.000000   \n",
       "max       210.000000    3257.000000    3188.000000    3188.000000   \n",
       "\n",
       "                 C13            C14  \n",
       "count  590540.000000  590540.000000  \n",
       "mean       32.539918       8.295215  \n",
       "std       129.364844      49.544262  \n",
       "min         0.000000       0.000000  \n",
       "25%         1.000000       1.000000  \n",
       "50%         3.000000       1.000000  \n",
       "75%        12.000000       2.000000  \n",
       "max      2918.000000    1429.000000  "
      ]
     },
     "execution_count": 37,
     "metadata": {},
     "output_type": "execute_result"
    }
   ],
   "source": [
    "train_data[c_cols].describe()"
   ]
  },
  {
   "cell_type": "code",
   "execution_count": 38,
   "id": "2f8c0532",
   "metadata": {
    "execution": {
     "iopub.execute_input": "2023-05-03T07:31:49.373552Z",
     "iopub.status.busy": "2023-05-03T07:31:49.373102Z",
     "iopub.status.idle": "2023-05-03T07:31:49.411603Z",
     "shell.execute_reply": "2023-05-03T07:31:49.410217Z"
    },
    "papermill": {
     "duration": 0.066186,
     "end_time": "2023-05-03T07:31:49.414511",
     "exception": false,
     "start_time": "2023-05-03T07:31:49.348325",
     "status": "completed"
    },
    "tags": []
   },
   "outputs": [
    {
     "data": {
      "text/html": [
       "<div>\n",
       "<style scoped>\n",
       "    .dataframe tbody tr th:only-of-type {\n",
       "        vertical-align: middle;\n",
       "    }\n",
       "\n",
       "    .dataframe tbody tr th {\n",
       "        vertical-align: top;\n",
       "    }\n",
       "\n",
       "    .dataframe thead th {\n",
       "        text-align: right;\n",
       "    }\n",
       "</style>\n",
       "<table border=\"1\" class=\"dataframe\">\n",
       "  <thead>\n",
       "    <tr style=\"text-align: right;\">\n",
       "      <th></th>\n",
       "      <th>D1</th>\n",
       "      <th>D2</th>\n",
       "      <th>D3</th>\n",
       "      <th>D4</th>\n",
       "      <th>D5</th>\n",
       "      <th>D6</th>\n",
       "      <th>D7</th>\n",
       "      <th>D8</th>\n",
       "      <th>D9</th>\n",
       "      <th>D10</th>\n",
       "      <th>D11</th>\n",
       "      <th>D12</th>\n",
       "      <th>D13</th>\n",
       "      <th>D14</th>\n",
       "    </tr>\n",
       "  </thead>\n",
       "  <tbody>\n",
       "    <tr>\n",
       "      <th>0</th>\n",
       "      <td>14.0</td>\n",
       "      <td>NaN</td>\n",
       "      <td>13.0</td>\n",
       "      <td>NaN</td>\n",
       "      <td>NaN</td>\n",
       "      <td>NaN</td>\n",
       "      <td>NaN</td>\n",
       "      <td>NaN</td>\n",
       "      <td>NaN</td>\n",
       "      <td>13.0</td>\n",
       "      <td>13.0</td>\n",
       "      <td>NaN</td>\n",
       "      <td>NaN</td>\n",
       "      <td>NaN</td>\n",
       "    </tr>\n",
       "    <tr>\n",
       "      <th>1</th>\n",
       "      <td>0.0</td>\n",
       "      <td>NaN</td>\n",
       "      <td>NaN</td>\n",
       "      <td>0.0</td>\n",
       "      <td>NaN</td>\n",
       "      <td>NaN</td>\n",
       "      <td>NaN</td>\n",
       "      <td>NaN</td>\n",
       "      <td>NaN</td>\n",
       "      <td>0.0</td>\n",
       "      <td>NaN</td>\n",
       "      <td>NaN</td>\n",
       "      <td>NaN</td>\n",
       "      <td>NaN</td>\n",
       "    </tr>\n",
       "    <tr>\n",
       "      <th>2</th>\n",
       "      <td>0.0</td>\n",
       "      <td>NaN</td>\n",
       "      <td>NaN</td>\n",
       "      <td>0.0</td>\n",
       "      <td>NaN</td>\n",
       "      <td>NaN</td>\n",
       "      <td>NaN</td>\n",
       "      <td>NaN</td>\n",
       "      <td>NaN</td>\n",
       "      <td>0.0</td>\n",
       "      <td>315.0</td>\n",
       "      <td>NaN</td>\n",
       "      <td>NaN</td>\n",
       "      <td>NaN</td>\n",
       "    </tr>\n",
       "    <tr>\n",
       "      <th>3</th>\n",
       "      <td>112.0</td>\n",
       "      <td>112.0</td>\n",
       "      <td>0.0</td>\n",
       "      <td>94.0</td>\n",
       "      <td>0.0</td>\n",
       "      <td>NaN</td>\n",
       "      <td>NaN</td>\n",
       "      <td>NaN</td>\n",
       "      <td>NaN</td>\n",
       "      <td>84.0</td>\n",
       "      <td>NaN</td>\n",
       "      <td>NaN</td>\n",
       "      <td>NaN</td>\n",
       "      <td>NaN</td>\n",
       "    </tr>\n",
       "    <tr>\n",
       "      <th>4</th>\n",
       "      <td>0.0</td>\n",
       "      <td>NaN</td>\n",
       "      <td>NaN</td>\n",
       "      <td>NaN</td>\n",
       "      <td>NaN</td>\n",
       "      <td>NaN</td>\n",
       "      <td>NaN</td>\n",
       "      <td>NaN</td>\n",
       "      <td>NaN</td>\n",
       "      <td>NaN</td>\n",
       "      <td>NaN</td>\n",
       "      <td>NaN</td>\n",
       "      <td>NaN</td>\n",
       "      <td>NaN</td>\n",
       "    </tr>\n",
       "  </tbody>\n",
       "</table>\n",
       "</div>"
      ],
      "text/plain": [
       "      D1     D2    D3    D4   D5  D6  D7  D8  D9   D10    D11  D12  D13  D14\n",
       "0   14.0    NaN  13.0   NaN  NaN NaN NaN NaN NaN  13.0   13.0  NaN  NaN  NaN\n",
       "1    0.0    NaN   NaN   0.0  NaN NaN NaN NaN NaN   0.0    NaN  NaN  NaN  NaN\n",
       "2    0.0    NaN   NaN   0.0  NaN NaN NaN NaN NaN   0.0  315.0  NaN  NaN  NaN\n",
       "3  112.0  112.0   0.0  94.0  0.0 NaN NaN NaN NaN  84.0    NaN  NaN  NaN  NaN\n",
       "4    0.0    NaN   NaN   NaN  NaN NaN NaN NaN NaN   NaN    NaN  NaN  NaN  NaN"
      ]
     },
     "execution_count": 38,
     "metadata": {},
     "output_type": "execute_result"
    }
   ],
   "source": [
    "d_cols = ['D1','D2','D3','D4','D5','D6','D7','D8','D9','D10','D11','D12','D13','D14']\n",
    "train_data[d_cols].head()"
   ]
  },
  {
   "cell_type": "code",
   "execution_count": 39,
   "id": "616427ce",
   "metadata": {
    "execution": {
     "iopub.execute_input": "2023-05-03T07:31:49.461304Z",
     "iopub.status.busy": "2023-05-03T07:31:49.460885Z",
     "iopub.status.idle": "2023-05-03T07:31:52.131542Z",
     "shell.execute_reply": "2023-05-03T07:31:52.130227Z"
    },
    "papermill": {
     "duration": 2.697088,
     "end_time": "2023-05-03T07:31:52.134152",
     "exception": false,
     "start_time": "2023-05-03T07:31:49.437064",
     "status": "completed"
    },
    "tags": []
   },
   "outputs": [
    {
     "data": {
      "image/png": "[encoded data removed]",
      "text/plain": [
       "<Figure size 1000x500 with 1 Axes>"
      ]
     },
     "metadata": {},
     "output_type": "display_data"
    }
   ],
   "source": [
    "plt.figure(figsize=(10,5))\n",
    "sns.distplot(train_data[\"TransactionDT\"])\n",
    "plt.title('Train TransactionDT distribution')\n",
    "plt.show()\n",
    "#D1-D15: Timedelta, such as days between previous transaction, etc.\n",
    "#TransactionDT: Timedelta from a given reference datetime (not an actual timestamp), but the time difference in seconds from a certain time."
   ]
  },
  {
   "cell_type": "code",
   "execution_count": 40,
   "id": "6fcbaea3",
   "metadata": {
    "execution": {
     "iopub.execute_input": "2023-05-03T07:31:52.185533Z",
     "iopub.status.busy": "2023-05-03T07:31:52.185089Z",
     "iopub.status.idle": "2023-05-03T07:31:54.480839Z",
     "shell.execute_reply": "2023-05-03T07:31:54.479618Z"
    },
    "papermill": {
     "duration": 2.323643,
     "end_time": "2023-05-03T07:31:54.483391",
     "exception": false,
     "start_time": "2023-05-03T07:31:52.159748",
     "status": "completed"
    },
    "tags": []
   },
   "outputs": [
    {
     "data": {
      "image/png": "[encoded data removed]",
      "text/plain": [
       "<Figure size 1000x500 with 1 Axes>"
      ]
     },
     "metadata": {},
     "output_type": "display_data"
    }
   ],
   "source": [
    "plt.figure(figsize=(10,5))\n",
    "sns.distplot(test_data[\"TransactionDT\"])\n",
    "plt.title('Test TransactionDT distribution')\n",
    "plt.show()"
   ]
  },
  {
   "cell_type": "code",
   "execution_count": 41,
   "id": "9cc701fb",
   "metadata": {
    "execution": {
     "iopub.execute_input": "2023-05-03T07:31:54.534512Z",
     "iopub.status.busy": "2023-05-03T07:31:54.533856Z",
     "iopub.status.idle": "2023-05-03T07:31:57.900057Z",
     "shell.execute_reply": "2023-05-03T07:31:57.898533Z"
    },
    "papermill": {
     "duration": 3.394752,
     "end_time": "2023-05-03T07:31:57.903070",
     "exception": false,
     "start_time": "2023-05-03T07:31:54.508318",
     "status": "completed"
    },
    "tags": []
   },
   "outputs": [
    {
     "data": {
      "text/plain": [
       "id_24            99.196159\n",
       "id_25            99.130965\n",
       "id_07            99.127070\n",
       "id_08            99.127070\n",
       "id_21            99.126393\n",
       "                   ...    \n",
       "C3                0.000000\n",
       "C2                0.000000\n",
       "C1                0.000000\n",
       "isFraud           0.000000\n",
       "TransactionID     0.000000\n",
       "Length: 434, dtype: float64"
      ]
     },
     "execution_count": 41,
     "metadata": {},
     "output_type": "execute_result"
    }
   ],
   "source": [
    "(np.sum(pd.isnull(train_data)).sort_values(ascending=False)/len(train_data))*100"
   ]
  },
  {
   "cell_type": "code",
   "execution_count": 42,
   "id": "0b74ca2e",
   "metadata": {
    "execution": {
     "iopub.execute_input": "2023-05-03T07:31:57.954606Z",
     "iopub.status.busy": "2023-05-03T07:31:57.953928Z",
     "iopub.status.idle": "2023-05-03T07:32:01.703500Z",
     "shell.execute_reply": "2023-05-03T07:32:01.702204Z"
    },
    "papermill": {
     "duration": 3.779102,
     "end_time": "2023-05-03T07:32:01.706218",
     "exception": false,
     "start_time": "2023-05-03T07:31:57.927116",
     "status": "completed"
    },
    "tags": []
   },
   "outputs": [],
   "source": [
    "A = (np.sum(pd.isnull(train_data)).sort_values(ascending=False)/len(train_data))*100\n",
    "Removed_col = A[A>0.4].index\n",
    "train_data.drop(columns=Removed_col, inplace=True)"
   ]
  },
  {
   "cell_type": "code",
   "execution_count": 43,
   "id": "f9be6810",
   "metadata": {
    "execution": {
     "iopub.execute_input": "2023-05-03T07:32:01.755669Z",
     "iopub.status.busy": "2023-05-03T07:32:01.755268Z",
     "iopub.status.idle": "2023-05-03T07:32:01.762954Z",
     "shell.execute_reply": "2023-05-03T07:32:01.761497Z"
    },
    "papermill": {
     "duration": 0.035551,
     "end_time": "2023-05-03T07:32:01.765390",
     "exception": false,
     "start_time": "2023-05-03T07:32:01.729839",
     "status": "completed"
    },
    "tags": []
   },
   "outputs": [
    {
     "data": {
      "text/plain": [
       "(590540, 110)"
      ]
     },
     "execution_count": 43,
     "metadata": {},
     "output_type": "execute_result"
    }
   ],
   "source": [
    "train_data.shape"
   ]
  },
  {
   "cell_type": "code",
   "execution_count": 44,
   "id": "fbd3df26",
   "metadata": {
    "execution": {
     "iopub.execute_input": "2023-05-03T07:32:01.814499Z",
     "iopub.status.busy": "2023-05-03T07:32:01.814070Z",
     "iopub.status.idle": "2023-05-03T07:32:04.736817Z",
     "shell.execute_reply": "2023-05-03T07:32:04.735594Z"
    },
    "papermill": {
     "duration": 2.950609,
     "end_time": "2023-05-03T07:32:04.739513",
     "exception": false,
     "start_time": "2023-05-03T07:32:01.788904",
     "status": "completed"
    },
    "tags": []
   },
   "outputs": [],
   "source": [
    "A = (np.sum(pd.isnull(test_data)).sort_values(ascending=False)/len(test_data))*100\n",
    "Removed_col = A[A>0.4].index\n",
    "test_data.drop(columns=Removed_col, inplace=True)"
   ]
  },
  {
   "cell_type": "code",
   "execution_count": 45,
   "id": "84d80cac",
   "metadata": {
    "execution": {
     "iopub.execute_input": "2023-05-03T07:32:04.792275Z",
     "iopub.status.busy": "2023-05-03T07:32:04.791564Z",
     "iopub.status.idle": "2023-05-03T07:32:04.800093Z",
     "shell.execute_reply": "2023-05-03T07:32:04.799153Z"
    },
    "papermill": {
     "duration": 0.036891,
     "end_time": "2023-05-03T07:32:04.802290",
     "exception": false,
     "start_time": "2023-05-03T07:32:04.765399",
     "status": "completed"
    },
    "tags": []
   },
   "outputs": [
    {
     "data": {
      "text/plain": [
       "(506691, 93)"
      ]
     },
     "execution_count": 45,
     "metadata": {},
     "output_type": "execute_result"
    }
   ],
   "source": [
    "test_data.shape"
   ]
  },
  {
   "cell_type": "code",
   "execution_count": 46,
   "id": "d24e2734",
   "metadata": {
    "execution": {
     "iopub.execute_input": "2023-05-03T07:32:04.852916Z",
     "iopub.status.busy": "2023-05-03T07:32:04.852515Z",
     "iopub.status.idle": "2023-05-03T07:32:05.109112Z",
     "shell.execute_reply": "2023-05-03T07:32:05.107755Z"
    },
    "papermill": {
     "duration": 0.285271,
     "end_time": "2023-05-03T07:32:05.112049",
     "exception": false,
     "start_time": "2023-05-03T07:32:04.826778",
     "status": "completed"
    },
    "tags": []
   },
   "outputs": [
    {
     "data": {
      "text/plain": [
       "0    569877\n",
       "1     20663\n",
       "Name: isFraud, dtype: int64"
      ]
     },
     "execution_count": 46,
     "metadata": {},
     "output_type": "execute_result"
    },
    {
     "data": {
      "image/png": "[encoded data removed]",
      "text/plain": [
       "<Figure size 640x480 with 1 Axes>"
      ]
     },
     "metadata": {},
     "output_type": "display_data"
    }
   ],
   "source": [
    "sns.countplot(x=train_data['isFraud'])\n",
    "\n",
    "train_data['isFraud'].value_counts()"
   ]
  },
  {
   "cell_type": "code",
   "execution_count": 47,
   "id": "d2e8f526",
   "metadata": {
    "execution": {
     "iopub.execute_input": "2023-05-03T07:32:05.163974Z",
     "iopub.status.busy": "2023-05-03T07:32:05.162866Z",
     "iopub.status.idle": "2023-05-03T07:32:06.238505Z",
     "shell.execute_reply": "2023-05-03T07:32:06.237317Z"
    },
    "papermill": {
     "duration": 1.104273,
     "end_time": "2023-05-03T07:32:06.241326",
     "exception": false,
     "start_time": "2023-05-03T07:32:05.137053",
     "status": "completed"
    },
    "tags": []
   },
   "outputs": [],
   "source": [
    "# Train data\n",
    "#For numerical value imputation\n",
    "for i in train_data.columns:\n",
    "    if train_data[i].dtypes=='int64' or train_data[i].dtypes=='float64':\n",
    "        train_data[i].fillna(train_data[i].mean(),inplace=True)\n",
    "        \n",
    "#For categorical value imputation\n",
    "for i in train_data.columns:\n",
    "    if train_data[i].dtypes=='object':\n",
    "        train_data[i].fillna(train_data[i].mode()[0],inplace=True)\n",
    "        \n",
    "# Test data\n",
    "#For numerical value imputation\n",
    "for i in test_data.columns:\n",
    "    if test_data[i].dtypes=='int64' or test_data[i].dtypes=='float64':\n",
    "        test_data[i].fillna(test_data[i].mean(),inplace=True)\n",
    "        \n",
    "#For categorical value imputation\n",
    "for i in test_data.columns:\n",
    "    if test_data[i].dtypes=='object':\n",
    "        test_data[i].fillna(test_data[i].mode()[0],inplace=True)"
   ]
  },
  {
   "cell_type": "code",
   "execution_count": 48,
   "id": "f3ff6a07",
   "metadata": {
    "execution": {
     "iopub.execute_input": "2023-05-03T07:32:06.291590Z",
     "iopub.status.busy": "2023-05-03T07:32:06.290568Z",
     "iopub.status.idle": "2023-05-03T07:32:06.784183Z",
     "shell.execute_reply": "2023-05-03T07:32:06.782942Z"
    },
    "papermill": {
     "duration": 0.521302,
     "end_time": "2023-05-03T07:32:06.786834",
     "exception": false,
     "start_time": "2023-05-03T07:32:06.265532",
     "status": "completed"
    },
    "tags": []
   },
   "outputs": [],
   "source": [
    "data = pd.concat([train_data, test_data])"
   ]
  },
  {
   "cell_type": "code",
   "execution_count": 49,
   "id": "42833200",
   "metadata": {
    "execution": {
     "iopub.execute_input": "2023-05-03T07:32:06.838769Z",
     "iopub.status.busy": "2023-05-03T07:32:06.838361Z",
     "iopub.status.idle": "2023-05-03T07:32:08.927462Z",
     "shell.execute_reply": "2023-05-03T07:32:08.926376Z"
    },
    "papermill": {
     "duration": 2.118153,
     "end_time": "2023-05-03T07:32:08.929956",
     "exception": false,
     "start_time": "2023-05-03T07:32:06.811803",
     "status": "completed"
    },
    "tags": []
   },
   "outputs": [],
   "source": [
    "df = pd.get_dummies(data,dummy_na=True,drop_first=True)"
   ]
  },
  {
   "cell_type": "code",
   "execution_count": 50,
   "id": "3cc4f92d",
   "metadata": {
    "execution": {
     "iopub.execute_input": "2023-05-03T07:32:08.979986Z",
     "iopub.status.busy": "2023-05-03T07:32:08.979606Z",
     "iopub.status.idle": "2023-05-03T07:32:09.433850Z",
     "shell.execute_reply": "2023-05-03T07:32:09.432669Z"
    },
    "papermill": {
     "duration": 0.483122,
     "end_time": "2023-05-03T07:32:09.437133",
     "exception": false,
     "start_time": "2023-05-03T07:32:08.954011",
     "status": "completed"
    },
    "tags": []
   },
   "outputs": [],
   "source": [
    "df.drop(columns = 'TransactionID', inplace = True)"
   ]
  },
  {
   "cell_type": "code",
   "execution_count": 51,
   "id": "07604b50",
   "metadata": {
    "execution": {
     "iopub.execute_input": "2023-05-03T07:32:09.488842Z",
     "iopub.status.busy": "2023-05-03T07:32:09.487824Z",
     "iopub.status.idle": "2023-05-03T07:32:10.942499Z",
     "shell.execute_reply": "2023-05-03T07:32:10.941297Z"
    },
    "papermill": {
     "duration": 1.483356,
     "end_time": "2023-05-03T07:32:10.945213",
     "exception": false,
     "start_time": "2023-05-03T07:32:09.461857",
     "status": "completed"
    },
    "tags": []
   },
   "outputs": [],
   "source": [
    "df.dropna(inplace=True,axis=0)"
   ]
  },
  {
   "cell_type": "code",
   "execution_count": 52,
   "id": "bb06bb2a",
   "metadata": {
    "execution": {
     "iopub.execute_input": "2023-05-03T07:32:10.997937Z",
     "iopub.status.busy": "2023-05-03T07:32:10.997539Z",
     "iopub.status.idle": "2023-05-03T07:32:11.805602Z",
     "shell.execute_reply": "2023-05-03T07:32:11.804418Z"
    },
    "papermill": {
     "duration": 0.839098,
     "end_time": "2023-05-03T07:32:11.808856",
     "exception": false,
     "start_time": "2023-05-03T07:32:10.969758",
     "status": "completed"
    },
    "tags": []
   },
   "outputs": [],
   "source": [
    "X = df.drop('isFraud',axis=1).values.astype(np.float)\n",
    "y = df['isFraud'].values.astype(np.float)"
   ]
  },
  {
   "cell_type": "code",
   "execution_count": 53,
   "id": "0eae0d38",
   "metadata": {
    "execution": {
     "iopub.execute_input": "2023-05-03T07:32:11.862579Z",
     "iopub.status.busy": "2023-05-03T07:32:11.862146Z",
     "iopub.status.idle": "2023-05-03T07:32:13.286422Z",
     "shell.execute_reply": "2023-05-03T07:32:13.285048Z"
    },
    "papermill": {
     "duration": 1.454758,
     "end_time": "2023-05-03T07:32:13.289062",
     "exception": false,
     "start_time": "2023-05-03T07:32:11.834304",
     "status": "completed"
    },
    "tags": []
   },
   "outputs": [],
   "source": [
    "from sklearn.model_selection import train_test_split\n",
    "\n",
    "X_train,X_test,y_train,y_test = train_test_split(X,y,test_size=0.2,random_state=101)"
   ]
  },
  {
   "cell_type": "code",
   "execution_count": 54,
   "id": "6b7c299e",
   "metadata": {
    "execution": {
     "iopub.execute_input": "2023-05-03T07:32:13.340257Z",
     "iopub.status.busy": "2023-05-03T07:32:13.339194Z",
     "iopub.status.idle": "2023-05-03T07:32:13.344408Z",
     "shell.execute_reply": "2023-05-03T07:32:13.343289Z"
    },
    "papermill": {
     "duration": 0.033575,
     "end_time": "2023-05-03T07:32:13.346982",
     "exception": false,
     "start_time": "2023-05-03T07:32:13.313407",
     "status": "completed"
    },
    "tags": []
   },
   "outputs": [],
   "source": [
    "from sklearn.preprocessing import MinMaxScaler\n",
    "scaler = MinMaxScaler()"
   ]
  },
  {
   "cell_type": "code",
   "execution_count": 55,
   "id": "1767b779",
   "metadata": {
    "execution": {
     "iopub.execute_input": "2023-05-03T07:32:13.398557Z",
     "iopub.status.busy": "2023-05-03T07:32:13.398133Z",
     "iopub.status.idle": "2023-05-03T07:32:14.266075Z",
     "shell.execute_reply": "2023-05-03T07:32:14.264845Z"
    },
    "papermill": {
     "duration": 0.896268,
     "end_time": "2023-05-03T07:32:14.268788",
     "exception": false,
     "start_time": "2023-05-03T07:32:13.372520",
     "status": "completed"
    },
    "tags": []
   },
   "outputs": [],
   "source": [
    "X_train = scaler.fit_transform(X_train)\n",
    "X_test = scaler.transform(X_test)"
   ]
  },
  {
   "cell_type": "code",
   "execution_count": 56,
   "id": "071b1328",
   "metadata": {
    "execution": {
     "iopub.execute_input": "2023-05-03T07:32:14.319316Z",
     "iopub.status.busy": "2023-05-03T07:32:14.318896Z",
     "iopub.status.idle": "2023-05-03T07:32:23.609621Z",
     "shell.execute_reply": "2023-05-03T07:32:23.608344Z"
    },
    "papermill": {
     "duration": 9.318809,
     "end_time": "2023-05-03T07:32:23.612494",
     "exception": false,
     "start_time": "2023-05-03T07:32:14.293685",
     "status": "completed"
    },
    "tags": []
   },
   "outputs": [],
   "source": [
    "from tensorflow.keras.models import Sequential"
   ]
  },
  {
   "cell_type": "code",
   "execution_count": 57,
   "id": "6c458d56",
   "metadata": {
    "execution": {
     "iopub.execute_input": "2023-05-03T07:32:23.665907Z",
     "iopub.status.busy": "2023-05-03T07:32:23.665044Z",
     "iopub.status.idle": "2023-05-03T07:32:23.672673Z",
     "shell.execute_reply": "2023-05-03T07:32:23.671473Z"
    },
    "papermill": {
     "duration": 0.038032,
     "end_time": "2023-05-03T07:32:23.675203",
     "exception": false,
     "start_time": "2023-05-03T07:32:23.637171",
     "status": "completed"
    },
    "tags": []
   },
   "outputs": [],
   "source": [
    "from tensorflow.keras.layers import Dense,Dropout\n",
    "from tensorflow.keras.optimizers import Adam\n",
    "from tensorflow.keras import regularizers"
   ]
  },
  {
   "cell_type": "code",
   "execution_count": 58,
   "id": "e2fb256a",
   "metadata": {
    "execution": {
     "iopub.execute_input": "2023-05-03T07:32:23.727097Z",
     "iopub.status.busy": "2023-05-03T07:32:23.726701Z",
     "iopub.status.idle": "2023-05-03T07:32:23.892677Z",
     "shell.execute_reply": "2023-05-03T07:32:23.891434Z"
    },
    "papermill": {
     "duration": 0.194943,
     "end_time": "2023-05-03T07:32:23.895674",
     "exception": false,
     "start_time": "2023-05-03T07:32:23.700731",
     "status": "completed"
    },
    "tags": []
   },
   "outputs": [],
   "source": [
    "dropout=0.5\n",
    "\n",
    "model = Sequential()\n",
    "model.add(Dense(250,activation='relu',kernel_regularizer=regularizers.l1(l1=0.00001)))\n",
    "model.add(Dropout(dropout))\n",
    "model.add(Dense(100,activation='relu',kernel_regularizer=regularizers.l1(l1=0.00001)))\n",
    "model.add(Dropout(dropout))\n",
    "model.add(Dense(50,activation='relu',kernel_regularizer=regularizers.l2(l2=0.0001)))\n",
    "model.add(Dropout(dropout))\n",
    "\n",
    "model.add(Dense(1,activation='sigmoid'))\n",
    "model.compile(optimizer=Adam(),loss='binary_crossentropy',metrics=['accuracy'])"
   ]
  },
  {
   "cell_type": "code",
   "execution_count": 59,
   "id": "328af131",
   "metadata": {
    "execution": {
     "iopub.execute_input": "2023-05-03T07:32:23.946231Z",
     "iopub.status.busy": "2023-05-03T07:32:23.945778Z",
     "iopub.status.idle": "2023-05-03T07:32:23.951842Z",
     "shell.execute_reply": "2023-05-03T07:32:23.950697Z"
    },
    "papermill": {
     "duration": 0.034161,
     "end_time": "2023-05-03T07:32:23.954160",
     "exception": false,
     "start_time": "2023-05-03T07:32:23.919999",
     "status": "completed"
    },
    "tags": []
   },
   "outputs": [],
   "source": [
    "from tensorflow.keras.callbacks import EarlyStopping"
   ]
  },
  {
   "cell_type": "code",
   "execution_count": 60,
   "id": "edd524de",
   "metadata": {
    "execution": {
     "iopub.execute_input": "2023-05-03T07:32:24.007199Z",
     "iopub.status.busy": "2023-05-03T07:32:24.006775Z",
     "iopub.status.idle": "2023-05-03T07:32:24.011909Z",
     "shell.execute_reply": "2023-05-03T07:32:24.010725Z"
    },
    "papermill": {
     "duration": 0.034563,
     "end_time": "2023-05-03T07:32:24.014065",
     "exception": false,
     "start_time": "2023-05-03T07:32:23.979502",
     "status": "completed"
    },
    "tags": []
   },
   "outputs": [],
   "source": [
    "early_stop = EarlyStopping(monitor='val_loss',patience=4,verbose=2)"
   ]
  },
  {
   "cell_type": "code",
   "execution_count": 61,
   "id": "75b1c3c0",
   "metadata": {
    "execution": {
     "iopub.execute_input": "2023-05-03T07:32:24.066992Z",
     "iopub.status.busy": "2023-05-03T07:32:24.065934Z",
     "iopub.status.idle": "2023-05-03T07:42:04.588384Z",
     "shell.execute_reply": "2023-05-03T07:42:04.586151Z"
    },
    "papermill": {
     "duration": 581.182084,
     "end_time": "2023-05-03T07:42:05.221787",
     "exception": false,
     "start_time": "2023-05-03T07:32:24.039703",
     "status": "completed"
    },
    "tags": []
   },
   "outputs": [
    {
     "name": "stdout",
     "output_type": "stream",
     "text": [
      "Epoch 1/10\n",
      "14764/14764 [==============================] - 60s 4ms/step - loss: 0.1491 - accuracy: 0.9650 - val_loss: 0.1401 - val_accuracy: 0.9649\n",
      "Epoch 2/10\n",
      "14764/14764 [==============================] - 55s 4ms/step - loss: 0.1395 - accuracy: 0.9650 - val_loss: 0.1338 - val_accuracy: 0.9649\n",
      "Epoch 3/10\n",
      "14764/14764 [==============================] - 59s 4ms/step - loss: 0.1383 - accuracy: 0.9650 - val_loss: 0.1325 - val_accuracy: 0.9649\n",
      "Epoch 4/10\n",
      "14764/14764 [==============================] - 62s 4ms/step - loss: 0.1376 - accuracy: 0.9650 - val_loss: 0.1326 - val_accuracy: 0.9649\n",
      "Epoch 5/10\n",
      "14764/14764 [==============================] - 61s 4ms/step - loss: 0.1376 - accuracy: 0.9650 - val_loss: 0.1323 - val_accuracy: 0.9649\n",
      "Epoch 6/10\n",
      "14764/14764 [==============================] - 58s 4ms/step - loss: 0.1373 - accuracy: 0.9650 - val_loss: 0.1317 - val_accuracy: 0.9649\n",
      "Epoch 7/10\n",
      "14764/14764 [==============================] - 56s 4ms/step - loss: 0.1371 - accuracy: 0.9650 - val_loss: 0.1333 - val_accuracy: 0.9649\n",
      "Epoch 8/10\n",
      "14764/14764 [==============================] - 56s 4ms/step - loss: 0.1369 - accuracy: 0.9650 - val_loss: 0.1317 - val_accuracy: 0.9649\n",
      "Epoch 9/10\n",
      "14764/14764 [==============================] - 56s 4ms/step - loss: 0.1372 - accuracy: 0.9650 - val_loss: 0.1319 - val_accuracy: 0.9649\n",
      "Epoch 10/10\n",
      "14764/14764 [==============================] - 57s 4ms/step - loss: 0.1369 - accuracy: 0.9650 - val_loss: 0.1315 - val_accuracy: 0.9649\n"
     ]
    }
   ],
   "source": [
    "r = model.fit(X_train, y_train,epochs = 10,validation_data=(X_test,y_test),callbacks=[early_stop])"
   ]
  },
  {
   "cell_type": "code",
   "execution_count": 62,
   "id": "e88fc7a8",
   "metadata": {
    "execution": {
     "iopub.execute_input": "2023-05-03T07:42:06.575078Z",
     "iopub.status.busy": "2023-05-03T07:42:06.573523Z",
     "iopub.status.idle": "2023-05-03T07:42:06.587159Z",
     "shell.execute_reply": "2023-05-03T07:42:06.585812Z"
    },
    "papermill": {
     "duration": 0.73274,
     "end_time": "2023-05-03T07:42:06.589811",
     "exception": false,
     "start_time": "2023-05-03T07:42:05.857071",
     "status": "completed"
    },
    "tags": []
   },
   "outputs": [],
   "source": [
    "model_loss = pd.DataFrame(model.history.history)"
   ]
  },
  {
   "cell_type": "code",
   "execution_count": 63,
   "id": "3011203a",
   "metadata": {
    "execution": {
     "iopub.execute_input": "2023-05-03T07:42:07.941419Z",
     "iopub.status.busy": "2023-05-03T07:42:07.940193Z",
     "iopub.status.idle": "2023-05-03T07:42:07.961847Z",
     "shell.execute_reply": "2023-05-03T07:42:07.960530Z"
    },
    "papermill": {
     "duration": 0.741974,
     "end_time": "2023-05-03T07:42:07.964240",
     "exception": false,
     "start_time": "2023-05-03T07:42:07.222266",
     "status": "completed"
    },
    "tags": []
   },
   "outputs": [
    {
     "data": {
      "text/html": [
       "<div>\n",
       "<style scoped>\n",
       "    .dataframe tbody tr th:only-of-type {\n",
       "        vertical-align: middle;\n",
       "    }\n",
       "\n",
       "    .dataframe tbody tr th {\n",
       "        vertical-align: top;\n",
       "    }\n",
       "\n",
       "    .dataframe thead th {\n",
       "        text-align: right;\n",
       "    }\n",
       "</style>\n",
       "<table border=\"1\" class=\"dataframe\">\n",
       "  <thead>\n",
       "    <tr style=\"text-align: right;\">\n",
       "      <th></th>\n",
       "      <th>loss</th>\n",
       "      <th>accuracy</th>\n",
       "      <th>val_loss</th>\n",
       "      <th>val_accuracy</th>\n",
       "    </tr>\n",
       "  </thead>\n",
       "  <tbody>\n",
       "    <tr>\n",
       "      <th>0</th>\n",
       "      <td>0.149058</td>\n",
       "      <td>0.965030</td>\n",
       "      <td>0.140128</td>\n",
       "      <td>0.964854</td>\n",
       "    </tr>\n",
       "    <tr>\n",
       "      <th>1</th>\n",
       "      <td>0.139520</td>\n",
       "      <td>0.965049</td>\n",
       "      <td>0.133820</td>\n",
       "      <td>0.964854</td>\n",
       "    </tr>\n",
       "    <tr>\n",
       "      <th>2</th>\n",
       "      <td>0.138261</td>\n",
       "      <td>0.965049</td>\n",
       "      <td>0.132519</td>\n",
       "      <td>0.964854</td>\n",
       "    </tr>\n",
       "    <tr>\n",
       "      <th>3</th>\n",
       "      <td>0.137565</td>\n",
       "      <td>0.965049</td>\n",
       "      <td>0.132616</td>\n",
       "      <td>0.964854</td>\n",
       "    </tr>\n",
       "    <tr>\n",
       "      <th>4</th>\n",
       "      <td>0.137628</td>\n",
       "      <td>0.965049</td>\n",
       "      <td>0.132322</td>\n",
       "      <td>0.964854</td>\n",
       "    </tr>\n",
       "    <tr>\n",
       "      <th>5</th>\n",
       "      <td>0.137254</td>\n",
       "      <td>0.965049</td>\n",
       "      <td>0.131653</td>\n",
       "      <td>0.964854</td>\n",
       "    </tr>\n",
       "    <tr>\n",
       "      <th>6</th>\n",
       "      <td>0.137090</td>\n",
       "      <td>0.965049</td>\n",
       "      <td>0.133341</td>\n",
       "      <td>0.964854</td>\n",
       "    </tr>\n",
       "    <tr>\n",
       "      <th>7</th>\n",
       "      <td>0.136881</td>\n",
       "      <td>0.965049</td>\n",
       "      <td>0.131692</td>\n",
       "      <td>0.964854</td>\n",
       "    </tr>\n",
       "    <tr>\n",
       "      <th>8</th>\n",
       "      <td>0.137232</td>\n",
       "      <td>0.965049</td>\n",
       "      <td>0.131872</td>\n",
       "      <td>0.964854</td>\n",
       "    </tr>\n",
       "    <tr>\n",
       "      <th>9</th>\n",
       "      <td>0.136902</td>\n",
       "      <td>0.965049</td>\n",
       "      <td>0.131492</td>\n",
       "      <td>0.964854</td>\n",
       "    </tr>\n",
       "  </tbody>\n",
       "</table>\n",
       "</div>"
      ],
      "text/plain": [
       "       loss  accuracy  val_loss  val_accuracy\n",
       "0  0.149058  0.965030  0.140128      0.964854\n",
       "1  0.139520  0.965049  0.133820      0.964854\n",
       "2  0.138261  0.965049  0.132519      0.964854\n",
       "3  0.137565  0.965049  0.132616      0.964854\n",
       "4  0.137628  0.965049  0.132322      0.964854\n",
       "5  0.137254  0.965049  0.131653      0.964854\n",
       "6  0.137090  0.965049  0.133341      0.964854\n",
       "7  0.136881  0.965049  0.131692      0.964854\n",
       "8  0.137232  0.965049  0.131872      0.964854\n",
       "9  0.136902  0.965049  0.131492      0.964854"
      ]
     },
     "execution_count": 63,
     "metadata": {},
     "output_type": "execute_result"
    }
   ],
   "source": [
    "model_loss"
   ]
  },
  {
   "cell_type": "code",
   "execution_count": 64,
   "id": "ffad2bd0",
   "metadata": {
    "execution": {
     "iopub.execute_input": "2023-05-03T07:42:09.235667Z",
     "iopub.status.busy": "2023-05-03T07:42:09.235239Z",
     "iopub.status.idle": "2023-05-03T07:42:09.265005Z",
     "shell.execute_reply": "2023-05-03T07:42:09.263868Z"
    },
    "papermill": {
     "duration": 0.67715,
     "end_time": "2023-05-03T07:42:09.269802",
     "exception": false,
     "start_time": "2023-05-03T07:42:08.592652",
     "status": "completed"
    },
    "tags": []
   },
   "outputs": [
    {
     "name": "stdout",
     "output_type": "stream",
     "text": [
      "Model: \"sequential\"\n",
      "_________________________________________________________________\n",
      " Layer (type)                Output Shape              Param #   \n",
      "=================================================================\n",
      " dense (Dense)               (None, 250)               29750     \n",
      "                                                                 \n",
      " dropout (Dropout)           (None, 250)               0         \n",
      "                                                                 \n",
      " dense_1 (Dense)             (None, 100)               25100     \n",
      "                                                                 \n",
      " dropout_1 (Dropout)         (None, 100)               0         \n",
      "                                                                 \n",
      " dense_2 (Dense)             (None, 50)                5050      \n",
      "                                                                 \n",
      " dropout_2 (Dropout)         (None, 50)                0         \n",
      "                                                                 \n",
      " dense_3 (Dense)             (None, 1)                 51        \n",
      "                                                                 \n",
      "=================================================================\n",
      "Total params: 59,951\n",
      "Trainable params: 59,951\n",
      "Non-trainable params: 0\n",
      "_________________________________________________________________\n"
     ]
    }
   ],
   "source": [
    "model.summary()"
   ]
  },
  {
   "cell_type": "code",
   "execution_count": 65,
   "id": "23372579",
   "metadata": {
    "execution": {
     "iopub.execute_input": "2023-05-03T07:42:10.606230Z",
     "iopub.status.busy": "2023-05-03T07:42:10.605847Z",
     "iopub.status.idle": "2023-05-03T07:42:21.029220Z",
     "shell.execute_reply": "2023-05-03T07:42:21.026940Z"
    },
    "papermill": {
     "duration": 11.058336,
     "end_time": "2023-05-03T07:42:21.031709",
     "exception": false,
     "start_time": "2023-05-03T07:42:09.973373",
     "status": "completed"
    },
    "tags": []
   },
   "outputs": [
    {
     "name": "stdout",
     "output_type": "stream",
     "text": [
      "3691/3691 - 6s - loss: 0.1315 - accuracy: 0.9649 - 6s/epoch - 2ms/step\n",
      "Test Accuracy: 0.96485\n"
     ]
    }
   ],
   "source": [
    "loss, acc = model.evaluate(X_test,y_test, verbose=2)\n",
    "print('Test Accuracy: %.5f' % acc)"
   ]
  },
  {
   "cell_type": "code",
   "execution_count": 66,
   "id": "2d94c971",
   "metadata": {
    "execution": {
     "iopub.execute_input": "2023-05-03T07:42:22.391304Z",
     "iopub.status.busy": "2023-05-03T07:42:22.390813Z",
     "iopub.status.idle": "2023-05-03T07:42:22.398938Z",
     "shell.execute_reply": "2023-05-03T07:42:22.397638Z"
    },
    "papermill": {
     "duration": 0.645939,
     "end_time": "2023-05-03T07:42:22.401100",
     "exception": false,
     "start_time": "2023-05-03T07:42:21.755161",
     "status": "completed"
    },
    "tags": []
   },
   "outputs": [
    {
     "data": {
      "text/plain": [
       "array([0., 0., 0., ..., 0., 0., 0.])"
      ]
     },
     "execution_count": 66,
     "metadata": {},
     "output_type": "execute_result"
    }
   ],
   "source": [
    "y_test"
   ]
  },
  {
   "cell_type": "code",
   "execution_count": 67,
   "id": "3587dad9",
   "metadata": {
    "execution": {
     "iopub.execute_input": "2023-05-03T07:42:23.785469Z",
     "iopub.status.busy": "2023-05-03T07:42:23.785050Z",
     "iopub.status.idle": "2023-05-03T07:42:23.793568Z",
     "shell.execute_reply": "2023-05-03T07:42:23.792516Z"
    },
    "papermill": {
     "duration": 0.734427,
     "end_time": "2023-05-03T07:42:23.796206",
     "exception": false,
     "start_time": "2023-05-03T07:42:23.061779",
     "status": "completed"
    },
    "tags": []
   },
   "outputs": [
    {
     "data": {
      "text/plain": [
       "array([[8.77180647e-01, 4.61813425e-04, 7.31991952e-01, ...,\n",
       "        1.00000000e+00, 0.00000000e+00, 0.00000000e+00],\n",
       "       [3.74450037e-02, 8.04674432e-04, 5.86720322e-01, ...,\n",
       "        1.00000000e+00, 0.00000000e+00, 0.00000000e+00],\n",
       "       [2.57120523e-01, 1.36984714e-03, 3.97700489e-01, ...,\n",
       "        1.00000000e+00, 0.00000000e+00, 0.00000000e+00],\n",
       "       ...,\n",
       "       [5.39254833e-01, 3.37221805e-03, 1.00833573e-01, ...,\n",
       "        0.00000000e+00, 0.00000000e+00, 0.00000000e+00],\n",
       "       [2.18614322e-01, 1.39257617e-02, 2.88473699e-01, ...,\n",
       "        0.00000000e+00, 0.00000000e+00, 0.00000000e+00],\n",
       "       [2.05015832e-02, 2.58943036e-03, 4.88588675e-01, ...,\n",
       "        1.00000000e+00, 0.00000000e+00, 0.00000000e+00]])"
      ]
     },
     "execution_count": 67,
     "metadata": {},
     "output_type": "execute_result"
    }
   ],
   "source": [
    "X_test"
   ]
  },
  {
   "cell_type": "code",
   "execution_count": 68,
   "id": "7e6b12ea",
   "metadata": {
    "execution": {
     "iopub.execute_input": "2023-05-03T07:42:25.153631Z",
     "iopub.status.busy": "2023-05-03T07:42:25.152553Z",
     "iopub.status.idle": "2023-05-03T07:42:33.460985Z",
     "shell.execute_reply": "2023-05-03T07:42:33.459777Z"
    },
    "papermill": {
     "duration": 9.027626,
     "end_time": "2023-05-03T07:42:33.463739",
     "exception": false,
     "start_time": "2023-05-03T07:42:24.436113",
     "status": "completed"
    },
    "tags": []
   },
   "outputs": [
    {
     "name": "stdout",
     "output_type": "stream",
     "text": [
      "3691/3691 [==============================] - 6s 2ms/step\n"
     ]
    }
   ],
   "source": [
    "pred = model.predict(X_test)"
   ]
  },
  {
   "cell_type": "code",
   "execution_count": 69,
   "id": "067c3623",
   "metadata": {
    "execution": {
     "iopub.execute_input": "2023-05-03T07:42:34.853780Z",
     "iopub.status.busy": "2023-05-03T07:42:34.852670Z",
     "iopub.status.idle": "2023-05-03T07:42:34.860316Z",
     "shell.execute_reply": "2023-05-03T07:42:34.859039Z"
    },
    "papermill": {
     "duration": 0.753573,
     "end_time": "2023-05-03T07:42:34.863087",
     "exception": false,
     "start_time": "2023-05-03T07:42:34.109514",
     "status": "completed"
    },
    "tags": []
   },
   "outputs": [
    {
     "data": {
      "text/plain": [
       "(118108, 1)"
      ]
     },
     "execution_count": 69,
     "metadata": {},
     "output_type": "execute_result"
    }
   ],
   "source": [
    "pred.shape"
   ]
  },
  {
   "cell_type": "code",
   "execution_count": 70,
   "id": "55afad06",
   "metadata": {
    "execution": {
     "iopub.execute_input": "2023-05-03T07:42:36.172581Z",
     "iopub.status.busy": "2023-05-03T07:42:36.171170Z",
     "iopub.status.idle": "2023-05-03T07:42:36.179521Z",
     "shell.execute_reply": "2023-05-03T07:42:36.178620Z"
    },
    "papermill": {
     "duration": 0.668538,
     "end_time": "2023-05-03T07:42:36.181774",
     "exception": false,
     "start_time": "2023-05-03T07:42:35.513236",
     "status": "completed"
    },
    "tags": []
   },
   "outputs": [
    {
     "data": {
      "text/plain": [
       "array([[0.05123056],\n",
       "       [0.01902871],\n",
       "       [0.03159242],\n",
       "       ...,\n",
       "       [0.03805435],\n",
       "       [0.16199613],\n",
       "       [0.01243322]], dtype=float32)"
      ]
     },
     "execution_count": 70,
     "metadata": {},
     "output_type": "execute_result"
    }
   ],
   "source": [
    "pred\n"
   ]
  },
  {
   "cell_type": "code",
   "execution_count": 71,
   "id": "0a185ddb",
   "metadata": {
    "execution": {
     "iopub.execute_input": "2023-05-03T07:42:37.586027Z",
     "iopub.status.busy": "2023-05-03T07:42:37.585250Z",
     "iopub.status.idle": "2023-05-03T07:42:37.633920Z",
     "shell.execute_reply": "2023-05-03T07:42:37.632786Z"
    },
    "papermill": {
     "duration": 0.724,
     "end_time": "2023-05-03T07:42:37.636731",
     "exception": false,
     "start_time": "2023-05-03T07:42:36.912731",
     "status": "completed"
    },
    "tags": []
   },
   "outputs": [],
   "source": [
    "model.save('./model_deep.h5')"
   ]
  },
  {
   "cell_type": "code",
   "execution_count": 72,
   "id": "fe5ce396",
   "metadata": {
    "execution": {
     "iopub.execute_input": "2023-05-03T07:42:39.017269Z",
     "iopub.status.busy": "2023-05-03T07:42:39.016738Z",
     "iopub.status.idle": "2023-05-03T07:42:39.025013Z",
     "shell.execute_reply": "2023-05-03T07:42:39.024084Z"
    },
    "papermill": {
     "duration": 0.656038,
     "end_time": "2023-05-03T07:42:39.027349",
     "exception": false,
     "start_time": "2023-05-03T07:42:38.371311",
     "status": "completed"
    },
    "tags": []
   },
   "outputs": [
    {
     "data": {
      "text/plain": [
       "array([[0.05123056],\n",
       "       [0.01902871],\n",
       "       [0.03159242],\n",
       "       ...,\n",
       "       [0.03805435],\n",
       "       [0.16199613],\n",
       "       [0.01243322]], dtype=float32)"
      ]
     },
     "execution_count": 72,
     "metadata": {},
     "output_type": "execute_result"
    }
   ],
   "source": [
    "pred"
   ]
  },
  {
   "cell_type": "code",
   "execution_count": 73,
   "id": "baa7203a",
   "metadata": {
    "execution": {
     "iopub.execute_input": "2023-05-03T07:42:40.443638Z",
     "iopub.status.busy": "2023-05-03T07:42:40.442806Z",
     "iopub.status.idle": "2023-05-03T07:42:51.309883Z",
     "shell.execute_reply": "2023-05-03T07:42:51.308798Z"
    },
    "papermill": {
     "duration": 11.513138,
     "end_time": "2023-05-03T07:42:51.312465",
     "exception": false,
     "start_time": "2023-05-03T07:42:39.799327",
     "status": "completed"
    },
    "tags": []
   },
   "outputs": [
    {
     "name": "stdout",
     "output_type": "stream",
     "text": [
      "3691/3691 [==============================] - 6s 2ms/step\n",
      "[[113957      0]\n",
      " [  4151      0]]\n"
     ]
    }
   ],
   "source": [
    "from sklearn.metrics import confusion_matrix\n",
    "\n",
    "predictions = model.predict(X_test)\n",
    "predictions_classes = []\n",
    "for i in predictions:\n",
    "    prediction_class = np.argmax(i)\n",
    "    predictions_classes.append(prediction_class)\n",
    "\n",
    "cm = confusion_matrix(y_test, predictions_classes)\n",
    "print(cm)"
   ]
  },
  {
   "cell_type": "code",
   "execution_count": null,
   "id": "88a07b06",
   "metadata": {
    "papermill": {
     "duration": 0.664772,
     "end_time": "2023-05-03T07:42:52.727029",
     "exception": false,
     "start_time": "2023-05-03T07:42:52.062257",
     "status": "completed"
    },
    "tags": []
   },
   "outputs": [],
   "source": []
  }
 ],
 "metadata": {
  "kernelspec": {
   "display_name": "Python 3",
   "language": "python",
   "name": "python3"
  },
  "language_info": {
   "codemirror_mode": {
    "name": "ipython",
    "version": 3
   },
   "file_extension": ".py",
   "mimetype": "text/x-python",
   "name": "python",
   "nbconvert_exporter": "python",
   "pygments_lexer": "ipython3",
   "version": "3.10.10"
  },
  "papermill": {
   "default_parameters": {},
   "duration": 777.449528,
   "end_time": "2023-05-03T07:42:56.006768",
   "environment_variables": {},
   "exception": null,
   "input_path": "__notebook__.ipynb",
   "output_path": "__notebook__.ipynb",
   "parameters": {},
   "start_time": "2023-05-03T07:29:58.557240",
   "version": "2.4.0"
  }
 },
 "nbformat": 4,
 "nbformat_minor": 5
}
