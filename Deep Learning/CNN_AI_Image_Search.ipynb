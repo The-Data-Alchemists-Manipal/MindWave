{
 "cells": [
  {
   "cell_type": "markdown",
   "metadata": {},
   "source": [
    "# Problem Statement<br>\n",
    "The problem addressed by the AI Image Search project is the difficulty and inefficiency in searching and organizing large collections of images. As the volume of digital images continues to grow exponentially, manual methods of organizing and retrieving images become impractical and time-consuming. Traditional keyword-based search methods are limited in their ability to capture the visual content and context of images, resulting in inaccurate or incomplete search results. <br>\n",
    "By developing an advanced AI image search system, this project seeks to improve productivity and efficiency in various domains that heavily rely on image data, including e-commerce, digital media management, art and design, fashion, and more. The system will enable users to efficiently explore and discover images, streamline their workflows, and unlock the full potential of their image collections."
   ]
  },
  {
   "cell_type": "markdown",
   "metadata": {},
   "source": [
    "### Import Libraries"
   ]
  },
  {
   "cell_type": "code",
   "execution_count": 1,
   "metadata": {},
   "outputs": [],
   "source": [
    "# the necessary modules to be imported\n",
    "\n",
    "import numpy as np\n",
    "import os\n",
    "import cv2\n",
    "import matplotlib.pyplot as plt\n",
    "import pandas as pd\n",
    "import pickle\n",
    "\n",
    "from tqdm import tqdm_notebook\n",
    "from scipy.spatial.distance import hamming, cosine\n",
    "\n",
    "%matplotlib inline\n",
    "import tensorflow as tf"
   ]
  },
  {
   "cell_type": "markdown",
   "metadata": {},
   "source": [
    "## CIFAR-10 Dataset\n",
    "\n",
    "The CIFAR-10 dataset is a widely used benchmark dataset in computer vision. It consists of 60,000 color images, each of size 32x32 pixels, belonging to 10 different classes. The dataset is divided into 50,000 training images and 10,000 test images.\n",
    "\n",
    "### Dataset Structure\n",
    "\n",
    "- Train Dataset:\n",
    "  - Path: `train_dataset_path`\n",
    "  - Labels File: `labels_file_path`\n",
    "  - Number of Images: 50,000\n",
    "  - Image Size: 32x32 pixels\n",
    "  \n",
    "- Test Dataset:\n",
    "  - Path: `test_dataset_path`\n",
    "  - Labels File: `labels_file_path`\n",
    "  - Number of Images: 10,000\n",
    "  - Image Size: 32x32 pixels\n",
    "\n",
    "### Dataset Preprocessing\n",
    "\n",
    "The `dataset_preprocessing` function is used to preprocess the CIFAR-10 dataset. It reads the labels file, loads the images, resizes them to the specified image size, and assigns labels to each image based on the class information in the image name. The function returns the preprocessed images, corresponding labels, and the list of classes.\n",
    "\n",
    "### Dataset Usage\n",
    "\n",
    "To use the CIFAR-10 dataset, provide the appropriate dataset paths and labels file path as input to the `dataset_preprocessing` function. This will preprocess the dataset and return the preprocessed images and labels that can be used for training or testing your image search system.\n",
    "\n",
    "Note: Make sure to adjust the dataset paths and labels file path based on your actual dataset location.\n"
   ]
  },
  {
   "cell_type": "markdown",
   "metadata": {},
   "source": [
    "## Image Loader Function\n",
    "\n",
    "The `image_loader` function is responsible for loading and preprocessing images from a given image path. "
   ]
  },
  {
   "cell_type": "code",
   "execution_count": 2,
   "metadata": {},
   "outputs": [],
   "source": [
    "def image_loader(image_path,image_size):\n",
    "    image=cv2.imread(image_path)\n",
    "    image=cv2.cvtColor(image,cv2.COLOR_BGR2RGB)\n",
    "    \n",
    "    image = cv2.resize(image,image_size,cv2.INTER_CUBIC)\n",
    "    return image"
   ]
  },
  {
   "cell_type": "markdown",
   "metadata": {},
   "source": [
    "# Data Preprocessing\n",
    "## Dataset Preprocessing Function\n",
    "\n",
    "The `dataset_preprocessing` function preprocesses images and labels from a dataset directory. It performs the following steps:\n",
    "\n",
    "1. Read labels from the specified file path.\n",
    "2. Load and preprocess images using `image_loader`.\n",
    "3. Store images, labels, and image paths.\n",
    "4. Serialize and save image paths to a pickle file.\n",
    "5. Return preprocessed images, labels, and class list.\n"
   ]
  },
  {
   "cell_type": "code",
   "execution_count": 3,
   "metadata": {},
   "outputs": [],
   "source": [
    "def dataset_preprocessing(dataset_path,labels_file_path,image_size,image_paths_pickle):\n",
    "    with open(labels_file_path,'r') as f:\n",
    "        classes= f.read().split(\"\\n\")[:-1]\n",
    "    images=[]\n",
    "    labels=[]\n",
    "    image_paths=[]\n",
    "    for image_name in os.listdir(dataset_path):\n",
    "        try:\n",
    "            image_path=os.path.join(dataset_path,image_name)\n",
    "            images.append(image_loader(image_path,image_size))\n",
    "            image_paths.append(image_path)\n",
    "            \n",
    "            for idx in range(len(classes)):\n",
    "                if classes[idx] in image_name:\n",
    "                    labels.append(idx)\n",
    "        except:\n",
    "            pass\n",
    "    with open(image_paths_pickle+\".pickle\",'wb') as f:\n",
    "        pickle.dump(image_paths,f)\n",
    "    \n",
    "    assert len(images)==len(labels)\n",
    "    return np.array(images),np.array(labels),classes"
   ]
  },
  {
   "cell_type": "code",
   "execution_count": 6,
   "metadata": {},
   "outputs": [
    {
     "data": {
      "text/plain": [
       "(50000, 32, 32, 3)"
      ]
     },
     "execution_count": 6,
     "metadata": {},
     "output_type": "execute_result"
    }
   ],
   "source": [
    "# change path to your training dir\n",
    "train_dataset_path = r\"C:\\Users\\ayush\\OneDrive\\Desktop\\AI Image Search\\cifar\\train\"\n",
    "# change path to your test dir\n",
    "test_dataset_path = r\"C:\\Users\\ayush\\OneDrive\\Desktop\\AI Image Search\\cifar\\test\"\n",
    "# change path to your label.txt file\n",
    "labels_file_path = r\"C:\\Users\\ayush\\OneDrive\\Desktop\\AI Image Search\\cifar\\labels.txt\"\n",
    "\n",
    "image_size = (32, 32)\n",
    "image_paths_pickle = \"training_images_pickle\"\n",
    "\n",
    "train_images, train_labels,classes = dataset_preprocessing(train_dataset_path, labels_file_path, image_size, image_paths_pickle)\n",
    "# test_images, test_labels,classes = dataset_preprocessing(test_dataset_path, labels_file_path, image_size, \"test_images_pickle\")\n",
    "\n",
    "train_images.shape\n",
    "# test_images.shape\n"
   ]
  },
  {
   "cell_type": "markdown",
   "metadata": {},
   "source": [
    "# Feature Extraction using VGG16 Model\n",
    "\n",
    "To extract features from images using the VGG16 model. Feel free to use any other pre-trained model for this."
   ]
  },
  {
   "cell_type": "code",
   "execution_count": 7,
   "metadata": {},
   "outputs": [],
   "source": [
    "# we have used VGG16 model to get the features of the images, feel free to use any pre-trained model or your own model architechture for this\n",
    "base_model = tf.keras.applications.VGG16(weights='imagenet', include_top=False, input_shape=(32, 32, 3))\n",
    "\n",
    "# Freeze the pre-trained layers\n",
    "for layer in base_model.layers:\n",
    "    layer.trainable = False\n",
    "\n",
    "# Add custom layers on top of the base model\n",
    "x = base_model.output\n",
    "x = tf.keras.layers.GlobalAveragePooling2D()(x)\n",
    "x = tf.keras.layers.Dense(256, activation='relu')(x)\n",
    "predictions = tf.keras.layers.Dense(len(classes), activation='softmax')(x)\n"
   ]
  },
  {
   "cell_type": "code",
   "execution_count": 8,
   "metadata": {},
   "outputs": [],
   "source": [
    "model = tf.keras.models.Model(inputs=base_model.input, outputs=predictions)"
   ]
  },
  {
   "cell_type": "code",
   "execution_count": 9,
   "metadata": {},
   "outputs": [],
   "source": [
    "model.compile(optimizer='adam', loss='sparse_categorical_crossentropy', metrics=['accuracy'])"
   ]
  },
  {
   "cell_type": "code",
   "execution_count": 10,
   "metadata": {
    "scrolled": true
   },
   "outputs": [
    {
     "name": "stdout",
     "output_type": "stream",
     "text": [
      "Epoch 1/10\n",
      "1250/1250 [==============================] - 163s 130ms/step - loss: 2.4800 - accuracy: 0.4782 - val_loss: 1.3651 - val_accuracy: 0.5393\n",
      "Epoch 2/10\n",
      "1250/1250 [==============================] - 165s 132ms/step - loss: 1.1853 - accuracy: 0.5919 - val_loss: 1.2746 - val_accuracy: 0.5732\n",
      "Epoch 3/10\n",
      "1250/1250 [==============================] - 165s 132ms/step - loss: 1.0700 - accuracy: 0.6323 - val_loss: 1.2866 - val_accuracy: 0.5732\n",
      "Epoch 4/10\n",
      "1250/1250 [==============================] - 165s 132ms/step - loss: 0.9974 - accuracy: 0.6550 - val_loss: 1.2985 - val_accuracy: 0.5785\n",
      "Epoch 5/10\n",
      "1250/1250 [==============================] - 165s 132ms/step - loss: 0.9381 - accuracy: 0.6752 - val_loss: 1.3527 - val_accuracy: 0.5800\n",
      "Epoch 6/10\n",
      "1250/1250 [==============================] - 166s 133ms/step - loss: 0.8742 - accuracy: 0.6959 - val_loss: 1.3717 - val_accuracy: 0.5859\n",
      "Epoch 7/10\n",
      "1250/1250 [==============================] - 165s 132ms/step - loss: 0.8180 - accuracy: 0.7162 - val_loss: 1.4168 - val_accuracy: 0.5836\n",
      "Epoch 8/10\n",
      "1250/1250 [==============================] - 167s 133ms/step - loss: 0.7574 - accuracy: 0.7369 - val_loss: 1.5317 - val_accuracy: 0.5758\n",
      "Epoch 9/10\n",
      "1250/1250 [==============================] - 165s 132ms/step - loss: 0.7027 - accuracy: 0.7523 - val_loss: 1.5928 - val_accuracy: 0.5848\n",
      "Epoch 10/10\n",
      "1250/1250 [==============================] - 165s 132ms/step - loss: 0.6620 - accuracy: 0.7684 - val_loss: 1.7198 - val_accuracy: 0.5824\n"
     ]
    },
    {
     "data": {
      "text/plain": [
       "<keras.callbacks.History at 0x1a6dbb279a0>"
      ]
     },
     "execution_count": 10,
     "metadata": {},
     "output_type": "execute_result"
    }
   ],
   "source": [
    "model.fit(train_images, train_labels, epochs=10, batch_size=32, validation_split=0.2)"
   ]
  },
  {
   "cell_type": "markdown",
   "metadata": {},
   "source": [
    "#### Sparse Accuracy"
   ]
  },
  {
   "cell_type": "code",
   "execution_count": 14,
   "metadata": {},
   "outputs": [],
   "source": [
    "def sparse_accuracy(true_labels, predicted_labels):\n",
    "    assert len(true_labels)==len(predicted_labels)\n",
    "    correct=0\n",
    "    for i in range(len(true_labels)):\n",
    "        if np.argmax(predicted_labels[i])==true_labels[i]:\n",
    "            correct+=1\n",
    "    return correct/len(true_labels)"
   ]
  },
  {
   "cell_type": "markdown",
   "metadata": {},
   "source": [
    "# Test Dataset Evaluation\n",
    "\n",
    "To evaluate the model on the test dataset."
   ]
  },
  {
   "cell_type": "code",
   "execution_count": 15,
   "metadata": {},
   "outputs": [
    {
     "name": "stdout",
     "output_type": "stream",
     "text": [
      "313/313 [==============================] - 29s 94ms/step\n",
      "Model Accuracy: 10.00%\n"
     ]
    }
   ],
   "source": [
    "# Preprocess the test dataset\n",
    "test_path = r\"C:\\Users\\ayush\\OneDrive\\Desktop\\AI Image Search\\cifar\\test\"\n",
    "labels_file = r\"C:\\Users\\ayush\\OneDrive\\Desktop\\AI Image Search\\cifar\\labels.txt\"\n",
    "test_images, test_labels,classes = dataset_preprocessing(test_path, labels_file, image_size, \"test_images_pickle\")\n",
    "\n",
    "# Predict labels for the test images\n",
    "predictions = model.predict(test_images)\n",
    "predicted_labels = np.argmax(predictions, axis=1)\n",
    "\n",
    "# Calculate the accuracy\n",
    "accuracy = sparse_accuracy(test_labels, predicted_labels)\n",
    "print(\"Model Accuracy: {:.2f}%\".format(accuracy * 100))\n"
   ]
  },
  {
   "cell_type": "code",
   "execution_count": 16,
   "metadata": {},
   "outputs": [],
   "source": [
    "model.save(\"image_search_model.h5\")"
   ]
  },
  {
   "cell_type": "code",
   "execution_count": 17,
   "metadata": {},
   "outputs": [],
   "source": [
    "model = tf.keras.models.load_model(\"image_search_model.h5\")"
   ]
  },
  {
   "cell_type": "markdown",
   "metadata": {},
   "source": [
    "## Getting the train images feature"
   ]
  },
  {
   "cell_type": "code",
   "execution_count": 18,
   "metadata": {},
   "outputs": [
    {
     "name": "stdout",
     "output_type": "stream",
     "text": [
      "1563/1563 [==============================] - 170s 108ms/step\n"
     ]
    }
   ],
   "source": [
    "train_features = model.predict(train_images)"
   ]
  },
  {
   "cell_type": "markdown",
   "metadata": {},
   "source": [
    "# Image Search\n",
    "\n",
    "To perform an image search, follow these steps:\n",
    "\n",
    "1. Load the preprocessed training image paths from the pickle file.\n",
    "\n",
    "2. Load the query image using `image_loader` function. Provide the query image path and image size as input.\n",
    "\n",
    "3. Preprocess the query image by expanding its dimensions.\n",
    "\n",
    "4. Extract features from the query image using the trained model.\n",
    "\n",
    "5. Compute cosine distances between the query image features and training image features.\n",
    "\n",
    "6. Get the indices of the top similar images based on cosine distance.\n",
    "\n",
    "7. Retrieve the paths of the top similar images using the top similar indices.\n",
    "\n",
    "Note: Adjust the number of top similar images based on your requirement."
   ]
  },
  {
   "cell_type": "code",
   "execution_count": 19,
   "metadata": {},
   "outputs": [
    {
     "name": "stdout",
     "output_type": "stream",
     "text": [
      "1/1 [==============================] - 0s 20ms/step\n"
     ]
    }
   ],
   "source": [
    "with open(\"training_images_pickle.pickle\", \"rb\") as f:\n",
    "    image_paths = pickle.load(f)\n",
    "\n",
    "# Load the query image\n",
    "query_image_path = r\"C:\\Users\\ayush\\OneDrive\\Desktop\\frog.png\"\n",
    "query_image = image_loader(query_image_path, image_size)\n",
    "\n",
    "# Preprocess the query image\n",
    "query_image = np.expand_dims(query_image, axis=0)\n",
    "\n",
    "# Extract features from the query image\n",
    "query_features = model.predict(query_image)\n",
    "\n",
    "# Compute cosine distances between query image and training images\n",
    "distances = []\n",
    "for i in range(len(train_images)):\n",
    "    distances.append(cosine(train_features[i], query_features[0]))\n",
    "\n",
    "# Get the indices of the top similar images based on cosine distance\n",
    "top_similar_indices = np.argsort(distances)[:10]\n"
   ]
  },
  {
   "cell_type": "markdown",
   "metadata": {},
   "source": [
    "## Results\n",
    "\n",
    "Top 10 similar images are displayed"
   ]
  },
  {
   "cell_type": "code",
   "execution_count": 20,
   "metadata": {},
   "outputs": [
    {
     "data": {
      "image/png": "[encoded data removed]",
      "text/plain": [
       "<Figure size 1200x600 with 10 Axes>"
      ]
     },
     "metadata": {},
     "output_type": "display_data"
    }
   ],
   "source": [
    "fig, axes = plt.subplots(2, 5, figsize=(12, 6))\n",
    "for i, idx in enumerate(top_similar_indices):\n",
    "    image_path = image_paths[idx]\n",
    "    image = cv2.imread(image_path)\n",
    "    image = cv2.cvtColor(image, cv2.COLOR_BGR2RGB)\n",
    "    ax = axes[i // 5, i % 5]\n",
    "    ax.imshow(image)\n",
    "    ax.axis(\"off\")\n",
    "plt.show()"
   ]
  },
  {
   "cell_type": "code",
   "execution_count": null,
   "metadata": {},
   "outputs": [],
   "source": []
  }
 ],
 "metadata": {
  "kernelspec": {
   "display_name": "Python 3 (ipykernel)",
   "language": "python",
   "name": "python3"
  },
  "language_info": {
   "codemirror_mode": {
    "name": "ipython",
    "version": 3
   },
   "file_extension": ".py",
   "mimetype": "text/x-python",
   "name": "python",
   "nbconvert_exporter": "python",
   "pygments_lexer": "ipython3",
   "version": "3.9.13"
  }
 },
 "nbformat": 4,
 "nbformat_minor": 4
}
