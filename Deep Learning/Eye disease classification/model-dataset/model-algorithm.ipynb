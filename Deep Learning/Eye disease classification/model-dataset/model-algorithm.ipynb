{
 "cells": [
  {
   "cell_type": "code",
   "execution_count": null,
   "metadata": {},
   "outputs": [],
   "source": [
    "import numpy as np\n",
    "import pandas as pd\n",
    "import sklearn \n",
    "import matplotlib.pyplot as plt\n",
    "import tensorflow as tf\n",
    "import cv2\n",
    "from sklearn.model_selection import train_test_split\n",
    "import os\n",
    "\n",
    "import ipywidgets as widgets\n",
    "import io\n",
    "from PIL import Image\n",
    "import tqdm\n",
    "from sklearn.utils import shuffle\n",
    "\n"
   ]
  },
  {
   "cell_type": "code",
   "execution_count": null,
   "metadata": {},
   "outputs": [],
   "source": [
    "dataset=pd.read_csv('/content/drive/MyDrive/machine learning/Eye disease classification/dataset/labels.csv')\n",
    "images=dataset['name']\n",
    "images=np.array(images)\n"
   ]
  },
  {
   "cell_type": "code",
   "execution_count": null,
   "metadata": {},
   "outputs": [],
   "source": [
    "category=dataset['category']\n",
    "category=np.array(category)\n"
   ]
  },
  {
   "cell_type": "code",
   "execution_count": null,
   "metadata": {},
   "outputs": [],
   "source": [
    "X= []\n",
    "Y= []\n",
    "\n",
    "\n",
    "for i in range(712):\n",
    "    folderPath = os.path.join('/content/drive/MyDrive/machine learning/Eye disease classification/dataset/images',images[i])\n",
    "    img = cv2.imread(folderPath)\n",
    "    gray_image = cv2.cvtColor(img, cv2.COLOR_BGR2GRAY)\n",
    "    gray_image = cv2.resize(gray_image,(255,255),interpolation = cv2.INTER_AREA)\n",
    "    X.append(gray_image)\n",
    "    Y.append(category[i])\n",
    "\n",
    "\n",
    "\n",
    "\n",
    "X = np.array(X)\n",
    "Y = np.array(Y)\n",
    "\n",
    "X,Y = shuffle(X,Y,random_state=0)\n",
    "X.shape"
   ]
  },
  {
   "cell_type": "code",
   "execution_count": null,
   "metadata": {},
   "outputs": [],
   "source": [
    "np.save(\"features.npy\",X)"
   ]
  },
  {
   "cell_type": "code",
   "execution_count": null,
   "metadata": {},
   "outputs": [],
   "source": [
    "X=X/255\n",
    "X.shape"
   ]
  },
  {
   "cell_type": "code",
   "execution_count": null,
   "metadata": {},
   "outputs": [],
   "source": [
    "\n",
    "from sklearn.model_selection import  train_test_split\n",
    "X_train,X_test,Y_train,Y_test = train_test_split(X,Y,test_size=0.1,random_state=42)"
   ]
  },
  {
   "cell_type": "code",
   "execution_count": null,
   "metadata": {},
   "outputs": [],
   "source": [
    "#three\n",
    "#model making\n",
    "model=tf.keras.Sequential([\n",
    "    tf.keras.layers.Flatten(input_shape=(255,255)),\n",
    "    tf.keras.layers.Dense(255,activation='relu'),\n",
    "     tf.keras.layers.Dense(120,activation='PReLU'),\n",
    "      tf.keras.layers.Dense(60,activation='ELU'),\n",
    "       tf.keras.layers.Dense(20,activation='PReLU'),\n",
    "       tf.keras.layers.Dense(6,activation='relu'),\n",
    "      tf.keras.layers.Dense(3,activation='sigmoid')\n",
    "\n",
    "])\n",
    "model.compile(optimizer='adam',\n",
    "loss='sparse_categorical_crossentropy',\n",
    "metrics=['accuracy']\n",
    ")\n",
    "model.fit(np.array(X_train),np.array(Y_train),epochs=960)"
   ]
  },
  {
   "cell_type": "code",
   "execution_count": null,
   "metadata": {},
   "outputs": [],
   "source": [
    "model.evaluate(X_test,Y_test)"
   ]
  },
  {
   "cell_type": "code",
   "execution_count": null,
   "metadata": {},
   "outputs": [],
   "source": [
    "import joblib\n",
    "joblib.dump(model,\"trainedModel.pkl\")"
   ]
  }
 ],
 "metadata": {
  "language_info": {
   "name": "python"
  },
  "orig_nbformat": 4
 },
 "nbformat": 4,
 "nbformat_minor": 2
}
