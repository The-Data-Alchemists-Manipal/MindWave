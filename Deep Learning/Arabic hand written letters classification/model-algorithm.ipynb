{
 "cells": [
  {
   "cell_type": "code",
   "execution_count": null,
   "metadata": {},
   "outputs": [],
   "source": [
    "import numpy as np\n",
    "import pandas as pd\n",
    "import sklearn \n",
    "import matplotlib.pyplot as plt\n",
    "import tensorflow as tf\n",
    "import cv2\n",
    "from sklearn.model_selection import train_test_split\n",
    "import os\n",
    "\n",
    "import ipywidgets as widgets\n",
    "import io\n",
    "from PIL import Image\n",
    "import tqdm\n",
    "from sklearn.utils import shuffle"
   ]
  },
  {
   "cell_type": "code",
   "execution_count": null,
   "metadata": {},
   "outputs": [],
   "source": [
    "X= []\n",
    "Y= []\n",
    "image_size = 32\n",
    "labels = os.listdir('/content/drive/MyDrive/machine learning/Arabic handwritten digits classifiction/Train Images 13440x32x32/train')\n",
    "\n",
    "for i in labels:\n",
    "    folderPath = os.path.join('/content/drive/MyDrive/machine learning/Arabic handwritten digits classifiction/Train Images 13440x32x32/train',i)\n",
    "    if \"(\" not in i:\n",
    "      img = cv2.imread(folderPath)\n",
    "      if img is not None:\n",
    "        img = cv2.resize(img,(image_size,image_size))\n",
    "        # print(i)\n",
    "        X.append(img)\n",
    "        Y.append((i.split('_')[-1]).split('.')[0])\n",
    "    \n",
    "\n",
    "labels1 = os.listdir('/content/drive/MyDrive/machine learning/Arabic handwritten digits classifiction/Test Images 3360x32x32/test')\n",
    "for i in labels1:\n",
    "    folderPath = os.path.join('/content/drive/MyDrive/machine learning/Arabic handwritten digits classifiction/Test Images 3360x32x32/test',i)\n",
    "    if \"(\" not in i:\n",
    "      img = cv2.imread(folderPath)\n",
    "      if img is not None:\n",
    "        img = cv2.resize(img,(image_size,image_size))\n",
    "        # print(i)\n",
    "        X.append(img)\n",
    "        Y.append((i.split('_')[-1]).split('.')[0])\n",
    "      \n",
    "\n",
    "\n",
    "\n",
    "X = np.array(X)\n",
    "Y = np.array(Y)\n",
    "\n",
    "X,Y = shuffle(X,Y,random_state=0)\n",
    "X.shape"
   ]
  },
  {
   "cell_type": "code",
   "execution_count": null,
   "metadata": {},
   "outputs": [],
   "source": [
    "len(Y)\n"
   ]
  },
  {
   "cell_type": "code",
   "execution_count": null,
   "metadata": {},
   "outputs": [],
   "source": [
    "Y_new=[]\n",
    "for i in Y:\n",
    "  Y_new.append(float(i))\n"
   ]
  },
  {
   "cell_type": "code",
   "execution_count": null,
   "metadata": {},
   "outputs": [],
   "source": [
    "Y_new=np.array(Y_new)\n",
    "len(Y_new)"
   ]
  },
  {
   "cell_type": "code",
   "execution_count": null,
   "metadata": {},
   "outputs": [],
   "source": [
    "X[0].shape\n"
   ]
  },
  {
   "cell_type": "code",
   "execution_count": null,
   "metadata": {},
   "outputs": [],
   "source": [
    "from sklearn.model_selection import  train_test_split\n",
    "X_train,X_test,Y_train,Y_test = train_test_split(X,Y_new,test_size=0.2,random_state=42)"
   ]
  },
  {
   "cell_type": "code",
   "execution_count": null,
   "metadata": {},
   "outputs": [],
   "source": [
    "X_train=X_train/255\n",
    "X_test=X_test/255\n",
    "\n",
    "\n",
    "X_train[0].shape"
   ]
  },
  {
   "cell_type": "code",
   "execution_count": null,
   "metadata": {},
   "outputs": [],
   "source": [
    "model=tf.keras.Sequential([\n",
    "    tf.keras.layers.Flatten(input_shape=(32,32,3)),\n",
    "    tf.keras.layers.Dense(900,activation='relu'),\n",
    "     tf.keras.layers.Dense(450,activation='PReLU'),\n",
    "      tf.keras.layers.Dense(225,activation='ELU'),\n",
    "       tf.keras.layers.Dense(110,activation='PReLU'),\n",
    "       tf.keras.layers.Dense(55,activation='relu'),\n",
    "       \n",
    "      tf.keras.layers.Dense(32,activation='sigmoid')\n",
    "\n",
    "])\n",
    "model.compile(optimizer='adam',\n",
    "loss='sparse_categorical_crossentropy',\n",
    "metrics=['accuracy']\n",
    ")\n",
    "model.fit(np.array(X_train),np.array(Y_train),epochs=105)"
   ]
  },
  {
   "cell_type": "code",
   "execution_count": null,
   "metadata": {},
   "outputs": [],
   "source": [
    "model.evaluate(X_test,Y_test)"
   ]
  }
 ],
 "metadata": {
  "language_info": {
   "name": "python"
  },
  "orig_nbformat": 4
 },
 "nbformat": 4,
 "nbformat_minor": 2
}
