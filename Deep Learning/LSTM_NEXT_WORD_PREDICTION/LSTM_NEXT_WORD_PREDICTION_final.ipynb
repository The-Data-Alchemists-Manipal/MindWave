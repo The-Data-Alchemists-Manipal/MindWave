{
  "cells": [
    {
      "cell_type": "markdown",
      "source": [
        "# WARNING\n",
        "<h1> <i> <b> If you are running  this notebook in Local env then it may crash due to low computing power, the same may happen if running in google colab without GPU</b></i></h1>\n",
        "\n",
        "\n",
        "<h2><i><b>\n",
        "Min requirements:\n",
        "16 GB RAM\n",
        "16 GB GPU RAM\n",
        "</b></i></h2>"
      ],
      "metadata": {
        "id": "AtQAA96e7bZk"
      }
    },
    {
      "cell_type": "code",
      "execution_count": 1,
      "metadata": {
        "id": "utMxBcFcBTvE"
      },
      "outputs": [],
      "source": [
        "# Dataset : Text file version of the book from below\n",
        "# https://www.gutenberg.org/browse/scores/top\n",
        "# I have Prepared a dataset by mixing the books from above website :)\n",
        "\n",
        "import tensorflow as tf\n",
        "from tensorflow.keras.preprocessing.text import Tokenizer\n",
        "from tensorflow.keras.layers import Embedding , LSTM, Dense\n",
        "from tensorflow.keras.models import Sequential\n",
        "from tensorflow.keras.utils import to_categorical\n",
        "from tensorflow.keras.optimizers import Adam\n",
        "import pickle\n",
        "import numpy as np\n",
        "import os"
      ]
    },
    {
      "cell_type": "markdown",
      "source": [
        "# This below cell takes a good amount of time and computing power\n",
        "# so i am uploading both the data_lstm.txt file which has raw data\n",
        "# and data_redu.text which has the preprocessed data, i.e. output from this cell"
      ],
      "metadata": {
        "id": "DRf2X7st8G--"
      }
    },
    {
      "cell_type": "code",
      "execution_count": null,
      "metadata": {
        "id": "yQyMJ7iRDUqt"
      },
      "outputs": [],
      "source": [
        "file = open(\"data_lstm.txt\",'r',encoding='utf8')\n",
        "\n",
        "lines = list()\n",
        "for i in file:\n",
        "  lines.append(i)\n",
        "\n",
        "data = \"\"\n",
        "for i in lines:\n",
        "  data = ' '.join(lines)\n",
        "\n",
        "data = data.replace('\\n','').replace('\\r','').replace('\\ufeff','').replace('\"','')\n",
        "\n",
        "data = data.split()\n",
        "data = ' '.join(data)"
      ]
    },
    {
      "cell_type": "code",
      "execution_count": null,
      "metadata": {
        "id": "Q-xe4GiyPy2l"
      },
      "outputs": [],
      "source": [
        "# f = open(\"data_redu.txt\",'w')\n",
        "# f.write(data)\n",
        "# f.close()"
      ]
    },
    {
      "cell_type": "code",
      "execution_count": 2,
      "metadata": {
        "colab": {
          "base_uri": "https://localhost:8080/"
        },
        "id": "8ATIy1KTEYNY",
        "outputId": "e0bbe0ec-72a3-434e-c04b-a9834c7eef0e"
      },
      "outputs": [
        {
          "output_type": "stream",
          "name": "stdout",
          "text": [
            "636719\n"
          ]
        }
      ],
      "source": [
        "f = open(\"data_redu.txt\",'r')\n",
        "data = f.read()\n",
        "f.close()\n",
        "# data[:819]\n",
        "print(len(data))\n"
      ]
    },
    {
      "cell_type": "code",
      "execution_count": 3,
      "metadata": {
        "colab": {
          "base_uri": "https://localhost:8080/"
        },
        "id": "kN_mN46-Eibl",
        "outputId": "9acbeaa0-f0c7-450d-db2b-dc1c468c9223"
      },
      "outputs": [
        {
          "output_type": "execute_result",
          "data": {
            "text/plain": [
              "[3365, 570, 161, 5, 23, 27, 2204, 2, 156, 23, 16, 6, 275, 80, 1]"
            ]
          },
          "metadata": {},
          "execution_count": 3
        }
      ],
      "source": [
        "tokenizer = Tokenizer()\n",
        "tokenizer.fit_on_texts([data])\n",
        "pickle.dump(tokenizer,open('token.pkl','wb'))\n",
        "# tokenizer = pickle.load(open('token.pkl','rb'))\n",
        "seq_data = tokenizer.texts_to_sequences([data])[0]\n",
        "seq_data[:15]"
      ]
    },
    {
      "cell_type": "code",
      "execution_count": 4,
      "metadata": {
        "colab": {
          "base_uri": "https://localhost:8080/"
        },
        "id": "mUBsyVhkPQfn",
        "outputId": "ab92f208-2f01-48a5-915c-75515743d6f9"
      },
      "outputs": [
        {
          "output_type": "execute_result",
          "data": {
            "text/plain": [
              "117578"
            ]
          },
          "metadata": {},
          "execution_count": 4
        }
      ],
      "source": [
        "len(seq_data)"
      ]
    },
    {
      "cell_type": "code",
      "execution_count": 5,
      "metadata": {
        "colab": {
          "base_uri": "https://localhost:8080/"
        },
        "id": "Rs41YrCHPbVC",
        "outputId": "c4d72b90-2f37-414c-9304-cfa25a467dc8"
      },
      "outputs": [
        {
          "output_type": "stream",
          "name": "stdout",
          "text": [
            "8459\n"
          ]
        }
      ],
      "source": [
        "vocab_size = len(tokenizer.word_index)+1\n",
        "print(vocab_size)"
      ]
    },
    {
      "cell_type": "code",
      "execution_count": 18,
      "metadata": {
        "id": "7ehVDkCgPmn3",
        "colab": {
          "base_uri": "https://localhost:8080/"
        },
        "outputId": "1d04cafa-baef-490d-befd-ccbb7dd0be8f"
      },
      "outputs": [
        {
          "output_type": "stream",
          "name": "stdout",
          "text": [
            "The Len of seq are :  117575\n"
          ]
        },
        {
          "output_type": "execute_result",
          "data": {
            "text/plain": [
              "array([[3365,  570,  161,    5],\n",
              "       [ 570,  161,    5,   23],\n",
              "       [ 161,    5,   23,   27],\n",
              "       [   5,   23,   27, 2204],\n",
              "       [  23,   27, 2204,    2],\n",
              "       [  27, 2204,    2,  156],\n",
              "       [2204,    2,  156,   23],\n",
              "       [   2,  156,   23,   16],\n",
              "       [ 156,   23,   16,    6],\n",
              "       [  23,   16,    6,  275]])"
            ]
          },
          "metadata": {},
          "execution_count": 18
        }
      ],
      "source": [
        "sequences = list()\n",
        "\n",
        "for i in range(3,len(seq_data)):\n",
        "  words = seq_data[i-3:i+1]\n",
        "  sequences.append(words)\n",
        "\n",
        "print(\"The Len of seq are : \",len(sequences))\n",
        "sequences = np.array(sequences)\n",
        "sequences[:10]"
      ]
    },
    {
      "cell_type": "code",
      "execution_count": 9,
      "metadata": {
        "id": "c8vE2eaZQJHf"
      },
      "outputs": [],
      "source": [
        "X = []\n",
        "y = []\n",
        "\n",
        "for i in sequences:\n",
        "  X.append(i[0:3])\n",
        "  y.append(i[3])\n",
        "\n",
        "X = np.array(X)\n",
        "y = np.array(y)"
      ]
    },
    {
      "cell_type": "code",
      "execution_count": 10,
      "metadata": {
        "colab": {
          "base_uri": "https://localhost:8080/"
        },
        "id": "M6LnMuRuQcEh",
        "outputId": "0993c7d5-5c91-41d6-9628-0ec634f5ebb2"
      },
      "outputs": [
        {
          "output_type": "stream",
          "name": "stdout",
          "text": [
            "Data :  [[3365  570  161]\n",
            " [ 570  161    5]\n",
            " [ 161    5   23]\n",
            " [   5   23   27]\n",
            " [  23   27 2204]\n",
            " [  27 2204    2]\n",
            " [2204    2  156]\n",
            " [   2  156   23]\n",
            " [ 156   23   16]\n",
            " [  23   16    6]]\n",
            "Output :  [   5   23   27 2204    2  156   23   16    6  275]\n"
          ]
        }
      ],
      "source": [
        "print(\"Data : \", X[:10])\n",
        "print(\"Output : \", y[:10])"
      ]
    },
    {
      "cell_type": "code",
      "execution_count": 11,
      "metadata": {
        "colab": {
          "base_uri": "https://localhost:8080/"
        },
        "id": "tJqcaft_QjVJ",
        "outputId": "a55202bb-17bc-4b7a-fc33-a433a9ed6aa4"
      },
      "outputs": [
        {
          "output_type": "execute_result",
          "data": {
            "text/plain": [
              "array([[0., 0., 0., ..., 0., 0., 0.],\n",
              "       [0., 0., 0., ..., 0., 0., 0.],\n",
              "       [0., 0., 0., ..., 0., 0., 0.],\n",
              "       [0., 0., 0., ..., 0., 0., 0.],\n",
              "       [0., 0., 1., ..., 0., 0., 0.]], dtype=float32)"
            ]
          },
          "metadata": {},
          "execution_count": 11
        }
      ],
      "source": [
        "y = to_categorical(y,num_classes = vocab_size)\n",
        "y[:5]"
      ]
    },
    {
      "cell_type": "code",
      "execution_count": 20,
      "metadata": {
        "id": "6qhaUPukSZaT"
      },
      "outputs": [],
      "source": [
        "# import torch\n",
        "# import torchvision\n",
        "# def get_default_device():\n",
        "#     \"\"\"Picking GPU if available or else CPU\"\"\"\n",
        "#     if torch.cuda.is_available():\n",
        "#         return torch.device('cuda')\n",
        "#     else:\n",
        "#         return torch.device('cpu')\n",
        "# device = get_default_device()\n",
        "\n",
        "# def to_device(data, device):\n",
        "#     \"\"\"Move tensor(s) to chosen device\"\"\"\n",
        "#     if isinstance(data, (list,tuple,str)):\n",
        "#         return [to_device(x, device) for x in data]\n",
        "#     return data.to(device, non_blocking=True)\n",
        "\n",
        "# to_device([data],device)\n",
        "\n",
        "\n",
        "\n",
        "# Ignore This.\n",
        "# May need when GPU is not responding in colab or your device :)"
      ]
    },
    {
      "cell_type": "code",
      "execution_count": 12,
      "metadata": {
        "id": "FJFZniQ6Qwd8"
      },
      "outputs": [],
      "source": [
        "model = Sequential()\n",
        "model.add(Embedding(vocab_size,10,input_length=3))\n",
        "model.add(LSTM(1000,return_sequences=True))\n",
        "model.add(LSTM(1000))\n",
        "model.add(Dense(1000,activation=\"relu\"))\n",
        "model.add(Dense(vocab_size,activation=\"softmax\"))"
      ]
    },
    {
      "cell_type": "code",
      "execution_count": 13,
      "metadata": {
        "colab": {
          "base_uri": "https://localhost:8080/"
        },
        "id": "y0xH4T54Rcq9",
        "outputId": "6f5602c7-76dd-4818-8a03-106476b782cd"
      },
      "outputs": [
        {
          "output_type": "stream",
          "name": "stdout",
          "text": [
            "Model: \"sequential\"\n",
            "_________________________________________________________________\n",
            " Layer (type)                Output Shape              Param #   \n",
            "=================================================================\n",
            " embedding (Embedding)       (None, 3, 10)             84590     \n",
            "                                                                 \n",
            " lstm (LSTM)                 (None, 3, 1000)           4044000   \n",
            "                                                                 \n",
            " lstm_1 (LSTM)               (None, 1000)              8004000   \n",
            "                                                                 \n",
            " dense (Dense)               (None, 1000)              1001000   \n",
            "                                                                 \n",
            " dense_1 (Dense)             (None, 8459)              8467459   \n",
            "                                                                 \n",
            "=================================================================\n",
            "Total params: 21,601,049\n",
            "Trainable params: 21,601,049\n",
            "Non-trainable params: 0\n",
            "_________________________________________________________________\n"
          ]
        }
      ],
      "source": [
        "model.summary()"
      ]
    },
    {
      "cell_type": "code",
      "execution_count": null,
      "metadata": {
        "colab": {
          "base_uri": "https://localhost:8080/",
          "height": 564
        },
        "id": "Lhn2OsF0R_w4",
        "outputId": "3b28eb72-7963-4c55-fd43-a91d9fdce508"
      },
      "outputs": [
        {
          "data": {
            "image/png": "[encoded data removed]",
            "text/plain": [
              "<IPython.core.display.Image object>"
            ]
          },
          "execution_count": 10,
          "metadata": {},
          "output_type": "execute_result"
        }
      ],
      "source": [
        "from tensorflow import keras\n",
        "from keras.utils.vis_utils import plot_model\n",
        "keras.utils.plot_model(model,to_file='model.png',show_layer_names=True)"
      ]
    },
    {
      "cell_type": "markdown",
      "source": [
        "# Model training Will Take 30 to 45 mins with above mentioned specs"
      ],
      "metadata": {
        "id": "dS0HUFBb8SwU"
      }
    },
    {
      "cell_type": "code",
      "execution_count": 14,
      "metadata": {
        "id": "lCV6NoggSXfq",
        "colab": {
          "base_uri": "https://localhost:8080/"
        },
        "outputId": "85c872ef-ab91-41d1-b68c-4e5f9eebc66f"
      },
      "outputs": [
        {
          "output_type": "stream",
          "name": "stdout",
          "text": [
            "Epoch 1/100\n",
            "1838/1838 [==============================] - ETA: 0s - loss: 6.4272\n",
            "Epoch 1: loss improved from inf to 6.42723, saving model to next_word.h5\n",
            "1838/1838 [==============================] - 50s 22ms/step - loss: 6.4272\n",
            "Epoch 2/100\n",
            "1837/1838 [============================>.] - ETA: 0s - loss: 5.8408\n",
            "Epoch 2: loss improved from 6.42723 to 5.84090, saving model to next_word.h5\n",
            "1838/1838 [==============================] - 28s 15ms/step - loss: 5.8409\n",
            "Epoch 3/100\n",
            "1838/1838 [==============================] - ETA: 0s - loss: 5.4816\n",
            "Epoch 3: loss improved from 5.84090 to 5.48161, saving model to next_word.h5\n",
            "1838/1838 [==============================] - 29s 16ms/step - loss: 5.4816\n",
            "Epoch 4/100\n",
            "1838/1838 [==============================] - ETA: 0s - loss: 5.2042\n",
            "Epoch 4: loss improved from 5.48161 to 5.20416, saving model to next_word.h5\n",
            "1838/1838 [==============================] - 29s 16ms/step - loss: 5.2042\n",
            "Epoch 5/100\n",
            "1838/1838 [==============================] - ETA: 0s - loss: 4.9608\n",
            "Epoch 5: loss improved from 5.20416 to 4.96077, saving model to next_word.h5\n",
            "1838/1838 [==============================] - 28s 15ms/step - loss: 4.9608\n",
            "Epoch 6/100\n",
            "1838/1838 [==============================] - ETA: 0s - loss: 4.7244\n",
            "Epoch 6: loss improved from 4.96077 to 4.72440, saving model to next_word.h5\n",
            "1838/1838 [==============================] - 28s 15ms/step - loss: 4.7244\n",
            "Epoch 7/100\n",
            "1838/1838 [==============================] - ETA: 0s - loss: 4.4945\n",
            "Epoch 7: loss improved from 4.72440 to 4.49453, saving model to next_word.h5\n",
            "1838/1838 [==============================] - 29s 16ms/step - loss: 4.4945\n",
            "Epoch 8/100\n",
            "1837/1838 [============================>.] - ETA: 0s - loss: 4.2618\n",
            "Epoch 8: loss improved from 4.49453 to 4.26185, saving model to next_word.h5\n",
            "1838/1838 [==============================] - 28s 15ms/step - loss: 4.2619\n",
            "Epoch 9/100\n",
            "1838/1838 [==============================] - ETA: 0s - loss: 4.0261\n",
            "Epoch 9: loss improved from 4.26185 to 4.02611, saving model to next_word.h5\n",
            "1838/1838 [==============================] - 28s 15ms/step - loss: 4.0261\n",
            "Epoch 10/100\n",
            "1835/1838 [============================>.] - ETA: 0s - loss: 3.7784\n",
            "Epoch 10: loss improved from 4.02611 to 3.77843, saving model to next_word.h5\n",
            "1838/1838 [==============================] - 28s 15ms/step - loss: 3.7784\n",
            "Epoch 11/100\n",
            "1836/1838 [============================>.] - ETA: 0s - loss: 3.5306\n",
            "Epoch 11: loss improved from 3.77843 to 3.53056, saving model to next_word.h5\n",
            "1838/1838 [==============================] - 33s 18ms/step - loss: 3.5306\n",
            "Epoch 12/100\n",
            "1837/1838 [============================>.] - ETA: 0s - loss: 3.2827\n",
            "Epoch 12: loss improved from 3.53056 to 3.28268, saving model to next_word.h5\n",
            "1838/1838 [==============================] - 28s 15ms/step - loss: 3.2827\n",
            "Epoch 13/100\n",
            "1838/1838 [==============================] - ETA: 0s - loss: 3.0373\n",
            "Epoch 13: loss improved from 3.28268 to 3.03727, saving model to next_word.h5\n",
            "1838/1838 [==============================] - 28s 15ms/step - loss: 3.0373\n",
            "Epoch 14/100\n",
            "1838/1838 [==============================] - ETA: 0s - loss: 2.7873\n",
            "Epoch 14: loss improved from 3.03727 to 2.78726, saving model to next_word.h5\n",
            "1838/1838 [==============================] - 28s 15ms/step - loss: 2.7873\n",
            "Epoch 15/100\n",
            "1838/1838 [==============================] - ETA: 0s - loss: 2.5411\n",
            "Epoch 15: loss improved from 2.78726 to 2.54109, saving model to next_word.h5\n",
            "1838/1838 [==============================] - 28s 15ms/step - loss: 2.5411\n",
            "Epoch 16/100\n",
            "1836/1838 [============================>.] - ETA: 0s - loss: 2.2948\n",
            "Epoch 16: loss improved from 2.54109 to 2.29506, saving model to next_word.h5\n",
            "1838/1838 [==============================] - 28s 15ms/step - loss: 2.2951\n",
            "Epoch 17/100\n",
            "1837/1838 [============================>.] - ETA: 0s - loss: 2.0554\n",
            "Epoch 17: loss improved from 2.29506 to 2.05544, saving model to next_word.h5\n",
            "1838/1838 [==============================] - 31s 17ms/step - loss: 2.0554\n",
            "Epoch 18/100\n",
            "1837/1838 [============================>.] - ETA: 0s - loss: 1.8274\n",
            "Epoch 18: loss improved from 2.05544 to 1.82739, saving model to next_word.h5\n",
            "1838/1838 [==============================] - 28s 15ms/step - loss: 1.8274\n",
            "Epoch 19/100\n",
            "1836/1838 [============================>.] - ETA: 0s - loss: 1.6212\n",
            "Epoch 19: loss improved from 1.82739 to 1.62140, saving model to next_word.h5\n",
            "1838/1838 [==============================] - 28s 15ms/step - loss: 1.6214\n",
            "Epoch 20/100\n",
            "1838/1838 [==============================] - ETA: 0s - loss: 1.4394\n",
            "Epoch 20: loss improved from 1.62140 to 1.43937, saving model to next_word.h5\n",
            "1838/1838 [==============================] - 28s 15ms/step - loss: 1.4394\n",
            "Epoch 21/100\n",
            "1838/1838 [==============================] - ETA: 0s - loss: 1.2857\n",
            "Epoch 21: loss improved from 1.43937 to 1.28565, saving model to next_word.h5\n",
            "1838/1838 [==============================] - 28s 15ms/step - loss: 1.2857\n",
            "Epoch 22/100\n",
            "1837/1838 [============================>.] - ETA: 0s - loss: 1.1522\n",
            "Epoch 22: loss improved from 1.28565 to 1.15223, saving model to next_word.h5\n",
            "1838/1838 [==============================] - 28s 15ms/step - loss: 1.1522\n",
            "Epoch 23/100\n",
            "1837/1838 [============================>.] - ETA: 0s - loss: 1.0496\n",
            "Epoch 23: loss improved from 1.15223 to 1.04965, saving model to next_word.h5\n",
            "1838/1838 [==============================] - 33s 18ms/step - loss: 1.0496\n",
            "Epoch 24/100\n",
            "1837/1838 [============================>.] - ETA: 0s - loss: 0.9596\n",
            "Epoch 24: loss improved from 1.04965 to 0.95956, saving model to next_word.h5\n",
            "1838/1838 [==============================] - 28s 15ms/step - loss: 0.9596\n",
            "Epoch 25/100\n",
            "1837/1838 [============================>.] - ETA: 0s - loss: 0.8948\n",
            "Epoch 25: loss improved from 0.95956 to 0.89478, saving model to next_word.h5\n",
            "1838/1838 [==============================] - 28s 15ms/step - loss: 0.8948\n",
            "Epoch 26/100\n",
            "1838/1838 [==============================] - ETA: 0s - loss: 0.8335\n",
            "Epoch 26: loss improved from 0.89478 to 0.83351, saving model to next_word.h5\n",
            "1838/1838 [==============================] - 28s 15ms/step - loss: 0.8335\n",
            "Epoch 27/100\n",
            "1835/1838 [============================>.] - ETA: 0s - loss: 0.7880\n",
            "Epoch 27: loss improved from 0.83351 to 0.78822, saving model to next_word.h5\n",
            "1838/1838 [==============================] - 28s 15ms/step - loss: 0.7882\n",
            "Epoch 28/100\n",
            "1835/1838 [============================>.] - ETA: 0s - loss: 0.7557\n",
            "Epoch 28: loss improved from 0.78822 to 0.75597, saving model to next_word.h5\n",
            "1838/1838 [==============================] - 32s 18ms/step - loss: 0.7560\n",
            "Epoch 29/100\n",
            "1835/1838 [============================>.] - ETA: 0s - loss: 0.7192\n",
            "Epoch 29: loss improved from 0.75597 to 0.71950, saving model to next_word.h5\n",
            "1838/1838 [==============================] - 28s 15ms/step - loss: 0.7195\n",
            "Epoch 30/100\n",
            "1837/1838 [============================>.] - ETA: 0s - loss: 0.6919\n",
            "Epoch 30: loss improved from 0.71950 to 0.69191, saving model to next_word.h5\n",
            "1838/1838 [==============================] - 28s 15ms/step - loss: 0.6919\n",
            "Epoch 31/100\n",
            "1837/1838 [============================>.] - ETA: 0s - loss: 0.6751\n",
            "Epoch 31: loss improved from 0.69191 to 0.67512, saving model to next_word.h5\n",
            "1838/1838 [==============================] - 28s 15ms/step - loss: 0.6751\n",
            "Epoch 32/100\n",
            "1838/1838 [==============================] - ETA: 0s - loss: 0.6478\n",
            "Epoch 32: loss improved from 0.67512 to 0.64776, saving model to next_word.h5\n",
            "1838/1838 [==============================] - 28s 15ms/step - loss: 0.6478\n",
            "Epoch 33/100\n",
            "1837/1838 [============================>.] - ETA: 0s - loss: 0.6340\n",
            "Epoch 33: loss improved from 0.64776 to 0.63400, saving model to next_word.h5\n",
            "1838/1838 [==============================] - 28s 15ms/step - loss: 0.6340\n",
            "Epoch 34/100\n",
            "1838/1838 [==============================] - ETA: 0s - loss: 0.6174\n",
            "Epoch 34: loss improved from 0.63400 to 0.61743, saving model to next_word.h5\n",
            "1838/1838 [==============================] - 28s 15ms/step - loss: 0.6174\n",
            "Epoch 35/100\n",
            "1838/1838 [==============================] - ETA: 0s - loss: 0.6059\n",
            "Epoch 35: loss improved from 0.61743 to 0.60586, saving model to next_word.h5\n",
            "1838/1838 [==============================] - 28s 15ms/step - loss: 0.6059\n",
            "Epoch 36/100\n",
            "1838/1838 [==============================] - ETA: 0s - loss: 0.5893\n",
            "Epoch 36: loss improved from 0.60586 to 0.58934, saving model to next_word.h5\n",
            "1838/1838 [==============================] - 28s 15ms/step - loss: 0.5893\n",
            "Epoch 37/100\n",
            "1836/1838 [============================>.] - ETA: 0s - loss: 0.5763\n",
            "Epoch 37: loss improved from 0.58934 to 0.57642, saving model to next_word.h5\n",
            "1838/1838 [==============================] - 28s 15ms/step - loss: 0.5764\n",
            "Epoch 38/100\n",
            "1836/1838 [============================>.] - ETA: 0s - loss: 0.5660\n",
            "Epoch 38: loss improved from 0.57642 to 0.56599, saving model to next_word.h5\n",
            "1838/1838 [==============================] - 32s 17ms/step - loss: 0.5660\n",
            "Epoch 39/100\n",
            "1837/1838 [============================>.] - ETA: 0s - loss: 0.5561\n",
            "Epoch 39: loss improved from 0.56599 to 0.55612, saving model to next_word.h5\n",
            "1838/1838 [==============================] - 28s 15ms/step - loss: 0.5561\n",
            "Epoch 40/100\n",
            "1835/1838 [============================>.] - ETA: 0s - loss: 0.5489\n",
            "Epoch 40: loss improved from 0.55612 to 0.54927, saving model to next_word.h5\n",
            "1838/1838 [==============================] - 28s 15ms/step - loss: 0.5493\n",
            "Epoch 41/100\n",
            "1836/1838 [============================>.] - ETA: 0s - loss: 0.5373\n",
            "Epoch 41: loss improved from 0.54927 to 0.53727, saving model to next_word.h5\n",
            "1838/1838 [==============================] - 33s 18ms/step - loss: 0.5373\n",
            "Epoch 42/100\n",
            "1838/1838 [==============================] - ETA: 0s - loss: 0.5327\n",
            "Epoch 42: loss improved from 0.53727 to 0.53272, saving model to next_word.h5\n",
            "1838/1838 [==============================] - 28s 15ms/step - loss: 0.5327\n",
            "Epoch 43/100\n",
            "1835/1838 [============================>.] - ETA: 0s - loss: 0.5212\n",
            "Epoch 43: loss improved from 0.53272 to 0.52140, saving model to next_word.h5\n",
            "1838/1838 [==============================] - 28s 15ms/step - loss: 0.5214\n",
            "Epoch 44/100\n",
            "1835/1838 [============================>.] - ETA: 0s - loss: 0.5174\n",
            "Epoch 44: loss improved from 0.52140 to 0.51738, saving model to next_word.h5\n",
            "1838/1838 [==============================] - 33s 18ms/step - loss: 0.5174\n",
            "Epoch 45/100\n",
            "1835/1838 [============================>.] - ETA: 0s - loss: 0.5086\n",
            "Epoch 45: loss improved from 0.51738 to 0.50861, saving model to next_word.h5\n",
            "1838/1838 [==============================] - 32s 18ms/step - loss: 0.5086\n",
            "Epoch 46/100\n",
            "1838/1838 [==============================] - ETA: 0s - loss: 0.5017\n",
            "Epoch 46: loss improved from 0.50861 to 0.50171, saving model to next_word.h5\n",
            "1838/1838 [==============================] - 30s 16ms/step - loss: 0.5017\n",
            "Epoch 47/100\n",
            "1836/1838 [============================>.] - ETA: 0s - loss: 0.4974\n",
            "Epoch 47: loss improved from 0.50171 to 0.49747, saving model to next_word.h5\n",
            "1838/1838 [==============================] - 28s 15ms/step - loss: 0.4975\n",
            "Epoch 48/100\n",
            "1835/1838 [============================>.] - ETA: 0s - loss: 0.4930\n",
            "Epoch 48: loss improved from 0.49747 to 0.49329, saving model to next_word.h5\n",
            "1838/1838 [==============================] - 28s 15ms/step - loss: 0.4933\n",
            "Epoch 49/100\n",
            "1837/1838 [============================>.] - ETA: 0s - loss: 0.4833\n",
            "Epoch 49: loss improved from 0.49329 to 0.48325, saving model to next_word.h5\n",
            "1838/1838 [==============================] - 28s 15ms/step - loss: 0.4832\n",
            "Epoch 50/100\n",
            "1835/1838 [============================>.] - ETA: 0s - loss: 0.4803\n",
            "Epoch 50: loss improved from 0.48325 to 0.48045, saving model to next_word.h5\n",
            "1838/1838 [==============================] - 28s 15ms/step - loss: 0.4804\n",
            "Epoch 51/100\n",
            "1837/1838 [============================>.] - ETA: 0s - loss: 0.4736\n",
            "Epoch 51: loss improved from 0.48045 to 0.47365, saving model to next_word.h5\n",
            "1838/1838 [==============================] - 28s 15ms/step - loss: 0.4736\n",
            "Epoch 52/100\n",
            "1836/1838 [============================>.] - ETA: 0s - loss: 0.4742\n",
            "Epoch 52: loss did not improve from 0.47365\n",
            "1838/1838 [==============================] - 27s 15ms/step - loss: 0.4743\n",
            "Epoch 53/100\n",
            "1838/1838 [==============================] - ETA: 0s - loss: 0.4659\n",
            "Epoch 53: loss improved from 0.47365 to 0.46589, saving model to next_word.h5\n",
            "1838/1838 [==============================] - 33s 18ms/step - loss: 0.4659\n",
            "Epoch 54/100\n",
            "1838/1838 [==============================] - ETA: 0s - loss: 0.4639\n",
            "Epoch 54: loss improved from 0.46589 to 0.46393, saving model to next_word.h5\n",
            "1838/1838 [==============================] - 32s 18ms/step - loss: 0.4639\n",
            "Epoch 55/100\n",
            "1836/1838 [============================>.] - ETA: 0s - loss: 0.4565\n",
            "Epoch 55: loss improved from 0.46393 to 0.45650, saving model to next_word.h5\n",
            "1838/1838 [==============================] - 28s 15ms/step - loss: 0.4565\n",
            "Epoch 56/100\n",
            "1837/1838 [============================>.] - ETA: 0s - loss: 0.4509\n",
            "Epoch 56: loss improved from 0.45650 to 0.45094, saving model to next_word.h5\n",
            "1838/1838 [==============================] - 28s 15ms/step - loss: 0.4509\n",
            "Epoch 57/100\n",
            "1836/1838 [============================>.] - ETA: 0s - loss: 0.4522\n",
            "Epoch 57: loss did not improve from 0.45094\n",
            "1838/1838 [==============================] - 27s 15ms/step - loss: 0.4522\n",
            "Epoch 58/100\n",
            "1837/1838 [============================>.] - ETA: 0s - loss: 0.4481\n",
            "Epoch 58: loss improved from 0.45094 to 0.44806, saving model to next_word.h5\n",
            "1838/1838 [==============================] - 33s 18ms/step - loss: 0.4481\n",
            "Epoch 59/100\n",
            "1836/1838 [============================>.] - ETA: 0s - loss: 0.4426\n",
            "Epoch 59: loss improved from 0.44806 to 0.44269, saving model to next_word.h5\n",
            "1838/1838 [==============================] - 33s 18ms/step - loss: 0.4427\n",
            "Epoch 60/100\n",
            "1838/1838 [==============================] - ETA: 0s - loss: 0.4405\n",
            "Epoch 60: loss improved from 0.44269 to 0.44054, saving model to next_word.h5\n",
            "1838/1838 [==============================] - 30s 16ms/step - loss: 0.4405\n",
            "Epoch 61/100\n",
            "1836/1838 [============================>.] - ETA: 0s - loss: 0.4373\n",
            "Epoch 61: loss improved from 0.44054 to 0.43720, saving model to next_word.h5\n",
            "1838/1838 [==============================] - 28s 15ms/step - loss: 0.4372\n",
            "Epoch 62/100\n",
            "1837/1838 [============================>.] - ETA: 0s - loss: 0.4381\n",
            "Epoch 62: loss did not improve from 0.43720\n",
            "1838/1838 [==============================] - 27s 15ms/step - loss: 0.4381\n",
            "Epoch 63/100\n",
            "1835/1838 [============================>.] - ETA: 0s - loss: 0.4296\n",
            "Epoch 63: loss improved from 0.43720 to 0.42969, saving model to next_word.h5\n",
            "1838/1838 [==============================] - 34s 18ms/step - loss: 0.4297\n",
            "Epoch 64/100\n",
            "1836/1838 [============================>.] - ETA: 0s - loss: 0.4273\n",
            "Epoch 64: loss improved from 0.42969 to 0.42729, saving model to next_word.h5\n",
            "1838/1838 [==============================] - 28s 15ms/step - loss: 0.4273\n",
            "Epoch 65/100\n",
            "1838/1838 [==============================] - ETA: 0s - loss: 0.4255\n",
            "Epoch 65: loss improved from 0.42729 to 0.42554, saving model to next_word.h5\n",
            "1838/1838 [==============================] - 28s 15ms/step - loss: 0.4255\n",
            "Epoch 66/100\n",
            "1835/1838 [============================>.] - ETA: 0s - loss: 0.4247\n",
            "Epoch 66: loss improved from 0.42554 to 0.42479, saving model to next_word.h5\n",
            "1838/1838 [==============================] - 28s 15ms/step - loss: 0.4248\n",
            "Epoch 67/100\n",
            "1838/1838 [==============================] - ETA: 0s - loss: 0.4191\n",
            "Epoch 67: loss improved from 0.42479 to 0.41913, saving model to next_word.h5\n",
            "1838/1838 [==============================] - 33s 18ms/step - loss: 0.4191\n",
            "Epoch 68/100\n",
            "1837/1838 [============================>.] - ETA: 0s - loss: 0.4209\n",
            "Epoch 68: loss did not improve from 0.41913\n",
            "1838/1838 [==============================] - 27s 15ms/step - loss: 0.4208\n",
            "Epoch 69/100\n",
            "1835/1838 [============================>.] - ETA: 0s - loss: 0.4149\n",
            "Epoch 69: loss improved from 0.41913 to 0.41503, saving model to next_word.h5\n",
            "1838/1838 [==============================] - 33s 18ms/step - loss: 0.4150\n",
            "Epoch 70/100\n",
            "1837/1838 [============================>.] - ETA: 0s - loss: 0.4137\n",
            "Epoch 70: loss improved from 0.41503 to 0.41370, saving model to next_word.h5\n",
            "1838/1838 [==============================] - 33s 18ms/step - loss: 0.4137\n",
            "Epoch 71/100\n",
            "1835/1838 [============================>.] - ETA: 0s - loss: 0.4138\n",
            "Epoch 71: loss did not improve from 0.41370\n",
            "1838/1838 [==============================] - 28s 15ms/step - loss: 0.4139\n",
            "Epoch 72/100\n",
            "1837/1838 [============================>.] - ETA: 0s - loss: 0.4102\n",
            "Epoch 72: loss improved from 0.41370 to 0.41023, saving model to next_word.h5\n",
            "1838/1838 [==============================] - 33s 18ms/step - loss: 0.4102\n",
            "Epoch 73/100\n",
            "1838/1838 [==============================] - ETA: 0s - loss: 0.4088\n",
            "Epoch 73: loss improved from 0.41023 to 0.40876, saving model to next_word.h5\n",
            "1838/1838 [==============================] - 29s 16ms/step - loss: 0.4088\n",
            "Epoch 74/100\n",
            "1838/1838 [==============================] - ETA: 0s - loss: 0.4046\n",
            "Epoch 74: loss improved from 0.40876 to 0.40461, saving model to next_word.h5\n",
            "1838/1838 [==============================] - 30s 16ms/step - loss: 0.4046\n",
            "Epoch 75/100\n",
            "1837/1838 [============================>.] - ETA: 0s - loss: 0.4006\n",
            "Epoch 75: loss improved from 0.40461 to 0.40063, saving model to next_word.h5\n",
            "1838/1838 [==============================] - 28s 15ms/step - loss: 0.4006\n",
            "Epoch 76/100\n",
            "1835/1838 [============================>.] - ETA: 0s - loss: 0.4037\n",
            "Epoch 76: loss did not improve from 0.40063\n",
            "1838/1838 [==============================] - 28s 15ms/step - loss: 0.4036\n",
            "Epoch 77/100\n",
            "1837/1838 [============================>.] - ETA: 0s - loss: 0.4031\n",
            "Epoch 77: loss did not improve from 0.40063\n",
            "1838/1838 [==============================] - 28s 15ms/step - loss: 0.4032\n",
            "Epoch 78/100\n",
            "1837/1838 [============================>.] - ETA: 0s - loss: 0.3989\n",
            "Epoch 78: loss improved from 0.40063 to 0.39889, saving model to next_word.h5\n",
            "1838/1838 [==============================] - 36s 19ms/step - loss: 0.3989\n",
            "Epoch 79/100\n",
            "1838/1838 [==============================] - ETA: 0s - loss: 0.3967\n",
            "Epoch 79: loss improved from 0.39889 to 0.39668, saving model to next_word.h5\n",
            "1838/1838 [==============================] - 32s 17ms/step - loss: 0.3967\n",
            "Epoch 80/100\n",
            "1836/1838 [============================>.] - ETA: 0s - loss: 0.3981\n",
            "Epoch 80: loss did not improve from 0.39668\n",
            "1838/1838 [==============================] - 27s 15ms/step - loss: 0.3980\n",
            "Epoch 81/100\n",
            "1838/1838 [==============================] - ETA: 0s - loss: 0.3919\n",
            "Epoch 81: loss improved from 0.39668 to 0.39188, saving model to next_word.h5\n",
            "1838/1838 [==============================] - 32s 18ms/step - loss: 0.3919\n",
            "Epoch 82/100\n",
            "1836/1838 [============================>.] - ETA: 0s - loss: 0.3917\n",
            "Epoch 82: loss improved from 0.39188 to 0.39179, saving model to next_word.h5\n",
            "1838/1838 [==============================] - 33s 18ms/step - loss: 0.3918\n",
            "Epoch 83/100\n",
            "1835/1838 [============================>.] - ETA: 0s - loss: 0.3932\n",
            "Epoch 83: loss did not improve from 0.39179\n",
            "1838/1838 [==============================] - 27s 15ms/step - loss: 0.3932\n",
            "Epoch 84/100\n",
            "1838/1838 [==============================] - ETA: 0s - loss: 0.3899\n",
            "Epoch 84: loss improved from 0.39179 to 0.38985, saving model to next_word.h5\n",
            "1838/1838 [==============================] - 33s 18ms/step - loss: 0.3899\n",
            "Epoch 85/100\n",
            "1837/1838 [============================>.] - ETA: 0s - loss: 0.3877\n",
            "Epoch 85: loss improved from 0.38985 to 0.38770, saving model to next_word.h5\n",
            "1838/1838 [==============================] - 32s 18ms/step - loss: 0.3877\n",
            "Epoch 86/100\n",
            "1838/1838 [==============================] - ETA: 0s - loss: 0.3891\n",
            "Epoch 86: loss did not improve from 0.38770\n",
            "1838/1838 [==============================] - 28s 15ms/step - loss: 0.3891\n",
            "Epoch 87/100\n",
            "1837/1838 [============================>.] - ETA: 0s - loss: 0.3830\n",
            "Epoch 87: loss improved from 0.38770 to 0.38311, saving model to next_word.h5\n",
            "1838/1838 [==============================] - 32s 18ms/step - loss: 0.3831\n",
            "Epoch 88/100\n",
            "1835/1838 [============================>.] - ETA: 0s - loss: 0.3846\n",
            "Epoch 88: loss did not improve from 0.38311\n",
            "1838/1838 [==============================] - 28s 15ms/step - loss: 0.3849\n",
            "Epoch 89/100\n",
            "1838/1838 [==============================] - ETA: 0s - loss: 0.3857\n",
            "Epoch 89: loss did not improve from 0.38311\n",
            "1838/1838 [==============================] - 27s 15ms/step - loss: 0.3857\n",
            "Epoch 90/100\n",
            "1837/1838 [============================>.] - ETA: 0s - loss: 0.3793\n",
            "Epoch 90: loss improved from 0.38311 to 0.37932, saving model to next_word.h5\n",
            "1838/1838 [==============================] - 34s 19ms/step - loss: 0.3793\n",
            "Epoch 91/100\n",
            "1836/1838 [============================>.] - ETA: 0s - loss: 0.3804\n",
            "Epoch 91: loss did not improve from 0.37932\n",
            "1838/1838 [==============================] - 27s 15ms/step - loss: 0.3803\n",
            "Epoch 92/100\n",
            "1837/1838 [============================>.] - ETA: 0s - loss: 0.3813\n",
            "Epoch 92: loss did not improve from 0.37932\n",
            "1838/1838 [==============================] - 27s 15ms/step - loss: 0.3813\n",
            "Epoch 93/100\n",
            "1835/1838 [============================>.] - ETA: 0s - loss: 0.3799\n",
            "Epoch 93: loss did not improve from 0.37932\n",
            "1838/1838 [==============================] - 27s 15ms/step - loss: 0.3801\n",
            "Epoch 94/100\n",
            "1835/1838 [============================>.] - ETA: 0s - loss: 0.3784\n",
            "Epoch 94: loss improved from 0.37932 to 0.37855, saving model to next_word.h5\n",
            "1838/1838 [==============================] - 33s 18ms/step - loss: 0.3785\n",
            "Epoch 95/100\n",
            "1838/1838 [==============================] - ETA: 0s - loss: 0.3716\n",
            "Epoch 95: loss improved from 0.37855 to 0.37159, saving model to next_word.h5\n",
            "1838/1838 [==============================] - 28s 15ms/step - loss: 0.3716\n",
            "Epoch 96/100\n",
            "1838/1838 [==============================] - ETA: 0s - loss: 0.3743\n",
            "Epoch 96: loss did not improve from 0.37159\n",
            "1838/1838 [==============================] - 28s 15ms/step - loss: 0.3743\n",
            "Epoch 97/100\n",
            "1838/1838 [==============================] - ETA: 0s - loss: 0.3780\n",
            "Epoch 97: loss did not improve from 0.37159\n",
            "1838/1838 [==============================] - 27s 15ms/step - loss: 0.3780\n",
            "Epoch 98/100\n",
            "1838/1838 [==============================] - ETA: 0s - loss: 0.3703\n",
            "Epoch 98: loss improved from 0.37159 to 0.37032, saving model to next_word.h5\n",
            "1838/1838 [==============================] - 36s 20ms/step - loss: 0.3703\n",
            "Epoch 99/100\n",
            "1837/1838 [============================>.] - ETA: 0s - loss: 0.3717\n",
            "Epoch 99: loss did not improve from 0.37032\n",
            "1838/1838 [==============================] - 27s 15ms/step - loss: 0.3717\n",
            "Epoch 100/100\n",
            "1838/1838 [==============================] - ETA: 0s - loss: 0.3741\n",
            "Epoch 100: loss did not improve from 0.37032\n",
            "1838/1838 [==============================] - 27s 15ms/step - loss: 0.3741\n"
          ]
        },
        {
          "output_type": "execute_result",
          "data": {
            "text/plain": [
              "<keras.callbacks.History at 0x7f2a904da500>"
            ]
          },
          "metadata": {},
          "execution_count": 14
        }
      ],
      "source": [
        "from tensorflow.keras.callbacks import ModelCheckpoint\n",
        "\n",
        "ckpt = ModelCheckpoint(\"next_word.h5\", monitor = 'loss', verbose = 1, save_best_only = True)\n",
        "model.compile(loss = 'categorical_crossentropy', optimizer = Adam(learning_rate = 0.001))\n",
        "model.fit(X,y,epochs = 100,batch_size = 64,callbacks=[ckpt])"
      ]
    },
    {
      "cell_type": "code",
      "execution_count": 15,
      "metadata": {
        "id": "tTb5p7WVTdYg"
      },
      "outputs": [],
      "source": [
        "from tensorflow.keras.models import load_model\n",
        "import pickle\n",
        "\n",
        "model = load_model('next_word.h5')\n",
        "tokenizer = pickle.load(open('token.pkl','rb'))\n",
        "\n",
        "def Predict_Next_Word(model,tokenizer,text):\n",
        "  sequence = tokenizer.texts_to_sequences([text])\n",
        "  sequence = np.array(sequence)\n",
        "  preds = np.argmax(model.predict(sequence))\n",
        "  predicted_word = \"\"\n",
        "\n",
        "  for key,val in tokenizer.word_index.items():\n",
        "    if val == preds:\n",
        "      predicted_word = key\n",
        "      break\n",
        "    \n",
        "  print(predicted_word)\n",
        "  return predicted_word"
      ]
    },
    {
      "cell_type": "markdown",
      "source": [
        "# To Test the model\n",
        "  loss and accuracy are displayed above.\n",
        "  this model takes quiet a good computing power.\n",
        "  10 GB RAM\n",
        "  and 10 GB GPU RAM on colab.\n",
        "  <br><br>\n",
        "  TOOK a while to prepare a good model as i have low computing power 😅\n",
        "  <br>\n",
        "  <br>\n",
        "\n",
        "<h2>\n",
        "<table>\n",
        "<tr>\n",
        "<td>Input</td>\n",
        "<td> Correct Output</td>\n",
        "</tr>\n",
        "\n",
        "<tr>\n",
        "<td></td>\n",
        "<td></td>\n",
        "</tr>\n",
        "\n",
        "<tr>\n",
        "<td>i have a</td>\n",
        "<td> fury</td>\n",
        "</tr>\n",
        "\n",
        "<tr>\n",
        "<td>his nose was</td>\n",
        "<td>        small</td>\n",
        "</tr>\n",
        "\n",
        "<tr>\n",
        "<td>one friend and </td>\n",
        "<td>     protector</td>\n",
        "</tr>\n",
        "\n",
        "<tr>\n",
        "<td>in her with      </td>\n",
        "<td>   mournful</td>\n",
        "</tr>\n",
        "\n",
        "<tr>\n",
        "<td>shouts and stories  </td>\n",
        "<td> began </td>\n",
        "</tr>\n",
        "\n",
        "<tr>\n",
        "<td>flew into a        </td>\n",
        "<td> passion</td>\n",
        "</tr>\n",
        "\n",
        "<tr>\n",
        "<td>and in its place had been put a large old</td>\n",
        "<td>mahagony</td>\n",
        "</tr>\n",
        "\n",
        "<tr>\n",
        "<td>Ivan's Nightmare I am not a</td>\n",
        "<td>                         doctor</td>\n",
        "</tr>\n",
        "\n",
        "<tr>\n",
        "<td>I am more afraid of her than of</td>\n",
        "<td>anything</td>\n",
        "</tr>\n",
        "\n",
        "<tr>\n",
        "<td>The Speech For The</td>\n",
        "<td>Defense</td>\n",
        "</tr>\n",
        "\n",
        "<tr>\n",
        "<td>We have heard the prosecutor himself admit that until to-day he   \n",
        "</td>\n",
        "<td>\n",
        "hesitated\n",
        "</td>\n",
        "</tr>\n",
        "\n",
        "<tr>\n",
        "<td>to bind and to </td>\n",
        "<td>    loose</td>\n",
        "</tr>\n",
        "\n",
        "</table>\n",
        "</h2>\n",
        "\n",
        "\n",
        "\n",
        "For predicted output see the below cell"
      ],
      "metadata": {
        "id": "sBL7SJRG3DHo"
      }
    },
    {
      "cell_type": "code",
      "execution_count": 17,
      "metadata": {
        "colab": {
          "base_uri": "https://localhost:8080/",
          "height": 1000
        },
        "id": "7Yccq-MaXsbG",
        "outputId": "e5fe481e-f2f7-4240-c359-6c07ac635051"
      },
      "outputs": [
        {
          "output_type": "stream",
          "name": "stdout",
          "text": [
            "Enter your line : and in its place had been put a large old\n",
            "['a', 'large', 'old']\n",
            "1/1 [==============================] - 0s 27ms/step\n",
            "mahogany\n",
            "Ans :  mahogany\n",
            "Enter your line : Ivan’s Nightmare I am not a\n",
            "['am', 'not', 'a']\n",
            "1/1 [==============================] - 0s 18ms/step\n",
            "thief\n",
            "Ans :  thief\n",
            "Enter your line : I am more afraid of her than of\n",
            "['her', 'than', 'of']\n",
            "1/1 [==============================] - 0s 23ms/step\n",
            "anything\n",
            "Ans :  anything\n",
            "Enter your line :  The Speech For The\n",
            "['Speech', 'For', 'The']\n",
            "1/1 [==============================] - 0s 18ms/step\n",
            "defense\n",
            "Ans :  defense\n",
            "Enter your line : flew into a\n",
            "['flew', 'into', 'a']\n",
            "1/1 [==============================] - 0s 19ms/step\n",
            "fury\n",
            "Ans :  fury\n",
            "Enter your line : shouts and stories\n",
            "['shouts', 'and', 'stories']\n",
            "1/1 [==============================] - 0s 28ms/step\n",
            "began\n",
            "Ans :  began\n",
            "Enter your line : in her with\n",
            "['in', 'her', 'with']\n",
            "1/1 [==============================] - 0s 18ms/step\n",
            "mournful\n",
            "Ans :  mournful\n",
            "Enter your line : one friend and\n",
            "['one', 'friend', 'and']\n",
            "1/1 [==============================] - 0s 18ms/step\n",
            "protector\n",
            "Ans :  protector\n",
            "Enter your line : his nose was\n",
            "['his', 'nose', 'was']\n",
            "1/1 [==============================] - 0s 18ms/step\n",
            "small\n",
            "Ans :  small\n",
            "Enter your line : i have a\n",
            "['i', 'have', 'a']\n",
            "1/1 [==============================] - 0s 19ms/step\n",
            "positive\n",
            "Ans :  positive\n",
            "Enter your line : sherlock is a\n",
            "['sherlock', 'is', 'a']\n",
            "1/1 [==============================] - 0s 20ms/step\n",
            "charming\n",
            "Ans :  charming\n",
            "Enter your line : sherlock holmes is a wonderful\n",
            "['is', 'a', 'wonderful']\n",
            "1/1 [==============================] - 0s 26ms/step\n",
            "profit\n",
            "Ans :  profit\n",
            "Enter your line : sherlock holmes is a\n",
            "['holmes', 'is', 'a']\n",
            "1/1 [==============================] - 0s 30ms/step\n",
            "charming\n",
            "Ans :  charming\n",
            "Enter your line : We have heard the prosecutor himself admit that until to‐day he\n",
            "['until', 'to‐day', 'he']\n",
            "1/1 [==============================] - 0s 20ms/step\n",
            "hesitated\n",
            "Ans :  hesitated\n",
            "Enter your line :  to bind and to\n",
            "['bind', 'and', 'to']\n",
            "1/1 [==============================] - 0s 18ms/step\n",
            "loose\n",
            "Ans :  loose\n",
            "Enter your line : 0\n",
            "Stopped\n"
          ]
        },
        {
          "output_type": "execute_result",
          "data": {
            "text/plain": [
              "'\\ntest lines \\ninput               output\\n\\ni have a            fury\\n\\nhis nose was        small\\n\\nhis one friend      and \\none friend and      protector\\nin her with         mournful\\nshouts and stories  began  \\nflew into a         passion\\n\\n\\n\\n'"
            ],
            "application/vnd.google.colaboratory.intrinsic+json": {
              "type": "string"
            }
          },
          "metadata": {},
          "execution_count": 17
        }
      ],
      "source": [
        "while(True):\n",
        "  text = input(\"Enter your line : \")\n",
        "\n",
        "  if text == \"0\":\n",
        "    print(\"Stopped\")\n",
        "    break\n",
        "  else:\n",
        "    try:\n",
        "      text = text.split(\" \")\n",
        "      text = text[-3:]\n",
        "\n",
        "      print(text)\n",
        "      ans = Predict_Next_Word(model,tokenizer,text)\n",
        "      print(\"Ans : \",ans)\n",
        "    except Exception as e:\n",
        "      print(\"Error : \",e)\n",
        "      continue\n"
      ]
    },
    {
      "cell_type": "code",
      "source": [
        "while(True):\n",
        "  text = input(\"Enter your line : \")\n",
        "\n",
        "  if text == \"stop\":\n",
        "    print(\"Stopped\")\n",
        "    break\n",
        "  else:\n",
        "    try:\n",
        "      text = text.split(\" \")\n",
        "      text = text[-3:]\n",
        "\n",
        "      print(text)\n",
        "      ans = Predict_Next_Word(model,tokenizer,text)\n",
        "      print(\"Ans : \",ans)\n",
        "    except Exception as e:\n",
        "      print(\"Error : \",e)\n",
        "      continue\n"
      ],
      "metadata": {
        "colab": {
          "base_uri": "https://localhost:8080/"
        },
        "id": "IWcklfvW6_j4",
        "outputId": "80c03ba9-317e-41dc-c064-f80089ca3200"
      },
      "execution_count": 22,
      "outputs": [
        {
          "output_type": "stream",
          "name": "stdout",
          "text": [
            "Enter your line : Nisarg is a\n",
            "['Nisarg', 'is', 'a']\n",
            "1/1 [==============================] - 0s 20ms/step\n",
            "charming\n",
            "Ans :  charming\n",
            "Enter your line : this boy is\n",
            "['this', 'boy', 'is']\n",
            "1/1 [==============================] - 0s 20ms/step\n",
            "called\n",
            "Ans :  called\n",
            "Enter your line : naruto is legend\n",
            "['naruto', 'is', 'legend']\n",
            "1/1 [==============================] - 0s 21ms/step\n",
            "i\n",
            "Ans :  i\n",
            "Enter your line : my self\n",
            "['my', 'self']\n",
            "1/1 [==============================] - 0s 22ms/step\n",
            "head\n",
            "Ans :  head\n",
            "Enter your line : why i love\n",
            "['why', 'i', 'love']\n",
            "1/1 [==============================] - 0s 21ms/step\n",
            "you\n",
            "Ans :  you\n",
            "Enter your line : this is why i love\n",
            "['why', 'i', 'love']\n",
            "1/1 [==============================] - 0s 20ms/step\n",
            "you\n",
            "Ans :  you\n",
            "Enter your line : hate is the reason\n",
            "['is', 'the', 'reason']\n",
            "1/1 [==============================] - 0s 22ms/step\n",
            "he\n",
            "Ans :  he\n",
            "Enter your line : he is the\n",
            "['he', 'is', 'the']\n",
            "1/1 [==============================] - 0s 21ms/step\n",
            "third\n",
            "Ans :  third\n",
            "Enter your line : detectives are the\n",
            "['detectives', 'are', 'the']\n",
            "1/1 [==============================] - 0s 19ms/step\n",
            "murderer\n",
            "Ans :  murderer\n",
            "Enter your line : criminals should be\n",
            "['criminals', 'should', 'be']\n",
            "1/1 [==============================] - 0s 23ms/step\n",
            "dissolved\n",
            "Ans :  dissolved\n",
            "Enter your line : this case is\n",
            "['this', 'case', 'is']\n",
            "1/1 [==============================] - 0s 21ms/step\n",
            "something\n",
            "Ans :  something\n",
            "Enter your line : on the third street i saw them \n",
            "['saw', 'them', '']\n",
            "1/1 [==============================] - 0s 31ms/step\n",
            "and\n",
            "Ans :  and\n",
            "Enter your line : 23 beaker street\n",
            "['23', 'beaker', 'street']\n",
            "1/1 [==============================] - 0s 22ms/step\n",
            "in\n",
            "Ans :  in\n",
            "Enter your line : this is my house you are\n",
            "['house', 'you', 'are']\n",
            "1/1 [==============================] - 0s 19ms/step\n",
            "not\n",
            "Ans :  not\n",
            "Enter your line : william sheakspear was a\n",
            "['sheakspear', 'was', 'a']\n",
            "1/1 [==============================] - 0s 19ms/step\n",
            "a\n",
            "Ans :  a\n",
            "Enter your line : stop\n",
            "Stopped\n"
          ]
        }
      ]
    },
    {
      "cell_type": "code",
      "source": [],
      "metadata": {
        "id": "JtjS0TSs9AzP"
      },
      "execution_count": null,
      "outputs": []
    }
  ],
  "metadata": {
    "accelerator": "GPU",
    "colab": {
      "gpuType": "T4",
      "provenance": []
    },
    "kernelspec": {
      "display_name": "Python 3",
      "name": "python3"
    },
    "language_info": {
      "codemirror_mode": {
        "name": "ipython",
        "version": 3
      },
      "file_extension": ".py",
      "mimetype": "text/x-python",
      "name": "python",
      "nbconvert_exporter": "python",
      "pygments_lexer": "ipython3",
      "version": "3.10.11"
    }
  },
  "nbformat": 4,
  "nbformat_minor": 0
}