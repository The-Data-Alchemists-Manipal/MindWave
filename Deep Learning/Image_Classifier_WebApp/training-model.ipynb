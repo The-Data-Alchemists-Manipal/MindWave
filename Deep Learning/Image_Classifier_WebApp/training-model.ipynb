{
 "cells": [
  {
   "cell_type": "markdown",
   "metadata": {
    "colab_type": "text",
    "id": "oDiKuan4jBln"
   },
   "source": [
    "# Training CNN model using CIFAR-10 Dataset"
   ]
  },
  {
   "cell_type": "code",
   "execution_count": 4,
   "metadata": {
    "colab": {},
    "colab_type": "code",
    "id": "doFHompcQwst"
   },
   "outputs": [],
   "source": [
    "import tensorflow as tf\n",
    "import matplotlib.pyplot as plt\n",
    "from tensorflow.keras.preprocessing.image import ImageDataGenerator\n",
    "from tensorflow.keras.models import load_model\n",
    "from tensorflow.keras.models import Sequential\n",
    "from tensorflow.keras.preprocessing.image import ImageDataGenerator\n",
    "from tensorflow.keras.preprocessing.image import load_img , img_to_array\n",
    "from tensorflow.keras.layers import Dense , Dropout , Conv2D , MaxPooling2D, Flatten , BatchNormalization"
   ]
  },
  {
   "cell_type": "code",
   "execution_count": 5,
   "metadata": {
    "colab": {
     "base_uri": "https://localhost:8080/",
     "height": 51
    },
    "colab_type": "code",
    "id": "Gz1bXsvJRJmo",
    "outputId": "cfcfbfa8-2139-464a-90a9-fd83c7134bc0"
   },
   "outputs": [
    {
     "name": "stdout",
     "output_type": "stream",
     "text": [
      "Downloading data from https://www.cs.toronto.edu/~kriz/cifar-10-python.tar.gz\n"
     ]
    },
    {
     "ename": "Exception",
     "evalue": "URL fetch failure on https://www.cs.toronto.edu/~kriz/cifar-10-python.tar.gz: None -- [SSL: CERTIFICATE_VERIFY_FAILED] certificate verify failed: certificate has expired (_ssl.c:992)",
     "output_type": "error",
     "traceback": [
      "\u001b[1;31m---------------------------------------------------------------------------\u001b[0m",
      "\u001b[1;31mSSLCertVerificationError\u001b[0m                  Traceback (most recent call last)",
      "File \u001b[1;32mc:\\Users\\HP\\AppData\\Local\\Programs\\Python\\Python311\\Lib\\urllib\\request.py:1348\u001b[0m, in \u001b[0;36mAbstractHTTPHandler.do_open\u001b[1;34m(self, http_class, req, **http_conn_args)\u001b[0m\n\u001b[0;32m   1347\u001b[0m \u001b[39mtry\u001b[39;00m:\n\u001b[1;32m-> 1348\u001b[0m     h\u001b[39m.\u001b[39;49mrequest(req\u001b[39m.\u001b[39;49mget_method(), req\u001b[39m.\u001b[39;49mselector, req\u001b[39m.\u001b[39;49mdata, headers,\n\u001b[0;32m   1349\u001b[0m               encode_chunked\u001b[39m=\u001b[39;49mreq\u001b[39m.\u001b[39;49mhas_header(\u001b[39m'\u001b[39;49m\u001b[39mTransfer-encoding\u001b[39;49m\u001b[39m'\u001b[39;49m))\n\u001b[0;32m   1350\u001b[0m \u001b[39mexcept\u001b[39;00m \u001b[39mOSError\u001b[39;00m \u001b[39mas\u001b[39;00m err: \u001b[39m# timeout error\u001b[39;00m\n",
      "File \u001b[1;32mc:\\Users\\HP\\AppData\\Local\\Programs\\Python\\Python311\\Lib\\http\\client.py:1282\u001b[0m, in \u001b[0;36mHTTPConnection.request\u001b[1;34m(self, method, url, body, headers, encode_chunked)\u001b[0m\n\u001b[0;32m   1281\u001b[0m \u001b[39m\u001b[39m\u001b[39m\"\"\"Send a complete request to the server.\"\"\"\u001b[39;00m\n\u001b[1;32m-> 1282\u001b[0m \u001b[39mself\u001b[39;49m\u001b[39m.\u001b[39;49m_send_request(method, url, body, headers, encode_chunked)\n",
      "File \u001b[1;32mc:\\Users\\HP\\AppData\\Local\\Programs\\Python\\Python311\\Lib\\http\\client.py:1328\u001b[0m, in \u001b[0;36mHTTPConnection._send_request\u001b[1;34m(self, method, url, body, headers, encode_chunked)\u001b[0m\n\u001b[0;32m   1327\u001b[0m     body \u001b[39m=\u001b[39m _encode(body, \u001b[39m'\u001b[39m\u001b[39mbody\u001b[39m\u001b[39m'\u001b[39m)\n\u001b[1;32m-> 1328\u001b[0m \u001b[39mself\u001b[39;49m\u001b[39m.\u001b[39;49mendheaders(body, encode_chunked\u001b[39m=\u001b[39;49mencode_chunked)\n",
      "File \u001b[1;32mc:\\Users\\HP\\AppData\\Local\\Programs\\Python\\Python311\\Lib\\http\\client.py:1277\u001b[0m, in \u001b[0;36mHTTPConnection.endheaders\u001b[1;34m(self, message_body, encode_chunked)\u001b[0m\n\u001b[0;32m   1276\u001b[0m     \u001b[39mraise\u001b[39;00m CannotSendHeader()\n\u001b[1;32m-> 1277\u001b[0m \u001b[39mself\u001b[39;49m\u001b[39m.\u001b[39;49m_send_output(message_body, encode_chunked\u001b[39m=\u001b[39;49mencode_chunked)\n",
      "File \u001b[1;32mc:\\Users\\HP\\AppData\\Local\\Programs\\Python\\Python311\\Lib\\http\\client.py:1037\u001b[0m, in \u001b[0;36mHTTPConnection._send_output\u001b[1;34m(self, message_body, encode_chunked)\u001b[0m\n\u001b[0;32m   1036\u001b[0m \u001b[39mdel\u001b[39;00m \u001b[39mself\u001b[39m\u001b[39m.\u001b[39m_buffer[:]\n\u001b[1;32m-> 1037\u001b[0m \u001b[39mself\u001b[39;49m\u001b[39m.\u001b[39;49msend(msg)\n\u001b[0;32m   1039\u001b[0m \u001b[39mif\u001b[39;00m message_body \u001b[39mis\u001b[39;00m \u001b[39mnot\u001b[39;00m \u001b[39mNone\u001b[39;00m:\n\u001b[0;32m   1040\u001b[0m \n\u001b[0;32m   1041\u001b[0m     \u001b[39m# create a consistent interface to message_body\u001b[39;00m\n",
      "File \u001b[1;32mc:\\Users\\HP\\AppData\\Local\\Programs\\Python\\Python311\\Lib\\http\\client.py:975\u001b[0m, in \u001b[0;36mHTTPConnection.send\u001b[1;34m(self, data)\u001b[0m\n\u001b[0;32m    974\u001b[0m \u001b[39mif\u001b[39;00m \u001b[39mself\u001b[39m\u001b[39m.\u001b[39mauto_open:\n\u001b[1;32m--> 975\u001b[0m     \u001b[39mself\u001b[39;49m\u001b[39m.\u001b[39;49mconnect()\n\u001b[0;32m    976\u001b[0m \u001b[39melse\u001b[39;00m:\n",
      "File \u001b[1;32mc:\\Users\\HP\\AppData\\Local\\Programs\\Python\\Python311\\Lib\\http\\client.py:1454\u001b[0m, in \u001b[0;36mHTTPSConnection.connect\u001b[1;34m(self)\u001b[0m\n\u001b[0;32m   1452\u001b[0m     server_hostname \u001b[39m=\u001b[39m \u001b[39mself\u001b[39m\u001b[39m.\u001b[39mhost\n\u001b[1;32m-> 1454\u001b[0m \u001b[39mself\u001b[39m\u001b[39m.\u001b[39msock \u001b[39m=\u001b[39m \u001b[39mself\u001b[39;49m\u001b[39m.\u001b[39;49m_context\u001b[39m.\u001b[39;49mwrap_socket(\u001b[39mself\u001b[39;49m\u001b[39m.\u001b[39;49msock,\n\u001b[0;32m   1455\u001b[0m                                       server_hostname\u001b[39m=\u001b[39;49mserver_hostname)\n",
      "File \u001b[1;32mc:\\Users\\HP\\AppData\\Local\\Programs\\Python\\Python311\\Lib\\ssl.py:517\u001b[0m, in \u001b[0;36mSSLContext.wrap_socket\u001b[1;34m(self, sock, server_side, do_handshake_on_connect, suppress_ragged_eofs, server_hostname, session)\u001b[0m\n\u001b[0;32m    511\u001b[0m \u001b[39mdef\u001b[39;00m \u001b[39mwrap_socket\u001b[39m(\u001b[39mself\u001b[39m, sock, server_side\u001b[39m=\u001b[39m\u001b[39mFalse\u001b[39;00m,\n\u001b[0;32m    512\u001b[0m                 do_handshake_on_connect\u001b[39m=\u001b[39m\u001b[39mTrue\u001b[39;00m,\n\u001b[0;32m    513\u001b[0m                 suppress_ragged_eofs\u001b[39m=\u001b[39m\u001b[39mTrue\u001b[39;00m,\n\u001b[0;32m    514\u001b[0m                 server_hostname\u001b[39m=\u001b[39m\u001b[39mNone\u001b[39;00m, session\u001b[39m=\u001b[39m\u001b[39mNone\u001b[39;00m):\n\u001b[0;32m    515\u001b[0m     \u001b[39m# SSLSocket class handles server_hostname encoding before it calls\u001b[39;00m\n\u001b[0;32m    516\u001b[0m     \u001b[39m# ctx._wrap_socket()\u001b[39;00m\n\u001b[1;32m--> 517\u001b[0m     \u001b[39mreturn\u001b[39;00m \u001b[39mself\u001b[39;49m\u001b[39m.\u001b[39;49msslsocket_class\u001b[39m.\u001b[39;49m_create(\n\u001b[0;32m    518\u001b[0m         sock\u001b[39m=\u001b[39;49msock,\n\u001b[0;32m    519\u001b[0m         server_side\u001b[39m=\u001b[39;49mserver_side,\n\u001b[0;32m    520\u001b[0m         do_handshake_on_connect\u001b[39m=\u001b[39;49mdo_handshake_on_connect,\n\u001b[0;32m    521\u001b[0m         suppress_ragged_eofs\u001b[39m=\u001b[39;49msuppress_ragged_eofs,\n\u001b[0;32m    522\u001b[0m         server_hostname\u001b[39m=\u001b[39;49mserver_hostname,\n\u001b[0;32m    523\u001b[0m         context\u001b[39m=\u001b[39;49m\u001b[39mself\u001b[39;49m,\n\u001b[0;32m    524\u001b[0m         session\u001b[39m=\u001b[39;49msession\n\u001b[0;32m    525\u001b[0m     )\n",
      "File \u001b[1;32mc:\\Users\\HP\\AppData\\Local\\Programs\\Python\\Python311\\Lib\\ssl.py:1075\u001b[0m, in \u001b[0;36mSSLSocket._create\u001b[1;34m(cls, sock, server_side, do_handshake_on_connect, suppress_ragged_eofs, server_hostname, context, session)\u001b[0m\n\u001b[0;32m   1074\u001b[0m             \u001b[39mraise\u001b[39;00m \u001b[39mValueError\u001b[39;00m(\u001b[39m\"\u001b[39m\u001b[39mdo_handshake_on_connect should not be specified for non-blocking sockets\u001b[39m\u001b[39m\"\u001b[39m)\n\u001b[1;32m-> 1075\u001b[0m         \u001b[39mself\u001b[39;49m\u001b[39m.\u001b[39;49mdo_handshake()\n\u001b[0;32m   1076\u001b[0m \u001b[39mexcept\u001b[39;00m (\u001b[39mOSError\u001b[39;00m, \u001b[39mValueError\u001b[39;00m):\n",
      "File \u001b[1;32mc:\\Users\\HP\\AppData\\Local\\Programs\\Python\\Python311\\Lib\\ssl.py:1346\u001b[0m, in \u001b[0;36mSSLSocket.do_handshake\u001b[1;34m(self, block)\u001b[0m\n\u001b[0;32m   1345\u001b[0m         \u001b[39mself\u001b[39m\u001b[39m.\u001b[39msettimeout(\u001b[39mNone\u001b[39;00m)\n\u001b[1;32m-> 1346\u001b[0m     \u001b[39mself\u001b[39;49m\u001b[39m.\u001b[39;49m_sslobj\u001b[39m.\u001b[39;49mdo_handshake()\n\u001b[0;32m   1347\u001b[0m \u001b[39mfinally\u001b[39;00m:\n",
      "\u001b[1;31mSSLCertVerificationError\u001b[0m: [SSL: CERTIFICATE_VERIFY_FAILED] certificate verify failed: certificate has expired (_ssl.c:992)",
      "\nDuring handling of the above exception, another exception occurred:\n",
      "\u001b[1;31mURLError\u001b[0m                                  Traceback (most recent call last)",
      "File \u001b[1;32mc:\\Users\\HP\\AppData\\Local\\Programs\\Python\\Python311\\Lib\\site-packages\\keras\\utils\\data_utils.py:346\u001b[0m, in \u001b[0;36mget_file\u001b[1;34m(fname, origin, untar, md5_hash, file_hash, cache_subdir, hash_algorithm, extract, archive_format, cache_dir)\u001b[0m\n\u001b[0;32m    345\u001b[0m \u001b[39mtry\u001b[39;00m:\n\u001b[1;32m--> 346\u001b[0m     urlretrieve(origin, fpath, DLProgbar())\n\u001b[0;32m    347\u001b[0m \u001b[39mexcept\u001b[39;00m urllib\u001b[39m.\u001b[39merror\u001b[39m.\u001b[39mHTTPError \u001b[39mas\u001b[39;00m e:\n",
      "File \u001b[1;32mc:\\Users\\HP\\AppData\\Local\\Programs\\Python\\Python311\\Lib\\site-packages\\keras\\utils\\data_utils.py:85\u001b[0m, in \u001b[0;36murlretrieve\u001b[1;34m(url, filename, reporthook, data)\u001b[0m\n\u001b[0;32m     83\u001b[0m             \u001b[39mbreak\u001b[39;00m\n\u001b[1;32m---> 85\u001b[0m response \u001b[39m=\u001b[39m urlopen(url, data)\n\u001b[0;32m     86\u001b[0m \u001b[39mwith\u001b[39;00m \u001b[39mopen\u001b[39m(filename, \u001b[39m\"\u001b[39m\u001b[39mwb\u001b[39m\u001b[39m\"\u001b[39m) \u001b[39mas\u001b[39;00m fd:\n",
      "File \u001b[1;32mc:\\Users\\HP\\AppData\\Local\\Programs\\Python\\Python311\\Lib\\urllib\\request.py:216\u001b[0m, in \u001b[0;36murlopen\u001b[1;34m(url, data, timeout, cafile, capath, cadefault, context)\u001b[0m\n\u001b[0;32m    215\u001b[0m     opener \u001b[39m=\u001b[39m _opener\n\u001b[1;32m--> 216\u001b[0m \u001b[39mreturn\u001b[39;00m opener\u001b[39m.\u001b[39;49mopen(url, data, timeout)\n",
      "File \u001b[1;32mc:\\Users\\HP\\AppData\\Local\\Programs\\Python\\Python311\\Lib\\urllib\\request.py:519\u001b[0m, in \u001b[0;36mOpenerDirector.open\u001b[1;34m(self, fullurl, data, timeout)\u001b[0m\n\u001b[0;32m    518\u001b[0m sys\u001b[39m.\u001b[39maudit(\u001b[39m'\u001b[39m\u001b[39murllib.Request\u001b[39m\u001b[39m'\u001b[39m, req\u001b[39m.\u001b[39mfull_url, req\u001b[39m.\u001b[39mdata, req\u001b[39m.\u001b[39mheaders, req\u001b[39m.\u001b[39mget_method())\n\u001b[1;32m--> 519\u001b[0m response \u001b[39m=\u001b[39m \u001b[39mself\u001b[39;49m\u001b[39m.\u001b[39;49m_open(req, data)\n\u001b[0;32m    521\u001b[0m \u001b[39m# post-process response\u001b[39;00m\n",
      "File \u001b[1;32mc:\\Users\\HP\\AppData\\Local\\Programs\\Python\\Python311\\Lib\\urllib\\request.py:536\u001b[0m, in \u001b[0;36mOpenerDirector._open\u001b[1;34m(self, req, data)\u001b[0m\n\u001b[0;32m    535\u001b[0m protocol \u001b[39m=\u001b[39m req\u001b[39m.\u001b[39mtype\n\u001b[1;32m--> 536\u001b[0m result \u001b[39m=\u001b[39m \u001b[39mself\u001b[39;49m\u001b[39m.\u001b[39;49m_call_chain(\u001b[39mself\u001b[39;49m\u001b[39m.\u001b[39;49mhandle_open, protocol, protocol \u001b[39m+\u001b[39;49m\n\u001b[0;32m    537\u001b[0m                           \u001b[39m'\u001b[39;49m\u001b[39m_open\u001b[39;49m\u001b[39m'\u001b[39;49m, req)\n\u001b[0;32m    538\u001b[0m \u001b[39mif\u001b[39;00m result:\n",
      "File \u001b[1;32mc:\\Users\\HP\\AppData\\Local\\Programs\\Python\\Python311\\Lib\\urllib\\request.py:496\u001b[0m, in \u001b[0;36mOpenerDirector._call_chain\u001b[1;34m(self, chain, kind, meth_name, *args)\u001b[0m\n\u001b[0;32m    495\u001b[0m func \u001b[39m=\u001b[39m \u001b[39mgetattr\u001b[39m(handler, meth_name)\n\u001b[1;32m--> 496\u001b[0m result \u001b[39m=\u001b[39m func(\u001b[39m*\u001b[39;49margs)\n\u001b[0;32m    497\u001b[0m \u001b[39mif\u001b[39;00m result \u001b[39mis\u001b[39;00m \u001b[39mnot\u001b[39;00m \u001b[39mNone\u001b[39;00m:\n",
      "File \u001b[1;32mc:\\Users\\HP\\AppData\\Local\\Programs\\Python\\Python311\\Lib\\urllib\\request.py:1391\u001b[0m, in \u001b[0;36mHTTPSHandler.https_open\u001b[1;34m(self, req)\u001b[0m\n\u001b[0;32m   1390\u001b[0m \u001b[39mdef\u001b[39;00m \u001b[39mhttps_open\u001b[39m(\u001b[39mself\u001b[39m, req):\n\u001b[1;32m-> 1391\u001b[0m     \u001b[39mreturn\u001b[39;00m \u001b[39mself\u001b[39;49m\u001b[39m.\u001b[39;49mdo_open(http\u001b[39m.\u001b[39;49mclient\u001b[39m.\u001b[39;49mHTTPSConnection, req,\n\u001b[0;32m   1392\u001b[0m         context\u001b[39m=\u001b[39;49m\u001b[39mself\u001b[39;49m\u001b[39m.\u001b[39;49m_context, check_hostname\u001b[39m=\u001b[39;49m\u001b[39mself\u001b[39;49m\u001b[39m.\u001b[39;49m_check_hostname)\n",
      "File \u001b[1;32mc:\\Users\\HP\\AppData\\Local\\Programs\\Python\\Python311\\Lib\\urllib\\request.py:1351\u001b[0m, in \u001b[0;36mAbstractHTTPHandler.do_open\u001b[1;34m(self, http_class, req, **http_conn_args)\u001b[0m\n\u001b[0;32m   1350\u001b[0m \u001b[39mexcept\u001b[39;00m \u001b[39mOSError\u001b[39;00m \u001b[39mas\u001b[39;00m err: \u001b[39m# timeout error\u001b[39;00m\n\u001b[1;32m-> 1351\u001b[0m     \u001b[39mraise\u001b[39;00m URLError(err)\n\u001b[0;32m   1352\u001b[0m r \u001b[39m=\u001b[39m h\u001b[39m.\u001b[39mgetresponse()\n",
      "\u001b[1;31mURLError\u001b[0m: <urlopen error [SSL: CERTIFICATE_VERIFY_FAILED] certificate verify failed: certificate has expired (_ssl.c:992)>",
      "\nDuring handling of the above exception, another exception occurred:\n",
      "\u001b[1;31mException\u001b[0m                                 Traceback (most recent call last)",
      "Cell \u001b[1;32mIn[5], line 1\u001b[0m\n\u001b[1;32m----> 1\u001b[0m (x_train , y_train) , (x_test , y_test) \u001b[39m=\u001b[39m tf\u001b[39m.\u001b[39;49mkeras\u001b[39m.\u001b[39;49mdatasets\u001b[39m.\u001b[39;49mcifar10\u001b[39m.\u001b[39;49mload_data()\n",
      "File \u001b[1;32mc:\\Users\\HP\\AppData\\Local\\Programs\\Python\\Python311\\Lib\\site-packages\\keras\\datasets\\cifar10.py:81\u001b[0m, in \u001b[0;36mload_data\u001b[1;34m()\u001b[0m\n\u001b[0;32m     79\u001b[0m dirname \u001b[39m=\u001b[39m \u001b[39m\"\u001b[39m\u001b[39mcifar-10-batches-py\u001b[39m\u001b[39m\"\u001b[39m\n\u001b[0;32m     80\u001b[0m origin \u001b[39m=\u001b[39m \u001b[39m\"\u001b[39m\u001b[39mhttps://www.cs.toronto.edu/~kriz/cifar-10-python.tar.gz\u001b[39m\u001b[39m\"\u001b[39m\n\u001b[1;32m---> 81\u001b[0m path \u001b[39m=\u001b[39m get_file(\n\u001b[0;32m     82\u001b[0m     dirname,\n\u001b[0;32m     83\u001b[0m     origin\u001b[39m=\u001b[39;49morigin,\n\u001b[0;32m     84\u001b[0m     untar\u001b[39m=\u001b[39;49m\u001b[39mTrue\u001b[39;49;00m,\n\u001b[0;32m     85\u001b[0m     file_hash\u001b[39m=\u001b[39;49m(  \u001b[39m# noqa: E501\u001b[39;49;00m\n\u001b[0;32m     86\u001b[0m         \u001b[39m\"\u001b[39;49m\u001b[39m6d958be074577803d12ecdefd02955f39262c83c16fe9348329d7fe0b5c001ce\u001b[39;49m\u001b[39m\"\u001b[39;49m\n\u001b[0;32m     87\u001b[0m     ),\n\u001b[0;32m     88\u001b[0m )\n\u001b[0;32m     90\u001b[0m num_train_samples \u001b[39m=\u001b[39m \u001b[39m50000\u001b[39m\n\u001b[0;32m     92\u001b[0m x_train \u001b[39m=\u001b[39m np\u001b[39m.\u001b[39mempty((num_train_samples, \u001b[39m3\u001b[39m, \u001b[39m32\u001b[39m, \u001b[39m32\u001b[39m), dtype\u001b[39m=\u001b[39m\u001b[39m\"\u001b[39m\u001b[39muint8\u001b[39m\u001b[39m\"\u001b[39m)\n",
      "File \u001b[1;32mc:\\Users\\HP\\AppData\\Local\\Programs\\Python\\Python311\\Lib\\site-packages\\keras\\utils\\data_utils.py:350\u001b[0m, in \u001b[0;36mget_file\u001b[1;34m(fname, origin, untar, md5_hash, file_hash, cache_subdir, hash_algorithm, extract, archive_format, cache_dir)\u001b[0m\n\u001b[0;32m    348\u001b[0m         \u001b[39mraise\u001b[39;00m \u001b[39mException\u001b[39;00m(error_msg\u001b[39m.\u001b[39mformat(origin, e\u001b[39m.\u001b[39mcode, e\u001b[39m.\u001b[39mmsg))\n\u001b[0;32m    349\u001b[0m     \u001b[39mexcept\u001b[39;00m urllib\u001b[39m.\u001b[39merror\u001b[39m.\u001b[39mURLError \u001b[39mas\u001b[39;00m e:\n\u001b[1;32m--> 350\u001b[0m         \u001b[39mraise\u001b[39;00m \u001b[39mException\u001b[39;00m(error_msg\u001b[39m.\u001b[39mformat(origin, e\u001b[39m.\u001b[39merrno, e\u001b[39m.\u001b[39mreason))\n\u001b[0;32m    351\u001b[0m \u001b[39mexcept\u001b[39;00m (\u001b[39mException\u001b[39;00m, \u001b[39mKeyboardInterrupt\u001b[39;00m):\n\u001b[0;32m    352\u001b[0m     \u001b[39mif\u001b[39;00m os\u001b[39m.\u001b[39mpath\u001b[39m.\u001b[39mexists(fpath):\n",
      "\u001b[1;31mException\u001b[0m: URL fetch failure on https://www.cs.toronto.edu/~kriz/cifar-10-python.tar.gz: None -- [SSL: CERTIFICATE_VERIFY_FAILED] certificate verify failed: certificate has expired (_ssl.c:992)"
     ]
    }
   ],
   "source": [
    "(x_train , y_train) , (x_test , y_test) = tf.keras.datasets.cifar10.load_data()"
   ]
  },
  {
   "cell_type": "code",
   "execution_count": null,
   "metadata": {
    "colab": {
     "base_uri": "https://localhost:8080/",
     "height": 51
    },
    "colab_type": "code",
    "id": "sG-Agu0WRRur",
    "outputId": "81dc8843-34f4-4e43-fb8b-897b5894cb6d"
   },
   "outputs": [
    {
     "name": "stdout",
     "output_type": "stream",
     "text": [
      "x_train shape (50000, 32, 32, 3)\n",
      "y_train shape (50000, 1)\n"
     ]
    }
   ],
   "source": [
    "print('x_train shape' , x_train.shape)\n",
    "print('y_train shape' , y_train.shape)"
   ]
  },
  {
   "cell_type": "code",
   "execution_count": null,
   "metadata": {
    "colab": {
     "base_uri": "https://localhost:8080/",
     "height": 283
    },
    "colab_type": "code",
    "id": "ELvNk6iMRmM7",
    "outputId": "74bfbf49-ee0e-4ad5-90dd-3ace532dd554"
   },
   "outputs": [
    {
     "data": {
      "text/plain": [
       "<matplotlib.image.AxesImage at 0x7fc9a3de3080>"
      ]
     },
     "execution_count": 4,
     "metadata": {
      "tags": []
     },
     "output_type": "execute_result"
    },
    {
     "data": {
      "image/png": "[encoded data removed]",
      "text/plain": [
       "<Figure size 432x288 with 1 Axes>"
      ]
     },
     "metadata": {
      "needs_background": "light",
      "tags": []
     },
     "output_type": "display_data"
    }
   ],
   "source": [
    "plt.imshow(x_train[1])"
   ]
  },
  {
   "cell_type": "code",
   "execution_count": null,
   "metadata": {
    "colab": {},
    "colab_type": "code",
    "id": "onbbrUFYSSbP"
   },
   "outputs": [],
   "source": [
    "def normalize(x):\n",
    "    x = x.astype('float32')\n",
    "    x = x/255.0\n",
    "    return x"
   ]
  },
  {
   "cell_type": "code",
   "execution_count": null,
   "metadata": {
    "colab": {},
    "colab_type": "code",
    "id": "nw3EvgP2TLyo"
   },
   "outputs": [],
   "source": [
    "datagen = ImageDataGenerator(\n",
    "                            rotation_range=15,\n",
    "                            width_shift_range=0.1,\n",
    "                            height_shift_range=0.1,\n",
    "                            horizontal_flip=True,\n",
    ")"
   ]
  },
  {
   "cell_type": "code",
   "execution_count": null,
   "metadata": {
    "colab": {},
    "colab_type": "code",
    "id": "5nzeqnKNjJ1b"
   },
   "outputs": [],
   "source": [
    "from sklearn.model_selection import train_test_split\n",
    "x_test, x_val, y_test, y_val = train_test_split(x_test, y_test, test_size = 0.5, random_state = 0)"
   ]
  },
  {
   "cell_type": "code",
   "execution_count": null,
   "metadata": {
    "colab": {},
    "colab_type": "code",
    "id": "LatBK_OQTXqT"
   },
   "outputs": [],
   "source": [
    "x_train = normalize(x_train)\n",
    "x_test = normalize(x_test)\n",
    "x_val = normalize(x_val)\n",
    "\n",
    "y_train = tf.keras.utils.to_categorical(y_train , 10)\n",
    "y_test = tf.keras.utils.to_categorical(y_test , 10)\n",
    "y_val  = tf.keras.utils.to_categorical(y_val , 10)\n",
    "\n",
    "datagen.fit(x_train)"
   ]
  },
  {
   "cell_type": "code",
   "execution_count": null,
   "metadata": {
    "colab": {},
    "colab_type": "code",
    "id": "MNgWkoQddQce"
   },
   "outputs": [],
   "source": [
    "def results(model):\n",
    "  epoch = 100\n",
    "  r = model.fit(datagen.flow(x_train , y_train , batch_size = 32), epochs = epoch  ,steps_per_epoch=len(x_train)/32, validation_data = (x_val , y_val) , verbose = 1)\n",
    "  acc = model.evaluate(x_test , y_test)\n",
    "  print(\"test set loss : \" , acc[0])\n",
    "  print(\"test set accuracy :\", acc[1]*100)\n",
    "\n",
    "  epoch_range = range(1, epoch+1)\n",
    "  plt.plot(epoch_range, r.history['accuracy'])\n",
    "  plt.plot(epoch_range, r.history['val_accuracy'])\n",
    "  plt.title('Classification Accuracy')\n",
    "  plt.ylabel('Accuracy')\n",
    "  plt.xlabel('Epoch')\n",
    "  plt.legend(['Train', 'Val'], loc='lower right')\n",
    "  plt.show()\n",
    "\n",
    "  # Plot training & validation loss values\n",
    "  plt.plot(epoch_range,r.history['loss'])\n",
    "  plt.plot(epoch_range, r.history['val_loss'])\n",
    "  plt.title('Model loss')\n",
    "  plt.ylabel('Loss')\n",
    "  plt.xlabel('Epoch')\n",
    "  plt.legend(['Train', 'Val'], loc='lower right')\n",
    "  plt.show()"
   ]
  },
  {
   "cell_type": "code",
   "execution_count": 3,
   "metadata": {
    "colab": {},
    "colab_type": "code",
    "id": "GntiEI6zrJ_f"
   },
   "outputs": [
    {
     "name": "stderr",
     "output_type": "stream",
     "text": [
      "WARNING:absl:`lr` is deprecated in Keras optimizer, please use `learning_rate` or use the legacy optimizer, e.g.,tf.keras.optimizers.legacy.SGD.\n"
     ]
    }
   ],
   "source": [
    "weight_decay = 1e-4\n",
    "model = Sequential([\n",
    "                    Conv2D(32, (3, 3), activation='relu', padding='same',kernel_regularizer=tf.keras.regularizers.l2(weight_decay), input_shape=(32, 32, 3)),\n",
    "\t                BatchNormalization(),\n",
    "                    Conv2D(32, (3, 3), activation='relu',kernel_regularizer=tf.keras.regularizers.l2(weight_decay), padding='same'),\n",
    "\t                BatchNormalization(),\n",
    "                    MaxPooling2D((2, 2)),\n",
    "                    Dropout(0.2),\n",
    "                    Conv2D(64, (3, 3), activation='relu',kernel_regularizer=tf.keras.regularizers.l2(weight_decay), padding='same'),\n",
    "\t                BatchNormalization(),\n",
    "                    Conv2D(64, (3, 3), activation='relu',kernel_regularizer=tf.keras.regularizers.l2(weight_decay), padding='same'),\n",
    "                    BatchNormalization(),\n",
    "                    MaxPooling2D((2, 2)),\n",
    "                    Dropout(0.3),\n",
    "                    Conv2D(128, (3, 3), activation='relu',kernel_regularizer=tf.keras.regularizers.l2(weight_decay), padding='same'),\n",
    "\t                BatchNormalization(),\n",
    "                    Conv2D(128, (3, 3), activation='relu',kernel_regularizer=tf.keras.regularizers.l2(weight_decay), padding='same'),\n",
    "                    BatchNormalization(),\n",
    "                    MaxPooling2D((2, 2)),\n",
    "                    Dropout(0.3),\n",
    "\t                Flatten(),\n",
    "\t                Dense(128, activation='relu'),\n",
    "                    Dense(10, activation='softmax')                    \n",
    "])\n",
    "\n",
    "opt =    tf.keras.optimizers.SGD(lr=0.001, momentum=0.9)\n",
    "model.compile(optimizer=opt, loss='categorical_crossentropy', metrics=['accuracy'])"
   ]
  },
  {
   "cell_type": "code",
   "execution_count": null,
   "metadata": {
    "colab": {
     "base_uri": "https://localhost:8080/",
     "height": 1000
    },
    "colab_type": "code",
    "id": "PkAOH4DBrrxP",
    "outputId": "7dc6ba42-a300-4efe-e8d7-1c4e16957a28"
   },
   "outputs": [
    {
     "name": "stdout",
     "output_type": "stream",
     "text": [
      "Epoch 1/100\n",
      "1563/1562 [==============================] - 47s 30ms/step - loss: 1.7113 - accuracy: 0.3918 - val_loss: 1.4652 - val_accuracy: 0.4928\n",
      "Epoch 2/100\n",
      "1563/1562 [==============================] - 47s 30ms/step - loss: 1.3811 - accuracy: 0.5123 - val_loss: 1.2846 - val_accuracy: 0.5614\n",
      "Epoch 3/100\n",
      "1563/1562 [==============================] - 47s 30ms/step - loss: 1.2184 - accuracy: 0.5731 - val_loss: 1.1628 - val_accuracy: 0.6012\n",
      "Epoch 4/100\n",
      "1563/1562 [==============================] - 47s 30ms/step - loss: 1.1200 - accuracy: 0.6120 - val_loss: 1.1376 - val_accuracy: 0.6272\n",
      "Epoch 5/100\n",
      "1563/1562 [==============================] - 47s 30ms/step - loss: 1.0415 - accuracy: 0.6404 - val_loss: 0.9111 - val_accuracy: 0.6970\n",
      "Epoch 6/100\n",
      "1563/1562 [==============================] - 47s 30ms/step - loss: 0.9902 - accuracy: 0.6629 - val_loss: 1.1072 - val_accuracy: 0.6378\n",
      "Epoch 7/100\n",
      "1563/1562 [==============================] - 47s 30ms/step - loss: 0.9466 - accuracy: 0.6779 - val_loss: 1.1607 - val_accuracy: 0.6262\n",
      "Epoch 8/100\n",
      "1563/1562 [==============================] - 47s 30ms/step - loss: 0.9053 - accuracy: 0.6954 - val_loss: 0.9459 - val_accuracy: 0.6938\n",
      "Epoch 9/100\n",
      "1563/1562 [==============================] - 47s 30ms/step - loss: 0.8792 - accuracy: 0.7019 - val_loss: 0.9495 - val_accuracy: 0.6952\n",
      "Epoch 10/100\n",
      "1563/1562 [==============================] - 47s 30ms/step - loss: 0.8507 - accuracy: 0.7129 - val_loss: 0.7738 - val_accuracy: 0.7514\n",
      "Epoch 11/100\n",
      "1563/1562 [==============================] - 49s 31ms/step - loss: 0.8282 - accuracy: 0.7212 - val_loss: 0.7682 - val_accuracy: 0.7544\n",
      "Epoch 12/100\n",
      "1563/1562 [==============================] - 47s 30ms/step - loss: 0.8064 - accuracy: 0.7286 - val_loss: 0.7842 - val_accuracy: 0.7588\n",
      "Epoch 13/100\n",
      "1563/1562 [==============================] - 47s 30ms/step - loss: 0.7825 - accuracy: 0.7371 - val_loss: 0.8059 - val_accuracy: 0.7444\n",
      "Epoch 14/100\n",
      "1563/1562 [==============================] - 47s 30ms/step - loss: 0.7643 - accuracy: 0.7457 - val_loss: 0.7426 - val_accuracy: 0.7606\n",
      "Epoch 15/100\n",
      "1563/1562 [==============================] - 47s 30ms/step - loss: 0.7506 - accuracy: 0.7506 - val_loss: 0.6599 - val_accuracy: 0.7928\n",
      "Epoch 16/100\n",
      "1563/1562 [==============================] - 47s 30ms/step - loss: 0.7292 - accuracy: 0.7565 - val_loss: 0.8198 - val_accuracy: 0.7462\n",
      "Epoch 17/100\n",
      "1563/1562 [==============================] - 47s 30ms/step - loss: 0.7202 - accuracy: 0.7621 - val_loss: 0.7206 - val_accuracy: 0.7754\n",
      "Epoch 18/100\n",
      "1563/1562 [==============================] - 47s 30ms/step - loss: 0.7087 - accuracy: 0.7659 - val_loss: 0.8505 - val_accuracy: 0.7342\n",
      "Epoch 19/100\n",
      "1563/1562 [==============================] - 47s 30ms/step - loss: 0.6885 - accuracy: 0.7726 - val_loss: 0.7119 - val_accuracy: 0.7762\n",
      "Epoch 20/100\n",
      "1563/1562 [==============================] - 47s 30ms/step - loss: 0.6849 - accuracy: 0.7749 - val_loss: 0.6795 - val_accuracy: 0.7918\n",
      "Epoch 21/100\n",
      "1563/1562 [==============================] - 47s 30ms/step - loss: 0.6694 - accuracy: 0.7805 - val_loss: 0.6816 - val_accuracy: 0.7916\n",
      "Epoch 22/100\n",
      "1563/1562 [==============================] - 47s 30ms/step - loss: 0.6603 - accuracy: 0.7820 - val_loss: 0.7379 - val_accuracy: 0.7816\n",
      "Epoch 23/100\n",
      "1563/1562 [==============================] - 47s 30ms/step - loss: 0.6541 - accuracy: 0.7841 - val_loss: 0.6907 - val_accuracy: 0.7946\n",
      "Epoch 24/100\n",
      "1563/1562 [==============================] - 47s 30ms/step - loss: 0.6341 - accuracy: 0.7908 - val_loss: 0.6607 - val_accuracy: 0.7944\n",
      "Epoch 25/100\n",
      "1563/1562 [==============================] - 47s 30ms/step - loss: 0.6351 - accuracy: 0.7905 - val_loss: 0.6517 - val_accuracy: 0.7978\n",
      "Epoch 26/100\n",
      "1563/1562 [==============================] - 47s 30ms/step - loss: 0.6182 - accuracy: 0.7988 - val_loss: 0.6307 - val_accuracy: 0.8112\n",
      "Epoch 27/100\n",
      "1563/1562 [==============================] - 47s 30ms/step - loss: 0.6129 - accuracy: 0.7996 - val_loss: 0.6023 - val_accuracy: 0.8162\n",
      "Epoch 28/100\n",
      "1563/1562 [==============================] - 47s 30ms/step - loss: 0.6053 - accuracy: 0.8024 - val_loss: 0.6008 - val_accuracy: 0.8160\n",
      "Epoch 29/100\n",
      "1563/1562 [==============================] - 47s 30ms/step - loss: 0.5943 - accuracy: 0.8070 - val_loss: 0.6370 - val_accuracy: 0.8108\n",
      "Epoch 30/100\n",
      "1563/1562 [==============================] - 47s 30ms/step - loss: 0.5949 - accuracy: 0.8067 - val_loss: 0.5795 - val_accuracy: 0.8282\n",
      "Epoch 31/100\n",
      "1563/1562 [==============================] - 47s 30ms/step - loss: 0.5850 - accuracy: 0.8084 - val_loss: 0.6454 - val_accuracy: 0.8104\n",
      "Epoch 32/100\n",
      "1563/1562 [==============================] - 47s 30ms/step - loss: 0.5795 - accuracy: 0.8129 - val_loss: 0.6747 - val_accuracy: 0.8030\n",
      "Epoch 33/100\n",
      "1563/1562 [==============================] - 47s 30ms/step - loss: 0.5687 - accuracy: 0.8181 - val_loss: 0.6126 - val_accuracy: 0.8172\n",
      "Epoch 34/100\n",
      "1563/1562 [==============================] - 47s 30ms/step - loss: 0.5691 - accuracy: 0.8159 - val_loss: 0.5963 - val_accuracy: 0.8206\n",
      "Epoch 35/100\n",
      "1563/1562 [==============================] - 47s 30ms/step - loss: 0.5579 - accuracy: 0.8197 - val_loss: 0.5506 - val_accuracy: 0.8390\n",
      "Epoch 36/100\n",
      "1563/1562 [==============================] - 47s 30ms/step - loss: 0.5540 - accuracy: 0.8208 - val_loss: 0.5708 - val_accuracy: 0.8292\n",
      "Epoch 37/100\n",
      "1563/1562 [==============================] - 47s 30ms/step - loss: 0.5471 - accuracy: 0.8232 - val_loss: 0.6075 - val_accuracy: 0.8240\n",
      "Epoch 38/100\n",
      "1563/1562 [==============================] - 47s 30ms/step - loss: 0.5403 - accuracy: 0.8279 - val_loss: 0.5955 - val_accuracy: 0.8272\n",
      "Epoch 39/100\n",
      "1563/1562 [==============================] - 47s 30ms/step - loss: 0.5425 - accuracy: 0.8265 - val_loss: 0.7016 - val_accuracy: 0.7906\n",
      "Epoch 40/100\n",
      "1563/1562 [==============================] - 47s 30ms/step - loss: 0.5299 - accuracy: 0.8293 - val_loss: 0.5621 - val_accuracy: 0.8344\n",
      "Epoch 41/100\n",
      "1563/1562 [==============================] - 47s 30ms/step - loss: 0.5319 - accuracy: 0.8300 - val_loss: 0.6169 - val_accuracy: 0.8220\n",
      "Epoch 42/100\n",
      "1563/1562 [==============================] - 47s 30ms/step - loss: 0.5224 - accuracy: 0.8315 - val_loss: 0.5701 - val_accuracy: 0.8284\n",
      "Epoch 43/100\n",
      "1563/1562 [==============================] - 47s 30ms/step - loss: 0.5162 - accuracy: 0.8353 - val_loss: 0.5376 - val_accuracy: 0.8452\n",
      "Epoch 44/100\n",
      "1563/1562 [==============================] - 47s 30ms/step - loss: 0.5180 - accuracy: 0.8342 - val_loss: 0.5431 - val_accuracy: 0.8366\n",
      "Epoch 45/100\n",
      "1563/1562 [==============================] - 47s 30ms/step - loss: 0.5079 - accuracy: 0.8380 - val_loss: 0.5962 - val_accuracy: 0.8268\n",
      "Epoch 46/100\n",
      "1563/1562 [==============================] - 47s 30ms/step - loss: 0.5093 - accuracy: 0.8363 - val_loss: 0.5353 - val_accuracy: 0.8440\n",
      "Epoch 47/100\n",
      "1563/1562 [==============================] - 47s 30ms/step - loss: 0.5000 - accuracy: 0.8402 - val_loss: 0.5705 - val_accuracy: 0.8308\n",
      "Epoch 48/100\n",
      "1563/1562 [==============================] - 47s 30ms/step - loss: 0.4988 - accuracy: 0.8421 - val_loss: 0.5600 - val_accuracy: 0.8396\n",
      "Epoch 49/100\n",
      "1563/1562 [==============================] - 47s 30ms/step - loss: 0.4958 - accuracy: 0.8437 - val_loss: 0.5017 - val_accuracy: 0.8538\n",
      "Epoch 50/100\n",
      "1563/1562 [==============================] - 47s 30ms/step - loss: 0.4972 - accuracy: 0.8401 - val_loss: 0.5609 - val_accuracy: 0.8368\n",
      "Epoch 51/100\n",
      "1563/1562 [==============================] - 47s 30ms/step - loss: 0.4923 - accuracy: 0.8434 - val_loss: 0.5496 - val_accuracy: 0.8378\n",
      "Epoch 52/100\n",
      "1563/1562 [==============================] - 47s 30ms/step - loss: 0.4796 - accuracy: 0.8481 - val_loss: 0.5111 - val_accuracy: 0.8524\n",
      "Epoch 53/100\n",
      "1563/1562 [==============================] - 47s 30ms/step - loss: 0.4803 - accuracy: 0.8474 - val_loss: 0.5314 - val_accuracy: 0.8468\n",
      "Epoch 54/100\n",
      "1563/1562 [==============================] - 47s 30ms/step - loss: 0.4785 - accuracy: 0.8486 - val_loss: 0.5702 - val_accuracy: 0.8362\n",
      "Epoch 55/100\n",
      "1563/1562 [==============================] - 47s 30ms/step - loss: 0.4775 - accuracy: 0.8496 - val_loss: 0.5856 - val_accuracy: 0.8302\n",
      "Epoch 56/100\n",
      "1563/1562 [==============================] - 47s 30ms/step - loss: 0.4787 - accuracy: 0.8492 - val_loss: 0.5187 - val_accuracy: 0.8550\n",
      "Epoch 57/100\n",
      "1563/1562 [==============================] - 47s 30ms/step - loss: 0.4687 - accuracy: 0.8525 - val_loss: 0.4806 - val_accuracy: 0.8652\n",
      "Epoch 58/100\n",
      "1563/1562 [==============================] - 47s 30ms/step - loss: 0.4716 - accuracy: 0.8501 - val_loss: 0.5366 - val_accuracy: 0.8486\n",
      "Epoch 59/100\n",
      "1563/1562 [==============================] - 47s 30ms/step - loss: 0.4642 - accuracy: 0.8542 - val_loss: 0.4953 - val_accuracy: 0.8560\n",
      "Epoch 60/100\n",
      "1563/1562 [==============================] - 47s 30ms/step - loss: 0.4601 - accuracy: 0.8553 - val_loss: 0.5010 - val_accuracy: 0.8594\n",
      "Epoch 61/100\n",
      "1563/1562 [==============================] - 47s 30ms/step - loss: 0.4592 - accuracy: 0.8569 - val_loss: 0.4962 - val_accuracy: 0.8562\n",
      "Epoch 62/100\n",
      "1563/1562 [==============================] - 47s 30ms/step - loss: 0.4577 - accuracy: 0.8568 - val_loss: 0.5186 - val_accuracy: 0.8500\n",
      "Epoch 63/100\n",
      "1563/1562 [==============================] - 47s 30ms/step - loss: 0.4466 - accuracy: 0.8596 - val_loss: 0.4967 - val_accuracy: 0.8572\n",
      "Epoch 64/100\n",
      "1563/1562 [==============================] - 47s 30ms/step - loss: 0.4487 - accuracy: 0.8599 - val_loss: 0.4982 - val_accuracy: 0.8568\n",
      "Epoch 65/100\n",
      "1563/1562 [==============================] - 47s 30ms/step - loss: 0.4436 - accuracy: 0.8619 - val_loss: 0.5084 - val_accuracy: 0.8576\n",
      "Epoch 66/100\n",
      "1563/1562 [==============================] - 47s 30ms/step - loss: 0.4466 - accuracy: 0.8612 - val_loss: 0.4911 - val_accuracy: 0.8650\n",
      "Epoch 67/100\n",
      "1563/1562 [==============================] - 47s 30ms/step - loss: 0.4425 - accuracy: 0.8598 - val_loss: 0.4921 - val_accuracy: 0.8566\n",
      "Epoch 68/100\n",
      "1563/1562 [==============================] - 47s 30ms/step - loss: 0.4369 - accuracy: 0.8630 - val_loss: 0.4896 - val_accuracy: 0.8628\n",
      "Epoch 69/100\n",
      "1563/1562 [==============================] - 47s 30ms/step - loss: 0.4390 - accuracy: 0.8631 - val_loss: 0.4616 - val_accuracy: 0.8654\n",
      "Epoch 70/100\n",
      "1563/1562 [==============================] - 47s 30ms/step - loss: 0.4333 - accuracy: 0.8663 - val_loss: 0.5122 - val_accuracy: 0.8584\n",
      "Epoch 71/100\n",
      "1563/1562 [==============================] - 47s 30ms/step - loss: 0.4320 - accuracy: 0.8660 - val_loss: 0.4981 - val_accuracy: 0.8526\n",
      "Epoch 72/100\n",
      "1563/1562 [==============================] - 47s 30ms/step - loss: 0.4271 - accuracy: 0.8673 - val_loss: 0.5557 - val_accuracy: 0.8464\n",
      "Epoch 73/100\n",
      "1563/1562 [==============================] - 47s 30ms/step - loss: 0.4361 - accuracy: 0.8641 - val_loss: 0.5502 - val_accuracy: 0.8440\n",
      "Epoch 74/100\n",
      "1563/1562 [==============================] - 47s 30ms/step - loss: 0.4262 - accuracy: 0.8681 - val_loss: 0.5235 - val_accuracy: 0.8562\n",
      "Epoch 75/100\n",
      "1563/1562 [==============================] - 47s 30ms/step - loss: 0.4261 - accuracy: 0.8674 - val_loss: 0.4887 - val_accuracy: 0.8606\n",
      "Epoch 76/100\n",
      "1563/1562 [==============================] - 47s 30ms/step - loss: 0.4248 - accuracy: 0.8695 - val_loss: 0.5244 - val_accuracy: 0.8490\n",
      "Epoch 77/100\n",
      "1563/1562 [==============================] - 47s 30ms/step - loss: 0.4212 - accuracy: 0.8700 - val_loss: 0.5069 - val_accuracy: 0.8604\n",
      "Epoch 78/100\n",
      "1563/1562 [==============================] - 47s 30ms/step - loss: 0.4229 - accuracy: 0.8686 - val_loss: 0.4756 - val_accuracy: 0.8660\n",
      "Epoch 79/100\n",
      "1563/1562 [==============================] - 47s 30ms/step - loss: 0.4169 - accuracy: 0.8695 - val_loss: 0.5148 - val_accuracy: 0.8510\n",
      "Epoch 80/100\n",
      "1563/1562 [==============================] - 47s 30ms/step - loss: 0.4157 - accuracy: 0.8726 - val_loss: 0.5102 - val_accuracy: 0.8634\n",
      "Epoch 81/100\n",
      "1563/1562 [==============================] - 47s 30ms/step - loss: 0.4129 - accuracy: 0.8723 - val_loss: 0.4909 - val_accuracy: 0.8630\n",
      "Epoch 82/100\n",
      "1563/1562 [==============================] - 47s 30ms/step - loss: 0.4126 - accuracy: 0.8721 - val_loss: 0.4596 - val_accuracy: 0.8704\n",
      "Epoch 83/100\n",
      "1563/1562 [==============================] - 47s 30ms/step - loss: 0.4109 - accuracy: 0.8734 - val_loss: 0.4557 - val_accuracy: 0.8738\n",
      "Epoch 84/100\n",
      "1563/1562 [==============================] - 47s 30ms/step - loss: 0.4101 - accuracy: 0.8726 - val_loss: 0.4745 - val_accuracy: 0.8676\n",
      "Epoch 85/100\n",
      "1563/1562 [==============================] - 47s 30ms/step - loss: 0.4062 - accuracy: 0.8757 - val_loss: 0.4903 - val_accuracy: 0.8606\n",
      "Epoch 86/100\n",
      "1563/1562 [==============================] - 47s 30ms/step - loss: 0.4087 - accuracy: 0.8743 - val_loss: 0.4594 - val_accuracy: 0.8660\n",
      "Epoch 87/100\n",
      "1563/1562 [==============================] - 47s 30ms/step - loss: 0.4046 - accuracy: 0.8752 - val_loss: 0.4647 - val_accuracy: 0.8692\n",
      "Epoch 88/100\n",
      "1563/1562 [==============================] - 47s 30ms/step - loss: 0.4025 - accuracy: 0.8768 - val_loss: 0.4290 - val_accuracy: 0.8802\n",
      "Epoch 89/100\n",
      "1563/1562 [==============================] - 47s 30ms/step - loss: 0.4028 - accuracy: 0.8752 - val_loss: 0.5062 - val_accuracy: 0.8578\n",
      "Epoch 90/100\n",
      "1563/1562 [==============================] - 47s 30ms/step - loss: 0.3946 - accuracy: 0.8791 - val_loss: 0.4926 - val_accuracy: 0.8636\n",
      "Epoch 91/100\n",
      "1563/1562 [==============================] - 47s 30ms/step - loss: 0.4010 - accuracy: 0.8762 - val_loss: 0.4666 - val_accuracy: 0.8704\n",
      "Epoch 92/100\n",
      "1563/1562 [==============================] - 47s 30ms/step - loss: 0.3944 - accuracy: 0.8780 - val_loss: 0.4719 - val_accuracy: 0.8664\n",
      "Epoch 93/100\n",
      "1563/1562 [==============================] - 47s 30ms/step - loss: 0.3938 - accuracy: 0.8798 - val_loss: 0.4797 - val_accuracy: 0.8692\n",
      "Epoch 94/100\n",
      "1563/1562 [==============================] - 47s 30ms/step - loss: 0.3909 - accuracy: 0.8800 - val_loss: 0.4684 - val_accuracy: 0.8714\n",
      "Epoch 95/100\n",
      "1563/1562 [==============================] - 47s 30ms/step - loss: 0.3933 - accuracy: 0.8789 - val_loss: 0.4829 - val_accuracy: 0.8676\n",
      "Epoch 96/100\n",
      "1563/1562 [==============================] - 47s 30ms/step - loss: 0.3899 - accuracy: 0.8815 - val_loss: 0.4559 - val_accuracy: 0.8724\n",
      "Epoch 97/100\n",
      "1563/1562 [==============================] - 47s 30ms/step - loss: 0.3905 - accuracy: 0.8813 - val_loss: 0.4775 - val_accuracy: 0.8684\n",
      "Epoch 98/100\n",
      "1563/1562 [==============================] - 47s 30ms/step - loss: 0.3817 - accuracy: 0.8837 - val_loss: 0.4363 - val_accuracy: 0.8750\n",
      "Epoch 99/100\n",
      "1563/1562 [==============================] - 47s 30ms/step - loss: 0.3853 - accuracy: 0.8808 - val_loss: 0.4817 - val_accuracy: 0.8670\n",
      "Epoch 100/100\n",
      "1563/1562 [==============================] - 47s 30ms/step - loss: 0.3853 - accuracy: 0.8838 - val_loss: 0.4466 - val_accuracy: 0.8752\n",
      "157/157 [==============================] - 1s 7ms/step - loss: 0.4312 - accuracy: 0.8778\n",
      "test set loss :  0.43124574422836304\n",
      "test set accuracy : 87.77999877929688\n"
     ]
    },
    {
     "data": {
      "image/png": "[encoded data removed]",
      "text/plain": [
       "<Figure size 432x288 with 1 Axes>"
      ]
     },
     "metadata": {
      "needs_background": "light",
      "tags": []
     },
     "output_type": "display_data"
    },
    {
     "data": {
      "image/png": "[encoded data removed]",
      "text/plain": [
       "<Figure size 432x288 with 1 Axes>"
      ]
     },
     "metadata": {
      "needs_background": "light",
      "tags": []
     },
     "output_type": "display_data"
    }
   ],
   "source": [
    "results(model)"
   ]
  },
  {
   "cell_type": "code",
   "execution_count": null,
   "metadata": {
    "colab": {},
    "colab_type": "code",
    "id": "XAd2LQEYxV6B"
   },
   "outputs": [],
   "source": [
    "model.save(\"model.hdf5\")"
   ]
  }
 ],
 "metadata": {
  "accelerator": "GPU",
  "colab": {
   "collapsed_sections": [],
   "name": "Ka-webApp.ipynb",
   "provenance": []
  },
  "kernelspec": {
   "display_name": "Python 3",
   "language": "python",
   "name": "python3"
  },
  "language_info": {
   "codemirror_mode": {
    "name": "ipython",
    "version": 3
   },
   "file_extension": ".py",
   "mimetype": "text/x-python",
   "name": "python",
   "nbconvert_exporter": "python",
   "pygments_lexer": "ipython3",
   "version": "3.11.2"
  }
 },
 "nbformat": 4,
 "nbformat_minor": 1
}
