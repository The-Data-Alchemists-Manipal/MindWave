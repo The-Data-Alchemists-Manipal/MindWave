{
 "cells": [
  {
   "cell_type": "code",
   "execution_count": 1,
   "id": "046cce7f",
   "metadata": {
    "_cell_guid": "b1076dfc-b9ad-4769-8c92-a6c4dae69d19",
    "_uuid": "8f2839f25d086af736a60e9eeb907d3b93b6e0e5",
    "execution": {
     "iopub.execute_input": "2023-05-07T05:52:12.207118Z",
     "iopub.status.busy": "2023-05-07T05:52:12.206376Z",
     "iopub.status.idle": "2023-05-07T05:52:12.225077Z",
     "shell.execute_reply": "2023-05-07T05:52:12.224297Z"
    },
    "papermill": {
     "duration": 0.038626,
     "end_time": "2023-05-07T05:52:12.227344",
     "exception": false,
     "start_time": "2023-05-07T05:52:12.188718",
     "status": "completed"
    },
    "tags": []
   },
   "outputs": [
    {
     "name": "stdout",
     "output_type": "stream",
     "text": [
      "/kaggle/input/kepler-labelled-time-series-data/exoTest.csv\n",
      "/kaggle/input/kepler-labelled-time-series-data/exoTrain.csv\n"
     ]
    }
   ],
   "source": [
    "# This Python 3 environment comes with many helpful analytics libraries installed\n",
    "# It is defined by the kaggle/python Docker image: https://github.com/kaggle/docker-python\n",
    "# For example, here's several helpful packages to load\n",
    "\n",
    "import numpy as np # linear algebra\n",
    "import pandas as pd # data processing, CSV file I/O (e.g. pd.read_csv)\n",
    "\n",
    "# Input data files are available in the read-only \"../input/\" directory\n",
    "# For example, running this (by clicking run or pressing Shift+Enter) will list all files under the input directory\n",
    "\n",
    "import os\n",
    "for dirname, _, filenames in os.walk('/kaggle/input'):\n",
    "    for filename in filenames:\n",
    "        print(os.path.join(dirname, filename))\n",
    "\n",
    "# You can write up to 20GB to the current directory (/kaggle/working/) that gets preserved as output when you create a version using \"Save & Run All\" \n",
    "# You can also write temporary files to /kaggle/temp/, but they won't be saved outside of the current session"
   ]
  },
  {
   "cell_type": "markdown",
   "id": "e1fd41eb",
   "metadata": {
    "papermill": {
     "duration": 0.011976,
     "end_time": "2023-05-07T05:52:12.251344",
     "exception": false,
     "start_time": "2023-05-07T05:52:12.239368",
     "status": "completed"
    },
    "tags": []
   },
   "source": [
    "Here I have implemented ML algorithms like Decision Trees, Random Forest and XGB\n",
    "I tried implementing CNN for binary classification but couldn't get a good validation accuracy\n",
    "Would appreciate thoughts on how to go about implementing CNN"
   ]
  },
  {
   "cell_type": "code",
   "execution_count": 2,
   "id": "50ffa29a",
   "metadata": {
    "execution": {
     "iopub.execute_input": "2023-05-07T05:52:12.276977Z",
     "iopub.status.busy": "2023-05-07T05:52:12.275945Z",
     "iopub.status.idle": "2023-05-07T05:52:21.267502Z",
     "shell.execute_reply": "2023-05-07T05:52:21.266514Z"
    },
    "papermill": {
     "duration": 9.007122,
     "end_time": "2023-05-07T05:52:21.270233",
     "exception": false,
     "start_time": "2023-05-07T05:52:12.263111",
     "status": "completed"
    },
    "tags": []
   },
   "outputs": [
    {
     "name": "stderr",
     "output_type": "stream",
     "text": [
      "/opt/conda/lib/python3.10/site-packages/scipy/__init__.py:146: UserWarning: A NumPy version >=1.16.5 and <1.23.0 is required for this version of SciPy (detected version 1.23.5\n",
      "  warnings.warn(f\"A NumPy version >={np_minversion} and <{np_maxversion}\"\n"
     ]
    }
   ],
   "source": [
    "import numpy as np\n",
    "import pandas as pd\n",
    "import matplotlib.pyplot as plt\n",
    "import seaborn as sns\n",
    "from sklearn.linear_model import LinearRegression\n",
    "from sklearn.preprocessing import StandardScaler\n",
    "from sklearn.metrics import roc_curve, roc_auc_score\n",
    "from scipy.ndimage.filters import uniform_filter1d\n",
    "#Keras is a high level neural networks library, based on either tensorflow or theano\n",
    "from keras.models import Sequential, Model\n",
    "from keras.layers import Conv1D, MaxPool1D, Dense, Dropout, Flatten, \\\n",
    "BatchNormalization, Input, concatenate, Activation\n",
    "from keras.optimizers import Adam"
   ]
  },
  {
   "cell_type": "code",
   "execution_count": 3,
   "id": "8adea03b",
   "metadata": {
    "execution": {
     "iopub.execute_input": "2023-05-07T05:52:21.297446Z",
     "iopub.status.busy": "2023-05-07T05:52:21.296097Z",
     "iopub.status.idle": "2023-05-07T05:52:28.743162Z",
     "shell.execute_reply": "2023-05-07T05:52:28.742250Z"
    },
    "papermill": {
     "duration": 7.462944,
     "end_time": "2023-05-07T05:52:28.745704",
     "exception": false,
     "start_time": "2023-05-07T05:52:21.282760",
     "status": "completed"
    },
    "tags": []
   },
   "outputs": [],
   "source": [
    "train_d = pd.read_csv(\"/kaggle/input/kepler-labelled-time-series-data/exoTrain.csv\")"
   ]
  },
  {
   "cell_type": "code",
   "execution_count": 4,
   "id": "5c46c2c6",
   "metadata": {
    "execution": {
     "iopub.execute_input": "2023-05-07T05:52:28.772302Z",
     "iopub.status.busy": "2023-05-07T05:52:28.771934Z",
     "iopub.status.idle": "2023-05-07T05:52:28.817945Z",
     "shell.execute_reply": "2023-05-07T05:52:28.816813Z"
    },
    "papermill": {
     "duration": 0.062501,
     "end_time": "2023-05-07T05:52:28.820461",
     "exception": false,
     "start_time": "2023-05-07T05:52:28.757960",
     "status": "completed"
    },
    "tags": []
   },
   "outputs": [
    {
     "data": {
      "text/html": [
       "<div>\n",
       "<style scoped>\n",
       "    .dataframe tbody tr th:only-of-type {\n",
       "        vertical-align: middle;\n",
       "    }\n",
       "\n",
       "    .dataframe tbody tr th {\n",
       "        vertical-align: top;\n",
       "    }\n",
       "\n",
       "    .dataframe thead th {\n",
       "        text-align: right;\n",
       "    }\n",
       "</style>\n",
       "<table border=\"1\" class=\"dataframe\">\n",
       "  <thead>\n",
       "    <tr style=\"text-align: right;\">\n",
       "      <th></th>\n",
       "      <th>LABEL</th>\n",
       "      <th>FLUX.1</th>\n",
       "      <th>FLUX.2</th>\n",
       "      <th>FLUX.3</th>\n",
       "      <th>FLUX.4</th>\n",
       "      <th>FLUX.5</th>\n",
       "      <th>FLUX.6</th>\n",
       "      <th>FLUX.7</th>\n",
       "      <th>FLUX.8</th>\n",
       "      <th>FLUX.9</th>\n",
       "      <th>...</th>\n",
       "      <th>FLUX.3188</th>\n",
       "      <th>FLUX.3189</th>\n",
       "      <th>FLUX.3190</th>\n",
       "      <th>FLUX.3191</th>\n",
       "      <th>FLUX.3192</th>\n",
       "      <th>FLUX.3193</th>\n",
       "      <th>FLUX.3194</th>\n",
       "      <th>FLUX.3195</th>\n",
       "      <th>FLUX.3196</th>\n",
       "      <th>FLUX.3197</th>\n",
       "    </tr>\n",
       "  </thead>\n",
       "  <tbody>\n",
       "    <tr>\n",
       "      <th>0</th>\n",
       "      <td>2</td>\n",
       "      <td>93.85</td>\n",
       "      <td>83.81</td>\n",
       "      <td>20.10</td>\n",
       "      <td>-26.98</td>\n",
       "      <td>-39.56</td>\n",
       "      <td>-124.71</td>\n",
       "      <td>-135.18</td>\n",
       "      <td>-96.27</td>\n",
       "      <td>-79.89</td>\n",
       "      <td>...</td>\n",
       "      <td>-78.07</td>\n",
       "      <td>-102.15</td>\n",
       "      <td>-102.15</td>\n",
       "      <td>25.13</td>\n",
       "      <td>48.57</td>\n",
       "      <td>92.54</td>\n",
       "      <td>39.32</td>\n",
       "      <td>61.42</td>\n",
       "      <td>5.08</td>\n",
       "      <td>-39.54</td>\n",
       "    </tr>\n",
       "    <tr>\n",
       "      <th>1</th>\n",
       "      <td>2</td>\n",
       "      <td>-38.88</td>\n",
       "      <td>-33.83</td>\n",
       "      <td>-58.54</td>\n",
       "      <td>-40.09</td>\n",
       "      <td>-79.31</td>\n",
       "      <td>-72.81</td>\n",
       "      <td>-86.55</td>\n",
       "      <td>-85.33</td>\n",
       "      <td>-83.97</td>\n",
       "      <td>...</td>\n",
       "      <td>-3.28</td>\n",
       "      <td>-32.21</td>\n",
       "      <td>-32.21</td>\n",
       "      <td>-24.89</td>\n",
       "      <td>-4.86</td>\n",
       "      <td>0.76</td>\n",
       "      <td>-11.70</td>\n",
       "      <td>6.46</td>\n",
       "      <td>16.00</td>\n",
       "      <td>19.93</td>\n",
       "    </tr>\n",
       "    <tr>\n",
       "      <th>2</th>\n",
       "      <td>2</td>\n",
       "      <td>532.64</td>\n",
       "      <td>535.92</td>\n",
       "      <td>513.73</td>\n",
       "      <td>496.92</td>\n",
       "      <td>456.45</td>\n",
       "      <td>466.00</td>\n",
       "      <td>464.50</td>\n",
       "      <td>486.39</td>\n",
       "      <td>436.56</td>\n",
       "      <td>...</td>\n",
       "      <td>-71.69</td>\n",
       "      <td>13.31</td>\n",
       "      <td>13.31</td>\n",
       "      <td>-29.89</td>\n",
       "      <td>-20.88</td>\n",
       "      <td>5.06</td>\n",
       "      <td>-11.80</td>\n",
       "      <td>-28.91</td>\n",
       "      <td>-70.02</td>\n",
       "      <td>-96.67</td>\n",
       "    </tr>\n",
       "    <tr>\n",
       "      <th>3</th>\n",
       "      <td>2</td>\n",
       "      <td>326.52</td>\n",
       "      <td>347.39</td>\n",
       "      <td>302.35</td>\n",
       "      <td>298.13</td>\n",
       "      <td>317.74</td>\n",
       "      <td>312.70</td>\n",
       "      <td>322.33</td>\n",
       "      <td>311.31</td>\n",
       "      <td>312.42</td>\n",
       "      <td>...</td>\n",
       "      <td>5.71</td>\n",
       "      <td>-3.73</td>\n",
       "      <td>-3.73</td>\n",
       "      <td>30.05</td>\n",
       "      <td>20.03</td>\n",
       "      <td>-12.67</td>\n",
       "      <td>-8.77</td>\n",
       "      <td>-17.31</td>\n",
       "      <td>-17.35</td>\n",
       "      <td>13.98</td>\n",
       "    </tr>\n",
       "    <tr>\n",
       "      <th>4</th>\n",
       "      <td>2</td>\n",
       "      <td>-1107.21</td>\n",
       "      <td>-1112.59</td>\n",
       "      <td>-1118.95</td>\n",
       "      <td>-1095.10</td>\n",
       "      <td>-1057.55</td>\n",
       "      <td>-1034.48</td>\n",
       "      <td>-998.34</td>\n",
       "      <td>-1022.71</td>\n",
       "      <td>-989.57</td>\n",
       "      <td>...</td>\n",
       "      <td>-594.37</td>\n",
       "      <td>-401.66</td>\n",
       "      <td>-401.66</td>\n",
       "      <td>-357.24</td>\n",
       "      <td>-443.76</td>\n",
       "      <td>-438.54</td>\n",
       "      <td>-399.71</td>\n",
       "      <td>-384.65</td>\n",
       "      <td>-411.79</td>\n",
       "      <td>-510.54</td>\n",
       "    </tr>\n",
       "  </tbody>\n",
       "</table>\n",
       "<p>5 rows × 3198 columns</p>\n",
       "</div>"
      ],
      "text/plain": [
       "   LABEL   FLUX.1   FLUX.2   FLUX.3   FLUX.4   FLUX.5   FLUX.6  FLUX.7  \\\n",
       "0      2    93.85    83.81    20.10   -26.98   -39.56  -124.71 -135.18   \n",
       "1      2   -38.88   -33.83   -58.54   -40.09   -79.31   -72.81  -86.55   \n",
       "2      2   532.64   535.92   513.73   496.92   456.45   466.00  464.50   \n",
       "3      2   326.52   347.39   302.35   298.13   317.74   312.70  322.33   \n",
       "4      2 -1107.21 -1112.59 -1118.95 -1095.10 -1057.55 -1034.48 -998.34   \n",
       "\n",
       "    FLUX.8  FLUX.9  ...  FLUX.3188  FLUX.3189  FLUX.3190  FLUX.3191  \\\n",
       "0   -96.27  -79.89  ...     -78.07    -102.15    -102.15      25.13   \n",
       "1   -85.33  -83.97  ...      -3.28     -32.21     -32.21     -24.89   \n",
       "2   486.39  436.56  ...     -71.69      13.31      13.31     -29.89   \n",
       "3   311.31  312.42  ...       5.71      -3.73      -3.73      30.05   \n",
       "4 -1022.71 -989.57  ...    -594.37    -401.66    -401.66    -357.24   \n",
       "\n",
       "   FLUX.3192  FLUX.3193  FLUX.3194  FLUX.3195  FLUX.3196  FLUX.3197  \n",
       "0      48.57      92.54      39.32      61.42       5.08     -39.54  \n",
       "1      -4.86       0.76     -11.70       6.46      16.00      19.93  \n",
       "2     -20.88       5.06     -11.80     -28.91     -70.02     -96.67  \n",
       "3      20.03     -12.67      -8.77     -17.31     -17.35      13.98  \n",
       "4    -443.76    -438.54    -399.71    -384.65    -411.79    -510.54  \n",
       "\n",
       "[5 rows x 3198 columns]"
      ]
     },
     "execution_count": 4,
     "metadata": {},
     "output_type": "execute_result"
    }
   ],
   "source": [
    "train_d.head()"
   ]
  },
  {
   "cell_type": "code",
   "execution_count": 5,
   "id": "cbed15ab",
   "metadata": {
    "execution": {
     "iopub.execute_input": "2023-05-07T05:52:28.847112Z",
     "iopub.status.busy": "2023-05-07T05:52:28.846724Z",
     "iopub.status.idle": "2023-05-07T05:52:28.852141Z",
     "shell.execute_reply": "2023-05-07T05:52:28.851474Z"
    },
    "papermill": {
     "duration": 0.021195,
     "end_time": "2023-05-07T05:52:28.853942",
     "exception": false,
     "start_time": "2023-05-07T05:52:28.832747",
     "status": "completed"
    },
    "tags": []
   },
   "outputs": [
    {
     "data": {
      "text/plain": [
       "(5087, 3198)"
      ]
     },
     "execution_count": 5,
     "metadata": {},
     "output_type": "execute_result"
    }
   ],
   "source": [
    "train_d.shape"
   ]
  },
  {
   "cell_type": "code",
   "execution_count": 6,
   "id": "6a78bb50",
   "metadata": {
    "execution": {
     "iopub.execute_input": "2023-05-07T05:52:28.880434Z",
     "iopub.status.busy": "2023-05-07T05:52:28.879730Z",
     "iopub.status.idle": "2023-05-07T05:52:28.919707Z",
     "shell.execute_reply": "2023-05-07T05:52:28.918529Z"
    },
    "papermill": {
     "duration": 0.055918,
     "end_time": "2023-05-07T05:52:28.922190",
     "exception": false,
     "start_time": "2023-05-07T05:52:28.866272",
     "status": "completed"
    },
    "tags": []
   },
   "outputs": [
    {
     "data": {
      "text/plain": [
       "LABEL        0\n",
       "FLUX.1       0\n",
       "FLUX.2       0\n",
       "FLUX.3       0\n",
       "FLUX.4       0\n",
       "            ..\n",
       "FLUX.3193    0\n",
       "FLUX.3194    0\n",
       "FLUX.3195    0\n",
       "FLUX.3196    0\n",
       "FLUX.3197    0\n",
       "Length: 3198, dtype: int64"
      ]
     },
     "execution_count": 6,
     "metadata": {},
     "output_type": "execute_result"
    }
   ],
   "source": [
    "train_d.isnull().sum()"
   ]
  },
  {
   "cell_type": "code",
   "execution_count": 7,
   "id": "142d91b6",
   "metadata": {
    "execution": {
     "iopub.execute_input": "2023-05-07T05:52:28.949555Z",
     "iopub.status.busy": "2023-05-07T05:52:28.949159Z",
     "iopub.status.idle": "2023-05-07T05:52:28.962153Z",
     "shell.execute_reply": "2023-05-07T05:52:28.961118Z"
    },
    "papermill": {
     "duration": 0.029553,
     "end_time": "2023-05-07T05:52:28.964342",
     "exception": false,
     "start_time": "2023-05-07T05:52:28.934789",
     "status": "completed"
    },
    "tags": []
   },
   "outputs": [
    {
     "data": {
      "text/plain": [
       "1    5050\n",
       "2      37\n",
       "Name: LABEL, dtype: int64"
      ]
     },
     "execution_count": 7,
     "metadata": {},
     "output_type": "execute_result"
    }
   ],
   "source": [
    "train_d['LABEL'].value_counts()"
   ]
  },
  {
   "cell_type": "code",
   "execution_count": 8,
   "id": "bfe55d36",
   "metadata": {
    "execution": {
     "iopub.execute_input": "2023-05-07T05:52:28.991934Z",
     "iopub.status.busy": "2023-05-07T05:52:28.990731Z",
     "iopub.status.idle": "2023-05-07T05:52:28.998763Z",
     "shell.execute_reply": "2023-05-07T05:52:28.998016Z"
    },
    "papermill": {
     "duration": 0.024059,
     "end_time": "2023-05-07T05:52:29.000965",
     "exception": false,
     "start_time": "2023-05-07T05:52:28.976906",
     "status": "completed"
    },
    "tags": []
   },
   "outputs": [],
   "source": [
    "categ = {2: 1, 1: 0}\n",
    "train_d.LABEL = [categ[item] for item in train_d.LABEL]"
   ]
  },
  {
   "cell_type": "code",
   "execution_count": 9,
   "id": "c76759c2",
   "metadata": {
    "execution": {
     "iopub.execute_input": "2023-05-07T05:52:29.028117Z",
     "iopub.status.busy": "2023-05-07T05:52:29.027115Z",
     "iopub.status.idle": "2023-05-07T05:52:29.035713Z",
     "shell.execute_reply": "2023-05-07T05:52:29.034675Z"
    },
    "papermill": {
     "duration": 0.024332,
     "end_time": "2023-05-07T05:52:29.037739",
     "exception": false,
     "start_time": "2023-05-07T05:52:29.013407",
     "status": "completed"
    },
    "tags": []
   },
   "outputs": [
    {
     "data": {
      "text/plain": [
       "0    5050\n",
       "1      37\n",
       "Name: LABEL, dtype: int64"
      ]
     },
     "execution_count": 9,
     "metadata": {},
     "output_type": "execute_result"
    }
   ],
   "source": [
    "train_d['LABEL'].value_counts()"
   ]
  },
  {
   "cell_type": "code",
   "execution_count": 10,
   "id": "120cb9c8",
   "metadata": {
    "execution": {
     "iopub.execute_input": "2023-05-07T05:52:29.065165Z",
     "iopub.status.busy": "2023-05-07T05:52:29.064776Z",
     "iopub.status.idle": "2023-05-07T05:52:29.281655Z",
     "shell.execute_reply": "2023-05-07T05:52:29.280875Z"
    },
    "papermill": {
     "duration": 0.233284,
     "end_time": "2023-05-07T05:52:29.283782",
     "exception": false,
     "start_time": "2023-05-07T05:52:29.050498",
     "status": "completed"
    },
    "tags": []
   },
   "outputs": [
    {
     "data": {
      "text/plain": [
       "<AxesSubplot: xlabel='LABEL', ylabel='count'>"
      ]
     },
     "execution_count": 10,
     "metadata": {},
     "output_type": "execute_result"
    },
    {
     "data": {
      "image/png": "[encoded data removed]",
      "text/plain": [
       "<Figure size 640x480 with 1 Axes>"
      ]
     },
     "metadata": {},
     "output_type": "display_data"
    }
   ],
   "source": [
    "sns.countplot(x=train_d['LABEL'])"
   ]
  },
  {
   "cell_type": "code",
   "execution_count": 11,
   "id": "3c05bf26",
   "metadata": {
    "execution": {
     "iopub.execute_input": "2023-05-07T05:52:29.312066Z",
     "iopub.status.busy": "2023-05-07T05:52:29.311027Z",
     "iopub.status.idle": "2023-05-07T05:52:29.987973Z",
     "shell.execute_reply": "2023-05-07T05:52:29.986869Z"
    },
    "papermill": {
     "duration": 0.693639,
     "end_time": "2023-05-07T05:52:29.990263",
     "exception": false,
     "start_time": "2023-05-07T05:52:29.296624",
     "status": "completed"
    },
    "tags": []
   },
   "outputs": [
    {
     "data": {
      "text/plain": [
       "<AxesSubplot: xlabel='LABEL', ylabel='FLUX.5'>"
      ]
     },
     "execution_count": 11,
     "metadata": {},
     "output_type": "execute_result"
    },
    {
     "data": {
      "image/png": "[encoded data removed]",
      "text/plain": [
       "<Figure size 1500x600 with 5 Axes>"
      ]
     },
     "metadata": {},
     "output_type": "display_data"
    }
   ],
   "source": [
    "fig, axes = plt.subplots(1, 5,figsize=(15, 6), sharey=True)\n",
    "fig.suptitle('Distribution of FLUX')\n",
    "\n",
    "sns.boxplot(ax=axes[0], data=train_d, x='LABEL', y='FLUX.1',palette=\"Set2\")\n",
    "sns.boxplot(ax=axes[1], data=train_d, x='LABEL', y='FLUX.2',palette=\"Set2\")\n",
    "sns.boxplot(ax=axes[2], data=train_d, x='LABEL', y='FLUX.3',palette=\"Set2\")\n",
    "sns.boxplot(ax=axes[3], data=train_d, x='LABEL', y='FLUX.4',palette=\"Set2\")\n",
    "sns.boxplot(ax=axes[4], data=train_d, x='LABEL', y='FLUX.5',palette=\"Set2\")"
   ]
  },
  {
   "cell_type": "code",
   "execution_count": 12,
   "id": "b1736ab3",
   "metadata": {
    "execution": {
     "iopub.execute_input": "2023-05-07T05:52:30.020966Z",
     "iopub.status.busy": "2023-05-07T05:52:30.018810Z",
     "iopub.status.idle": "2023-05-07T05:52:30.092994Z",
     "shell.execute_reply": "2023-05-07T05:52:30.091965Z"
    },
    "papermill": {
     "duration": 0.091488,
     "end_time": "2023-05-07T05:52:30.095478",
     "exception": false,
     "start_time": "2023-05-07T05:52:30.003990",
     "status": "completed"
    },
    "tags": []
   },
   "outputs": [],
   "source": [
    "train_d.drop(train_d[train_d['FLUX.1']>250000].index, axis=0, inplace=True)"
   ]
  },
  {
   "cell_type": "code",
   "execution_count": 13,
   "id": "85d7ba80",
   "metadata": {
    "execution": {
     "iopub.execute_input": "2023-05-07T05:52:30.124837Z",
     "iopub.status.busy": "2023-05-07T05:52:30.124391Z",
     "iopub.status.idle": "2023-05-07T05:52:30.192646Z",
     "shell.execute_reply": "2023-05-07T05:52:30.191553Z"
    },
    "papermill": {
     "duration": 0.08601,
     "end_time": "2023-05-07T05:52:30.195421",
     "exception": false,
     "start_time": "2023-05-07T05:52:30.109411",
     "status": "completed"
    },
    "tags": []
   },
   "outputs": [],
   "source": [
    "x_train = train_d.drop([\"LABEL\"],axis=1)\n",
    "y_train = train_d[\"LABEL\"]"
   ]
  },
  {
   "cell_type": "code",
   "execution_count": 14,
   "id": "3a927b75",
   "metadata": {
    "execution": {
     "iopub.execute_input": "2023-05-07T05:52:30.226312Z",
     "iopub.status.busy": "2023-05-07T05:52:30.225917Z",
     "iopub.status.idle": "2023-05-07T05:52:30.671333Z",
     "shell.execute_reply": "2023-05-07T05:52:30.670204Z"
    },
    "papermill": {
     "duration": 0.463432,
     "end_time": "2023-05-07T05:52:30.673970",
     "exception": false,
     "start_time": "2023-05-07T05:52:30.210538",
     "status": "completed"
    },
    "tags": []
   },
   "outputs": [],
   "source": [
    "from scipy import ndimage\n",
    "import seaborn as sns\n",
    "from imblearn.over_sampling import SMOTE\n",
    "from sklearn.preprocessing import StandardScaler, normalize\n",
    "from sklearn.model_selection import cross_val_score, train_test_split\n",
    "from sklearn.metrics import recall_score, precision_score, classification_report,accuracy_score,confusion_matrix"
   ]
  },
  {
   "cell_type": "code",
   "execution_count": 15,
   "id": "c84f6379",
   "metadata": {
    "execution": {
     "iopub.execute_input": "2023-05-07T05:52:30.703505Z",
     "iopub.status.busy": "2023-05-07T05:52:30.703106Z",
     "iopub.status.idle": "2023-05-07T05:52:30.853345Z",
     "shell.execute_reply": "2023-05-07T05:52:30.852412Z"
    },
    "papermill": {
     "duration": 0.167839,
     "end_time": "2023-05-07T05:52:30.855851",
     "exception": false,
     "start_time": "2023-05-07T05:52:30.688012",
     "status": "completed"
    },
    "tags": []
   },
   "outputs": [],
   "source": [
    "x_train = normalized = normalize(x_train)"
   ]
  },
  {
   "cell_type": "code",
   "execution_count": 16,
   "id": "c87a5c48",
   "metadata": {
    "execution": {
     "iopub.execute_input": "2023-05-07T05:52:30.886324Z",
     "iopub.status.busy": "2023-05-07T05:52:30.885427Z",
     "iopub.status.idle": "2023-05-07T05:52:32.767328Z",
     "shell.execute_reply": "2023-05-07T05:52:32.766189Z"
    },
    "papermill": {
     "duration": 1.900299,
     "end_time": "2023-05-07T05:52:32.770258",
     "exception": false,
     "start_time": "2023-05-07T05:52:30.869959",
     "status": "completed"
    },
    "tags": []
   },
   "outputs": [],
   "source": [
    "x_train = filtered = ndimage.filters.gaussian_filter(x_train, sigma=10)"
   ]
  },
  {
   "cell_type": "code",
   "execution_count": 17,
   "id": "0791366c",
   "metadata": {
    "execution": {
     "iopub.execute_input": "2023-05-07T05:52:32.799528Z",
     "iopub.status.busy": "2023-05-07T05:52:32.799124Z",
     "iopub.status.idle": "2023-05-07T05:52:33.074329Z",
     "shell.execute_reply": "2023-05-07T05:52:33.073320Z"
    },
    "papermill": {
     "duration": 0.29266,
     "end_time": "2023-05-07T05:52:33.076856",
     "exception": false,
     "start_time": "2023-05-07T05:52:32.784196",
     "status": "completed"
    },
    "tags": []
   },
   "outputs": [],
   "source": [
    "std_scaler = StandardScaler()\n",
    "x_train = scaled = std_scaler.fit_transform(x_train)"
   ]
  },
  {
   "cell_type": "code",
   "execution_count": 18,
   "id": "4b1c45ee",
   "metadata": {
    "execution": {
     "iopub.execute_input": "2023-05-07T05:52:33.106971Z",
     "iopub.status.busy": "2023-05-07T05:52:33.105665Z",
     "iopub.status.idle": "2023-05-07T05:52:58.823656Z",
     "shell.execute_reply": "2023-05-07T05:52:58.822210Z"
    },
    "papermill": {
     "duration": 25.737159,
     "end_time": "2023-05-07T05:52:58.827879",
     "exception": false,
     "start_time": "2023-05-07T05:52:33.090720",
     "status": "completed"
    },
    "tags": []
   },
   "outputs": [
    {
     "name": "stdout",
     "output_type": "stream",
     "text": [
      "37\n"
     ]
    }
   ],
   "source": [
    "from sklearn.decomposition import PCA\n",
    "pca = PCA() \n",
    "x_train = pca.fit_transform(x_train)\n",
    "x_train = pca.transform(x_train)\n",
    "total=sum(pca.explained_variance_)\n",
    "k=0\n",
    "current_variance=0\n",
    "while current_variance/total < 0.90:\n",
    "    current_variance += pca.explained_variance_[k]\n",
    "    k=k+1\n",
    "print(k)"
   ]
  },
  {
   "cell_type": "code",
   "execution_count": 19,
   "id": "4e90bce7",
   "metadata": {
    "execution": {
     "iopub.execute_input": "2023-05-07T05:52:58.902253Z",
     "iopub.status.busy": "2023-05-07T05:52:58.901549Z",
     "iopub.status.idle": "2023-05-07T05:53:01.676194Z",
     "shell.execute_reply": "2023-05-07T05:53:01.675171Z"
    },
    "papermill": {
     "duration": 2.814585,
     "end_time": "2023-05-07T05:53:01.678493",
     "exception": false,
     "start_time": "2023-05-07T05:52:58.863908",
     "status": "completed"
    },
    "tags": []
   },
   "outputs": [
    {
     "data": {
      "image/png": "[encoded data removed]",
      "text/plain": [
       "<Figure size 640x480 with 1 Axes>"
      ]
     },
     "metadata": {},
     "output_type": "display_data"
    }
   ],
   "source": [
    "pca = PCA(n_components=37)\n",
    "x_train = pca.fit_transform(x_train)\n",
    "plt.figure()\n",
    "plt.plot(np.cumsum(pca.explained_variance_ratio_))\n",
    "plt.xlabel('Number of Components')\n",
    "plt.ylabel('Variance (%)') \n",
    "plt.title('Exoplanet Dataset Explained Variance')\n",
    "plt.show()"
   ]
  },
  {
   "cell_type": "code",
   "execution_count": 20,
   "id": "c56c0219",
   "metadata": {
    "execution": {
     "iopub.execute_input": "2023-05-07T05:53:01.709351Z",
     "iopub.status.busy": "2023-05-07T05:53:01.708934Z",
     "iopub.status.idle": "2023-05-07T05:53:03.075621Z",
     "shell.execute_reply": "2023-05-07T05:53:03.074495Z"
    },
    "papermill": {
     "duration": 1.385159,
     "end_time": "2023-05-07T05:53:03.078013",
     "exception": false,
     "start_time": "2023-05-07T05:53:01.692854",
     "status": "completed"
    },
    "tags": []
   },
   "outputs": [
    {
     "data": {
      "text/plain": [
       "<AxesSubplot: xlabel='index'>"
      ]
     },
     "execution_count": 20,
     "metadata": {},
     "output_type": "execute_result"
    },
    {
     "data": {
      "image/png": "[encoded data removed]",
      "text/plain": [
       "<Figure size 640x480 with 1 Axes>"
      ]
     },
     "metadata": {},
     "output_type": "display_data"
    }
   ],
   "source": [
    "from imblearn.over_sampling import SMOTE\n",
    "model = SMOTE()\n",
    "ov_train_x,ov_train_y = model.fit_resample(train_d.drop('LABEL',axis=1), train_d['LABEL'])\n",
    "ov_train_y = ov_train_y.astype('int')\n",
    "\n",
    "ov_train_y.value_counts().reset_index().plot(kind='bar', x='index', y='LABEL')"
   ]
  },
  {
   "cell_type": "code",
   "execution_count": 21,
   "id": "1a300ad4",
   "metadata": {
    "execution": {
     "iopub.execute_input": "2023-05-07T05:53:03.109697Z",
     "iopub.status.busy": "2023-05-07T05:53:03.108665Z",
     "iopub.status.idle": "2023-05-07T05:53:03.443221Z",
     "shell.execute_reply": "2023-05-07T05:53:03.442054Z"
    },
    "papermill": {
     "duration": 0.35304,
     "end_time": "2023-05-07T05:53:03.445766",
     "exception": false,
     "start_time": "2023-05-07T05:53:03.092726",
     "status": "completed"
    },
    "tags": []
   },
   "outputs": [],
   "source": [
    "train_X, test_X, train_y, test_y = train_test_split(ov_train_x, ov_train_y, test_size=0.33, random_state=42)"
   ]
  },
  {
   "cell_type": "code",
   "execution_count": 22,
   "id": "b64641ba",
   "metadata": {
    "execution": {
     "iopub.execute_input": "2023-05-07T05:53:03.476884Z",
     "iopub.status.busy": "2023-05-07T05:53:03.476472Z",
     "iopub.status.idle": "2023-05-07T05:53:04.353998Z",
     "shell.execute_reply": "2023-05-07T05:53:04.352903Z"
    },
    "papermill": {
     "duration": 0.895953,
     "end_time": "2023-05-07T05:53:04.356565",
     "exception": false,
     "start_time": "2023-05-07T05:53:03.460612",
     "status": "completed"
    },
    "tags": []
   },
   "outputs": [],
   "source": [
    "test_data = pd.read_csv(\"/kaggle/input/kepler-labelled-time-series-data/exoTest.csv\")"
   ]
  },
  {
   "cell_type": "code",
   "execution_count": 23,
   "id": "b5cbbc5e",
   "metadata": {
    "execution": {
     "iopub.execute_input": "2023-05-07T05:53:04.388820Z",
     "iopub.status.busy": "2023-05-07T05:53:04.387997Z",
     "iopub.status.idle": "2023-05-07T05:53:04.394146Z",
     "shell.execute_reply": "2023-05-07T05:53:04.392964Z"
    },
    "papermill": {
     "duration": 0.024508,
     "end_time": "2023-05-07T05:53:04.396644",
     "exception": false,
     "start_time": "2023-05-07T05:53:04.372136",
     "status": "completed"
    },
    "tags": []
   },
   "outputs": [],
   "source": [
    "test_data.LABEL = [categ[item] for item in test_data.LABEL]"
   ]
  },
  {
   "cell_type": "code",
   "execution_count": 24,
   "id": "8e010cd5",
   "metadata": {
    "execution": {
     "iopub.execute_input": "2023-05-07T05:53:04.427771Z",
     "iopub.status.busy": "2023-05-07T05:53:04.427406Z",
     "iopub.status.idle": "2023-05-07T05:53:04.433747Z",
     "shell.execute_reply": "2023-05-07T05:53:04.432707Z"
    },
    "papermill": {
     "duration": 0.024487,
     "end_time": "2023-05-07T05:53:04.436116",
     "exception": false,
     "start_time": "2023-05-07T05:53:04.411629",
     "status": "completed"
    },
    "tags": []
   },
   "outputs": [
    {
     "data": {
      "text/plain": [
       "(6765, 3197)"
      ]
     },
     "execution_count": 24,
     "metadata": {},
     "output_type": "execute_result"
    }
   ],
   "source": [
    "train_X.shape"
   ]
  },
  {
   "cell_type": "code",
   "execution_count": 25,
   "id": "ab670157",
   "metadata": {
    "execution": {
     "iopub.execute_input": "2023-05-07T05:53:04.467519Z",
     "iopub.status.busy": "2023-05-07T05:53:04.466763Z",
     "iopub.status.idle": "2023-05-07T05:53:04.473503Z",
     "shell.execute_reply": "2023-05-07T05:53:04.472420Z"
    },
    "papermill": {
     "duration": 0.025196,
     "end_time": "2023-05-07T05:53:04.476065",
     "exception": false,
     "start_time": "2023-05-07T05:53:04.450869",
     "status": "completed"
    },
    "tags": []
   },
   "outputs": [
    {
     "data": {
      "text/plain": [
       "(570, 3198)"
      ]
     },
     "execution_count": 25,
     "metadata": {},
     "output_type": "execute_result"
    }
   ],
   "source": [
    "test_data.shape"
   ]
  },
  {
   "cell_type": "code",
   "execution_count": 26,
   "id": "e5f19e14",
   "metadata": {
    "execution": {
     "iopub.execute_input": "2023-05-07T05:53:04.507659Z",
     "iopub.status.busy": "2023-05-07T05:53:04.507269Z",
     "iopub.status.idle": "2023-05-07T05:53:04.514184Z",
     "shell.execute_reply": "2023-05-07T05:53:04.513075Z"
    },
    "papermill": {
     "duration": 0.025113,
     "end_time": "2023-05-07T05:53:04.516346",
     "exception": false,
     "start_time": "2023-05-07T05:53:04.491233",
     "status": "completed"
    },
    "tags": []
   },
   "outputs": [
    {
     "data": {
      "text/plain": [
       "(3333, 3197)"
      ]
     },
     "execution_count": 26,
     "metadata": {},
     "output_type": "execute_result"
    }
   ],
   "source": [
    "test_X.shape"
   ]
  },
  {
   "cell_type": "code",
   "execution_count": 27,
   "id": "4107a349",
   "metadata": {
    "execution": {
     "iopub.execute_input": "2023-05-07T05:53:04.548105Z",
     "iopub.status.busy": "2023-05-07T05:53:04.547714Z",
     "iopub.status.idle": "2023-05-07T05:53:04.552573Z",
     "shell.execute_reply": "2023-05-07T05:53:04.551577Z"
    },
    "papermill": {
     "duration": 0.023479,
     "end_time": "2023-05-07T05:53:04.554715",
     "exception": false,
     "start_time": "2023-05-07T05:53:04.531236",
     "status": "completed"
    },
    "tags": []
   },
   "outputs": [],
   "source": [
    "n_features = train_X.shape[1]"
   ]
  },
  {
   "cell_type": "code",
   "execution_count": 28,
   "id": "0e1d8d45",
   "metadata": {
    "execution": {
     "iopub.execute_input": "2023-05-07T05:53:04.586558Z",
     "iopub.status.busy": "2023-05-07T05:53:04.585818Z",
     "iopub.status.idle": "2023-05-07T05:53:04.592346Z",
     "shell.execute_reply": "2023-05-07T05:53:04.591298Z"
    },
    "papermill": {
     "duration": 0.025064,
     "end_time": "2023-05-07T05:53:04.594662",
     "exception": false,
     "start_time": "2023-05-07T05:53:04.569598",
     "status": "completed"
    },
    "tags": []
   },
   "outputs": [
    {
     "data": {
      "text/plain": [
       "3197"
      ]
     },
     "execution_count": 28,
     "metadata": {},
     "output_type": "execute_result"
    }
   ],
   "source": [
    "n_features"
   ]
  },
  {
   "cell_type": "code",
   "execution_count": 29,
   "id": "69eeae2b",
   "metadata": {
    "execution": {
     "iopub.execute_input": "2023-05-07T05:53:04.627095Z",
     "iopub.status.busy": "2023-05-07T05:53:04.626263Z",
     "iopub.status.idle": "2023-05-07T05:53:04.990368Z",
     "shell.execute_reply": "2023-05-07T05:53:04.989194Z"
    },
    "papermill": {
     "duration": 0.383332,
     "end_time": "2023-05-07T05:53:04.993013",
     "exception": false,
     "start_time": "2023-05-07T05:53:04.609681",
     "status": "completed"
    },
    "tags": []
   },
   "outputs": [],
   "source": [
    "import keras\n",
    "from keras.layers import *\n",
    "from keras.models import *\n",
    "from tensorflow.keras.layers import Conv1D, MaxPooling1D, Dense, LeakyReLU\n",
    "from tensorflow.keras.layers import Flatten, Activation, BatchNormalization\n",
    "from tensorflow.keras.losses import BinaryCrossentropy\n",
    "from tensorflow.keras import layers\n",
    "import tensorflow as tf"
   ]
  },
  {
   "cell_type": "code",
   "execution_count": 30,
   "id": "77a1feb7",
   "metadata": {
    "execution": {
     "iopub.execute_input": "2023-05-07T05:53:05.025310Z",
     "iopub.status.busy": "2023-05-07T05:53:05.024905Z",
     "iopub.status.idle": "2023-05-07T05:53:05.031214Z",
     "shell.execute_reply": "2023-05-07T05:53:05.030184Z"
    },
    "papermill": {
     "duration": 0.025155,
     "end_time": "2023-05-07T05:53:05.033506",
     "exception": false,
     "start_time": "2023-05-07T05:53:05.008351",
     "status": "completed"
    },
    "tags": []
   },
   "outputs": [
    {
     "data": {
      "text/plain": [
       "(6765, 3197)"
      ]
     },
     "execution_count": 30,
     "metadata": {},
     "output_type": "execute_result"
    }
   ],
   "source": [
    "train_X.shape"
   ]
  },
  {
   "cell_type": "code",
   "execution_count": 31,
   "id": "ec2c9335",
   "metadata": {
    "execution": {
     "iopub.execute_input": "2023-05-07T05:53:05.065625Z",
     "iopub.status.busy": "2023-05-07T05:53:05.065266Z",
     "iopub.status.idle": "2023-05-07T05:53:05.071449Z",
     "shell.execute_reply": "2023-05-07T05:53:05.070454Z"
    },
    "papermill": {
     "duration": 0.02506,
     "end_time": "2023-05-07T05:53:05.073687",
     "exception": false,
     "start_time": "2023-05-07T05:53:05.048627",
     "status": "completed"
    },
    "tags": []
   },
   "outputs": [
    {
     "data": {
      "text/plain": [
       "(3197,)"
      ]
     },
     "execution_count": 31,
     "metadata": {},
     "output_type": "execute_result"
    }
   ],
   "source": [
    "train_X.shape[1:]"
   ]
  },
  {
   "cell_type": "code",
   "execution_count": null,
   "id": "9e9c630a",
   "metadata": {
    "papermill": {
     "duration": 0.014817,
     "end_time": "2023-05-07T05:53:05.103699",
     "exception": false,
     "start_time": "2023-05-07T05:53:05.088882",
     "status": "completed"
    },
    "tags": []
   },
   "outputs": [],
   "source": []
  },
  {
   "cell_type": "code",
   "execution_count": 32,
   "id": "e76802ca",
   "metadata": {
    "execution": {
     "iopub.execute_input": "2023-05-07T05:53:05.136220Z",
     "iopub.status.busy": "2023-05-07T05:53:05.135333Z",
     "iopub.status.idle": "2023-05-07T05:53:05.405181Z",
     "shell.execute_reply": "2023-05-07T05:53:05.404163Z"
    },
    "papermill": {
     "duration": 0.288855,
     "end_time": "2023-05-07T05:53:05.407724",
     "exception": false,
     "start_time": "2023-05-07T05:53:05.118869",
     "status": "completed"
    },
    "tags": []
   },
   "outputs": [],
   "source": [
    "model = Sequential()\n",
    "model.add(Conv1D(filters=16, kernel_size=2, activation='relu', input_shape=(3197,1), kernel_regularizer='l2'))\n",
    "model.add(Conv1D(filters=16, kernel_size=2, activation='relu'))\n",
    "model.add(MaxPooling1D(pool_size=2, strides=2))\n",
    "model.add(Dropout(0.2))\n",
    "model.add(Flatten())\n",
    "model.add(Dense(64, activation=\"relu\"))\n",
    "model.add(Dropout(0.4))\n",
    "model.add(Dense(48, activation=\"relu\"))\n",
    "model.add(Dense(18, activation=\"relu\"))\n",
    "model.add(Dense(1, activation=\"sigmoid\"))"
   ]
  },
  {
   "cell_type": "code",
   "execution_count": 33,
   "id": "c3341522",
   "metadata": {
    "execution": {
     "iopub.execute_input": "2023-05-07T05:53:05.440064Z",
     "iopub.status.busy": "2023-05-07T05:53:05.439635Z",
     "iopub.status.idle": "2023-05-07T05:53:05.449436Z",
     "shell.execute_reply": "2023-05-07T05:53:05.448426Z"
    },
    "papermill": {
     "duration": 0.028903,
     "end_time": "2023-05-07T05:53:05.451679",
     "exception": false,
     "start_time": "2023-05-07T05:53:05.422776",
     "status": "completed"
    },
    "tags": []
   },
   "outputs": [],
   "source": [
    "x_test, y_test = test_data.drop(columns = ['LABEL']), test_data.loc[:, 'LABEL']"
   ]
  },
  {
   "cell_type": "code",
   "execution_count": 34,
   "id": "9b8e90a9",
   "metadata": {
    "execution": {
     "iopub.execute_input": "2023-05-07T05:53:05.485080Z",
     "iopub.status.busy": "2023-05-07T05:53:05.483988Z",
     "iopub.status.idle": "2023-05-07T05:56:39.428760Z",
     "shell.execute_reply": "2023-05-07T05:56:39.427925Z"
    },
    "papermill": {
     "duration": 213.964046,
     "end_time": "2023-05-07T05:56:39.431367",
     "exception": false,
     "start_time": "2023-05-07T05:53:05.467321",
     "status": "completed"
    },
    "tags": []
   },
   "outputs": [
    {
     "name": "stdout",
     "output_type": "stream",
     "text": [
      "Epoch 1/40\n",
      "43/43 - 9s - loss: 5.2247 - accuracy: 0.5769 - val_loss: 0.6974 - val_accuracy: 0.7088 - 9s/epoch - 214ms/step\n",
      "Epoch 2/40\n",
      "43/43 - 8s - loss: 3.6417 - accuracy: 0.6578 - val_loss: 0.3661 - val_accuracy: 0.8869 - 8s/epoch - 181ms/step\n",
      "Epoch 3/40\n",
      "43/43 - 8s - loss: 1.7903 - accuracy: 0.6968 - val_loss: 0.4084 - val_accuracy: 0.8869 - 8s/epoch - 191ms/step\n",
      "Epoch 4/40\n",
      "43/43 - 8s - loss: 1.1388 - accuracy: 0.7589 - val_loss: 0.3386 - val_accuracy: 0.9047 - 8s/epoch - 180ms/step\n",
      "Epoch 5/40\n",
      "43/43 - 8s - loss: 1.0775 - accuracy: 0.7953 - val_loss: 0.3160 - val_accuracy: 0.9298 - 8s/epoch - 182ms/step\n",
      "Epoch 6/40\n",
      "43/43 - 8s - loss: 0.8150 - accuracy: 0.7973 - val_loss: 0.2599 - val_accuracy: 0.9645 - 8s/epoch - 182ms/step\n",
      "Epoch 7/40\n",
      "43/43 - 8s - loss: 0.9899 - accuracy: 0.8224 - val_loss: 0.2304 - val_accuracy: 0.9786 - 8s/epoch - 186ms/step\n",
      "Epoch 8/40\n",
      "43/43 - 8s - loss: 0.7550 - accuracy: 0.8490 - val_loss: 0.4181 - val_accuracy: 0.9734 - 8s/epoch - 181ms/step\n",
      "Epoch 9/40\n",
      "43/43 - 8s - loss: 2.3273 - accuracy: 0.8540 - val_loss: 0.2010 - val_accuracy: 0.9919 - 8s/epoch - 183ms/step\n",
      "Epoch 10/40\n",
      "43/43 - 8s - loss: 0.7755 - accuracy: 0.8605 - val_loss: 0.2377 - val_accuracy: 0.9823 - 8s/epoch - 185ms/step\n",
      "Epoch 11/40\n",
      "43/43 - 8s - loss: 0.5820 - accuracy: 0.8843 - val_loss: 0.1481 - val_accuracy: 0.9897 - 8s/epoch - 194ms/step\n",
      "Epoch 12/40\n",
      "43/43 - 8s - loss: 0.5745 - accuracy: 0.8668 - val_loss: 0.1677 - val_accuracy: 0.9926 - 8s/epoch - 182ms/step\n",
      "Epoch 13/40\n",
      "43/43 - 8s - loss: 0.4751 - accuracy: 0.9028 - val_loss: 0.1557 - val_accuracy: 0.9926 - 8s/epoch - 184ms/step\n",
      "Epoch 14/40\n",
      "43/43 - 8s - loss: 0.5250 - accuracy: 0.9015 - val_loss: 0.1241 - val_accuracy: 0.9867 - 8s/epoch - 182ms/step\n",
      "Epoch 15/40\n",
      "43/43 - 8s - loss: 0.4006 - accuracy: 0.9102 - val_loss: 0.5884 - val_accuracy: 0.9904 - 8s/epoch - 195ms/step\n",
      "Epoch 16/40\n",
      "43/43 - 8s - loss: 0.6279 - accuracy: 0.9000 - val_loss: 0.1697 - val_accuracy: 0.9601 - 8s/epoch - 183ms/step\n",
      "Epoch 17/40\n",
      "43/43 - 8s - loss: 0.5437 - accuracy: 0.9157 - val_loss: 0.3214 - val_accuracy: 0.9786 - 8s/epoch - 184ms/step\n",
      "Epoch 18/40\n",
      "43/43 - 8s - loss: 0.3571 - accuracy: 0.9254 - val_loss: 0.0894 - val_accuracy: 0.9963 - 8s/epoch - 183ms/step\n",
      "Epoch 19/40\n",
      "43/43 - 8s - loss: 0.4051 - accuracy: 0.9318 - val_loss: 0.0714 - val_accuracy: 0.9948 - 8s/epoch - 194ms/step\n",
      "Epoch 20/40\n",
      "43/43 - 8s - loss: 1.3119 - accuracy: 0.9119 - val_loss: 0.0925 - val_accuracy: 0.9904 - 8s/epoch - 182ms/step\n",
      "Epoch 21/40\n",
      "43/43 - 8s - loss: 0.5698 - accuracy: 0.8945 - val_loss: 0.1505 - val_accuracy: 0.9904 - 8s/epoch - 183ms/step\n",
      "Epoch 22/40\n",
      "43/43 - 8s - loss: 0.3434 - accuracy: 0.9244 - val_loss: 0.0907 - val_accuracy: 0.9926 - 8s/epoch - 180ms/step\n",
      "Epoch 23/40\n",
      "43/43 - 8s - loss: 0.3623 - accuracy: 0.9438 - val_loss: 0.1764 - val_accuracy: 0.9704 - 8s/epoch - 196ms/step\n",
      "Epoch 24/40\n",
      "43/43 - 8s - loss: 0.2590 - accuracy: 0.9405 - val_loss: 0.1400 - val_accuracy: 0.9948 - 8s/epoch - 185ms/step\n",
      "Epoch 25/40\n",
      "43/43 - 8s - loss: 2.5406 - accuracy: 0.9054 - val_loss: 0.4681 - val_accuracy: 0.9941 - 8s/epoch - 185ms/step\n",
      "Epoch 26/40\n",
      "43/43 - 8s - loss: 0.4252 - accuracy: 0.9433 - val_loss: 0.1369 - val_accuracy: 0.9860 - 8s/epoch - 185ms/step\n",
      "212/212 - 3s - loss: 0.0690 - accuracy: 0.9956 - 3s/epoch - 14ms/step\n",
      "105/105 - 2s - loss: 0.1173 - accuracy: 0.9946 - 2s/epoch - 16ms/step\n"
     ]
    }
   ],
   "source": [
    "from keras.optimizers import Adam\n",
    "from keras.callbacks import EarlyStopping\n",
    "from keras.models import load_model\n",
    "from itertools import chain\n",
    "model.compile(optimizer = Adam(4e-5), loss='binary_crossentropy', metrics=['accuracy'])\n",
    "\n",
    "    # Fit model\n",
    "early_stop = EarlyStopping(monitor='val_loss', patience=7, restore_best_weights=True)\n",
    "\n",
    "history = model.fit(train_X, train_y, validation_split = 0.2, batch_size=128, callbacks=[early_stop], epochs=40, verbose=2)\n",
    "\n",
    "    # Evaluate the model\n",
    "train_acc = model.evaluate(train_X, train_y, verbose=2)\n",
    "test_acc = model.evaluate(test_X, test_y, verbose=2)\n"
   ]
  },
  {
   "cell_type": "code",
   "execution_count": 35,
   "id": "1695fea8",
   "metadata": {
    "execution": {
     "iopub.execute_input": "2023-05-07T05:56:39.470025Z",
     "iopub.status.busy": "2023-05-07T05:56:39.469611Z",
     "iopub.status.idle": "2023-05-07T05:56:39.478899Z",
     "shell.execute_reply": "2023-05-07T05:56:39.477710Z"
    },
    "papermill": {
     "duration": 0.031216,
     "end_time": "2023-05-07T05:56:39.481146",
     "exception": false,
     "start_time": "2023-05-07T05:56:39.449930",
     "status": "completed"
    },
    "tags": []
   },
   "outputs": [],
   "source": [
    "def prediction_metrics(y_test, y_pred, y_class_pred, matrix):\n",
    "    FP = matrix[0][1] \n",
    "    FN = matrix[1][0]\n",
    "    TP = matrix[1][1]\n",
    "    TN = matrix[0][0]\n",
    "\n",
    "    sens = TP/(TP+FN)\n",
    "    spec = TN/(TN+FP) \n",
    "    g_mean = np.sqrt(sens * spec)\n",
    "\n",
    "    accuracy = accuracy_score(y_test, y_class_pred)\n",
    "    balanced_accuracy = balanced_accuracy_score(y_test, y_class_pred)\n",
    "    precision = precision_score(y_test, y_class_pred)\n",
    "    recall = recall_score(y_test, y_class_pred)\n",
    "    f1 = f1_score(y_test, y_class_pred)\n",
    "    auc = roc_auc_score(y_test, y_pred)\n",
    "\n",
    "    print('\\t\\t Prediction Metrics\\n')\n",
    "    print(\"Accuracy:\\t\", \"{:0.3f}\".format(accuracy))\n",
    "    print(\"Precision:\\t\", \"{:0.3f}\".format(precision))\n",
    "    print(\"Recall:\\t\\t\", \"{:0.3f}\".format(recall))\n",
    "    print(\"\\nF1 Score:\\t\", \"{:0.3f}\".format(f1))\n",
    "    print(\"ROC AUC:\\t\", \"{:0.3f}\".format(auc))\n",
    "    print(\"Balanced\\nAccuracy:\\t\", \"{:0.3f}\".format(balanced_accuracy))\n",
    "    print(\"\\nSensitivity:\\t\", \"{:0.3f}\".format(sens))\n",
    "    print(\"Specificity:\\t\", \"{:0.3f}\".format(spec))\n",
    "    print(\"Geometric Mean:\\t\", \"{:0.3f}\".format(g_mean))"
   ]
  },
  {
   "cell_type": "code",
   "execution_count": 36,
   "id": "5124cb96",
   "metadata": {
    "execution": {
     "iopub.execute_input": "2023-05-07T05:56:39.520661Z",
     "iopub.status.busy": "2023-05-07T05:56:39.519491Z",
     "iopub.status.idle": "2023-05-07T05:56:39.526604Z",
     "shell.execute_reply": "2023-05-07T05:56:39.525611Z"
    },
    "papermill": {
     "duration": 0.029026,
     "end_time": "2023-05-07T05:56:39.528940",
     "exception": false,
     "start_time": "2023-05-07T05:56:39.499914",
     "status": "completed"
    },
    "tags": []
   },
   "outputs": [],
   "source": [
    "def conf_matrix(y_test, y_pred):\n",
    "\n",
    "    matrix = confusion_matrix(y_test, y_pred)\n",
    "    df_cm = pd.DataFrame(matrix, columns=[0, 1], index = [0, 1])\n",
    "    df_cm.index.name = 'Truth'\n",
    "    df_cm.columns.name = 'Predicted'\n",
    "    plt.figure(figsize = (10,7))\n",
    "    sns.set(font_scale=1.4) \n",
    "    sns.heatmap(df_cm, cmap=\"BuGn\", annot=True, annot_kws={\"size\": 16})\n",
    "    plt.show()\n",
    "    \n",
    "    return matrix"
   ]
  },
  {
   "cell_type": "code",
   "execution_count": 37,
   "id": "e11ba9e8",
   "metadata": {
    "execution": {
     "iopub.execute_input": "2023-05-07T05:56:39.568289Z",
     "iopub.status.busy": "2023-05-07T05:56:39.567918Z",
     "iopub.status.idle": "2023-05-07T05:56:39.575033Z",
     "shell.execute_reply": "2023-05-07T05:56:39.573917Z"
    },
    "papermill": {
     "duration": 0.029587,
     "end_time": "2023-05-07T05:56:39.577449",
     "exception": false,
     "start_time": "2023-05-07T05:56:39.547862",
     "status": "completed"
    },
    "tags": []
   },
   "outputs": [],
   "source": [
    "def graph_acc(history):\n",
    "    # Plot loss during training\n",
    "    plt.subplot(211)\n",
    "    plt.title('Loss')\n",
    "    plt.plot(history.history['loss'], label='train')\n",
    "    plt.plot(history.history['val_loss'], label='test')\n",
    "    plt.legend()\n",
    "\n",
    "    # Plot accuracy during training\n",
    "    plt.subplot(212)\n",
    "    plt.title('Accuracy')\n",
    "    plt.plot(history.history['accuracy'], label='train')\n",
    "    plt.plot(history.history['val_accuracy'], label='test')\n",
    "    plt.legend()\n",
    "    plt.show()"
   ]
  },
  {
   "cell_type": "code",
   "execution_count": 38,
   "id": "8bd0988c",
   "metadata": {
    "execution": {
     "iopub.execute_input": "2023-05-07T05:56:39.619045Z",
     "iopub.status.busy": "2023-05-07T05:56:39.618651Z",
     "iopub.status.idle": "2023-05-07T05:56:39.624199Z",
     "shell.execute_reply": "2023-05-07T05:56:39.623051Z"
    },
    "papermill": {
     "duration": 0.029964,
     "end_time": "2023-05-07T05:56:39.626245",
     "exception": false,
     "start_time": "2023-05-07T05:56:39.596281",
     "status": "completed"
    },
    "tags": []
   },
   "outputs": [],
   "source": [
    "from sklearn.metrics import classification_report\n",
    "from sklearn.metrics import accuracy_score\n",
    "from sklearn.metrics import balanced_accuracy_score\n",
    "from sklearn.metrics import roc_auc_score\n",
    "from sklearn.metrics import precision_score\n",
    "from sklearn.metrics import recall_score\n",
    "from sklearn.metrics import f1_score"
   ]
  },
  {
   "cell_type": "code",
   "execution_count": 39,
   "id": "65aaf56b",
   "metadata": {
    "execution": {
     "iopub.execute_input": "2023-05-07T05:56:39.664624Z",
     "iopub.status.busy": "2023-05-07T05:56:39.664268Z",
     "iopub.status.idle": "2023-05-07T05:56:44.259902Z",
     "shell.execute_reply": "2023-05-07T05:56:44.258510Z"
    },
    "papermill": {
     "duration": 4.617587,
     "end_time": "2023-05-07T05:56:44.262336",
     "exception": false,
     "start_time": "2023-05-07T05:56:39.644749",
     "status": "completed"
    },
    "tags": []
   },
   "outputs": [
    {
     "name": "stdout",
     "output_type": "stream",
     "text": [
      "105/105 [==============================] - 2s 14ms/step\n",
      "105/105 [==============================] - 1s 14ms/step\n"
     ]
    },
    {
     "data": {
      "image/png": "[encoded data removed]",
      "text/plain": [
       "<Figure size 640x480 with 2 Axes>"
      ]
     },
     "metadata": {},
     "output_type": "display_data"
    },
    {
     "data": {
      "image/png": "[encoded data removed]",
      "text/plain": [
       "<Figure size 1000x700 with 2 Axes>"
      ]
     },
     "metadata": {},
     "output_type": "display_data"
    },
    {
     "name": "stdout",
     "output_type": "stream",
     "text": [
      "\t\t Prediction Metrics\n",
      "\n",
      "Accuracy:\t 0.995\n",
      "Precision:\t 0.989\n",
      "Recall:\t\t 1.000\n",
      "\n",
      "F1 Score:\t 0.994\n",
      "ROC AUC:\t 0.996\n",
      "Balanced\n",
      "Accuracy:\t 0.995\n",
      "\n",
      "Sensitivity:\t 1.000\n",
      "Specificity:\t 0.989\n",
      "Geometric Mean:\t 0.995\n"
     ]
    }
   ],
   "source": [
    "y_class_pred = (model.predict(test_X) > 0.5).astype(\"int32\")\n",
    "y_pred = model.predict(test_X)\n",
    "\n",
    "    # Accuracy graph\n",
    "graph_acc(history)\n",
    "\n",
    "    # Confustion matrix\n",
    "matrix = conf_matrix(test_y, y_class_pred)\n",
    "\n",
    "    # Metrics\n",
    "prediction_metrics(test_y, y_pred, y_class_pred, matrix)"
   ]
  },
  {
   "cell_type": "code",
   "execution_count": 40,
   "id": "48ff7aa2",
   "metadata": {
    "execution": {
     "iopub.execute_input": "2023-05-07T05:56:44.310745Z",
     "iopub.status.busy": "2023-05-07T05:56:44.310311Z",
     "iopub.status.idle": "2023-05-07T05:56:45.755216Z",
     "shell.execute_reply": "2023-05-07T05:56:45.753569Z"
    },
    "papermill": {
     "duration": 1.472063,
     "end_time": "2023-05-07T05:56:45.757671",
     "exception": false,
     "start_time": "2023-05-07T05:56:44.285608",
     "status": "completed"
    },
    "tags": []
   },
   "outputs": [
    {
     "name": "stdout",
     "output_type": "stream",
     "text": [
      "18/18 [==============================] - 0s 14ms/step\n",
      "18/18 [==============================] - 0s 14ms/step\n"
     ]
    },
    {
     "data": {
      "image/png": "[encoded data removed]",
      "text/plain": [
       "<Figure size 640x480 with 2 Axes>"
      ]
     },
     "metadata": {},
     "output_type": "display_data"
    },
    {
     "data": {
      "image/png": "[encoded data removed]",
      "text/plain": [
       "<Figure size 1000x700 with 2 Axes>"
      ]
     },
     "metadata": {},
     "output_type": "display_data"
    },
    {
     "name": "stdout",
     "output_type": "stream",
     "text": [
      "\t\t Prediction Metrics\n",
      "\n",
      "Accuracy:\t 0.991\n",
      "Precision:\t 0.500\n",
      "Recall:\t\t 0.800\n",
      "\n",
      "F1 Score:\t 0.615\n",
      "ROC AUC:\t 0.936\n",
      "Balanced\n",
      "Accuracy:\t 0.896\n",
      "\n",
      "Sensitivity:\t 0.800\n",
      "Specificity:\t 0.993\n",
      "Geometric Mean:\t 0.891\n"
     ]
    }
   ],
   "source": [
    "y_class_pred = (model.predict(x_test) > 0.5).astype(\"int32\")\n",
    "y_pred = model.predict(x_test)\n",
    "\n",
    "    # Accuracy graph\n",
    "graph_acc(history)\n",
    "\n",
    "    # Confustion matrix\n",
    "matrix = conf_matrix(y_test, y_class_pred)\n",
    "\n",
    "    # Metrics\n",
    "prediction_metrics(y_test, y_pred, y_class_pred, matrix)"
   ]
  },
  {
   "cell_type": "code",
   "execution_count": 41,
   "id": "2849c28f",
   "metadata": {
    "execution": {
     "iopub.execute_input": "2023-05-07T05:56:45.810653Z",
     "iopub.status.busy": "2023-05-07T05:56:45.810277Z",
     "iopub.status.idle": "2023-05-07T05:56:46.191616Z",
     "shell.execute_reply": "2023-05-07T05:56:46.190798Z"
    },
    "papermill": {
     "duration": 0.411216,
     "end_time": "2023-05-07T05:56:46.194122",
     "exception": false,
     "start_time": "2023-05-07T05:56:45.782906",
     "status": "completed"
    },
    "tags": []
   },
   "outputs": [],
   "source": [
    "_, accuracy = model.evaluate(x_test, y_test, batch_size=2048, verbose=0)"
   ]
  },
  {
   "cell_type": "code",
   "execution_count": 42,
   "id": "7e59e1ce",
   "metadata": {
    "execution": {
     "iopub.execute_input": "2023-05-07T05:56:46.246592Z",
     "iopub.status.busy": "2023-05-07T05:56:46.246196Z",
     "iopub.status.idle": "2023-05-07T05:56:48.207844Z",
     "shell.execute_reply": "2023-05-07T05:56:48.206644Z"
    },
    "papermill": {
     "duration": 1.991511,
     "end_time": "2023-05-07T05:56:48.210803",
     "exception": false,
     "start_time": "2023-05-07T05:56:46.219292",
     "status": "completed"
    },
    "tags": []
   },
   "outputs": [],
   "source": [
    "_, ay = model.evaluate(test_X, test_y, batch_size=2048, verbose=0)"
   ]
  },
  {
   "cell_type": "code",
   "execution_count": 43,
   "id": "e6b67239",
   "metadata": {
    "execution": {
     "iopub.execute_input": "2023-05-07T05:56:48.281730Z",
     "iopub.status.busy": "2023-05-07T05:56:48.281341Z",
     "iopub.status.idle": "2023-05-07T05:56:48.287444Z",
     "shell.execute_reply": "2023-05-07T05:56:48.286439Z"
    },
    "papermill": {
     "duration": 0.043848,
     "end_time": "2023-05-07T05:56:48.289607",
     "exception": false,
     "start_time": "2023-05-07T05:56:48.245759",
     "status": "completed"
    },
    "tags": []
   },
   "outputs": [
    {
     "data": {
      "text/plain": [
       "0.994599461555481"
      ]
     },
     "execution_count": 43,
     "metadata": {},
     "output_type": "execute_result"
    }
   ],
   "source": [
    "ay"
   ]
  },
  {
   "cell_type": "code",
   "execution_count": 44,
   "id": "29c59de0",
   "metadata": {
    "execution": {
     "iopub.execute_input": "2023-05-07T05:56:48.342462Z",
     "iopub.status.busy": "2023-05-07T05:56:48.342097Z",
     "iopub.status.idle": "2023-05-07T05:56:48.348877Z",
     "shell.execute_reply": "2023-05-07T05:56:48.347678Z"
    },
    "papermill": {
     "duration": 0.035818,
     "end_time": "2023-05-07T05:56:48.351181",
     "exception": false,
     "start_time": "2023-05-07T05:56:48.315363",
     "status": "completed"
    },
    "tags": []
   },
   "outputs": [
    {
     "data": {
      "text/plain": [
       "0.9912280440330505"
      ]
     },
     "execution_count": 44,
     "metadata": {},
     "output_type": "execute_result"
    }
   ],
   "source": [
    "accuracy"
   ]
  },
  {
   "cell_type": "code",
   "execution_count": 45,
   "id": "4f7a83b2",
   "metadata": {
    "execution": {
     "iopub.execute_input": "2023-05-07T05:56:48.406348Z",
     "iopub.status.busy": "2023-05-07T05:56:48.405952Z",
     "iopub.status.idle": "2023-05-07T05:56:48.412178Z",
     "shell.execute_reply": "2023-05-07T05:56:48.411203Z"
    },
    "papermill": {
     "duration": 0.036826,
     "end_time": "2023-05-07T05:56:48.414139",
     "exception": false,
     "start_time": "2023-05-07T05:56:48.377313",
     "status": "completed"
    },
    "tags": []
   },
   "outputs": [
    {
     "data": {
      "text/plain": [
       "99.12280440330505"
      ]
     },
     "execution_count": 45,
     "metadata": {},
     "output_type": "execute_result"
    }
   ],
   "source": [
    "score = accuracy * 100.0\n",
    "score"
   ]
  },
  {
   "cell_type": "code",
   "execution_count": 46,
   "id": "b69a2317",
   "metadata": {
    "execution": {
     "iopub.execute_input": "2023-05-07T05:56:48.467779Z",
     "iopub.status.busy": "2023-05-07T05:56:48.466656Z",
     "iopub.status.idle": "2023-05-07T05:56:48.472794Z",
     "shell.execute_reply": "2023-05-07T05:56:48.472110Z"
    },
    "papermill": {
     "duration": 0.034771,
     "end_time": "2023-05-07T05:56:48.474762",
     "exception": false,
     "start_time": "2023-05-07T05:56:48.439991",
     "status": "completed"
    },
    "tags": []
   },
   "outputs": [
    {
     "data": {
      "text/plain": [
       "(3333,)"
      ]
     },
     "execution_count": 46,
     "metadata": {},
     "output_type": "execute_result"
    }
   ],
   "source": [
    "test_y.shape"
   ]
  },
  {
   "cell_type": "code",
   "execution_count": 47,
   "id": "9686dd28",
   "metadata": {
    "execution": {
     "iopub.execute_input": "2023-05-07T05:56:48.527193Z",
     "iopub.status.busy": "2023-05-07T05:56:48.526763Z",
     "iopub.status.idle": "2023-05-07T05:56:48.877760Z",
     "shell.execute_reply": "2023-05-07T05:56:48.876812Z"
    },
    "papermill": {
     "duration": 0.380012,
     "end_time": "2023-05-07T05:56:48.880053",
     "exception": false,
     "start_time": "2023-05-07T05:56:48.500041",
     "status": "completed"
    },
    "tags": []
   },
   "outputs": [
    {
     "name": "stdout",
     "output_type": "stream",
     "text": [
      "18/18 [==============================] - 0s 13ms/step\n"
     ]
    }
   ],
   "source": [
    "pred = model.predict(x_test)"
   ]
  },
  {
   "cell_type": "code",
   "execution_count": 48,
   "id": "1132a99e",
   "metadata": {
    "execution": {
     "iopub.execute_input": "2023-05-07T05:56:48.933928Z",
     "iopub.status.busy": "2023-05-07T05:56:48.933535Z",
     "iopub.status.idle": "2023-05-07T05:56:48.948123Z",
     "shell.execute_reply": "2023-05-07T05:56:48.947072Z"
    },
    "papermill": {
     "duration": 0.044671,
     "end_time": "2023-05-07T05:56:48.950545",
     "exception": false,
     "start_time": "2023-05-07T05:56:48.905874",
     "status": "completed"
    },
    "tags": []
   },
   "outputs": [
    {
     "data": {
      "text/plain": [
       "array([[5.59790909e-01],\n",
       "       [1.00000000e+00],\n",
       "       [3.31613831e-02],\n",
       "       [6.91131294e-01],\n",
       "       [8.98792148e-01],\n",
       "       [8.07020217e-02],\n",
       "       [5.02957903e-07],\n",
       "       [1.07011758e-02],\n",
       "       [1.56370049e-06],\n",
       "       [2.90527055e-07],\n",
       "       [7.62448781e-06],\n",
       "       [3.25564553e-09],\n",
       "       [1.11347489e-01],\n",
       "       [2.72765348e-04],\n",
       "       [9.02896591e-06],\n",
       "       [5.29900491e-02],\n",
       "       [3.28055648e-05],\n",
       "       [3.57323997e-02],\n",
       "       [2.35617515e-02],\n",
       "       [2.14876086e-02],\n",
       "       [1.33499950e-01],\n",
       "       [0.00000000e+00],\n",
       "       [4.67292145e-02],\n",
       "       [8.44885036e-03],\n",
       "       [2.30767149e-02],\n",
       "       [3.61054367e-13],\n",
       "       [8.88426751e-02],\n",
       "       [3.89075547e-01],\n",
       "       [9.37648110e-08],\n",
       "       [2.72783190e-02],\n",
       "       [4.49557859e-07],\n",
       "       [1.05852321e-01],\n",
       "       [4.97998521e-02],\n",
       "       [1.03366217e-02],\n",
       "       [1.15821451e-04],\n",
       "       [2.26114629e-08],\n",
       "       [1.04256960e-05],\n",
       "       [0.00000000e+00],\n",
       "       [2.38950357e-01],\n",
       "       [1.52973880e-04],\n",
       "       [2.58425525e-09],\n",
       "       [7.74703547e-02],\n",
       "       [1.05115799e-02],\n",
       "       [9.08805532e-07],\n",
       "       [1.33904874e-01],\n",
       "       [4.64798138e-02],\n",
       "       [2.79737532e-01],\n",
       "       [5.22671603e-02],\n",
       "       [5.78784496e-02],\n",
       "       [1.67083312e-02],\n",
       "       [6.33495152e-02],\n",
       "       [0.00000000e+00],\n",
       "       [2.73963019e-06],\n",
       "       [4.83706330e-14],\n",
       "       [4.04820517e-11],\n",
       "       [5.54494411e-02],\n",
       "       [1.28272237e-04],\n",
       "       [9.13827047e-02],\n",
       "       [2.21140385e-01],\n",
       "       [6.16494802e-08],\n",
       "       [3.63411941e-02],\n",
       "       [2.75844950e-02],\n",
       "       [1.45226344e-02],\n",
       "       [4.05630800e-07],\n",
       "       [9.56439142e-34],\n",
       "       [3.06806285e-02],\n",
       "       [6.82158179e-06],\n",
       "       [1.96895151e-31],\n",
       "       [1.67729777e-05],\n",
       "       [4.02710721e-04],\n",
       "       [1.49886353e-06],\n",
       "       [9.01214592e-03],\n",
       "       [1.39422540e-04],\n",
       "       [5.12283295e-02],\n",
       "       [7.01855170e-03],\n",
       "       [0.00000000e+00],\n",
       "       [3.17984968e-02],\n",
       "       [0.00000000e+00],\n",
       "       [9.25764150e-04],\n",
       "       [4.03369740e-02],\n",
       "       [4.43428792e-02],\n",
       "       [2.13863221e-22],\n",
       "       [7.99230897e-15],\n",
       "       [1.02876447e-01],\n",
       "       [5.21315314e-21],\n",
       "       [3.32880497e-01],\n",
       "       [1.75709128e-02],\n",
       "       [0.00000000e+00],\n",
       "       [7.97234699e-02],\n",
       "       [9.99817610e-01],\n",
       "       [2.49368215e-09],\n",
       "       [2.84773748e-21],\n",
       "       [7.20825233e-03],\n",
       "       [3.04018296e-02],\n",
       "       [3.71315852e-02],\n",
       "       [9.99403149e-02],\n",
       "       [3.87074033e-05],\n",
       "       [2.50434428e-02],\n",
       "       [3.20395076e-04],\n",
       "       [9.64894593e-02],\n",
       "       [8.93905017e-05],\n",
       "       [8.89478903e-03],\n",
       "       [4.14300002e-02],\n",
       "       [5.00835540e-10],\n",
       "       [0.00000000e+00],\n",
       "       [2.43205950e-02],\n",
       "       [2.21569167e-07],\n",
       "       [5.50729856e-02],\n",
       "       [1.68325990e-01],\n",
       "       [2.95379426e-25],\n",
       "       [6.49086815e-07],\n",
       "       [1.04553294e-06],\n",
       "       [1.67534258e-02],\n",
       "       [4.99786017e-03],\n",
       "       [0.00000000e+00],\n",
       "       [1.22970538e-04],\n",
       "       [2.81910815e-08],\n",
       "       [7.04871991e-06],\n",
       "       [5.23941591e-03],\n",
       "       [6.82244264e-03],\n",
       "       [0.00000000e+00],\n",
       "       [1.24647677e-01],\n",
       "       [3.09519272e-08],\n",
       "       [1.64449140e-02],\n",
       "       [0.00000000e+00],\n",
       "       [1.76713783e-02],\n",
       "       [4.67190938e-03],\n",
       "       [2.35167681e-06],\n",
       "       [1.36641267e-08],\n",
       "       [1.52650610e-01],\n",
       "       [2.26034764e-02],\n",
       "       [3.80327867e-04],\n",
       "       [0.00000000e+00],\n",
       "       [7.84305204e-03],\n",
       "       [7.18442574e-02],\n",
       "       [8.98654200e-03],\n",
       "       [5.09588595e-22],\n",
       "       [1.09596170e-31],\n",
       "       [0.00000000e+00],\n",
       "       [0.00000000e+00],\n",
       "       [6.58845231e-02],\n",
       "       [5.58798341e-09],\n",
       "       [1.05247773e-06],\n",
       "       [1.18800394e-01],\n",
       "       [1.13556214e-01],\n",
       "       [9.67845626e-09],\n",
       "       [4.52736089e-08],\n",
       "       [0.00000000e+00],\n",
       "       [0.00000000e+00],\n",
       "       [5.97299039e-02],\n",
       "       [0.00000000e+00],\n",
       "       [4.03414965e-02],\n",
       "       [9.09120888e-02],\n",
       "       [7.01510231e-04],\n",
       "       [7.32862600e-06],\n",
       "       [7.44392946e-02],\n",
       "       [1.15193740e-01],\n",
       "       [4.23076935e-02],\n",
       "       [1.18627667e-01],\n",
       "       [7.41534308e-02],\n",
       "       [4.99440785e-06],\n",
       "       [0.00000000e+00],\n",
       "       [5.51759116e-02],\n",
       "       [1.01605065e-10],\n",
       "       [3.90115308e-20],\n",
       "       [2.29127171e-08],\n",
       "       [1.60975568e-02],\n",
       "       [1.10328877e-02],\n",
       "       [2.33275518e-02],\n",
       "       [3.77830503e-18],\n",
       "       [5.69184413e-12],\n",
       "       [5.72273791e-07],\n",
       "       [2.13825330e-02],\n",
       "       [1.79149917e-09],\n",
       "       [4.27310320e-09],\n",
       "       [8.24515106e-18],\n",
       "       [5.92549480e-02],\n",
       "       [7.46731460e-02],\n",
       "       [6.89270724e-11],\n",
       "       [9.42287020e-14],\n",
       "       [2.32724195e-09],\n",
       "       [2.55218745e-11],\n",
       "       [1.12852708e-01],\n",
       "       [1.96924788e-09],\n",
       "       [1.33177940e-08],\n",
       "       [9.32703257e-01],\n",
       "       [2.85595178e-07],\n",
       "       [1.35812373e-03],\n",
       "       [4.90977429e-02],\n",
       "       [2.00391064e-08],\n",
       "       [1.58768818e-02],\n",
       "       [4.45987053e-10],\n",
       "       [9.26971576e-16],\n",
       "       [1.13744040e-11],\n",
       "       [2.62261555e-08],\n",
       "       [6.36610650e-07],\n",
       "       [1.80844609e-02],\n",
       "       [2.78321449e-02],\n",
       "       [2.99026780e-02],\n",
       "       [3.91212279e-06],\n",
       "       [1.00192628e-05],\n",
       "       [2.94848718e-07],\n",
       "       [1.96897209e-01],\n",
       "       [9.78473425e-02],\n",
       "       [2.27462053e-02],\n",
       "       [1.08223867e-06],\n",
       "       [4.54127453e-02],\n",
       "       [5.53512690e-27],\n",
       "       [1.54437758e-02],\n",
       "       [2.42979098e-24],\n",
       "       [8.27338852e-07],\n",
       "       [1.91360395e-02],\n",
       "       [1.25236526e-01],\n",
       "       [5.20860624e-07],\n",
       "       [1.94629990e-02],\n",
       "       [6.01350889e-02],\n",
       "       [1.35208619e-12],\n",
       "       [5.05261458e-02],\n",
       "       [1.48892565e-10],\n",
       "       [1.59597725e-01],\n",
       "       [1.65797792e-10],\n",
       "       [1.40518695e-02],\n",
       "       [2.26861686e-18],\n",
       "       [1.19293913e-01],\n",
       "       [5.51276457e-07],\n",
       "       [8.69086012e-02],\n",
       "       [2.25822944e-02],\n",
       "       [5.51766098e-12],\n",
       "       [3.72033715e-02],\n",
       "       [2.13660160e-03],\n",
       "       [0.00000000e+00],\n",
       "       [3.89159545e-02],\n",
       "       [2.81941990e-08],\n",
       "       [6.88575210e-06],\n",
       "       [2.36363403e-20],\n",
       "       [2.49224842e-11],\n",
       "       [3.95082384e-02],\n",
       "       [3.62296999e-02],\n",
       "       [1.64263428e-03],\n",
       "       [9.99756232e-02],\n",
       "       [9.63148400e-02],\n",
       "       [2.20349263e-02],\n",
       "       [2.48525666e-05],\n",
       "       [2.90316362e-02],\n",
       "       [9.89469662e-02],\n",
       "       [8.21469210e-27],\n",
       "       [8.54773106e-08],\n",
       "       [1.40140951e-01],\n",
       "       [1.19577616e-01],\n",
       "       [8.92142343e-05],\n",
       "       [3.61563559e-36],\n",
       "       [0.00000000e+00],\n",
       "       [4.65001166e-03],\n",
       "       [2.13548392e-01],\n",
       "       [8.75275210e-02],\n",
       "       [9.13092226e-05],\n",
       "       [1.57124731e-08],\n",
       "       [2.58723162e-02],\n",
       "       [0.00000000e+00],\n",
       "       [1.34912714e-01],\n",
       "       [2.23983297e-04],\n",
       "       [8.04577842e-02],\n",
       "       [0.00000000e+00],\n",
       "       [9.06727202e-27],\n",
       "       [0.00000000e+00],\n",
       "       [1.72026071e-09],\n",
       "       [8.98909941e-02],\n",
       "       [2.47358781e-04],\n",
       "       [3.25483233e-01],\n",
       "       [5.23328505e-33],\n",
       "       [6.14752620e-02],\n",
       "       [1.03569242e-08],\n",
       "       [5.37210617e-05],\n",
       "       [1.30131059e-06],\n",
       "       [7.00015575e-02],\n",
       "       [3.15868072e-02],\n",
       "       [2.28634303e-08],\n",
       "       [3.94540893e-06],\n",
       "       [5.61999739e-04],\n",
       "       [1.06687501e-18],\n",
       "       [3.21523941e-19],\n",
       "       [2.40521467e-06],\n",
       "       [3.45353437e-05],\n",
       "       [2.78552616e-04],\n",
       "       [1.82443321e-01],\n",
       "       [2.00469947e-14],\n",
       "       [1.16106648e-05],\n",
       "       [3.80737984e-05],\n",
       "       [7.25870050e-05],\n",
       "       [5.37350790e-14],\n",
       "       [8.78318250e-02],\n",
       "       [1.56867077e-17],\n",
       "       [8.08427899e-07],\n",
       "       [5.67828491e-02],\n",
       "       [2.27808385e-07],\n",
       "       [6.14459161e-03],\n",
       "       [2.01819967e-05],\n",
       "       [6.03016637e-10],\n",
       "       [7.11526491e-06],\n",
       "       [8.14497322e-02],\n",
       "       [5.31135830e-11],\n",
       "       [1.30548115e-05],\n",
       "       [2.03993335e-01],\n",
       "       [3.38912085e-02],\n",
       "       [1.06519384e-10],\n",
       "       [4.19467427e-02],\n",
       "       [5.21096662e-02],\n",
       "       [1.55812846e-02],\n",
       "       [4.82111201e-02],\n",
       "       [3.13239694e-02],\n",
       "       [6.49274289e-31],\n",
       "       [2.08893493e-01],\n",
       "       [2.33620135e-22],\n",
       "       [1.35301761e-08],\n",
       "       [6.11402094e-02],\n",
       "       [6.52979165e-02],\n",
       "       [4.78822105e-02],\n",
       "       [1.37055993e-01],\n",
       "       [2.76548864e-08],\n",
       "       [3.99693876e-04],\n",
       "       [1.26002967e-01],\n",
       "       [3.96126062e-02],\n",
       "       [7.29803389e-17],\n",
       "       [1.22856152e-13],\n",
       "       [3.74543451e-04],\n",
       "       [8.53028814e-06],\n",
       "       [5.03404284e-13],\n",
       "       [6.28139898e-02],\n",
       "       [1.66234297e-08],\n",
       "       [6.16549572e-04],\n",
       "       [8.17759708e-02],\n",
       "       [6.26034439e-02],\n",
       "       [1.76861280e-20],\n",
       "       [9.56731572e-18],\n",
       "       [2.87794217e-04],\n",
       "       [5.84739298e-02],\n",
       "       [1.33653060e-02],\n",
       "       [1.70907297e-05],\n",
       "       [3.97684598e-05],\n",
       "       [1.19332300e-09],\n",
       "       [2.75849010e-10],\n",
       "       [3.81042655e-24],\n",
       "       [3.97497267e-02],\n",
       "       [2.13456295e-24],\n",
       "       [1.04918210e-13],\n",
       "       [2.15157140e-02],\n",
       "       [2.81809465e-10],\n",
       "       [7.29308214e-09],\n",
       "       [2.63016913e-02],\n",
       "       [3.17656084e-24],\n",
       "       [0.00000000e+00],\n",
       "       [1.60587072e-01],\n",
       "       [3.94309620e-17],\n",
       "       [8.28958720e-18],\n",
       "       [1.93527958e-05],\n",
       "       [1.20804563e-01],\n",
       "       [1.10480906e-02],\n",
       "       [4.14455868e-03],\n",
       "       [3.41354981e-02],\n",
       "       [3.16932611e-02],\n",
       "       [9.99979794e-01],\n",
       "       [1.12731470e-06],\n",
       "       [3.70792373e-12],\n",
       "       [1.31986089e-04],\n",
       "       [2.64285731e-08],\n",
       "       [7.63427978e-03],\n",
       "       [3.21097076e-02],\n",
       "       [3.10221361e-27],\n",
       "       [9.26832493e-26],\n",
       "       [3.95392908e-06],\n",
       "       [1.40313208e-01],\n",
       "       [2.71348637e-02],\n",
       "       [0.00000000e+00],\n",
       "       [9.54343937e-03],\n",
       "       [1.76671037e-21],\n",
       "       [7.24930242e-02],\n",
       "       [8.51685107e-02],\n",
       "       [5.93400644e-17],\n",
       "       [7.72969946e-02],\n",
       "       [1.09609887e-02],\n",
       "       [1.63603336e-01],\n",
       "       [4.39926311e-02],\n",
       "       [2.48136872e-10],\n",
       "       [2.42223177e-05],\n",
       "       [1.27502168e-02],\n",
       "       [8.34996551e-02],\n",
       "       [4.46012621e-07],\n",
       "       [3.67500839e-08],\n",
       "       [2.04391722e-02],\n",
       "       [2.21935753e-02],\n",
       "       [1.19168740e-02],\n",
       "       [8.84009451e-02],\n",
       "       [1.70450169e-03],\n",
       "       [7.65787612e-04],\n",
       "       [1.20055370e-08],\n",
       "       [2.14690535e-05],\n",
       "       [2.63786504e-09],\n",
       "       [2.16254542e-15],\n",
       "       [4.74293455e-02],\n",
       "       [2.23971960e-30],\n",
       "       [8.99139654e-26],\n",
       "       [1.09632374e-08],\n",
       "       [1.49459493e-05],\n",
       "       [2.80939821e-05],\n",
       "       [4.95411195e-02],\n",
       "       [2.33667344e-02],\n",
       "       [2.06448962e-17],\n",
       "       [5.18952822e-03],\n",
       "       [4.29899022e-02],\n",
       "       [9.19351280e-02],\n",
       "       [1.18052021e-01],\n",
       "       [7.15646446e-02],\n",
       "       [6.46668002e-02],\n",
       "       [1.17179066e-01],\n",
       "       [4.58828496e-11],\n",
       "       [1.07976188e-22],\n",
       "       [3.90661098e-02],\n",
       "       [0.00000000e+00],\n",
       "       [1.21107832e-01],\n",
       "       [0.00000000e+00],\n",
       "       [1.04286194e-01],\n",
       "       [1.10250543e-27],\n",
       "       [6.02871951e-05],\n",
       "       [1.64895670e-08],\n",
       "       [1.02038495e-01],\n",
       "       [1.14852283e-03],\n",
       "       [1.34550780e-02],\n",
       "       [1.24714524e-02],\n",
       "       [7.09618181e-02],\n",
       "       [1.35133298e-20],\n",
       "       [3.49393226e-02],\n",
       "       [5.65328123e-03],\n",
       "       [1.26681879e-01],\n",
       "       [1.59183777e-12],\n",
       "       [1.62367778e-05],\n",
       "       [4.50146906e-08],\n",
       "       [7.75491726e-10],\n",
       "       [1.00969905e-02],\n",
       "       [2.25902852e-02],\n",
       "       [3.59734669e-02],\n",
       "       [5.83614744e-02],\n",
       "       [3.48780463e-06],\n",
       "       [2.41822167e-03],\n",
       "       [1.27786873e-02],\n",
       "       [1.04469072e-10],\n",
       "       [0.00000000e+00],\n",
       "       [3.96607108e-02],\n",
       "       [2.63023487e-08],\n",
       "       [0.00000000e+00],\n",
       "       [5.78794144e-02],\n",
       "       [1.04327800e-08],\n",
       "       [2.14430736e-03],\n",
       "       [1.08816989e-01],\n",
       "       [2.59631028e-09],\n",
       "       [1.50951893e-26],\n",
       "       [3.84016987e-03],\n",
       "       [5.71065634e-12],\n",
       "       [1.17240287e-01],\n",
       "       [7.94982314e-02],\n",
       "       [0.00000000e+00],\n",
       "       [0.00000000e+00],\n",
       "       [5.19871935e-02],\n",
       "       [1.66540220e-03],\n",
       "       [1.93359173e-09],\n",
       "       [6.26906730e-13],\n",
       "       [3.77544090e-02],\n",
       "       [4.48527746e-03],\n",
       "       [2.98115890e-02],\n",
       "       [1.62605772e-26],\n",
       "       [1.33219361e-01],\n",
       "       [2.39276481e-12],\n",
       "       [5.09052916e-06],\n",
       "       [3.22828665e-02],\n",
       "       [3.69772464e-02],\n",
       "       [1.28350002e-05],\n",
       "       [6.87876046e-02],\n",
       "       [9.50276626e-06],\n",
       "       [2.80470364e-02],\n",
       "       [2.96153519e-02],\n",
       "       [1.05180247e-02],\n",
       "       [8.40188022e-07],\n",
       "       [3.15977149e-02],\n",
       "       [1.95667334e-02],\n",
       "       [5.85504286e-02],\n",
       "       [2.40804181e-02],\n",
       "       [0.00000000e+00],\n",
       "       [3.41549367e-07],\n",
       "       [9.74433541e-01],\n",
       "       [4.01545854e-12],\n",
       "       [9.60779435e-04],\n",
       "       [2.63156909e-02],\n",
       "       [6.11885302e-02],\n",
       "       [4.41405289e-02],\n",
       "       [7.93073056e-08],\n",
       "       [1.67456847e-02],\n",
       "       [4.23911340e-13],\n",
       "       [2.00423401e-07],\n",
       "       [1.19911753e-01],\n",
       "       [1.13609101e-16],\n",
       "       [4.66129407e-19],\n",
       "       [9.47075635e-02],\n",
       "       [5.28683551e-02],\n",
       "       [8.63108188e-02],\n",
       "       [7.32221734e-03],\n",
       "       [2.33459496e-03],\n",
       "       [2.47330628e-02],\n",
       "       [3.40046563e-06],\n",
       "       [1.75641212e-25],\n",
       "       [1.79851996e-14],\n",
       "       [3.71726436e-23],\n",
       "       [4.02152742e-04],\n",
       "       [5.50438792e-11],\n",
       "       [1.55264854e-01],\n",
       "       [0.00000000e+00],\n",
       "       [4.63684127e-02],\n",
       "       [6.36715442e-02],\n",
       "       [5.57571003e-12],\n",
       "       [1.83437634e-02],\n",
       "       [1.75428650e-05],\n",
       "       [3.68300852e-15],\n",
       "       [1.45401657e-07],\n",
       "       [9.81329903e-02],\n",
       "       [2.12447513e-02],\n",
       "       [1.04903961e-10],\n",
       "       [1.10278182e-01],\n",
       "       [5.12895758e-06],\n",
       "       [5.43180564e-31],\n",
       "       [8.76319559e-34],\n",
       "       [3.53315435e-02],\n",
       "       [9.38428044e-02],\n",
       "       [2.33923309e-02],\n",
       "       [5.58818325e-10],\n",
       "       [6.46952838e-02],\n",
       "       [1.52238170e-02],\n",
       "       [9.04406905e-02],\n",
       "       [4.91453278e-09],\n",
       "       [9.96644124e-02],\n",
       "       [1.59161730e-18],\n",
       "       [2.85974797e-02],\n",
       "       [3.23315202e-16],\n",
       "       [8.94390905e-06],\n",
       "       [8.52001905e-02],\n",
       "       [2.60093925e-03],\n",
       "       [1.23749468e-02],\n",
       "       [8.74592487e-09],\n",
       "       [1.03476241e-08],\n",
       "       [1.25982314e-01],\n",
       "       [1.09789260e-01],\n",
       "       [1.02424987e-01],\n",
       "       [2.93415237e-10],\n",
       "       [1.57451741e-08],\n",
       "       [2.24813819e-02],\n",
       "       [7.18412697e-02],\n",
       "       [1.45518760e-20],\n",
       "       [7.44109973e-02],\n",
       "       [2.83959307e-05],\n",
       "       [2.58927401e-02],\n",
       "       [4.86428350e-01],\n",
       "       [1.34063312e-12],\n",
       "       [3.41950962e-03],\n",
       "       [1.88994676e-01],\n",
       "       [1.43937528e-01],\n",
       "       [2.95098871e-05],\n",
       "       [2.51449347e-02],\n",
       "       [6.91059242e-16],\n",
       "       [8.35096507e-05],\n",
       "       [1.22360876e-02],\n",
       "       [1.60281174e-02],\n",
       "       [6.00071902e-12],\n",
       "       [3.12914011e-38]], dtype=float32)"
      ]
     },
     "execution_count": 48,
     "metadata": {},
     "output_type": "execute_result"
    }
   ],
   "source": [
    "pred"
   ]
  },
  {
   "cell_type": "code",
   "execution_count": 49,
   "id": "28ccdaa0",
   "metadata": {
    "execution": {
     "iopub.execute_input": "2023-05-07T05:56:49.005179Z",
     "iopub.status.busy": "2023-05-07T05:56:49.004286Z",
     "iopub.status.idle": "2023-05-07T05:56:49.011190Z",
     "shell.execute_reply": "2023-05-07T05:56:49.010242Z"
    },
    "papermill": {
     "duration": 0.036255,
     "end_time": "2023-05-07T05:56:49.013001",
     "exception": false,
     "start_time": "2023-05-07T05:56:48.976746",
     "status": "completed"
    },
    "tags": []
   },
   "outputs": [
    {
     "data": {
      "text/plain": [
       "0      1\n",
       "1      1\n",
       "2      1\n",
       "3      1\n",
       "4      1\n",
       "      ..\n",
       "565    0\n",
       "566    0\n",
       "567    0\n",
       "568    0\n",
       "569    0\n",
       "Name: LABEL, Length: 570, dtype: int64"
      ]
     },
     "execution_count": 49,
     "metadata": {},
     "output_type": "execute_result"
    }
   ],
   "source": [
    "y_test"
   ]
  },
  {
   "cell_type": "code",
   "execution_count": null,
   "id": "f23908ee",
   "metadata": {
    "papermill": {
     "duration": 0.026222,
     "end_time": "2023-05-07T05:56:49.065399",
     "exception": false,
     "start_time": "2023-05-07T05:56:49.039177",
     "status": "completed"
    },
    "tags": []
   },
   "outputs": [],
   "source": []
  },
  {
   "cell_type": "code",
   "execution_count": 50,
   "id": "b3c376f7",
   "metadata": {
    "execution": {
     "iopub.execute_input": "2023-05-07T05:56:49.120423Z",
     "iopub.status.busy": "2023-05-07T05:56:49.119873Z",
     "iopub.status.idle": "2023-05-07T05:56:49.125699Z",
     "shell.execute_reply": "2023-05-07T05:56:49.124966Z"
    },
    "papermill": {
     "duration": 0.035489,
     "end_time": "2023-05-07T05:56:49.127679",
     "exception": false,
     "start_time": "2023-05-07T05:56:49.092190",
     "status": "completed"
    },
    "tags": []
   },
   "outputs": [],
   "source": [
    "def mmodel(classifier,dtrain_x,dtrain_y,dtest_x,dtest_y):\n",
    "    classifier.fit(dtrain_x,dtrain_y)\n",
    "\n",
    "    prediction=classifier.predict(dtest_x)\n",
    "\n",
    "    print('Validation accuracy of model is', accuracy_score(prediction,dtest_y))\n",
    "    print (\"\\nClassification report :\\n\",(classification_report(dtest_y,prediction)))\n",
    "\n",
    "    plt.figure(figsize=(13,10))\n",
    "    plt.subplot(221)\n",
    "    sns.heatmap(confusion_matrix(dtest_y,prediction),annot=True,cmap=\"viridis\",fmt = \"d\",linecolor=\"k\",linewidths=3)\n",
    "    plt.title(\"CONFUSION MATRIX\",fontsize=20)"
   ]
  },
  {
   "cell_type": "code",
   "execution_count": 51,
   "id": "6eefeb23",
   "metadata": {
    "execution": {
     "iopub.execute_input": "2023-05-07T05:56:49.182895Z",
     "iopub.status.busy": "2023-05-07T05:56:49.182490Z",
     "iopub.status.idle": "2023-05-07T05:56:49.397180Z",
     "shell.execute_reply": "2023-05-07T05:56:49.396085Z"
    },
    "papermill": {
     "duration": 0.245529,
     "end_time": "2023-05-07T05:56:49.399794",
     "exception": false,
     "start_time": "2023-05-07T05:56:49.154265",
     "status": "completed"
    },
    "tags": []
   },
   "outputs": [],
   "source": [
    "from sklearn.tree import DecisionTreeClassifier\n",
    "from sklearn.linear_model import LogisticRegression\n",
    "from sklearn.svm import SVC\n",
    "from sklearn.naive_bayes import GaussianNB\n",
    "from sklearn.ensemble import RandomForestClassifier\n",
    "from xgboost import XGBClassifier\n",
    "from sklearn.neural_network import MLPClassifier\n",
    "from sklearn.compose import ColumnTransformer\n",
    "from imblearn.over_sampling import RandomOverSampler"
   ]
  },
  {
   "cell_type": "code",
   "execution_count": 52,
   "id": "d19983ea",
   "metadata": {
    "execution": {
     "iopub.execute_input": "2023-05-07T05:56:49.454789Z",
     "iopub.status.busy": "2023-05-07T05:56:49.454401Z",
     "iopub.status.idle": "2023-05-07T05:57:12.890530Z",
     "shell.execute_reply": "2023-05-07T05:57:12.889322Z"
    },
    "papermill": {
     "duration": 23.466631,
     "end_time": "2023-05-07T05:57:12.893148",
     "exception": false,
     "start_time": "2023-05-07T05:56:49.426517",
     "status": "completed"
    },
    "tags": []
   },
   "outputs": [
    {
     "name": "stdout",
     "output_type": "stream",
     "text": [
      "Validation accuracy of model is 0.9657965796579658\n",
      "\n",
      "Classification report :\n",
      "               precision    recall  f1-score   support\n",
      "\n",
      "           0       1.00      0.94      0.97      1709\n",
      "           1       0.94      1.00      0.97      1624\n",
      "\n",
      "    accuracy                           0.97      3333\n",
      "   macro avg       0.97      0.97      0.97      3333\n",
      "weighted avg       0.97      0.97      0.97      3333\n",
      "\n"
     ]
    },
    {
     "data": {
      "image/png": "[encoded data removed]",
      "text/plain": [
       "<Figure size 1300x1000 with 2 Axes>"
      ]
     },
     "metadata": {},
     "output_type": "display_data"
    }
   ],
   "source": [
    "from sklearn.tree import DecisionTreeClassifier\n",
    "ds_model = DecisionTreeClassifier(max_depth=12, random_state=13)\n",
    "mmodel(ds_model,train_X,train_y,test_X,test_y)"
   ]
  },
  {
   "cell_type": "code",
   "execution_count": 53,
   "id": "8596f8e6",
   "metadata": {
    "execution": {
     "iopub.execute_input": "2023-05-07T05:57:12.949253Z",
     "iopub.status.busy": "2023-05-07T05:57:12.948874Z",
     "iopub.status.idle": "2023-05-07T05:57:46.621106Z",
     "shell.execute_reply": "2023-05-07T05:57:46.619915Z"
    },
    "papermill": {
     "duration": 33.703244,
     "end_time": "2023-05-07T05:57:46.623437",
     "exception": false,
     "start_time": "2023-05-07T05:57:12.920193",
     "status": "completed"
    },
    "tags": []
   },
   "outputs": [
    {
     "name": "stdout",
     "output_type": "stream",
     "text": [
      "Validation accuracy of model is 0.9993999399939995\n",
      "\n",
      "Classification report :\n",
      "               precision    recall  f1-score   support\n",
      "\n",
      "           0       1.00      1.00      1.00      1709\n",
      "           1       1.00      1.00      1.00      1624\n",
      "\n",
      "    accuracy                           1.00      3333\n",
      "   macro avg       1.00      1.00      1.00      3333\n",
      "weighted avg       1.00      1.00      1.00      3333\n",
      "\n"
     ]
    },
    {
     "data": {
      "image/png": "[encoded data removed]",
      "text/plain": [
       "<Figure size 1300x1000 with 2 Axes>"
      ]
     },
     "metadata": {},
     "output_type": "display_data"
    }
   ],
   "source": [
    "mmodel(RandomForestClassifier(), train_X, train_y, test_X, test_y)"
   ]
  },
  {
   "cell_type": "code",
   "execution_count": 54,
   "id": "92bb13a8",
   "metadata": {
    "execution": {
     "iopub.execute_input": "2023-05-07T05:57:46.680294Z",
     "iopub.status.busy": "2023-05-07T05:57:46.679927Z",
     "iopub.status.idle": "2023-05-07T05:59:27.405071Z",
     "shell.execute_reply": "2023-05-07T05:59:27.403960Z"
    },
    "papermill": {
     "duration": 100.777436,
     "end_time": "2023-05-07T05:59:27.428549",
     "exception": false,
     "start_time": "2023-05-07T05:57:46.651113",
     "status": "completed"
    },
    "tags": []
   },
   "outputs": [
    {
     "name": "stdout",
     "output_type": "stream",
     "text": [
      "0.9990999099909991\n"
     ]
    }
   ],
   "source": [
    "from xgboost import XGBClassifier\n",
    "\n",
    "xgb_classifier = XGBClassifier()\n",
    "xgb_classifier.fit(train_X, train_y)\n",
    "y_pred_xgb = xgb_classifier.predict(test_X)\n",
    "accuracy_xgb = accuracy_score(test_y, y_pred_xgb)\n",
    "print(accuracy_xgb)"
   ]
  },
  {
   "cell_type": "code",
   "execution_count": null,
   "id": "fcda6380",
   "metadata": {
    "papermill": {
     "duration": 0.027468,
     "end_time": "2023-05-07T05:59:27.483756",
     "exception": false,
     "start_time": "2023-05-07T05:59:27.456288",
     "status": "completed"
    },
    "tags": []
   },
   "outputs": [],
   "source": []
  }
 ],
 "metadata": {
  "kernelspec": {
   "display_name": "Python 3",
   "language": "python",
   "name": "python3"
  },
  "language_info": {
   "codemirror_mode": {
    "name": "ipython",
    "version": 3
   },
   "file_extension": ".py",
   "mimetype": "text/x-python",
   "name": "python",
   "nbconvert_exporter": "python",
   "pygments_lexer": "ipython3",
   "version": "3.10.10"
  },
  "papermill": {
   "default_parameters": {},
   "duration": 448.743767,
   "end_time": "2023-05-07T05:59:30.944867",
   "environment_variables": {},
   "exception": null,
   "input_path": "__notebook__.ipynb",
   "output_path": "__notebook__.ipynb",
   "parameters": {},
   "start_time": "2023-05-07T05:52:02.201100",
   "version": "2.4.0"
  }
 },
 "nbformat": 4,
 "nbformat_minor": 5
}
