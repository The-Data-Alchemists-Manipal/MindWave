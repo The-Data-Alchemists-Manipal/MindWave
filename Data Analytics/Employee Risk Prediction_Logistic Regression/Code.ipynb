{
 "cells": [
  {
   "cell_type": "markdown",
   "metadata": {},
   "source": [
    "# Project: Employee Risk Prediction\n",
    "\n",
    "## Author: Manish Kumar Chintha"
   ]
  },
  {
   "cell_type": "code",
   "execution_count": 1,
   "metadata": {},
   "outputs": [],
   "source": [
    "import numpy as np \n",
    "import pandas as pd \n",
    "import tensorflow as tf\n",
    "import matplotlib.pyplot as plt\n",
    "%matplotlib inline\n",
    "from patsy import dmatrices\n",
    "import sklearn\n",
    "import seaborn as sns"
   ]
  },
  {
   "cell_type": "code",
   "execution_count": 2,
   "metadata": {},
   "outputs": [],
   "source": [
    "dataframe=pd.read_csv(\"Data.csv\")"
   ]
  },
  {
   "cell_type": "code",
   "execution_count": 3,
   "metadata": {},
   "outputs": [
    {
     "data": {
      "text/html": [
       "<div>\n",
       "<style scoped>\n",
       "    .dataframe tbody tr th:only-of-type {\n",
       "        vertical-align: middle;\n",
       "    }\n",
       "\n",
       "    .dataframe tbody tr th {\n",
       "        vertical-align: top;\n",
       "    }\n",
       "\n",
       "    .dataframe thead th {\n",
       "        text-align: right;\n",
       "    }\n",
       "</style>\n",
       "<table border=\"1\" class=\"dataframe\">\n",
       "  <thead>\n",
       "    <tr style=\"text-align: right;\">\n",
       "      <th></th>\n",
       "      <th>Age</th>\n",
       "      <th>Attrition</th>\n",
       "      <th>Department</th>\n",
       "      <th>DistanceFromHome</th>\n",
       "      <th>Education</th>\n",
       "      <th>EducationField</th>\n",
       "      <th>EnvironmentSatisfaction</th>\n",
       "      <th>JobSatisfaction</th>\n",
       "      <th>MaritalStatus</th>\n",
       "      <th>MonthlyIncome</th>\n",
       "      <th>NumCompaniesWorked</th>\n",
       "      <th>WorkLifeBalance</th>\n",
       "      <th>YearsAtCompany</th>\n",
       "    </tr>\n",
       "  </thead>\n",
       "  <tbody>\n",
       "    <tr>\n",
       "      <th>0</th>\n",
       "      <td>41</td>\n",
       "      <td>Yes</td>\n",
       "      <td>Sales</td>\n",
       "      <td>1</td>\n",
       "      <td>2</td>\n",
       "      <td>Life Sciences</td>\n",
       "      <td>2</td>\n",
       "      <td>4</td>\n",
       "      <td>Single</td>\n",
       "      <td>5993</td>\n",
       "      <td>8</td>\n",
       "      <td>1</td>\n",
       "      <td>6</td>\n",
       "    </tr>\n",
       "    <tr>\n",
       "      <th>1</th>\n",
       "      <td>49</td>\n",
       "      <td>No</td>\n",
       "      <td>Research &amp; Development</td>\n",
       "      <td>8</td>\n",
       "      <td>1</td>\n",
       "      <td>Life Sciences</td>\n",
       "      <td>3</td>\n",
       "      <td>2</td>\n",
       "      <td>Married</td>\n",
       "      <td>5130</td>\n",
       "      <td>1</td>\n",
       "      <td>3</td>\n",
       "      <td>10</td>\n",
       "    </tr>\n",
       "    <tr>\n",
       "      <th>2</th>\n",
       "      <td>37</td>\n",
       "      <td>Yes</td>\n",
       "      <td>Research &amp; Development</td>\n",
       "      <td>2</td>\n",
       "      <td>2</td>\n",
       "      <td>Other</td>\n",
       "      <td>4</td>\n",
       "      <td>3</td>\n",
       "      <td>Single</td>\n",
       "      <td>2090</td>\n",
       "      <td>6</td>\n",
       "      <td>3</td>\n",
       "      <td>0</td>\n",
       "    </tr>\n",
       "    <tr>\n",
       "      <th>3</th>\n",
       "      <td>33</td>\n",
       "      <td>No</td>\n",
       "      <td>Research &amp; Development</td>\n",
       "      <td>3</td>\n",
       "      <td>4</td>\n",
       "      <td>Life Sciences</td>\n",
       "      <td>4</td>\n",
       "      <td>3</td>\n",
       "      <td>Married</td>\n",
       "      <td>2909</td>\n",
       "      <td>1</td>\n",
       "      <td>3</td>\n",
       "      <td>8</td>\n",
       "    </tr>\n",
       "    <tr>\n",
       "      <th>4</th>\n",
       "      <td>27</td>\n",
       "      <td>No</td>\n",
       "      <td>Research &amp; Development</td>\n",
       "      <td>2</td>\n",
       "      <td>1</td>\n",
       "      <td>Medical</td>\n",
       "      <td>1</td>\n",
       "      <td>2</td>\n",
       "      <td>Married</td>\n",
       "      <td>3468</td>\n",
       "      <td>9</td>\n",
       "      <td>3</td>\n",
       "      <td>2</td>\n",
       "    </tr>\n",
       "  </tbody>\n",
       "</table>\n",
       "</div>"
      ],
      "text/plain": [
       "   Age Attrition              Department  DistanceFromHome  Education  \\\n",
       "0   41       Yes                   Sales                 1          2   \n",
       "1   49        No  Research & Development                 8          1   \n",
       "2   37       Yes  Research & Development                 2          2   \n",
       "3   33        No  Research & Development                 3          4   \n",
       "4   27        No  Research & Development                 2          1   \n",
       "\n",
       "  EducationField  EnvironmentSatisfaction  JobSatisfaction MaritalStatus  \\\n",
       "0  Life Sciences                        2                4        Single   \n",
       "1  Life Sciences                        3                2       Married   \n",
       "2          Other                        4                3        Single   \n",
       "3  Life Sciences                        4                3       Married   \n",
       "4        Medical                        1                2       Married   \n",
       "\n",
       "   MonthlyIncome  NumCompaniesWorked  WorkLifeBalance  YearsAtCompany  \n",
       "0           5993                   8                1               6  \n",
       "1           5130                   1                3              10  \n",
       "2           2090                   6                3               0  \n",
       "3           2909                   1                3               8  \n",
       "4           3468                   9                3               2  "
      ]
     },
     "execution_count": 3,
     "metadata": {},
     "output_type": "execute_result"
    }
   ],
   "source": [
    "dataframe.head()"
   ]
  },
  {
   "cell_type": "code",
   "execution_count": 4,
   "metadata": {},
   "outputs": [
    {
     "data": {
      "text/plain": [
       "2.6931972789115646"
      ]
     },
     "execution_count": 4,
     "metadata": {},
     "output_type": "execute_result"
    }
   ],
   "source": [
    "dataframe.loc[:, 'NumCompaniesWorked'].mean()\n"
   ]
  },
  {
   "cell_type": "code",
   "execution_count": 5,
   "metadata": {},
   "outputs": [
    {
     "name": "stdout",
     "output_type": "stream",
     "text": [
      "['Age' 'Attrition' 'Department' 'DistanceFromHome' 'Education'\n",
      " 'EducationField' 'EnvironmentSatisfaction' 'JobSatisfaction'\n",
      " 'MaritalStatus' 'MonthlyIncome' 'NumCompaniesWorked' 'WorkLifeBalance'\n",
      " 'YearsAtCompany']\n"
     ]
    }
   ],
   "source": [
    "names = dataframe.columns.values \n",
    "print(names)"
   ]
  },
  {
   "cell_type": "code",
   "execution_count": 6,
   "metadata": {},
   "outputs": [
    {
     "data": {
      "image/png": "[encoded data removed]",
      "text/plain": [
       "<Figure size 1000x800 with 1 Axes>"
      ]
     },
     "metadata": {},
     "output_type": "display_data"
    }
   ],
   "source": [
    "# histogram for age\n",
    "plt.figure(figsize=(10,8))\n",
    "dataframe['Age'].hist(bins=70)\n",
    "plt.title(\"Age distribution of Employees\")\n",
    "plt.xlabel(\"Age\")\n",
    "plt.ylabel(\"# of Employees\")\n",
    "plt.show()"
   ]
  },
  {
   "cell_type": "code",
   "execution_count": 7,
   "metadata": {},
   "outputs": [
    {
     "name": "stderr",
     "output_type": "stream",
     "text": [
      "C:\\Users\\Manish\\AppData\\Local\\Temp\\ipykernel_6788\\519728794.py:6: MatplotlibDeprecationWarning: The 'b' parameter of grid() has been renamed 'visible' since Matplotlib 3.5; support for the old name will be dropped two minor releases later.\n",
      "  plt.grid(b=True, which='major',axis='y')\n"
     ]
    },
    {
     "data": {
      "image/png": "[encoded data removed]",
      "text/plain": [
       "<Figure size 1400x1000 with 1 Axes>"
      ]
     },
     "metadata": {},
     "output_type": "display_data"
    }
   ],
   "source": [
    "# explore data for Attrition by Age\n",
    "plt.figure(figsize=(14,10))\n",
    "plt.scatter(dataframe.Attrition,dataframe.Age, alpha=.55)\n",
    "plt.title(\"Attrition by Age \")\n",
    "plt.ylabel(\"Age\")\n",
    "plt.grid(b=True, which='major',axis='y')\n",
    "plt.show()"
   ]
  },
  {
   "cell_type": "code",
   "execution_count": 8,
   "metadata": {},
   "outputs": [
    {
     "data": {
      "image/png": "[encoded data removed]",
      "text/plain": [
       "<Figure size 800x600 with 1 Axes>"
      ]
     },
     "metadata": {},
     "output_type": "display_data"
    }
   ],
   "source": [
    "# explore data for Left employees breakdown\n",
    "plt.figure(figsize=(8,6))\n",
    "dataframe.Attrition.value_counts().plot(kind='barh',color='blue',alpha=.65)\n",
    "plt.title(\"Attrition breakdown \")\n",
    "plt.show()"
   ]
  },
  {
   "cell_type": "code",
   "execution_count": 9,
   "metadata": {},
   "outputs": [
    {
     "data": {
      "image/png": "[encoded data removed]",
      "text/plain": [
       "<Figure size 1000x800 with 1 Axes>"
      ]
     },
     "metadata": {},
     "output_type": "display_data"
    }
   ],
   "source": [
    "# explore data for Education Field distribution\n",
    "plt.figure(figsize=(10,8))\n",
    "dataframe.EducationField.value_counts().plot(kind='barh',color='g',alpha=.65)\n",
    "plt.title(\"Education Field Distribution\")\n",
    "plt.show()"
   ]
  },
  {
   "cell_type": "code",
   "execution_count": 10,
   "metadata": {},
   "outputs": [
    {
     "data": {
      "image/png": "[encoded data removed]",
      "text/plain": [
       "<Figure size 800x600 with 1 Axes>"
      ]
     },
     "metadata": {},
     "output_type": "display_data"
    }
   ],
   "source": [
    "# explore data for Marital Status\n",
    "plt.figure(figsize=(8,6))\n",
    "dataframe.MaritalStatus.value_counts().plot(kind='bar',alpha=.5)\n",
    "plt.show()"
   ]
  },
  {
   "cell_type": "code",
   "execution_count": 11,
   "metadata": {},
   "outputs": [
    {
     "data": {
      "text/html": [
       "<div>\n",
       "<style scoped>\n",
       "    .dataframe tbody tr th:only-of-type {\n",
       "        vertical-align: middle;\n",
       "    }\n",
       "\n",
       "    .dataframe tbody tr th {\n",
       "        vertical-align: top;\n",
       "    }\n",
       "\n",
       "    .dataframe thead th {\n",
       "        text-align: right;\n",
       "    }\n",
       "</style>\n",
       "<table border=\"1\" class=\"dataframe\">\n",
       "  <thead>\n",
       "    <tr style=\"text-align: right;\">\n",
       "      <th></th>\n",
       "      <th>Age</th>\n",
       "      <th>DistanceFromHome</th>\n",
       "      <th>Education</th>\n",
       "      <th>EnvironmentSatisfaction</th>\n",
       "      <th>JobSatisfaction</th>\n",
       "      <th>MonthlyIncome</th>\n",
       "      <th>NumCompaniesWorked</th>\n",
       "      <th>WorkLifeBalance</th>\n",
       "      <th>YearsAtCompany</th>\n",
       "    </tr>\n",
       "  </thead>\n",
       "  <tbody>\n",
       "    <tr>\n",
       "      <th>count</th>\n",
       "      <td>1470.000000</td>\n",
       "      <td>1470.000000</td>\n",
       "      <td>1470.000000</td>\n",
       "      <td>1470.000000</td>\n",
       "      <td>1470.000000</td>\n",
       "      <td>1470.000000</td>\n",
       "      <td>1470.000000</td>\n",
       "      <td>1470.000000</td>\n",
       "      <td>1470.000000</td>\n",
       "    </tr>\n",
       "    <tr>\n",
       "      <th>mean</th>\n",
       "      <td>36.923810</td>\n",
       "      <td>9.192517</td>\n",
       "      <td>2.912925</td>\n",
       "      <td>2.721769</td>\n",
       "      <td>2.728571</td>\n",
       "      <td>6502.931293</td>\n",
       "      <td>2.693197</td>\n",
       "      <td>2.761224</td>\n",
       "      <td>7.008163</td>\n",
       "    </tr>\n",
       "    <tr>\n",
       "      <th>std</th>\n",
       "      <td>9.135373</td>\n",
       "      <td>8.106864</td>\n",
       "      <td>1.024165</td>\n",
       "      <td>1.093082</td>\n",
       "      <td>1.102846</td>\n",
       "      <td>4707.956783</td>\n",
       "      <td>2.498009</td>\n",
       "      <td>0.706476</td>\n",
       "      <td>6.126525</td>\n",
       "    </tr>\n",
       "    <tr>\n",
       "      <th>min</th>\n",
       "      <td>18.000000</td>\n",
       "      <td>1.000000</td>\n",
       "      <td>1.000000</td>\n",
       "      <td>1.000000</td>\n",
       "      <td>1.000000</td>\n",
       "      <td>1009.000000</td>\n",
       "      <td>0.000000</td>\n",
       "      <td>1.000000</td>\n",
       "      <td>0.000000</td>\n",
       "    </tr>\n",
       "    <tr>\n",
       "      <th>25%</th>\n",
       "      <td>30.000000</td>\n",
       "      <td>2.000000</td>\n",
       "      <td>2.000000</td>\n",
       "      <td>2.000000</td>\n",
       "      <td>2.000000</td>\n",
       "      <td>2911.000000</td>\n",
       "      <td>1.000000</td>\n",
       "      <td>2.000000</td>\n",
       "      <td>3.000000</td>\n",
       "    </tr>\n",
       "    <tr>\n",
       "      <th>50%</th>\n",
       "      <td>36.000000</td>\n",
       "      <td>7.000000</td>\n",
       "      <td>3.000000</td>\n",
       "      <td>3.000000</td>\n",
       "      <td>3.000000</td>\n",
       "      <td>4919.000000</td>\n",
       "      <td>2.000000</td>\n",
       "      <td>3.000000</td>\n",
       "      <td>5.000000</td>\n",
       "    </tr>\n",
       "    <tr>\n",
       "      <th>75%</th>\n",
       "      <td>43.000000</td>\n",
       "      <td>14.000000</td>\n",
       "      <td>4.000000</td>\n",
       "      <td>4.000000</td>\n",
       "      <td>4.000000</td>\n",
       "      <td>8379.000000</td>\n",
       "      <td>4.000000</td>\n",
       "      <td>3.000000</td>\n",
       "      <td>9.000000</td>\n",
       "    </tr>\n",
       "    <tr>\n",
       "      <th>max</th>\n",
       "      <td>60.000000</td>\n",
       "      <td>29.000000</td>\n",
       "      <td>5.000000</td>\n",
       "      <td>4.000000</td>\n",
       "      <td>4.000000</td>\n",
       "      <td>19999.000000</td>\n",
       "      <td>9.000000</td>\n",
       "      <td>4.000000</td>\n",
       "      <td>40.000000</td>\n",
       "    </tr>\n",
       "  </tbody>\n",
       "</table>\n",
       "</div>"
      ],
      "text/plain": [
       "               Age  DistanceFromHome    Education  EnvironmentSatisfaction  \\\n",
       "count  1470.000000       1470.000000  1470.000000              1470.000000   \n",
       "mean     36.923810          9.192517     2.912925                 2.721769   \n",
       "std       9.135373          8.106864     1.024165                 1.093082   \n",
       "min      18.000000          1.000000     1.000000                 1.000000   \n",
       "25%      30.000000          2.000000     2.000000                 2.000000   \n",
       "50%      36.000000          7.000000     3.000000                 3.000000   \n",
       "75%      43.000000         14.000000     4.000000                 4.000000   \n",
       "max      60.000000         29.000000     5.000000                 4.000000   \n",
       "\n",
       "       JobSatisfaction  MonthlyIncome  NumCompaniesWorked  WorkLifeBalance  \\\n",
       "count      1470.000000    1470.000000         1470.000000      1470.000000   \n",
       "mean          2.728571    6502.931293            2.693197         2.761224   \n",
       "std           1.102846    4707.956783            2.498009         0.706476   \n",
       "min           1.000000    1009.000000            0.000000         1.000000   \n",
       "25%           2.000000    2911.000000            1.000000         2.000000   \n",
       "50%           3.000000    4919.000000            2.000000         3.000000   \n",
       "75%           4.000000    8379.000000            4.000000         3.000000   \n",
       "max           4.000000   19999.000000            9.000000         4.000000   \n",
       "\n",
       "       YearsAtCompany  \n",
       "count     1470.000000  \n",
       "mean         7.008163  \n",
       "std          6.126525  \n",
       "min          0.000000  \n",
       "25%          3.000000  \n",
       "50%          5.000000  \n",
       "75%          9.000000  \n",
       "max         40.000000  "
      ]
     },
     "execution_count": 11,
     "metadata": {},
     "output_type": "execute_result"
    }
   ],
   "source": [
    "dataframe.describe()"
   ]
  },
  {
   "cell_type": "code",
   "execution_count": 12,
   "metadata": {},
   "outputs": [
    {
     "name": "stdout",
     "output_type": "stream",
     "text": [
      "<class 'pandas.core.frame.DataFrame'>\n",
      "RangeIndex: 1470 entries, 0 to 1469\n",
      "Data columns (total 13 columns):\n",
      " #   Column                   Non-Null Count  Dtype \n",
      "---  ------                   --------------  ----- \n",
      " 0   Age                      1470 non-null   int64 \n",
      " 1   Attrition                1470 non-null   object\n",
      " 2   Department               1470 non-null   object\n",
      " 3   DistanceFromHome         1470 non-null   int64 \n",
      " 4   Education                1470 non-null   int64 \n",
      " 5   EducationField           1470 non-null   object\n",
      " 6   EnvironmentSatisfaction  1470 non-null   int64 \n",
      " 7   JobSatisfaction          1470 non-null   int64 \n",
      " 8   MaritalStatus            1470 non-null   object\n",
      " 9   MonthlyIncome            1470 non-null   int64 \n",
      " 10  NumCompaniesWorked       1470 non-null   int64 \n",
      " 11  WorkLifeBalance          1470 non-null   int64 \n",
      " 12  YearsAtCompany           1470 non-null   int64 \n",
      "dtypes: int64(9), object(4)\n",
      "memory usage: 149.4+ KB\n"
     ]
    }
   ],
   "source": [
    "dataframe.info()"
   ]
  },
  {
   "cell_type": "code",
   "execution_count": 13,
   "metadata": {},
   "outputs": [
    {
     "data": {
      "text/plain": [
       "Index(['Age', 'Attrition', 'Department', 'DistanceFromHome', 'Education',\n",
       "       'EducationField', 'EnvironmentSatisfaction', 'JobSatisfaction',\n",
       "       'MaritalStatus', 'MonthlyIncome', 'NumCompaniesWorked',\n",
       "       'WorkLifeBalance', 'YearsAtCompany'],\n",
       "      dtype='object')"
      ]
     },
     "execution_count": 13,
     "metadata": {},
     "output_type": "execute_result"
    }
   ],
   "source": [
    "dataframe.columns"
   ]
  },
  {
   "cell_type": "code",
   "execution_count": 14,
   "metadata": {},
   "outputs": [
    {
     "name": "stderr",
     "output_type": "stream",
     "text": [
      "C:\\Users\\Manish\\AppData\\Local\\Temp\\ipykernel_6788\\3401367348.py:1: FutureWarning: Dropping of nuisance columns in DataFrame reductions (with 'numeric_only=None') is deprecated; in a future version this will raise TypeError.  Select only valid columns before calling the reduction.\n",
      "  dataframe.std()\n"
     ]
    },
    {
     "data": {
      "text/plain": [
       "Age                           9.135373\n",
       "DistanceFromHome              8.106864\n",
       "Education                     1.024165\n",
       "EnvironmentSatisfaction       1.093082\n",
       "JobSatisfaction               1.102846\n",
       "MonthlyIncome              4707.956783\n",
       "NumCompaniesWorked            2.498009\n",
       "WorkLifeBalance               0.706476\n",
       "YearsAtCompany                6.126525\n",
       "dtype: float64"
      ]
     },
     "execution_count": 14,
     "metadata": {},
     "output_type": "execute_result"
    }
   ],
   "source": [
    "dataframe.std()"
   ]
  },
  {
   "cell_type": "code",
   "execution_count": 15,
   "metadata": {},
   "outputs": [
    {
     "data": {
      "text/plain": [
       "No     1233\n",
       "Yes     237\n",
       "Name: Attrition, dtype: int64"
      ]
     },
     "execution_count": 15,
     "metadata": {},
     "output_type": "execute_result"
    }
   ],
   "source": [
    "dataframe['Attrition'].value_counts()"
   ]
  },
  {
   "cell_type": "code",
   "execution_count": 16,
   "metadata": {},
   "outputs": [
    {
     "data": {
      "text/plain": [
       "dtype('O')"
      ]
     },
     "execution_count": 16,
     "metadata": {},
     "output_type": "execute_result"
    }
   ],
   "source": [
    "dataframe['Attrition'].dtypes"
   ]
  },
  {
   "cell_type": "code",
   "execution_count": 17,
   "metadata": {},
   "outputs": [],
   "source": [
    "dataframe['Attrition'].replace('Yes',1, inplace=True)\n",
    "dataframe['Attrition'].replace('No',0, inplace=True)"
   ]
  },
  {
   "cell_type": "code",
   "execution_count": 18,
   "metadata": {},
   "outputs": [
    {
     "data": {
      "text/html": [
       "<div>\n",
       "<style scoped>\n",
       "    .dataframe tbody tr th:only-of-type {\n",
       "        vertical-align: middle;\n",
       "    }\n",
       "\n",
       "    .dataframe tbody tr th {\n",
       "        vertical-align: top;\n",
       "    }\n",
       "\n",
       "    .dataframe thead th {\n",
       "        text-align: right;\n",
       "    }\n",
       "</style>\n",
       "<table border=\"1\" class=\"dataframe\">\n",
       "  <thead>\n",
       "    <tr style=\"text-align: right;\">\n",
       "      <th></th>\n",
       "      <th>Age</th>\n",
       "      <th>Attrition</th>\n",
       "      <th>Department</th>\n",
       "      <th>DistanceFromHome</th>\n",
       "      <th>Education</th>\n",
       "      <th>EducationField</th>\n",
       "      <th>EnvironmentSatisfaction</th>\n",
       "      <th>JobSatisfaction</th>\n",
       "      <th>MaritalStatus</th>\n",
       "      <th>MonthlyIncome</th>\n",
       "      <th>NumCompaniesWorked</th>\n",
       "      <th>WorkLifeBalance</th>\n",
       "      <th>YearsAtCompany</th>\n",
       "    </tr>\n",
       "  </thead>\n",
       "  <tbody>\n",
       "    <tr>\n",
       "      <th>0</th>\n",
       "      <td>41</td>\n",
       "      <td>1</td>\n",
       "      <td>Sales</td>\n",
       "      <td>1</td>\n",
       "      <td>2</td>\n",
       "      <td>Life Sciences</td>\n",
       "      <td>2</td>\n",
       "      <td>4</td>\n",
       "      <td>Single</td>\n",
       "      <td>5993</td>\n",
       "      <td>8</td>\n",
       "      <td>1</td>\n",
       "      <td>6</td>\n",
       "    </tr>\n",
       "    <tr>\n",
       "      <th>1</th>\n",
       "      <td>49</td>\n",
       "      <td>0</td>\n",
       "      <td>Research &amp; Development</td>\n",
       "      <td>8</td>\n",
       "      <td>1</td>\n",
       "      <td>Life Sciences</td>\n",
       "      <td>3</td>\n",
       "      <td>2</td>\n",
       "      <td>Married</td>\n",
       "      <td>5130</td>\n",
       "      <td>1</td>\n",
       "      <td>3</td>\n",
       "      <td>10</td>\n",
       "    </tr>\n",
       "    <tr>\n",
       "      <th>2</th>\n",
       "      <td>37</td>\n",
       "      <td>1</td>\n",
       "      <td>Research &amp; Development</td>\n",
       "      <td>2</td>\n",
       "      <td>2</td>\n",
       "      <td>Other</td>\n",
       "      <td>4</td>\n",
       "      <td>3</td>\n",
       "      <td>Single</td>\n",
       "      <td>2090</td>\n",
       "      <td>6</td>\n",
       "      <td>3</td>\n",
       "      <td>0</td>\n",
       "    </tr>\n",
       "    <tr>\n",
       "      <th>3</th>\n",
       "      <td>33</td>\n",
       "      <td>0</td>\n",
       "      <td>Research &amp; Development</td>\n",
       "      <td>3</td>\n",
       "      <td>4</td>\n",
       "      <td>Life Sciences</td>\n",
       "      <td>4</td>\n",
       "      <td>3</td>\n",
       "      <td>Married</td>\n",
       "      <td>2909</td>\n",
       "      <td>1</td>\n",
       "      <td>3</td>\n",
       "      <td>8</td>\n",
       "    </tr>\n",
       "    <tr>\n",
       "      <th>4</th>\n",
       "      <td>27</td>\n",
       "      <td>0</td>\n",
       "      <td>Research &amp; Development</td>\n",
       "      <td>2</td>\n",
       "      <td>1</td>\n",
       "      <td>Medical</td>\n",
       "      <td>1</td>\n",
       "      <td>2</td>\n",
       "      <td>Married</td>\n",
       "      <td>3468</td>\n",
       "      <td>9</td>\n",
       "      <td>3</td>\n",
       "      <td>2</td>\n",
       "    </tr>\n",
       "    <tr>\n",
       "      <th>5</th>\n",
       "      <td>32</td>\n",
       "      <td>0</td>\n",
       "      <td>Research &amp; Development</td>\n",
       "      <td>2</td>\n",
       "      <td>2</td>\n",
       "      <td>Life Sciences</td>\n",
       "      <td>4</td>\n",
       "      <td>4</td>\n",
       "      <td>Single</td>\n",
       "      <td>3068</td>\n",
       "      <td>0</td>\n",
       "      <td>2</td>\n",
       "      <td>7</td>\n",
       "    </tr>\n",
       "    <tr>\n",
       "      <th>6</th>\n",
       "      <td>59</td>\n",
       "      <td>0</td>\n",
       "      <td>Research &amp; Development</td>\n",
       "      <td>3</td>\n",
       "      <td>3</td>\n",
       "      <td>Medical</td>\n",
       "      <td>3</td>\n",
       "      <td>1</td>\n",
       "      <td>Married</td>\n",
       "      <td>2670</td>\n",
       "      <td>4</td>\n",
       "      <td>2</td>\n",
       "      <td>1</td>\n",
       "    </tr>\n",
       "    <tr>\n",
       "      <th>7</th>\n",
       "      <td>30</td>\n",
       "      <td>0</td>\n",
       "      <td>Research &amp; Development</td>\n",
       "      <td>24</td>\n",
       "      <td>1</td>\n",
       "      <td>Life Sciences</td>\n",
       "      <td>4</td>\n",
       "      <td>3</td>\n",
       "      <td>Divorced</td>\n",
       "      <td>2693</td>\n",
       "      <td>1</td>\n",
       "      <td>3</td>\n",
       "      <td>1</td>\n",
       "    </tr>\n",
       "    <tr>\n",
       "      <th>8</th>\n",
       "      <td>38</td>\n",
       "      <td>0</td>\n",
       "      <td>Research &amp; Development</td>\n",
       "      <td>23</td>\n",
       "      <td>3</td>\n",
       "      <td>Life Sciences</td>\n",
       "      <td>4</td>\n",
       "      <td>3</td>\n",
       "      <td>Single</td>\n",
       "      <td>9526</td>\n",
       "      <td>0</td>\n",
       "      <td>3</td>\n",
       "      <td>9</td>\n",
       "    </tr>\n",
       "    <tr>\n",
       "      <th>9</th>\n",
       "      <td>36</td>\n",
       "      <td>0</td>\n",
       "      <td>Research &amp; Development</td>\n",
       "      <td>27</td>\n",
       "      <td>3</td>\n",
       "      <td>Medical</td>\n",
       "      <td>3</td>\n",
       "      <td>3</td>\n",
       "      <td>Married</td>\n",
       "      <td>5237</td>\n",
       "      <td>6</td>\n",
       "      <td>2</td>\n",
       "      <td>7</td>\n",
       "    </tr>\n",
       "  </tbody>\n",
       "</table>\n",
       "</div>"
      ],
      "text/plain": [
       "   Age  Attrition              Department  DistanceFromHome  Education  \\\n",
       "0   41          1                   Sales                 1          2   \n",
       "1   49          0  Research & Development                 8          1   \n",
       "2   37          1  Research & Development                 2          2   \n",
       "3   33          0  Research & Development                 3          4   \n",
       "4   27          0  Research & Development                 2          1   \n",
       "5   32          0  Research & Development                 2          2   \n",
       "6   59          0  Research & Development                 3          3   \n",
       "7   30          0  Research & Development                24          1   \n",
       "8   38          0  Research & Development                23          3   \n",
       "9   36          0  Research & Development                27          3   \n",
       "\n",
       "  EducationField  EnvironmentSatisfaction  JobSatisfaction MaritalStatus  \\\n",
       "0  Life Sciences                        2                4        Single   \n",
       "1  Life Sciences                        3                2       Married   \n",
       "2          Other                        4                3        Single   \n",
       "3  Life Sciences                        4                3       Married   \n",
       "4        Medical                        1                2       Married   \n",
       "5  Life Sciences                        4                4        Single   \n",
       "6        Medical                        3                1       Married   \n",
       "7  Life Sciences                        4                3      Divorced   \n",
       "8  Life Sciences                        4                3        Single   \n",
       "9        Medical                        3                3       Married   \n",
       "\n",
       "   MonthlyIncome  NumCompaniesWorked  WorkLifeBalance  YearsAtCompany  \n",
       "0           5993                   8                1               6  \n",
       "1           5130                   1                3              10  \n",
       "2           2090                   6                3               0  \n",
       "3           2909                   1                3               8  \n",
       "4           3468                   9                3               2  \n",
       "5           3068                   0                2               7  \n",
       "6           2670                   4                2               1  \n",
       "7           2693                   1                3               1  \n",
       "8           9526                   0                3               9  \n",
       "9           5237                   6                2               7  "
      ]
     },
     "execution_count": 18,
     "metadata": {},
     "output_type": "execute_result"
    }
   ],
   "source": [
    "dataframe.head(10)"
   ]
  },
  {
   "cell_type": "code",
   "execution_count": 19,
   "metadata": {},
   "outputs": [
    {
     "data": {
      "text/plain": [
       "0    1\n",
       "1    0\n",
       "2    1\n",
       "3    0\n",
       "4    0\n",
       "Name: Attrition, dtype: int64"
      ]
     },
     "execution_count": 19,
     "metadata": {},
     "output_type": "execute_result"
    }
   ],
   "source": [
    "# building up a logistic regression model\n",
    "X = dataframe.drop(['Attrition'],axis=1)\n",
    "X.head()\n",
    "Y = dataframe['Attrition']\n",
    "Y.head()"
   ]
  },
  {
   "cell_type": "code",
   "execution_count": 20,
   "metadata": {},
   "outputs": [],
   "source": [
    "dataframe['EducationField'].replace('Life Sciences',1, inplace=True)\n",
    "dataframe['EducationField'].replace('Medical',2, inplace=True)\n",
    "dataframe['EducationField'].replace('Marketing', 3, inplace=True)\n",
    "dataframe['EducationField'].replace('Other',4, inplace=True)\n",
    "dataframe['EducationField'].replace('Technical Degree',5, inplace=True)\n",
    "dataframe['EducationField'].replace('Human Resources', 6, inplace=True)"
   ]
  },
  {
   "cell_type": "code",
   "execution_count": 21,
   "metadata": {},
   "outputs": [
    {
     "data": {
      "text/plain": [
       "1    606\n",
       "2    464\n",
       "3    159\n",
       "5    132\n",
       "4     82\n",
       "6     27\n",
       "Name: EducationField, dtype: int64"
      ]
     },
     "execution_count": 21,
     "metadata": {},
     "output_type": "execute_result"
    }
   ],
   "source": [
    "dataframe['EducationField'].value_counts()"
   ]
  },
  {
   "cell_type": "code",
   "execution_count": 22,
   "metadata": {},
   "outputs": [
    {
     "data": {
      "image/png": "[encoded data removed]",
      "text/plain": [
       "<Figure size 1200x400 with 1 Axes>"
      ]
     },
     "metadata": {},
     "output_type": "display_data"
    }
   ],
   "source": [
    "fig_dims = (12, 4)\n",
    "fig, ax = plt.subplots(figsize=fig_dims)\n",
    "\n",
    "#ax = axis\n",
    "sns.countplot(x='Age', hue='Attrition', data = dataframe, palette=\"colorblind\", ax = ax,  edgecolor=sns.color_palette(\"dark\", n_colors = 1));\n"
   ]
  },
  {
   "cell_type": "code",
   "execution_count": 23,
   "metadata": {},
   "outputs": [
    {
     "data": {
      "text/plain": [
       "Research & Development    961\n",
       "Sales                     446\n",
       "Human Resources            63\n",
       "Name: Department, dtype: int64"
      ]
     },
     "execution_count": 23,
     "metadata": {},
     "output_type": "execute_result"
    }
   ],
   "source": [
    "dataframe['Department'].value_counts()"
   ]
  },
  {
   "cell_type": "code",
   "execution_count": 24,
   "metadata": {},
   "outputs": [],
   "source": [
    "dataframe['Department'].replace('Research & Development',1, inplace=True)\n",
    "dataframe['Department'].replace('Sales',2, inplace=True)\n",
    "dataframe['Department'].replace('Human Resources', 3, inplace=True)"
   ]
  },
  {
   "cell_type": "code",
   "execution_count": 25,
   "metadata": {},
   "outputs": [
    {
     "data": {
      "text/plain": [
       "1    961\n",
       "2    446\n",
       "3     63\n",
       "Name: Department, dtype: int64"
      ]
     },
     "execution_count": 25,
     "metadata": {},
     "output_type": "execute_result"
    }
   ],
   "source": [
    "dataframe['Department'].value_counts()"
   ]
  },
  {
   "cell_type": "code",
   "execution_count": 26,
   "metadata": {},
   "outputs": [
    {
     "data": {
      "text/plain": [
       "Married     673\n",
       "Single      470\n",
       "Divorced    327\n",
       "Name: MaritalStatus, dtype: int64"
      ]
     },
     "execution_count": 26,
     "metadata": {},
     "output_type": "execute_result"
    }
   ],
   "source": [
    "dataframe['MaritalStatus'].value_counts()"
   ]
  },
  {
   "cell_type": "code",
   "execution_count": 27,
   "metadata": {},
   "outputs": [],
   "source": [
    "dataframe['MaritalStatus'].replace('Married',1, inplace=True)\n",
    "dataframe['MaritalStatus'].replace('Single',2, inplace=True)\n",
    "dataframe['MaritalStatus'].replace('Divorced',3, inplace=True)"
   ]
  },
  {
   "cell_type": "code",
   "execution_count": 28,
   "metadata": {},
   "outputs": [
    {
     "data": {
      "text/plain": [
       "1    673\n",
       "2    470\n",
       "3    327\n",
       "Name: MaritalStatus, dtype: int64"
      ]
     },
     "execution_count": 28,
     "metadata": {},
     "output_type": "execute_result"
    }
   ],
   "source": [
    "dataframe['MaritalStatus'].value_counts()"
   ]
  },
  {
   "cell_type": "code",
   "execution_count": 30,
   "metadata": {},
   "outputs": [],
   "source": [
    "#x.columns"
   ]
  },
  {
   "cell_type": "code",
   "execution_count": 31,
   "metadata": {},
   "outputs": [],
   "source": [
    "y=dataframe['Attrition']"
   ]
  },
  {
   "cell_type": "code",
   "execution_count": 32,
   "metadata": {},
   "outputs": [
    {
     "data": {
      "text/plain": [
       "0    1\n",
       "1    0\n",
       "2    1\n",
       "3    0\n",
       "4    0\n",
       "Name: Attrition, dtype: int64"
      ]
     },
     "execution_count": 32,
     "metadata": {},
     "output_type": "execute_result"
    }
   ],
   "source": [
    "y.head()"
   ]
  },
  {
   "cell_type": "code",
   "execution_count": 33,
   "metadata": {},
   "outputs": [
    {
     "name": "stdout",
     "output_type": "stream",
     "text": [
      "Index(['Intercept', 'Age', 'Department', 'DistanceFromHome', 'Education',\n",
      "       'EducationField', 'YearsAtCompany'],\n",
      "      dtype='object')\n"
     ]
    }
   ],
   "source": [
    "y, x = dmatrices('Attrition ~ Age + Department + \\\n",
    "                  DistanceFromHome + Education + EducationField + YearsAtCompany',\n",
    "                  dataframe, return_type=\"dataframe\")\n",
    "print (x.columns)"
   ]
  },
  {
   "cell_type": "code",
   "execution_count": 34,
   "metadata": {},
   "outputs": [
    {
     "data": {
      "text/plain": [
       "False"
      ]
     },
     "execution_count": 34,
     "metadata": {},
     "output_type": "execute_result"
    }
   ],
   "source": [
    "dataframe.isnull().values.any()"
   ]
  },
  {
   "cell_type": "code",
   "execution_count": 35,
   "metadata": {},
   "outputs": [],
   "source": [
    "for column in dataframe.columns:\n",
    "    if dataframe[column].dtype == object:\n",
    "        print(str(column) + ' : ' + str(dataframe[column].unique()))\n",
    "        print(dataframe[column].value_counts())\n",
    "        print(\"_________________________________________________________________\")"
   ]
  },
  {
   "cell_type": "code",
   "execution_count": 36,
   "metadata": {},
   "outputs": [
    {
     "data": {
      "text/html": [
       "<div>\n",
       "<style scoped>\n",
       "    .dataframe tbody tr th:only-of-type {\n",
       "        vertical-align: middle;\n",
       "    }\n",
       "\n",
       "    .dataframe tbody tr th {\n",
       "        vertical-align: top;\n",
       "    }\n",
       "\n",
       "    .dataframe thead th {\n",
       "        text-align: right;\n",
       "    }\n",
       "</style>\n",
       "<table border=\"1\" class=\"dataframe\">\n",
       "  <thead>\n",
       "    <tr style=\"text-align: right;\">\n",
       "      <th></th>\n",
       "      <th>Age</th>\n",
       "      <th>Attrition</th>\n",
       "      <th>Department</th>\n",
       "      <th>DistanceFromHome</th>\n",
       "      <th>Education</th>\n",
       "      <th>EducationField</th>\n",
       "      <th>EnvironmentSatisfaction</th>\n",
       "      <th>JobSatisfaction</th>\n",
       "      <th>MaritalStatus</th>\n",
       "      <th>MonthlyIncome</th>\n",
       "      <th>NumCompaniesWorked</th>\n",
       "      <th>WorkLifeBalance</th>\n",
       "      <th>YearsAtCompany</th>\n",
       "    </tr>\n",
       "  </thead>\n",
       "  <tbody>\n",
       "    <tr>\n",
       "      <th>Age</th>\n",
       "      <td>1.000000</td>\n",
       "      <td>-0.159205</td>\n",
       "      <td>-0.007652</td>\n",
       "      <td>-0.001686</td>\n",
       "      <td>0.208034</td>\n",
       "      <td>-0.028312</td>\n",
       "      <td>0.010146</td>\n",
       "      <td>-0.004892</td>\n",
       "      <td>-0.035466</td>\n",
       "      <td>0.497855</td>\n",
       "      <td>0.299635</td>\n",
       "      <td>-0.021490</td>\n",
       "      <td>0.311309</td>\n",
       "    </tr>\n",
       "    <tr>\n",
       "      <th>Attrition</th>\n",
       "      <td>-0.159205</td>\n",
       "      <td>1.000000</td>\n",
       "      <td>0.077351</td>\n",
       "      <td>0.077924</td>\n",
       "      <td>-0.031373</td>\n",
       "      <td>0.077232</td>\n",
       "      <td>-0.103369</td>\n",
       "      <td>-0.103481</td>\n",
       "      <td>0.011195</td>\n",
       "      <td>-0.159840</td>\n",
       "      <td>0.043494</td>\n",
       "      <td>-0.063939</td>\n",
       "      <td>-0.134392</td>\n",
       "    </tr>\n",
       "    <tr>\n",
       "      <th>Department</th>\n",
       "      <td>-0.007652</td>\n",
       "      <td>0.077351</td>\n",
       "      <td>1.000000</td>\n",
       "      <td>0.002196</td>\n",
       "      <td>0.019636</td>\n",
       "      <td>0.243641</td>\n",
       "      <td>-0.026110</td>\n",
       "      <td>-0.006231</td>\n",
       "      <td>-0.030818</td>\n",
       "      <td>0.056573</td>\n",
       "      <td>-0.011261</td>\n",
       "      <td>0.075507</td>\n",
       "      <td>0.029752</td>\n",
       "    </tr>\n",
       "    <tr>\n",
       "      <th>DistanceFromHome</th>\n",
       "      <td>-0.001686</td>\n",
       "      <td>0.077924</td>\n",
       "      <td>0.002196</td>\n",
       "      <td>1.000000</td>\n",
       "      <td>0.021042</td>\n",
       "      <td>0.004815</td>\n",
       "      <td>-0.016075</td>\n",
       "      <td>-0.003669</td>\n",
       "      <td>-0.021916</td>\n",
       "      <td>-0.017014</td>\n",
       "      <td>-0.029251</td>\n",
       "      <td>-0.026556</td>\n",
       "      <td>0.009508</td>\n",
       "    </tr>\n",
       "    <tr>\n",
       "      <th>Education</th>\n",
       "      <td>0.208034</td>\n",
       "      <td>-0.031373</td>\n",
       "      <td>0.019636</td>\n",
       "      <td>0.021042</td>\n",
       "      <td>1.000000</td>\n",
       "      <td>0.018328</td>\n",
       "      <td>-0.027128</td>\n",
       "      <td>-0.011296</td>\n",
       "      <td>-0.000107</td>\n",
       "      <td>0.094961</td>\n",
       "      <td>0.126317</td>\n",
       "      <td>0.009819</td>\n",
       "      <td>0.069114</td>\n",
       "    </tr>\n",
       "    <tr>\n",
       "      <th>EducationField</th>\n",
       "      <td>-0.028312</td>\n",
       "      <td>0.077232</td>\n",
       "      <td>0.243641</td>\n",
       "      <td>0.004815</td>\n",
       "      <td>0.018328</td>\n",
       "      <td>1.000000</td>\n",
       "      <td>0.045874</td>\n",
       "      <td>-0.044336</td>\n",
       "      <td>-0.023572</td>\n",
       "      <td>-0.013640</td>\n",
       "      <td>-0.002864</td>\n",
       "      <td>0.041927</td>\n",
       "      <td>-0.018000</td>\n",
       "    </tr>\n",
       "    <tr>\n",
       "      <th>EnvironmentSatisfaction</th>\n",
       "      <td>0.010146</td>\n",
       "      <td>-0.103369</td>\n",
       "      <td>-0.026110</td>\n",
       "      <td>-0.016075</td>\n",
       "      <td>-0.027128</td>\n",
       "      <td>0.045874</td>\n",
       "      <td>1.000000</td>\n",
       "      <td>-0.006784</td>\n",
       "      <td>0.022628</td>\n",
       "      <td>-0.006259</td>\n",
       "      <td>0.012594</td>\n",
       "      <td>0.027627</td>\n",
       "      <td>0.001458</td>\n",
       "    </tr>\n",
       "    <tr>\n",
       "      <th>JobSatisfaction</th>\n",
       "      <td>-0.004892</td>\n",
       "      <td>-0.103481</td>\n",
       "      <td>-0.006231</td>\n",
       "      <td>-0.003669</td>\n",
       "      <td>-0.011296</td>\n",
       "      <td>-0.044336</td>\n",
       "      <td>-0.006784</td>\n",
       "      <td>1.000000</td>\n",
       "      <td>-0.001494</td>\n",
       "      <td>-0.007157</td>\n",
       "      <td>-0.055699</td>\n",
       "      <td>-0.019459</td>\n",
       "      <td>-0.003803</td>\n",
       "    </tr>\n",
       "    <tr>\n",
       "      <th>MaritalStatus</th>\n",
       "      <td>-0.035466</td>\n",
       "      <td>0.011195</td>\n",
       "      <td>-0.030818</td>\n",
       "      <td>-0.021916</td>\n",
       "      <td>-0.000107</td>\n",
       "      <td>-0.023572</td>\n",
       "      <td>0.022628</td>\n",
       "      <td>-0.001494</td>\n",
       "      <td>1.000000</td>\n",
       "      <td>-0.018836</td>\n",
       "      <td>0.031652</td>\n",
       "      <td>-0.000751</td>\n",
       "      <td>-0.014779</td>\n",
       "    </tr>\n",
       "    <tr>\n",
       "      <th>MonthlyIncome</th>\n",
       "      <td>0.497855</td>\n",
       "      <td>-0.159840</td>\n",
       "      <td>0.056573</td>\n",
       "      <td>-0.017014</td>\n",
       "      <td>0.094961</td>\n",
       "      <td>-0.013640</td>\n",
       "      <td>-0.006259</td>\n",
       "      <td>-0.007157</td>\n",
       "      <td>-0.018836</td>\n",
       "      <td>1.000000</td>\n",
       "      <td>0.149515</td>\n",
       "      <td>0.030683</td>\n",
       "      <td>0.514285</td>\n",
       "    </tr>\n",
       "    <tr>\n",
       "      <th>NumCompaniesWorked</th>\n",
       "      <td>0.299635</td>\n",
       "      <td>0.043494</td>\n",
       "      <td>-0.011261</td>\n",
       "      <td>-0.029251</td>\n",
       "      <td>0.126317</td>\n",
       "      <td>-0.002864</td>\n",
       "      <td>0.012594</td>\n",
       "      <td>-0.055699</td>\n",
       "      <td>0.031652</td>\n",
       "      <td>0.149515</td>\n",
       "      <td>1.000000</td>\n",
       "      <td>-0.008366</td>\n",
       "      <td>-0.118421</td>\n",
       "    </tr>\n",
       "    <tr>\n",
       "      <th>WorkLifeBalance</th>\n",
       "      <td>-0.021490</td>\n",
       "      <td>-0.063939</td>\n",
       "      <td>0.075507</td>\n",
       "      <td>-0.026556</td>\n",
       "      <td>0.009819</td>\n",
       "      <td>0.041927</td>\n",
       "      <td>0.027627</td>\n",
       "      <td>-0.019459</td>\n",
       "      <td>-0.000751</td>\n",
       "      <td>0.030683</td>\n",
       "      <td>-0.008366</td>\n",
       "      <td>1.000000</td>\n",
       "      <td>0.012089</td>\n",
       "    </tr>\n",
       "    <tr>\n",
       "      <th>YearsAtCompany</th>\n",
       "      <td>0.311309</td>\n",
       "      <td>-0.134392</td>\n",
       "      <td>0.029752</td>\n",
       "      <td>0.009508</td>\n",
       "      <td>0.069114</td>\n",
       "      <td>-0.018000</td>\n",
       "      <td>0.001458</td>\n",
       "      <td>-0.003803</td>\n",
       "      <td>-0.014779</td>\n",
       "      <td>0.514285</td>\n",
       "      <td>-0.118421</td>\n",
       "      <td>0.012089</td>\n",
       "      <td>1.000000</td>\n",
       "    </tr>\n",
       "  </tbody>\n",
       "</table>\n",
       "</div>"
      ],
      "text/plain": [
       "                              Age  Attrition  Department  DistanceFromHome  \\\n",
       "Age                      1.000000  -0.159205   -0.007652         -0.001686   \n",
       "Attrition               -0.159205   1.000000    0.077351          0.077924   \n",
       "Department              -0.007652   0.077351    1.000000          0.002196   \n",
       "DistanceFromHome        -0.001686   0.077924    0.002196          1.000000   \n",
       "Education                0.208034  -0.031373    0.019636          0.021042   \n",
       "EducationField          -0.028312   0.077232    0.243641          0.004815   \n",
       "EnvironmentSatisfaction  0.010146  -0.103369   -0.026110         -0.016075   \n",
       "JobSatisfaction         -0.004892  -0.103481   -0.006231         -0.003669   \n",
       "MaritalStatus           -0.035466   0.011195   -0.030818         -0.021916   \n",
       "MonthlyIncome            0.497855  -0.159840    0.056573         -0.017014   \n",
       "NumCompaniesWorked       0.299635   0.043494   -0.011261         -0.029251   \n",
       "WorkLifeBalance         -0.021490  -0.063939    0.075507         -0.026556   \n",
       "YearsAtCompany           0.311309  -0.134392    0.029752          0.009508   \n",
       "\n",
       "                         Education  EducationField  EnvironmentSatisfaction  \\\n",
       "Age                       0.208034       -0.028312                 0.010146   \n",
       "Attrition                -0.031373        0.077232                -0.103369   \n",
       "Department                0.019636        0.243641                -0.026110   \n",
       "DistanceFromHome          0.021042        0.004815                -0.016075   \n",
       "Education                 1.000000        0.018328                -0.027128   \n",
       "EducationField            0.018328        1.000000                 0.045874   \n",
       "EnvironmentSatisfaction  -0.027128        0.045874                 1.000000   \n",
       "JobSatisfaction          -0.011296       -0.044336                -0.006784   \n",
       "MaritalStatus            -0.000107       -0.023572                 0.022628   \n",
       "MonthlyIncome             0.094961       -0.013640                -0.006259   \n",
       "NumCompaniesWorked        0.126317       -0.002864                 0.012594   \n",
       "WorkLifeBalance           0.009819        0.041927                 0.027627   \n",
       "YearsAtCompany            0.069114       -0.018000                 0.001458   \n",
       "\n",
       "                         JobSatisfaction  MaritalStatus  MonthlyIncome  \\\n",
       "Age                            -0.004892      -0.035466       0.497855   \n",
       "Attrition                      -0.103481       0.011195      -0.159840   \n",
       "Department                     -0.006231      -0.030818       0.056573   \n",
       "DistanceFromHome               -0.003669      -0.021916      -0.017014   \n",
       "Education                      -0.011296      -0.000107       0.094961   \n",
       "EducationField                 -0.044336      -0.023572      -0.013640   \n",
       "EnvironmentSatisfaction        -0.006784       0.022628      -0.006259   \n",
       "JobSatisfaction                 1.000000      -0.001494      -0.007157   \n",
       "MaritalStatus                  -0.001494       1.000000      -0.018836   \n",
       "MonthlyIncome                  -0.007157      -0.018836       1.000000   \n",
       "NumCompaniesWorked             -0.055699       0.031652       0.149515   \n",
       "WorkLifeBalance                -0.019459      -0.000751       0.030683   \n",
       "YearsAtCompany                 -0.003803      -0.014779       0.514285   \n",
       "\n",
       "                         NumCompaniesWorked  WorkLifeBalance  YearsAtCompany  \n",
       "Age                                0.299635        -0.021490        0.311309  \n",
       "Attrition                          0.043494        -0.063939       -0.134392  \n",
       "Department                        -0.011261         0.075507        0.029752  \n",
       "DistanceFromHome                  -0.029251        -0.026556        0.009508  \n",
       "Education                          0.126317         0.009819        0.069114  \n",
       "EducationField                    -0.002864         0.041927       -0.018000  \n",
       "EnvironmentSatisfaction            0.012594         0.027627        0.001458  \n",
       "JobSatisfaction                   -0.055699        -0.019459       -0.003803  \n",
       "MaritalStatus                      0.031652        -0.000751       -0.014779  \n",
       "MonthlyIncome                      0.149515         0.030683        0.514285  \n",
       "NumCompaniesWorked                 1.000000        -0.008366       -0.118421  \n",
       "WorkLifeBalance                   -0.008366         1.000000        0.012089  \n",
       "YearsAtCompany                    -0.118421         0.012089        1.000000  "
      ]
     },
     "execution_count": 36,
     "metadata": {},
     "output_type": "execute_result"
    }
   ],
   "source": [
    "#Get the correlation of the columns\n",
    "dataframe.corr()"
   ]
  },
  {
   "cell_type": "code",
   "execution_count": 37,
   "metadata": {},
   "outputs": [
    {
     "data": {
      "text/plain": [
       "<AxesSubplot: >"
      ]
     },
     "execution_count": 37,
     "metadata": {},
     "output_type": "execute_result"
    },
    {
     "data": {
      "image/png": "[encoded data removed]",
      "text/plain": [
       "<Figure size 1400x1400 with 2 Axes>"
      ]
     },
     "metadata": {},
     "output_type": "display_data"
    }
   ],
   "source": [
    "plt.figure(figsize=(14,14))  #14in by 14in\n",
    "sns.heatmap(dataframe.corr(), annot=True, fmt='.0%')"
   ]
  },
  {
   "cell_type": "code",
   "execution_count": 38,
   "metadata": {},
   "outputs": [
    {
     "name": "stderr",
     "output_type": "stream",
     "text": [
      "C:\\Users\\Manish\\AppData\\Local\\Temp\\ipykernel_6788\\1856778061.py:4: DeprecationWarning: Converting `np.inexact` or `np.floating` to a dtype is deprecated. The current result is `float64` which is not strictly correct.\n",
      "  if dataframe[column].dtype == np.number:\n"
     ]
    }
   ],
   "source": [
    "from sklearn.preprocessing import LabelEncoder\n",
    "\n",
    "for column in dataframe.columns:\n",
    "        if dataframe[column].dtype == np.number:\n",
    "            continue\n",
    "        dataframe[column] = LabelEncoder().fit_transform(dataframe[column])"
   ]
  },
  {
   "cell_type": "code",
   "execution_count": 39,
   "metadata": {},
   "outputs": [
    {
     "data": {
      "text/html": [
       "<div>\n",
       "<style scoped>\n",
       "    .dataframe tbody tr th:only-of-type {\n",
       "        vertical-align: middle;\n",
       "    }\n",
       "\n",
       "    .dataframe tbody tr th {\n",
       "        vertical-align: top;\n",
       "    }\n",
       "\n",
       "    .dataframe thead th {\n",
       "        text-align: right;\n",
       "    }\n",
       "</style>\n",
       "<table border=\"1\" class=\"dataframe\">\n",
       "  <thead>\n",
       "    <tr style=\"text-align: right;\">\n",
       "      <th></th>\n",
       "      <th>Attrition</th>\n",
       "      <th>Department</th>\n",
       "      <th>DistanceFromHome</th>\n",
       "      <th>Education</th>\n",
       "      <th>EducationField</th>\n",
       "      <th>EnvironmentSatisfaction</th>\n",
       "      <th>JobSatisfaction</th>\n",
       "      <th>MaritalStatus</th>\n",
       "      <th>MonthlyIncome</th>\n",
       "      <th>NumCompaniesWorked</th>\n",
       "      <th>WorkLifeBalance</th>\n",
       "      <th>YearsAtCompany</th>\n",
       "      <th>Age_Years</th>\n",
       "    </tr>\n",
       "  </thead>\n",
       "  <tbody>\n",
       "    <tr>\n",
       "      <th>0</th>\n",
       "      <td>1</td>\n",
       "      <td>1</td>\n",
       "      <td>0</td>\n",
       "      <td>1</td>\n",
       "      <td>0</td>\n",
       "      <td>1</td>\n",
       "      <td>3</td>\n",
       "      <td>1</td>\n",
       "      <td>809</td>\n",
       "      <td>8</td>\n",
       "      <td>0</td>\n",
       "      <td>6</td>\n",
       "      <td>23</td>\n",
       "    </tr>\n",
       "    <tr>\n",
       "      <th>1</th>\n",
       "      <td>0</td>\n",
       "      <td>0</td>\n",
       "      <td>7</td>\n",
       "      <td>0</td>\n",
       "      <td>0</td>\n",
       "      <td>2</td>\n",
       "      <td>1</td>\n",
       "      <td>0</td>\n",
       "      <td>682</td>\n",
       "      <td>1</td>\n",
       "      <td>2</td>\n",
       "      <td>10</td>\n",
       "      <td>31</td>\n",
       "    </tr>\n",
       "    <tr>\n",
       "      <th>2</th>\n",
       "      <td>1</td>\n",
       "      <td>0</td>\n",
       "      <td>1</td>\n",
       "      <td>1</td>\n",
       "      <td>3</td>\n",
       "      <td>3</td>\n",
       "      <td>2</td>\n",
       "      <td>1</td>\n",
       "      <td>62</td>\n",
       "      <td>6</td>\n",
       "      <td>2</td>\n",
       "      <td>0</td>\n",
       "      <td>19</td>\n",
       "    </tr>\n",
       "    <tr>\n",
       "      <th>3</th>\n",
       "      <td>0</td>\n",
       "      <td>0</td>\n",
       "      <td>2</td>\n",
       "      <td>3</td>\n",
       "      <td>0</td>\n",
       "      <td>3</td>\n",
       "      <td>2</td>\n",
       "      <td>0</td>\n",
       "      <td>313</td>\n",
       "      <td>1</td>\n",
       "      <td>2</td>\n",
       "      <td>8</td>\n",
       "      <td>15</td>\n",
       "    </tr>\n",
       "    <tr>\n",
       "      <th>4</th>\n",
       "      <td>0</td>\n",
       "      <td>0</td>\n",
       "      <td>1</td>\n",
       "      <td>0</td>\n",
       "      <td>1</td>\n",
       "      <td>0</td>\n",
       "      <td>1</td>\n",
       "      <td>0</td>\n",
       "      <td>399</td>\n",
       "      <td>9</td>\n",
       "      <td>2</td>\n",
       "      <td>2</td>\n",
       "      <td>9</td>\n",
       "    </tr>\n",
       "    <tr>\n",
       "      <th>...</th>\n",
       "      <td>...</td>\n",
       "      <td>...</td>\n",
       "      <td>...</td>\n",
       "      <td>...</td>\n",
       "      <td>...</td>\n",
       "      <td>...</td>\n",
       "      <td>...</td>\n",
       "      <td>...</td>\n",
       "      <td>...</td>\n",
       "      <td>...</td>\n",
       "      <td>...</td>\n",
       "      <td>...</td>\n",
       "      <td>...</td>\n",
       "    </tr>\n",
       "    <tr>\n",
       "      <th>1465</th>\n",
       "      <td>0</td>\n",
       "      <td>0</td>\n",
       "      <td>22</td>\n",
       "      <td>1</td>\n",
       "      <td>1</td>\n",
       "      <td>2</td>\n",
       "      <td>3</td>\n",
       "      <td>0</td>\n",
       "      <td>210</td>\n",
       "      <td>4</td>\n",
       "      <td>2</td>\n",
       "      <td>5</td>\n",
       "      <td>18</td>\n",
       "    </tr>\n",
       "    <tr>\n",
       "      <th>1466</th>\n",
       "      <td>0</td>\n",
       "      <td>0</td>\n",
       "      <td>5</td>\n",
       "      <td>0</td>\n",
       "      <td>1</td>\n",
       "      <td>3</td>\n",
       "      <td>0</td>\n",
       "      <td>0</td>\n",
       "      <td>1070</td>\n",
       "      <td>4</td>\n",
       "      <td>2</td>\n",
       "      <td>7</td>\n",
       "      <td>21</td>\n",
       "    </tr>\n",
       "    <tr>\n",
       "      <th>1467</th>\n",
       "      <td>0</td>\n",
       "      <td>0</td>\n",
       "      <td>3</td>\n",
       "      <td>2</td>\n",
       "      <td>0</td>\n",
       "      <td>1</td>\n",
       "      <td>1</td>\n",
       "      <td>0</td>\n",
       "      <td>821</td>\n",
       "      <td>1</td>\n",
       "      <td>2</td>\n",
       "      <td>6</td>\n",
       "      <td>9</td>\n",
       "    </tr>\n",
       "    <tr>\n",
       "      <th>1468</th>\n",
       "      <td>0</td>\n",
       "      <td>1</td>\n",
       "      <td>1</td>\n",
       "      <td>2</td>\n",
       "      <td>1</td>\n",
       "      <td>3</td>\n",
       "      <td>1</td>\n",
       "      <td>0</td>\n",
       "      <td>730</td>\n",
       "      <td>2</td>\n",
       "      <td>1</td>\n",
       "      <td>9</td>\n",
       "      <td>31</td>\n",
       "    </tr>\n",
       "    <tr>\n",
       "      <th>1469</th>\n",
       "      <td>0</td>\n",
       "      <td>0</td>\n",
       "      <td>7</td>\n",
       "      <td>2</td>\n",
       "      <td>1</td>\n",
       "      <td>1</td>\n",
       "      <td>2</td>\n",
       "      <td>0</td>\n",
       "      <td>554</td>\n",
       "      <td>2</td>\n",
       "      <td>3</td>\n",
       "      <td>4</td>\n",
       "      <td>16</td>\n",
       "    </tr>\n",
       "  </tbody>\n",
       "</table>\n",
       "<p>1470 rows × 13 columns</p>\n",
       "</div>"
      ],
      "text/plain": [
       "      Attrition  Department  DistanceFromHome  Education  EducationField  \\\n",
       "0             1           1                 0          1               0   \n",
       "1             0           0                 7          0               0   \n",
       "2             1           0                 1          1               3   \n",
       "3             0           0                 2          3               0   \n",
       "4             0           0                 1          0               1   \n",
       "...         ...         ...               ...        ...             ...   \n",
       "1465          0           0                22          1               1   \n",
       "1466          0           0                 5          0               1   \n",
       "1467          0           0                 3          2               0   \n",
       "1468          0           1                 1          2               1   \n",
       "1469          0           0                 7          2               1   \n",
       "\n",
       "      EnvironmentSatisfaction  JobSatisfaction  MaritalStatus  MonthlyIncome  \\\n",
       "0                           1                3              1            809   \n",
       "1                           2                1              0            682   \n",
       "2                           3                2              1             62   \n",
       "3                           3                2              0            313   \n",
       "4                           0                1              0            399   \n",
       "...                       ...              ...            ...            ...   \n",
       "1465                        2                3              0            210   \n",
       "1466                        3                0              0           1070   \n",
       "1467                        1                1              0            821   \n",
       "1468                        3                1              0            730   \n",
       "1469                        1                2              0            554   \n",
       "\n",
       "      NumCompaniesWorked  WorkLifeBalance  YearsAtCompany  Age_Years  \n",
       "0                      8                0               6         23  \n",
       "1                      1                2              10         31  \n",
       "2                      6                2               0         19  \n",
       "3                      1                2               8         15  \n",
       "4                      9                2               2          9  \n",
       "...                  ...              ...             ...        ...  \n",
       "1465                   4                2               5         18  \n",
       "1466                   4                2               7         21  \n",
       "1467                   1                2               6          9  \n",
       "1468                   2                1               9         31  \n",
       "1469                   2                3               4         16  \n",
       "\n",
       "[1470 rows x 13 columns]"
      ]
     },
     "execution_count": 39,
     "metadata": {},
     "output_type": "execute_result"
    }
   ],
   "source": [
    "dataframe['Age_Years'] = dataframe['Age']\n",
    "#Remove the first column called age \n",
    "dataframe = dataframe.drop('Age', axis = 1)\n",
    "#Show the dataframe\n",
    "dataframe\n"
   ]
  },
  {
   "cell_type": "code",
   "execution_count": 40,
   "metadata": {},
   "outputs": [],
   "source": [
    "X = dataframe.iloc[:, 1:dataframe.shape[1]].values \n",
    "Y = dataframe.iloc[:, 0].values"
   ]
  },
  {
   "cell_type": "code",
   "execution_count": 41,
   "metadata": {},
   "outputs": [],
   "source": [
    "y = np.ravel(y)"
   ]
  },
  {
   "cell_type": "code",
   "execution_count": 42,
   "metadata": {},
   "outputs": [
    {
     "data": {
      "text/plain": [
       "0.8408163265306122"
      ]
     },
     "execution_count": 42,
     "metadata": {},
     "output_type": "execute_result"
    }
   ],
   "source": [
    "from sklearn.linear_model import LogisticRegression\n",
    "\n",
    "model = LogisticRegression()\n",
    "model = model.fit(x, y)\n",
    "\n",
    "# check the accuracy on the training set\n",
    "model.score(x, y)"
   ]
  },
  {
   "cell_type": "code",
   "execution_count": 43,
   "metadata": {},
   "outputs": [
    {
     "data": {
      "text/plain": [
       "0.16122448979591836"
      ]
     },
     "execution_count": 43,
     "metadata": {},
     "output_type": "execute_result"
    }
   ],
   "source": [
    "y.mean()"
   ]
  },
  {
   "cell_type": "code",
   "execution_count": 44,
   "metadata": {},
   "outputs": [
    {
     "data": {
      "text/plain": [
       "LogisticRegression()"
      ]
     },
     "execution_count": 44,
     "metadata": {},
     "output_type": "execute_result"
    }
   ],
   "source": [
    "X_train,X_test,y_train,y_test=sklearn.model_selection.train_test_split(x,y, test_size=0.3, random_state=0)\n",
    "model2=LogisticRegression()\n",
    "model2.fit(X_train, y_train)"
   ]
  },
  {
   "cell_type": "code",
   "execution_count": 45,
   "metadata": {},
   "outputs": [
    {
     "name": "stdout",
     "output_type": "stream",
     "text": [
      "[0. 0. 0. 0. 0. 0. 0. 0. 0. 0. 0. 0. 0. 0. 0. 0. 0. 0. 0. 0. 0. 0. 0. 0.\n",
      " 0. 0. 0. 0. 0. 0. 0. 0. 0. 0. 0. 0. 0. 0. 0. 0. 0. 0. 0. 0. 0. 0. 0. 0.\n",
      " 0. 0. 0. 0. 0. 0. 0. 0. 0. 0. 0. 0. 0. 0. 0. 0. 0. 0. 0. 0. 0. 0. 0. 0.\n",
      " 0. 0. 0. 0. 0. 0. 0. 0. 0. 0. 0. 0. 0. 0. 0. 0. 0. 0. 0. 0. 0. 0. 0. 0.\n",
      " 0. 0. 0. 0. 0. 0. 0. 0. 0. 0. 0. 0. 0. 0. 0. 0. 0. 0. 0. 0. 0. 0. 0. 0.\n",
      " 0. 0. 0. 0. 0. 0. 0. 0. 0. 0. 0. 0. 0. 0. 0. 0. 0. 0. 0. 0. 0. 0. 0. 0.\n",
      " 0. 0. 0. 0. 0. 0. 0. 0. 0. 0. 0. 0. 0. 0. 0. 0. 0. 0. 0. 0. 0. 0. 0. 0.\n",
      " 0. 0. 0. 0. 0. 0. 0. 0. 0. 0. 0. 0. 0. 0. 0. 0. 0. 0. 0. 0. 0. 0. 0. 0.\n",
      " 0. 0. 0. 0. 0. 0. 0. 0. 0. 0. 0. 0. 0. 0. 0. 0. 0. 0. 0. 0. 0. 0. 0. 0.\n",
      " 0. 0. 0. 0. 0. 0. 0. 0. 0. 0. 0. 0. 0. 0. 0. 0. 0. 0. 0. 0. 0. 0. 0. 0.\n",
      " 0. 0. 0. 0. 0. 0. 0. 0. 0. 0. 0. 0. 0. 0. 0. 0. 0. 0. 0. 0. 0. 0. 0. 0.\n",
      " 0. 0. 0. 0. 0. 0. 0. 0. 0. 0. 0. 0. 0. 0. 0. 0. 0. 0. 0. 0. 0. 0. 0. 0.\n",
      " 0. 0. 0. 0. 0. 0. 0. 0. 0. 0. 0. 0. 0. 0. 0. 0. 0. 0. 0. 0. 0. 0. 0. 0.\n",
      " 0. 0. 0. 0. 0. 0. 0. 0. 1. 0. 0. 0. 0. 0. 0. 0. 0. 0. 0. 0. 0. 0. 0. 0.\n",
      " 0. 0. 0. 0. 0. 0. 0. 0. 0. 0. 0. 0. 0. 0. 0. 0. 0. 0. 0. 0. 0. 0. 0. 0.\n",
      " 0. 0. 0. 0. 0. 0. 0. 0. 0. 0. 0. 0. 0. 0. 0. 0. 0. 0. 0. 0. 0. 0. 0. 0.\n",
      " 0. 0. 0. 0. 0. 0. 0. 0. 0. 0. 0. 0. 0. 0. 0. 0. 0. 0. 0. 0. 0. 0. 0. 0.\n",
      " 0. 0. 0. 0. 0. 0. 0. 0. 0. 0. 0. 0. 0. 0. 0. 0. 0. 0. 0. 0. 0. 0. 0. 0.\n",
      " 0. 0. 0. 0. 0. 0. 0. 0. 0.]\n"
     ]
    }
   ],
   "source": [
    "predicted= model2.predict(X_test)\n",
    "print (predicted)"
   ]
  },
  {
   "cell_type": "code",
   "execution_count": 46,
   "metadata": {},
   "outputs": [
    {
     "name": "stdout",
     "output_type": "stream",
     "text": [
      "[[0.86179623 0.13820377]\n",
      " [0.80754592 0.19245408]\n",
      " [0.74123933 0.25876067]\n",
      " [0.83441337 0.16558663]\n",
      " [0.73499936 0.26500064]\n",
      " [0.79097742 0.20902258]\n",
      " [0.85615197 0.14384803]\n",
      " [0.8569967  0.1430033 ]\n",
      " [0.96699057 0.03300943]\n",
      " [0.93685209 0.06314791]\n",
      " [0.95099277 0.04900723]\n",
      " [0.83101548 0.16898452]\n",
      " [0.86296556 0.13703444]\n",
      " [0.86581193 0.13418807]\n",
      " [0.88750603 0.11249397]\n",
      " [0.88892617 0.11107383]\n",
      " [0.88569726 0.11430274]\n",
      " [0.78516583 0.21483417]\n",
      " [0.7979449  0.2020551 ]\n",
      " [0.88511304 0.11488696]\n",
      " [0.70651591 0.29348409]\n",
      " [0.94676693 0.05323307]\n",
      " [0.86736254 0.13263746]\n",
      " [0.84276452 0.15723548]\n",
      " [0.6033684  0.3966316 ]\n",
      " [0.811292   0.188708  ]\n",
      " [0.9181373  0.0818627 ]\n",
      " [0.93285522 0.06714478]\n",
      " [0.68230754 0.31769246]\n",
      " [0.87027138 0.12972862]\n",
      " [0.87266385 0.12733615]\n",
      " [0.76968738 0.23031262]\n",
      " [0.86435773 0.13564227]\n",
      " [0.9575888  0.0424112 ]\n",
      " [0.84461486 0.15538514]\n",
      " [0.86719349 0.13280651]\n",
      " [0.90465982 0.09534018]\n",
      " [0.68936424 0.31063576]\n",
      " [0.90703617 0.09296383]\n",
      " [0.80663475 0.19336525]\n",
      " [0.91515727 0.08484273]\n",
      " [0.82351272 0.17648728]\n",
      " [0.93711516 0.06288484]\n",
      " [0.93411324 0.06588676]\n",
      " [0.89447654 0.10552346]\n",
      " [0.85317747 0.14682253]\n",
      " [0.78922387 0.21077613]\n",
      " [0.84879888 0.15120112]\n",
      " [0.66402449 0.33597551]\n",
      " [0.76252293 0.23747707]\n",
      " [0.92851111 0.07148889]\n",
      " [0.78953697 0.21046303]\n",
      " [0.86166593 0.13833407]\n",
      " [0.85837885 0.14162115]\n",
      " [0.87217674 0.12782326]\n",
      " [0.78950896 0.21049104]\n",
      " [0.87690793 0.12309207]\n",
      " [0.84165449 0.15834551]\n",
      " [0.72847144 0.27152856]\n",
      " [0.83181404 0.16818596]\n",
      " [0.90095034 0.09904966]\n",
      " [0.71077327 0.28922673]\n",
      " [0.92823023 0.07176977]\n",
      " [0.8437568  0.1562432 ]\n",
      " [0.79544106 0.20455894]\n",
      " [0.86826161 0.13173839]\n",
      " [0.91679452 0.08320548]\n",
      " [0.84763056 0.15236944]\n",
      " [0.89253708 0.10746292]\n",
      " [0.62872109 0.37127891]\n",
      " [0.93875393 0.06124607]\n",
      " [0.72620331 0.27379669]\n",
      " [0.85652974 0.14347026]\n",
      " [0.84226023 0.15773977]\n",
      " [0.77436385 0.22563615]\n",
      " [0.71899556 0.28100444]\n",
      " [0.93587389 0.06412611]\n",
      " [0.95710071 0.04289929]\n",
      " [0.79185836 0.20814164]\n",
      " [0.89370439 0.10629561]\n",
      " [0.91382039 0.08617961]\n",
      " [0.7935459  0.2064541 ]\n",
      " [0.7793402  0.2206598 ]\n",
      " [0.79638984 0.20361016]\n",
      " [0.83800498 0.16199502]\n",
      " [0.71395666 0.28604334]\n",
      " [0.97772716 0.02227284]\n",
      " [0.94645974 0.05354026]\n",
      " [0.88617625 0.11382375]\n",
      " [0.79620165 0.20379835]\n",
      " [0.61863826 0.38136174]\n",
      " [0.8186647  0.1813353 ]\n",
      " [0.74504126 0.25495874]\n",
      " [0.86779495 0.13220505]\n",
      " [0.8707114  0.1292886 ]\n",
      " [0.81717468 0.18282532]\n",
      " [0.71840765 0.28159235]\n",
      " [0.59825886 0.40174114]\n",
      " [0.83951551 0.16048449]\n",
      " [0.88351326 0.11648674]\n",
      " [0.74352573 0.25647427]\n",
      " [0.76631617 0.23368383]\n",
      " [0.98033037 0.01966963]\n",
      " [0.91857468 0.08142532]\n",
      " [0.7743284  0.2256716 ]\n",
      " [0.92514816 0.07485184]\n",
      " [0.88123384 0.11876616]\n",
      " [0.74587172 0.25412828]\n",
      " [0.90478362 0.09521638]\n",
      " [0.7868552  0.2131448 ]\n",
      " [0.81147771 0.18852229]\n",
      " [0.93472172 0.06527828]\n",
      " [0.93836503 0.06163497]\n",
      " [0.79411744 0.20588256]\n",
      " [0.81372901 0.18627099]\n",
      " [0.91610919 0.08389081]\n",
      " [0.90428345 0.09571655]\n",
      " [0.84669422 0.15330578]\n",
      " [0.95384553 0.04615447]\n",
      " [0.91283692 0.08716308]\n",
      " [0.85919605 0.14080395]\n",
      " [0.85902498 0.14097502]\n",
      " [0.87519517 0.12480483]\n",
      " [0.76114667 0.23885333]\n",
      " [0.92217687 0.07782313]\n",
      " [0.9685941  0.0314059 ]\n",
      " [0.94398221 0.05601779]\n",
      " [0.8178029  0.1821971 ]\n",
      " [0.88058704 0.11941296]\n",
      " [0.77894285 0.22105715]\n",
      " [0.97124465 0.02875535]\n",
      " [0.88807662 0.11192338]\n",
      " [0.78715262 0.21284738]\n",
      " [0.8200148  0.1799852 ]\n",
      " [0.94934544 0.05065456]\n",
      " [0.95888934 0.04111066]\n",
      " [0.73559217 0.26440783]\n",
      " [0.93416997 0.06583003]\n",
      " [0.73750629 0.26249371]\n",
      " [0.82136747 0.17863253]\n",
      " [0.821712   0.178288  ]\n",
      " [0.89896704 0.10103296]\n",
      " [0.78745764 0.21254236]\n",
      " [0.8982535  0.1017465 ]\n",
      " [0.91433819 0.08566181]\n",
      " [0.92724744 0.07275256]\n",
      " [0.96594966 0.03405034]\n",
      " [0.94417367 0.05582633]\n",
      " [0.93073082 0.06926918]\n",
      " [0.66320578 0.33679422]\n",
      " [0.8416865  0.1583135 ]\n",
      " [0.82636815 0.17363185]\n",
      " [0.80616638 0.19383362]\n",
      " [0.96157633 0.03842367]\n",
      " [0.9351516  0.0648484 ]\n",
      " [0.94778626 0.05221374]\n",
      " [0.97337826 0.02662174]\n",
      " [0.79297053 0.20702947]\n",
      " [0.87770196 0.12229804]\n",
      " [0.86103661 0.13896339]\n",
      " [0.95185479 0.04814521]\n",
      " [0.93131494 0.06868506]\n",
      " [0.75685356 0.24314644]\n",
      " [0.74997798 0.25002202]\n",
      " [0.95527866 0.04472134]\n",
      " [0.86950722 0.13049278]\n",
      " [0.81376768 0.18623232]\n",
      " [0.76990616 0.23009384]\n",
      " [0.80077908 0.19922092]\n",
      " [0.92801122 0.07198878]\n",
      " [0.90949246 0.09050754]\n",
      " [0.94557628 0.05442372]\n",
      " [0.93330467 0.06669533]\n",
      " [0.691459   0.308541  ]\n",
      " [0.93056884 0.06943116]\n",
      " [0.7452542  0.2547458 ]\n",
      " [0.7859434  0.2140566 ]\n",
      " [0.93308601 0.06691399]\n",
      " [0.80878291 0.19121709]\n",
      " [0.85096457 0.14903543]\n",
      " [0.66956275 0.33043725]\n",
      " [0.9033838  0.0966162 ]\n",
      " [0.91158933 0.08841067]\n",
      " [0.87300498 0.12699502]\n",
      " [0.92939056 0.07060944]\n",
      " [0.66661716 0.33338284]\n",
      " [0.89098514 0.10901486]\n",
      " [0.86216705 0.13783295]\n",
      " [0.78838555 0.21161445]\n",
      " [0.53099601 0.46900399]\n",
      " [0.73344324 0.26655676]\n",
      " [0.71053981 0.28946019]\n",
      " [0.85530494 0.14469506]\n",
      " [0.86960595 0.13039405]\n",
      " [0.75470005 0.24529995]\n",
      " [0.89823514 0.10176486]\n",
      " [0.79247838 0.20752162]\n",
      " [0.90643143 0.09356857]\n",
      " [0.77650777 0.22349223]\n",
      " [0.88387788 0.11612212]\n",
      " [0.85404309 0.14595691]\n",
      " [0.81899358 0.18100642]\n",
      " [0.74448512 0.25551488]\n",
      " [0.86259433 0.13740567]\n",
      " [0.77822624 0.22177376]\n",
      " [0.76928323 0.23071677]\n",
      " [0.79679226 0.20320774]\n",
      " [0.92096591 0.07903409]\n",
      " [0.74573767 0.25426233]\n",
      " [0.87499228 0.12500772]\n",
      " [0.85503289 0.14496711]\n",
      " [0.77292151 0.22707849]\n",
      " [0.87227272 0.12772728]\n",
      " [0.67395349 0.32604651]\n",
      " [0.93621665 0.06378335]\n",
      " [0.82479478 0.17520522]\n",
      " [0.95146047 0.04853953]\n",
      " [0.83462449 0.16537551]\n",
      " [0.8110648  0.1889352 ]\n",
      " [0.80828255 0.19171745]\n",
      " [0.87664154 0.12335846]\n",
      " [0.66786992 0.33213008]\n",
      " [0.59616848 0.40383152]\n",
      " [0.98979365 0.01020635]\n",
      " [0.70634396 0.29365604]\n",
      " [0.91633092 0.08366908]\n",
      " [0.92133475 0.07866525]\n",
      " [0.71383908 0.28616092]\n",
      " [0.62453938 0.37546062]\n",
      " [0.76440576 0.23559424]\n",
      " [0.95401654 0.04598346]\n",
      " [0.88186723 0.11813277]\n",
      " [0.86019901 0.13980099]\n",
      " [0.9211738  0.0788262 ]\n",
      " [0.88019168 0.11980832]\n",
      " [0.80451426 0.19548574]\n",
      " [0.80585182 0.19414818]\n",
      " [0.91345493 0.08654507]\n",
      " [0.72101809 0.27898191]\n",
      " [0.94508004 0.05491996]\n",
      " [0.90906909 0.09093091]\n",
      " [0.73381747 0.26618253]\n",
      " [0.98109185 0.01890815]\n",
      " [0.85490448 0.14509552]\n",
      " [0.89817071 0.10182929]\n",
      " [0.82436992 0.17563008]\n",
      " [0.83387098 0.16612902]\n",
      " [0.88136647 0.11863353]\n",
      " [0.88031306 0.11968694]\n",
      " [0.87560621 0.12439379]\n",
      " [0.816172   0.183828  ]\n",
      " [0.88028847 0.11971153]\n",
      " [0.61530831 0.38469169]\n",
      " [0.88826159 0.11173841]\n",
      " [0.89692814 0.10307186]\n",
      " [0.85328926 0.14671074]\n",
      " [0.98297042 0.01702958]\n",
      " [0.77341238 0.22658762]\n",
      " [0.62184877 0.37815123]\n",
      " [0.82739135 0.17260865]\n",
      " [0.84083338 0.15916662]\n",
      " [0.84808605 0.15191395]\n",
      " [0.84937029 0.15062971]\n",
      " [0.75540983 0.24459017]\n",
      " [0.86188857 0.13811143]\n",
      " [0.9068469  0.0931531 ]\n",
      " [0.84663271 0.15336729]\n",
      " [0.81290902 0.18709098]\n",
      " [0.74053573 0.25946427]\n",
      " [0.87035276 0.12964724]\n",
      " [0.8393809  0.1606191 ]\n",
      " [0.86267948 0.13732052]\n",
      " [0.66362892 0.33637108]\n",
      " [0.90671715 0.09328285]\n",
      " [0.870563   0.129437  ]\n",
      " [0.92580791 0.07419209]\n",
      " [0.8438685  0.1561315 ]\n",
      " [0.8987814  0.1012186 ]\n",
      " [0.91239496 0.08760504]\n",
      " [0.79867631 0.20132369]\n",
      " [0.64052597 0.35947403]\n",
      " [0.84683942 0.15316058]\n",
      " [0.75503192 0.24496808]\n",
      " [0.85264543 0.14735457]\n",
      " [0.99251433 0.00748567]\n",
      " [0.86138217 0.13861783]\n",
      " [0.88140142 0.11859858]\n",
      " [0.82757085 0.17242915]\n",
      " [0.93027076 0.06972924]\n",
      " [0.87307442 0.12692558]\n",
      " [0.88802398 0.11197602]\n",
      " [0.83753316 0.16246684]\n",
      " [0.8648103  0.1351897 ]\n",
      " [0.8651555  0.1348445 ]\n",
      " [0.89754792 0.10245208]\n",
      " [0.78409084 0.21590916]\n",
      " [0.79165112 0.20834888]\n",
      " [0.88388121 0.11611879]\n",
      " [0.6541895  0.3458105 ]\n",
      " [0.9405938  0.0594062 ]\n",
      " [0.89913436 0.10086564]\n",
      " [0.72525611 0.27474389]\n",
      " [0.6908551  0.3091449 ]\n",
      " [0.87591631 0.12408369]\n",
      " [0.86562248 0.13437752]\n",
      " [0.97508878 0.02491122]\n",
      " [0.86265129 0.13734871]\n",
      " [0.54036063 0.45963937]\n",
      " [0.91302277 0.08697723]\n",
      " [0.74609583 0.25390417]\n",
      " [0.86758147 0.13241853]\n",
      " [0.88852756 0.11147244]\n",
      " [0.87911718 0.12088282]\n",
      " [0.85664963 0.14335037]\n",
      " [0.77281958 0.22718042]\n",
      " [0.80713983 0.19286017]\n",
      " [0.85285506 0.14714494]\n",
      " [0.77595544 0.22404456]\n",
      " [0.70409844 0.29590156]\n",
      " [0.88971656 0.11028344]\n",
      " [0.48963076 0.51036924]\n",
      " [0.92370651 0.07629349]\n",
      " [0.7557231  0.2442769 ]\n",
      " [0.67788851 0.32211149]\n",
      " [0.91301004 0.08698996]\n",
      " [0.94029214 0.05970786]\n",
      " [0.8800979  0.1199021 ]\n",
      " [0.88591169 0.11408831]\n",
      " [0.95656829 0.04343171]\n",
      " [0.89909424 0.10090576]\n",
      " [0.94784648 0.05215352]\n",
      " [0.83255772 0.16744228]\n",
      " [0.8782214  0.1217786 ]\n",
      " [0.81945798 0.18054202]\n",
      " [0.81668784 0.18331216]\n",
      " [0.95036171 0.04963829]\n",
      " [0.86940138 0.13059862]\n",
      " [0.905416   0.094584  ]\n",
      " [0.83661189 0.16338811]\n",
      " [0.84583647 0.15416353]\n",
      " [0.79307977 0.20692023]\n",
      " [0.81808123 0.18191877]\n",
      " [0.81598409 0.18401591]\n",
      " [0.83677554 0.16322446]\n",
      " [0.91443034 0.08556966]\n",
      " [0.91533088 0.08466912]\n",
      " [0.68503442 0.31496558]\n",
      " [0.99073759 0.00926241]\n",
      " [0.76795006 0.23204994]\n",
      " [0.79871923 0.20128077]\n",
      " [0.73176829 0.26823171]\n",
      " [0.67465185 0.32534815]\n",
      " [0.79712456 0.20287544]\n",
      " [0.84935619 0.15064381]\n",
      " [0.86467084 0.13532916]\n",
      " [0.85844153 0.14155847]\n",
      " [0.84533264 0.15466736]\n",
      " [0.83038803 0.16961197]\n",
      " [0.92192755 0.07807245]\n",
      " [0.8318972  0.1681028 ]\n",
      " [0.97707553 0.02292447]\n",
      " [0.90418235 0.09581765]\n",
      " [0.92691202 0.07308798]\n",
      " [0.84797356 0.15202644]\n",
      " [0.76712571 0.23287429]\n",
      " [0.94895158 0.05104842]\n",
      " [0.94782089 0.05217911]\n",
      " [0.75181503 0.24818497]\n",
      " [0.8788047  0.1211953 ]\n",
      " [0.80770785 0.19229215]\n",
      " [0.93864302 0.06135698]\n",
      " [0.86008491 0.13991509]\n",
      " [0.76056694 0.23943306]\n",
      " [0.90892475 0.09107525]\n",
      " [0.75402141 0.24597859]\n",
      " [0.94271843 0.05728157]\n",
      " [0.9182732  0.0817268 ]\n",
      " [0.90545128 0.09454872]\n",
      " [0.76879455 0.23120545]\n",
      " [0.92358139 0.07641861]\n",
      " [0.80705878 0.19294122]\n",
      " [0.90079528 0.09920472]\n",
      " [0.87933332 0.12066668]\n",
      " [0.8058569  0.1941431 ]\n",
      " [0.83150055 0.16849945]\n",
      " [0.53816766 0.46183234]\n",
      " [0.95031826 0.04968174]\n",
      " [0.732919   0.267081  ]\n",
      " [0.89182871 0.10817129]\n",
      " [0.80079854 0.19920146]\n",
      " [0.87739806 0.12260194]\n",
      " [0.96805232 0.03194768]\n",
      " [0.81741597 0.18258403]\n",
      " [0.86150092 0.13849908]\n",
      " [0.59407549 0.40592451]\n",
      " [0.82625733 0.17374267]\n",
      " [0.92534978 0.07465022]\n",
      " [0.81692204 0.18307796]\n",
      " [0.92586784 0.07413216]\n",
      " [0.89094604 0.10905396]\n",
      " [0.70071752 0.29928248]\n",
      " [0.82181894 0.17818106]\n",
      " [0.96589942 0.03410058]\n",
      " [0.86996989 0.13003011]\n",
      " [0.89918551 0.10081449]\n",
      " [0.88983802 0.11016198]\n",
      " [0.81432461 0.18567539]\n",
      " [0.8583004  0.1416996 ]\n",
      " [0.83878655 0.16121345]\n",
      " [0.84056579 0.15943421]\n",
      " [0.82661172 0.17338828]\n",
      " [0.94075169 0.05924831]\n",
      " [0.83183534 0.16816466]\n",
      " [0.77561354 0.22438646]\n",
      " [0.69399538 0.30600462]\n",
      " [0.85962129 0.14037871]\n",
      " [0.82513942 0.17486058]\n",
      " [0.84107714 0.15892286]\n",
      " [0.87191016 0.12808984]\n",
      " [0.89447654 0.10552346]\n",
      " [0.82945346 0.17054654]\n",
      " [0.7285679  0.2714321 ]\n",
      " [0.94692822 0.05307178]\n",
      " [0.96074299 0.03925701]\n",
      " [0.90500199 0.09499801]\n",
      " [0.88599991 0.11400009]\n",
      " [0.84865642 0.15134358]\n",
      " [0.79086972 0.20913028]\n",
      " [0.67302964 0.32697036]\n",
      " [0.93390209 0.06609791]\n",
      " [0.65644878 0.34355122]\n",
      " [0.74382847 0.25617153]\n",
      " [0.94248415 0.05751585]\n",
      " [0.78365677 0.21634323]\n",
      " [0.90655671 0.09344329]\n",
      " [0.81578727 0.18421273]\n",
      " [0.89149736 0.10850264]\n",
      " [0.85791874 0.14208126]\n",
      " [0.67453853 0.32546147]\n",
      " [0.93130397 0.06869603]\n",
      " [0.89999985 0.10000015]]\n"
     ]
    }
   ],
   "source": [
    "probs = model2.predict_proba(X_test)\n",
    "print (probs)"
   ]
  },
  {
   "cell_type": "code",
   "execution_count": 47,
   "metadata": {},
   "outputs": [
    {
     "name": "stdout",
     "output_type": "stream",
     "text": [
      "0.8435374149659864\n",
      "0.6502502887947632\n"
     ]
    }
   ],
   "source": [
    "from sklearn import metrics\n",
    "\n",
    "print (metrics.accuracy_score(y_test, predicted))\n",
    "print (metrics.roc_auc_score(y_test, probs[:, 1]))"
   ]
  },
  {
   "cell_type": "code",
   "execution_count": 48,
   "metadata": {},
   "outputs": [
    {
     "name": "stdout",
     "output_type": "stream",
     "text": [
      "[[371   0]\n",
      " [ 69   1]]\n",
      "              precision    recall  f1-score   support\n",
      "\n",
      "         0.0       0.84      1.00      0.91       371\n",
      "         1.0       1.00      0.01      0.03        70\n",
      "\n",
      "    accuracy                           0.84       441\n",
      "   macro avg       0.92      0.51      0.47       441\n",
      "weighted avg       0.87      0.84      0.77       441\n",
      "\n"
     ]
    }
   ],
   "source": [
    "print (metrics.confusion_matrix(y_test, predicted))\n",
    "print (metrics.classification_report(y_test, predicted))"
   ]
  },
  {
   "cell_type": "code",
   "execution_count": 49,
   "metadata": {},
   "outputs": [
    {
     "name": "stdout",
     "output_type": "stream",
     "text": [
      "      Intercept   Age  Department  DistanceFromHome  Education  \\\n",
      "338         1.0  30.0         2.0               5.0        3.0   \n",
      "363         1.0  33.0         2.0               5.0        3.0   \n",
      "759         1.0  45.0         3.0              24.0        4.0   \n",
      "793         1.0  28.0         1.0              15.0        2.0   \n",
      "581         1.0  30.0         1.0               1.0        3.0   \n",
      "...         ...   ...         ...               ...        ...   \n",
      "763         1.0  34.0         2.0              10.0        4.0   \n",
      "835         1.0  35.0         3.0               8.0        4.0   \n",
      "1216        1.0  43.0         2.0               2.0        3.0   \n",
      "559         1.0  38.0         1.0               2.0        5.0   \n",
      "684         1.0  40.0         2.0              10.0        4.0   \n",
      "\n",
      "      EducationField  YearsAtCompany  \n",
      "338              3.0            10.0  \n",
      "363              3.0             1.0  \n",
      "759              2.0             6.0  \n",
      "793              1.0             4.0  \n",
      "581              1.0             2.0  \n",
      "...              ...             ...  \n",
      "763              1.0             1.0  \n",
      "835              5.0             5.0  \n",
      "1216             2.0            10.0  \n",
      "559              2.0             1.0  \n",
      "684              3.0             1.0  \n",
      "\n",
      "[1029 rows x 7 columns]\n"
     ]
    }
   ],
   "source": [
    "print (X_train)"
   ]
  },
  {
   "cell_type": "code",
   "execution_count": 50,
   "metadata": {
    "scrolled": true
   },
   "outputs": [
    {
     "name": "stdout",
     "output_type": "stream",
     "text": [
      "[[0.82541945 0.17458055]\n",
      " [0.74855525 0.25144475]\n",
      " [0.77002422 0.22997578]\n",
      " ...\n",
      " [0.9063644  0.0936356 ]\n",
      " [0.85148851 0.14851149]\n",
      " [0.77442692 0.22557308]]\n"
     ]
    }
   ],
   "source": [
    "print(model.predict_proba(X_train))"
   ]
  },
  {
   "cell_type": "code",
   "execution_count": 51,
   "metadata": {},
   "outputs": [
    {
     "name": "stdout",
     "output_type": "stream",
     "text": [
      "[[6.78962103e-07 9.99999321e-01]]\n"
     ]
    },
    {
     "name": "stderr",
     "output_type": "stream",
     "text": [
      "C:\\Users\\Manish\\AppData\\Local\\Programs\\Python\\Python310\\lib\\site-packages\\sklearn\\base.py:450: UserWarning: X does not have valid feature names, but LogisticRegression was fitted with feature names\n",
      "  warnings.warn(\n",
      "C:\\Users\\Manish\\AppData\\Local\\Programs\\Python\\Python310\\lib\\site-packages\\sklearn\\base.py:450: UserWarning: X does not have valid feature names, but LogisticRegression was fitted with feature names\n",
      "  warnings.warn(\n"
     ]
    }
   ],
   "source": [
    "\n",
    "#add random values to KK according to the parameters mentioned above to check the proabily of attrition of the employee\n",
    "kk=[[1.0, 25.0, 1.0, 500.0, 3.0, 24.0, 1.0]]\n",
    "arr=model.predict_proba(kk)\n",
    "print(model.predict_proba(kk))"
   ]
  }
 ],
 "metadata": {
  "kernelspec": {
   "display_name": "Python 3 (ipykernel)",
   "language": "python",
   "name": "python3"
  },
  "language_info": {
   "codemirror_mode": {
    "name": "ipython",
    "version": 3
   },
   "file_extension": ".py",
   "mimetype": "text/x-python",
   "name": "python",
   "nbconvert_exporter": "python",
   "pygments_lexer": "ipython3",
   "version": "3.10.1"
  }
 },
 "nbformat": 4,
 "nbformat_minor": 4
}
