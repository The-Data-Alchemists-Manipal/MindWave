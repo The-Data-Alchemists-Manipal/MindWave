{
 "cells": [
  {
   "cell_type": "markdown",
   "id": "89b1c098",
   "metadata": {},
   "source": [
    "# Internshala Internship Dataset"
   ]
  },
  {
   "cell_type": "markdown",
   "id": "0bfc0147",
   "metadata": {},
   "source": [
    "Dataset source : https://www.kaggle.com/datasets/ghosh153/internshala-internship-dataset"
   ]
  },
  {
   "cell_type": "code",
   "execution_count": 173,
   "id": "46ac38ae",
   "metadata": {},
   "outputs": [],
   "source": [
    "import numpy as np\n",
    "import pandas as pd\n",
    "import matplotlib.pyplot as plt\n",
    "import seaborn as sns"
   ]
  },
  {
   "cell_type": "code",
   "execution_count": 259,
   "id": "799e8f8a",
   "metadata": {},
   "outputs": [],
   "source": [
    "df = pd.read_csv(r\"internship companies.csv\")"
   ]
  },
  {
   "cell_type": "markdown",
   "id": "c0f775df",
   "metadata": {},
   "source": [
    "#### first 5 rows"
   ]
  },
  {
   "cell_type": "code",
   "execution_count": 175,
   "id": "7360917c",
   "metadata": {
    "scrolled": true
   },
   "outputs": [
    {
     "data": {
      "text/html": [
       "<div>\n",
       "<style scoped>\n",
       "    .dataframe tbody tr th:only-of-type {\n",
       "        vertical-align: middle;\n",
       "    }\n",
       "\n",
       "    .dataframe tbody tr th {\n",
       "        vertical-align: top;\n",
       "    }\n",
       "\n",
       "    .dataframe thead th {\n",
       "        text-align: right;\n",
       "    }\n",
       "</style>\n",
       "<table border=\"1\" class=\"dataframe\">\n",
       "  <thead>\n",
       "    <tr style=\"text-align: right;\">\n",
       "      <th></th>\n",
       "      <th>Unnamed: 0</th>\n",
       "      <th>company</th>\n",
       "      <th>internship</th>\n",
       "      <th>location</th>\n",
       "      <th>start date</th>\n",
       "      <th>duration</th>\n",
       "      <th>stipend</th>\n",
       "      <th>posted on</th>\n",
       "      <th>apply by</th>\n",
       "    </tr>\n",
       "  </thead>\n",
       "  <tbody>\n",
       "    <tr>\n",
       "      <th>0</th>\n",
       "      <td>0</td>\n",
       "      <td>Internshala</td>\n",
       "      <td>Web Development</td>\n",
       "      <td>Gurgaon</td>\n",
       "      <td>Immediately</td>\n",
       "      <td>6 Months</td>\n",
       "      <td>20000 /month</td>\n",
       "      <td>29 Feb'20</td>\n",
       "      <td>18 Apr'20</td>\n",
       "    </tr>\n",
       "    <tr>\n",
       "      <th>1</th>\n",
       "      <td>1</td>\n",
       "      <td>Delhi Technological University - Karyon</td>\n",
       "      <td>Campus Ambassador</td>\n",
       "      <td>Work From Home</td>\n",
       "      <td>Immediately</td>\n",
       "      <td>1 Month</td>\n",
       "      <td>Performance Based</td>\n",
       "      <td>18 Feb'20</td>\n",
       "      <td>19 Apr'20</td>\n",
       "    </tr>\n",
       "    <tr>\n",
       "      <th>2</th>\n",
       "      <td>2</td>\n",
       "      <td>Internshala</td>\n",
       "      <td>Operations</td>\n",
       "      <td>Gurgaon</td>\n",
       "      <td>15 Apr'20</td>\n",
       "      <td>6 Months</td>\n",
       "      <td>20000 /month</td>\n",
       "      <td>18 Mar'20</td>\n",
       "      <td>29 Apr'20</td>\n",
       "    </tr>\n",
       "    <tr>\n",
       "      <th>3</th>\n",
       "      <td>3</td>\n",
       "      <td>Your Digital Boat</td>\n",
       "      <td>Content Writing</td>\n",
       "      <td>Work From Home</td>\n",
       "      <td>Immediately</td>\n",
       "      <td>2 Months</td>\n",
       "      <td>5000 /month</td>\n",
       "      <td>10 Apr'20</td>\n",
       "      <td>8 May'20</td>\n",
       "    </tr>\n",
       "    <tr>\n",
       "      <th>4</th>\n",
       "      <td>4</td>\n",
       "      <td>American Institute Of Big Data Professionals</td>\n",
       "      <td>Web Development</td>\n",
       "      <td>Work From Home</td>\n",
       "      <td>Immediately</td>\n",
       "      <td>1 Month</td>\n",
       "      <td>2000-5000 /month</td>\n",
       "      <td>10 Apr'20</td>\n",
       "      <td>8 May'20</td>\n",
       "    </tr>\n",
       "  </tbody>\n",
       "</table>\n",
       "</div>"
      ],
      "text/plain": [
       "   Unnamed: 0                                       company  \\\n",
       "0           0                                   Internshala   \n",
       "1           1       Delhi Technological University - Karyon   \n",
       "2           2                                   Internshala   \n",
       "3           3                             Your Digital Boat   \n",
       "4           4  American Institute Of Big Data Professionals   \n",
       "\n",
       "          internship        location   start date  duration  \\\n",
       "0    Web Development         Gurgaon  Immediately  6 Months   \n",
       "1  Campus Ambassador  Work From Home  Immediately   1 Month   \n",
       "2         Operations         Gurgaon    15 Apr'20  6 Months   \n",
       "3    Content Writing  Work From Home  Immediately  2 Months   \n",
       "4    Web Development  Work From Home  Immediately   1 Month   \n",
       "\n",
       "             stipend  posted on   apply by  \n",
       "0       20000 /month  29 Feb'20  18 Apr'20  \n",
       "1  Performance Based  18 Feb'20  19 Apr'20  \n",
       "2       20000 /month  18 Mar'20  29 Apr'20  \n",
       "3        5000 /month  10 Apr'20   8 May'20  \n",
       "4   2000-5000 /month  10 Apr'20   8 May'20  "
      ]
     },
     "execution_count": 175,
     "metadata": {},
     "output_type": "execute_result"
    }
   ],
   "source": [
    "df.head()"
   ]
  },
  {
   "cell_type": "markdown",
   "id": "cdefef00",
   "metadata": {},
   "source": [
    "#### random rows"
   ]
  },
  {
   "cell_type": "code",
   "execution_count": 252,
   "id": "17c364bf",
   "metadata": {},
   "outputs": [
    {
     "data": {
      "text/html": [
       "<div>\n",
       "<style scoped>\n",
       "    .dataframe tbody tr th:only-of-type {\n",
       "        vertical-align: middle;\n",
       "    }\n",
       "\n",
       "    .dataframe tbody tr th {\n",
       "        vertical-align: top;\n",
       "    }\n",
       "\n",
       "    .dataframe thead th {\n",
       "        text-align: right;\n",
       "    }\n",
       "</style>\n",
       "<table border=\"1\" class=\"dataframe\">\n",
       "  <thead>\n",
       "    <tr style=\"text-align: right;\">\n",
       "      <th></th>\n",
       "      <th>company</th>\n",
       "      <th>internship</th>\n",
       "      <th>location</th>\n",
       "      <th>start date</th>\n",
       "      <th>duration</th>\n",
       "      <th>stipend</th>\n",
       "      <th>posted on</th>\n",
       "      <th>apply by</th>\n",
       "    </tr>\n",
       "  </thead>\n",
       "  <tbody>\n",
       "    <tr>\n",
       "      <th>6066</th>\n",
       "      <td>Enteraction Web Solutions LLP</td>\n",
       "      <td>Data Entry</td>\n",
       "      <td>Delhi</td>\n",
       "      <td>Immediately</td>\n",
       "      <td>6</td>\n",
       "      <td>7000</td>\n",
       "      <td>20 Mar'20</td>\n",
       "      <td>18 Apr'20</td>\n",
       "    </tr>\n",
       "    <tr>\n",
       "      <th>5899</th>\n",
       "      <td>Revalsys Technologies India Private Limited</td>\n",
       "      <td>Software Testing</td>\n",
       "      <td>Hyderabad</td>\n",
       "      <td>Immediately</td>\n",
       "      <td>2</td>\n",
       "      <td>2000</td>\n",
       "      <td>20 Mar'20</td>\n",
       "      <td>18 Apr'20</td>\n",
       "    </tr>\n",
       "    <tr>\n",
       "      <th>9563</th>\n",
       "      <td>Digital Edge</td>\n",
       "      <td>Content Writing</td>\n",
       "      <td>Delhi</td>\n",
       "      <td>Immediately</td>\n",
       "      <td>2</td>\n",
       "      <td>20000</td>\n",
       "      <td>13 Mar'20</td>\n",
       "      <td>10 Apr'20</td>\n",
       "    </tr>\n",
       "    <tr>\n",
       "      <th>3971</th>\n",
       "      <td>Commondove</td>\n",
       "      <td>Cartooning</td>\n",
       "      <td>Work From Home</td>\n",
       "      <td>Immediately</td>\n",
       "      <td>3</td>\n",
       "      <td>Unpaid</td>\n",
       "      <td>29 Mar'20</td>\n",
       "      <td>26 Apr'20</td>\n",
       "    </tr>\n",
       "    <tr>\n",
       "      <th>10563</th>\n",
       "      <td>LEMON CHILLI MEDIA SOLUTIONS</td>\n",
       "      <td>Graphic Design</td>\n",
       "      <td>Delhi</td>\n",
       "      <td>Immediately</td>\n",
       "      <td>6</td>\n",
       "      <td>5000</td>\n",
       "      <td>11 Mar'20</td>\n",
       "      <td>14 Apr'20</td>\n",
       "    </tr>\n",
       "  </tbody>\n",
       "</table>\n",
       "</div>"
      ],
      "text/plain": [
       "                                           company        internship  \\\n",
       "6066                 Enteraction Web Solutions LLP        Data Entry   \n",
       "5899   Revalsys Technologies India Private Limited  Software Testing   \n",
       "9563                                  Digital Edge   Content Writing   \n",
       "3971                                    Commondove        Cartooning   \n",
       "10563                 LEMON CHILLI MEDIA SOLUTIONS    Graphic Design   \n",
       "\n",
       "             location   start date  duration stipend  posted on   apply by  \n",
       "6066            Delhi  Immediately         6    7000  20 Mar'20  18 Apr'20  \n",
       "5899        Hyderabad  Immediately         2    2000  20 Mar'20  18 Apr'20  \n",
       "9563            Delhi  Immediately         2   20000  13 Mar'20  10 Apr'20  \n",
       "3971   Work From Home  Immediately         3  Unpaid  29 Mar'20  26 Apr'20  \n",
       "10563           Delhi  Immediately         6    5000  11 Mar'20  14 Apr'20  "
      ]
     },
     "execution_count": 252,
     "metadata": {},
     "output_type": "execute_result"
    }
   ],
   "source": [
    "df.sample(5)"
   ]
  },
  {
   "cell_type": "markdown",
   "id": "d35df4d2",
   "metadata": {},
   "source": [
    "#### Name of all columns"
   ]
  },
  {
   "cell_type": "code",
   "execution_count": 176,
   "id": "9e852046",
   "metadata": {},
   "outputs": [
    {
     "data": {
      "text/plain": [
       "Index(['Unnamed: 0', 'company', 'internship', 'location', 'start date',\n",
       "       'duration', 'stipend', 'posted on', 'apply by'],\n",
       "      dtype='object')"
      ]
     },
     "execution_count": 176,
     "metadata": {},
     "output_type": "execute_result"
    }
   ],
   "source": [
    "df.columns"
   ]
  },
  {
   "cell_type": "markdown",
   "id": "482d89ad",
   "metadata": {},
   "source": [
    "#### Dropping index column"
   ]
  },
  {
   "cell_type": "code",
   "execution_count": 177,
   "id": "f6d47731",
   "metadata": {},
   "outputs": [],
   "source": [
    "df.drop(columns=[\"Unnamed: 0\"],axis=0,inplace=True)"
   ]
  },
  {
   "cell_type": "markdown",
   "id": "ea6deabc",
   "metadata": {},
   "source": [
    "## Getting overview of data"
   ]
  },
  {
   "cell_type": "code",
   "execution_count": 178,
   "id": "16ed1ed3",
   "metadata": {},
   "outputs": [
    {
     "name": "stdout",
     "output_type": "stream",
     "text": [
      "<class 'pandas.core.frame.DataFrame'>\n",
      "RangeIndex: 12001 entries, 0 to 12000\n",
      "Data columns (total 8 columns):\n",
      " #   Column      Non-Null Count  Dtype \n",
      "---  ------      --------------  ----- \n",
      " 0   company     11999 non-null  object\n",
      " 1   internship  12000 non-null  object\n",
      " 2   location    11997 non-null  object\n",
      " 3   start date  11999 non-null  object\n",
      " 4   duration    11999 non-null  object\n",
      " 5   stipend     11999 non-null  object\n",
      " 6   posted on   11999 non-null  object\n",
      " 7   apply by    11999 non-null  object\n",
      "dtypes: object(8)\n",
      "memory usage: 750.2+ KB\n"
     ]
    }
   ],
   "source": [
    "df.info()"
   ]
  },
  {
   "cell_type": "code",
   "execution_count": 179,
   "id": "7a0bf6e3",
   "metadata": {},
   "outputs": [
    {
     "data": {
      "text/html": [
       "<div>\n",
       "<style scoped>\n",
       "    .dataframe tbody tr th:only-of-type {\n",
       "        vertical-align: middle;\n",
       "    }\n",
       "\n",
       "    .dataframe tbody tr th {\n",
       "        vertical-align: top;\n",
       "    }\n",
       "\n",
       "    .dataframe thead th {\n",
       "        text-align: right;\n",
       "    }\n",
       "</style>\n",
       "<table border=\"1\" class=\"dataframe\">\n",
       "  <thead>\n",
       "    <tr style=\"text-align: right;\">\n",
       "      <th></th>\n",
       "      <th>company</th>\n",
       "      <th>internship</th>\n",
       "      <th>location</th>\n",
       "      <th>start date</th>\n",
       "      <th>duration</th>\n",
       "      <th>stipend</th>\n",
       "      <th>posted on</th>\n",
       "      <th>apply by</th>\n",
       "    </tr>\n",
       "  </thead>\n",
       "  <tbody>\n",
       "    <tr>\n",
       "      <th>count</th>\n",
       "      <td>11999</td>\n",
       "      <td>12000</td>\n",
       "      <td>11997</td>\n",
       "      <td>11999</td>\n",
       "      <td>11999</td>\n",
       "      <td>11999</td>\n",
       "      <td>11999</td>\n",
       "      <td>11999</td>\n",
       "    </tr>\n",
       "    <tr>\n",
       "      <th>unique</th>\n",
       "      <td>6473</td>\n",
       "      <td>1631</td>\n",
       "      <td>254</td>\n",
       "      <td>121</td>\n",
       "      <td>16</td>\n",
       "      <td>395</td>\n",
       "      <td>53</td>\n",
       "      <td>53</td>\n",
       "    </tr>\n",
       "    <tr>\n",
       "      <th>top</th>\n",
       "      <td>Protiviti</td>\n",
       "      <td>Business Development (Sales)</td>\n",
       "      <td>Work From Home</td>\n",
       "      <td>Immediately</td>\n",
       "      <td>3 Months</td>\n",
       "      <td>5000 /month</td>\n",
       "      <td>16 Mar'20</td>\n",
       "      <td>14 Apr'20</td>\n",
       "    </tr>\n",
       "    <tr>\n",
       "      <th>freq</th>\n",
       "      <td>40</td>\n",
       "      <td>1388</td>\n",
       "      <td>4454</td>\n",
       "      <td>11765</td>\n",
       "      <td>4301</td>\n",
       "      <td>1685</td>\n",
       "      <td>843</td>\n",
       "      <td>1304</td>\n",
       "    </tr>\n",
       "  </tbody>\n",
       "</table>\n",
       "</div>"
      ],
      "text/plain": [
       "          company                    internship        location   start date  \\\n",
       "count       11999                         12000           11997        11999   \n",
       "unique       6473                          1631             254          121   \n",
       "top     Protiviti  Business Development (Sales)  Work From Home  Immediately   \n",
       "freq           40                          1388            4454        11765   \n",
       "\n",
       "        duration      stipend  posted on   apply by  \n",
       "count      11999        11999      11999      11999  \n",
       "unique        16          395         53         53  \n",
       "top     3 Months  5000 /month  16 Mar'20  14 Apr'20  \n",
       "freq        4301         1685        843       1304  "
      ]
     },
     "execution_count": 179,
     "metadata": {},
     "output_type": "execute_result"
    }
   ],
   "source": [
    "df.describe(include=\"all\")"
   ]
  },
  {
   "cell_type": "markdown",
   "id": "1dd09dbc",
   "metadata": {},
   "source": [
    "#### Checking for Null values and dropping due to low proportion"
   ]
  },
  {
   "cell_type": "code",
   "execution_count": 180,
   "id": "7b4a5d96",
   "metadata": {},
   "outputs": [
    {
     "data": {
      "text/plain": [
       "company       2\n",
       "internship    1\n",
       "location      4\n",
       "start date    2\n",
       "duration      2\n",
       "stipend       2\n",
       "posted on     2\n",
       "apply by      2\n",
       "dtype: int64"
      ]
     },
     "execution_count": 180,
     "metadata": {},
     "output_type": "execute_result"
    }
   ],
   "source": [
    "df.isna().sum()"
   ]
  },
  {
   "cell_type": "code",
   "execution_count": 181,
   "id": "3cd8a62e",
   "metadata": {},
   "outputs": [],
   "source": [
    "df.dropna(inplace=True)"
   ]
  },
  {
   "cell_type": "code",
   "execution_count": 182,
   "id": "0e1c6f73",
   "metadata": {},
   "outputs": [
    {
     "data": {
      "text/plain": [
       "(11997, 8)"
      ]
     },
     "execution_count": 182,
     "metadata": {},
     "output_type": "execute_result"
    }
   ],
   "source": [
    "df.shape"
   ]
  },
  {
   "cell_type": "markdown",
   "id": "e19838df",
   "metadata": {},
   "source": [
    "#### deleting row having duration==\"No\""
   ]
  },
  {
   "cell_type": "code",
   "execution_count": 183,
   "id": "25e56cc5",
   "metadata": {},
   "outputs": [
    {
     "data": {
      "text/plain": [
       "Int64Index([], dtype='int64')"
      ]
     },
     "execution_count": 183,
     "metadata": {},
     "output_type": "execute_result"
    }
   ],
   "source": [
    "df[df[\"duration\"]==\"No\"].index"
   ]
  },
  {
   "cell_type": "code",
   "execution_count": 184,
   "id": "5eb29240",
   "metadata": {},
   "outputs": [],
   "source": [
    "df.drop(4699,inplace=True)"
   ]
  },
  {
   "cell_type": "markdown",
   "id": "df9acbc3",
   "metadata": {},
   "source": [
    "### Data Cleaning"
   ]
  },
  {
   "cell_type": "markdown",
   "id": "ded85a5e",
   "metadata": {},
   "source": [
    "#### Extracting number of months from duration"
   ]
  },
  {
   "cell_type": "code",
   "execution_count": 185,
   "id": "12f0cbf1",
   "metadata": {},
   "outputs": [],
   "source": [
    "def extract(x):\n",
    "    x = str(x)\n",
    "    return int(x[:2])"
   ]
  },
  {
   "cell_type": "code",
   "execution_count": 186,
   "id": "b67b68e8",
   "metadata": {
    "scrolled": true
   },
   "outputs": [],
   "source": [
    "df.duration = df.duration.apply(extract)"
   ]
  },
  {
   "cell_type": "code",
   "execution_count": 187,
   "id": "2972184d",
   "metadata": {},
   "outputs": [
    {
     "data": {
      "text/html": [
       "<div>\n",
       "<style scoped>\n",
       "    .dataframe tbody tr th:only-of-type {\n",
       "        vertical-align: middle;\n",
       "    }\n",
       "\n",
       "    .dataframe tbody tr th {\n",
       "        vertical-align: top;\n",
       "    }\n",
       "\n",
       "    .dataframe thead th {\n",
       "        text-align: right;\n",
       "    }\n",
       "</style>\n",
       "<table border=\"1\" class=\"dataframe\">\n",
       "  <thead>\n",
       "    <tr style=\"text-align: right;\">\n",
       "      <th></th>\n",
       "      <th>company</th>\n",
       "      <th>internship</th>\n",
       "      <th>location</th>\n",
       "      <th>start date</th>\n",
       "      <th>duration</th>\n",
       "      <th>stipend</th>\n",
       "      <th>posted on</th>\n",
       "      <th>apply by</th>\n",
       "    </tr>\n",
       "  </thead>\n",
       "  <tbody>\n",
       "    <tr>\n",
       "      <th>0</th>\n",
       "      <td>Internshala</td>\n",
       "      <td>Web Development</td>\n",
       "      <td>Gurgaon</td>\n",
       "      <td>Immediately</td>\n",
       "      <td>6</td>\n",
       "      <td>20000 /month</td>\n",
       "      <td>29 Feb'20</td>\n",
       "      <td>18 Apr'20</td>\n",
       "    </tr>\n",
       "    <tr>\n",
       "      <th>1</th>\n",
       "      <td>Delhi Technological University - Karyon</td>\n",
       "      <td>Campus Ambassador</td>\n",
       "      <td>Work From Home</td>\n",
       "      <td>Immediately</td>\n",
       "      <td>1</td>\n",
       "      <td>Performance Based</td>\n",
       "      <td>18 Feb'20</td>\n",
       "      <td>19 Apr'20</td>\n",
       "    </tr>\n",
       "    <tr>\n",
       "      <th>2</th>\n",
       "      <td>Internshala</td>\n",
       "      <td>Operations</td>\n",
       "      <td>Gurgaon</td>\n",
       "      <td>15 Apr'20</td>\n",
       "      <td>6</td>\n",
       "      <td>20000 /month</td>\n",
       "      <td>18 Mar'20</td>\n",
       "      <td>29 Apr'20</td>\n",
       "    </tr>\n",
       "    <tr>\n",
       "      <th>3</th>\n",
       "      <td>Your Digital Boat</td>\n",
       "      <td>Content Writing</td>\n",
       "      <td>Work From Home</td>\n",
       "      <td>Immediately</td>\n",
       "      <td>2</td>\n",
       "      <td>5000 /month</td>\n",
       "      <td>10 Apr'20</td>\n",
       "      <td>8 May'20</td>\n",
       "    </tr>\n",
       "    <tr>\n",
       "      <th>4</th>\n",
       "      <td>American Institute Of Big Data Professionals</td>\n",
       "      <td>Web Development</td>\n",
       "      <td>Work From Home</td>\n",
       "      <td>Immediately</td>\n",
       "      <td>1</td>\n",
       "      <td>2000-5000 /month</td>\n",
       "      <td>10 Apr'20</td>\n",
       "      <td>8 May'20</td>\n",
       "    </tr>\n",
       "    <tr>\n",
       "      <th>...</th>\n",
       "      <td>...</td>\n",
       "      <td>...</td>\n",
       "      <td>...</td>\n",
       "      <td>...</td>\n",
       "      <td>...</td>\n",
       "      <td>...</td>\n",
       "      <td>...</td>\n",
       "      <td>...</td>\n",
       "    </tr>\n",
       "    <tr>\n",
       "      <th>11996</th>\n",
       "      <td>DBuzzz</td>\n",
       "      <td>Business Development (Sales)</td>\n",
       "      <td>Lucknow</td>\n",
       "      <td>Immediately</td>\n",
       "      <td>2</td>\n",
       "      <td>5000 /month</td>\n",
       "      <td>20 Feb'20</td>\n",
       "      <td>14 Apr'20</td>\n",
       "    </tr>\n",
       "    <tr>\n",
       "      <th>11997</th>\n",
       "      <td>DataSmart eServices Private Limited</td>\n",
       "      <td>MEAN Stack Development</td>\n",
       "      <td>Hyderabad</td>\n",
       "      <td>Immediately</td>\n",
       "      <td>4</td>\n",
       "      <td>7000-10000 /month</td>\n",
       "      <td>20 Feb'20</td>\n",
       "      <td>10 Apr'20</td>\n",
       "    </tr>\n",
       "    <tr>\n",
       "      <th>11998</th>\n",
       "      <td>Study Sure</td>\n",
       "      <td>Content Writing</td>\n",
       "      <td>Work From Home</td>\n",
       "      <td>Immediately</td>\n",
       "      <td>3</td>\n",
       "      <td>8000-15000 /month</td>\n",
       "      <td>20 Feb'20</td>\n",
       "      <td>10 Apr'20</td>\n",
       "    </tr>\n",
       "    <tr>\n",
       "      <th>11999</th>\n",
       "      <td>Zifcare</td>\n",
       "      <td>Psychology</td>\n",
       "      <td>Work From Home</td>\n",
       "      <td>Immediately</td>\n",
       "      <td>3</td>\n",
       "      <td>3000 /month</td>\n",
       "      <td>20 Feb'20</td>\n",
       "      <td>10 Apr'20</td>\n",
       "    </tr>\n",
       "    <tr>\n",
       "      <th>12000</th>\n",
       "      <td>HUBX</td>\n",
       "      <td>Full Stack Development</td>\n",
       "      <td>Delhi</td>\n",
       "      <td>Immediately</td>\n",
       "      <td>6</td>\n",
       "      <td>5000-8000 /month</td>\n",
       "      <td>20 Feb'20</td>\n",
       "      <td>10 Apr'20</td>\n",
       "    </tr>\n",
       "  </tbody>\n",
       "</table>\n",
       "<p>11996 rows × 8 columns</p>\n",
       "</div>"
      ],
      "text/plain": [
       "                                            company  \\\n",
       "0                                       Internshala   \n",
       "1           Delhi Technological University - Karyon   \n",
       "2                                       Internshala   \n",
       "3                                 Your Digital Boat   \n",
       "4      American Institute Of Big Data Professionals   \n",
       "...                                             ...   \n",
       "11996                                        DBuzzz   \n",
       "11997           DataSmart eServices Private Limited   \n",
       "11998                                    Study Sure   \n",
       "11999                                       Zifcare   \n",
       "12000                                          HUBX   \n",
       "\n",
       "                         internship        location   start date  duration  \\\n",
       "0                   Web Development         Gurgaon  Immediately         6   \n",
       "1                 Campus Ambassador  Work From Home  Immediately         1   \n",
       "2                        Operations         Gurgaon    15 Apr'20         6   \n",
       "3                   Content Writing  Work From Home  Immediately         2   \n",
       "4                   Web Development  Work From Home  Immediately         1   \n",
       "...                             ...             ...          ...       ...   \n",
       "11996  Business Development (Sales)         Lucknow  Immediately         2   \n",
       "11997        MEAN Stack Development       Hyderabad  Immediately         4   \n",
       "11998               Content Writing  Work From Home  Immediately         3   \n",
       "11999                    Psychology  Work From Home  Immediately         3   \n",
       "12000        Full Stack Development           Delhi  Immediately         6   \n",
       "\n",
       "                 stipend  posted on   apply by  \n",
       "0           20000 /month  29 Feb'20  18 Apr'20  \n",
       "1      Performance Based  18 Feb'20  19 Apr'20  \n",
       "2           20000 /month  18 Mar'20  29 Apr'20  \n",
       "3            5000 /month  10 Apr'20   8 May'20  \n",
       "4       2000-5000 /month  10 Apr'20   8 May'20  \n",
       "...                  ...        ...        ...  \n",
       "11996        5000 /month  20 Feb'20  14 Apr'20  \n",
       "11997  7000-10000 /month  20 Feb'20  10 Apr'20  \n",
       "11998  8000-15000 /month  20 Feb'20  10 Apr'20  \n",
       "11999        3000 /month  20 Feb'20  10 Apr'20  \n",
       "12000   5000-8000 /month  20 Feb'20  10 Apr'20  \n",
       "\n",
       "[11996 rows x 8 columns]"
      ]
     },
     "execution_count": 187,
     "metadata": {},
     "output_type": "execute_result"
    }
   ],
   "source": [
    "df"
   ]
  },
  {
   "cell_type": "markdown",
   "id": "5fdf6a49",
   "metadata": {},
   "source": [
    "#### Extracting salary and converting to integer value"
   ]
  },
  {
   "cell_type": "code",
   "execution_count": 207,
   "id": "c5eaba55",
   "metadata": {},
   "outputs": [],
   "source": [
    "def salary_extract(x):\n",
    "    if x==\"AED 1000 /month\":\n",
    "        return 1000\n",
    "    elif x==\"Not provided\" and x==\"Unpaid\":\n",
    "        return 0\n",
    "    elif x!=\"Performance Based\" and x!=\"Unpaid\":\n",
    "        x = str(x)\n",
    "        x = x.split()[0]\n",
    "        y = x.split(\"/\")[0]\n",
    "        y = y.split(\"-\")\n",
    "        return int(y[0])\n",
    "    else:\n",
    "        return x"
   ]
  },
  {
   "cell_type": "code",
   "execution_count": 208,
   "id": "9e485980",
   "metadata": {},
   "outputs": [],
   "source": [
    "df.stipend = df.stipend.apply(salary_extract)"
   ]
  },
  {
   "cell_type": "code",
   "execution_count": 209,
   "id": "8ccd1ff9",
   "metadata": {},
   "outputs": [
    {
     "data": {
      "text/html": [
       "<div>\n",
       "<style scoped>\n",
       "    .dataframe tbody tr th:only-of-type {\n",
       "        vertical-align: middle;\n",
       "    }\n",
       "\n",
       "    .dataframe tbody tr th {\n",
       "        vertical-align: top;\n",
       "    }\n",
       "\n",
       "    .dataframe thead th {\n",
       "        text-align: right;\n",
       "    }\n",
       "</style>\n",
       "<table border=\"1\" class=\"dataframe\">\n",
       "  <thead>\n",
       "    <tr style=\"text-align: right;\">\n",
       "      <th></th>\n",
       "      <th>company</th>\n",
       "      <th>internship</th>\n",
       "      <th>location</th>\n",
       "      <th>start date</th>\n",
       "      <th>duration</th>\n",
       "      <th>stipend</th>\n",
       "      <th>posted on</th>\n",
       "      <th>apply by</th>\n",
       "    </tr>\n",
       "  </thead>\n",
       "  <tbody>\n",
       "    <tr>\n",
       "      <th>0</th>\n",
       "      <td>Internshala</td>\n",
       "      <td>Web Development</td>\n",
       "      <td>Gurgaon</td>\n",
       "      <td>Immediately</td>\n",
       "      <td>6</td>\n",
       "      <td>20000</td>\n",
       "      <td>29 Feb'20</td>\n",
       "      <td>18 Apr'20</td>\n",
       "    </tr>\n",
       "    <tr>\n",
       "      <th>1</th>\n",
       "      <td>Delhi Technological University - Karyon</td>\n",
       "      <td>Campus Ambassador</td>\n",
       "      <td>Work From Home</td>\n",
       "      <td>Immediately</td>\n",
       "      <td>1</td>\n",
       "      <td>Performance Based</td>\n",
       "      <td>18 Feb'20</td>\n",
       "      <td>19 Apr'20</td>\n",
       "    </tr>\n",
       "    <tr>\n",
       "      <th>2</th>\n",
       "      <td>Internshala</td>\n",
       "      <td>Operations</td>\n",
       "      <td>Gurgaon</td>\n",
       "      <td>15 Apr'20</td>\n",
       "      <td>6</td>\n",
       "      <td>20000</td>\n",
       "      <td>18 Mar'20</td>\n",
       "      <td>29 Apr'20</td>\n",
       "    </tr>\n",
       "    <tr>\n",
       "      <th>3</th>\n",
       "      <td>Your Digital Boat</td>\n",
       "      <td>Content Writing</td>\n",
       "      <td>Work From Home</td>\n",
       "      <td>Immediately</td>\n",
       "      <td>2</td>\n",
       "      <td>5000</td>\n",
       "      <td>10 Apr'20</td>\n",
       "      <td>8 May'20</td>\n",
       "    </tr>\n",
       "    <tr>\n",
       "      <th>4</th>\n",
       "      <td>American Institute Of Big Data Professionals</td>\n",
       "      <td>Web Development</td>\n",
       "      <td>Work From Home</td>\n",
       "      <td>Immediately</td>\n",
       "      <td>1</td>\n",
       "      <td>2000</td>\n",
       "      <td>10 Apr'20</td>\n",
       "      <td>8 May'20</td>\n",
       "    </tr>\n",
       "    <tr>\n",
       "      <th>...</th>\n",
       "      <td>...</td>\n",
       "      <td>...</td>\n",
       "      <td>...</td>\n",
       "      <td>...</td>\n",
       "      <td>...</td>\n",
       "      <td>...</td>\n",
       "      <td>...</td>\n",
       "      <td>...</td>\n",
       "    </tr>\n",
       "    <tr>\n",
       "      <th>11996</th>\n",
       "      <td>DBuzzz</td>\n",
       "      <td>Business Development (Sales)</td>\n",
       "      <td>Lucknow</td>\n",
       "      <td>Immediately</td>\n",
       "      <td>2</td>\n",
       "      <td>5000</td>\n",
       "      <td>20 Feb'20</td>\n",
       "      <td>14 Apr'20</td>\n",
       "    </tr>\n",
       "    <tr>\n",
       "      <th>11997</th>\n",
       "      <td>DataSmart eServices Private Limited</td>\n",
       "      <td>MEAN Stack Development</td>\n",
       "      <td>Hyderabad</td>\n",
       "      <td>Immediately</td>\n",
       "      <td>4</td>\n",
       "      <td>7000</td>\n",
       "      <td>20 Feb'20</td>\n",
       "      <td>10 Apr'20</td>\n",
       "    </tr>\n",
       "    <tr>\n",
       "      <th>11998</th>\n",
       "      <td>Study Sure</td>\n",
       "      <td>Content Writing</td>\n",
       "      <td>Work From Home</td>\n",
       "      <td>Immediately</td>\n",
       "      <td>3</td>\n",
       "      <td>8000</td>\n",
       "      <td>20 Feb'20</td>\n",
       "      <td>10 Apr'20</td>\n",
       "    </tr>\n",
       "    <tr>\n",
       "      <th>11999</th>\n",
       "      <td>Zifcare</td>\n",
       "      <td>Psychology</td>\n",
       "      <td>Work From Home</td>\n",
       "      <td>Immediately</td>\n",
       "      <td>3</td>\n",
       "      <td>3000</td>\n",
       "      <td>20 Feb'20</td>\n",
       "      <td>10 Apr'20</td>\n",
       "    </tr>\n",
       "    <tr>\n",
       "      <th>12000</th>\n",
       "      <td>HUBX</td>\n",
       "      <td>Full Stack Development</td>\n",
       "      <td>Delhi</td>\n",
       "      <td>Immediately</td>\n",
       "      <td>6</td>\n",
       "      <td>5000</td>\n",
       "      <td>20 Feb'20</td>\n",
       "      <td>10 Apr'20</td>\n",
       "    </tr>\n",
       "  </tbody>\n",
       "</table>\n",
       "<p>11996 rows × 8 columns</p>\n",
       "</div>"
      ],
      "text/plain": [
       "                                            company  \\\n",
       "0                                       Internshala   \n",
       "1           Delhi Technological University - Karyon   \n",
       "2                                       Internshala   \n",
       "3                                 Your Digital Boat   \n",
       "4      American Institute Of Big Data Professionals   \n",
       "...                                             ...   \n",
       "11996                                        DBuzzz   \n",
       "11997           DataSmart eServices Private Limited   \n",
       "11998                                    Study Sure   \n",
       "11999                                       Zifcare   \n",
       "12000                                          HUBX   \n",
       "\n",
       "                         internship        location   start date  duration  \\\n",
       "0                   Web Development         Gurgaon  Immediately         6   \n",
       "1                 Campus Ambassador  Work From Home  Immediately         1   \n",
       "2                        Operations         Gurgaon    15 Apr'20         6   \n",
       "3                   Content Writing  Work From Home  Immediately         2   \n",
       "4                   Web Development  Work From Home  Immediately         1   \n",
       "...                             ...             ...          ...       ...   \n",
       "11996  Business Development (Sales)         Lucknow  Immediately         2   \n",
       "11997        MEAN Stack Development       Hyderabad  Immediately         4   \n",
       "11998               Content Writing  Work From Home  Immediately         3   \n",
       "11999                    Psychology  Work From Home  Immediately         3   \n",
       "12000        Full Stack Development           Delhi  Immediately         6   \n",
       "\n",
       "                 stipend  posted on   apply by  \n",
       "0                  20000  29 Feb'20  18 Apr'20  \n",
       "1      Performance Based  18 Feb'20  19 Apr'20  \n",
       "2                  20000  18 Mar'20  29 Apr'20  \n",
       "3                   5000  10 Apr'20   8 May'20  \n",
       "4                   2000  10 Apr'20   8 May'20  \n",
       "...                  ...        ...        ...  \n",
       "11996               5000  20 Feb'20  14 Apr'20  \n",
       "11997               7000  20 Feb'20  10 Apr'20  \n",
       "11998               8000  20 Feb'20  10 Apr'20  \n",
       "11999               3000  20 Feb'20  10 Apr'20  \n",
       "12000               5000  20 Feb'20  10 Apr'20  \n",
       "\n",
       "[11996 rows x 8 columns]"
      ]
     },
     "execution_count": 209,
     "metadata": {},
     "output_type": "execute_result"
    }
   ],
   "source": [
    "df"
   ]
  },
  {
   "cell_type": "markdown",
   "id": "7512a44f",
   "metadata": {},
   "source": [
    "#### Showcasing unique stipend values"
   ]
  },
  {
   "cell_type": "code",
   "execution_count": 210,
   "id": "ebf9ad8f",
   "metadata": {},
   "outputs": [
    {
     "data": {
      "text/plain": [
       "array([20000, 'Performance Based', 5000, 2000, 3000, 4000, 1000, 6000,\n",
       "       1500, 3500, 'Unpaid', 2500, 10000, 25000, 7000, 15000, 21000,\n",
       "       12000, 14000, 17000, 8000, 18000, 21100, 5500, 150, 2001, 250,\n",
       "       16000, 9500, 4500, 7500, 500, 1600, 12500, 26000, 3750, 11000,\n",
       "       8500, 700, 9000, 240, 1200, 17500, 6500, 3499, 100, 30000, 13000,\n",
       "       2600, 1700, 60000, 35000, 5001, 22000, 72000, 3333, 7010, 2800,\n",
       "       24000, 1100, 1150, 1250, 2100, 6300, 4700, 300, 0, 7200, 10900,\n",
       "       2300, 21500, 15, 10173, 800, 5100, 10001, 12400, 11500, 5200, 200,\n",
       "       40000, 6750, 7600, 32000, 9932, 50, 21750, 13500, 45000, 14500,\n",
       "       10500, 80, 15500, 2025], dtype=object)"
      ]
     },
     "execution_count": 210,
     "metadata": {},
     "output_type": "execute_result"
    }
   ],
   "source": [
    "df.stipend.unique()"
   ]
  },
  {
   "cell_type": "markdown",
   "id": "a5734f2e",
   "metadata": {},
   "source": [
    "### Performing functions"
   ]
  },
  {
   "cell_type": "markdown",
   "id": "7c7a1dd6",
   "metadata": {},
   "source": [
    "#### Internship column"
   ]
  },
  {
   "cell_type": "code",
   "execution_count": 137,
   "id": "b78c2c31",
   "metadata": {
    "scrolled": true
   },
   "outputs": [
    {
     "data": {
      "text/plain": [
       "1630"
      ]
     },
     "execution_count": 137,
     "metadata": {},
     "output_type": "execute_result"
    }
   ],
   "source": [
    "df.internship.nunique()"
   ]
  },
  {
   "cell_type": "code",
   "execution_count": 138,
   "id": "5c667c44",
   "metadata": {
    "scrolled": true
   },
   "outputs": [
    {
     "data": {
      "text/plain": [
       "Business Development (Sales)                      1388\n",
       "Content Writing                                   1229\n",
       "Graphic Design                                     978\n",
       "Web Development                                    921\n",
       "Digital Marketing                                  826\n",
       "                                                  ... \n",
       "Business Development (Student Travel Programs)       1\n",
       "Unity 3D Game Development                            1\n",
       "Backend Engineering                                  1\n",
       "Content Translation & Development                    1\n",
       "DevOps Engineer                                      1\n",
       "Name: internship, Length: 1630, dtype: int64"
      ]
     },
     "execution_count": 138,
     "metadata": {},
     "output_type": "execute_result"
    }
   ],
   "source": [
    "df.internship.value_counts()"
   ]
  },
  {
   "cell_type": "code",
   "execution_count": 257,
   "id": "37e89dc6",
   "metadata": {},
   "outputs": [
    {
     "data": {
      "text/plain": [
       "<Axes: >"
      ]
     },
     "execution_count": 257,
     "metadata": {},
     "output_type": "execute_result"
    },
    {
     "data": {
      "image/png": "[encoded data removed]",
      "text/plain": [
       "<Figure size 640x480 with 1 Axes>"
      ]
     },
     "metadata": {},
     "output_type": "display_data"
    }
   ],
   "source": [
    "df.internship.value_counts()[:20].plot(kind=\"bar\")"
   ]
  },
  {
   "cell_type": "code",
   "execution_count": 250,
   "id": "07d95af0",
   "metadata": {},
   "outputs": [
    {
     "data": {
      "text/html": [
       "<div>\n",
       "<style scoped>\n",
       "    .dataframe tbody tr th:only-of-type {\n",
       "        vertical-align: middle;\n",
       "    }\n",
       "\n",
       "    .dataframe tbody tr th {\n",
       "        vertical-align: top;\n",
       "    }\n",
       "\n",
       "    .dataframe thead th {\n",
       "        text-align: right;\n",
       "    }\n",
       "</style>\n",
       "<table border=\"1\" class=\"dataframe\">\n",
       "  <thead>\n",
       "    <tr style=\"text-align: right;\">\n",
       "      <th></th>\n",
       "      <th>duration</th>\n",
       "    </tr>\n",
       "    <tr>\n",
       "      <th>internship</th>\n",
       "      <th></th>\n",
       "    </tr>\n",
       "  </thead>\n",
       "  <tbody>\n",
       "    <tr>\n",
       "      <th>.NET Development</th>\n",
       "      <td>3.923077</td>\n",
       "    </tr>\n",
       "    <tr>\n",
       "      <th>2D &amp; 3D Video Animation</th>\n",
       "      <td>6.000000</td>\n",
       "    </tr>\n",
       "    <tr>\n",
       "      <th>2D Animation</th>\n",
       "      <td>5.250000</td>\n",
       "    </tr>\n",
       "    <tr>\n",
       "      <th>2D Animation &amp; Motion Graphics Design</th>\n",
       "      <td>4.500000</td>\n",
       "    </tr>\n",
       "    <tr>\n",
       "      <th>2D Graphic Design</th>\n",
       "      <td>3.000000</td>\n",
       "    </tr>\n",
       "    <tr>\n",
       "      <th>...</th>\n",
       "      <td>...</td>\n",
       "    </tr>\n",
       "    <tr>\n",
       "      <th>YouTube Marketing</th>\n",
       "      <td>3.250000</td>\n",
       "    </tr>\n",
       "    <tr>\n",
       "      <th>YouTube Video Creation</th>\n",
       "      <td>2.000000</td>\n",
       "    </tr>\n",
       "    <tr>\n",
       "      <th>Youth Leadership Council</th>\n",
       "      <td>6.000000</td>\n",
       "    </tr>\n",
       "    <tr>\n",
       "      <th>eCommerce Operations</th>\n",
       "      <td>6.000000</td>\n",
       "    </tr>\n",
       "    <tr>\n",
       "      <th>iOS App Development</th>\n",
       "      <td>3.689655</td>\n",
       "    </tr>\n",
       "  </tbody>\n",
       "</table>\n",
       "<p>1630 rows × 1 columns</p>\n",
       "</div>"
      ],
      "text/plain": [
       "                                       duration\n",
       "internship                                     \n",
       ".NET Development                       3.923077\n",
       "2D & 3D Video Animation                6.000000\n",
       "2D Animation                           5.250000\n",
       "2D Animation & Motion Graphics Design  4.500000\n",
       "2D Graphic Design                      3.000000\n",
       "...                                         ...\n",
       "YouTube Marketing                      3.250000\n",
       "YouTube Video Creation                 2.000000\n",
       "Youth Leadership Council               6.000000\n",
       "eCommerce Operations                   6.000000\n",
       "iOS App Development                    3.689655\n",
       "\n",
       "[1630 rows x 1 columns]"
      ]
     },
     "execution_count": 250,
     "metadata": {},
     "output_type": "execute_result"
    }
   ],
   "source": [
    "df.groupby(\"internship\").agg({\"duration\":\"mean\"})"
   ]
  },
  {
   "cell_type": "markdown",
   "id": "918ad40c",
   "metadata": {},
   "source": [
    "### Company"
   ]
  },
  {
   "cell_type": "code",
   "execution_count": 219,
   "id": "244a7e84",
   "metadata": {},
   "outputs": [
    {
     "data": {
      "text/plain": [
       "6472"
      ]
     },
     "execution_count": 219,
     "metadata": {},
     "output_type": "execute_result"
    }
   ],
   "source": [
    "df.company.nunique()"
   ]
  },
  {
   "cell_type": "code",
   "execution_count": 220,
   "id": "f805a43b",
   "metadata": {},
   "outputs": [
    {
     "data": {
      "text/plain": [
       "Protiviti                                    40\n",
       "Intellify                                    36\n",
       "Challenge Katta                              30\n",
       "Stirring Minds                               25\n",
       "Untrodden Labs                               24\n",
       "                                             ..\n",
       "Digidex Labs                                  1\n",
       "School Of Excellence                          1\n",
       "Touchpoints Communication Private Limited     1\n",
       "Cactus Communications Private Limited         1\n",
       "Study Sure                                    1\n",
       "Name: company, Length: 6472, dtype: int64"
      ]
     },
     "execution_count": 220,
     "metadata": {},
     "output_type": "execute_result"
    }
   ],
   "source": [
    "df.company.value_counts()"
   ]
  },
  {
   "cell_type": "markdown",
   "id": "beb31f17",
   "metadata": {},
   "source": [
    "#### Ratio of companies with start date as immediately"
   ]
  },
  {
   "cell_type": "code",
   "execution_count": 222,
   "id": "1c190622",
   "metadata": {},
   "outputs": [
    {
     "data": {
      "text/plain": [
       "Immediately           11763\n",
       "1 May - 10 Jun'20        31\n",
       "1 May - 31 May'20         8\n",
       "15 Apr - 25 May'20        8\n",
       "15 May - 24 Jun'20        7\n",
       "                      ...  \n",
       "27 Apr - 10 May'20        1\n",
       "15 Jun - 15 Jul'20        1\n",
       "2 May - 20 May'20         1\n",
       "1 Jun - 8 Jun'20          1\n",
       "25 May - 31 May'20        1\n",
       "Name: start date, Length: 121, dtype: int64"
      ]
     },
     "execution_count": 222,
     "metadata": {},
     "output_type": "execute_result"
    }
   ],
   "source": [
    "df[\"start date\"].value_counts()"
   ]
  },
  {
   "cell_type": "code",
   "execution_count": 229,
   "id": "a7b9851a",
   "metadata": {},
   "outputs": [
    {
     "name": "stdout",
     "output_type": "stream",
     "text": [
      "Ratio : 98.05768589529843\n"
     ]
    }
   ],
   "source": [
    "print(\"Ratio :\",(11763/df.shape[0])*100)"
   ]
  },
  {
   "cell_type": "markdown",
   "id": "5f3fba9e",
   "metadata": {},
   "source": [
    "### Duration"
   ]
  },
  {
   "cell_type": "markdown",
   "id": "fc708364",
   "metadata": {},
   "source": [
    "#### Average duration of internship"
   ]
  },
  {
   "cell_type": "code",
   "execution_count": 233,
   "id": "502763dc",
   "metadata": {},
   "outputs": [
    {
     "data": {
      "text/plain": [
       "duration    3.467989\n",
       "dtype: float64"
      ]
     },
     "execution_count": 233,
     "metadata": {},
     "output_type": "execute_result"
    }
   ],
   "source": [
    "df.agg({\"duration\":\"mean\"})"
   ]
  },
  {
   "cell_type": "code",
   "execution_count": 255,
   "id": "3e6affad",
   "metadata": {},
   "outputs": [
    {
     "data": {
      "text/plain": [
       "3     4314\n",
       "6     3144\n",
       "2     2715\n",
       "1     1161\n",
       "4      544\n",
       "5       93\n",
       "12      11\n",
       "36       8\n",
       "24       6\n",
       "Name: duration, dtype: int64"
      ]
     },
     "execution_count": 255,
     "metadata": {},
     "output_type": "execute_result"
    }
   ],
   "source": [
    "df.duration.value_counts()"
   ]
  },
  {
   "cell_type": "code",
   "execution_count": 235,
   "id": "07993862",
   "metadata": {},
   "outputs": [
    {
     "data": {
      "text/plain": [
       "<Axes: ylabel='duration'>"
      ]
     },
     "execution_count": 235,
     "metadata": {},
     "output_type": "execute_result"
    },
    {
     "data": {
      "image/png": "[encoded data removed]",
      "text/plain": [
       "<Figure size 640x480 with 1 Axes>"
      ]
     },
     "metadata": {},
     "output_type": "display_data"
    }
   ],
   "source": [
    "df.duration.value_counts().plot(kind=\"pie\")"
   ]
  },
  {
   "cell_type": "markdown",
   "id": "7c8747e7",
   "metadata": {},
   "source": [
    "Number of internships during a particular duration"
   ]
  },
  {
   "cell_type": "markdown",
   "id": "ca1d213f",
   "metadata": {},
   "source": [
    "#### Top 10 dates when internships start"
   ]
  },
  {
   "cell_type": "code",
   "execution_count": 248,
   "id": "454b19bd",
   "metadata": {},
   "outputs": [
    {
     "data": {
      "text/plain": [
       "<Axes: >"
      ]
     },
     "execution_count": 248,
     "metadata": {},
     "output_type": "execute_result"
    },
    {
     "data": {
      "image/png": "[encoded data removed]",
      "text/plain": [
       "<Figure size 640x480 with 1 Axes>"
      ]
     },
     "metadata": {},
     "output_type": "display_data"
    }
   ],
   "source": [
    "df[\"apply by\"].value_counts()[:10].plot(kind=\"bar\")"
   ]
  },
  {
   "cell_type": "markdown",
   "id": "4d85f105",
   "metadata": {},
   "source": [
    "#### Location range"
   ]
  },
  {
   "cell_type": "code",
   "execution_count": 241,
   "id": "1c1d243b",
   "metadata": {},
   "outputs": [
    {
     "data": {
      "text/plain": [
       "Work From Home                  4454\n",
       "Delhi                           1301\n",
       "Bangalore                        939\n",
       "Mumbai                           860\n",
       "Pune                             510\n",
       "                                ... \n",
       "Balewadi                           1\n",
       "New York (United States)           1\n",
       "Dubai (United Arab Emirates)       1\n",
       "Thudiyalur                         1\n",
       "Mandsaur                           1\n",
       "Name: location, Length: 254, dtype: int64"
      ]
     },
     "execution_count": 241,
     "metadata": {},
     "output_type": "execute_result"
    }
   ],
   "source": [
    "df.location.value_counts()"
   ]
  },
  {
   "cell_type": "code",
   "execution_count": 258,
   "id": "186bb0b5",
   "metadata": {},
   "outputs": [
    {
     "data": {
      "text/plain": [
       "<Axes: ylabel='location'>"
      ]
     },
     "execution_count": 258,
     "metadata": {},
     "output_type": "execute_result"
    },
    {
     "data": {
      "image/png": "[encoded data removed]",
      "text/plain": [
       "<Figure size 640x480 with 1 Axes>"
      ]
     },
     "metadata": {},
     "output_type": "display_data"
    }
   ],
   "source": [
    "df.location.value_counts()[:10].plot(kind=\"pie\")"
   ]
  },
  {
   "cell_type": "code",
   "execution_count": 254,
   "id": "d00ebc0d",
   "metadata": {},
   "outputs": [
    {
     "name": "stdout",
     "output_type": "stream",
     "text": [
      "Ratio of internships WFH: 37.129043014338116\n"
     ]
    }
   ],
   "source": [
    "print(\"Ratio of internships WFH:\" ,(4454/len(df))*100)"
   ]
  },
  {
   "cell_type": "markdown",
   "id": "a5884831",
   "metadata": {},
   "source": [
    "## INSIGHTS"
   ]
  },
  {
   "cell_type": "markdown",
   "id": "48793067",
   "metadata": {},
   "source": [
    "1) Maximum preferred area of internship (High to low):\n",
    "<ul>\n",
    "        <li>Business Development (Sales) </li>                    \n",
    "        <li>Content Writing              </li>                     \n",
    "        <li>Graphic Design </li>\n",
    "   </ul>\n",
    "2) Exactly 98.057% of companies have start date as \"immediately\"\n",
    "3) Average duration of internship is 3.467 months\n",
    "4) High number of internships are posted in months of april and may i.e. Summer internships\n",
    "5) 37% of internships are WFH and major offline internships are from major cities including Delhi, Bangalore and Mumbai\n",
    "6) Maximum internships are for a duration of 3, 6 or 2 months\n",
    "       "
   ]
  }
 ],
 "metadata": {
  "kernelspec": {
   "display_name": "Python 3 (ipykernel)",
   "language": "python",
   "name": "python3"
  },
  "language_info": {
   "codemirror_mode": {
    "name": "ipython",
    "version": 3
   },
   "file_extension": ".py",
   "mimetype": "text/x-python",
   "name": "python",
   "nbconvert_exporter": "python",
   "pygments_lexer": "ipython3",
   "version": "3.11.2"
  }
 },
 "nbformat": 4,
 "nbformat_minor": 5
}
