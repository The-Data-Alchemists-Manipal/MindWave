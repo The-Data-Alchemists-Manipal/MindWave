{
  "cells": [
    {
      "attachments": {},
      "cell_type": "markdown",
      "metadata": {
        "_uuid": "0308f333e172323c385671305f15e2fefcdee2ed"
      },
      "source": [
        "## Problem Description\n",
        "Given dataset contains data of feedback give by customers.\n",
        "\n",
        "It contains a total of five categories: 'Bug', 'comments', 'complaints', 'meaningless', 'requests'.\n",
        "\n",
        "My task was to build a model to predict the categories of feedback.\n"
      ]
    },
    {
      "attachments": {},
      "cell_type": "markdown",
      "metadata": {
        "_uuid": "eaae2aee9804ea8802d840abb44ac1b1f6273409"
      },
      "source": [
        "## Content\n",
        "1.  Introduction\n",
        "2. Data Injection\n",
        "3. Data Visualisation\n",
        "4. Data Cleaning and Preparation\n",
        "5. Training                                                                                                                                                                                                                                                           \n",
        "5.1. One Vs All                                                                                                                                                                                                                                    \n",
        "5.2.Artificial Neural Network\n",
        "6. Evaluation by graph\n",
        "7. Prediction\n",
        "8. Saving model"
      ]
    },
    {
      "cell_type": "code",
      "execution_count": 1,
      "metadata": {
        "_uuid": "d6d08f297241d5f532b6c9009fc92867b84d3ddf",
        "trusted": true
      },
      "outputs": [
        {
          "name": "stderr",
          "output_type": "stream",
          "text": [
            "/opt/conda/lib/python3.6/site-packages/h5py/__init__.py:36: FutureWarning: Conversion of the second argument of issubdtype from `float` to `np.floating` is deprecated. In future, it will be treated as `np.float64 == np.dtype(float).type`.\n",
            "  from ._conv import register_converters as _register_converters\n",
            "Using TensorFlow backend.\n"
          ]
        }
      ],
      "source": [
        "#importing libareris\n",
        "import pandas as pd\n",
        "import numpy as np\n",
        "import os\n",
        "#For visualization\n",
        "import matplotlib.pyplot as plt\n",
        "import seaborn as sns\n",
        "# For Transforming our target vatiable\n",
        "from keras.utils import to_categorical\n",
        "from sklearn.preprocessing import LabelEncoder\n",
        "#For preprocessing text data\n",
        "import re\n",
        "from nltk.corpus import stopwords\n",
        "from sklearn.feature_extraction.text import TfidfVectorizer"
      ]
    },
    {
      "attachments": {},
      "cell_type": "markdown",
      "metadata": {
        "_uuid": "1541cc2a67db4ceb168a7ef709c6665c9225d5bf"
      },
      "source": [
        "## Data Injection"
      ]
    },
    {
      "cell_type": "code",
      "execution_count": 2,
      "metadata": {
        "_cell_guid": "79c7e3d0-c299-4dcb-8224-4455121ee9b0",
        "_uuid": "d629ff2d2480ee46fbb7e2d37f6b5fab8052498a",
        "trusted": true
      },
      "outputs": [
        {
          "name": "stdout",
          "output_type": "stream",
          "text": [
            "../input/bugs.txt\n",
            "../input/comments.txt\n",
            "../input/complaints.txt\n",
            "../input/meaningless.txt\n",
            "../input/requests.txt\n"
          ]
        }
      ],
      "source": [
        "path1='../input/bugs.txt'\n",
        "print(path1)\n",
        "path2='../input/comments.txt'\n",
        "print(path2)\n",
        "path3='../input/complaints.txt'\n",
        "print(path3)\n",
        "path4='../input/meaningless.txt'\n",
        "print(path4)\n",
        "path5='../input/requests.txt'\n",
        "print(path5)\n"
      ]
    },
    {
      "cell_type": "code",
      "execution_count": 3,
      "metadata": {
        "_uuid": "2bdca0d761dd2b0e10a15b032f31fa3f028e8bde",
        "collapsed": true,
        "trusted": true
      },
      "outputs": [],
      "source": [
        "def text_data(path):\n",
        "    text_Body=[]\n",
        "    with open(path, \"r\", encoding='windows-1256') as f:\n",
        "        lines = f.readlines()\n",
        "            #print(lines) \n",
        "        text_Body.append(lines)\n",
        "    text_body_appended=[]\n",
        "    for i in range(0,len(text_Body[0])):\n",
        "        value=text_Body[0][i]\n",
        "        text_body_appended.append(value)\n",
        "    return text_body_appended"
      ]
    },
    {
      "cell_type": "code",
      "execution_count": 4,
      "metadata": {
        "_uuid": "d684e1a50da4e4320c6fb1dadab4a1f904e94bbf",
        "collapsed": true,
        "trusted": true
      },
      "outputs": [],
      "source": [
        "bugs=text_data(path1)\n",
        "comments=text_data(path2)\n",
        "complaints=text_data(path3)\n",
        "meaningless=text_data(path4)\n",
        "requests=text_data(path5)"
      ]
    },
    {
      "attachments": {},
      "cell_type": "markdown",
      "metadata": {
        "_uuid": "628d506575cec50d432e5ffa38830ae59193526f"
      },
      "source": [
        "## Data Visualisation"
      ]
    },
    {
      "cell_type": "code",
      "execution_count": 5,
      "metadata": {
        "_uuid": "e0688708a7d9d02bc07a7b48a856d1764afde60f",
        "trusted": true
      },
      "outputs": [
        {
          "name": "stdout",
          "output_type": "stream",
          "text": [
            "72\n",
            "1759\n",
            "950\n",
            "306\n",
            "103\n"
          ]
        }
      ],
      "source": [
        "print(len(bugs))\n",
        "print(len(comments))\n",
        "print(len(complaints))\n",
        "print(len(meaningless))\n",
        "print(len(requests))"
      ]
    },
    {
      "cell_type": "code",
      "execution_count": 6,
      "metadata": {
        "_uuid": "380b29f7566a329abc356dd0f3058f7525705048",
        "collapsed": true,
        "trusted": true
      },
      "outputs": [],
      "source": [
        "def data_frame(txt,category):\n",
        "    column_names=('text','Category')\n",
        "    df = pd.DataFrame(columns=column_names)\n",
        "    df['text']=txt\n",
        "    df['Category']=category\n",
        "    return df"
      ]
    },
    {
      "cell_type": "code",
      "execution_count": 7,
      "metadata": {
        "_uuid": "05ff0af9cc8d99413f4d0e7195678b097d096286",
        "collapsed": true,
        "trusted": true
      },
      "outputs": [],
      "source": [
        "data=data_frame(bugs,\"Bug\")\n",
        "data=data.append(data_frame(comments,\"comments\"))\n",
        "data=data.append(data_frame(complaints,\"complaints\"))\n",
        "data=data.append(data_frame(meaningless,\"meaningless\"))\n",
        "data=data.append(data_frame(requests,\"requests\"))"
      ]
    },
    {
      "cell_type": "code",
      "execution_count": 8,
      "metadata": {
        "_uuid": "3abb59ce295afca5318abe2c0d94a61e1e09bfae",
        "trusted": true
      },
      "outputs": [
        {
          "data": {
            "text/plain": [
              "array(['Bug', 'comments', 'complaints', 'meaningless', 'requests'],\n",
              "      dtype=object)"
            ]
          },
          "execution_count": 8,
          "metadata": {},
          "output_type": "execute_result"
        }
      ],
      "source": [
        "data['Category'].unique()"
      ]
    },
    {
      "cell_type": "code",
      "execution_count": 9,
      "metadata": {
        "_uuid": "094c47d5581e124b7e081b228702566aaf4b3555",
        "trusted": true
      },
      "outputs": [
        {
          "data": {
            "text/html": [
              "<div>\n",
              "<style scoped>\n",
              "    .dataframe tbody tr th:only-of-type {\n",
              "        vertical-align: middle;\n",
              "    }\n",
              "\n",
              "    .dataframe tbody tr th {\n",
              "        vertical-align: top;\n",
              "    }\n",
              "\n",
              "    .dataframe thead th {\n",
              "        text-align: right;\n",
              "    }\n",
              "</style>\n",
              "<table border=\"1\" class=\"dataframe\">\n",
              "  <thead>\n",
              "    <tr style=\"text-align: right;\">\n",
              "      <th></th>\n",
              "      <th>text</th>\n",
              "      <th>Category</th>\n",
              "    </tr>\n",
              "  </thead>\n",
              "  <tbody>\n",
              "    <tr>\n",
              "      <th>0</th>\n",
              "      <td>A lot of the time my purchase won't show up.\\n</td>\n",
              "      <td>Bug</td>\n",
              "    </tr>\n",
              "    <tr>\n",
              "      <th>1</th>\n",
              "      <td>I only see the notification if I catch it live...</td>\n",
              "      <td>Bug</td>\n",
              "    </tr>\n",
              "    <tr>\n",
              "      <th>2</th>\n",
              "      <td>When I type the typing area should slide above...</td>\n",
              "      <td>Bug</td>\n",
              "    </tr>\n",
              "    <tr>\n",
              "      <th>3</th>\n",
              "      <td>I ran it, and promptly got driver problems wit...</td>\n",
              "      <td>Bug</td>\n",
              "    </tr>\n",
              "    <tr>\n",
              "      <th>4</th>\n",
              "      <td>Still calls keep dropping with the new updates\\n</td>\n",
              "      <td>Bug</td>\n",
              "    </tr>\n",
              "  </tbody>\n",
              "</table>\n",
              "</div>"
            ],
            "text/plain": [
              "                                                text Category\n",
              "0     A lot of the time my purchase won't show up.\\n      Bug\n",
              "1  I only see the notification if I catch it live...      Bug\n",
              "2  When I type the typing area should slide above...      Bug\n",
              "3  I ran it, and promptly got driver problems wit...      Bug\n",
              "4   Still calls keep dropping with the new updates\\n      Bug"
            ]
          },
          "execution_count": 9,
          "metadata": {},
          "output_type": "execute_result"
        }
      ],
      "source": [
        "data.head()"
      ]
    },
    {
      "cell_type": "code",
      "execution_count": 10,
      "metadata": {
        "_uuid": "5ece156e9f9d1a187d1dc4cd1c9a4e0262a9b55a",
        "trusted": true
      },
      "outputs": [
        {
          "data": {
            "text/plain": [
              "Category\n",
              "Bug              72\n",
              "comments       1759\n",
              "complaints      950\n",
              "meaningless     306\n",
              "requests        103\n",
              "dtype: int64"
            ]
          },
          "execution_count": 10,
          "metadata": {},
          "output_type": "execute_result"
        }
      ],
      "source": [
        "data.groupby(['Category']).size()"
      ]
    },
    {
      "cell_type": "code",
      "execution_count": 11,
      "metadata": {
        "_uuid": "7ba8c58c57a0ea8d28157084b6a833e1e6c2bde0",
        "trusted": true
      },
      "outputs": [
        {
          "data": {
            "image/png": "[encoded data removed]",
            "text/plain": [
              "<matplotlib.figure.Figure at 0x7f93129dfeb8>"
            ]
          },
          "metadata": {},
          "output_type": "display_data"
        }
      ],
      "source": [
        "sns.countplot(x='Category',data=data,order=['Bug', 'comments', 'complaints', 'meaningless', 'requests'])\n",
        "plt.show()"
      ]
    },
    {
      "attachments": {},
      "cell_type": "markdown",
      "metadata": {
        "_uuid": "3072a8aa0751e9766f8bf28652542bc77602d4d6"
      },
      "source": [
        "## Data Cleaning and Preparation"
      ]
    },
    {
      "cell_type": "code",
      "execution_count": 12,
      "metadata": {
        "_uuid": "d83f7bb7ef07929bec36601a7319c536acf74058",
        "collapsed": true,
        "trusted": true
      },
      "outputs": [],
      "source": [
        "#remove link starts with https\n",
        "data['text'] = data['text'].map(lambda x:re.sub('http.*','',str(x)))\n",
        "#removing data and time (numeric values)\n",
        "data['text'] = data['text'].map(lambda x:re.sub('[0-9]','',str(x)))\n",
        "#removing \\n\n",
        "data['text'] = data['text'].map(lambda x:re.sub('[\\\\n]','',str(x)))\n",
        "#removing some special characters\n",
        "data['text'] = data['text'].map(lambda x:re.sub('[#|*|$|:|\\\\|&]','',str(x)))\n"
      ]
    },
    {
      "cell_type": "code",
      "execution_count": 13,
      "metadata": {
        "_uuid": "a9e70bf25385d2562a671e48adcda46901b58fa8",
        "collapsed": true,
        "trusted": true
      },
      "outputs": [],
      "source": [
        "my_stopwords = ['jan','january','february' 'feb', 'march', 'april', 'may', 'june','july','aug',\n",
        "                    'october','October','june','july','February','apr','Apr','february','jun','jul','feb','sep',\n",
        "                    'august','sept','september','oct','october','nov','november','dec','december','mar','november october','wasnt']"
      ]
    },
    {
      "cell_type": "code",
      "execution_count": 14,
      "metadata": {
        "_uuid": "9b605a21b39bd6afae124eb31a549dd9b5abed96",
        "collapsed": true,
        "trusted": true
      },
      "outputs": [],
      "source": [
        "#preparing train data\n",
        "#removing stopwords and tokenizing it.\n",
        "stop=stopwords.words('english')\n",
        "text=[]\n",
        "none=data['text'].map(lambda x:text.append(' '.join\n",
        "       ([word for word in str(x).strip().split() if not word in set(stop) and word not in my_stopwords])))\n",
        "tfid=TfidfVectorizer(strip_accents=None,lowercase=False,preprocessor=None)\n",
        "x_features=tfid.fit_transform(text).toarray()\n",
        "x_features=pd.DataFrame(x_features)"
      ]
    },
    {
      "attachments": {},
      "cell_type": "markdown",
      "metadata": {
        "_uuid": "39cbd6882e0cf9368ceb12aa05ef5d2987810fb5"
      },
      "source": [
        "## Training"
      ]
    },
    {
      "attachments": {},
      "cell_type": "markdown",
      "metadata": {
        "_uuid": "dbbbe7f3c9a4003d7f46d55643b8f98babbf9866"
      },
      "source": [
        "## One Vs All"
      ]
    },
    {
      "cell_type": "code",
      "execution_count": 15,
      "metadata": {
        "_uuid": "c95ca4725729cd8a67c8b0fdf277c7f9f26a74c5",
        "collapsed": true,
        "trusted": true
      },
      "outputs": [],
      "source": [
        "#preparing target variable\n",
        "target=data['Category']\n",
        "label=LabelEncoder()\n",
        "target=label.fit_transform(target)\n",
        "target=to_categorical(target)"
      ]
    },
    {
      "cell_type": "code",
      "execution_count": 16,
      "metadata": {
        "_uuid": "bdef15e04b62beb6af4d11beb2fdac64f77a0b5f",
        "trusted": true
      },
      "outputs": [
        {
          "data": {
            "text/html": [
              "<div>\n",
              "<style scoped>\n",
              "    .dataframe tbody tr th:only-of-type {\n",
              "        vertical-align: middle;\n",
              "    }\n",
              "\n",
              "    .dataframe tbody tr th {\n",
              "        vertical-align: top;\n",
              "    }\n",
              "\n",
              "    .dataframe thead th {\n",
              "        text-align: right;\n",
              "    }\n",
              "</style>\n",
              "<table border=\"1\" class=\"dataframe\">\n",
              "  <thead>\n",
              "    <tr style=\"text-align: right;\">\n",
              "      <th></th>\n",
              "      <th>Bug</th>\n",
              "      <th>comments</th>\n",
              "      <th>complaints</th>\n",
              "      <th>meaningless</th>\n",
              "      <th>requests</th>\n",
              "    </tr>\n",
              "  </thead>\n",
              "  <tbody>\n",
              "    <tr>\n",
              "      <th>0</th>\n",
              "      <td>1.0</td>\n",
              "      <td>0.0</td>\n",
              "      <td>0.0</td>\n",
              "      <td>0.0</td>\n",
              "      <td>0.0</td>\n",
              "    </tr>\n",
              "    <tr>\n",
              "      <th>1</th>\n",
              "      <td>1.0</td>\n",
              "      <td>0.0</td>\n",
              "      <td>0.0</td>\n",
              "      <td>0.0</td>\n",
              "      <td>0.0</td>\n",
              "    </tr>\n",
              "    <tr>\n",
              "      <th>2</th>\n",
              "      <td>1.0</td>\n",
              "      <td>0.0</td>\n",
              "      <td>0.0</td>\n",
              "      <td>0.0</td>\n",
              "      <td>0.0</td>\n",
              "    </tr>\n",
              "    <tr>\n",
              "      <th>3</th>\n",
              "      <td>1.0</td>\n",
              "      <td>0.0</td>\n",
              "      <td>0.0</td>\n",
              "      <td>0.0</td>\n",
              "      <td>0.0</td>\n",
              "    </tr>\n",
              "    <tr>\n",
              "      <th>4</th>\n",
              "      <td>1.0</td>\n",
              "      <td>0.0</td>\n",
              "      <td>0.0</td>\n",
              "      <td>0.0</td>\n",
              "      <td>0.0</td>\n",
              "    </tr>\n",
              "  </tbody>\n",
              "</table>\n",
              "</div>"
            ],
            "text/plain": [
              "   Bug  comments  complaints  meaningless  requests\n",
              "0  1.0       0.0         0.0          0.0       0.0\n",
              "1  1.0       0.0         0.0          0.0       0.0\n",
              "2  1.0       0.0         0.0          0.0       0.0\n",
              "3  1.0       0.0         0.0          0.0       0.0\n",
              "4  1.0       0.0         0.0          0.0       0.0"
            ]
          },
          "execution_count": 16,
          "metadata": {},
          "output_type": "execute_result"
        }
      ],
      "source": [
        "target=pd.DataFrame(data=target,columns=['Bug', 'comments', 'complaints', 'meaningless', 'requests'])\n",
        "target.head()"
      ]
    },
    {
      "cell_type": "code",
      "execution_count": 17,
      "metadata": {
        "_uuid": "95598dbfbd28ca02808649fbacb215a870ffb63c",
        "collapsed": true,
        "trusted": true
      },
      "outputs": [],
      "source": [
        "#training with One Vs All(One VS Rest)\n",
        "from sklearn.model_selection import cross_val_score\n",
        "from sklearn.multiclass import OneVsRestClassifier\n",
        "from sklearn.linear_model import LogisticRegression as lg\n",
        "logistic=lg(penalty='l2',solver='newton-cg',C=5,multi_class='ovr',max_iter=5000)#using multiclass as ovr(one vs rest)"
      ]
    },
    {
      "attachments": {},
      "cell_type": "markdown",
      "metadata": {
        "_uuid": "8530c45a23c9d75e9bed51b9a3a4e84bb277c8e0"
      },
      "source": [
        "**Training Bugs vs all**"
      ]
    },
    {
      "cell_type": "code",
      "execution_count": 18,
      "metadata": {
        "_uuid": "df1223cb899ae14ddcd889402f8894f5822ba531",
        "trusted": true
      },
      "outputs": [
        {
          "data": {
            "text/plain": [
              "0.8200000000000001"
            ]
          },
          "execution_count": 18,
          "metadata": {},
          "output_type": "execute_result"
        }
      ],
      "source": [
        "acc=cross_val_score(estimator=logistic,X=x_features.iloc[:144,:],y=target.iloc[:144,0],cv=5)\n",
        "acc.mean()"
      ]
    },
    {
      "attachments": {},
      "cell_type": "markdown",
      "metadata": {
        "_uuid": "a054dcc58f613719e9ab1e40bb29c3d3bca3d5ac"
      },
      "source": [
        "**Training comments vs all**"
      ]
    },
    {
      "cell_type": "code",
      "execution_count": 19,
      "metadata": {
        "_uuid": "805014c68f71eb12248f566d3eaeb62014547dea",
        "trusted": true
      },
      "outputs": [
        {
          "data": {
            "text/plain": [
              "0.8645083969274807"
            ]
          },
          "execution_count": 19,
          "metadata": {},
          "output_type": "execute_result"
        }
      ],
      "source": [
        "acc=cross_val_score(estimator=logistic,X=x_features.iloc[100:2100,:],y=target.iloc[100:2100,1],cv=5)\n",
        "acc.mean()"
      ]
    },
    {
      "attachments": {},
      "cell_type": "markdown",
      "metadata": {
        "_uuid": "e4874a4531327a9a6207830ead98a952e1593bf1"
      },
      "source": [
        "**Training  complaints vs all**"
      ]
    },
    {
      "cell_type": "code",
      "execution_count": 20,
      "metadata": {
        "_uuid": "717c1e165d355c01f058445336933a32c58c72f5",
        "trusted": true
      },
      "outputs": [
        {
          "data": {
            "text/plain": [
              "0.6124260355029586"
            ]
          },
          "execution_count": 20,
          "metadata": {},
          "output_type": "execute_result"
        }
      ],
      "source": [
        "acc=cross_val_score(estimator=logistic,X=x_features.iloc[1500:3500,:],y=target.iloc[1500:3500,2],cv=5)\n",
        "acc.mean()"
      ]
    },
    {
      "attachments": {},
      "cell_type": "markdown",
      "metadata": {
        "_uuid": "bbae562b8d25ad6a3f4ba990f57a4f0aa712a525"
      },
      "source": [
        "**Training meaningless vs all**"
      ]
    },
    {
      "cell_type": "code",
      "execution_count": 21,
      "metadata": {
        "_uuid": "9dba555c8ecfe1dd1e0b30fcb870c7eacb10d9a8",
        "trusted": true
      },
      "outputs": [
        {
          "data": {
            "text/plain": [
              "0.6941155718769857"
            ]
          },
          "execution_count": 21,
          "metadata": {},
          "output_type": "execute_result"
        }
      ],
      "source": [
        "acc=cross_val_score(estimator=logistic,X=x_features.iloc[1500:3500,:],y=target.iloc[1500:3500,2],cv=5)\n",
        "acc.mean()"
      ]
    },
    {
      "attachments": {},
      "cell_type": "markdown",
      "metadata": {
        "_uuid": "f8a7b1e7bd6a9713ca6f32187ea8652a15e0e510"
      },
      "source": [
        "**Training requests vs all**"
      ]
    },
    {
      "cell_type": "code",
      "execution_count": 22,
      "metadata": {
        "_uuid": "74050d55801b78a851ab1eaf2812ad02b720abf2",
        "trusted": true
      },
      "outputs": [
        {
          "data": {
            "text/plain": [
              "0.7230952380952381"
            ]
          },
          "execution_count": 22,
          "metadata": {},
          "output_type": "execute_result"
        }
      ],
      "source": [
        "acc=cross_val_score(estimator=logistic,X=x_features.iloc[-206:,:],y=target.iloc[-206:,4],cv=5)\n",
        "acc.mean()"
      ]
    },
    {
      "attachments": {},
      "cell_type": "markdown",
      "metadata": {
        "_uuid": "e54b7e11926b1184dac799a44e1584b148b1504a"
      },
      "source": [
        "> *As we can clearly see that 'comment' got the best accuracy (abour 87%) this is because  of its the bigger data size which making our moldel inclined towards comments*"
      ]
    },
    {
      "attachments": {},
      "cell_type": "markdown",
      "metadata": {
        "_uuid": "6be9d311d46f42b0c3b3a1ca30afe16a24073ea9"
      },
      "source": [
        "## Artificial Neural Network"
      ]
    },
    {
      "cell_type": "code",
      "execution_count": 23,
      "metadata": {
        "_uuid": "05cb9aefa36168c83212b7b7e82f82b8706040da",
        "collapsed": true,
        "trusted": true
      },
      "outputs": [],
      "source": [
        "#lets dig deeper and apply Deep learning for better accuracy\n",
        "from keras.models import Sequential\n",
        "from keras.layers import Flatten, Dense\n",
        "from keras import regularizers\n",
        "from keras.layers import Dropout"
      ]
    },
    {
      "cell_type": "code",
      "execution_count": 24,
      "metadata": {
        "_uuid": "18fe023012acefd9863408f828c000cb4cdd2561",
        "trusted": true
      },
      "outputs": [
        {
          "data": {
            "text/plain": [
              "(3190, 5193)"
            ]
          },
          "execution_count": 24,
          "metadata": {},
          "output_type": "execute_result"
        }
      ],
      "source": [
        "x_features.shape"
      ]
    },
    {
      "attachments": {},
      "cell_type": "markdown",
      "metadata": {
        "_uuid": "eab24af8c85133b51a0b4129aa0d2eb524029473"
      },
      "source": [
        "### Preparing target variable for ANN"
      ]
    },
    {
      "cell_type": "code",
      "execution_count": 25,
      "metadata": {
        "_uuid": "0c7c2272fb424c28f4776cb36017affa2f68d73e",
        "collapsed": true,
        "trusted": true
      },
      "outputs": [],
      "source": [
        "#preparing target variable\n",
        "target=data['Category']\n",
        "label=LabelEncoder()\n",
        "target=label.fit_transform(target)\n",
        "target=to_categorical(target)"
      ]
    },
    {
      "cell_type": "code",
      "execution_count": 26,
      "metadata": {
        "_uuid": "bc7759d8be5ec1780be69dba37b6bd6ffb896495",
        "trusted": true
      },
      "outputs": [
        {
          "data": {
            "text/html": [
              "<div>\n",
              "<style scoped>\n",
              "    .dataframe tbody tr th:only-of-type {\n",
              "        vertical-align: middle;\n",
              "    }\n",
              "\n",
              "    .dataframe tbody tr th {\n",
              "        vertical-align: top;\n",
              "    }\n",
              "\n",
              "    .dataframe thead th {\n",
              "        text-align: right;\n",
              "    }\n",
              "</style>\n",
              "<table border=\"1\" class=\"dataframe\">\n",
              "  <thead>\n",
              "    <tr style=\"text-align: right;\">\n",
              "      <th></th>\n",
              "      <th>Bug</th>\n",
              "      <th>comments</th>\n",
              "      <th>complaints</th>\n",
              "      <th>meaningless</th>\n",
              "      <th>requests</th>\n",
              "    </tr>\n",
              "  </thead>\n",
              "  <tbody>\n",
              "    <tr>\n",
              "      <th>0</th>\n",
              "      <td>1.0</td>\n",
              "      <td>0.0</td>\n",
              "      <td>0.0</td>\n",
              "      <td>0.0</td>\n",
              "      <td>0.0</td>\n",
              "    </tr>\n",
              "    <tr>\n",
              "      <th>1</th>\n",
              "      <td>1.0</td>\n",
              "      <td>0.0</td>\n",
              "      <td>0.0</td>\n",
              "      <td>0.0</td>\n",
              "      <td>0.0</td>\n",
              "    </tr>\n",
              "    <tr>\n",
              "      <th>2</th>\n",
              "      <td>1.0</td>\n",
              "      <td>0.0</td>\n",
              "      <td>0.0</td>\n",
              "      <td>0.0</td>\n",
              "      <td>0.0</td>\n",
              "    </tr>\n",
              "    <tr>\n",
              "      <th>3</th>\n",
              "      <td>1.0</td>\n",
              "      <td>0.0</td>\n",
              "      <td>0.0</td>\n",
              "      <td>0.0</td>\n",
              "      <td>0.0</td>\n",
              "    </tr>\n",
              "    <tr>\n",
              "      <th>4</th>\n",
              "      <td>1.0</td>\n",
              "      <td>0.0</td>\n",
              "      <td>0.0</td>\n",
              "      <td>0.0</td>\n",
              "      <td>0.0</td>\n",
              "    </tr>\n",
              "  </tbody>\n",
              "</table>\n",
              "</div>"
            ],
            "text/plain": [
              "   Bug  comments  complaints  meaningless  requests\n",
              "0  1.0       0.0         0.0          0.0       0.0\n",
              "1  1.0       0.0         0.0          0.0       0.0\n",
              "2  1.0       0.0         0.0          0.0       0.0\n",
              "3  1.0       0.0         0.0          0.0       0.0\n",
              "4  1.0       0.0         0.0          0.0       0.0"
            ]
          },
          "execution_count": 26,
          "metadata": {},
          "output_type": "execute_result"
        }
      ],
      "source": [
        "target=pd.DataFrame(data=target,columns=['Bug', 'comments', 'complaints', 'meaningless', 'requests'])\n",
        "target.head()"
      ]
    },
    {
      "cell_type": "code",
      "execution_count": 27,
      "metadata": {
        "_uuid": "c9d1aa794dcb03ce29efd5ab79c11577f581cc09",
        "collapsed": true,
        "trusted": true
      },
      "outputs": [],
      "source": [
        "clf=Sequential()\n",
        "#adding layers to ANN\n",
        "clf.add(Dense(units=2048,activation=\"relu\",kernel_initializer=\"uniform\",kernel_regularizer=regularizers.l2(0.001),input_dim=5193))\n",
        "clf.add(Dropout(0.2))\n",
        "#adding two more hidden layer to ANN\n",
        "clf.add(Dense(units=2048,activation=\"relu\",kernel_initializer=\"uniform\",kernel_regularizer=regularizers.l2(0.001)))\n",
        "clf.add(Dropout(0.2))\n",
        "clf.add(Dense(units=2048,activation=\"relu\",kernel_initializer=\"uniform\",kernel_regularizer=regularizers.l2(0.001)))\n",
        "clf.add(Dropout(0.2))\n",
        "#adding output layer\n",
        "clf.add(Dense(units=5,activation=\"softmax\",kernel_initializer=\"uniform\"))\n",
        "#compiling ANN\n",
        "clf.compile(optimizer='adam',loss='categorical_crossentropy',metrics=['accuracy'])"
      ]
    },
    {
      "cell_type": "code",
      "execution_count": 28,
      "metadata": {
        "_uuid": "138fde9f9fdb34023b3823c25511b236ae2c879c",
        "trusted": true
      },
      "outputs": [
        {
          "name": "stdout",
          "output_type": "stream",
          "text": [
            "Epoch 1/24\n",
            "3190/3190 [==============================] - 8s 3ms/step - loss: 4.3694 - acc: 0.5734\n",
            "Epoch 2/24\n",
            "3190/3190 [==============================] - 3s 1ms/step - loss: 1.1357 - acc: 0.7053\n",
            "Epoch 3/24\n",
            "3190/3190 [==============================] - 3s 1ms/step - loss: 0.9241 - acc: 0.7803\n",
            "Epoch 4/24\n",
            "3190/3190 [==============================] - 3s 1ms/step - loss: 0.7969 - acc: 0.8298A: 0s - loss: 0.7944 - acc: 0.83\n",
            "Epoch 5/24\n",
            "3190/3190 [==============================] - 3s 1ms/step - loss: 0.7319 - acc: 0.8542\n",
            "Epoch 6/24\n",
            "3190/3190 [==============================] - 3s 1ms/step - loss: 0.6833 - acc: 0.8690\n",
            "Epoch 7/24\n",
            "3190/3190 [==============================] - 3s 1ms/step - loss: 0.6058 - acc: 0.8887\n",
            "Epoch 8/24\n",
            "3190/3190 [==============================] - 3s 1ms/step - loss: 0.5725 - acc: 0.8934\n",
            "Epoch 9/24\n",
            "3190/3190 [==============================] - 3s 1ms/step - loss: 0.5486 - acc: 0.9016\n",
            "Epoch 10/24\n",
            "3190/3190 [==============================] - 3s 1ms/step - loss: 0.5154 - acc: 0.9078\n",
            "Epoch 11/24\n",
            "3190/3190 [==============================] - 3s 1ms/step - loss: 0.4897 - acc: 0.9110\n",
            "Epoch 12/24\n",
            "3190/3190 [==============================] - 3s 1ms/step - loss: 0.4504 - acc: 0.9207\n",
            "Epoch 13/24\n",
            "3190/3190 [==============================] - 3s 1ms/step - loss: 0.4381 - acc: 0.9248\n",
            "Epoch 14/24\n",
            "3190/3190 [==============================] - 3s 1ms/step - loss: 0.4152 - acc: 0.9288A: 1s - loss: 0.\n",
            "Epoch 15/24\n",
            "3190/3190 [==============================] - 3s 1ms/step - loss: 0.4199 - acc: 0.9245\n",
            "Epoch 16/24\n",
            "3190/3190 [==============================] - 3s 1ms/step - loss: 0.3990 - acc: 0.9335\n",
            "Epoch 17/24\n",
            "3190/3190 [==============================] - 3s 1ms/step - loss: 0.3977 - acc: 0.9292\n",
            "Epoch 18/24\n",
            "3190/3190 [==============================] - 3s 1ms/step - loss: 0.3871 - acc: 0.9329\n",
            "Epoch 19/24\n",
            "3190/3190 [==============================] - 3s 1ms/step - loss: 0.3760 - acc: 0.9320\n",
            "Epoch 20/24\n",
            "3190/3190 [==============================] - 3s 1ms/step - loss: 0.3831 - acc: 0.9301A: 1s - loss: \n",
            "Epoch 21/24\n",
            "3190/3190 [==============================] - 3s 1ms/step - loss: 0.3568 - acc: 0.9370\n",
            "Epoch 22/24\n",
            "3190/3190 [==============================] - 3s 1ms/step - loss: 0.3470 - acc: 0.9357\n",
            "Epoch 23/24\n",
            "3190/3190 [==============================] - 3s 1ms/step - loss: 0.3516 - acc: 0.9386\n",
            "Epoch 24/24\n",
            "3190/3190 [==============================] - 3s 1ms/step - loss: 0.3612 - acc: 0.9335\n"
          ]
        }
      ],
      "source": [
        "#fitting ANN\n",
        "hist=clf.fit(x_features,target,batch_size=32,epochs=24)"
      ]
    },
    {
      "attachments": {},
      "cell_type": "markdown",
      "metadata": {
        "_uuid": "d2812d698728cd48bd70d23b986929b9e8e5ca3d"
      },
      "source": [
        "## Evaluation by Graph"
      ]
    },
    {
      "cell_type": "code",
      "execution_count": 29,
      "metadata": {
        "_uuid": "e4a23b060c3a9e8b18ae48d133b89eaeca9199bb",
        "trusted": true
      },
      "outputs": [
        {
          "data": {
            "image/png": "[encoded data removed]",
            "text/plain": [
              "<matplotlib.figure.Figure at 0x7f92a99749b0>"
            ]
          },
          "metadata": {},
          "output_type": "display_data"
        }
      ],
      "source": [
        "# Plot the loss and accuracy curves for training and validation \n",
        "fig, ax = plt.subplots(2,1)\n",
        "ax[0].plot(hist.history['loss'], color='b', label=\"Training loss\")\n",
        "legend = ax[0].legend(loc='best', shadow=True)\n",
        "\n",
        "ax[1].plot(hist.history['acc'], color='r', label=\"Training accuracy\")\n",
        "legend = ax[1].legend(loc='best', shadow=True)"
      ]
    },
    {
      "attachments": {},
      "cell_type": "markdown",
      "metadata": {
        "_uuid": "bf949d11f0a51ce4a051e621c481cb487af0eeac",
        "collapsed": true,
        "trusted": true
      },
      "source": [
        "## Prediction"
      ]
    },
    {
      "cell_type": "code",
      "execution_count": 31,
      "metadata": {
        "_uuid": "1e6a4187f43af9631841ac14e4efc5ff80d93bf0",
        "collapsed": true,
        "trusted": true
      },
      "outputs": [],
      "source": [
        "test=[\"A lot of the time my purchase won't show up.\\n\",\n",
        "      'There should be a Free Demo Mode :/\\n',\n",
        "      \"App constantly crashes and looks like it was designed in 2009... Have to open the app multiple times before I get to a login screen, usually receiving a 'not responding' error.\\n\"]"
      ]
    },
    {
      "cell_type": "code",
      "execution_count": 32,
      "metadata": {
        "_uuid": "6ef339d427731e3d1d66d0dea07bf32d9bf89b52",
        "collapsed": true,
        "trusted": true
      },
      "outputs": [],
      "source": [
        "test=pd.DataFrame(test,columns=['text'])"
      ]
    },
    {
      "cell_type": "code",
      "execution_count": 33,
      "metadata": {
        "_uuid": "ada3bf0275d43db6b5570d4ccfae1451b5c7f90f",
        "collapsed": true,
        "trusted": true
      },
      "outputs": [],
      "source": [
        "#remove link starts with https\n",
        "test['text'] = test['text'].map(lambda x:re.sub('http.*','',str(x)))\n",
        "#removing data and time (numeric values)\n",
        "test['text'] = test['text'].map(lambda x:re.sub('[0-9]','',str(x)))\n",
        "#removing some special characters\n",
        "test['text'] = test['text'].map(lambda x:re.sub('[#|*|$|:|\\\\|&]','',str(x)))"
      ]
    },
    {
      "cell_type": "code",
      "execution_count": 34,
      "metadata": {
        "_uuid": "6c3a345d2efe2d4557e21dd23b54ab4a11630628",
        "collapsed": true,
        "trusted": true
      },
      "outputs": [],
      "source": [
        "#preparing data\n",
        "#removing stopwords and tokenizing it.\n",
        "stop=stopwords.words('english')\n",
        "text=[]\n",
        "none=test['text'].map(lambda x:text.append(' '.join\n",
        "       ([word for word in str(x).strip().split() if not word in set(stop)])))\n",
        "x_features_test=tfid.transform(text).toarray()\n",
        "x_features_test=pd.DataFrame(x_features_test)"
      ]
    },
    {
      "attachments": {},
      "cell_type": "markdown",
      "metadata": {
        "_uuid": "288c7893361de4673d462547862bf3bb5039b499"
      },
      "source": [
        "**Predicting by ANN model**"
      ]
    },
    {
      "cell_type": "code",
      "execution_count": 35,
      "metadata": {
        "_uuid": "802086c0817bf613081d34792d5ab0220e3e5931",
        "collapsed": true,
        "trusted": true
      },
      "outputs": [],
      "source": [
        "results=clf.predict(x_features_test)"
      ]
    },
    {
      "cell_type": "code",
      "execution_count": 36,
      "metadata": {
        "_uuid": "7c173c9662aa477e209565dcb7bbafea5bcbfacf",
        "trusted": true
      },
      "outputs": [
        {
          "data": {
            "text/plain": [
              "array([0, 4, 2])"
            ]
          },
          "execution_count": 36,
          "metadata": {},
          "output_type": "execute_result"
        }
      ],
      "source": [
        "# select the indix with the maximum probability\n",
        "results = np.argmax(results,axis = 1)\n",
        "results"
      ]
    },
    {
      "attachments": {},
      "cell_type": "markdown",
      "metadata": {
        "_uuid": "a22cf6376701a847e481ed17ade3171ace83d7f7"
      },
      "source": [
        "**All predictions are correct**"
      ]
    },
    {
      "cell_type": "code",
      "execution_count": 37,
      "metadata": {
        "_uuid": "62d5252d66f290b497093156b1e06a7f9a5a9415",
        "collapsed": true,
        "trusted": true
      },
      "outputs": [],
      "source": [
        "results=pd.DataFrame(results,columns=['Category'])\n",
        "int_category={0:'Bug', 1:'comments', 2:'complaints', 3:'meaningless', 4:'requests'}\n",
        "results['Category']=results['Category'].apply(lambda x:int_category[x])\n",
        "results['text']=test['text']"
      ]
    },
    {
      "cell_type": "code",
      "execution_count": 38,
      "metadata": {
        "_uuid": "61863c82b70a131298202990b24259877f33f62d",
        "trusted": true
      },
      "outputs": [
        {
          "data": {
            "text/html": [
              "<div>\n",
              "<style scoped>\n",
              "    .dataframe tbody tr th:only-of-type {\n",
              "        vertical-align: middle;\n",
              "    }\n",
              "\n",
              "    .dataframe tbody tr th {\n",
              "        vertical-align: top;\n",
              "    }\n",
              "\n",
              "    .dataframe thead th {\n",
              "        text-align: right;\n",
              "    }\n",
              "</style>\n",
              "<table border=\"1\" class=\"dataframe\">\n",
              "  <thead>\n",
              "    <tr style=\"text-align: right;\">\n",
              "      <th></th>\n",
              "      <th>Category</th>\n",
              "      <th>text</th>\n",
              "    </tr>\n",
              "  </thead>\n",
              "  <tbody>\n",
              "    <tr>\n",
              "      <th>0</th>\n",
              "      <td>Bug</td>\n",
              "      <td>A lot of the time my purchase won't show up.\\n</td>\n",
              "    </tr>\n",
              "    <tr>\n",
              "      <th>1</th>\n",
              "      <td>requests</td>\n",
              "      <td>There should be a Free Demo Mode /\\n</td>\n",
              "    </tr>\n",
              "    <tr>\n",
              "      <th>2</th>\n",
              "      <td>complaints</td>\n",
              "      <td>App constantly crashes and looks like it was d...</td>\n",
              "    </tr>\n",
              "  </tbody>\n",
              "</table>\n",
              "</div>"
            ],
            "text/plain": [
              "     Category                                               text\n",
              "0         Bug     A lot of the time my purchase won't show up.\\n\n",
              "1    requests               There should be a Free Demo Mode /\\n\n",
              "2  complaints  App constantly crashes and looks like it was d..."
            ]
          },
          "execution_count": 38,
          "metadata": {},
          "output_type": "execute_result"
        }
      ],
      "source": [
        "results"
      ]
    },
    {
      "attachments": {},
      "cell_type": "markdown",
      "metadata": {
        "_uuid": "4ccd556cef8c03b7a743abe0f60b4567c98739bc"
      },
      "source": [
        "## Saving model"
      ]
    },
    {
      "cell_type": "code",
      "execution_count": 39,
      "metadata": {
        "_uuid": "1f9165fa66537c7188bfcb68e223909eccc0ca60",
        "collapsed": true,
        "trusted": true
      },
      "outputs": [],
      "source": [
        "clf.save('feedback_clfr.h5')"
      ]
    },
    {
      "attachments": {},
      "cell_type": "markdown",
      "metadata": {
        "_uuid": "fb984495cc71e5c9d9659910b4856df4ffd998f1",
        "collapsed": true,
        "trusted": true
      },
      "source": [
        "****"
      ]
    }
  ],
  "metadata": {
    "kernelspec": {
      "display_name": "Python 3",
      "language": "python",
      "name": "python3"
    },
    "language_info": {
      "codemirror_mode": {
        "name": "ipython",
        "version": 3
      },
      "file_extension": ".py",
      "mimetype": "text/x-python",
      "name": "python",
      "nbconvert_exporter": "python",
      "pygments_lexer": "ipython3",
      "version": "3.6.4"
    }
  },
  "nbformat": 4,
  "nbformat_minor": 1
}
