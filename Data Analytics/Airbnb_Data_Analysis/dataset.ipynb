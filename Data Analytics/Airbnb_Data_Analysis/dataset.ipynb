{
 "cells": [
  {
   "cell_type": "markdown",
   "id": "77d5135d",
   "metadata": {},
   "source": [
    "![NYC Skyline](image/nyc.jpg)\n",
    "\n",
    "Welcome to New York City, one of the most-visited cities in the world. There are many [Airbnb](https://www.airbnb.com/) listings in New York City to meet the high demand for temporary lodging for travelers, which can be anywhere between a few nights to many months. In this notebook, we will take a closer look at the New York Airbnb market by combining data from multiple file types like `.csv`, `.tsv`, and `.xlsx`.\n",
    "\n",
    "Recall that **CSV**, **TSV**, and **Excel** files are three common formats for storing data. \n",
    "Three files containing data on 2019 Airbnb listings are available to you:\n",
    "\n",
    "**data/airbnb_price.csv**\n",
    "- **`listing_id`**: unique identifier of listing\n",
    "- **`price`**: nightly listing price in USD\n",
    "- **`nbhood_full`**: name of borough and neighborhood where listing is located\n",
    "\n",
    "**data/airbnb_room_type.xlsx**\n",
    "This is an Excel file containing data on Airbnb listing descriptions and room types.\n",
    "- **`listing_id`**: unique identifier of listing\n",
    "- **`description`**: listing description\n",
    "- **`room_type`**: Airbnb has three types of rooms: shared rooms, private rooms, and entire homes/apartments\n",
    "\n",
    "**data/airbnb_last_review.tsv**\n",
    "This is a TSV file containing data on Airbnb host names and review dates.\n",
    "- **`listing_id`**: unique identifier of listing\n",
    "- **`host_name`**: name of listing host\n",
    "- **`last_review`**: date when the listing was last reviewed\n",
    "\n",
    "Our goals are to convert untidy data into appropriate formats to analyze, and answer key questions including:\n",
    "\n",
    "- What is the average price, per night, of an Airbnb listing in NYC?\n",
    "- How does the average price of an Airbnb listing, per month, compare to the private rental market?\n",
    "- How many adverts are for private rooms?\n",
    "- How do Airbnb listing prices compare across the five NYC boroughs?"
   ]
  },
  {
   "cell_type": "markdown",
   "id": "5b38289b",
   "metadata": {},
   "source": [
    "### Importing modules"
   ]
  },
  {
   "cell_type": "code",
   "execution_count": 1,
   "id": "25fc5239",
   "metadata": {},
   "outputs": [],
   "source": [
    "import numpy as np\n",
    "import pandas as pd\n",
    "import seaborn as sns"
   ]
  },
  {
   "cell_type": "markdown",
   "id": "17cc5384",
   "metadata": {},
   "source": [
    "### Importing datasets"
   ]
  },
  {
   "cell_type": "code",
   "execution_count": 2,
   "id": "b394d9d6",
   "metadata": {},
   "outputs": [],
   "source": [
    "prices=pd.read_csv(\"datasets/airbnb_price.csv\")\n",
    "xls=pd.read_excel(\"datasets/airbnb_room_type.xlsx\")\n",
    "room_types=pd.read_excel(\"datasets/airbnb_room_type.xlsx\",sheet_name=0)\n",
    "reviews=pd.read_csv(\"datasets/airbnb_last_review.tsv\",sep=\"\\t\")"
   ]
  },
  {
   "cell_type": "markdown",
   "id": "f40f06ab",
   "metadata": {},
   "source": [
    "### Early analysis"
   ]
  },
  {
   "cell_type": "code",
   "execution_count": 3,
   "id": "9c9990aa",
   "metadata": {},
   "outputs": [
    {
     "data": {
      "text/html": [
       "<div>\n",
       "<style scoped>\n",
       "    .dataframe tbody tr th:only-of-type {\n",
       "        vertical-align: middle;\n",
       "    }\n",
       "\n",
       "    .dataframe tbody tr th {\n",
       "        vertical-align: top;\n",
       "    }\n",
       "\n",
       "    .dataframe thead th {\n",
       "        text-align: right;\n",
       "    }\n",
       "</style>\n",
       "<table border=\"1\" class=\"dataframe\">\n",
       "  <thead>\n",
       "    <tr style=\"text-align: right;\">\n",
       "      <th></th>\n",
       "      <th>listing_id</th>\n",
       "      <th>price</th>\n",
       "      <th>nbhood_full</th>\n",
       "    </tr>\n",
       "  </thead>\n",
       "  <tbody>\n",
       "    <tr>\n",
       "      <th>0</th>\n",
       "      <td>2595</td>\n",
       "      <td>225 dollars</td>\n",
       "      <td>Manhattan, Midtown</td>\n",
       "    </tr>\n",
       "    <tr>\n",
       "      <th>1</th>\n",
       "      <td>3831</td>\n",
       "      <td>89 dollars</td>\n",
       "      <td>Brooklyn, Clinton Hill</td>\n",
       "    </tr>\n",
       "    <tr>\n",
       "      <th>2</th>\n",
       "      <td>5099</td>\n",
       "      <td>200 dollars</td>\n",
       "      <td>Manhattan, Murray Hill</td>\n",
       "    </tr>\n",
       "    <tr>\n",
       "      <th>3</th>\n",
       "      <td>5178</td>\n",
       "      <td>79 dollars</td>\n",
       "      <td>Manhattan, Hell's Kitchen</td>\n",
       "    </tr>\n",
       "    <tr>\n",
       "      <th>4</th>\n",
       "      <td>5238</td>\n",
       "      <td>150 dollars</td>\n",
       "      <td>Manhattan, Chinatown</td>\n",
       "    </tr>\n",
       "  </tbody>\n",
       "</table>\n",
       "</div>"
      ],
      "text/plain": [
       "   listing_id        price                nbhood_full\n",
       "0        2595  225 dollars         Manhattan, Midtown\n",
       "1        3831   89 dollars     Brooklyn, Clinton Hill\n",
       "2        5099  200 dollars     Manhattan, Murray Hill\n",
       "3        5178   79 dollars  Manhattan, Hell's Kitchen\n",
       "4        5238  150 dollars       Manhattan, Chinatown"
      ]
     },
     "execution_count": 3,
     "metadata": {},
     "output_type": "execute_result"
    }
   ],
   "source": [
    "prices.head()"
   ]
  },
  {
   "cell_type": "code",
   "execution_count": 4,
   "id": "a2674521",
   "metadata": {},
   "outputs": [
    {
     "data": {
      "text/html": [
       "<div>\n",
       "<style scoped>\n",
       "    .dataframe tbody tr th:only-of-type {\n",
       "        vertical-align: middle;\n",
       "    }\n",
       "\n",
       "    .dataframe tbody tr th {\n",
       "        vertical-align: top;\n",
       "    }\n",
       "\n",
       "    .dataframe thead th {\n",
       "        text-align: right;\n",
       "    }\n",
       "</style>\n",
       "<table border=\"1\" class=\"dataframe\">\n",
       "  <thead>\n",
       "    <tr style=\"text-align: right;\">\n",
       "      <th></th>\n",
       "      <th>listing_id</th>\n",
       "      <th>description</th>\n",
       "      <th>room_type</th>\n",
       "    </tr>\n",
       "  </thead>\n",
       "  <tbody>\n",
       "    <tr>\n",
       "      <th>0</th>\n",
       "      <td>2595</td>\n",
       "      <td>Skylit Midtown Castle</td>\n",
       "      <td>Entire home/apt</td>\n",
       "    </tr>\n",
       "    <tr>\n",
       "      <th>1</th>\n",
       "      <td>3831</td>\n",
       "      <td>Cozy Entire Floor of Brownstone</td>\n",
       "      <td>Entire home/apt</td>\n",
       "    </tr>\n",
       "    <tr>\n",
       "      <th>2</th>\n",
       "      <td>5099</td>\n",
       "      <td>Large Cozy 1 BR Apartment In Midtown East</td>\n",
       "      <td>Entire home/apt</td>\n",
       "    </tr>\n",
       "    <tr>\n",
       "      <th>3</th>\n",
       "      <td>5178</td>\n",
       "      <td>Large Furnished Room Near B'way</td>\n",
       "      <td>private room</td>\n",
       "    </tr>\n",
       "    <tr>\n",
       "      <th>4</th>\n",
       "      <td>5238</td>\n",
       "      <td>Cute &amp; Cozy Lower East Side 1 bdrm</td>\n",
       "      <td>Entire home/apt</td>\n",
       "    </tr>\n",
       "  </tbody>\n",
       "</table>\n",
       "</div>"
      ],
      "text/plain": [
       "   listing_id                                description        room_type\n",
       "0        2595                      Skylit Midtown Castle  Entire home/apt\n",
       "1        3831            Cozy Entire Floor of Brownstone  Entire home/apt\n",
       "2        5099  Large Cozy 1 BR Apartment In Midtown East  Entire home/apt\n",
       "3        5178            Large Furnished Room Near B'way     private room\n",
       "4        5238         Cute & Cozy Lower East Side 1 bdrm  Entire home/apt"
      ]
     },
     "execution_count": 4,
     "metadata": {},
     "output_type": "execute_result"
    }
   ],
   "source": [
    "xls.head()"
   ]
  },
  {
   "cell_type": "code",
   "execution_count": 5,
   "id": "1fef4709",
   "metadata": {},
   "outputs": [
    {
     "data": {
      "text/html": [
       "<div>\n",
       "<style scoped>\n",
       "    .dataframe tbody tr th:only-of-type {\n",
       "        vertical-align: middle;\n",
       "    }\n",
       "\n",
       "    .dataframe tbody tr th {\n",
       "        vertical-align: top;\n",
       "    }\n",
       "\n",
       "    .dataframe thead th {\n",
       "        text-align: right;\n",
       "    }\n",
       "</style>\n",
       "<table border=\"1\" class=\"dataframe\">\n",
       "  <thead>\n",
       "    <tr style=\"text-align: right;\">\n",
       "      <th></th>\n",
       "      <th>listing_id</th>\n",
       "      <th>host_name</th>\n",
       "      <th>last_review</th>\n",
       "    </tr>\n",
       "  </thead>\n",
       "  <tbody>\n",
       "    <tr>\n",
       "      <th>0</th>\n",
       "      <td>2595</td>\n",
       "      <td>Jennifer</td>\n",
       "      <td>May 21 2019</td>\n",
       "    </tr>\n",
       "    <tr>\n",
       "      <th>1</th>\n",
       "      <td>3831</td>\n",
       "      <td>LisaRoxanne</td>\n",
       "      <td>July 05 2019</td>\n",
       "    </tr>\n",
       "    <tr>\n",
       "      <th>2</th>\n",
       "      <td>5099</td>\n",
       "      <td>Chris</td>\n",
       "      <td>June 22 2019</td>\n",
       "    </tr>\n",
       "    <tr>\n",
       "      <th>3</th>\n",
       "      <td>5178</td>\n",
       "      <td>Shunichi</td>\n",
       "      <td>June 24 2019</td>\n",
       "    </tr>\n",
       "    <tr>\n",
       "      <th>4</th>\n",
       "      <td>5238</td>\n",
       "      <td>Ben</td>\n",
       "      <td>June 09 2019</td>\n",
       "    </tr>\n",
       "  </tbody>\n",
       "</table>\n",
       "</div>"
      ],
      "text/plain": [
       "   listing_id    host_name   last_review\n",
       "0        2595     Jennifer   May 21 2019\n",
       "1        3831  LisaRoxanne  July 05 2019\n",
       "2        5099        Chris  June 22 2019\n",
       "3        5178     Shunichi  June 24 2019\n",
       "4        5238          Ben  June 09 2019"
      ]
     },
     "execution_count": 5,
     "metadata": {},
     "output_type": "execute_result"
    }
   ],
   "source": [
    "reviews.head()"
   ]
  },
  {
   "cell_type": "markdown",
   "id": "f5b1902c",
   "metadata": {},
   "source": [
    "> We see that the price column of prices dataframe contains of strings i.e. 124 dollars etc.In order to calculate the average price we need to operate on the prices.Hence , we have to remove the trailing string (dollars) and change the type to int."
   ]
  },
  {
   "cell_type": "code",
   "execution_count": 6,
   "id": "f017e7ad",
   "metadata": {},
   "outputs": [],
   "source": [
    "prices['price']=prices['price'].str.extract('(\\d+)')\n",
    "prices['price']=prices['price'].astype(\"int\")"
   ]
  },
  {
   "cell_type": "markdown",
   "id": "f7cd3225",
   "metadata": {},
   "source": [
    "### Analysing the price column of prices df"
   ]
  },
  {
   "cell_type": "code",
   "execution_count": 7,
   "id": "7e2019d1",
   "metadata": {},
   "outputs": [
    {
     "data": {
      "text/html": [
       "<div>\n",
       "<style scoped>\n",
       "    .dataframe tbody tr th:only-of-type {\n",
       "        vertical-align: middle;\n",
       "    }\n",
       "\n",
       "    .dataframe tbody tr th {\n",
       "        vertical-align: top;\n",
       "    }\n",
       "\n",
       "    .dataframe thead th {\n",
       "        text-align: right;\n",
       "    }\n",
       "</style>\n",
       "<table border=\"1\" class=\"dataframe\">\n",
       "  <thead>\n",
       "    <tr style=\"text-align: right;\">\n",
       "      <th></th>\n",
       "      <th>listing_id</th>\n",
       "      <th>price</th>\n",
       "    </tr>\n",
       "  </thead>\n",
       "  <tbody>\n",
       "    <tr>\n",
       "      <th>count</th>\n",
       "      <td>2.520900e+04</td>\n",
       "      <td>25209.000000</td>\n",
       "    </tr>\n",
       "    <tr>\n",
       "      <th>mean</th>\n",
       "      <td>2.068922e+07</td>\n",
       "      <td>141.777936</td>\n",
       "    </tr>\n",
       "    <tr>\n",
       "      <th>std</th>\n",
       "      <td>1.102928e+07</td>\n",
       "      <td>147.349137</td>\n",
       "    </tr>\n",
       "    <tr>\n",
       "      <th>min</th>\n",
       "      <td>2.595000e+03</td>\n",
       "      <td>0.000000</td>\n",
       "    </tr>\n",
       "    <tr>\n",
       "      <th>25%</th>\n",
       "      <td>1.202273e+07</td>\n",
       "      <td>69.000000</td>\n",
       "    </tr>\n",
       "    <tr>\n",
       "      <th>50%</th>\n",
       "      <td>2.234391e+07</td>\n",
       "      <td>105.000000</td>\n",
       "    </tr>\n",
       "    <tr>\n",
       "      <th>75%</th>\n",
       "      <td>3.037669e+07</td>\n",
       "      <td>175.000000</td>\n",
       "    </tr>\n",
       "    <tr>\n",
       "      <th>max</th>\n",
       "      <td>3.645581e+07</td>\n",
       "      <td>7500.000000</td>\n",
       "    </tr>\n",
       "  </tbody>\n",
       "</table>\n",
       "</div>"
      ],
      "text/plain": [
       "         listing_id         price\n",
       "count  2.520900e+04  25209.000000\n",
       "mean   2.068922e+07    141.777936\n",
       "std    1.102928e+07    147.349137\n",
       "min    2.595000e+03      0.000000\n",
       "25%    1.202273e+07     69.000000\n",
       "50%    2.234391e+07    105.000000\n",
       "75%    3.037669e+07    175.000000\n",
       "max    3.645581e+07   7500.000000"
      ]
     },
     "execution_count": 7,
     "metadata": {},
     "output_type": "execute_result"
    }
   ],
   "source": [
    "prices.describe()"
   ]
  },
  {
   "cell_type": "markdown",
   "id": "8cd26eb9",
   "metadata": {},
   "source": [
    "### Removing the outliers"
   ]
  },
  {
   "cell_type": "code",
   "execution_count": 8,
   "id": "2afbc2af",
   "metadata": {},
   "outputs": [],
   "source": [
    "prices=prices[(prices.price !=0) & (prices.price !=7500)]"
   ]
  },
  {
   "cell_type": "markdown",
   "id": "9282b1b3",
   "metadata": {},
   "source": [
    "### Finding average prices "
   ]
  },
  {
   "cell_type": "code",
   "execution_count": 9,
   "id": "f7b82919",
   "metadata": {},
   "outputs": [],
   "source": [
    "avg_price=prices['price'].mean().round(2)\n"
   ]
  },
  {
   "cell_type": "markdown",
   "id": "cb81412f",
   "metadata": {},
   "source": [
    "### Calculating price per month"
   ]
  },
  {
   "cell_type": "code",
   "execution_count": 10,
   "id": "606c1d71",
   "metadata": {},
   "outputs": [],
   "source": [
    "price_per_month=prices['price']*365/12"
   ]
  },
  {
   "cell_type": "code",
   "execution_count": 11,
   "id": "7f7dfa35",
   "metadata": {},
   "outputs": [],
   "source": [
    "prices['price_per_month']=price_per_month\n"
   ]
  },
  {
   "cell_type": "markdown",
   "id": "ed6f409d",
   "metadata": {},
   "source": [
    "### Finding average price per month"
   ]
  },
  {
   "cell_type": "code",
   "execution_count": 12,
   "id": "696c06ae",
   "metadata": {},
   "outputs": [],
   "source": [
    "average_price_per_month=prices['price_per_month'].mean().round(2)"
   ]
  },
  {
   "cell_type": "markdown",
   "id": "4db3c837",
   "metadata": {},
   "source": [
    "###### According to Zumper, a 1 bedroom apartment in New York City costs, on average 3100 per month.Finding how much more, in dollars, the average cost of an Airbnb listing is versus the private market, and store it as difference, rounding your final answer to two decimal places."
   ]
  },
  {
   "cell_type": "code",
   "execution_count": 13,
   "id": "e12bf436",
   "metadata": {},
   "outputs": [],
   "source": [
    "difference=prices['price_per_month']-3100"
   ]
  },
  {
   "cell_type": "code",
   "execution_count": 14,
   "id": "5a91fbe5",
   "metadata": {},
   "outputs": [
    {
     "data": {
      "text/plain": [
       "0        Entire home/apt\n",
       "1        Entire home/apt\n",
       "2        Entire home/apt\n",
       "3           private room\n",
       "4        Entire home/apt\n",
       "              ...       \n",
       "25204       PRIVATE ROOM\n",
       "25205       PRIVATE ROOM\n",
       "25206       Private room\n",
       "25207    Entire home/apt\n",
       "25208       Private room\n",
       "Name: room_type, Length: 25209, dtype: object"
      ]
     },
     "execution_count": 14,
     "metadata": {},
     "output_type": "execute_result"
    }
   ],
   "source": [
    "xls['room_type']"
   ]
  },
  {
   "cell_type": "markdown",
   "id": "1744af60",
   "metadata": {},
   "source": [
    "### Removing the variations"
   ]
  },
  {
   "cell_type": "code",
   "execution_count": 15,
   "id": "e3a6a42c",
   "metadata": {},
   "outputs": [],
   "source": [
    "xls['room_type']=xls['room_type'].str.lower()\n",
    "xls['room_type']=xls['room_type'].convert_dtypes()\n"
   ]
  },
  {
   "cell_type": "markdown",
   "id": "c8d7a477",
   "metadata": {},
   "source": [
    "### Storing count of values for room types "
   ]
  },
  {
   "cell_type": "code",
   "execution_count": 16,
   "id": "193a249d",
   "metadata": {},
   "outputs": [],
   "source": [
    "room_frequencies=xls['room_type'].value_counts()"
   ]
  },
  {
   "cell_type": "markdown",
   "id": "07caaa9b",
   "metadata": {},
   "source": [
    "### Analysing reviews dataframe"
   ]
  },
  {
   "cell_type": "code",
   "execution_count": 17,
   "id": "2e926baa",
   "metadata": {},
   "outputs": [
    {
     "data": {
      "text/html": [
       "<div>\n",
       "<style scoped>\n",
       "    .dataframe tbody tr th:only-of-type {\n",
       "        vertical-align: middle;\n",
       "    }\n",
       "\n",
       "    .dataframe tbody tr th {\n",
       "        vertical-align: top;\n",
       "    }\n",
       "\n",
       "    .dataframe thead th {\n",
       "        text-align: right;\n",
       "    }\n",
       "</style>\n",
       "<table border=\"1\" class=\"dataframe\">\n",
       "  <thead>\n",
       "    <tr style=\"text-align: right;\">\n",
       "      <th></th>\n",
       "      <th>listing_id</th>\n",
       "      <th>host_name</th>\n",
       "      <th>last_review</th>\n",
       "    </tr>\n",
       "  </thead>\n",
       "  <tbody>\n",
       "    <tr>\n",
       "      <th>0</th>\n",
       "      <td>2595</td>\n",
       "      <td>Jennifer</td>\n",
       "      <td>May 21 2019</td>\n",
       "    </tr>\n",
       "    <tr>\n",
       "      <th>1</th>\n",
       "      <td>3831</td>\n",
       "      <td>LisaRoxanne</td>\n",
       "      <td>July 05 2019</td>\n",
       "    </tr>\n",
       "    <tr>\n",
       "      <th>2</th>\n",
       "      <td>5099</td>\n",
       "      <td>Chris</td>\n",
       "      <td>June 22 2019</td>\n",
       "    </tr>\n",
       "    <tr>\n",
       "      <th>3</th>\n",
       "      <td>5178</td>\n",
       "      <td>Shunichi</td>\n",
       "      <td>June 24 2019</td>\n",
       "    </tr>\n",
       "    <tr>\n",
       "      <th>4</th>\n",
       "      <td>5238</td>\n",
       "      <td>Ben</td>\n",
       "      <td>June 09 2019</td>\n",
       "    </tr>\n",
       "    <tr>\n",
       "      <th>...</th>\n",
       "      <td>...</td>\n",
       "      <td>...</td>\n",
       "      <td>...</td>\n",
       "    </tr>\n",
       "    <tr>\n",
       "      <th>25204</th>\n",
       "      <td>36425863</td>\n",
       "      <td>Rusaa</td>\n",
       "      <td>July 07 2019</td>\n",
       "    </tr>\n",
       "    <tr>\n",
       "      <th>25205</th>\n",
       "      <td>36427429</td>\n",
       "      <td>H Ai</td>\n",
       "      <td>July 07 2019</td>\n",
       "    </tr>\n",
       "    <tr>\n",
       "      <th>25206</th>\n",
       "      <td>36438336</td>\n",
       "      <td>Ben</td>\n",
       "      <td>July 07 2019</td>\n",
       "    </tr>\n",
       "    <tr>\n",
       "      <th>25207</th>\n",
       "      <td>36442252</td>\n",
       "      <td>Blaine</td>\n",
       "      <td>July 07 2019</td>\n",
       "    </tr>\n",
       "    <tr>\n",
       "      <th>25208</th>\n",
       "      <td>36455809</td>\n",
       "      <td>Christine</td>\n",
       "      <td>July 08 2019</td>\n",
       "    </tr>\n",
       "  </tbody>\n",
       "</table>\n",
       "<p>25209 rows × 3 columns</p>\n",
       "</div>"
      ],
      "text/plain": [
       "       listing_id    host_name   last_review\n",
       "0            2595     Jennifer   May 21 2019\n",
       "1            3831  LisaRoxanne  July 05 2019\n",
       "2            5099        Chris  June 22 2019\n",
       "3            5178     Shunichi  June 24 2019\n",
       "4            5238          Ben  June 09 2019\n",
       "...           ...          ...           ...\n",
       "25204    36425863        Rusaa  July 07 2019\n",
       "25205    36427429         H Ai  July 07 2019\n",
       "25206    36438336          Ben  July 07 2019\n",
       "25207    36442252       Blaine  July 07 2019\n",
       "25208    36455809    Christine  July 08 2019\n",
       "\n",
       "[25209 rows x 3 columns]"
      ]
     },
     "execution_count": 17,
     "metadata": {},
     "output_type": "execute_result"
    }
   ],
   "source": [
    "reviews"
   ]
  },
  {
   "cell_type": "markdown",
   "id": "d4960b78",
   "metadata": {},
   "source": [
    "### Converting to datetime"
   ]
  },
  {
   "cell_type": "code",
   "execution_count": 18,
   "id": "a671d15e",
   "metadata": {},
   "outputs": [],
   "source": [
    "reviews['last_review']=pd.to_datetime(reviews['last_review'])\n"
   ]
  },
  {
   "cell_type": "markdown",
   "id": "231d79d9",
   "metadata": {},
   "source": [
    "### Finding oldest and latest reviews"
   ]
  },
  {
   "cell_type": "code",
   "execution_count": 19,
   "id": "53646816",
   "metadata": {},
   "outputs": [],
   "source": [
    "first_reviewed=reviews['last_review'].min()\n",
    "last_reviewed=reviews['last_review'].max()"
   ]
  },
  {
   "cell_type": "markdown",
   "id": "81c135a0",
   "metadata": {},
   "source": [
    "### Merging df for further analysis"
   ]
  },
  {
   "cell_type": "code",
   "execution_count": 20,
   "id": "429a8710",
   "metadata": {},
   "outputs": [],
   "source": [
    "rooms_and_prices=pd.merge(prices,room_types,on=['listing_id'])\n",
    "airbnb_merged=pd.merge(rooms_and_prices,reviews,on=['listing_id'])"
   ]
  },
  {
   "cell_type": "markdown",
   "id": "e2c8b9c6",
   "metadata": {},
   "source": [
    "### Dropping missing values"
   ]
  },
  {
   "cell_type": "code",
   "execution_count": 21,
   "id": "61a41eb5",
   "metadata": {},
   "outputs": [
    {
     "data": {
      "text/html": [
       "<div>\n",
       "<style scoped>\n",
       "    .dataframe tbody tr th:only-of-type {\n",
       "        vertical-align: middle;\n",
       "    }\n",
       "\n",
       "    .dataframe tbody tr th {\n",
       "        vertical-align: top;\n",
       "    }\n",
       "\n",
       "    .dataframe thead th {\n",
       "        text-align: right;\n",
       "    }\n",
       "</style>\n",
       "<table border=\"1\" class=\"dataframe\">\n",
       "  <thead>\n",
       "    <tr style=\"text-align: right;\">\n",
       "      <th></th>\n",
       "      <th>listing_id</th>\n",
       "      <th>price</th>\n",
       "      <th>nbhood_full</th>\n",
       "      <th>price_per_month</th>\n",
       "      <th>description</th>\n",
       "      <th>room_type</th>\n",
       "      <th>host_name</th>\n",
       "      <th>last_review</th>\n",
       "    </tr>\n",
       "  </thead>\n",
       "  <tbody>\n",
       "    <tr>\n",
       "      <th>0</th>\n",
       "      <td>2595</td>\n",
       "      <td>225</td>\n",
       "      <td>Manhattan, Midtown</td>\n",
       "      <td>6843.750000</td>\n",
       "      <td>Skylit Midtown Castle</td>\n",
       "      <td>Entire home/apt</td>\n",
       "      <td>Jennifer</td>\n",
       "      <td>2019-05-21</td>\n",
       "    </tr>\n",
       "    <tr>\n",
       "      <th>1</th>\n",
       "      <td>3831</td>\n",
       "      <td>89</td>\n",
       "      <td>Brooklyn, Clinton Hill</td>\n",
       "      <td>2707.083333</td>\n",
       "      <td>Cozy Entire Floor of Brownstone</td>\n",
       "      <td>Entire home/apt</td>\n",
       "      <td>LisaRoxanne</td>\n",
       "      <td>2019-07-05</td>\n",
       "    </tr>\n",
       "    <tr>\n",
       "      <th>2</th>\n",
       "      <td>5099</td>\n",
       "      <td>200</td>\n",
       "      <td>Manhattan, Murray Hill</td>\n",
       "      <td>6083.333333</td>\n",
       "      <td>Large Cozy 1 BR Apartment In Midtown East</td>\n",
       "      <td>Entire home/apt</td>\n",
       "      <td>Chris</td>\n",
       "      <td>2019-06-22</td>\n",
       "    </tr>\n",
       "    <tr>\n",
       "      <th>3</th>\n",
       "      <td>5178</td>\n",
       "      <td>79</td>\n",
       "      <td>Manhattan, Hell's Kitchen</td>\n",
       "      <td>2402.916667</td>\n",
       "      <td>Large Furnished Room Near B'way</td>\n",
       "      <td>private room</td>\n",
       "      <td>Shunichi</td>\n",
       "      <td>2019-06-24</td>\n",
       "    </tr>\n",
       "    <tr>\n",
       "      <th>4</th>\n",
       "      <td>5238</td>\n",
       "      <td>150</td>\n",
       "      <td>Manhattan, Chinatown</td>\n",
       "      <td>4562.500000</td>\n",
       "      <td>Cute &amp; Cozy Lower East Side 1 bdrm</td>\n",
       "      <td>Entire home/apt</td>\n",
       "      <td>Ben</td>\n",
       "      <td>2019-06-09</td>\n",
       "    </tr>\n",
       "    <tr>\n",
       "      <th>...</th>\n",
       "      <td>...</td>\n",
       "      <td>...</td>\n",
       "      <td>...</td>\n",
       "      <td>...</td>\n",
       "      <td>...</td>\n",
       "      <td>...</td>\n",
       "      <td>...</td>\n",
       "      <td>...</td>\n",
       "    </tr>\n",
       "    <tr>\n",
       "      <th>25196</th>\n",
       "      <td>36425863</td>\n",
       "      <td>129</td>\n",
       "      <td>Manhattan, Upper East Side</td>\n",
       "      <td>3923.750000</td>\n",
       "      <td>Lovely Privet Bedroom with Privet Restroom</td>\n",
       "      <td>PRIVATE ROOM</td>\n",
       "      <td>Rusaa</td>\n",
       "      <td>2019-07-07</td>\n",
       "    </tr>\n",
       "    <tr>\n",
       "      <th>25197</th>\n",
       "      <td>36427429</td>\n",
       "      <td>45</td>\n",
       "      <td>Queens, Flushing</td>\n",
       "      <td>1368.750000</td>\n",
       "      <td>No.2 with queen size bed</td>\n",
       "      <td>PRIVATE ROOM</td>\n",
       "      <td>H Ai</td>\n",
       "      <td>2019-07-07</td>\n",
       "    </tr>\n",
       "    <tr>\n",
       "      <th>25198</th>\n",
       "      <td>36438336</td>\n",
       "      <td>235</td>\n",
       "      <td>Staten Island, Great Kills</td>\n",
       "      <td>7147.916667</td>\n",
       "      <td>Seas The Moment</td>\n",
       "      <td>Private room</td>\n",
       "      <td>Ben</td>\n",
       "      <td>2019-07-07</td>\n",
       "    </tr>\n",
       "    <tr>\n",
       "      <th>25199</th>\n",
       "      <td>36442252</td>\n",
       "      <td>100</td>\n",
       "      <td>Bronx, Mott Haven</td>\n",
       "      <td>3041.666667</td>\n",
       "      <td>1B-1B apartment near by Metro</td>\n",
       "      <td>Entire home/apt</td>\n",
       "      <td>Blaine</td>\n",
       "      <td>2019-07-07</td>\n",
       "    </tr>\n",
       "    <tr>\n",
       "      <th>25200</th>\n",
       "      <td>36455809</td>\n",
       "      <td>30</td>\n",
       "      <td>Brooklyn, Bushwick</td>\n",
       "      <td>912.500000</td>\n",
       "      <td>Cozy Private Room in Bushwick, Brooklyn</td>\n",
       "      <td>Private room</td>\n",
       "      <td>Christine</td>\n",
       "      <td>2019-07-08</td>\n",
       "    </tr>\n",
       "  </tbody>\n",
       "</table>\n",
       "<p>25183 rows × 8 columns</p>\n",
       "</div>"
      ],
      "text/plain": [
       "       listing_id  price                 nbhood_full  price_per_month  \\\n",
       "0            2595    225          Manhattan, Midtown      6843.750000   \n",
       "1            3831     89      Brooklyn, Clinton Hill      2707.083333   \n",
       "2            5099    200      Manhattan, Murray Hill      6083.333333   \n",
       "3            5178     79   Manhattan, Hell's Kitchen      2402.916667   \n",
       "4            5238    150        Manhattan, Chinatown      4562.500000   \n",
       "...           ...    ...                         ...              ...   \n",
       "25196    36425863    129  Manhattan, Upper East Side      3923.750000   \n",
       "25197    36427429     45            Queens, Flushing      1368.750000   \n",
       "25198    36438336    235  Staten Island, Great Kills      7147.916667   \n",
       "25199    36442252    100           Bronx, Mott Haven      3041.666667   \n",
       "25200    36455809     30          Brooklyn, Bushwick       912.500000   \n",
       "\n",
       "                                      description        room_type  \\\n",
       "0                           Skylit Midtown Castle  Entire home/apt   \n",
       "1                 Cozy Entire Floor of Brownstone  Entire home/apt   \n",
       "2       Large Cozy 1 BR Apartment In Midtown East  Entire home/apt   \n",
       "3                 Large Furnished Room Near B'way     private room   \n",
       "4              Cute & Cozy Lower East Side 1 bdrm  Entire home/apt   \n",
       "...                                           ...              ...   \n",
       "25196  Lovely Privet Bedroom with Privet Restroom     PRIVATE ROOM   \n",
       "25197                    No.2 with queen size bed     PRIVATE ROOM   \n",
       "25198                             Seas The Moment     Private room   \n",
       "25199               1B-1B apartment near by Metro  Entire home/apt   \n",
       "25200     Cozy Private Room in Bushwick, Brooklyn     Private room   \n",
       "\n",
       "         host_name last_review  \n",
       "0         Jennifer  2019-05-21  \n",
       "1      LisaRoxanne  2019-07-05  \n",
       "2            Chris  2019-06-22  \n",
       "3         Shunichi  2019-06-24  \n",
       "4              Ben  2019-06-09  \n",
       "...            ...         ...  \n",
       "25196        Rusaa  2019-07-07  \n",
       "25197         H Ai  2019-07-07  \n",
       "25198          Ben  2019-07-07  \n",
       "25199       Blaine  2019-07-07  \n",
       "25200    Christine  2019-07-08  \n",
       "\n",
       "[25183 rows x 8 columns]"
      ]
     },
     "execution_count": 21,
     "metadata": {},
     "output_type": "execute_result"
    }
   ],
   "source": [
    "airbnb_merged.dropna(inplace=True)\n",
    "airbnb_merged\n"
   ]
  },
  {
   "cell_type": "markdown",
   "id": "47f6f6b1",
   "metadata": {},
   "source": [
    "### checking for duplicate values"
   ]
  },
  {
   "cell_type": "code",
   "execution_count": 22,
   "id": "71a884c0",
   "metadata": {},
   "outputs": [
    {
     "data": {
      "text/plain": [
       "0"
      ]
     },
     "execution_count": 22,
     "metadata": {},
     "output_type": "execute_result"
    }
   ],
   "source": [
    "airbnb_merged.duplicated().sum()"
   ]
  },
  {
   "cell_type": "markdown",
   "id": "c4f3e0b9",
   "metadata": {},
   "source": [
    "### Analyzing listing prices"
   ]
  },
  {
   "cell_type": "code",
   "execution_count": 23,
   "id": "a48ff5b9",
   "metadata": {},
   "outputs": [
    {
     "name": "stderr",
     "output_type": "stream",
     "text": [
      "/tmp/ipykernel_8757/1453238703.py:4: FutureWarning: ['nbhood_full', 'description', 'room_type', 'host_name', 'last_review'] did not aggregate successfully. If any error is raised this will raise in a future version of pandas. Drop these columns/ops to avoid this warning.\n",
      "  boroughs=airbnb_merged.groupby(airbnb_merged['borough']).agg(['sum','mean','median','count'])\n"
     ]
    }
   ],
   "source": [
    "borough=airbnb_merged[\"nbhood_full\"].str.partition(\",\")[0]\n",
    "airbnb_merged['borough']=borough\n",
    "# print(borough)\n",
    "boroughs=airbnb_merged.groupby(airbnb_merged['borough']).agg(['sum','mean','median','count'])\n",
    "boroughs=boroughs.round(2)"
   ]
  },
  {
   "cell_type": "markdown",
   "id": "716306b1",
   "metadata": {},
   "source": [
    "### Sorting value by mean"
   ]
  },
  {
   "cell_type": "code",
   "execution_count": 24,
   "id": "4c241b67",
   "metadata": {},
   "outputs": [],
   "source": [
    "boroughs=boroughs.sort_values(by=(\"price_per_month\", \"mean\"),ascending=False)"
   ]
  },
  {
   "cell_type": "markdown",
   "id": "051648fc",
   "metadata": {},
   "source": [
    "### Creating pricing range by boroughs"
   ]
  },
  {
   "cell_type": "code",
   "execution_count": 25,
   "id": "a6ab33f0",
   "metadata": {},
   "outputs": [],
   "source": [
    "label_names=['Budget','Average','Expensive','Extravagant']\n",
    "ranges=[0,69,175,350,np.inf]\n",
    "airbnb_merged['price_range']=pd.cut(airbnb_merged['price_per_month'],ranges,labels=label_names,include_lowest=True)\n",
    "prices_by_borough=airbnb_merged.groupby(['borough','price_range']).agg(['count'])"
   ]
  },
  {
   "cell_type": "markdown",
   "id": "0f22433e",
   "metadata": {},
   "source": [
    "### Creating dictionary with answers"
   ]
  },
  {
   "cell_type": "code",
   "execution_count": 26,
   "id": "20ecae4d",
   "metadata": {},
   "outputs": [],
   "source": [
    "airbnb_analysis={\n",
    "    \"avg_price\":avg_price,\n",
    "    \"average_price_per_month\":average_price_per_month,\n",
    "    \"difference\":difference,\n",
    "    \"room_frequencies\":room_frequencies,\n",
    "    \"first_reviewed\":first_reviewed,\n",
    "    \"last_reviewed\":last_reviewed,\n",
    "    \"prices_by_borough\":prices_by_borough,\n",
    "}"
   ]
  },
  {
   "cell_type": "code",
   "execution_count": 27,
   "id": "ad31776c",
   "metadata": {},
   "outputs": [
    {
     "data": {
      "text/plain": [
       "{'avg_price': 141.53,\n",
       " 'average_price_per_month': 4304.73,\n",
       " 'difference': 0        3743.750000\n",
       " 1        -392.916667\n",
       " 2        2983.333333\n",
       " 3        -697.083333\n",
       " 4        1462.500000\n",
       "             ...     \n",
       " 25204     823.750000\n",
       " 25205   -1731.250000\n",
       " 25206    4047.916667\n",
       " 25207     -58.333333\n",
       " 25208   -2187.500000\n",
       " Name: price_per_month, Length: 25201, dtype: float64,\n",
       " 'room_frequencies': entire home/apt    13266\n",
       " private room       11356\n",
       " shared room          587\n",
       " Name: room_type, dtype: Int64,\n",
       " 'first_reviewed': Timestamp('2019-01-01 00:00:00'),\n",
       " 'last_reviewed': Timestamp('2019-07-09 00:00:00'),\n",
       " 'prices_by_borough':                           listing_id  price nbhood_full price_per_month  \\\n",
       "                                count  count       count           count   \n",
       " borough       price_range                                                 \n",
       " Bronx         Budget               0      0           0               0   \n",
       "               Average              0      0           0               0   \n",
       "               Expensive            0      0           0               0   \n",
       "               Extravagant        696    696         696             696   \n",
       " Brooklyn      Budget               0      0           0               0   \n",
       "               Average              0      0           0               0   \n",
       "               Expensive            4      4           4               4   \n",
       "               Extravagant      10446  10446       10446           10446   \n",
       " Manhattan     Budget               0      0           0               0   \n",
       "               Average              0      0           0               0   \n",
       "               Expensive            1      1           1               1   \n",
       "               Extravagant      10314  10314       10314           10314   \n",
       " Queens        Budget               0      0           0               0   \n",
       "               Average              0      0           0               0   \n",
       "               Expensive            2      2           2               2   \n",
       "               Extravagant       3453   3453        3453            3453   \n",
       " Staten Island Budget               0      0           0               0   \n",
       "               Average              0      0           0               0   \n",
       "               Expensive            0      0           0               0   \n",
       "               Extravagant        267    267         267             267   \n",
       " \n",
       "                           description room_type host_name last_review  \n",
       "                                 count     count     count       count  \n",
       " borough       price_range                                              \n",
       " Bronx         Budget                0         0         0           0  \n",
       "               Average               0         0         0           0  \n",
       "               Expensive             0         0         0           0  \n",
       "               Extravagant         696       696       696         696  \n",
       " Brooklyn      Budget                0         0         0           0  \n",
       "               Average               0         0         0           0  \n",
       "               Expensive             4         4         4           4  \n",
       "               Extravagant       10446     10446     10446       10446  \n",
       " Manhattan     Budget                0         0         0           0  \n",
       "               Average               0         0         0           0  \n",
       "               Expensive             1         1         1           1  \n",
       "               Extravagant       10314     10314     10314       10314  \n",
       " Queens        Budget                0         0         0           0  \n",
       "               Average               0         0         0           0  \n",
       "               Expensive             2         2         2           2  \n",
       "               Extravagant        3453      3453      3453        3453  \n",
       " Staten Island Budget                0         0         0           0  \n",
       "               Average               0         0         0           0  \n",
       "               Expensive             0         0         0           0  \n",
       "               Extravagant         267       267       267         267  }"
      ]
     },
     "execution_count": 27,
     "metadata": {},
     "output_type": "execute_result"
    }
   ],
   "source": [
    "airbnb_analysis"
   ]
  },
  {
   "cell_type": "code",
   "execution_count": null,
   "id": "0c082e4d",
   "metadata": {},
   "outputs": [],
   "source": []
  }
 ],
 "metadata": {
  "kernelspec": {
   "display_name": "Python 3 (ipykernel)",
   "language": "python",
   "name": "python3"
  },
  "language_info": {
   "codemirror_mode": {
    "name": "ipython",
    "version": 3
   },
   "file_extension": ".py",
   "mimetype": "text/x-python",
   "name": "python",
   "nbconvert_exporter": "python",
   "pygments_lexer": "ipython3",
   "version": "3.10.6"
  }
 },
 "nbformat": 4,
 "nbformat_minor": 5
}
