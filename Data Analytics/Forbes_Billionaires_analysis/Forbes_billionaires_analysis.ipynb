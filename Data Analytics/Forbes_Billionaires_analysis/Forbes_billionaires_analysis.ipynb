{
 "cells": [
  {
   "cell_type": "markdown",
   "id": "745fac3c",
   "metadata": {},
   "source": [
    "# Forbes Billionaires Analysis"
   ]
  },
  {
   "cell_type": "markdown",
   "id": "421d0580",
   "metadata": {},
   "source": [
    "**Meta-Data** of the Forbes Billionaries Dataset:\n",
    " - Rank - Rank of the Billionaire in the World.\n",
    " - Name - Name of the Billionaire.\n",
    " - Networth - Networth of the Billionaire.\n",
    " - Age - Age of the Billionaire.\n",
    " - Country - Country of the Billionaire.\n",
    " - Source - Source of income of the Billionaire.\n",
    " - Industry - Industry of Billionaire source of income.\n",
    " \n",
    " \n",
    " "
   ]
  },
  {
   "cell_type": "markdown",
   "id": "38533549",
   "metadata": {},
   "source": [
    "Importing Required Libraires"
   ]
  },
  {
   "cell_type": "code",
   "execution_count": 1,
   "id": "e4444857",
   "metadata": {},
   "outputs": [],
   "source": [
    "import pandas as pd\n",
    "import numpy as np\n",
    "import matplotlib.pyplot as plt\n",
    "import seaborn as sns"
   ]
  },
  {
   "cell_type": "markdown",
   "id": "b1c694e3",
   "metadata": {},
   "source": [
    "Reading CSV file using read_csv()"
   ]
  },
  {
   "cell_type": "code",
   "execution_count": 2,
   "id": "e70e612a",
   "metadata": {},
   "outputs": [],
   "source": [
    "Forbes_df = pd.read_csv(r\"C:\\Users\\rahul\\OneDrive\\Desktop\\Projects\\Exploratory-Data-Analysis-main\\Exploratory-Data-Analysis-main\\2022_forbes_billionaires.csv\", index_col = 0)"
   ]
  },
  {
   "cell_type": "code",
   "execution_count": 3,
   "id": "c54767a3",
   "metadata": {},
   "outputs": [
    {
     "data": {
      "text/html": [
       "<div>\n",
       "<style scoped>\n",
       "    .dataframe tbody tr th:only-of-type {\n",
       "        vertical-align: middle;\n",
       "    }\n",
       "\n",
       "    .dataframe tbody tr th {\n",
       "        vertical-align: top;\n",
       "    }\n",
       "\n",
       "    .dataframe thead th {\n",
       "        text-align: right;\n",
       "    }\n",
       "</style>\n",
       "<table border=\"1\" class=\"dataframe\">\n",
       "  <thead>\n",
       "    <tr style=\"text-align: right;\">\n",
       "      <th></th>\n",
       "      <th>rank</th>\n",
       "      <th>name</th>\n",
       "      <th>networth</th>\n",
       "      <th>age</th>\n",
       "      <th>country</th>\n",
       "      <th>source</th>\n",
       "      <th>industry</th>\n",
       "    </tr>\n",
       "  </thead>\n",
       "  <tbody>\n",
       "    <tr>\n",
       "      <th>0</th>\n",
       "      <td>1</td>\n",
       "      <td>Elon Musk</td>\n",
       "      <td>$219 B</td>\n",
       "      <td>50</td>\n",
       "      <td>United States</td>\n",
       "      <td>Tesla, SpaceX</td>\n",
       "      <td>Automotive</td>\n",
       "    </tr>\n",
       "    <tr>\n",
       "      <th>1</th>\n",
       "      <td>2</td>\n",
       "      <td>Jeff Bezos</td>\n",
       "      <td>$171 B</td>\n",
       "      <td>58</td>\n",
       "      <td>United States</td>\n",
       "      <td>Amazon</td>\n",
       "      <td>Technology</td>\n",
       "    </tr>\n",
       "    <tr>\n",
       "      <th>2</th>\n",
       "      <td>3</td>\n",
       "      <td>Bernard Arnault &amp; family</td>\n",
       "      <td>$158 B</td>\n",
       "      <td>73</td>\n",
       "      <td>France</td>\n",
       "      <td>LVMH</td>\n",
       "      <td>Fashion &amp; Retail</td>\n",
       "    </tr>\n",
       "    <tr>\n",
       "      <th>3</th>\n",
       "      <td>4</td>\n",
       "      <td>Bill Gates</td>\n",
       "      <td>$129 B</td>\n",
       "      <td>66</td>\n",
       "      <td>United States</td>\n",
       "      <td>Microsoft</td>\n",
       "      <td>Technology</td>\n",
       "    </tr>\n",
       "    <tr>\n",
       "      <th>4</th>\n",
       "      <td>5</td>\n",
       "      <td>Warren Buffett</td>\n",
       "      <td>$118 B</td>\n",
       "      <td>91</td>\n",
       "      <td>United States</td>\n",
       "      <td>Berkshire Hathaway</td>\n",
       "      <td>Finance &amp; Investments</td>\n",
       "    </tr>\n",
       "  </tbody>\n",
       "</table>\n",
       "</div>"
      ],
      "text/plain": [
       "   rank                       name networth  age        country  \\\n",
       "0     1                 Elon Musk    $219 B   50  United States   \n",
       "1     2                Jeff Bezos    $171 B   58  United States   \n",
       "2     3  Bernard Arnault & family    $158 B   73         France   \n",
       "3     4                Bill Gates    $129 B   66  United States   \n",
       "4     5            Warren Buffett    $118 B   91  United States   \n",
       "\n",
       "               source                industry  \n",
       "0       Tesla, SpaceX             Automotive   \n",
       "1              Amazon             Technology   \n",
       "2                LVMH       Fashion & Retail   \n",
       "3           Microsoft             Technology   \n",
       "4  Berkshire Hathaway  Finance & Investments   "
      ]
     },
     "execution_count": 3,
     "metadata": {},
     "output_type": "execute_result"
    }
   ],
   "source": [
    "Forbes_df.head()"
   ]
  },
  {
   "cell_type": "code",
   "execution_count": 4,
   "id": "89583fa9",
   "metadata": {},
   "outputs": [
    {
     "data": {
      "text/html": [
       "<div>\n",
       "<style scoped>\n",
       "    .dataframe tbody tr th:only-of-type {\n",
       "        vertical-align: middle;\n",
       "    }\n",
       "\n",
       "    .dataframe tbody tr th {\n",
       "        vertical-align: top;\n",
       "    }\n",
       "\n",
       "    .dataframe thead th {\n",
       "        text-align: right;\n",
       "    }\n",
       "</style>\n",
       "<table border=\"1\" class=\"dataframe\">\n",
       "  <thead>\n",
       "    <tr style=\"text-align: right;\">\n",
       "      <th></th>\n",
       "      <th>rank</th>\n",
       "      <th>name</th>\n",
       "      <th>networth</th>\n",
       "      <th>age</th>\n",
       "      <th>country</th>\n",
       "      <th>source</th>\n",
       "      <th>industry</th>\n",
       "    </tr>\n",
       "  </thead>\n",
       "  <tbody>\n",
       "    <tr>\n",
       "      <th>2595</th>\n",
       "      <td>2578</td>\n",
       "      <td>Jorge Gallardo Ballart</td>\n",
       "      <td>$1 B</td>\n",
       "      <td>80</td>\n",
       "      <td>Spain</td>\n",
       "      <td>pharmaceuticals</td>\n",
       "      <td>Healthcare</td>\n",
       "    </tr>\n",
       "    <tr>\n",
       "      <th>2596</th>\n",
       "      <td>2578</td>\n",
       "      <td>Nari Genomal</td>\n",
       "      <td>$1 B</td>\n",
       "      <td>82</td>\n",
       "      <td>Philippines</td>\n",
       "      <td>apparel</td>\n",
       "      <td>Fashion &amp; Retail</td>\n",
       "    </tr>\n",
       "    <tr>\n",
       "      <th>2597</th>\n",
       "      <td>2578</td>\n",
       "      <td>Ramesh Genomal</td>\n",
       "      <td>$1 B</td>\n",
       "      <td>71</td>\n",
       "      <td>Philippines</td>\n",
       "      <td>apparel</td>\n",
       "      <td>Fashion &amp; Retail</td>\n",
       "    </tr>\n",
       "    <tr>\n",
       "      <th>2598</th>\n",
       "      <td>2578</td>\n",
       "      <td>Sunder Genomal</td>\n",
       "      <td>$1 B</td>\n",
       "      <td>68</td>\n",
       "      <td>Philippines</td>\n",
       "      <td>garments</td>\n",
       "      <td>Fashion &amp; Retail</td>\n",
       "    </tr>\n",
       "    <tr>\n",
       "      <th>2599</th>\n",
       "      <td>2578</td>\n",
       "      <td>Horst-Otto Gerberding</td>\n",
       "      <td>$1 B</td>\n",
       "      <td>69</td>\n",
       "      <td>Germany</td>\n",
       "      <td>flavors and fragrances</td>\n",
       "      <td>Food &amp; Beverage</td>\n",
       "    </tr>\n",
       "  </tbody>\n",
       "</table>\n",
       "</div>"
      ],
      "text/plain": [
       "      rank                     name networth  age      country  \\\n",
       "2595  2578  Jorge Gallardo Ballart      $1 B   80        Spain   \n",
       "2596  2578            Nari Genomal      $1 B   82  Philippines   \n",
       "2597  2578          Ramesh Genomal      $1 B   71  Philippines   \n",
       "2598  2578          Sunder Genomal      $1 B   68  Philippines   \n",
       "2599  2578   Horst-Otto Gerberding      $1 B   69      Germany   \n",
       "\n",
       "                      source           industry  \n",
       "2595         pharmaceuticals        Healthcare   \n",
       "2596                 apparel  Fashion & Retail   \n",
       "2597                 apparel  Fashion & Retail   \n",
       "2598                garments  Fashion & Retail   \n",
       "2599  flavors and fragrances   Food & Beverage   "
      ]
     },
     "execution_count": 4,
     "metadata": {},
     "output_type": "execute_result"
    }
   ],
   "source": [
    "Forbes_df.tail()"
   ]
  },
  {
   "cell_type": "code",
   "execution_count": 5,
   "id": "90607632",
   "metadata": {},
   "outputs": [
    {
     "data": {
      "text/html": [
       "<div>\n",
       "<style scoped>\n",
       "    .dataframe tbody tr th:only-of-type {\n",
       "        vertical-align: middle;\n",
       "    }\n",
       "\n",
       "    .dataframe tbody tr th {\n",
       "        vertical-align: top;\n",
       "    }\n",
       "\n",
       "    .dataframe thead th {\n",
       "        text-align: right;\n",
       "    }\n",
       "</style>\n",
       "<table border=\"1\" class=\"dataframe\">\n",
       "  <thead>\n",
       "    <tr style=\"text-align: right;\">\n",
       "      <th></th>\n",
       "      <th>rank</th>\n",
       "      <th>age</th>\n",
       "    </tr>\n",
       "  </thead>\n",
       "  <tbody>\n",
       "    <tr>\n",
       "      <th>count</th>\n",
       "      <td>2600.000000</td>\n",
       "      <td>2600.000000</td>\n",
       "    </tr>\n",
       "    <tr>\n",
       "      <th>mean</th>\n",
       "      <td>1269.570769</td>\n",
       "      <td>64.271923</td>\n",
       "    </tr>\n",
       "    <tr>\n",
       "      <th>std</th>\n",
       "      <td>728.146364</td>\n",
       "      <td>13.220607</td>\n",
       "    </tr>\n",
       "    <tr>\n",
       "      <th>min</th>\n",
       "      <td>1.000000</td>\n",
       "      <td>19.000000</td>\n",
       "    </tr>\n",
       "    <tr>\n",
       "      <th>25%</th>\n",
       "      <td>637.000000</td>\n",
       "      <td>55.000000</td>\n",
       "    </tr>\n",
       "    <tr>\n",
       "      <th>50%</th>\n",
       "      <td>1292.000000</td>\n",
       "      <td>64.000000</td>\n",
       "    </tr>\n",
       "    <tr>\n",
       "      <th>75%</th>\n",
       "      <td>1929.000000</td>\n",
       "      <td>74.000000</td>\n",
       "    </tr>\n",
       "    <tr>\n",
       "      <th>max</th>\n",
       "      <td>2578.000000</td>\n",
       "      <td>100.000000</td>\n",
       "    </tr>\n",
       "  </tbody>\n",
       "</table>\n",
       "</div>"
      ],
      "text/plain": [
       "              rank          age\n",
       "count  2600.000000  2600.000000\n",
       "mean   1269.570769    64.271923\n",
       "std     728.146364    13.220607\n",
       "min       1.000000    19.000000\n",
       "25%     637.000000    55.000000\n",
       "50%    1292.000000    64.000000\n",
       "75%    1929.000000    74.000000\n",
       "max    2578.000000   100.000000"
      ]
     },
     "execution_count": 5,
     "metadata": {},
     "output_type": "execute_result"
    }
   ],
   "source": [
    "Forbes_df.describe()"
   ]
  },
  {
   "cell_type": "code",
   "execution_count": 6,
   "id": "3a73c028",
   "metadata": {},
   "outputs": [
    {
     "name": "stdout",
     "output_type": "stream",
     "text": [
      "<class 'pandas.core.frame.DataFrame'>\n",
      "Int64Index: 2600 entries, 0 to 2599\n",
      "Data columns (total 7 columns):\n",
      " #   Column    Non-Null Count  Dtype \n",
      "---  ------    --------------  ----- \n",
      " 0   rank      2600 non-null   int64 \n",
      " 1   name      2600 non-null   object\n",
      " 2   networth  2600 non-null   object\n",
      " 3   age       2600 non-null   int64 \n",
      " 4   country   2600 non-null   object\n",
      " 5   source    2600 non-null   object\n",
      " 6   industry  2600 non-null   object\n",
      "dtypes: int64(2), object(5)\n",
      "memory usage: 162.5+ KB\n"
     ]
    }
   ],
   "source": [
    "Forbes_df.info()"
   ]
  },
  {
   "cell_type": "code",
   "execution_count": 7,
   "id": "8ec2bb13",
   "metadata": {},
   "outputs": [
    {
     "data": {
      "text/plain": [
       "rank                                 11\n",
       "name             Gautam Adani & family \n",
       "networth                          $90 B\n",
       "age                                  59\n",
       "country                           India\n",
       "source      infrastructure, commodities\n",
       "industry                   Diversified \n",
       "Name: 10, dtype: object"
      ]
     },
     "execution_count": 7,
     "metadata": {},
     "output_type": "execute_result"
    }
   ],
   "source": [
    "Forbes_df.iloc[10]"
   ]
  },
  {
   "cell_type": "markdown",
   "id": "234c9309",
   "metadata": {},
   "source": [
    "Removing $,B symbols and changing it to float DataType"
   ]
  },
  {
   "cell_type": "code",
   "execution_count": 8,
   "id": "f1c16848",
   "metadata": {},
   "outputs": [],
   "source": [
    "Forbes_df['networth']=Forbes_df['networth'].apply(lambda x:x.replace('$','')).apply(lambda x:x.replace('B','')).apply(lambda x:x.replace(' ','')).astype(np.float64)"
   ]
  },
  {
   "cell_type": "markdown",
   "id": "b5557523",
   "metadata": {},
   "source": [
    "Changing the Names of the Columns"
   ]
  },
  {
   "cell_type": "code",
   "execution_count": 9,
   "id": "eb09cf3b",
   "metadata": {},
   "outputs": [],
   "source": [
    "Forbes_df = Forbes_df.rename(columns={'name':'Name','rank':'Rank','networth':'Networth($ Billion)','age':'Age','country':'Country','source':'Source','industry':'Industry'})"
   ]
  },
  {
   "cell_type": "code",
   "execution_count": 16,
   "id": "afb1c892",
   "metadata": {},
   "outputs": [
    {
     "data": {
      "text/html": [
       "<div>\n",
       "<style scoped>\n",
       "    .dataframe tbody tr th:only-of-type {\n",
       "        vertical-align: middle;\n",
       "    }\n",
       "\n",
       "    .dataframe tbody tr th {\n",
       "        vertical-align: top;\n",
       "    }\n",
       "\n",
       "    .dataframe thead th {\n",
       "        text-align: right;\n",
       "    }\n",
       "</style>\n",
       "<table border=\"1\" class=\"dataframe\">\n",
       "  <thead>\n",
       "    <tr style=\"text-align: right;\">\n",
       "      <th></th>\n",
       "      <th>Rank</th>\n",
       "      <th>Name</th>\n",
       "      <th>Networth($ Billion)</th>\n",
       "      <th>Age</th>\n",
       "      <th>Country</th>\n",
       "      <th>Source</th>\n",
       "      <th>Industry</th>\n",
       "    </tr>\n",
       "  </thead>\n",
       "  <tbody>\n",
       "    <tr>\n",
       "      <th>0</th>\n",
       "      <td>1</td>\n",
       "      <td>Elon Musk</td>\n",
       "      <td>219.0</td>\n",
       "      <td>50</td>\n",
       "      <td>United States</td>\n",
       "      <td>Tesla, SpaceX</td>\n",
       "      <td>Automotive</td>\n",
       "    </tr>\n",
       "    <tr>\n",
       "      <th>1</th>\n",
       "      <td>2</td>\n",
       "      <td>Jeff Bezos</td>\n",
       "      <td>171.0</td>\n",
       "      <td>58</td>\n",
       "      <td>United States</td>\n",
       "      <td>Amazon</td>\n",
       "      <td>Technology</td>\n",
       "    </tr>\n",
       "    <tr>\n",
       "      <th>2</th>\n",
       "      <td>3</td>\n",
       "      <td>Bernard Arnault &amp; family</td>\n",
       "      <td>158.0</td>\n",
       "      <td>73</td>\n",
       "      <td>France</td>\n",
       "      <td>LVMH</td>\n",
       "      <td>Fashion &amp; Retail</td>\n",
       "    </tr>\n",
       "    <tr>\n",
       "      <th>3</th>\n",
       "      <td>4</td>\n",
       "      <td>Bill Gates</td>\n",
       "      <td>129.0</td>\n",
       "      <td>66</td>\n",
       "      <td>United States</td>\n",
       "      <td>Microsoft</td>\n",
       "      <td>Technology</td>\n",
       "    </tr>\n",
       "    <tr>\n",
       "      <th>4</th>\n",
       "      <td>5</td>\n",
       "      <td>Warren Buffett</td>\n",
       "      <td>118.0</td>\n",
       "      <td>91</td>\n",
       "      <td>United States</td>\n",
       "      <td>Berkshire Hathaway</td>\n",
       "      <td>Finance &amp; Investments</td>\n",
       "    </tr>\n",
       "  </tbody>\n",
       "</table>\n",
       "</div>"
      ],
      "text/plain": [
       "   Rank                       Name  Networth($ Billion)  Age        Country  \\\n",
       "0     1                 Elon Musk                 219.0   50  United States   \n",
       "1     2                Jeff Bezos                 171.0   58  United States   \n",
       "2     3  Bernard Arnault & family                 158.0   73         France   \n",
       "3     4                Bill Gates                 129.0   66  United States   \n",
       "4     5            Warren Buffett                 118.0   91  United States   \n",
       "\n",
       "               Source                Industry  \n",
       "0       Tesla, SpaceX             Automotive   \n",
       "1              Amazon             Technology   \n",
       "2                LVMH       Fashion & Retail   \n",
       "3           Microsoft             Technology   \n",
       "4  Berkshire Hathaway  Finance & Investments   "
      ]
     },
     "execution_count": 16,
     "metadata": {},
     "output_type": "execute_result"
    }
   ],
   "source": [
    "Forbes_df.head()"
   ]
  },
  {
   "cell_type": "markdown",
   "id": "6c4de66c",
   "metadata": {},
   "source": [
    "## Q1. Top 10 Richest People in the World"
   ]
  },
  {
   "cell_type": "code",
   "execution_count": 17,
   "id": "66d4ac8c",
   "metadata": {},
   "outputs": [
    {
     "name": "stderr",
     "output_type": "stream",
     "text": [
      "C:\\Users\\rahul\\AppData\\Local\\Temp\\ipykernel_16568\\985845090.py:6: UserWarning: FixedFormatter should only be used together with FixedLocator\n",
      "  ax.set_xticklabels(Forbes_df['Name'][:10],rotation = 90)\n"
     ]
    },
    {
     "data": {
      "image/png": "[encoded data removed]",
      "text/plain": [
       "<Figure size 640x480 with 1 Axes>"
      ]
     },
     "metadata": {},
     "output_type": "display_data"
    }
   ],
   "source": [
    "fig,ax=plt.subplots()\n",
    "ax.bar(Forbes_df['Name'][:10],Forbes_df['Networth($ Billion)'][:10])\n",
    "[s.set_visible(False) for s in ax.spines.values()] #for removing borders\n",
    "ax.set_title(\"Top 10 Richest People in the World\")\n",
    "ax.set_ylabel(\"Networth($ Billion)\")\n",
    "ax.set_xticklabels(Forbes_df['Name'][:10],rotation = 90)\n",
    "plt.grid(axis = 'y',linestyle = '--',linewidth=0.2)\n",
    "plt.show()"
   ]
  },
  {
   "cell_type": "markdown",
   "id": "e3618267",
   "metadata": {},
   "source": [
    "## Q2. The country with Highest billionaires? "
   ]
  },
  {
   "cell_type": "code",
   "execution_count": 18,
   "id": "fc9f07cb",
   "metadata": {},
   "outputs": [
    {
     "data": {
      "text/plain": [
       "array(['United States', 'France', 'India', 'Mexico', 'China', 'Canada',\n",
       "       'Spain', 'Germany', 'Hong Kong', 'Italy', 'Australia', 'Austria',\n",
       "       'Japan', 'Indonesia', 'Switzerland', 'Chile', 'Russia',\n",
       "       'Singapore', 'Sweden', 'Czechia', 'United Kingdom', 'Brazil',\n",
       "       'Israel', 'Netherlands', 'Ireland', 'Nigeria', 'Denmark',\n",
       "       'Thailand', 'Cyprus', 'Malaysia', 'Taiwan', 'Monaco', 'Colombia',\n",
       "       'New Zealand', 'South Korea', 'Belgium', 'South Africa',\n",
       "       'Philippines', 'Egypt', 'Greece', 'Norway', 'Vietnam', 'Poland',\n",
       "       'Eswatini (Swaziland)', 'Peru', 'Algeria', 'Kazakhstan', 'Georgia',\n",
       "       'Portugal', 'Turkey', 'Finland', 'Ukraine', 'Argentina', 'Belize',\n",
       "       'Venezuela', 'Lebanon', 'Zimbabwe', 'Romania',\n",
       "       'United Arab Emirates', 'Oman', 'Iceland', 'Guernsey',\n",
       "       'Liechtenstein', 'Qatar', 'Morocco', 'Bulgaria', 'Macau',\n",
       "       'Slovakia', 'Barbados', 'Uruguay', 'Nepal', 'Tanzania',\n",
       "       'St. Kitts and Nevis', 'Hungary', 'Estonia'], dtype=object)"
      ]
     },
     "execution_count": 18,
     "metadata": {},
     "output_type": "execute_result"
    }
   ],
   "source": [
    "Forbes_df['Country'].unique()"
   ]
  },
  {
   "cell_type": "code",
   "execution_count": 19,
   "id": "fad23749",
   "metadata": {},
   "outputs": [
    {
     "data": {
      "text/plain": [
       "Country\n",
       "Algeria            1\n",
       "Argentina          6\n",
       "Australia         44\n",
       "Austria           11\n",
       "Barbados           1\n",
       "                ... \n",
       "United States    719\n",
       "Uruguay            2\n",
       "Venezuela          1\n",
       "Vietnam            7\n",
       "Zimbabwe           1\n",
       "Length: 75, dtype: int64"
      ]
     },
     "execution_count": 19,
     "metadata": {},
     "output_type": "execute_result"
    }
   ],
   "source": [
    "Forbes_df.groupby('Country').size()"
   ]
  },
  {
   "cell_type": "code",
   "execution_count": 20,
   "id": "e18aacc0",
   "metadata": {},
   "outputs": [
    {
     "data": {
      "text/plain": [
       "75"
      ]
     },
     "execution_count": 20,
     "metadata": {},
     "output_type": "execute_result"
    }
   ],
   "source": [
    "len(Forbes_df.groupby('Country').size())"
   ]
  },
  {
   "cell_type": "code",
   "execution_count": 21,
   "id": "6348127b",
   "metadata": {},
   "outputs": [],
   "source": [
    "country_counts = Forbes_df.groupby('Country').size()"
   ]
  },
  {
   "cell_type": "code",
   "execution_count": 22,
   "id": "f4bbb86e",
   "metadata": {},
   "outputs": [],
   "source": [
    "country_counts = country_counts.to_frame()"
   ]
  },
  {
   "cell_type": "code",
   "execution_count": 23,
   "id": "2026af85",
   "metadata": {},
   "outputs": [],
   "source": [
    "country_counts = country_counts.rename(columns={0:'Count'})"
   ]
  },
  {
   "cell_type": "code",
   "execution_count": 24,
   "id": "ce668fa4",
   "metadata": {},
   "outputs": [],
   "source": [
    "country_counts = country_counts.sort_values(by='Count',ascending = False)"
   ]
  },
  {
   "cell_type": "code",
   "execution_count": 25,
   "id": "00120d0b",
   "metadata": {},
   "outputs": [
    {
     "data": {
      "text/html": [
       "<div>\n",
       "<style scoped>\n",
       "    .dataframe tbody tr th:only-of-type {\n",
       "        vertical-align: middle;\n",
       "    }\n",
       "\n",
       "    .dataframe tbody tr th {\n",
       "        vertical-align: top;\n",
       "    }\n",
       "\n",
       "    .dataframe thead th {\n",
       "        text-align: right;\n",
       "    }\n",
       "</style>\n",
       "<table border=\"1\" class=\"dataframe\">\n",
       "  <thead>\n",
       "    <tr style=\"text-align: right;\">\n",
       "      <th></th>\n",
       "      <th>Count</th>\n",
       "    </tr>\n",
       "    <tr>\n",
       "      <th>Country</th>\n",
       "      <th></th>\n",
       "    </tr>\n",
       "  </thead>\n",
       "  <tbody>\n",
       "    <tr>\n",
       "      <th>United States</th>\n",
       "      <td>719</td>\n",
       "    </tr>\n",
       "    <tr>\n",
       "      <th>China</th>\n",
       "      <td>515</td>\n",
       "    </tr>\n",
       "    <tr>\n",
       "      <th>India</th>\n",
       "      <td>161</td>\n",
       "    </tr>\n",
       "    <tr>\n",
       "      <th>Germany</th>\n",
       "      <td>130</td>\n",
       "    </tr>\n",
       "    <tr>\n",
       "      <th>Russia</th>\n",
       "      <td>81</td>\n",
       "    </tr>\n",
       "    <tr>\n",
       "      <th>...</th>\n",
       "      <td>...</td>\n",
       "    </tr>\n",
       "    <tr>\n",
       "      <th>Eswatini (Swaziland)</th>\n",
       "      <td>1</td>\n",
       "    </tr>\n",
       "    <tr>\n",
       "      <th>Estonia</th>\n",
       "      <td>1</td>\n",
       "    </tr>\n",
       "    <tr>\n",
       "      <th>Belize</th>\n",
       "      <td>1</td>\n",
       "    </tr>\n",
       "    <tr>\n",
       "      <th>Barbados</th>\n",
       "      <td>1</td>\n",
       "    </tr>\n",
       "    <tr>\n",
       "      <th>Zimbabwe</th>\n",
       "      <td>1</td>\n",
       "    </tr>\n",
       "  </tbody>\n",
       "</table>\n",
       "<p>75 rows × 1 columns</p>\n",
       "</div>"
      ],
      "text/plain": [
       "                      Count\n",
       "Country                    \n",
       "United States           719\n",
       "China                   515\n",
       "India                   161\n",
       "Germany                 130\n",
       "Russia                   81\n",
       "...                     ...\n",
       "Eswatini (Swaziland)      1\n",
       "Estonia                   1\n",
       "Belize                    1\n",
       "Barbados                  1\n",
       "Zimbabwe                  1\n",
       "\n",
       "[75 rows x 1 columns]"
      ]
     },
     "execution_count": 25,
     "metadata": {},
     "output_type": "execute_result"
    }
   ],
   "source": [
    "country_counts"
   ]
  },
  {
   "cell_type": "code",
   "execution_count": 26,
   "id": "2a84cdd2",
   "metadata": {},
   "outputs": [
    {
     "name": "stderr",
     "output_type": "stream",
     "text": [
      "C:\\Users\\rahul\\AppData\\Local\\Temp\\ipykernel_16568\\4185774060.py:6: UserWarning: FixedFormatter should only be used together with FixedLocator\n",
      "  ax2.set_xticklabels(labels = country_counts.index,rotation = 90)\n"
     ]
    },
    {
     "data": {
      "image/png": "[encoded data removed]",
      "text/plain": [
       "<Figure size 1000x600 with 1 Axes>"
      ]
     },
     "metadata": {},
     "output_type": "display_data"
    }
   ],
   "source": [
    "fig,ax2 = plt.subplots(figsize=(10,6))\n",
    "ax2.bar(country_counts.index[:10],country_counts['Count'][:10])\n",
    "[s.set_visible(False) for s in ax2.spines.values()]\n",
    "ax2.set_title(\"Count of Billionaires per Country\")\n",
    "ax2.set_ylabel(\"Number of Billionaries per Country\")\n",
    "ax2.set_xticklabels(labels = country_counts.index,rotation = 90)\n",
    "plt.grid(axis = 'y',linestyle = '--',linewidth = 0.2)\n",
    "plt.show()"
   ]
  },
  {
   "cell_type": "markdown",
   "id": "93e258b9",
   "metadata": {},
   "source": [
    "## Q3 How many of these are from Africa?\n",
    "There is no continent column in this Data Set. So, I should make a lsit of African Countries and Search in that Countries"
   ]
  },
  {
   "cell_type": "code",
   "execution_count": 27,
   "id": "77669c04",
   "metadata": {},
   "outputs": [],
   "source": [
    "Africa=[ 'Algeria','Angola','Benin','Botswana','Burkina Faso','Burundi','Cameroon','Cape Verd','Central African Republic',\n",
    "        'Chad','Comoros','Congo-Brazzaville','Congo-Kinshasa',\"Côte d'Ivoire\",'Djibouti','Egypt','Equatorial Guinea','Eritrea',\n",
    "        'Ethiopia','Gabon','Gambia','Ghana','Guinea','Guinea-Bissau','Kenya','Lesotho','Liberia','Libya','Madagascar','Malaw',\n",
    "        'Mali','Mauritania','Mauritius','Mayotte','Morocco','Mozambique','Namibia','Niger', 'Nigeria','Reunion','Rwanda',\n",
    "        'Saint Helena','Sao Tome and Príncipe','Senegal','Seychelles','Sierra Leone','Somalia','South Africa','Sudan',\n",
    "        'Swaziland','Tanzania','Togo','Tunisia','Uganda','Western Sahara(SADR)','Zambia','Zimbabwe']"
   ]
  },
  {
   "cell_type": "code",
   "execution_count": 28,
   "id": "7f25297d",
   "metadata": {},
   "outputs": [],
   "source": [
    "country_list=[]\n",
    "for Country in Africa:\n",
    "    if Country in country_counts.index:\n",
    "        country_list.append(Country)"
   ]
  },
  {
   "cell_type": "code",
   "execution_count": 29,
   "id": "d43e9d39",
   "metadata": {},
   "outputs": [
    {
     "data": {
      "text/plain": [
       "['Algeria',\n",
       " 'Egypt',\n",
       " 'Morocco',\n",
       " 'Nigeria',\n",
       " 'South Africa',\n",
       " 'Tanzania',\n",
       " 'Zimbabwe']"
      ]
     },
     "execution_count": 29,
     "metadata": {},
     "output_type": "execute_result"
    }
   ],
   "source": [
    "country_list"
   ]
  },
  {
   "cell_type": "markdown",
   "id": "f4f649da",
   "metadata": {},
   "source": [
    "Apparently, there are seven countries in the list. The highest count in this list would be:"
   ]
  },
  {
   "cell_type": "code",
   "execution_count": 30,
   "id": "5f83238d",
   "metadata": {},
   "outputs": [
    {
     "data": {
      "text/html": [
       "<div>\n",
       "<style scoped>\n",
       "    .dataframe tbody tr th:only-of-type {\n",
       "        vertical-align: middle;\n",
       "    }\n",
       "\n",
       "    .dataframe tbody tr th {\n",
       "        vertical-align: top;\n",
       "    }\n",
       "\n",
       "    .dataframe thead th {\n",
       "        text-align: right;\n",
       "    }\n",
       "</style>\n",
       "<table border=\"1\" class=\"dataframe\">\n",
       "  <thead>\n",
       "    <tr style=\"text-align: right;\">\n",
       "      <th></th>\n",
       "      <th>Count</th>\n",
       "    </tr>\n",
       "    <tr>\n",
       "      <th>Country</th>\n",
       "      <th></th>\n",
       "    </tr>\n",
       "  </thead>\n",
       "  <tbody>\n",
       "    <tr>\n",
       "      <th>Algeria</th>\n",
       "      <td>1</td>\n",
       "    </tr>\n",
       "    <tr>\n",
       "      <th>Egypt</th>\n",
       "      <td>6</td>\n",
       "    </tr>\n",
       "    <tr>\n",
       "      <th>Morocco</th>\n",
       "      <td>2</td>\n",
       "    </tr>\n",
       "    <tr>\n",
       "      <th>Nigeria</th>\n",
       "      <td>3</td>\n",
       "    </tr>\n",
       "    <tr>\n",
       "      <th>South Africa</th>\n",
       "      <td>5</td>\n",
       "    </tr>\n",
       "    <tr>\n",
       "      <th>Tanzania</th>\n",
       "      <td>1</td>\n",
       "    </tr>\n",
       "    <tr>\n",
       "      <th>Zimbabwe</th>\n",
       "      <td>1</td>\n",
       "    </tr>\n",
       "  </tbody>\n",
       "</table>\n",
       "</div>"
      ],
      "text/plain": [
       "              Count\n",
       "Country            \n",
       "Algeria           1\n",
       "Egypt             6\n",
       "Morocco           2\n",
       "Nigeria           3\n",
       "South Africa      5\n",
       "Tanzania          1\n",
       "Zimbabwe          1"
      ]
     },
     "execution_count": 30,
     "metadata": {},
     "output_type": "execute_result"
    }
   ],
   "source": [
    "country_counts.loc[country_list]"
   ]
  },
  {
   "cell_type": "code",
   "execution_count": 31,
   "id": "81bb67e0",
   "metadata": {},
   "outputs": [
    {
     "data": {
      "text/plain": [
       "[233, 244, 934, 1342, 1686]"
      ]
     },
     "execution_count": 31,
     "metadata": {},
     "output_type": "execute_result"
    }
   ],
   "source": [
    "Forbes_df['Country'][Forbes_df['Country']=='South Africa'].index.tolist()"
   ]
  },
  {
   "cell_type": "markdown",
   "id": "0bb29de3",
   "metadata": {},
   "source": [
    "Billionaires in South Africa"
   ]
  },
  {
   "cell_type": "code",
   "execution_count": 32,
   "id": "c6d28869",
   "metadata": {},
   "outputs": [],
   "source": [
    "South_africa_billionaires = Forbes_df.iloc[[233, 244, 934, 1342, 1686]]"
   ]
  },
  {
   "cell_type": "code",
   "execution_count": 33,
   "id": "6c3f0673",
   "metadata": {},
   "outputs": [
    {
     "data": {
      "text/html": [
       "<div>\n",
       "<style scoped>\n",
       "    .dataframe tbody tr th:only-of-type {\n",
       "        vertical-align: middle;\n",
       "    }\n",
       "\n",
       "    .dataframe tbody tr th {\n",
       "        vertical-align: top;\n",
       "    }\n",
       "\n",
       "    .dataframe thead th {\n",
       "        text-align: right;\n",
       "    }\n",
       "</style>\n",
       "<table border=\"1\" class=\"dataframe\">\n",
       "  <thead>\n",
       "    <tr style=\"text-align: right;\">\n",
       "      <th></th>\n",
       "      <th>Rank</th>\n",
       "      <th>Name</th>\n",
       "      <th>Networth($ Billion)</th>\n",
       "      <th>Age</th>\n",
       "      <th>Country</th>\n",
       "      <th>Source</th>\n",
       "      <th>Industry</th>\n",
       "    </tr>\n",
       "  </thead>\n",
       "  <tbody>\n",
       "    <tr>\n",
       "      <th>233</th>\n",
       "      <td>230</td>\n",
       "      <td>Johann Rupert &amp; family</td>\n",
       "      <td>8.9</td>\n",
       "      <td>71</td>\n",
       "      <td>South Africa</td>\n",
       "      <td>luxury goods</td>\n",
       "      <td>Fashion &amp; Retail</td>\n",
       "    </tr>\n",
       "    <tr>\n",
       "      <th>244</th>\n",
       "      <td>241</td>\n",
       "      <td>Nicky Oppenheimer &amp; family</td>\n",
       "      <td>8.7</td>\n",
       "      <td>76</td>\n",
       "      <td>South Africa</td>\n",
       "      <td>diamonds</td>\n",
       "      <td>Metals &amp; Mining</td>\n",
       "    </tr>\n",
       "    <tr>\n",
       "      <th>934</th>\n",
       "      <td>913</td>\n",
       "      <td>Patrice Motsepe</td>\n",
       "      <td>3.3</td>\n",
       "      <td>60</td>\n",
       "      <td>South Africa</td>\n",
       "      <td>mining</td>\n",
       "      <td>Metals &amp; Mining</td>\n",
       "    </tr>\n",
       "    <tr>\n",
       "      <th>1342</th>\n",
       "      <td>1341</td>\n",
       "      <td>Koos Bekker</td>\n",
       "      <td>2.3</td>\n",
       "      <td>69</td>\n",
       "      <td>South Africa</td>\n",
       "      <td>media, investments</td>\n",
       "      <td>Media &amp; Entertainment</td>\n",
       "    </tr>\n",
       "    <tr>\n",
       "      <th>1686</th>\n",
       "      <td>1645</td>\n",
       "      <td>Michiel Le Roux</td>\n",
       "      <td>1.8</td>\n",
       "      <td>72</td>\n",
       "      <td>South Africa</td>\n",
       "      <td>banking</td>\n",
       "      <td>Finance &amp; Investments</td>\n",
       "    </tr>\n",
       "  </tbody>\n",
       "</table>\n",
       "</div>"
      ],
      "text/plain": [
       "      Rank                         Name  Networth($ Billion)  Age  \\\n",
       "233    230      Johann Rupert & family                   8.9   71   \n",
       "244    241  Nicky Oppenheimer & family                   8.7   76   \n",
       "934    913             Patrice Motsepe                   3.3   60   \n",
       "1342  1341                 Koos Bekker                   2.3   69   \n",
       "1686  1645             Michiel Le Roux                   1.8   72   \n",
       "\n",
       "           Country              Source                Industry  \n",
       "233   South Africa        luxury goods       Fashion & Retail   \n",
       "244   South Africa            diamonds        Metals & Mining   \n",
       "934   South Africa              mining        Metals & Mining   \n",
       "1342  South Africa  media, investments  Media & Entertainment   \n",
       "1686  South Africa             banking  Finance & Investments   "
      ]
     },
     "execution_count": 33,
     "metadata": {},
     "output_type": "execute_result"
    }
   ],
   "source": [
    "South_africa_billionaires"
   ]
  },
  {
   "cell_type": "code",
   "execution_count": 36,
   "id": "a5a46ad2",
   "metadata": {},
   "outputs": [
    {
     "name": "stderr",
     "output_type": "stream",
     "text": [
      "C:\\Users\\rahul\\AppData\\Local\\Temp\\ipykernel_16568\\2011930409.py:6: UserWarning: FixedFormatter should only be used together with FixedLocator\n",
      "  ax3.set_xticklabels(labels=South_africa_billionaires['Name'],rotation = 90)\n"
     ]
    },
    {
     "data": {
      "image/png": "[encoded data removed]",
      "text/plain": [
       "<Figure size 640x480 with 1 Axes>"
      ]
     },
     "metadata": {},
     "output_type": "display_data"
    }
   ],
   "source": [
    "fig,ax3=plt.subplots()\n",
    "ax3.bar(South_africa_billionaires['Name'],South_africa_billionaires['Networth($ Billion)'],color='green')\n",
    "[s.set_visible(False) for s in ax3.spines.values()]\n",
    "ax3.set_title('South Africa Billonaires')\n",
    "ax.set_ylabel('Networth $(Billions)')\n",
    "ax3.set_xticklabels(labels=South_africa_billionaires['Name'],rotation = 90)\n",
    "plt.grid(axis='y',linestyle='--',linewidth=0.2)\n",
    "plt.show()"
   ]
  },
  {
   "cell_type": "markdown",
   "id": "fe16f97e",
   "metadata": {},
   "source": [
    "## Q4 Which Industry generates the most billionaires in the world?"
   ]
  },
  {
   "cell_type": "code",
   "execution_count": 37,
   "id": "684a1852",
   "metadata": {},
   "outputs": [
    {
     "data": {
      "text/plain": [
       "array(['Automotive ', 'Technology ', 'Fashion & Retail ',\n",
       "       'Finance & Investments ', 'Diversified ', 'Media & Entertainment ',\n",
       "       'Telecom ', 'Food & Beverage ', 'Logistics ', 'Real Estate ',\n",
       "       'Metals & Mining ', 'Manufacturing ', 'Gambling & Casinos ',\n",
       "       'Healthcare ', 'Service ', 'Energy ',\n",
       "       'Construction & Engineering ', 'Sports '], dtype=object)"
      ]
     },
     "execution_count": 37,
     "metadata": {},
     "output_type": "execute_result"
    }
   ],
   "source": [
    "Forbes_df['Industry'].unique()"
   ]
  },
  {
   "cell_type": "code",
   "execution_count": 38,
   "id": "7e08472f",
   "metadata": {},
   "outputs": [],
   "source": [
    "Forbes_df['Industry'] = Forbes_df['Industry'].apply(lambda x:x.replace(' ',''))"
   ]
  },
  {
   "cell_type": "code",
   "execution_count": 39,
   "id": "a9b8eb95",
   "metadata": {},
   "outputs": [],
   "source": [
    "Industry_count=Forbes_df.groupby('Industry').size()"
   ]
  },
  {
   "cell_type": "code",
   "execution_count": 40,
   "id": "83511516",
   "metadata": {},
   "outputs": [],
   "source": [
    "Industry_count = Industry_count.to_frame()\n",
    "Industry_count = Industry_count.rename(columns={0:'count'})\n",
    "Industry_count = Industry_count.sort_values(by='count',ascending = False)"
   ]
  },
  {
   "cell_type": "code",
   "execution_count": 41,
   "id": "91be71de",
   "metadata": {},
   "outputs": [
    {
     "data": {
      "text/html": [
       "<div>\n",
       "<style scoped>\n",
       "    .dataframe tbody tr th:only-of-type {\n",
       "        vertical-align: middle;\n",
       "    }\n",
       "\n",
       "    .dataframe tbody tr th {\n",
       "        vertical-align: top;\n",
       "    }\n",
       "\n",
       "    .dataframe thead th {\n",
       "        text-align: right;\n",
       "    }\n",
       "</style>\n",
       "<table border=\"1\" class=\"dataframe\">\n",
       "  <thead>\n",
       "    <tr style=\"text-align: right;\">\n",
       "      <th></th>\n",
       "      <th>count</th>\n",
       "    </tr>\n",
       "    <tr>\n",
       "      <th>Industry</th>\n",
       "      <th></th>\n",
       "    </tr>\n",
       "  </thead>\n",
       "  <tbody>\n",
       "    <tr>\n",
       "      <th>Finance&amp;Investments</th>\n",
       "      <td>386</td>\n",
       "    </tr>\n",
       "    <tr>\n",
       "      <th>Technology</th>\n",
       "      <td>329</td>\n",
       "    </tr>\n",
       "    <tr>\n",
       "      <th>Manufacturing</th>\n",
       "      <td>322</td>\n",
       "    </tr>\n",
       "    <tr>\n",
       "      <th>Fashion&amp;Retail</th>\n",
       "      <td>246</td>\n",
       "    </tr>\n",
       "    <tr>\n",
       "      <th>Healthcare</th>\n",
       "      <td>212</td>\n",
       "    </tr>\n",
       "    <tr>\n",
       "      <th>Food&amp;Beverage</th>\n",
       "      <td>201</td>\n",
       "    </tr>\n",
       "    <tr>\n",
       "      <th>RealEstate</th>\n",
       "      <td>189</td>\n",
       "    </tr>\n",
       "    <tr>\n",
       "      <th>Diversified</th>\n",
       "      <td>178</td>\n",
       "    </tr>\n",
       "    <tr>\n",
       "      <th>Media&amp;Entertainment</th>\n",
       "      <td>95</td>\n",
       "    </tr>\n",
       "    <tr>\n",
       "      <th>Energy</th>\n",
       "      <td>93</td>\n",
       "    </tr>\n",
       "    <tr>\n",
       "      <th>Automotive</th>\n",
       "      <td>69</td>\n",
       "    </tr>\n",
       "    <tr>\n",
       "      <th>Metals&amp;Mining</th>\n",
       "      <td>67</td>\n",
       "    </tr>\n",
       "    <tr>\n",
       "      <th>Service</th>\n",
       "      <td>51</td>\n",
       "    </tr>\n",
       "    <tr>\n",
       "      <th>Construction&amp;Engineering</th>\n",
       "      <td>43</td>\n",
       "    </tr>\n",
       "    <tr>\n",
       "      <th>Logistics</th>\n",
       "      <td>35</td>\n",
       "    </tr>\n",
       "    <tr>\n",
       "      <th>Telecom</th>\n",
       "      <td>35</td>\n",
       "    </tr>\n",
       "    <tr>\n",
       "      <th>Sports</th>\n",
       "      <td>26</td>\n",
       "    </tr>\n",
       "    <tr>\n",
       "      <th>Gambling&amp;Casinos</th>\n",
       "      <td>23</td>\n",
       "    </tr>\n",
       "  </tbody>\n",
       "</table>\n",
       "</div>"
      ],
      "text/plain": [
       "                          count\n",
       "Industry                       \n",
       "Finance&Investments         386\n",
       "Technology                  329\n",
       "Manufacturing               322\n",
       "Fashion&Retail              246\n",
       "Healthcare                  212\n",
       "Food&Beverage               201\n",
       "RealEstate                  189\n",
       "Diversified                 178\n",
       "Media&Entertainment          95\n",
       "Energy                       93\n",
       "Automotive                   69\n",
       "Metals&Mining                67\n",
       "Service                      51\n",
       "Construction&Engineering     43\n",
       "Logistics                    35\n",
       "Telecom                      35\n",
       "Sports                       26\n",
       "Gambling&Casinos             23"
      ]
     },
     "execution_count": 41,
     "metadata": {},
     "output_type": "execute_result"
    }
   ],
   "source": [
    "Industry_count"
   ]
  },
  {
   "cell_type": "code",
   "execution_count": 43,
   "id": "b3c16f34",
   "metadata": {},
   "outputs": [
    {
     "data": {
      "image/png": "[encoded data removed]",
      "text/plain": [
       "<Figure size 640x480 with 1 Axes>"
      ]
     },
     "metadata": {},
     "output_type": "display_data"
    }
   ],
   "source": [
    "fig,ax4=plt.subplots()\n",
    "[s.set_visible(False) for s in ax4.spines.values()]\n",
    "ax4.barh(Industry_count.index,Industry_count['count'])\n",
    "ax4.set_title('Top Industries by Count of Billonaires')\n",
    "ax4.set_xlabel('Count of Billonaires')\n",
    "plt.grid(axis='y',linestyle='--',linewidth=0.3)\n",
    "plt.show()"
   ]
  },
  {
   "cell_type": "markdown",
   "id": "d09bf136",
   "metadata": {},
   "source": [
    "## Q5 Relation between Money and Age"
   ]
  },
  {
   "cell_type": "code",
   "execution_count": 45,
   "id": "3c77c1d8",
   "metadata": {},
   "outputs": [
    {
     "data": {
      "image/png": "[encoded data removed]",
      "text/plain": [
       "<Figure size 1000x500 with 1 Axes>"
      ]
     },
     "metadata": {},
     "output_type": "display_data"
    }
   ],
   "source": [
    "fig,ax5=plt.subplots(figsize=(10,5))\n",
    "ax5.scatter(Forbes_df['Age'],Forbes_df['Networth($ Billion)'],color='green')\n",
    "[s.set_visible(False) for s in ax5.spines.values()]\n",
    "ax5.set_title('Top Relationship between Money and Age')\n",
    "ax5.set_xlabel('Age')\n",
    "ax5.set_ylabel('Networth (billion$)')\n",
    "plt.grid(axis='y',linestyle='--',linewidth=0.3)\n",
    "plt.show()"
   ]
  },
  {
   "cell_type": "markdown",
   "id": "cd909f7e",
   "metadata": {},
   "source": [
    "This showsthat there is no relation between Money and Age"
   ]
  },
  {
   "cell_type": "code",
   "execution_count": 46,
   "id": "458de8f2",
   "metadata": {},
   "outputs": [
    {
     "data": {
      "image/png": "[encoded data removed]",
      "text/plain": [
       "<Figure size 600x500 with 1 Axes>"
      ]
     },
     "metadata": {},
     "output_type": "display_data"
    }
   ],
   "source": [
    "fig, ax6 = plt.subplots(figsize=(6,5))\n",
    "ax6.hist(Forbes_df['Age'])\n",
    "[s.set_visible(False) for s in ax6.spines.values()]\n",
    "ax6.set_title('Distribution of Age')\n",
    "ax6.set_xlabel('Age')\n",
    "plt.grid(axis='y',linestyle='--',linewidth=0.3)\n",
    "plt.show()"
   ]
  },
  {
   "cell_type": "markdown",
   "id": "0577d4ba",
   "metadata": {},
   "source": [
    "## Q6 Youngest Billionaires in the World"
   ]
  },
  {
   "cell_type": "code",
   "execution_count": 47,
   "id": "e0c9a13b",
   "metadata": {},
   "outputs": [],
   "source": [
    "By_Age=Forbes_df.sort_values(by='Age',ascending=True)"
   ]
  },
  {
   "cell_type": "code",
   "execution_count": 48,
   "id": "da12aea8",
   "metadata": {},
   "outputs": [
    {
     "data": {
      "text/html": [
       "<div>\n",
       "<style scoped>\n",
       "    .dataframe tbody tr th:only-of-type {\n",
       "        vertical-align: middle;\n",
       "    }\n",
       "\n",
       "    .dataframe tbody tr th {\n",
       "        vertical-align: top;\n",
       "    }\n",
       "\n",
       "    .dataframe thead th {\n",
       "        text-align: right;\n",
       "    }\n",
       "</style>\n",
       "<table border=\"1\" class=\"dataframe\">\n",
       "  <thead>\n",
       "    <tr style=\"text-align: right;\">\n",
       "      <th></th>\n",
       "      <th>Rank</th>\n",
       "      <th>Name</th>\n",
       "      <th>Networth($ Billion)</th>\n",
       "      <th>Age</th>\n",
       "      <th>Country</th>\n",
       "      <th>Source</th>\n",
       "      <th>Industry</th>\n",
       "    </tr>\n",
       "  </thead>\n",
       "  <tbody>\n",
       "    <tr>\n",
       "      <th>1311</th>\n",
       "      <td>1292</td>\n",
       "      <td>Kevin David Lehmann</td>\n",
       "      <td>2.4</td>\n",
       "      <td>19</td>\n",
       "      <td>Germany</td>\n",
       "      <td>drugstores</td>\n",
       "      <td>Fashion&amp;Retail</td>\n",
       "    </tr>\n",
       "    <tr>\n",
       "      <th>2062</th>\n",
       "      <td>1929</td>\n",
       "      <td>Wang Zelong</td>\n",
       "      <td>1.5</td>\n",
       "      <td>25</td>\n",
       "      <td>China</td>\n",
       "      <td>chemicals</td>\n",
       "      <td>Metals&amp;Mining</td>\n",
       "    </tr>\n",
       "    <tr>\n",
       "      <th>1975</th>\n",
       "      <td>1929</td>\n",
       "      <td>Pedro Franceschi</td>\n",
       "      <td>1.5</td>\n",
       "      <td>25</td>\n",
       "      <td>Brazil</td>\n",
       "      <td>fintech</td>\n",
       "      <td>Finance&amp;Investments</td>\n",
       "    </tr>\n",
       "    <tr>\n",
       "      <th>2190</th>\n",
       "      <td>2190</td>\n",
       "      <td>Alexandra Andresen</td>\n",
       "      <td>1.3</td>\n",
       "      <td>25</td>\n",
       "      <td>Norway</td>\n",
       "      <td>investments</td>\n",
       "      <td>Diversified</td>\n",
       "    </tr>\n",
       "    <tr>\n",
       "      <th>1961</th>\n",
       "      <td>1929</td>\n",
       "      <td>Henrique Dubugras</td>\n",
       "      <td>1.5</td>\n",
       "      <td>26</td>\n",
       "      <td>Brazil</td>\n",
       "      <td>fintech</td>\n",
       "      <td>Finance&amp;Investments</td>\n",
       "    </tr>\n",
       "    <tr>\n",
       "      <th>...</th>\n",
       "      <td>...</td>\n",
       "      <td>...</td>\n",
       "      <td>...</td>\n",
       "      <td>...</td>\n",
       "      <td>...</td>\n",
       "      <td>...</td>\n",
       "      <td>...</td>\n",
       "    </tr>\n",
       "    <tr>\n",
       "      <th>1939</th>\n",
       "      <td>1929</td>\n",
       "      <td>Ana Maria Brescia Cafferata</td>\n",
       "      <td>1.5</td>\n",
       "      <td>97</td>\n",
       "      <td>Peru</td>\n",
       "      <td>mining, banking</td>\n",
       "      <td>Diversified</td>\n",
       "    </tr>\n",
       "    <tr>\n",
       "      <th>1273</th>\n",
       "      <td>1238</td>\n",
       "      <td>Charles Munger</td>\n",
       "      <td>2.5</td>\n",
       "      <td>98</td>\n",
       "      <td>United States</td>\n",
       "      <td>Berkshire Hathaway</td>\n",
       "      <td>Finance&amp;Investments</td>\n",
       "    </tr>\n",
       "    <tr>\n",
       "      <th>1377</th>\n",
       "      <td>1341</td>\n",
       "      <td>David Murdock</td>\n",
       "      <td>2.3</td>\n",
       "      <td>98</td>\n",
       "      <td>United States</td>\n",
       "      <td>Dole, real estate</td>\n",
       "      <td>Food&amp;Beverage</td>\n",
       "    </tr>\n",
       "    <tr>\n",
       "      <th>162</th>\n",
       "      <td>163</td>\n",
       "      <td>Robert Kuok</td>\n",
       "      <td>11.7</td>\n",
       "      <td>98</td>\n",
       "      <td>Malaysia</td>\n",
       "      <td>palm oil, shipping, property</td>\n",
       "      <td>Diversified</td>\n",
       "    </tr>\n",
       "    <tr>\n",
       "      <th>1681</th>\n",
       "      <td>1645</td>\n",
       "      <td>George Joseph</td>\n",
       "      <td>1.8</td>\n",
       "      <td>100</td>\n",
       "      <td>United States</td>\n",
       "      <td>insurance</td>\n",
       "      <td>Finance&amp;Investments</td>\n",
       "    </tr>\n",
       "  </tbody>\n",
       "</table>\n",
       "<p>2600 rows × 7 columns</p>\n",
       "</div>"
      ],
      "text/plain": [
       "      Rank                          Name  Networth($ Billion)  Age  \\\n",
       "1311  1292          Kevin David Lehmann                   2.4   19   \n",
       "2062  1929                  Wang Zelong                   1.5   25   \n",
       "1975  1929             Pedro Franceschi                   1.5   25   \n",
       "2190  2190           Alexandra Andresen                   1.3   25   \n",
       "1961  1929            Henrique Dubugras                   1.5   26   \n",
       "...    ...                           ...                  ...  ...   \n",
       "1939  1929  Ana Maria Brescia Cafferata                   1.5   97   \n",
       "1273  1238               Charles Munger                   2.5   98   \n",
       "1377  1341                David Murdock                   2.3   98   \n",
       "162    163                  Robert Kuok                  11.7   98   \n",
       "1681  1645                George Joseph                   1.8  100   \n",
       "\n",
       "            Country                        Source             Industry  \n",
       "1311        Germany                    drugstores       Fashion&Retail  \n",
       "2062          China                     chemicals        Metals&Mining  \n",
       "1975         Brazil                       fintech  Finance&Investments  \n",
       "2190         Norway                   investments          Diversified  \n",
       "1961         Brazil                       fintech  Finance&Investments  \n",
       "...             ...                           ...                  ...  \n",
       "1939           Peru               mining, banking          Diversified  \n",
       "1273  United States            Berkshire Hathaway  Finance&Investments  \n",
       "1377  United States             Dole, real estate        Food&Beverage  \n",
       "162        Malaysia  palm oil, shipping, property          Diversified  \n",
       "1681  United States                     insurance  Finance&Investments  \n",
       "\n",
       "[2600 rows x 7 columns]"
      ]
     },
     "execution_count": 48,
     "metadata": {},
     "output_type": "execute_result"
    }
   ],
   "source": [
    "By_Age"
   ]
  },
  {
   "cell_type": "code",
   "execution_count": 49,
   "id": "c950851a",
   "metadata": {},
   "outputs": [
    {
     "name": "stderr",
     "output_type": "stream",
     "text": [
      "C:\\Users\\rahul\\anaconda3\\lib\\site-packages\\seaborn\\_decorators.py:36: FutureWarning: Pass the following variables as keyword args: x, y. From version 0.12, the only valid positional argument will be `data`, and passing other arguments without an explicit keyword will result in an error or misinterpretation.\n",
      "  warnings.warn(\n"
     ]
    },
    {
     "data": {
      "image/png": "[encoded data removed]",
      "text/plain": [
       "<Figure size 700x500 with 1 Axes>"
      ]
     },
     "metadata": {},
     "output_type": "display_data"
    }
   ],
   "source": [
    "fig, ax6 = plt.subplots(figsize=(7,5))\n",
    "sns.barplot(By_Age['Name'][:10],By_Age['Age'][:10],hue=By_Age['Country'][:10],dodge=False)\n",
    "[s.set_visible(False) for s in ax6.spines.values()]\n",
    "ax6.set_title('Youngest billonaires on Forbes')\n",
    "ax6.set_ylabel('Age')\n",
    "ax6.set_xticklabels(labels=By_Age['Name'][:10],rotation=90)\n",
    "ax6.legend(fontsize=7,loc='upper left')\n",
    "plt.grid(axis='y',linestyle='--',linewidth=0.3)\n",
    "plt.show()"
   ]
  }
 ],
 "metadata": {
  "kernelspec": {
   "display_name": "Python 3 (ipykernel)",
   "language": "python",
   "name": "python3"
  },
  "language_info": {
   "codemirror_mode": {
    "name": "ipython",
    "version": 3
   },
   "file_extension": ".py",
   "mimetype": "text/x-python",
   "name": "python",
   "nbconvert_exporter": "python",
   "pygments_lexer": "ipython3",
   "version": "3.9.13"
  }
 },
 "nbformat": 4,
 "nbformat_minor": 5
}
