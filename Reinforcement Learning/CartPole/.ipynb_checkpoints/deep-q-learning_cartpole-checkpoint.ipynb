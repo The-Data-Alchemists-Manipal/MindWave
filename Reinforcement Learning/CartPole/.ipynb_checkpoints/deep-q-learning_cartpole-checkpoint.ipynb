{
 "cells": [
  {
   "cell_type": "markdown",
   "id": "e0e9bed6",
   "metadata": {
    "papermill": {
     "duration": 0.01167,
     "end_time": "2022-01-04T10:31:04.148892",
     "exception": false,
     "start_time": "2022-01-04T10:31:04.137222",
     "status": "completed"
    },
    "tags": []
   },
   "source": [
    "## Deep Q-Learning(DQN) Algorithm based CartPole Analysis\n",
    "\n",
    "Reinforcement learning is a very interesting area which studies creation of self-educating agents, which can solve different tasks in   different environments. In this kernel I'm going to solve classic OpenAI Gym CartPole-v0 environment using cross-entropy method. So let's start.\n",
    "\n",
    "#### What is DQN?\n",
    "\n",
    "DQN stands for Deep Q-Network, which is a type of reinforcement learning algorithm used in the field of artificial intelligence.\n",
    "DQN combines two key components: Q-learning and deep neural networks. Q-learning is a traditional reinforcement learning algorithm that learns an optimal action-value function called the Q-function. The Q-function represents the expected cumulative reward for taking a particular action in a given state.\n",
    "Deep neural networks are used in DQN to approximate the Q-function. The network takes the current state as input and outputs the Q-values for all possible actions. By using a deep neural network, DQN is able to handle high-dimensional input spaces, such as images.\n",
    "\n",
    "#### What is a Cartpole problem?\n",
    "The CartPole problem is a classic benchmark problem in the field of reinforcement learning. It involves balancing a pole on a cart by moving the cart left or right. The goal is to keep the pole balanced for as long as possible.\n",
    "In the CartPole problem, the environment consists of a cart that can move along a frictionless track, and a pole that is attached to the cart with a hinge. The cart can take two actions: move left or move right. The objective is to apply the appropriate actions to keep the pole balanced in an upright position.\n",
    "\n",
    "The state of the CartPole problem is typically defined by four variables: the position and velocity of the cart, and the angle and angular velocity of the pole. These variables describe the current state of the system and are used to make decisions about the next action to take."
   ]
  },
  {
   "cell_type": "code",
   "execution_count": 1,
   "id": "a37b7985",
   "metadata": {
    "execution": {
     "iopub.execute_input": "2022-01-04T10:31:04.177820Z",
     "iopub.status.busy": "2022-01-04T10:31:04.175977Z",
     "iopub.status.idle": "2022-01-04T10:31:11.295868Z",
     "shell.execute_reply": "2022-01-04T10:31:11.295062Z",
     "shell.execute_reply.started": "2022-01-04T10:21:09.569347Z"
    },
    "papermill": {
     "duration": 7.135575,
     "end_time": "2022-01-04T10:31:11.296072",
     "exception": false,
     "start_time": "2022-01-04T10:31:04.160497",
     "status": "completed"
    },
    "scrolled": true,
    "tags": []
   },
   "outputs": [
    {
     "ename": "ModuleNotFoundError",
     "evalue": "No module named 'tensorflow'",
     "output_type": "error",
     "traceback": [
      "\u001b[1;31m---------------------------------------------------------------------------\u001b[0m",
      "\u001b[1;31mModuleNotFoundError\u001b[0m                       Traceback (most recent call last)",
      "\u001b[1;32m~\\AppData\\Local\\Temp\\ipykernel_19000\\2632532788.py\u001b[0m in \u001b[0;36m<module>\u001b[1;34m\u001b[0m\n\u001b[0;32m      4\u001b[0m \u001b[1;32mimport\u001b[0m \u001b[0mrequests\u001b[0m\u001b[1;33m\u001b[0m\u001b[1;33m\u001b[0m\u001b[0m\n\u001b[0;32m      5\u001b[0m \u001b[1;33m\u001b[0m\u001b[0m\n\u001b[1;32m----> 6\u001b[1;33m \u001b[1;32mimport\u001b[0m \u001b[0mkeras\u001b[0m\u001b[1;33m\u001b[0m\u001b[1;33m\u001b[0m\u001b[0m\n\u001b[0m\u001b[0;32m      7\u001b[0m \u001b[1;32mfrom\u001b[0m \u001b[0mkeras\u001b[0m\u001b[1;33m.\u001b[0m\u001b[0mmodels\u001b[0m \u001b[1;32mimport\u001b[0m \u001b[0mSequential\u001b[0m\u001b[1;33m\u001b[0m\u001b[1;33m\u001b[0m\u001b[0m\n\u001b[0;32m      8\u001b[0m \u001b[1;32mfrom\u001b[0m \u001b[0mkeras\u001b[0m\u001b[1;33m.\u001b[0m\u001b[0mlayers\u001b[0m \u001b[1;32mimport\u001b[0m \u001b[0mDense\u001b[0m\u001b[1;33m\u001b[0m\u001b[1;33m\u001b[0m\u001b[0m\n",
      "\u001b[1;32m~\\AppData\\Roaming\\Python\\Python39\\site-packages\\keras\\__init__.py\u001b[0m in \u001b[0;36m<module>\u001b[1;34m\u001b[0m\n\u001b[0;32m     19\u001b[0m \"\"\"\n\u001b[0;32m     20\u001b[0m \u001b[1;32mfrom\u001b[0m \u001b[0mkeras\u001b[0m \u001b[1;32mimport\u001b[0m \u001b[0mdistribute\u001b[0m\u001b[1;33m\u001b[0m\u001b[1;33m\u001b[0m\u001b[0m\n\u001b[1;32m---> 21\u001b[1;33m \u001b[1;32mfrom\u001b[0m \u001b[0mkeras\u001b[0m \u001b[1;32mimport\u001b[0m \u001b[0mmodels\u001b[0m\u001b[1;33m\u001b[0m\u001b[1;33m\u001b[0m\u001b[0m\n\u001b[0m\u001b[0;32m     22\u001b[0m \u001b[1;32mfrom\u001b[0m \u001b[0mkeras\u001b[0m\u001b[1;33m.\u001b[0m\u001b[0mengine\u001b[0m\u001b[1;33m.\u001b[0m\u001b[0minput_layer\u001b[0m \u001b[1;32mimport\u001b[0m \u001b[0mInput\u001b[0m\u001b[1;33m\u001b[0m\u001b[1;33m\u001b[0m\u001b[0m\n\u001b[0;32m     23\u001b[0m \u001b[1;32mfrom\u001b[0m \u001b[0mkeras\u001b[0m\u001b[1;33m.\u001b[0m\u001b[0mengine\u001b[0m\u001b[1;33m.\u001b[0m\u001b[0msequential\u001b[0m \u001b[1;32mimport\u001b[0m \u001b[0mSequential\u001b[0m\u001b[1;33m\u001b[0m\u001b[1;33m\u001b[0m\u001b[0m\n",
      "\u001b[1;32m~\\AppData\\Roaming\\Python\\Python39\\site-packages\\keras\\models\\__init__.py\u001b[0m in \u001b[0;36m<module>\u001b[1;34m\u001b[0m\n\u001b[0;32m     16\u001b[0m \u001b[1;33m\u001b[0m\u001b[0m\n\u001b[0;32m     17\u001b[0m \u001b[1;33m\u001b[0m\u001b[0m\n\u001b[1;32m---> 18\u001b[1;33m \u001b[1;32mfrom\u001b[0m \u001b[0mkeras\u001b[0m\u001b[1;33m.\u001b[0m\u001b[0mengine\u001b[0m\u001b[1;33m.\u001b[0m\u001b[0mfunctional\u001b[0m \u001b[1;32mimport\u001b[0m \u001b[0mFunctional\u001b[0m\u001b[1;33m\u001b[0m\u001b[1;33m\u001b[0m\u001b[0m\n\u001b[0m\u001b[0;32m     19\u001b[0m \u001b[1;32mfrom\u001b[0m \u001b[0mkeras\u001b[0m\u001b[1;33m.\u001b[0m\u001b[0mengine\u001b[0m\u001b[1;33m.\u001b[0m\u001b[0msequential\u001b[0m \u001b[1;32mimport\u001b[0m \u001b[0mSequential\u001b[0m\u001b[1;33m\u001b[0m\u001b[1;33m\u001b[0m\u001b[0m\n\u001b[0;32m     20\u001b[0m \u001b[1;32mfrom\u001b[0m \u001b[0mkeras\u001b[0m\u001b[1;33m.\u001b[0m\u001b[0mengine\u001b[0m\u001b[1;33m.\u001b[0m\u001b[0mtraining\u001b[0m \u001b[1;32mimport\u001b[0m \u001b[0mModel\u001b[0m\u001b[1;33m\u001b[0m\u001b[1;33m\u001b[0m\u001b[0m\n",
      "\u001b[1;32m~\\AppData\\Roaming\\Python\\Python39\\site-packages\\keras\\engine\\functional.py\u001b[0m in \u001b[0;36m<module>\u001b[1;34m\u001b[0m\n\u001b[0;32m     22\u001b[0m \u001b[1;32mimport\u001b[0m \u001b[0mwarnings\u001b[0m\u001b[1;33m\u001b[0m\u001b[1;33m\u001b[0m\u001b[0m\n\u001b[0;32m     23\u001b[0m \u001b[1;33m\u001b[0m\u001b[0m\n\u001b[1;32m---> 24\u001b[1;33m \u001b[1;32mimport\u001b[0m \u001b[0mtensorflow\u001b[0m\u001b[1;33m.\u001b[0m\u001b[0mcompat\u001b[0m\u001b[1;33m.\u001b[0m\u001b[0mv2\u001b[0m \u001b[1;32mas\u001b[0m \u001b[0mtf\u001b[0m\u001b[1;33m\u001b[0m\u001b[1;33m\u001b[0m\u001b[0m\n\u001b[0m\u001b[0;32m     25\u001b[0m \u001b[1;33m\u001b[0m\u001b[0m\n\u001b[0;32m     26\u001b[0m \u001b[1;32mfrom\u001b[0m \u001b[0mkeras\u001b[0m \u001b[1;32mimport\u001b[0m \u001b[0mbackend\u001b[0m\u001b[1;33m\u001b[0m\u001b[1;33m\u001b[0m\u001b[0m\n",
      "\u001b[1;31mModuleNotFoundError\u001b[0m: No module named 'tensorflow'"
     ]
    }
   ],
   "source": [
    "import gym\n",
    "import numpy as np\n",
    "import matplotlib.pyplot as plt\n",
    "import requests\n",
    "\n",
    "import keras\n",
    "from keras.models import Sequential\n",
    "from keras.layers import Dense\n",
    "from keras.initializers import he_normal\n",
    "\n",
    "from PIL import Image\n",
    "from io import BytesIO"
   ]
  },
  {
   "cell_type": "code",
   "execution_count": 2,
   "id": "476ca28b",
   "metadata": {},
   "outputs": [
    {
     "name": "stdout",
     "output_type": "stream",
     "text": [
      "Defaulting to user installation because normal site-packages is not writeable\n",
      "Collecting tensorflow\n",
      "  Downloading tensorflow-2.12.0-cp39-cp39-win_amd64.whl (1.9 kB)\n",
      "Collecting tensorflow-intel==2.12.0\n",
      "  Downloading tensorflow_intel-2.12.0-cp39-cp39-win_amd64.whl (272.8 MB)\n",
      "     -------------------------------------- 272.8/272.8 MB 1.8 MB/s eta 0:00:00\n",
      "Collecting absl-py>=1.0.0\n",
      "  Using cached absl_py-1.4.0-py3-none-any.whl (126 kB)\n",
      "Collecting jax>=0.3.15\n",
      "  Downloading jax-0.4.13.tar.gz (1.3 MB)\n",
      "     ---------------------------------------- 1.3/1.3 MB 1.2 MB/s eta 0:00:00\n",
      "  Installing build dependencies: started\n",
      "  Installing build dependencies: finished with status 'done'\n",
      "  Getting requirements to build wheel: started\n",
      "  Getting requirements to build wheel: finished with status 'done'\n",
      "  Preparing metadata (pyproject.toml): started\n",
      "  Preparing metadata (pyproject.toml): finished with status 'done'\n",
      "Requirement already satisfied: packaging in c:\\programdata\\anaconda3\\lib\\site-packages (from tensorflow-intel==2.12.0->tensorflow) (21.3)\n",
      "Requirement already satisfied: typing-extensions>=3.6.6 in c:\\programdata\\anaconda3\\lib\\site-packages (from tensorflow-intel==2.12.0->tensorflow) (4.3.0)\n",
      "Collecting protobuf!=4.21.0,!=4.21.1,!=4.21.2,!=4.21.3,!=4.21.4,!=4.21.5,<5.0.0dev,>=3.20.3\n",
      "  Downloading protobuf-4.23.3-cp39-cp39-win_amd64.whl (422 kB)\n",
      "     -------------------------------------- 422.5/422.5 kB 1.3 MB/s eta 0:00:00\n",
      "Requirement already satisfied: setuptools in c:\\programdata\\anaconda3\\lib\\site-packages (from tensorflow-intel==2.12.0->tensorflow) (63.4.1)\n",
      "Collecting opt-einsum>=2.3.2\n",
      "  Using cached opt_einsum-3.3.0-py3-none-any.whl (65 kB)\n",
      "Collecting grpcio<2.0,>=1.24.3\n",
      "  Downloading grpcio-1.56.0-cp39-cp39-win_amd64.whl (4.2 MB)\n",
      "     ---------------------------------------- 4.2/4.2 MB 2.2 MB/s eta 0:00:00\n",
      "Collecting numpy<1.24,>=1.22\n",
      "  Downloading numpy-1.23.5-cp39-cp39-win_amd64.whl (14.7 MB)\n",
      "     ---------------------------------------- 14.7/14.7 MB 1.9 MB/s eta 0:00:00\n",
      "Collecting tensorboard<2.13,>=2.12\n",
      "  Using cached tensorboard-2.12.3-py3-none-any.whl (5.6 MB)\n",
      "Collecting tensorflow-estimator<2.13,>=2.12.0\n",
      "  Using cached tensorflow_estimator-2.12.0-py2.py3-none-any.whl (440 kB)\n",
      "Requirement already satisfied: wrapt<1.15,>=1.11.0 in c:\\programdata\\anaconda3\\lib\\site-packages (from tensorflow-intel==2.12.0->tensorflow) (1.14.1)\n",
      "Collecting termcolor>=1.1.0\n",
      "  Using cached termcolor-2.3.0-py3-none-any.whl (6.9 kB)\n",
      "Collecting libclang>=13.0.0\n",
      "  Using cached libclang-16.0.0-py2.py3-none-win_amd64.whl (24.4 MB)\n",
      "Collecting tensorflow-io-gcs-filesystem>=0.23.1\n",
      "  Downloading tensorflow_io_gcs_filesystem-0.31.0-cp39-cp39-win_amd64.whl (1.5 MB)\n",
      "     ---------------------------------------- 1.5/1.5 MB 1.3 MB/s eta 0:00:00\n",
      "Requirement already satisfied: h5py>=2.9.0 in c:\\programdata\\anaconda3\\lib\\site-packages (from tensorflow-intel==2.12.0->tensorflow) (3.7.0)\n",
      "Requirement already satisfied: keras<2.13,>=2.12.0 in c:\\users\\dell\\appdata\\roaming\\python\\python39\\site-packages (from tensorflow-intel==2.12.0->tensorflow) (2.12.0)\n",
      "Requirement already satisfied: six>=1.12.0 in c:\\programdata\\anaconda3\\lib\\site-packages (from tensorflow-intel==2.12.0->tensorflow) (1.16.0)\n",
      "Collecting flatbuffers>=2.0\n",
      "  Downloading flatbuffers-23.5.26-py2.py3-none-any.whl (26 kB)\n",
      "Collecting google-pasta>=0.1.1\n",
      "  Using cached google_pasta-0.2.0-py3-none-any.whl (57 kB)\n",
      "Collecting astunparse>=1.6.0\n",
      "  Using cached astunparse-1.6.3-py2.py3-none-any.whl (12 kB)\n",
      "Collecting gast<=0.4.0,>=0.2.1\n",
      "  Using cached gast-0.4.0-py3-none-any.whl (9.8 kB)\n",
      "Requirement already satisfied: wheel<1.0,>=0.23.0 in c:\\programdata\\anaconda3\\lib\\site-packages (from astunparse>=1.6.0->tensorflow-intel==2.12.0->tensorflow) (0.37.1)\n",
      "Requirement already satisfied: importlib-metadata>=4.6 in c:\\programdata\\anaconda3\\lib\\site-packages (from jax>=0.3.15->tensorflow-intel==2.12.0->tensorflow) (4.11.3)\n",
      "Collecting ml-dtypes>=0.1.0\n",
      "  Downloading ml_dtypes-0.2.0-cp39-cp39-win_amd64.whl (938 kB)\n",
      "     ------------------------------------ 938.4/938.4 kB 698.9 kB/s eta 0:00:00\n",
      "Requirement already satisfied: scipy>=1.7 in c:\\programdata\\anaconda3\\lib\\site-packages (from jax>=0.3.15->tensorflow-intel==2.12.0->tensorflow) (1.9.1)\n",
      "Requirement already satisfied: markdown>=2.6.8 in c:\\programdata\\anaconda3\\lib\\site-packages (from tensorboard<2.13,>=2.12->tensorflow-intel==2.12.0->tensorflow) (3.3.4)\n",
      "Requirement already satisfied: requests<3,>=2.21.0 in c:\\programdata\\anaconda3\\lib\\site-packages (from tensorboard<2.13,>=2.12->tensorflow-intel==2.12.0->tensorflow) (2.28.1)\n",
      "Collecting google-auth-oauthlib<1.1,>=0.5\n",
      "  Using cached google_auth_oauthlib-1.0.0-py2.py3-none-any.whl (18 kB)\n",
      "Requirement already satisfied: werkzeug>=1.0.1 in c:\\programdata\\anaconda3\\lib\\site-packages (from tensorboard<2.13,>=2.12->tensorflow-intel==2.12.0->tensorflow) (2.0.3)\n",
      "Collecting google-auth<3,>=1.6.3\n",
      "  Downloading google_auth-2.20.0-py2.py3-none-any.whl (181 kB)\n",
      "     -------------------------------------- 181.5/181.5 kB 1.1 MB/s eta 0:00:00\n",
      "Collecting tensorboard-data-server<0.8.0,>=0.7.0\n",
      "  Downloading tensorboard_data_server-0.7.1-py3-none-any.whl (2.4 kB)\n",
      "Requirement already satisfied: pyparsing!=3.0.5,>=2.0.2 in c:\\programdata\\anaconda3\\lib\\site-packages (from packaging->tensorflow-intel==2.12.0->tensorflow) (3.0.9)\n",
      "Requirement already satisfied: urllib3<2.0 in c:\\programdata\\anaconda3\\lib\\site-packages (from google-auth<3,>=1.6.3->tensorboard<2.13,>=2.12->tensorflow-intel==2.12.0->tensorflow) (1.26.11)\n",
      "Collecting cachetools<6.0,>=2.0.0\n",
      "  Downloading cachetools-5.3.1-py3-none-any.whl (9.3 kB)\n",
      "Requirement already satisfied: pyasn1-modules>=0.2.1 in c:\\programdata\\anaconda3\\lib\\site-packages (from google-auth<3,>=1.6.3->tensorboard<2.13,>=2.12->tensorflow-intel==2.12.0->tensorflow) (0.2.8)\n",
      "Collecting rsa<5,>=3.1.4\n",
      "  Using cached rsa-4.9-py3-none-any.whl (34 kB)\n",
      "Collecting requests-oauthlib>=0.7.0\n",
      "  Using cached requests_oauthlib-1.3.1-py2.py3-none-any.whl (23 kB)\n",
      "Requirement already satisfied: zipp>=0.5 in c:\\programdata\\anaconda3\\lib\\site-packages (from importlib-metadata>=4.6->jax>=0.3.15->tensorflow-intel==2.12.0->tensorflow) (3.8.0)\n",
      "Requirement already satisfied: certifi>=2017.4.17 in c:\\programdata\\anaconda3\\lib\\site-packages (from requests<3,>=2.21.0->tensorboard<2.13,>=2.12->tensorflow-intel==2.12.0->tensorflow) (2022.9.14)\n",
      "Requirement already satisfied: idna<4,>=2.5 in c:\\programdata\\anaconda3\\lib\\site-packages (from requests<3,>=2.21.0->tensorboard<2.13,>=2.12->tensorflow-intel==2.12.0->tensorflow) (3.3)\n",
      "Requirement already satisfied: charset-normalizer<3,>=2 in c:\\programdata\\anaconda3\\lib\\site-packages (from requests<3,>=2.21.0->tensorboard<2.13,>=2.12->tensorflow-intel==2.12.0->tensorflow) (2.0.4)\n",
      "Requirement already satisfied: pyasn1<0.5.0,>=0.4.6 in c:\\programdata\\anaconda3\\lib\\site-packages (from pyasn1-modules>=0.2.1->google-auth<3,>=1.6.3->tensorboard<2.13,>=2.12->tensorflow-intel==2.12.0->tensorflow) (0.4.8)\n",
      "Collecting oauthlib>=3.0.0\n",
      "  Using cached oauthlib-3.2.2-py3-none-any.whl (151 kB)\n",
      "Building wheels for collected packages: jax\n",
      "  Building wheel for jax (pyproject.toml): started\n",
      "  Building wheel for jax (pyproject.toml): finished with status 'done'\n",
      "  Created wheel for jax: filename=jax-0.4.13-py3-none-any.whl size=1518835 sha256=c6439db14976c7678af0f4750d39be53f9b29e2a57baf0b3fe3b4e2d22bedbea\n",
      "  Stored in directory: c:\\users\\dell\\appdata\\local\\pip\\cache\\wheels\\ac\\c9\\8c\\f4c803770fde18dcdd82e84675eb6add1c0d1035f7214a96fa\n",
      "Successfully built jax\n",
      "Installing collected packages: libclang, flatbuffers, termcolor, tensorflow-io-gcs-filesystem, tensorflow-estimator, tensorboard-data-server, rsa, protobuf, oauthlib, numpy, grpcio, google-pasta, gast, cachetools, astunparse, absl-py, requests-oauthlib, opt-einsum, ml-dtypes, google-auth, jax, google-auth-oauthlib, tensorboard, tensorflow-intel, tensorflow\n",
      "Successfully installed absl-py-1.4.0 astunparse-1.6.3 cachetools-5.3.1 flatbuffers-23.5.26 gast-0.4.0 google-auth-2.20.0 google-auth-oauthlib-1.0.0 google-pasta-0.2.0 grpcio-1.56.0 jax-0.4.13 libclang-16.0.0 ml-dtypes-0.2.0 numpy-1.23.5 oauthlib-3.2.2 opt-einsum-3.3.0 protobuf-4.23.3 requests-oauthlib-1.3.1 rsa-4.9 tensorboard-2.12.3 tensorboard-data-server-0.7.1 tensorflow-2.12.0 tensorflow-estimator-2.12.0 tensorflow-intel-2.12.0 tensorflow-io-gcs-filesystem-0.31.0 termcolor-2.3.0\n",
      "Note: you may need to restart the kernel to use updated packages.\n"
     ]
    },
    {
     "name": "stderr",
     "output_type": "stream",
     "text": [
      "  WARNING: The scripts pyrsa-decrypt.exe, pyrsa-encrypt.exe, pyrsa-keygen.exe, pyrsa-priv2pub.exe, pyrsa-sign.exe and pyrsa-verify.exe are installed in 'C:\\Users\\DELL\\AppData\\Roaming\\Python\\Python39\\Scripts' which is not on PATH.\n",
      "  Consider adding this directory to PATH or, if you prefer to suppress this warning, use --no-warn-script-location.\n",
      "  WARNING: The script f2py.exe is installed in 'C:\\Users\\DELL\\AppData\\Roaming\\Python\\Python39\\Scripts' which is not on PATH.\n",
      "  Consider adding this directory to PATH or, if you prefer to suppress this warning, use --no-warn-script-location.\n",
      "  WARNING: The script google-oauthlib-tool.exe is installed in 'C:\\Users\\DELL\\AppData\\Roaming\\Python\\Python39\\Scripts' which is not on PATH.\n",
      "  Consider adding this directory to PATH or, if you prefer to suppress this warning, use --no-warn-script-location.\n",
      "  WARNING: The script tensorboard.exe is installed in 'C:\\Users\\DELL\\AppData\\Roaming\\Python\\Python39\\Scripts' which is not on PATH.\n",
      "  Consider adding this directory to PATH or, if you prefer to suppress this warning, use --no-warn-script-location.\n",
      "  WARNING: The scripts estimator_ckpt_converter.exe, import_pb_to_tensorboard.exe, saved_model_cli.exe, tensorboard.exe, tf_upgrade_v2.exe, tflite_convert.exe, toco.exe and toco_from_protos.exe are installed in 'C:\\Users\\DELL\\AppData\\Roaming\\Python\\Python39\\Scripts' which is not on PATH.\n",
      "  Consider adding this directory to PATH or, if you prefer to suppress this warning, use --no-warn-script-location.\n",
      "ERROR: pip's dependency resolver does not currently take into account all the packages that are installed. This behaviour is the source of the following dependency conflicts.\n",
      "daal4py 2021.6.0 requires daal==2021.4.0, which is not installed.\n",
      "numba 0.55.1 requires numpy<1.22,>=1.18, but you have numpy 1.23.5 which is incompatible.\n"
     ]
    }
   ],
   "source": [
    "pip install tensorflow"
   ]
  },
  {
   "cell_type": "markdown",
   "id": "48c2e4cd",
   "metadata": {
    "papermill": {
     "duration": 0.009191,
     "end_time": "2022-01-04T10:31:11.315437",
     "exception": false,
     "start_time": "2022-01-04T10:31:11.306246",
     "status": "completed"
    },
    "tags": []
   },
   "source": [
    "#### The goal of the environment is to hold pole in vertical position moving cart left or right. The game is completed if the pole is balanced for 200 episodes. The environment looks like this:"
   ]
  },
  {
   "cell_type": "code",
   "execution_count": 2,
   "id": "e10656b3",
   "metadata": {
    "_kg_hide-input": true,
    "execution": {
     "iopub.execute_input": "2022-01-04T10:31:11.338502Z",
     "iopub.status.busy": "2022-01-04T10:31:11.337874Z",
     "iopub.status.idle": "2022-01-04T10:31:11.729480Z",
     "shell.execute_reply": "2022-01-04T10:31:11.729977Z",
     "shell.execute_reply.started": "2022-01-04T10:21:11.827984Z"
    },
    "papermill": {
     "duration": 0.405287,
     "end_time": "2022-01-04T10:31:11.730155",
     "exception": false,
     "start_time": "2022-01-04T10:31:11.324868",
     "status": "completed"
    },
    "tags": []
   },
   "outputs": [
    {
     "data": {
      "image/png": "[encoded data removed]",
      "text/plain": [
       "<Figure size 720x432 with 1 Axes>"
      ]
     },
     "metadata": {
      "needs_background": "light"
     },
     "output_type": "display_data"
    }
   ],
   "source": [
    "r = requests.get('https://gym.openai.com/videos/2019-10-21--mqt8Qj1mwo/CartPole-v1/poster.jpg')\n",
    "\n",
    "plt.figure(figsize = (10, 6))\n",
    "plt.imshow(Image.open(BytesIO(r.content)))\n",
    "plt.axis('off')\n",
    "plt.show()"
   ]
  },
  {
   "cell_type": "markdown",
   "id": "7a0399e1",
   "metadata": {
    "papermill": {
     "duration": 0.009865,
     "end_time": "2022-01-04T10:31:11.750668",
     "exception": false,
     "start_time": "2022-01-04T10:31:11.740803",
     "status": "completed"
    },
    "tags": []
   },
   "source": [
    "#### Lets create an environment and look at it in details"
   ]
  },
  {
   "cell_type": "code",
   "execution_count": 3,
   "id": "b6793fbe",
   "metadata": {
    "execution": {
     "iopub.execute_input": "2022-01-04T10:31:11.777325Z",
     "iopub.status.busy": "2022-01-04T10:31:11.776659Z",
     "iopub.status.idle": "2022-01-04T10:31:11.794386Z",
     "shell.execute_reply": "2022-01-04T10:31:11.793468Z",
     "shell.execute_reply.started": "2022-01-04T10:21:12.667139Z"
    },
    "papermill": {
     "duration": 0.033799,
     "end_time": "2022-01-04T10:31:11.794577",
     "exception": false,
     "start_time": "2022-01-04T10:31:11.760778",
     "status": "completed"
    },
    "tags": []
   },
   "outputs": [
    {
     "name": "stdout",
     "output_type": "stream",
     "text": [
      "Observation, returned by reset() function: [-0.0014268  -0.04234819  0.00299832 -0.01499793]\n",
      "Action space:  Discrete(2)\n",
      "Observation after action: [-0.00227376  0.15273063  0.00269836 -0.30673334]\n",
      "Reward for the action: 1.0\n",
      "Game is over: False\n",
      "Debug data: {}\n"
     ]
    }
   ],
   "source": [
    "env = gym.make('CartPole-v0') # Create an environment\n",
    "\n",
    "# To reset the environment we can use reset() function which returns an array with 4 values\n",
    "# This 4 values is an observation, which tells us a position of pole. We don't need to know what these values mean\n",
    "# this is a job for our ANN.\n",
    "observation = env.reset()\n",
    "print(f'Observation, returned by reset() function: {observation}')\n",
    "\n",
    "# To see action space we can use action_space attribute\n",
    "# Discrete(2) means that actions can be 0 or 1 which can be left or right \n",
    "print('Action space: ', env.action_space)\n",
    "\n",
    "# To make step we need to use step(action) function, it returns 4 values:\n",
    "# Obseravtion - current observation after action\n",
    "# Reward - recieved reward after action\n",
    "# Done - whether game over or not\n",
    "# Debug data which we don't need\n",
    "observation, reward, done, debug = env.step(env.action_space.sample()) # Doing random action\n",
    "print(f'Observation after action: {observation}')\n",
    "print(f'Reward for the action: {reward}')\n",
    "print(f'Game is over: {done}')\n",
    "print(f'Debug data: {debug}')"
   ]
  },
  {
   "cell_type": "markdown",
   "id": "705252b2",
   "metadata": {
    "papermill": {
     "duration": 0.010228,
     "end_time": "2022-01-04T10:31:11.815803",
     "exception": false,
     "start_time": "2022-01-04T10:31:11.805575",
     "status": "completed"
    },
    "tags": []
   },
   "source": [
    "## Algorithm\n",
    "#### To solve this environment a cross-entropy algorithm have been used. The algorithm can be written in several steps:\n",
    "\n",
    "1. Play N numbers of games using random actions or actions predicted by model to collect raw data.\n",
    "2. Collect a total reward for each game and calculate threshold - 70 percentile of all total rewards.\n",
    "3. Select games from raw data which have total reward more than threshold.\n",
    "4. Train model on selected data where observations are an input to the model and actions are targets.\n",
    "5. Repeat from step 1 untill good results.\n",
    "\n",
    "#### In this kernel I want to train model with two steps - first, on data, generated using random actions, second, on data, generated using actions, predicted by the model."
   ]
  },
  {
   "cell_type": "markdown",
   "id": "98b5af41",
   "metadata": {
    "papermill": {
     "duration": 0.010467,
     "end_time": "2022-01-04T10:31:11.837513",
     "exception": false,
     "start_time": "2022-01-04T10:31:11.827046",
     "status": "completed"
    },
    "tags": []
   },
   "source": [
    "## Algorithm implementation\n",
    "#### Let's start coding. The main piece of code - is a function that will generate and preprocess data."
   ]
  },
  {
   "cell_type": "code",
   "execution_count": 4,
   "id": "28c22f6f",
   "metadata": {
    "execution": {
     "iopub.execute_input": "2022-01-04T10:31:11.862937Z",
     "iopub.status.busy": "2022-01-04T10:31:11.861933Z",
     "iopub.status.idle": "2022-01-04T10:31:11.873624Z",
     "shell.execute_reply": "2022-01-04T10:31:11.874174Z",
     "shell.execute_reply.started": "2022-01-04T10:21:12.686138Z"
    },
    "papermill": {
     "duration": 0.026147,
     "end_time": "2022-01-04T10:31:11.874342",
     "exception": false,
     "start_time": "2022-01-04T10:31:11.848195",
     "status": "completed"
    },
    "tags": []
   },
   "outputs": [],
   "source": [
    "def generate_data(env = gym.make('CartPole-v0'), n_games = 1000, model = None, percentile = 70):\n",
    "    '''\n",
    "       env - an environment to solve\n",
    "       n_games - number of games to play to collect raw data\n",
    "       model - if None, the random actions will be taken to collect data, to predict actions a model must be passed\n",
    "       percentile - (100% - percentile%) of the best games will be selected as training data\n",
    "    '''\n",
    "    observation = env.reset() # Resetting the environment to get our first observation\n",
    "\n",
    "    train_data = [] # List to store raw data\n",
    "    rewards = [] # List to store total rewards of each game\n",
    "    \n",
    "    print(f'Playing {n_games} games...')\n",
    "    \n",
    "    # Step 1 of the algorithm - Play N numbers of games using random actions or actions predicted by model to collect raw data.\n",
    "    for i in range(n_games):\n",
    "        temp_reward = 0 # Counts a current game total reward\n",
    "        temp_data = [] # Stores (observation, action) tuples for each step\n",
    "        \n",
    "        # Playing a current game until done\n",
    "        while True:\n",
    "            # Use model to predict actions if passed, otherwise take random actions\n",
    "            if model:\n",
    "                action = model.predict(observation.reshape((-1, 4)))\n",
    "                action = int(np.rint(action))\n",
    "            else:\n",
    "                action = env.action_space.sample()\n",
    "            \n",
    "            temp_data.append((list(observation), action)) # Appending (observation, action) tuple to temp_data list\n",
    "\n",
    "            observation, reward, done, _ = env.step(action) # Making action\n",
    "\n",
    "            temp_reward += reward # Counting reward\n",
    "            \n",
    "            # If game over - reset environment and break while loop\n",
    "            if done:\n",
    "                observation = env.reset()\n",
    "                break\n",
    "        \n",
    "        # Append data of last game to train_data list and total reward of last game to rewards list\n",
    "        train_data.append(temp_data)\n",
    "        \n",
    "        # Step 2 of the algorithm - Collect a total reward for each game and calculate threshold - 70 percentile of all total rewards.\n",
    "        rewards.append(temp_reward)\n",
    "        \n",
    "    print('Done playing games\\n')\n",
    "    \n",
    "    # Calculating threshold value using rewards list an np.percentile function\n",
    "    thresh = int(np.percentile(rewards, percentile))\n",
    "    print(f'Score threshold value: {thresh}')\n",
    "    \n",
    "    print(f'Selecting games according to threshold...')\n",
    "    # Step 3 of the algorithm - Select games from raw data which have total reward more than threshold.\n",
    "    train_data = [episode for (i, episode) in enumerate(train_data) if rewards[i] >= thresh]\n",
    "    \n",
    "    # Now train_data list contains lists of tuples: [[(observation, action), ...], [(observation, action), ...], ...]\n",
    "    # The next string flattens train_data list: [(observation, action), (observation, action), ...]\n",
    "    train_data = [observation for episode in train_data for observation in episode]\n",
    "    \n",
    "    # Creating labels array\n",
    "    labels = np.array([observation[1] for observation in train_data])\n",
    "    \n",
    "    # Storing only observations in train_data array\n",
    "    train_data = np.array([observation[0] for observation in train_data])\n",
    "    print(f'Total observations: {train_data.shape[0]}' )\n",
    "    \n",
    "    return train_data, labels\n"
   ]
  },
  {
   "cell_type": "code",
   "execution_count": 5,
   "id": "ebd8f5bd",
   "metadata": {
    "execution": {
     "iopub.execute_input": "2022-01-04T10:31:11.899842Z",
     "iopub.status.busy": "2022-01-04T10:31:11.899236Z",
     "iopub.status.idle": "2022-01-04T10:31:12.977146Z",
     "shell.execute_reply": "2022-01-04T10:31:12.976258Z",
     "shell.execute_reply.started": "2022-01-04T10:21:12.705357Z"
    },
    "papermill": {
     "duration": 1.092507,
     "end_time": "2022-01-04T10:31:12.977343",
     "exception": false,
     "start_time": "2022-01-04T10:31:11.884836",
     "status": "completed"
    },
    "tags": []
   },
   "outputs": [
    {
     "name": "stdout",
     "output_type": "stream",
     "text": [
      "Playing 2000 games...\n",
      "Done playing games\n",
      "\n",
      "Score threshold value: 24\n",
      "Selecting games according to threshold...\n",
      "Total observations: 22845\n"
     ]
    }
   ],
   "source": [
    "# Generating first training data\n",
    "train_data, labels = generate_data(n_games = 2000)"
   ]
  },
  {
   "cell_type": "markdown",
   "id": "3d8cf146",
   "metadata": {
    "papermill": {
     "duration": 0.010641,
     "end_time": "2022-01-04T10:31:13.000438",
     "exception": false,
     "start_time": "2022-01-04T10:31:12.989797",
     "status": "completed"
    },
    "tags": []
   },
   "source": [
    "## Model creation\n",
    "* This is step 4 of our algorithm - train model on selected data where observations are an input to the model and actions are targets.\n",
    "\n",
    "* As a model I'll use simple ANN with two hidden layers (64, and 128 neurons)."
   ]
  },
  {
   "cell_type": "code",
   "execution_count": 6,
   "id": "94a34113",
   "metadata": {
    "execution": {
     "iopub.execute_input": "2022-01-04T10:31:13.030307Z",
     "iopub.status.busy": "2022-01-04T10:31:13.029520Z",
     "iopub.status.idle": "2022-01-04T10:31:13.185389Z",
     "shell.execute_reply": "2022-01-04T10:31:13.186100Z",
     "shell.execute_reply.started": "2022-01-04T10:21:14.265559Z"
    },
    "papermill": {
     "duration": 0.174665,
     "end_time": "2022-01-04T10:31:13.186322",
     "exception": false,
     "start_time": "2022-01-04T10:31:13.011657",
     "status": "completed"
    },
    "tags": []
   },
   "outputs": [
    {
     "name": "stderr",
     "output_type": "stream",
     "text": [
      "\n",
      "User settings:\n",
      "\n",
      "   KMP_AFFINITY=granularity=fine,verbose,compact,1,0\n",
      "   KMP_BLOCKTIME=0\n",
      "   KMP_SETTINGS=1\n",
      "   KMP_WARNINGS=0\n",
      "\n",
      "Effective settings:\n",
      "\n",
      "   KMP_ABORT_DELAY=0\n",
      "   KMP_ADAPTIVE_LOCK_PROPS='1,1024'\n",
      "   KMP_ALIGN_ALLOC=64\n",
      "   KMP_ALL_THREADPRIVATE=128\n",
      "   KMP_ATOMIC_MODE=2\n",
      "   KMP_BLOCKTIME=0\n",
      "   KMP_CPUINFO_FILE: value is not defined\n",
      "   KMP_DETERMINISTIC_REDUCTION=false\n",
      "   KMP_DEVICE_THREAD_LIMIT=2147483647\n",
      "   KMP_DISP_NUM_BUFFERS=7\n",
      "   KMP_DUPLICATE_LIB_OK=false\n",
      "   KMP_ENABLE_TASK_THROTTLING=true\n",
      "   KMP_FORCE_REDUCTION: value is not defined\n",
      "   KMP_FOREIGN_THREADS_THREADPRIVATE=true\n",
      "   KMP_FORKJOIN_BARRIER='2,2'\n",
      "   KMP_FORKJOIN_BARRIER_PATTERN='hyper,hyper'\n",
      "   KMP_GTID_MODE=3\n",
      "   KMP_HANDLE_SIGNALS=false\n",
      "   KMP_HOT_TEAMS_MAX_LEVEL=1\n",
      "   KMP_HOT_TEAMS_MODE=0\n",
      "   KMP_INIT_AT_FORK=true\n",
      "   KMP_LIBRARY=throughput\n",
      "   KMP_LOCK_KIND=queuing\n",
      "   KMP_MALLOC_POOL_INCR=1M\n",
      "   KMP_NUM_LOCKS_IN_BLOCK=1\n",
      "   KMP_PLAIN_BARRIER='2,2'\n",
      "   KMP_PLAIN_BARRIER_PATTERN='hyper,hyper'\n",
      "   KMP_REDUCTION_BARRIER='1,1'\n",
      "   KMP_REDUCTION_BARRIER_PATTERN='hyper,hyper'\n",
      "   KMP_SCHEDULE='static,balanced;guided,iterative'\n",
      "   KMP_SETTINGS=true\n",
      "   KMP_SPIN_BACKOFF_PARAMS='4096,100'\n",
      "   KMP_STACKOFFSET=64\n",
      "   KMP_STACKPAD=0\n",
      "   KMP_STACKSIZE=8M\n",
      "   KMP_STORAGE_MAP=false\n",
      "   KMP_TASKING=2\n",
      "   KMP_TASKLOOP_MIN_TASKS=0\n",
      "   KMP_TASK_STEALING_CONSTRAINT=1\n",
      "   KMP_TEAMS_THREAD_LIMIT=4\n",
      "   KMP_TOPOLOGY_METHOD=all\n",
      "   KMP_USE_YIELD=1\n",
      "   KMP_VERSION=false\n",
      "   KMP_WARNINGS=false\n",
      "   OMP_AFFINITY_FORMAT='OMP: pid %P tid %i thread %n bound to OS proc set {%A}'\n",
      "   OMP_ALLOCATOR=omp_default_mem_alloc\n",
      "   OMP_CANCELLATION=false\n",
      "   OMP_DEFAULT_DEVICE=0\n",
      "   OMP_DISPLAY_AFFINITY=false\n",
      "   OMP_DISPLAY_ENV=false\n",
      "   OMP_DYNAMIC=false\n",
      "   OMP_MAX_ACTIVE_LEVELS=1\n",
      "   OMP_MAX_TASK_PRIORITY=0\n",
      "   OMP_NESTED: deprecated; max-active-levels-var=1\n",
      "   OMP_NUM_THREADS: value is not defined\n",
      "   OMP_PLACES: value is not defined\n",
      "   OMP_PROC_BIND='intel'\n",
      "   OMP_SCHEDULE='static'\n",
      "   OMP_STACKSIZE=8M\n",
      "   OMP_TARGET_OFFLOAD=DEFAULT\n",
      "   OMP_THREAD_LIMIT=2147483647\n",
      "   OMP_WAIT_POLICY=PASSIVE\n",
      "   KMP_AFFINITY='verbose,warnings,respect,granularity=fine,compact,1,0'\n",
      "\n",
      "2022-01-04 10:31:13.075343: I tensorflow/core/common_runtime/process_util.cc:146] Creating new thread pool with default inter op setting: 2. Tune using inter_op_parallelism_threads for best performance.\n"
     ]
    }
   ],
   "source": [
    "# Weights initializer\n",
    "init = he_normal(seed = 666)\n",
    "\n",
    "model = Sequential()\n",
    "\n",
    "# We are using observations from environment as input data, so input shape of our ANN is (4, )\n",
    "model.add(Dense(64, input_shape = (4,), activation = 'relu', kernel_initializer = init))\n",
    "model.add(Dense(128, activation = 'relu', kernel_initializer = init))\n",
    "\n",
    "# Because our action can be only 0 or 1, I'll use Dense layer with one neuron and sigmoid activation function\n",
    "model.add(Dense(1, activation = 'sigmoid'))\n",
    "\n",
    "# Compile model using SGD and binary_crossentropy\n",
    "model.compile(optimizer = 'sgd', loss = 'binary_crossentropy')"
   ]
  },
  {
   "cell_type": "markdown",
   "id": "8491d416",
   "metadata": {
    "papermill": {
     "duration": 0.011243,
     "end_time": "2022-01-04T10:31:13.210287",
     "exception": false,
     "start_time": "2022-01-04T10:31:13.199044",
     "status": "completed"
    },
    "tags": []
   },
   "source": [
    "## Model training - sample actions data\n",
    "* First - I'll train model using data, generated on random actions. To plot loss I'll also create a plot_loss function:"
   ]
  },
  {
   "cell_type": "code",
   "execution_count": 7,
   "id": "87677341",
   "metadata": {
    "execution": {
     "iopub.execute_input": "2022-01-04T10:31:13.240103Z",
     "iopub.status.busy": "2022-01-04T10:31:13.236888Z",
     "iopub.status.idle": "2022-01-04T10:31:13.241743Z",
     "shell.execute_reply": "2022-01-04T10:31:13.242271Z",
     "shell.execute_reply.started": "2022-01-04T10:21:14.325611Z"
    },
    "papermill": {
     "duration": 0.020482,
     "end_time": "2022-01-04T10:31:13.242446",
     "exception": false,
     "start_time": "2022-01-04T10:31:13.221964",
     "status": "completed"
    },
    "tags": []
   },
   "outputs": [],
   "source": [
    "# Plotting learnig curves\n",
    "\n",
    "def plot_loss():    \n",
    "    H = model.history.history\n",
    "    \n",
    "    plt.figure(figsize = (15, 5))\n",
    "    plt.plot(H['loss'], label = 'loss')\n",
    "    plt.plot(H['val_loss'], label = 'val_loss')\n",
    "    plt.grid()\n",
    "    plt.legend()\n",
    "    plt.show()"
   ]
  },
  {
   "cell_type": "code",
   "execution_count": 8,
   "id": "bdb7ccbd",
   "metadata": {
    "execution": {
     "iopub.execute_input": "2022-01-04T10:31:13.268318Z",
     "iopub.status.busy": "2022-01-04T10:31:13.267728Z",
     "iopub.status.idle": "2022-01-04T10:32:50.566035Z",
     "shell.execute_reply": "2022-01-04T10:32:50.566515Z",
     "shell.execute_reply.started": "2022-01-04T10:21:14.333753Z"
    },
    "papermill": {
     "duration": 97.313021,
     "end_time": "2022-01-04T10:32:50.566715",
     "exception": false,
     "start_time": "2022-01-04T10:31:13.253694",
     "status": "completed"
    },
    "tags": []
   },
   "outputs": [
    {
     "name": "stderr",
     "output_type": "stream",
     "text": [
      "2022-01-04 10:31:13.348882: I tensorflow/compiler/mlir/mlir_graph_optimization_pass.cc:185] None of the MLIR Optimization Passes are enabled (registered 2)\n"
     ]
    },
    {
     "data": {
      "image/png": "[encoded data removed]",
      "text/plain": [
       "<Figure size 1080x360 with 1 Axes>"
      ]
     },
     "metadata": {
      "needs_background": "light"
     },
     "output_type": "display_data"
    }
   ],
   "source": [
    "# Model training\n",
    "model.fit(train_data, labels, epochs = 100, batch_size = 32, validation_split = 0.2, verbose = 0)\n",
    "plot_loss()"
   ]
  },
  {
   "cell_type": "markdown",
   "id": "26c3d22f",
   "metadata": {
    "papermill": {
     "duration": 0.012987,
     "end_time": "2022-01-04T10:32:50.593081",
     "exception": false,
     "start_time": "2022-01-04T10:32:50.580094",
     "status": "completed"
    },
    "tags": []
   },
   "source": [
    "## Conclusion\n",
    "* And this is all here. The cross-entropy method is very simple, I'd rather say it's primitive, but it works very well for simple tasks like CartPole.\n",
    "\n",
    "* Of course the code here is just a baseline and can be easly improved or written as a convenient class, but my main goal was to show you the algorithm and implement it step by step, keeping things as simple as possible, so I hope it will help anybody who doing first steps in deep reinforcement learning area"
   ]
  },
  {
   "cell_type": "code",
   "execution_count": 9,
   "id": "f9749482",
   "metadata": {
    "execution": {
     "iopub.execute_input": "2022-01-04T10:32:50.628815Z",
     "iopub.status.busy": "2022-01-04T10:32:50.627804Z",
     "iopub.status.idle": "2022-01-04T10:32:50.631834Z",
     "shell.execute_reply": "2022-01-04T10:32:50.631112Z",
     "shell.execute_reply.started": "2022-01-04T10:22:53.162671Z"
    },
    "papermill": {
     "duration": 0.025685,
     "end_time": "2022-01-04T10:32:50.632022",
     "exception": false,
     "start_time": "2022-01-04T10:32:50.606337",
     "status": "completed"
    },
    "tags": []
   },
   "outputs": [
    {
     "name": "stdout",
     "output_type": "stream",
     "text": [
      "Ahmed Affan\n"
     ]
    }
   ],
   "source": [
    "print('Ahmed Affan')"
   ]
  }
 ],
 "metadata": {
  "kernelspec": {
   "display_name": "Python 3 (ipykernel)",
   "language": "python",
   "name": "python3"
  },
  "language_info": {
   "codemirror_mode": {
    "name": "ipython",
    "version": 3
   },
   "file_extension": ".py",
   "mimetype": "text/x-python",
   "name": "python",
   "nbconvert_exporter": "python",
   "pygments_lexer": "ipython3",
   "version": "3.9.13"
  },
  "papermill": {
   "default_parameters": {},
   "duration": 120.027375,
   "end_time": "2022-01-04T10:32:53.274429",
   "environment_variables": {},
   "exception": null,
   "input_path": "__notebook__.ipynb",
   "output_path": "__notebook__.ipynb",
   "parameters": {},
   "start_time": "2022-01-04T10:30:53.247054",
   "version": "2.3.3"
  }
 },
 "nbformat": 4,
 "nbformat_minor": 5
}
