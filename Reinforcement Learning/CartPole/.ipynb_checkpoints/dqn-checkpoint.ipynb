{
 "cells": [
  {
   "cell_type": "markdown",
   "metadata": {},
   "source": [
    "# DQN Implementation for CartPole environment"
   ]
  },
  {
   "cell_type": "markdown",
   "metadata": {},
   "source": [
    "## Import required libraries"
   ]
  },
  {
   "cell_type": "code",
   "execution_count": 1,
   "metadata": {},
   "outputs": [],
   "source": [
    "import json\n",
    "import random\n",
    "import time\n",
    "from collections import deque\n",
    "\n",
    "import gym\n",
    "import keras\n",
    "import numpy as np\n",
    "from tensorflow.keras.layers import Dense\n",
    "from tensorflow.keras.models import Sequential\n",
    "from tensorflow.keras.optimizers import Adam\n",
    "import matplotlib.pyplot as plt\n",
    "import matplotlib.animation as animation"
   ]
  },
  {
   "cell_type": "markdown",
   "metadata": {},
   "source": [
    "## Define DQNAgent Class"
   ]
  },
  {
   "cell_type": "code",
   "execution_count": 2,
   "metadata": {},
   "outputs": [],
   "source": [
    "class DQNAgent:\n",
    "    \n",
    "    def __init__(self, state_size, action_size):\n",
    "\n",
    "        self.state_size = state_size\n",
    "        self.action_size = action_size\n",
    "        \n",
    "        # Initialize Replay Buffer as python deque\n",
    "        self.replay_buffer = deque(maxlen=100000)\n",
    "        \n",
    "        # Set algorithm hyperparameters\n",
    "        self.gamma = 0.99\n",
    "        self.epsilon = 1.\n",
    "        self.epsilon_min = 0.01\n",
    "        self.epsilon_decay = 0.98\n",
    "        self.learning_rate = 0.001\n",
    "        self.update_rate = 10\n",
    "        \n",
    "        # Create both Main and Target Networks\n",
    "        self.main_network = self.create_nn()\n",
    "        self.target_network = self.create_nn()\n",
    "        \n",
    "        # Initialize Target Network with Main Network's weights\n",
    "        self.update_target_network()\n",
    "\n",
    "    def create_nn(self):\n",
    "        \n",
    "        model = Sequential()\n",
    "\n",
    "        model.add(Dense(64, activation='relu', input_dim=self.state_size))\n",
    "        model.add(Dense(64, activation='relu'))\n",
    "        model.add(Dense(self.action_size, activation='linear'))\n",
    "\n",
    "        model.compile(loss='mse', optimizer=Adam(learning_rate=self.learning_rate))\n",
    "\n",
    "        return model\n",
    "    \n",
    "    def update_target_network(self):\n",
    "        # Method to set the Main NN's weights on the Target NN\n",
    "        self.target_network.set_weights(self.main_network.get_weights())\n",
    "\n",
    "    def save_experience(self, state, action, reward, next_state, terminal):\n",
    "        \n",
    "        # Save the given experience as a (s, a, r, s', terminal) tuple\n",
    "        self.replay_buffer.append((state, action, reward, next_state, terminal))\n",
    "\n",
    "    def sample_experience_batch(self, batch_size):\n",
    "        \n",
    "        # Sample {batchsize} experiences from the ReplayBuffer\n",
    "        exp_batch = random.sample(self.replay_buffer, batch_size)\n",
    "\n",
    "        # Create an array with the {batchsize} elements for s, a, r, s' and terminal information\n",
    "        state_batch = np.array([batch[0] for batch in exp_batch]).reshape(batch_size, self.state_size)\n",
    "        action_batch = np.array([batch[1] for batch in exp_batch])\n",
    "        reward_batch = [batch[2] for batch in exp_batch]\n",
    "        next_state_batch = np.array([batch[3] for batch in exp_batch]).reshape(batch_size, self.state_size)\n",
    "        terminal_batch = [batch[4] for batch in exp_batch]\n",
    "\n",
    "        # Return a tuple, where each item corresponds to each array/batch created above\n",
    "        return state_batch, action_batch, reward_batch, next_state_batch, terminal_batch\n",
    "\n",
    "    def pick_epsilon_greedy_action(self, state):\n",
    "\n",
    "        # Pick random action with probability ε\n",
    "        if random.uniform(0, 1) < self.epsilon:\n",
    "            return np.random.randint(self.action_size)\n",
    "\n",
    "        # Pick action with highest Q-Value (item with highest value for Main NN's output)\n",
    "        state = state.reshape((1, self.state_size))\n",
    "        q_values = self.main_network.predict(state, verbose=0)\n",
    "        return np.argmax(q_values[0])\n",
    "\n",
    "    def train(self, batch_size):\n",
    "\n",
    "        # Sample a batch of experiences\n",
    "        state_batch, action_batch, reward_batch, next_state_batch, terminal_batch = self.sample_experience_batch(batch_size)\n",
    "\n",
    "        # Get the actions with highest Q-Value for the batch of next states\n",
    "        next_q = self.target_network.predict(next_state_batch, verbose=0)\n",
    "        max_next_q = np.amax(next_q, axis=1)\n",
    "        # Get the Q-values of each state in the batch of states\n",
    "        q_values = self.main_network.predict(state_batch, verbose=0)\n",
    "\n",
    "        # Update the Q-Value corresponding to the current action with the Target Value\n",
    "        for i in range(batch_size):\n",
    "            q_values[i][action_batch[i]] = reward_batch[i] if terminal_batch[i] else reward_batch[i] + self.gamma * max_next_q[i]\n",
    "\n",
    "        # Fit the network\n",
    "        self.main_network.fit(state_batch, q_values, verbose=0)\n"
   ]
  },
  {
   "cell_type": "markdown",
   "metadata": {},
   "source": [
    "## Implement flow for DQN algorithm"
   ]
  },
  {
   "cell_type": "markdown",
   "metadata": {},
   "source": [
    "### 1. Initialize Gym Environment"
   ]
  },
  {
   "cell_type": "code",
   "execution_count": 3,
   "metadata": {},
   "outputs": [],
   "source": [
    "# Initialize CartPole environment\n",
    "env = gym.make('CartPole-v1')\n",
    "\n",
    "# Define state and action size\n",
    "state_size = env.observation_space.shape[0]\n",
    "action_size = env.action_space.n"
   ]
  },
  {
   "cell_type": "markdown",
   "metadata": {},
   "source": [
    "### 2. Define number of episodes, timesteps per episode and batch size"
   ]
  },
  {
   "cell_type": "code",
   "execution_count": 4,
   "metadata": {},
   "outputs": [],
   "source": [
    "num_episodes = 150\n",
    "num_timesteps = 500\n",
    "batch_size = 64"
   ]
  },
  {
   "cell_type": "markdown",
   "metadata": {},
   "source": [
    "### 3. Initlaize DQNAgent"
   ]
  },
  {
   "cell_type": "code",
   "execution_count": 5,
   "metadata": {},
   "outputs": [],
   "source": [
    "dqn_agent = DQNAgent(state_size, action_size)"
   ]
  },
  {
   "cell_type": "markdown",
   "metadata": {},
   "source": [
    "### 4. Implement and execute flow of DQN algorithm"
   ]
  },
  {
   "cell_type": "code",
   "execution_count": null,
   "metadata": {},
   "outputs": [
    {
     "name": "stdout",
     "output_type": "stream",
     "text": [
      "\n",
      "Training on EPISODE 1 with epsilon 1.0\n",
      "Episode:  1  terminated with Reward  13.0\n",
      "Time elapsed during EPISODE 1: 0.0061261653900146484 seconds = 0.0 minutes\n",
      "\n",
      "Training on EPISODE 2 with epsilon 0.98\n",
      "Episode:  2  terminated with Reward  13.0\n",
      "Time elapsed during EPISODE 2: 0.0019948482513427734 seconds = 0.0 minutes\n",
      "\n",
      "Training on EPISODE 3 with epsilon 0.9603999999999999\n",
      "Episode:  3  terminated with Reward  22.0\n",
      "Time elapsed during EPISODE 3: 0.25537562370300293 seconds = 0.004 minutes\n",
      "\n",
      "Training on EPISODE 4 with epsilon 0.9411919999999999\n",
      "Episode:  4  terminated with Reward  26.0\n",
      "Time elapsed during EPISODE 4: 1.8609886169433594 seconds = 0.031 minutes\n",
      "\n",
      "Training on EPISODE 5 with epsilon 0.9223681599999999\n",
      "Episode:  5  terminated with Reward  17.0\n",
      "Time elapsed during EPISODE 5: 2.002070188522339 seconds = 0.033 minutes\n",
      "\n",
      "Training on EPISODE 6 with epsilon 0.9039207967999998\n",
      "Episode:  6  terminated with Reward  23.0\n",
      "Time elapsed during EPISODE 6: 2.881234645843506 seconds = 0.048 minutes\n",
      "\n",
      "Training on EPISODE 7 with epsilon 0.8858423808639998\n",
      "Episode:  7  terminated with Reward  33.0\n",
      "Time elapsed during EPISODE 7: 4.016940593719482 seconds = 0.067 minutes\n",
      "\n",
      "Training on EPISODE 8 with epsilon 0.8681255332467198\n",
      "Episode:  8  terminated with Reward  12.0\n",
      "Time elapsed during EPISODE 8: 1.291163682937622 seconds = 0.022 minutes\n",
      "\n",
      "Training on EPISODE 9 with epsilon 0.8507630225817854\n",
      "Episode:  9  terminated with Reward  26.0\n",
      "Time elapsed during EPISODE 9: 3.4680776596069336 seconds = 0.058 minutes\n",
      "\n",
      "Training on EPISODE 10 with epsilon 0.8337477621301497\n",
      "Episode:  10  terminated with Reward  24.0\n",
      "Time elapsed during EPISODE 10: 3.3227999210357666 seconds = 0.055 minutes\n",
      "\n",
      "Training on EPISODE 11 with epsilon 0.8170728068875467\n",
      "Episode:  11  terminated with Reward  24.0\n",
      "Time elapsed during EPISODE 11: 2.9617230892181396 seconds = 0.049 minutes\n",
      "\n",
      "Training on EPISODE 12 with epsilon 0.8007313507497957\n",
      "Episode:  12  terminated with Reward  14.0\n",
      "Time elapsed during EPISODE 12: 1.7208354473114014 seconds = 0.029 minutes\n",
      "\n",
      "Training on EPISODE 13 with epsilon 0.7847167237347998\n",
      "Episode:  13  terminated with Reward  11.0\n",
      "Time elapsed during EPISODE 13: 1.30692720413208 seconds = 0.022 minutes\n",
      "\n",
      "Training on EPISODE 14 with epsilon 0.7690223892601038\n",
      "Episode:  14  terminated with Reward  15.0\n",
      "Time elapsed during EPISODE 14: 2.0159642696380615 seconds = 0.034 minutes\n",
      "\n",
      "Training on EPISODE 15 with epsilon 0.7536419414749017\n",
      "Episode:  15  terminated with Reward  14.0\n",
      "Time elapsed during EPISODE 15: 1.6552729606628418 seconds = 0.028 minutes\n",
      "\n",
      "Training on EPISODE 16 with epsilon 0.7385691026454037\n",
      "Episode:  16  terminated with Reward  17.0\n",
      "Time elapsed during EPISODE 16: 1.9544947147369385 seconds = 0.033 minutes\n",
      "\n",
      "Training on EPISODE 17 with epsilon 0.7237977205924956\n",
      "Episode:  17  terminated with Reward  26.0\n",
      "Time elapsed during EPISODE 17: 3.241326332092285 seconds = 0.054 minutes\n",
      "\n",
      "Training on EPISODE 18 with epsilon 0.7093217661806457\n",
      "Episode:  18  terminated with Reward  27.0\n",
      "Time elapsed during EPISODE 18: 3.757659435272217 seconds = 0.063 minutes\n",
      "\n",
      "Training on EPISODE 19 with epsilon 0.6951353308570327\n",
      "Episode:  19  terminated with Reward  33.0\n",
      "Time elapsed during EPISODE 19: 4.487040758132935 seconds = 0.075 minutes\n",
      "\n",
      "Training on EPISODE 20 with epsilon 0.6812326242398921\n",
      "Episode:  20  terminated with Reward  10.0\n",
      "Time elapsed during EPISODE 20: 1.1849620342254639 seconds = 0.02 minutes\n",
      "\n",
      "Training on EPISODE 21 with epsilon 0.6676079717550942\n",
      "Episode:  21  terminated with Reward  24.0\n",
      "Time elapsed during EPISODE 21: 3.3364696502685547 seconds = 0.056 minutes\n",
      "\n",
      "Training on EPISODE 22 with epsilon 0.6542558123199923\n",
      "Episode:  22  terminated with Reward  28.0\n",
      "Time elapsed during EPISODE 22: 3.8226587772369385 seconds = 0.064 minutes\n",
      "\n",
      "Training on EPISODE 23 with epsilon 0.6411706960735924\n",
      "Episode:  23  terminated with Reward  24.0\n",
      "Time elapsed during EPISODE 23: 3.2413535118103027 seconds = 0.054 minutes\n",
      "\n",
      "Training on EPISODE 24 with epsilon 0.6283472821521205\n",
      "Episode:  24  terminated with Reward  10.0\n",
      "Time elapsed during EPISODE 24: 1.3035807609558105 seconds = 0.022 minutes\n",
      "\n",
      "Training on EPISODE 25 with epsilon 0.6157803365090782\n",
      "Episode:  25  terminated with Reward  32.0\n",
      "Time elapsed during EPISODE 25: 4.088500022888184 seconds = 0.068 minutes\n",
      "\n",
      "Training on EPISODE 26 with epsilon 0.6034647297788965\n",
      "Episode:  26  terminated with Reward  48.0\n",
      "Time elapsed during EPISODE 26: 6.368676662445068 seconds = 0.106 minutes\n",
      "\n",
      "Training on EPISODE 27 with epsilon 0.5913954351833186\n",
      "Episode:  27  terminated with Reward  70.0\n",
      "Time elapsed during EPISODE 27: 9.767376184463501 seconds = 0.163 minutes\n",
      "\n",
      "Training on EPISODE 28 with epsilon 0.5795675264796523\n",
      "Episode:  28  terminated with Reward  50.0\n",
      "Time elapsed during EPISODE 28: 6.226984024047852 seconds = 0.104 minutes\n",
      "\n",
      "Training on EPISODE 29 with epsilon 0.5679761759500592\n",
      "Episode:  29  terminated with Reward  45.0\n",
      "Time elapsed during EPISODE 29: 5.832694053649902 seconds = 0.097 minutes\n",
      "\n",
      "Training on EPISODE 30 with epsilon 0.5566166524310581\n",
      "Episode:  30  terminated with Reward  42.0\n",
      "Time elapsed during EPISODE 30: 5.190203428268433 seconds = 0.087 minutes\n",
      "\n",
      "Training on EPISODE 31 with epsilon 0.5454843193824369\n",
      "Episode:  31  terminated with Reward  15.0\n",
      "Time elapsed during EPISODE 31: 1.8194162845611572 seconds = 0.03 minutes\n",
      "\n",
      "Training on EPISODE 32 with epsilon 0.5345746329947881\n"
     ]
    }
   ],
   "source": [
    "rewards, epsilon_values = list(), list() # Lists to keep logs of rewards and apsilon values, for plotting later\n",
    "time_step = 0 # Initalize timestep counter\n",
    "\n",
    "for ep in range(num_episodes):\n",
    "    \n",
    "    tot_reward = 0\n",
    "    state, _ = env.reset()\n",
    "    \n",
    "    print(f'\\nTraining on EPISODE {ep+1} with epsilon {dqn_agent.epsilon}')\n",
    "    start = time.time()\n",
    "    \n",
    "    for t in range(num_timesteps):\n",
    "        \n",
    "        time_step += 1\n",
    "        \n",
    "        # Update Target Network every {dqn_agent.update_rate} timesteps\n",
    "        if time_step % dqn_agent.update_rate == 0:\n",
    "            dqn_agent.update_target_network()\n",
    "            \n",
    "        action = dqn_agent.pick_epsilon_greedy_action(state) # Select action with ε-greedy policy\n",
    "        next_state, reward, terminal, _, _ = env.step(action) # Perform action on environment\n",
    "        dqn_agent.save_experience(state, action, reward, next_state, terminal) # Save experience in ReplayBuffer\n",
    "\n",
    "        state = next_state\n",
    "        tot_reward += reward\n",
    "\n",
    "        if terminal:\n",
    "            print('Episode: ', ep+1, ' terminated with Reward ', tot_reward)\n",
    "            break\n",
    "\n",
    "        # Train the Main Network when ReplayBuffer has enough experiences to fill a batch\n",
    "        if len(dqn_agent.replay_buffer) > batch_size:\n",
    "            dqn_agent.train(batch_size)\n",
    "\n",
    "    rewards.append(tot_reward)\n",
    "    epsilon_values.append(dqn_agent.epsilon)\n",
    "    \n",
    "    # Everytime an episode is finished, update Epsilon value to a lower value\n",
    "    if dqn_agent.epsilon > dqn_agent.epsilon_min:\n",
    "        dqn_agent.epsilon *= dqn_agent.epsilon_decay\n",
    "        \n",
    "    # Print information about the Episode performed\n",
    "    elapsed = time.time() - start\n",
    "    print(f'Time elapsed during EPISODE {ep+1}: {elapsed} seconds = {round(elapsed/60, 3)} minutes')\n",
    "\n",
    "    # If the agent got a reward >499 in each of the last 10 episodes, the training is terminated\n",
    "    if sum(rewards[-10:]) > 4990:\n",
    "        print('Training stopped because agent has performed a perfect episode in the last 10 episodes')\n",
    "        break\n",
    "        "
   ]
  },
  {
   "cell_type": "markdown",
   "metadata": {},
   "source": [
    "### 5. Test the trained by executing an episode"
   ]
  },
  {
   "cell_type": "markdown",
   "metadata": {},
   "source": [
    "#### The test executes a complete episode without visualization, because of running in a JupyterNotebook. A test episode with visualization can be executed with the python script *dqn.py* available in the ArtificalIntelligence repository, in the DQN folder"
   ]
  },
  {
   "cell_type": "code",
   "execution_count": 8,
   "metadata": {},
   "outputs": [],
   "source": [
    "def select_trained_agent_action(state, trained_model):\n",
    "    q_values = trained_model.predict(state, verbose=0)\n",
    "    return np.argmax(q_values[0])"
   ]
  },
  {
   "cell_type": "code",
   "execution_count": 29,
   "metadata": {},
   "outputs": [
    {
     "name": "stdout",
     "output_type": "stream",
     "text": [
      "Test episode terminated with reward 500.0 (Max Reward=500)\n"
     ]
    }
   ],
   "source": [
    "env = gym.make('CartPole-v1', render_mode='rgb_array')\n",
    "state, _ = env.reset()\n",
    "state_size = env.observation_space.shape[0]\n",
    "total_reward = 0\n",
    "max_timesteps = 500\n",
    "\n",
    "# Execute episode\n",
    "for t in range(max_timesteps):\n",
    "    print(f'Running frame {t+1}...', end='\\r')\n",
    "    \n",
    "    state = state.reshape((1, state_size))\n",
    "    action = select_trained_agent_action(state, dqn_agent.main_network)\n",
    "    next_state, reward, terminal, _, _ = env.step(action)\n",
    "    \n",
    "    total_reward += reward\n",
    "    state = next_state\n",
    "    \n",
    "env.close()\n",
    "    \n",
    "print(f'Test episode terminated with reward {total_reward} (Max Reward=500)')\n"
   ]
  },
  {
   "cell_type": "markdown",
   "metadata": {},
   "source": [
    "### 6. Plot mean rewards of the agent "
   ]
  },
  {
   "cell_type": "code",
   "execution_count": 13,
   "metadata": {},
   "outputs": [],
   "source": [
    "import matplotlib.pyplot as plt"
   ]
  },
  {
   "cell_type": "code",
   "execution_count": 14,
   "metadata": {},
   "outputs": [],
   "source": [
    "def plot_rewards(mean_range=1):\n",
    "    \n",
    "    # The parameter mean_range must allow equal separation of rewards\n",
    "    if len(rewards) % mean_range != 0:\n",
    "        raise ValueError\n",
    "        \n",
    "    # Calculate mean rewards\n",
    "    mean_rewards = list()\n",
    "    for i in range(round(len(rewards)/mean_range)):\n",
    "        reward_on_range = rewards[i*mean_range:i*mean_range+mean_range]\n",
    "        reward_on_range_mean = round(sum(reward_on_range)/len(reward_on_range))\n",
    "        mean_rewards.append(reward_on_range_mean)\n",
    "        \n",
    "    plt.plot(range(len(mean_rewards)), mean_rewards)\n",
    "    plt.show()"
   ]
  },
  {
   "cell_type": "code",
   "execution_count": 15,
   "metadata": {},
   "outputs": [
    {
     "data": {
      "image/png": "[encoded data removed]",
      "text/plain": [
       "<Figure size 432x288 with 1 Axes>"
      ]
     },
     "metadata": {
      "needs_background": "light"
     },
     "output_type": "display_data"
    }
   ],
   "source": [
    "plot_rewards()"
   ]
  },
  {
   "cell_type": "markdown",
   "metadata": {},
   "source": [
    "### 7. Plot values of epsilon during the training"
   ]
  },
  {
   "cell_type": "code",
   "execution_count": 16,
   "metadata": {},
   "outputs": [],
   "source": [
    "def plot_epsilon_values():\n",
    "    \n",
    "    plt.plot(range(len(epsilon_values)), epsilon_values)\n",
    "    plt.show()"
   ]
  },
  {
   "cell_type": "code",
   "execution_count": 17,
   "metadata": {},
   "outputs": [
    {
     "data": {
      "image/png": "[encoded data removed]",
      "text/plain": [
       "<Figure size 432x288 with 1 Axes>"
      ]
     },
     "metadata": {
      "needs_background": "light"
     },
     "output_type": "display_data"
    }
   ],
   "source": [
    "plot_epsilon_values()"
   ]
  }
 ],
 "metadata": {
  "kernelspec": {
   "display_name": "Python 3 (ipykernel)",
   "language": "python",
   "name": "python3"
  },
  "language_info": {
   "codemirror_mode": {
    "name": "ipython",
    "version": 3
   },
   "file_extension": ".py",
   "mimetype": "text/x-python",
   "name": "python",
   "nbconvert_exporter": "python",
   "pygments_lexer": "ipython3",
   "version": "3.9.13"
  }
 },
 "nbformat": 4,
 "nbformat_minor": 2
}
