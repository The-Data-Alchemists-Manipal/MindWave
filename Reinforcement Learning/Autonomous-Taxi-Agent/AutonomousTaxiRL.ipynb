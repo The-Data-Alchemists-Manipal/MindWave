{
  "nbformat": 4,
  "nbformat_minor": 5,
  "metadata": {
    "kernelspec": {
      "display_name": "Python 3",
      "language": "python",
      "name": "python3"
    },
    "language_info": {
      "codemirror_mode": {
        "name": "ipython",
        "version": 3
      },
      "file_extension": ".py",
      "mimetype": "text/x-python",
      "name": "python",
      "nbconvert_exporter": "python",
      "pygments_lexer": "ipython3",
      "version": "3.6.13"
    },
    "colab": {
      "name": "AutonomousTaxiRL.ipynb",
      "provenance": [],
      "collapsed_sections": [],
      "include_colab_link": true
    }
  },
  "cells": [
    {
      "cell_type": "markdown",
      "metadata": {
        "id": "view-in-github",
        "colab_type": "text"
      },
      "source": [
        "<a href=\"https://colab.research.google.com/github/ayush-09/Autonomous-Taxi-Agent/blob/master/AutonomousTaxiRL.ipynb\" target=\"_parent\"><img src=\"https://colab.research.google.com/assets/colab-badge.svg\" alt=\"Open In Colab\"/></a>"
      ]
    },
    {
      "cell_type": "code",
      "metadata": {
        "id": "e3a24157"
      },
      "source": [
        "import numpy as np\n",
        "import gym\n",
        "import random\n",
        "from IPython.display import clear_output"
      ],
      "id": "e3a24157",
      "execution_count": null,
      "outputs": []
    },
    {
      "cell_type": "code",
      "metadata": {
        "id": "c5e90951"
      },
      "source": [
        "env = gym.make(\"Taxi-v3\")"
      ],
      "id": "c5e90951",
      "execution_count": null,
      "outputs": []
    },
    {
      "cell_type": "code",
      "metadata": {
        "colab": {
          "base_uri": "https://localhost:8080/"
        },
        "id": "f1470b29",
        "outputId": "8b3b6b64-0067-43b5-c194-0bcd84abc961"
      },
      "source": [
        "episodes = 10\n",
        "\n",
        "for episode in range(1, episodes):\n",
        "    state = env.reset()\n",
        "    done = False\n",
        "    score = 0\n",
        "    \n",
        "    while not done:\n",
        "        env.render()\n",
        "        state, reward, done, info = env.step(env.action_space.sample())\n",
        "        score += reward\n",
        "        clear_output(wait=True)\n",
        "    print('Episode: {}\\nScore: {}'.format(episode, score))\n",
        "    \n",
        "env.close()"
      ],
      "id": "f1470b29",
      "execution_count": null,
      "outputs": [
        {
          "output_type": "stream",
          "text": [
            "Episode: 9\n",
            "Score: -839\n"
          ],
          "name": "stdout"
        }
      ]
    },
    {
      "cell_type": "code",
      "metadata": {
        "id": "78ab267e"
      },
      "source": [
        "#Creating Q-Table\n",
        "actions = env.action_space.n\n",
        "state = env.observation_space.n\n",
        "\n",
        "q_table = np.zeros((state, actions))"
      ],
      "id": "78ab267e",
      "execution_count": null,
      "outputs": []
    },
    {
      "cell_type": "code",
      "metadata": {
        "colab": {
          "base_uri": "https://localhost:8080/"
        },
        "id": "e4fe536e",
        "outputId": "505dff74-bfe5-41f7-d30b-4e848d7cd70f"
      },
      "source": [
        "q_table.shape"
      ],
      "id": "e4fe536e",
      "execution_count": null,
      "outputs": [
        {
          "output_type": "execute_result",
          "data": {
            "text/plain": [
              "(500, 6)"
            ]
          },
          "metadata": {
            "tags": []
          },
          "execution_count": 14
        }
      ]
    },
    {
      "cell_type": "code",
      "metadata": {
        "id": "fdbb60bf"
      },
      "source": [
        "#Parameters for Q-Learning\n",
        "num_episodes = 100000\n",
        "max_steps_per_episode = 1000\n",
        "\n",
        "learning_rate = 0.01\n",
        "discount_rate = 0.99\n",
        "\n",
        "exploration_rate = 1\n",
        "max_exploration_rate = 1\n",
        "min_exploration_rate = 0.01\n",
        "exploration_decay_rate = 0.001\n",
        "\n",
        "rewards_all_episodes = []\n"
      ],
      "id": "fdbb60bf",
      "execution_count": null,
      "outputs": []
    },
    {
      "cell_type": "code",
      "metadata": {
        "colab": {
          "base_uri": "https://localhost:8080/"
        },
        "id": "9cd1e633",
        "outputId": "ebaf0e41-fec1-4b0f-8dcc-5bea5a28f69c"
      },
      "source": [
        "#Q-Learning Algorithm\n",
        "for episode in range(num_episodes):\n",
        "    state = env.reset()\n",
        "    done = False\n",
        "    rewards_current_episode = 0\n",
        "    \n",
        "    for step in range(max_steps_per_episode):\n",
        "        \n",
        "        #Exploration vs Exploitation trade-off\n",
        "        exploration_threshold = random.uniform(0, 1)\n",
        "        if exploration_threshold > exploration_rate:\n",
        "            action = np.argmax(q_table[state,:])\n",
        "        else:\n",
        "            action = env.action_space.sample()\n",
        "            \n",
        "        new_state, reward, done, info = env.step(action)\n",
        "        \n",
        "        #Update Q-Table\n",
        "        q_table[state, action] = q_table[state, action] * (1-learning_rate) + learning_rate * (reward + discount_rate * np.max(q_table[new_state, :]))\n",
        "        \n",
        "        state = new_state\n",
        "        \n",
        "        rewards_current_episode += reward\n",
        "        \n",
        "        if done == True:\n",
        "            break\n",
        "            \n",
        "    exploration_rate = min_exploration_rate + \\\n",
        "                        (max_exploration_rate - min_exploration_rate) * np.exp(-exploration_decay_rate * episode)\n",
        "    rewards_all_episodes.append(rewards_current_episode)\n",
        "    \n",
        "print(\"******* Training Finished *******\")"
      ],
      "id": "9cd1e633",
      "execution_count": null,
      "outputs": [
        {
          "output_type": "stream",
          "text": [
            "******* Training Finished *******\n"
          ],
          "name": "stdout"
        }
      ]
    },
    {
      "cell_type": "code",
      "metadata": {
        "colab": {
          "base_uri": "https://localhost:8080/"
        },
        "id": "6f957ddf",
        "outputId": "2f0c058a-1d80-44e7-c276-7706c2f3c736"
      },
      "source": [
        "q_table"
      ],
      "id": "6f957ddf",
      "execution_count": null,
      "outputs": [
        {
          "output_type": "execute_result",
          "data": {
            "text/plain": [
              "array([[ 0.00000000e+00,  0.00000000e+00,  0.00000000e+00,\n",
              "         0.00000000e+00,  0.00000000e+00,  0.00000000e+00],\n",
              "       [-2.13756027e+00, -1.77793802e+00, -2.35126344e+00,\n",
              "        -1.89595480e+00,  9.62206970e+00, -6.34076025e+00],\n",
              "       [ 5.65572060e-02,  4.08953681e-02, -7.78018420e-01,\n",
              "         7.49836447e-01,  1.41188060e+01, -4.17070255e+00],\n",
              "       ...,\n",
              "       [-7.75673131e-01,  1.16089660e-02, -7.84419637e-01,\n",
              "        -8.02865261e-01, -2.20794936e+00, -2.89553932e+00],\n",
              "       [-2.14333214e+00, -2.14113662e+00, -2.14140305e+00,\n",
              "        -4.46281925e-01, -4.81628309e+00, -4.32283739e+00],\n",
              "       [-5.87597209e-02, -6.01628985e-02, -4.65099500e-02,\n",
              "         8.74218689e+00, -2.90487248e-01, -1.00000000e-01]])"
            ]
          },
          "metadata": {
            "tags": []
          },
          "execution_count": 17
        }
      ]
    },
    {
      "cell_type": "code",
      "metadata": {
        "scrolled": true,
        "colab": {
          "base_uri": "https://localhost:8080/"
        },
        "id": "b26de833",
        "outputId": "712a0038-491a-440e-fbf2-72cfbf4fc9c2"
      },
      "source": [
        "#Calculate and print average reward per thousand episodes\n",
        "rewards_per_thousand_episodes = np.split(np.array(rewards_all_episodes), num_episodes/1000)\n",
        "count = 1000\n",
        "\n",
        "print(\"Average per thousand episodes\")\n",
        "for r in rewards_per_thousand_episodes:\n",
        "    print(count,  \" : \", str(sum(r/1000)))\n",
        "    count+= 1000"
      ],
      "id": "b26de833",
      "execution_count": null,
      "outputs": [
        {
          "output_type": "stream",
          "text": [
            "Average per thousand episodes\n",
            "1000  :  -538.0270000000003\n",
            "2000  :  -260.48699999999957\n",
            "3000  :  -145.1780000000005\n",
            "4000  :  -86.264\n",
            "5000  :  -50.63699999999998\n",
            "6000  :  -29.22999999999994\n",
            "7000  :  -16.054000000000013\n",
            "8000  :  -7.851000000000003\n",
            "9000  :  -2.7350000000000145\n",
            "10000  :  0.2650000000000015\n",
            "11000  :  2.883999999999986\n",
            "12000  :  4.447999999999978\n",
            "13000  :  5.579999999999978\n",
            "14000  :  5.973999999999975\n",
            "15000  :  6.920999999999967\n",
            "16000  :  6.874999999999976\n",
            "17000  :  7.1059999999999715\n",
            "18000  :  7.135999999999974\n",
            "19000  :  7.275999999999974\n",
            "20000  :  7.160999999999962\n",
            "21000  :  7.197999999999971\n",
            "22000  :  7.237999999999969\n",
            "23000  :  7.339999999999967\n",
            "24000  :  7.334999999999965\n",
            "25000  :  7.414999999999972\n",
            "26000  :  7.5369999999999635\n",
            "27000  :  7.521999999999955\n",
            "28000  :  7.2849999999999655\n",
            "29000  :  7.509999999999965\n",
            "30000  :  7.406999999999966\n",
            "31000  :  7.353999999999957\n",
            "32000  :  7.467999999999964\n",
            "33000  :  7.411999999999964\n",
            "34000  :  7.1969999999999645\n",
            "35000  :  7.466999999999978\n",
            "36000  :  7.2819999999999565\n",
            "37000  :  7.133999999999972\n",
            "38000  :  7.154999999999965\n",
            "39000  :  7.330999999999957\n",
            "40000  :  7.2589999999999515\n",
            "41000  :  7.720999999999969\n",
            "42000  :  7.356999999999964\n",
            "43000  :  7.662999999999956\n",
            "44000  :  7.42299999999996\n",
            "45000  :  7.441999999999967\n",
            "46000  :  7.529999999999962\n",
            "47000  :  7.369999999999966\n",
            "48000  :  7.519999999999957\n",
            "49000  :  7.092999999999959\n",
            "50000  :  7.585999999999962\n",
            "51000  :  7.31699999999997\n",
            "52000  :  7.484999999999952\n",
            "53000  :  7.336999999999969\n",
            "54000  :  7.278999999999962\n",
            "55000  :  7.516999999999963\n",
            "56000  :  7.423999999999958\n",
            "57000  :  7.484999999999962\n",
            "58000  :  7.325999999999955\n",
            "59000  :  7.629999999999967\n",
            "60000  :  7.521999999999952\n",
            "61000  :  7.436999999999956\n",
            "62000  :  7.451999999999954\n",
            "63000  :  7.358999999999957\n",
            "64000  :  7.21699999999997\n",
            "65000  :  7.599999999999958\n",
            "66000  :  7.58899999999996\n",
            "67000  :  7.4019999999999655\n",
            "68000  :  7.3849999999999545\n",
            "69000  :  7.356999999999966\n",
            "70000  :  7.492999999999954\n",
            "71000  :  7.362999999999974\n",
            "72000  :  7.4659999999999656\n",
            "73000  :  7.52499999999996\n",
            "74000  :  7.484999999999957\n",
            "75000  :  7.383999999999969\n",
            "76000  :  7.2829999999999595\n",
            "77000  :  7.434999999999949\n",
            "78000  :  7.572999999999967\n",
            "79000  :  7.254999999999963\n",
            "80000  :  7.43099999999995\n",
            "81000  :  7.3859999999999655\n",
            "82000  :  7.590999999999961\n",
            "83000  :  7.446999999999964\n",
            "84000  :  7.404999999999965\n",
            "85000  :  7.409999999999963\n",
            "86000  :  7.4459999999999695\n",
            "87000  :  7.35499999999996\n",
            "88000  :  7.644999999999964\n",
            "89000  :  7.326999999999963\n",
            "90000  :  7.3739999999999695\n",
            "91000  :  7.6179999999999675\n",
            "92000  :  7.561999999999971\n",
            "93000  :  7.462999999999959\n",
            "94000  :  7.471999999999967\n",
            "95000  :  7.485999999999955\n",
            "96000  :  7.507999999999966\n",
            "97000  :  7.342999999999967\n",
            "98000  :  7.465999999999961\n",
            "99000  :  7.489999999999959\n",
            "100000  :  7.235999999999961\n"
          ],
          "name": "stdout"
        }
      ]
    },
    {
      "cell_type": "code",
      "metadata": {
        "colab": {
          "base_uri": "https://localhost:8080/"
        },
        "id": "00b05069",
        "outputId": "0c812e83-6997-473c-87f7-42d243265b09"
      },
      "source": [
        "#Visualize Agent\n",
        "import time\n",
        "\n",
        "for episode in range(3):\n",
        "    state = env.reset()\n",
        "    done = False\n",
        "    print(\"Episode is: \" + str(episode))\n",
        "    time.sleep(1)\n",
        "    \n",
        "    for step in range(max_steps_per_episode):\n",
        "        clear_output(wait=True)\n",
        "        env.render()\n",
        "        time.sleep(0.4)\n",
        "        \n",
        "        action = np.argmax(q_table[state,:])\n",
        "        \n",
        "        new_state, reward, done, info = env.step(action)\n",
        "        \n",
        "        if done:\n",
        "            clear_output(wait=True)\n",
        "            env.render()\n",
        "            if reward == 1:\n",
        "                print(\"*****Reached Goal*****\")\n",
        "                time.sleep(2)\n",
        "                clear_output(wait=True)\n",
        "            else:\n",
        "                print(\"*****Failed*****\")\n",
        "                time.sleep(2)\n",
        "                clear_output(wait=True)\n",
        "                \n",
        "            break\n",
        "            \n",
        "        state = new_state\n",
        "        \n",
        "env.close()"
      ],
      "id": "00b05069",
      "execution_count": null,
      "outputs": [
        {
          "output_type": "stream",
          "text": [
            "+---------+\n",
            "|\u001b[35m\u001b[34;1m\u001b[43mR\u001b[0m\u001b[0m\u001b[0m: | : :G|\n",
            "| : | : : |\n",
            "| : : : : |\n",
            "| | : | : |\n",
            "|Y| : |B: |\n",
            "+---------+\n",
            "  (Dropoff)\n",
            "*****Failed*****\n"
          ],
          "name": "stdout"
        }
      ]
    },
    {
      "cell_type": "code",
      "metadata": {
        "id": "f702e8bf"
      },
      "source": [
        "\n"
      ],
      "id": "f702e8bf",
      "execution_count": null,
      "outputs": []
    }
  ]
}