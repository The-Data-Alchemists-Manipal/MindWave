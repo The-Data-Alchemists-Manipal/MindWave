{
 "cells": [
  {
   "cell_type": "code",
   "execution_count": 1,
   "id": "92fb0ab6",
   "metadata": {},
   "outputs": [],
   "source": [
    "import numpy as np\n",
    "import pandas as pd \n",
    "import difflib\n",
    "from sklearn.feature_extraction.text import TfidfVectorizer\n",
    "from sklearn.metrics.pairwise import cosine_similarity"
   ]
  },
  {
   "cell_type": "markdown",
   "id": "dedbbc6e",
   "metadata": {},
   "source": [
    " DATA COLLECTION & PRE-PROCESSING "
   ]
  },
  {
   "cell_type": "code",
   "execution_count": 2,
   "id": "a59222df",
   "metadata": {},
   "outputs": [],
   "source": [
    "anime_data=pd.read_csv(r'D:\\Users\\User\\Downloads\\mal_top2000_anime.csv')"
   ]
  },
  {
   "cell_type": "code",
   "execution_count": 3,
   "id": "78ee8130",
   "metadata": {},
   "outputs": [
    {
     "data": {
      "text/html": [
       "<div>\n",
       "<style scoped>\n",
       "    .dataframe tbody tr th:only-of-type {\n",
       "        vertical-align: middle;\n",
       "    }\n",
       "\n",
       "    .dataframe tbody tr th {\n",
       "        vertical-align: top;\n",
       "    }\n",
       "\n",
       "    .dataframe thead th {\n",
       "        text-align: right;\n",
       "    }\n",
       "</style>\n",
       "<table border=\"1\" class=\"dataframe\">\n",
       "  <thead>\n",
       "    <tr style=\"text-align: right;\">\n",
       "      <th></th>\n",
       "      <th>Unnamed: 0</th>\n",
       "      <th>Name</th>\n",
       "      <th>Type</th>\n",
       "      <th>Score</th>\n",
       "      <th>Score Rank</th>\n",
       "      <th>Popularity Rank</th>\n",
       "      <th>Air Date</th>\n",
       "      <th>Studio</th>\n",
       "      <th>Num. of episodes</th>\n",
       "      <th>Genres</th>\n",
       "      <th>Theme(s)</th>\n",
       "      <th>Demographic</th>\n",
       "    </tr>\n",
       "  </thead>\n",
       "  <tbody>\n",
       "    <tr>\n",
       "      <th>0</th>\n",
       "      <td>0</td>\n",
       "      <td>Fullmetal Alchemist: Brotherhood</td>\n",
       "      <td>TV</td>\n",
       "      <td>9.14</td>\n",
       "      <td>1</td>\n",
       "      <td>3</td>\n",
       "      <td>Apr 5, 2009 to Jul 4, 2010</td>\n",
       "      <td>['Bones']</td>\n",
       "      <td>64</td>\n",
       "      <td>['Action', 'Adventure', 'Drama', 'Fantasy']</td>\n",
       "      <td>['Military']</td>\n",
       "      <td>Shounen</td>\n",
       "    </tr>\n",
       "    <tr>\n",
       "      <th>1</th>\n",
       "      <td>1</td>\n",
       "      <td>Spy x Family</td>\n",
       "      <td>TV</td>\n",
       "      <td>9.09</td>\n",
       "      <td>2</td>\n",
       "      <td>350</td>\n",
       "      <td>Apr 9, 2022 to ?</td>\n",
       "      <td>['Wit Studio', '            CloverWorks']</td>\n",
       "      <td>12</td>\n",
       "      <td>['Action', 'Comedy']</td>\n",
       "      <td>['Childcare']</td>\n",
       "      <td>Shounen</td>\n",
       "    </tr>\n",
       "    <tr>\n",
       "      <th>2</th>\n",
       "      <td>2</td>\n",
       "      <td>Shingeki no Kyojin Season 3 Part 2</td>\n",
       "      <td>TV</td>\n",
       "      <td>9.08</td>\n",
       "      <td>3</td>\n",
       "      <td>32</td>\n",
       "      <td>Apr 29, 2019 to Jul 1, 2019</td>\n",
       "      <td>['Wit Studio']</td>\n",
       "      <td>10</td>\n",
       "      <td>['Action', 'Drama']</td>\n",
       "      <td>['Gore', 'Military', 'Survival']</td>\n",
       "      <td>Shounen</td>\n",
       "    </tr>\n",
       "    <tr>\n",
       "      <th>3</th>\n",
       "      <td>3</td>\n",
       "      <td>Steins;Gate</td>\n",
       "      <td>TV</td>\n",
       "      <td>9.08</td>\n",
       "      <td>4</td>\n",
       "      <td>13</td>\n",
       "      <td>Apr 6, 2011 to Sep 14, 2011</td>\n",
       "      <td>['White Fox']</td>\n",
       "      <td>24</td>\n",
       "      <td>['Drama', 'Sci-Fi', 'Suspense']</td>\n",
       "      <td>['Psychological', 'Time Travel']</td>\n",
       "      <td>None</td>\n",
       "    </tr>\n",
       "    <tr>\n",
       "      <th>4</th>\n",
       "      <td>4</td>\n",
       "      <td>Gintama°</td>\n",
       "      <td>TV</td>\n",
       "      <td>9.08</td>\n",
       "      <td>5</td>\n",
       "      <td>335</td>\n",
       "      <td>Apr 8, 2015 to Mar 30, 2016</td>\n",
       "      <td>['Bandai Namco Pictures']</td>\n",
       "      <td>51</td>\n",
       "      <td>['Action', 'Comedy', 'Sci-Fi']</td>\n",
       "      <td>['Gag Humor', 'Historical', 'Parody', 'Samurai']</td>\n",
       "      <td>Shounen</td>\n",
       "    </tr>\n",
       "  </tbody>\n",
       "</table>\n",
       "</div>"
      ],
      "text/plain": [
       "   Unnamed: 0                                Name Type  Score  Score Rank  \\\n",
       "0           0    Fullmetal Alchemist: Brotherhood   TV   9.14           1   \n",
       "1           1                        Spy x Family   TV   9.09           2   \n",
       "2           2  Shingeki no Kyojin Season 3 Part 2   TV   9.08           3   \n",
       "3           3                         Steins;Gate   TV   9.08           4   \n",
       "4           4                            Gintama°   TV   9.08           5   \n",
       "\n",
       "   Popularity Rank                     Air Date  \\\n",
       "0                3   Apr 5, 2009 to Jul 4, 2010   \n",
       "1              350             Apr 9, 2022 to ?   \n",
       "2               32  Apr 29, 2019 to Jul 1, 2019   \n",
       "3               13  Apr 6, 2011 to Sep 14, 2011   \n",
       "4              335  Apr 8, 2015 to Mar 30, 2016   \n",
       "\n",
       "                                      Studio  Num. of episodes  \\\n",
       "0                                  ['Bones']                64   \n",
       "1  ['Wit Studio', '            CloverWorks']                12   \n",
       "2                             ['Wit Studio']                10   \n",
       "3                              ['White Fox']                24   \n",
       "4                  ['Bandai Namco Pictures']                51   \n",
       "\n",
       "                                        Genres  \\\n",
       "0  ['Action', 'Adventure', 'Drama', 'Fantasy']   \n",
       "1                         ['Action', 'Comedy']   \n",
       "2                          ['Action', 'Drama']   \n",
       "3              ['Drama', 'Sci-Fi', 'Suspense']   \n",
       "4               ['Action', 'Comedy', 'Sci-Fi']   \n",
       "\n",
       "                                           Theme(s) Demographic  \n",
       "0                                      ['Military']     Shounen  \n",
       "1                                     ['Childcare']     Shounen  \n",
       "2                  ['Gore', 'Military', 'Survival']     Shounen  \n",
       "3                  ['Psychological', 'Time Travel']        None  \n",
       "4  ['Gag Humor', 'Historical', 'Parody', 'Samurai']     Shounen  "
      ]
     },
     "execution_count": 3,
     "metadata": {},
     "output_type": "execute_result"
    }
   ],
   "source": [
    "anime_data.head()"
   ]
  },
  {
   "cell_type": "code",
   "execution_count": 4,
   "id": "8d89e298",
   "metadata": {},
   "outputs": [
    {
     "name": "stdout",
     "output_type": "stream",
     "text": [
      "      Index                                              Name     Type  Score  \\\n",
      "0         0                  Fullmetal Alchemist: Brotherhood       TV   9.14   \n",
      "1         1                                      Spy x Family       TV   9.09   \n",
      "2         2                Shingeki no Kyojin Season 3 Part 2       TV   9.08   \n",
      "3         3                                       Steins;Gate       TV   9.08   \n",
      "4         4                                          Gintama°       TV   9.08   \n",
      "...     ...                                               ...      ...    ...   \n",
      "1995   1995                                Shugo Chara!! Doki       TV   7.41   \n",
      "1996   1996  Steins;Gate: Soumei Eichi no Cognitive Computing      ONA   7.41   \n",
      "1997   1997                   Taiho Shichau zo: Second Season       TV   7.41   \n",
      "1998   1998            Tanaka-kun wa Itsumo Kedaruge Specials  Special   7.41   \n",
      "1999   1999              Tiger & Bunny Movie 1: The Beginning    Movie   7.41   \n",
      "\n",
      "      Score Rank  Popularity Rank                      Air Date  \\\n",
      "0              1                3    Apr 5, 2009 to Jul 4, 2010   \n",
      "1              2              350              Apr 9, 2022 to ?   \n",
      "2              3               32   Apr 29, 2019 to Jul 1, 2019   \n",
      "3              4               13   Apr 6, 2011 to Sep 14, 2011   \n",
      "4              5              335   Apr 8, 2015 to Mar 30, 2016   \n",
      "...          ...              ...                           ...   \n",
      "1995        1996             1766   Oct 4, 2008 to Sep 25, 2009   \n",
      "1996        1997             1748  Oct 15, 2014 to Nov 12, 2014   \n",
      "1997        1998             5610   Apr 7, 2001 to Sep 29, 2001   \n",
      "1998        1999             3394  Jun 24, 2016 to Dec 22, 2016   \n",
      "1999        2000             3908                  Sep 22, 2012   \n",
      "\n",
      "                                         Studio  Num. of episodes  \\\n",
      "0                                     ['Bones']                64   \n",
      "1     ['Wit Studio', '            CloverWorks']                12   \n",
      "2                                ['Wit Studio']                10   \n",
      "3                                 ['White Fox']                24   \n",
      "4                     ['Bandai Namco Pictures']                51   \n",
      "...                                         ...               ...   \n",
      "1995                              ['Satelight']                51   \n",
      "1996                              ['White Fox']                 4   \n",
      "1997                            ['Studio Deen']                26   \n",
      "1998                           ['SILVER LINK.']                 7   \n",
      "1999                                ['Sunrise']                 1   \n",
      "\n",
      "                                           Genres  \\\n",
      "0     ['Action', 'Adventure', 'Drama', 'Fantasy']   \n",
      "1                            ['Action', 'Comedy']   \n",
      "2                             ['Action', 'Drama']   \n",
      "3                 ['Drama', 'Sci-Fi', 'Suspense']   \n",
      "4                  ['Action', 'Comedy', 'Sci-Fi']   \n",
      "...                                           ...   \n",
      "1995                                   ['Comedy']   \n",
      "1996                         ['Comedy', 'Sci-Fi']   \n",
      "1997                         ['Action', 'Comedy']   \n",
      "1998                  ['Comedy', 'Slice of Life']   \n",
      "1999              ['Action', 'Comedy', 'Mystery']   \n",
      "\n",
      "                                              Theme(s) Demographic  \n",
      "0                                         ['Military']     Shounen  \n",
      "1                                        ['Childcare']     Shounen  \n",
      "2                     ['Gore', 'Military', 'Survival']     Shounen  \n",
      "3                     ['Psychological', 'Time Travel']        None  \n",
      "4     ['Gag Humor', 'Historical', 'Parody', 'Samurai']     Shounen  \n",
      "...                                                ...         ...  \n",
      "1995                        ['Mahou Shoujo', 'School']      Shoujo  \n",
      "1996                                          ['None']        None  \n",
      "1997                        ['Detective', 'Workplace']     Shounen  \n",
      "1998                           ['Iyashikei', 'School']        None  \n",
      "1999                     ['Adult Cast', 'Super Power']        None  \n",
      "\n",
      "[2000 rows x 12 columns]\n"
     ]
    }
   ],
   "source": [
    "anime_data=anime_data.rename(columns={'Unnamed: 0':'Index'})\n",
    "print(anime_data)"
   ]
  },
  {
   "cell_type": "code",
   "execution_count": 5,
   "id": "a2803911",
   "metadata": {},
   "outputs": [
    {
     "data": {
      "text/html": [
       "<div>\n",
       "<style scoped>\n",
       "    .dataframe tbody tr th:only-of-type {\n",
       "        vertical-align: middle;\n",
       "    }\n",
       "\n",
       "    .dataframe tbody tr th {\n",
       "        vertical-align: top;\n",
       "    }\n",
       "\n",
       "    .dataframe thead th {\n",
       "        text-align: right;\n",
       "    }\n",
       "</style>\n",
       "<table border=\"1\" class=\"dataframe\">\n",
       "  <thead>\n",
       "    <tr style=\"text-align: right;\">\n",
       "      <th></th>\n",
       "      <th>Index</th>\n",
       "      <th>Name</th>\n",
       "      <th>Type</th>\n",
       "      <th>Score</th>\n",
       "      <th>Score Rank</th>\n",
       "      <th>Popularity Rank</th>\n",
       "      <th>Air Date</th>\n",
       "      <th>Studio</th>\n",
       "      <th>Num. of episodes</th>\n",
       "      <th>Genres</th>\n",
       "      <th>Theme(s)</th>\n",
       "      <th>Demographic</th>\n",
       "    </tr>\n",
       "  </thead>\n",
       "  <tbody>\n",
       "    <tr>\n",
       "      <th>0</th>\n",
       "      <td>0</td>\n",
       "      <td>Fullmetal Alchemist: Brotherhood</td>\n",
       "      <td>TV</td>\n",
       "      <td>9.14</td>\n",
       "      <td>1</td>\n",
       "      <td>3</td>\n",
       "      <td>Apr 5, 2009 to Jul 4, 2010</td>\n",
       "      <td>['Bones']</td>\n",
       "      <td>64</td>\n",
       "      <td>['Action', 'Adventure', 'Drama', 'Fantasy']</td>\n",
       "      <td>['Military']</td>\n",
       "      <td>Shounen</td>\n",
       "    </tr>\n",
       "    <tr>\n",
       "      <th>1</th>\n",
       "      <td>1</td>\n",
       "      <td>Spy x Family</td>\n",
       "      <td>TV</td>\n",
       "      <td>9.09</td>\n",
       "      <td>2</td>\n",
       "      <td>350</td>\n",
       "      <td>Apr 9, 2022 to ?</td>\n",
       "      <td>['Wit Studio', '            CloverWorks']</td>\n",
       "      <td>12</td>\n",
       "      <td>['Action', 'Comedy']</td>\n",
       "      <td>['Childcare']</td>\n",
       "      <td>Shounen</td>\n",
       "    </tr>\n",
       "    <tr>\n",
       "      <th>2</th>\n",
       "      <td>2</td>\n",
       "      <td>Shingeki no Kyojin Season 3 Part 2</td>\n",
       "      <td>TV</td>\n",
       "      <td>9.08</td>\n",
       "      <td>3</td>\n",
       "      <td>32</td>\n",
       "      <td>Apr 29, 2019 to Jul 1, 2019</td>\n",
       "      <td>['Wit Studio']</td>\n",
       "      <td>10</td>\n",
       "      <td>['Action', 'Drama']</td>\n",
       "      <td>['Gore', 'Military', 'Survival']</td>\n",
       "      <td>Shounen</td>\n",
       "    </tr>\n",
       "    <tr>\n",
       "      <th>3</th>\n",
       "      <td>3</td>\n",
       "      <td>Steins;Gate</td>\n",
       "      <td>TV</td>\n",
       "      <td>9.08</td>\n",
       "      <td>4</td>\n",
       "      <td>13</td>\n",
       "      <td>Apr 6, 2011 to Sep 14, 2011</td>\n",
       "      <td>['White Fox']</td>\n",
       "      <td>24</td>\n",
       "      <td>['Drama', 'Sci-Fi', 'Suspense']</td>\n",
       "      <td>['Psychological', 'Time Travel']</td>\n",
       "      <td>None</td>\n",
       "    </tr>\n",
       "    <tr>\n",
       "      <th>4</th>\n",
       "      <td>4</td>\n",
       "      <td>Gintama°</td>\n",
       "      <td>TV</td>\n",
       "      <td>9.08</td>\n",
       "      <td>5</td>\n",
       "      <td>335</td>\n",
       "      <td>Apr 8, 2015 to Mar 30, 2016</td>\n",
       "      <td>['Bandai Namco Pictures']</td>\n",
       "      <td>51</td>\n",
       "      <td>['Action', 'Comedy', 'Sci-Fi']</td>\n",
       "      <td>['Gag Humor', 'Historical', 'Parody', 'Samurai']</td>\n",
       "      <td>Shounen</td>\n",
       "    </tr>\n",
       "  </tbody>\n",
       "</table>\n",
       "</div>"
      ],
      "text/plain": [
       "   Index                                Name Type  Score  Score Rank  \\\n",
       "0      0    Fullmetal Alchemist: Brotherhood   TV   9.14           1   \n",
       "1      1                        Spy x Family   TV   9.09           2   \n",
       "2      2  Shingeki no Kyojin Season 3 Part 2   TV   9.08           3   \n",
       "3      3                         Steins;Gate   TV   9.08           4   \n",
       "4      4                            Gintama°   TV   9.08           5   \n",
       "\n",
       "   Popularity Rank                     Air Date  \\\n",
       "0                3   Apr 5, 2009 to Jul 4, 2010   \n",
       "1              350             Apr 9, 2022 to ?   \n",
       "2               32  Apr 29, 2019 to Jul 1, 2019   \n",
       "3               13  Apr 6, 2011 to Sep 14, 2011   \n",
       "4              335  Apr 8, 2015 to Mar 30, 2016   \n",
       "\n",
       "                                      Studio  Num. of episodes  \\\n",
       "0                                  ['Bones']                64   \n",
       "1  ['Wit Studio', '            CloverWorks']                12   \n",
       "2                             ['Wit Studio']                10   \n",
       "3                              ['White Fox']                24   \n",
       "4                  ['Bandai Namco Pictures']                51   \n",
       "\n",
       "                                        Genres  \\\n",
       "0  ['Action', 'Adventure', 'Drama', 'Fantasy']   \n",
       "1                         ['Action', 'Comedy']   \n",
       "2                          ['Action', 'Drama']   \n",
       "3              ['Drama', 'Sci-Fi', 'Suspense']   \n",
       "4               ['Action', 'Comedy', 'Sci-Fi']   \n",
       "\n",
       "                                           Theme(s) Demographic  \n",
       "0                                      ['Military']     Shounen  \n",
       "1                                     ['Childcare']     Shounen  \n",
       "2                  ['Gore', 'Military', 'Survival']     Shounen  \n",
       "3                  ['Psychological', 'Time Travel']        None  \n",
       "4  ['Gag Humor', 'Historical', 'Parody', 'Samurai']     Shounen  "
      ]
     },
     "execution_count": 5,
     "metadata": {},
     "output_type": "execute_result"
    }
   ],
   "source": [
    "anime_data.head()"
   ]
  },
  {
   "cell_type": "code",
   "execution_count": 6,
   "id": "240805cf",
   "metadata": {},
   "outputs": [
    {
     "data": {
      "text/plain": [
       "(2000, 12)"
      ]
     },
     "execution_count": 6,
     "metadata": {},
     "output_type": "execute_result"
    }
   ],
   "source": [
    "anime_data.shape"
   ]
  },
  {
   "cell_type": "code",
   "execution_count": 7,
   "id": "70d8ede1",
   "metadata": {},
   "outputs": [],
   "source": [
    "anime_data['Score'] = anime_data['Score'].astype(str)"
   ]
  },
  {
   "cell_type": "code",
   "execution_count": 8,
   "id": "6ac1d6af",
   "metadata": {},
   "outputs": [
    {
     "name": "stdout",
     "output_type": "stream",
     "text": [
      "['Score', 'Genres', 'Demographic', 'Theme(s)']\n"
     ]
    }
   ],
   "source": [
    "selected_features = ['Score','Genres','Demographic','Theme(s)']\n",
    "print(selected_features)"
   ]
  },
  {
   "cell_type": "code",
   "execution_count": 9,
   "id": "c9712665",
   "metadata": {},
   "outputs": [],
   "source": [
    "for feature in selected_features:\n",
    "    anime_data[feature] = anime_data[feature].fillna('')"
   ]
  },
  {
   "cell_type": "code",
   "execution_count": null,
   "id": "ea97cc13",
   "metadata": {},
   "outputs": [],
   "source": []
  },
  {
   "cell_type": "code",
   "execution_count": 10,
   "id": "e5e834a2",
   "metadata": {},
   "outputs": [],
   "source": [
    "combined_feature = anime_data['Score']+' '+anime_data['Genres']+' '+anime_data['Demographic']+' '+anime_data['Theme(s)']"
   ]
  },
  {
   "cell_type": "code",
   "execution_count": 11,
   "id": "02d51043",
   "metadata": {},
   "outputs": [
    {
     "name": "stdout",
     "output_type": "stream",
     "text": [
      "0       9.14 ['Action', 'Adventure', 'Drama', 'Fantasy...\n",
      "1         9.09 ['Action', 'Comedy'] Shounen ['Childcare']\n",
      "2       9.08 ['Action', 'Drama'] Shounen ['Gore', 'Mil...\n",
      "3       9.08 ['Drama', 'Sci-Fi', 'Suspense'] None ['Ps...\n",
      "4       9.08 ['Action', 'Comedy', 'Sci-Fi'] Shounen ['...\n",
      "                              ...                        \n",
      "1995    7.41 ['Comedy'] Shoujo ['Mahou Shoujo', 'School']\n",
      "1996              7.41 ['Comedy', 'Sci-Fi'] None ['None']\n",
      "1997    7.41 ['Action', 'Comedy'] Shounen ['Detective'...\n",
      "1998    7.41 ['Comedy', 'Slice of Life'] None ['Iyashi...\n",
      "1999    7.41 ['Action', 'Comedy', 'Mystery'] None ['Ad...\n",
      "Length: 2000, dtype: object\n"
     ]
    }
   ],
   "source": [
    "print(combined_feature)"
   ]
  },
  {
   "cell_type": "code",
   "execution_count": 12,
   "id": "9224969a",
   "metadata": {},
   "outputs": [
    {
     "name": "stdout",
     "output_type": "stream",
     "text": [
      "  (0, 138)\t0.40920869783963004\n",
      "  (0, 164)\t0.26141736705442\n",
      "  (0, 111)\t0.27981423619012935\n",
      "  (0, 108)\t0.25112100653373204\n",
      "  (0, 92)\t0.28814433134935596\n",
      "  (0, 90)\t0.228364925700642\n",
      "  (0, 12)\t0.6983364090025104\n",
      "  (1, 100)\t0.6078461656126801\n",
      "  (1, 102)\t0.21084195008002088\n",
      "  (1, 8)\t0.6855337520879978\n",
      "  (1, 164)\t0.2566247816775907\n",
      "  (1, 90)\t0.22417829335931871\n",
      "  (2, 174)\t0.516023374465725\n",
      "  (2, 118)\t0.4505849991126486\n",
      "  (2, 7)\t0.5391648022405205\n",
      "  (2, 138)\t0.3383684733896387\n",
      "  (2, 164)\t0.2161620607644289\n",
      "  (2, 108)\t0.20764815622318203\n",
      "  (2, 90)\t0.18883149770034313\n",
      "  (3, 178)\t0.42572202739159964\n",
      "  (3, 177)\t0.42572202739159964\n",
      "  (3, 151)\t0.32247538563427297\n",
      "  (3, 142)\t0.12576687374004972\n",
      "  (3, 175)\t0.37885380953513387\n",
      "  (3, 113)\t0.23194259763210684\n",
      "  :\t:\n",
      "  (1996, 159)\t0.3867381972535449\n",
      "  (1996, 102)\t0.26463154488848895\n",
      "  (1997, 36)\t0.5428148762878683\n",
      "  (1997, 107)\t0.4911889216650361\n",
      "  (1997, 183)\t0.5479616942089537\n",
      "  (1997, 102)\t0.21296956770591663\n",
      "  (1997, 164)\t0.25921439635593935\n",
      "  (1997, 90)\t0.22644048875313616\n",
      "  (1998, 36)\t0.5654816242946686\n",
      "  (1998, 127)\t0.4622306660276406\n",
      "  (1998, 158)\t0.3072224028772609\n",
      "  (1998, 130)\t0.3120124182067531\n",
      "  (1998, 143)\t0.3120124182067531\n",
      "  (1998, 166)\t0.3120124182067531\n",
      "  (1998, 142)\t0.17581078372716136\n",
      "  (1998, 102)\t0.2218627055604274\n",
      "  (1999, 36)\t0.4766057803728681\n",
      "  (1999, 140)\t0.3123022532940946\n",
      "  (1999, 150)\t0.3833400875980071\n",
      "  (1999, 172)\t0.3833400875980071\n",
      "  (1999, 98)\t0.3774665428365791\n",
      "  (1999, 91)\t0.3774665428365791\n",
      "  (1999, 142)\t0.1481788835857655\n",
      "  (1999, 102)\t0.1869928984008195\n",
      "  (1999, 90)\t0.19882072243165264\n"
     ]
    }
   ],
   "source": [
    "#converting text data to feature vectors \n",
    "#creation of an instance \n",
    "vectorizer= TfidfVectorizer()\n",
    "feature_vectors = vectorizer.fit_transform(combined_feature)\n",
    "print(feature_vectors)"
   ]
  },
  {
   "cell_type": "code",
   "execution_count": null,
   "id": "c72d2154",
   "metadata": {},
   "outputs": [],
   "source": []
  },
  {
   "cell_type": "markdown",
   "id": "af867246",
   "metadata": {},
   "source": [
    "COSINE SIMILARITY \n",
    "- getting similarity scores using cosine similarity\n"
   ]
  },
  {
   "cell_type": "code",
   "execution_count": 13,
   "id": "f63b526e",
   "metadata": {},
   "outputs": [
    {
     "name": "stdout",
     "output_type": "stream",
     "text": [
      "[[1.         0.11828063 0.29023914 ... 0.11947421 0.         0.04540368]\n",
      " [0.11828063 1.         0.09780446 ... 0.1621868  0.04677797 0.08399724]\n",
      " [0.29023914 0.09780446 1.         ... 0.09879141 0.         0.03754361]\n",
      " ...\n",
      " [0.11947421 0.1621868  0.09879141 ... 1.         0.35420184 0.34355357]\n",
      " [0.         0.04677797 0.         ... 0.35420184 1.         0.33705001]\n",
      " [0.04540368 0.08399724 0.03754361 ... 0.34355357 0.33705001 1.        ]]\n",
      "(2000, 2000)\n"
     ]
    }
   ],
   "source": [
    "similarity = cosine_similarity(feature_vectors)\n",
    "print(similarity)\n",
    "print(similarity.shape)"
   ]
  },
  {
   "cell_type": "code",
   "execution_count": null,
   "id": "5a7c30f4",
   "metadata": {},
   "outputs": [],
   "source": []
  },
  {
   "cell_type": "markdown",
   "id": "2ae83823",
   "metadata": {},
   "source": [
    "USER INPUT FOR ANIME "
   ]
  },
  {
   "cell_type": "code",
   "execution_count": 14,
   "id": "d80ccf28",
   "metadata": {},
   "outputs": [
    {
     "name": "stdout",
     "output_type": "stream",
     "text": [
      "Enter your favorite Anime:kimi no na wa\n"
     ]
    }
   ],
   "source": [
    "anime_name = input('Enter your favorite Anime:')\n"
   ]
  },
  {
   "cell_type": "code",
   "execution_count": 15,
   "id": "a53096e9",
   "metadata": {
    "scrolled": false
   },
   "outputs": [
    {
     "name": "stdout",
     "output_type": "stream",
     "text": [
      "['Fullmetal Alchemist: Brotherhood', 'Spy x Family', 'Shingeki no Kyojin Season 3 Part 2', 'Steins;Gate', 'Gintama°', \"Gintama'\", 'Gintama: The Final', 'Hunter x Hunter (2011)', 'Fruits Basket: The Final', \"Gintama': Enchousen\", 'Ginga Eiyuu Densetsu', 'Gintama.', 'Kaguya-sama wa Kokurasetai: Ultra Romantic', '3-gatsu no Lion 2nd Season', 'Koe no Katachi', 'Gintama', 'Violet Evergarden Movie', 'Clannad: After Story', 'Gintama Movie 2: Kanketsu-hen - Yorozuya yo Eien Nare', 'Code Geass: Hangyaku no Lelouch R2', 'Owarimonogatari 2nd Season', 'Shingeki no Kyojin: The Final Season Part 2', 'Kimetsu no Yaiba: Yuukaku-hen', 'Gintama.: Shirogane no Tamashii-hen - Kouhan-sen', 'Kimi no Na wa.', 'Shingeki no Kyojin: The Final Season', 'Monster', 'Mob Psycho 100 II', 'Gintama.: Shirogane no Tamashii-hen', 'Kizumonogatari III: Reiketsu-hen', 'Shiguang Dailiren', 'Sen to Chihiro no Kamikakushi', 'Haikyuu!!: Karasuno Koukou vs. Shiratorizawa Gakuen Koukou', 'Kingdom 3rd Season', 'Monogatari Series: Second Season', 'Cowboy Bebop', 'Mushoku Tensei: Isekai Ittara Honki Dasu Part 2', 'Odd Taxi', 'Shouwa Genroku Rakugo Shinjuu: Sukeroku Futatabi-hen', 'Mushishi Zoku Shou 2nd Season', 'Hajime no Ippo', 'Vinland Saga', '86 Part 2', \"Fate/stay night Movie: Heaven's Feel - III. Spring Song\", 'Ashita no Joe 2', 'Mushishi Zoku Shou', 'Rurouni Kenshin: Meiji Kenkaku Romantan - Tsuioku-hen', 'Mo Dao Zu Shi: Wanjie Pian', 'Code Geass: Hangyaku no Lelouch', 'Great Teacher Onizuka', 'Jujutsu Kaisen (TV)', 'Kingdom 4th Season', 'Made in Abyss', 'Made in Abyss Movie 3: Fukaki Tamashii no Reimei', 'Mononoke Hime', 'Mushishi', 'Ousama Ranking', 'Shigatsu wa Kimi no Uso', 'Violet Evergarden', 'Kimetsu no Yaiba Movie: Mugen Ressha-hen', 'Hajime no Ippo: New Challenger', 'Howl no Ugoku Shiro', 'Evangelion: 3.0+1.0 Thrice Upon a Time', 'Haikyuu!! Second Season', 'Kaguya-sama wa Kokurasetai? Tensai-tachi no Renai Zunousen', 'Natsume Yuujinchou Shi', 'Tengen Toppa Gurren Lagann', 'Natsume Yuujinchou Roku', 'One Piece', 'Death Note', 'Ping Pong the Animation', 'Seishun Buta Yarou wa Yumemiru Shoujo no Yume wo Minai', 'Shingeki no Kyojin Season 3', 'Suzumiya Haruhi no Shoushitsu', 'Mushishi Zoku Shou: Suzu no Shizuku', 'Ookami Kodomo no Ame to Yuki', 'Kizumonogatari II: Nekketsu-hen', 'Hajime no Ippo: Rising', 'JoJo no Kimyou na Bouken Part 5: Ougon no Kaze', 'Natsume Yuujinchou Go', 'Natsume Yuujinchou San', 'Shoujo☆Kageki Revue Starlight Movie', 'Shouwa Genroku Rakugo Shinjuu', 'Yojouhan Shinwa Taikei', 'Tengen Toppa Gurren Lagann Movie 2: Lagann-hen', 'Fate/Zero 2nd Season', 'Fruits Basket 2nd Season', 'Kimi no Suizou wo Tabetai', 'Bakuman. 3rd Season', 'Kimetsu no Yaiba', 'Mushishi: Hihamukage', 'Neon Genesis Evangelion: The End of Evangelion', 'Yakusoku no Neverland', 'Zoku Natsume Yuujinchou', 'Sora yori mo Tooi Basho', 'Yuru Camp△ Season 2', 'Haikyuu!! To the Top 2nd Season', 'Kara no Kyoukai 5: Mujun Rasen', \"Fate/stay night Movie: Heaven's Feel - II. Lost Butterfly\", 'Gintama.: Porori-hen', 'Jujutsu Kaisen 0 Movie', 'Kenpuu Denki Berserk', 'Shingeki no Kyojin', 'Slam Dunk', 'Perfect Blue', 'Steins;Gate 0', 'Gintama Movie 1: Shinyaku Benizakura-hen', 'Koukaku Kidoutai: Stand Alone Complex 2nd GIG', 'Ansatsu Kyoushitsu 2nd Season', 'Banana Fish', 'Hotaru no Haka', 'Karakai Jouzu no Takagi-san 3', 'Nana', 'One Punch Man', 'Uchuu Kyoudai', 'Samurai Champloo', 'Shingeki no Kyojin Season 2', 'Tian Guan Ci Fu Special', 'Aria the Origination', 'JoJo no Kimyou na Bouken Part 4: Diamond wa Kudakenai', 'Rainbow: Nisha Rokubou no Shichinin', 'Re:Zero kara Hajimeru Isekai Seikatsu 2nd Season Part 2', 'Mob Psycho 100', 'Chihayafuru 3', 'Gintama: The Semi-Final', 'Josee to Tora to Sakana-tachi', 'Kono Subarashii Sekai ni Shukufuku wo! Movie: Kurenai Densetsu', 'Mo Dao Zu Shi', 'Zoku Owarimonogatari', 'Nichijou', 'Owarimonogatari', 'Saenai Heroine no Sodatekata Fine', 'Steins;Gate Movie: Fuka Ryouiki no Déjà vu', 'Mahou Shoujo Madoka★Magica Movie 3: Hangyaku no Monogatari', 'Golden Kamuy 3rd Season', 'Haikyuu!!', 'Mo Dao Zu Shi: Xian Yun Pian', \"Vivy: Fluorite Eye's Song\", 'Yuu☆Yuu☆Hakusho', 'Mushishi Zoku Shou: Odoro no Michi', 'Saiki Kusuo no Ψ-nan 2', 'Wu Liuqi Zhi Xuanwu Guo Pian', 'Gintama: Yorinuki Gintama-san on Theater 2D', 'JoJo no Kimyou na Bouken Part 3: Stardust Crusaders 2nd Season', 'Grand Blue', 'JoJo no Kimyou na Bouken Part 6: Stone Ocean', 'Kono Oto Tomare! 2nd Season', 'Koukaku Kidoutai: Stand Alone Complex', 'Mononoke', 'Saiki Kusuo no Ψ-nan', 'Major S5', 'Yoru Ni Kakeru', 'Natsume Yuujinchou Movie: Utsusemi ni Musubu', 'Sayonara no Asa ni Yakusoku no Hana wo Kazarou', 'Shingeki no Kyojin: Kuinaki Sentaku', 'Sono Bisque Doll wa Koi wo Suru', 'Violet Evergarden Gaiden: Eien to Jidou Shuki Ningyou', 'Kara no Kyoukai 7: Satsujin Kousatsu (Go)', 'Kaze ga Tsuyoku Fuiteiru', '3-gatsu no Lion', 'Chihayafuru 2', 'Cross Game', 'Gintama°: Aizome Kaori-hen', 'Houseki no Kuni (TV)', 'Hunter x Hunter', 'Kaguya-sama wa Kokurasetai: Tensai-tachi no Renai Zunousen', 'Natsume Yuujinchou Roku Specials', 'Non Non Biyori Nonstop', 'Tensei shitara Slime Datta Ken 2nd Season', 'Tian Guan Ci Fu', 'Yahari Ore no Seishun Love Comedy wa Machigatteiru. Kan', 'Barakamon', 'Fumetsu no Anata e', 'Kobayashi-san Chi no Maid Dragon S', 'Kotarou wa Hitorigurashi', 'Baccano!', 'Cowboy Bebop: Tengoku no Tobira', 'Holo no Graffiti', 'Kamisama Hajimemashita: Kako-hen', 'Kimetsu no Yaiba: Mugen Ressha-hen', 'Kizumonogatari I: Tekketsu-hen', 'Mahou Shoujo Madoka★Magica Movie 2: Eien no Monogatari', 'Re:Zero kara Hajimeru Isekai Seikatsu 2nd Season', 'Usagi Drop', 'Mushoku Tensei: Isekai Ittara Honki Dasu', 'Kaze no Tani no Nausicaä', 'Bakuman. 2nd Season', 'Haikyuu!! To the Top', 'Hellsing Ultimate', 'Kingdom 2nd Season', 'Mahou Shoujo Madoka★Magica', 'Doupo Cangqiong: San Nian Zhi Yue', 'Gintama: Shiroyasha Koutan', 'Given', 'Gotcha!', 'Kiseijuu: Sei no Kakuritsu', 'Made in Abyss Movie 2: Hourou Suru Tasogare', 'Paripi Koumei', 'Psycho-Pass', 'Major S6', 'Natsume Yuujinchou: Itsuka Yuki no Hi ni', 'Neon Genesis Evangelion', 'One Outs', 'Uchuu Senkan Yamato 2199', 'Versailles no Bara', 'Ano Hi Mita Hana no Namae wo Bokutachi wa Mada Shiranai.', 'Bakemonogatari', 'Fruits Basket: Prelude', 'K-On! Movie', 'Katanagatari', 'Kemono no Souja Erin', 'Mobile Suit Gundam: The Origin', 'Ookami to Koushinryou II', 'Romeo no Aoi Sora', 'Natsume Yuujinchou', 'Natsume Yuujinchou Go Specials', 'NHK ni Youkoso!', 'Sakamichi no Apollon', 'Tenki no Ko', 'Violet Evergarden: Kitto \"Ai\" wo Shiru Hi ga Kuru no Darou', 'World Trigger 3rd Season', 'Boku dake ga Inai Machi', 'Evangelion: 2.0 You Can (Not) Advance', 'Fate/stay night: Unlimited Blade Works 2nd Season', 'Kawaki wo Ameku', 'Komi-san wa, Comyushou desu. 2nd Season', 'Doukyuusei (Movie)', 'Hotarubi no Mori e', 'Hunter x Hunter: Original Video Animation', 'Initial D First Stage', 'Kuroko no Basket 3rd Season', 'Major: World Series', 'Shelter (Music)', 'Shinsekai yori', 'Tensei shitara Slime Datta Ken 2nd Season Part 2', 'Rurouni Kenshin: Meiji Kenkaku Romantan', 'Shirobako', 'Steins;Gate: Oukoubakko no Poriomania', 'Beck', 'Detective Conan Movie 06: The Phantom of Baker Street', 'Diamond no Ace: Second Season', 'Dr. Stone', 'Fate/Zero', 'Hibike! Euphonium 2', 'Kino no Tabi: The Beautiful World', 'Ashita no Joe', 'Gintama: Shinyaku Benizakura-hen', 'Tsubasa: Tokyo Revelations', 'Nodame Cantabile', 'Redline', 'Sasaki to Miyano', 'Seishun Buta Yarou wa Bunny Girl Senpai no Yume wo Minai', 'Stranger: Mukou Hadan', 'Tokyo Godfathers', 'Bakemono no Ko', 'Gin no Saji 2nd Season', 'Gyakkyou Burai Kaiji: Ultimate Survivor', 'Kono Subarashii Sekai ni Shukufuku wo! 2', 'Koukaku Kidoutai', 'Great Pretender', 'Hajime no Ippo: Champion Road', 'Planetes', 'Tenkuu no Shiro Laputa', 'Yuru Camp△', 'Non Non Biyori Movie: Vacation', 'Space☆Dandy 2nd Season', 'Summertime Render', 'Tonari no Totoro', 'Wu Liuqi Zhi Zui Qiang Fa Xing Shi', 'Hunter x Hunter: Greed Island Final', 'Initial D Final Stage', 'Danshi Koukousei no Nichijou', 'Diamond no Ace: Act II', 'Gyakkyou Burai Kaiji: Hakairoku-hen', 'Kuroshitsuji Movie: Book of the Atlantic', 'Re:Zero kara Hajimeru Isekai Seikatsu', 'Sennen Joyuu', 'Major S3', 'Naruto: Shippuuden', 'Nodame Cantabile: Finale', 'One Piece Movie 14: Stampede', 'Ookami to Koushinryou', 'Quanzhi Gaoshou Specials', 'Steins;Gate: Kyoukaimenjou no Missing Link - Divide By Zero', 'Youjo Senki Movie', 'Douluo Dalu: Xiaowu Juebie', '86', 'Detective Conan: Episode One - The Great Detective Turned Small', 'Dororo', 'Golden Kamuy 2nd Season', 'Hajime no Ippo: Mashiba vs. Kimura', 'Kuroko no Basket 2nd Season', 'Luo Xiao Hei Zhan Ji (Movie)', 'Magi: The Kingdom of Magic', 'Major S1', 'Mobile Suit Gundam: Iron-Blooded Orphans 2nd Season', 'SKET Dance', 'xxxHOLiC: Kei', 'Yahari Ore no Seishun Love Comedy wa Machigatteiru. Zoku', 'Yuukoku no Moriarty 2nd Season', 'Mimi wo Sumaseba', 'No Game No Life: Zero', 'Stand By Me Doraemon 2', 'Trigun', 'Detective Conan Movie 13: The Raven Chaser', 'Fruits Basket 1st Season', 'Ginga Eiyuu Densetsu: Die Neue These - Seiran 3', 'Hachimitsu to Clover II', 'Kono Sekai no Katasumi ni', 'Mahou Shoujo Madoka★Magica Movie 1: Hajimari no Monogatari', 'Majo no Takkyuubin', 'Bungou Stray Dogs 3rd Season', 'Cardcaptor Sakura Movie 2: Fuuin Sareta Card', 'Horimiya', 'Kaguya-hime no Monogatari', 'Major S2', 'Major S4', 'Nomad: Megalo Box 2', 'ReLIFE: Kanketsu-hen', 'Saiki Kusuo no Ψ-nan: Kanketsu-hen', 'xxxHOLiC: Rou', 'One Piece: Episode of Merry - Mou Hitori no Nakama no Monogatari', 'Toaru Kagaku no Railgun T', 'Vanitas no Karte Part 2', 'Yoru wa Mijikashi Arukeyo Otome', 'Bakuman.', 'Berserk: Ougon Jidai-hen III - Kourin', 'Bungou Stray Dogs 2nd Season', 'Chihayafuru', \"Fate/stay night Movie: Heaven's Feel - I. Presage Flower\", 'IDOLiSH7: Third Beat!', 'InuYasha: Kanketsu-hen', 'Little Busters!: Refrain', 'Maison Ikkoku', 'Asobi Asobase', 'Ballroom e Youkoso', 'Fate/stay night: Unlimited Blade Works', 'Girls & Panzer Movie', 'Higurashi no Naku Koro ni Kai', 'Hunter x Hunter: Greed Island', 'Kamisama Hajimemashita◎', 'Liz to Aoi Tori', 'Non Non Biyori Repeat', 'Senki Zesshou Symphogear XV', 'Shokugeki no Souma', 'Shoujo Shuumatsu Ryokou', 'Tanoshii Muumin Ikka', 'Shoujo Kakumei Utena', 'Aria the Natural', 'Black Lagoon: The Second Barrage', 'Dr. Stone: Stone Wars', 'Eiga Daisuki Pompo-san (Movie)', 'Girls & Panzer: Saishuushou Part 3', 'Boku no Hero Academia 2nd Season', 'Death Parade', 'Detective Conan Movie 20: The Darkest Nightmare', 'Digimon Adventure: Last Evolution Kizuna', 'K-On!!', \"Kyoukai no Kanata Movie 2: I'll Be Here - Mirai-hen\", 'Major: Message', 'Noragami Aragoto', 'Ramayana: The Legend of Prince Rama', 'One Piece Film: Z', 'Ouran Koukou Host Club', 'Tengen Toppa Gurren Lagann Movie 1: Gurren-hen', 'Working!!!: Lord of the Takanashi', 'Akira', 'Detective Conan', 'Given Movie', 'Given: Uragawa no Sonzai', 'Haikyuu!! Movie 4: Concept no Tatakai', 'Hinamatsuri (TV)', 'Kaguya-sama wa Kokurasetai: Ultra Romantic Teaser PV - Ishigami Yuu wa Kataritai', 'Cardcaptor Sakura', 'Douluo Dalu: Xingdou Xian Ji Pian', 'Dragon Ball Z', 'Gankutsuou', 'Initial D Fourth Stage', 'Kaiba', 'Lupin III: Cagliostro no Shiro', 'Lupin III: Part 5', 'Mo Dao Zu Shi Q', 'Nisemonogatari', 'Nodame Cantabile: Paris-hen', 'Seirei no Moribito', 'Tokyo Revengers', 'Toki wo Kakeru Shoujo', 'Yuukoku no Moriarty', 'Douluo Dalu: Hanhai Qian Kun', 'Eizouken ni wa Te wo Dasu na!', 'IDOLiSH7: Second Beat!', 'Initial D Second Stage', 'Kamisama Hajimemashita: Kamisama, Shiawase ni Naru', 'Katekyo Hitman Reborn!', 'Made in Abyss Movie 1: Tabidachi no Yoake', \"Mahou Shoujo Lyrical Nanoha: The Movie 2nd A's\", '5-toubun no Hanayome ∬', 'Chuunibyou demo Koi ga Shitai! Movie: Take On Me', 'Dragon Ball Super: Broly', 'Durarara!!', 'Ginga Eiyuu Densetsu Gaiden', 'Honzuki no Gekokujou: Shisho ni Naru Tame ni wa Shudan wo Erandeiraremasen 2nd Season', 'Interstella5555: The 5tory of The 5ecret 5tar 5ystem', 'Kono Subarashii Sekai ni Shukufuku wo!', 'One Piece: Episode of Nami - Koukaishi no Namida to Nakama no Kizuna', 'Tensei shitara Slime Datta Ken', 'Tonikaku Kawaii: SNS', 'Mobile Suit Gundam 00', 'Mobile Suit Gundam Unicorn', 'Natsume Yuujinchou: Ishi Okoshi to Ayashiki Raihousha', 'One Piece Film: Strong World', 'Princess Tutu', 'Sakura-sou no Pet na Kanojo', 'Shokugeki no Souma: Ni no Sara', 'Toradora!', 'Detective Conan Movie 05: Countdown to Heaven', 'Detective Conan Movie 14: The Lost Ship in the Sky', 'Detroit Metal City', 'Douluo Dalu: Qian Hua Xi Jin', 'Fullmetal Alchemist', 'Koukaku Kidoutai: Stand Alone Complex - Solid State Society', 'Kuragehime', 'Mahoutsukai no Yome: Hoshi Matsu Hito', 'Baccano! Specials', 'Black Clover', 'Douluo Dalu: Jingying Sai', 'Ginga Eiyuu Densetsu: Die Neue These - Seiran 2', \"Gintama': Futon ni Haitte kara Buki Nokoshi ni Kizuite Neru ni Nerenai Toki mo Aru\", 'Gintama°: Umai-mono wa Atomawashi ni Suru to Yokodorisareru kara Yappari Saki ni Kue', 'Mobile Suit Gundam: The Origin - Advent of the Red Comet', 'No Game No Life', 'Non Non Biyori Nonstop OVA', 'Quanzhi Gaoshou Zhi Dianfeng Rongyao', 'Saiki Kusuo no Ψ-nan: Ψ-shidou-hen', 'Tamayura: Sotsugyou Shashin Part 4 - Ashita', 'Tsubasa: Shunraiki', 'Tsukimonogatari', 'Uchouten Kazoku 2', 'Tsuki ga Kirei', 'Zankyou no Terror', 'Ansatsu Kyoushitsu', 'Boku no Hero Academia 3rd Season', 'Diamond no Ace', 'Douluo Dalu: Haishen Zhi Guang', 'Ginga Eiyuu Densetsu: Arata Naru Tatakai no Overture', 'Haikyuu!! Movie 3: Sainou to Sense', 'Hyouka', 'JoJo no Kimyou na Bouken Part 3: Stardust Crusaders', 'Kanata no Astra', 'Kaze Tachinu', 'Kuroko no Basket: Saikou no Present Desu', 'Akatsuki no Yona OVA', 'Gin no Saji', 'Hajime no Ippo: Boxer no Kobushi', 'Karakai Jouzu no Takagi-san 2', 'Mirai Shounen Conan', 'Mobile Suit Gundam 00 Second Season', 'Saint Seiya: The Lost Canvas - Meiou Shinwa 2', 'Skip Beat!', 'World Trigger 2nd Season', 'Yuusha-Ou GaoGaiGar Final', 'Stand By Me Doraemon', 'Yowamushi Pedal: Grande Road', 'Angel Beats!', 'Darker than Black: Kuro no Keiyakusha', 'Detective Conan Movie 18: The Sniper from Another Dimension', 'Gintama: Nanigoto mo Saiyo ga Kanjin nano de Tasho Senobisuru Kurai ga Choudoyoi', 'Hidamari Sketch: Sae Hiro Sotsugyou-hen', 'Hikaru no Go', 'Initial D Fifth Stage', 'Koukaku Kidoutai: Stand Alone Complex - The Laughing Man', 'Kuroko no Basket', 'Kuroko no Basket Movie 4: Last Game', 'Kuroshitsuji: Book of Circus', 'Mairimashita! Iruma-kun 2nd Season', 'Detective Conan Movie 08: Magician of the Silver Sky', 'Dorohedoro', 'Durarara!!x2 Ketsu', 'Gintama: Dai Hanseikai', 'Girls & Panzer: Saishuushou Part 2', 'Gosick', 'Kamisama Hajimemashita', 'Koukyoushihen Eureka Seven', 'Kuroshitsuji: Book of Murder', 'Mahoutsukai no Yome', 'Omoide no Marnie', 'Shijou Saikyou no Deshi Kenichi', 'Serial Experiments Lain', 'xxxHOLiC: Shunmuki', 'City Hunter 2', 'Dennou Coil', 'Fate/stay night: Unlimited Blade Works Prologue', 'Ginga Eiyuu Densetsu Gaiden (1999)', 'Glass no Kamen (2005)', 'Komi-san wa, Comyushou desu.', 'Doraemon Movie 31: Shin Nobita to Tetsujin Heidan - Habatake Tenshi-tachi', 'Douluo Dalu: Hao Tian Yang Wei', 'Hololive Alternative', 'Kill la Kill', 'Kodomo no Omocha (TV)', 'Kyou kara Ore wa!!', 'Summer Wars', 'Mobile Suit Gundam: Iron-Blooded Orphans', 'Paprika', 'Saint Seiya: Meiou Hades Juuni Kyuu-hen', 'Saiunkoku Monogatari 2nd Season', 'Shokugeki no Souma: San no Sara', 'SK∞', 'Yahari Ore no Seishun Love Comedy wa Machigatteiru. Zoku OVA', 'BanG Dream! 3rd Season', 'Detective Conan Movie 10: Requiem of the Detectives', 'Eve no Jikan', 'Full Metal Panic? Fumoffu', 'Juuni Kokuki', 'Kara no Kyoukai 3: Tsuukaku Zanryuu', 'Kono Subarashii Sekai ni Shukufuku wo! 2: Kono Subarashii Geijutsu ni Shukufuku wo!', 'Lovely★Complex', 'Akatsuki no Yona', 'Baby Steps 2nd Season', 'Black Lagoon', \"Black Lagoon: Roberta's Blood Trail\", 'Boku no Hero Academia the Movie 2: Heroes:Rising', 'D.Gray-man', 'Date A Live IV', 'Detective Conan Movie 03: The Last Wizard of the Century', 'Detective Conan Movie 04: Captured in Her Eyes', 'FLCL', 'Ginga Eiyuu Densetsu: Die Neue These - Gekitotsu', 'Ginga Nagareboshi Gin', 'Honzuki no Gekokujou: Shisho ni Naru Tame ni wa Shudan wo Erandeiraremasen 3rd Season', 'Kami nomi zo Shiru Sekai: Megami-hen', 'Magi: The Labyrinth of Magic', 'Toaru Kagaku no Railgun S', 'Tsumiki no Ie', 'Zombieland Saga: Revenge', 'Omae Umasou da na', 'Pui Pui Molcar', 'Slayers Next', 'Tate no Yuusha no Nariagari', 'Tokyo Magnitude 8.0', 'Uma Musume: Pretty Derby (TV) Season 2', 'Yahari Ore no Seishun Love Comedy wa Machigatteiru.', 'Yuuki Yuuna wa Yuusha de Aru: Washio Sumi no Shou 3 - Yakusoku', 'Detective Conan Movie 15: Quarter of Silence', 'ef: A Tale of Melodies.', 'Evangelion: 1.0 You Are (Not) Alone', 'Golden Boy', 'Hachimitsu to Clover', 'Kaichou wa Maid-sama!', 'Kamisama Hajimemashita OVA', 'Kara no Kyoukai Movie: Mirai Fukuin', 'Aria the OVA: Arietta', 'BanG Dream! Movie: Episode of Roselia - II: Song I Am.', 'Clannad', 'Fullmetal Alchemist: Brotherhood Specials', 'Honzuki no Gekokujou: Shisho ni Naru Tame ni wa Shudan wo Erandeiraremasen', 'Love Live! Superstar!!', 'Mobile Suit Gundam: The 08th MS Team', 'Mushoku Tensei: Isekai Ittara Honki Dasu Special', 'Nagi no Asu kara', 'Persona 3 the Movie 4: Winter of Rebirth', \"Wolf's Rain OVA\", 'Maoujou de Oyasumi', 'Ookiku Furikabutte: Natsu no Taikai-hen', 'School Rumble Ni Gakki', 'Touch', 'Code Geass: Hangyaku no Lelouch III - Oudou', 'Doupo Cangqiong 4th Season', 'Durarara!!x2 Shou', 'Eve no Jikan (Movie)', 'Haikyuu!! Movie 2: Shousha to Haisha', 'Hanada Shounen-shi', 'Hibike! Euphonium', 'High Score Girl: Extra Stage', 'Kakushigoto (TV)', 'Kimi ni Todoke', 'Kobayashi-san Chi no Maid Dragon', 'Koukaku Kidoutai: Stand Alone Complex 2nd GIG - Individual Eleven', 'Douluo Dalu: Shan Yu Yu Lai', 'Ginga Eiyuu Densetsu: Die Neue These - Seiran 1', 'High Score Girl II', 'Kimi ni Todoke 2nd Season', 'Koukaku Kidoutai 2.0', 'Major Movie: Yuujou no Winning Shot', 'Promare', 'ReLIFE', 'Sakasama no Patema', 'Shokugeki no Souma: San no Sara - Tootsuki Ressha-hen', 'xxxHOLiC', 'Rurouni Kenshin: Meiji Kenkaku Romantan - Seisou-hen', 'Tennis no Ouji-sama: Zenkoku Taikai-hen - Final', 'Wan Sheng Jie 2', 'Working!!!', 'Akagami no Shirayuki-hime 2nd Season', 'Aria the Origination: Sono Choppiri Himitsu no Basho ni...', 'Durarara!!x2 Ten', 'Hyouge Mono', 'Kingdom', 'Love Live! Nijigasaki Gakuen School Idol Doukoukai 2nd Season', 'Azumanga Daioh', 'Haibane Renmei', 'Hokuto no Ken', 'Kanon (2006)', \"Mahou Shoujo Lyrical Nanoha A's\", 'Naruto', 'Noragami', 'One Piece Film: Strong World Episode 0', 'Osomatsu-san', 'Phantom: Requiem for the Phantom', 'Quanzhi Gaoshou 2', 'Saint Seiya: The Lost Canvas - Meiou Shinwa', 'Wan Sheng Jie', 'Youjo Senki', 'Yuri!!! on Ice: Yuri Plisetsky GPF in Barcelona EX - Welcome to The Madness', 'Mawaru Penguindrum', 'Nurarihyon no Mago: Sennen Makyou', 'Sword Art Online: Progressive Movie - Hoshi Naki Yoru no Aria', 'Tekkon Kinkreet', 'Boku no Hero Academia 4th Season', 'Dragon Ball', 'Fate/Grand Carnival', 'Girls & Panzer: Saishuushou Part 1', 'Haikyuu!! Movie 1: Owari to Hajimari', 'Hikaru no Go: Hokuto Hai e no Michi', 'IDOLiSH7 Vibrato', 'Kobato.', 'Macross F Movie 2: Sayonara no Tsubasa', 'Macross: Do You Remember Love?', 'Boku no Hero Academia', 'Clannad: Mou Hitotsu no Sekai, Tomoyo-hen', 'Fate/kaleid liner Prisma☆Illya Movie: Sekka no Chikai', 'Gochuumon wa Usagi Desu ka? Bloom', 'Hanamonogatari', 'Kindaichi Shounen no Jikenbo', 'Kokoro Connect: Michi Random', 'Kurenai no Buta', 'Log Horizon', 'Non Non Biyori', 'Usagi Drop Specials', 'Wotaku ni Koi wa Muzukashii', 'xxxHOLiC Movie: Manatsu no Yoru no Yume', 'Yowamushi Pedal', 'Mobile Suit Gundam 0080: War in the Pocket', 'Mobile Suit Gundam Thunderbolt', 'Nekomonogatari: Kuro', 'Tamako Love Story', 'Trigun: Badlands Rumble', 'Zetsuen no Tempest', 'Fate/Grand Order: Zettai Majuu Sensen Babylonia', 'Full Metal Panic! The Second Raid', 'Full Moon wo Sagashite', 'Kimi to Boku. 2', 'Kuuchuu Buranko', 'Bishoujo Senshi Sailor Moon: Sailor Stars', 'Bungou Stray Dogs Wan!', 'Darker than Black: Kuro no Keiyakusha Gaiden', 'Douluo Dalu: Chongfan Haotian', 'Final Fantasy VII: Advent Children Complete', 'Hidamari Sketch x Honeycomb', 'Kidou Keisatsu Patlabor 2 the Movie', 'Kotonoha no Niwa', 'Love Live! The School Idol Movie', 'Mobile Suit Gundam Thunderbolt: December Sky', 'SKET Dance: Imouto no Nayami ni Nayamu Ani ni Nayamu Imouto to Sono Nakama-tachi', 'Takarajima', 'Touhai Densetsu Akagi: Yami ni Maiorita Tensai', 'Umibe no Étranger', 'Wotaku ni Koi wa Muzukashii OVA', 'Yakitate!! Japan', 'Yuru Yuri San☆Hai!', 'One Piece Film: Gold', 'Ore Monogatari!!', 'Overlord', 'Overlord III', 'Plastic Memories', 'Quanzhi Gaoshou', 'Tonikaku Kawaii', 'Cike Wu Liuqi', 'City Hunter', 'Code Geass: Fukkatsu no Lelouch', 'Eyeshield 21', 'Fate/Grand Order: Shuukyoku Tokuiten - Kani Jikan Shinden Solomon', 'Hanasaku Iroha', 'JoJo no Kimyou na Bouken (TV)', 'Kaleido Star', 'Macross', 'Aria the Avvenire', 'Bungou Stray Dogs: Dead Apple', 'Detective Conan OVA 09: The Stranger in 10 Years...', 'Drifters', 'ef: A Tale of Memories.', 'Ergo Proxy', 'Hidamari Sketch x ☆☆☆', 'Ie Naki Ko Remy', 'Jormungand: Perfect Order', 'Kono Oto Tomare!', 'Lupin III (2015)', 'Ookiku Furikabutte', 'Princess Connect! Re:Dive Season 2', 'Sakigake!! Cromartie Koukou', 'Shirokuma Cafe', 'Tennis no Ouji-sama: Zenkoku Taikai-hen', 'Tennis no Ouji-sama: Zenkoku Taikai-hen - Semifinal', 'Ushio to Tora (TV) 2nd Season', 'Vanitas no Karte', 'Yagate Kimi ni Naru', 'Yuri!!! on Ice', 'Zoku Sayonara Zetsubou Sensei', 'Saiunkoku Monogatari', 'School Rumble', 'Shijou Saikyou no Deshi Kenichi OVA', 'Summer Ghost', 'Terra e... (TV)', 'Date A Live II: Kurumi Star Festival', 'Death Billiards', 'Free! Eternal Summer: Kindan no All Hard!', 'Gake no Ue no Ponyo', 'Gakuen Babysitters', 'Ginga Eiyuu Densetsu: Waga Yuku wa Hoshi no Taikai', 'Ginga Sengoku Gunyuuden Rai', 'Higurashi no Naku Koro ni', 'Jigoku Shoujo Futakomori', 'Kami nomi zo Shiru Sekai II', 'Karigurashi no Arrietty', 'Macross F', 'Beastars', 'Carole & Tuesday', 'Code Geass: Hangyaku no Lelouch I - Koudou', 'Megalo Box', 'Mobile Suit Zeta Gundam', 'One Piece: Episode of East Blue - Luffy to 4-nin no Nakama no Daibouken', 'Sekaiichi Hatsukoi OVA', 'Vampire Hunter D (2000)', 'Wu Shan Wu Xing (2020)', 'One Piece 3D2Y: Ace no shi wo Koete! Luffy Nakama Tono Chikai', 'Ookami to Koushinryou II: Ookami to Kohakuiro no Yuuutsu', 'Osomatsu-san Movie', 'Sayonara Zetsubou Sensei', 'Sekaiichi Hatsukoi 2', 'Sekaiichi Hatsukoi Movie: Yokozawa Takafumi no Baai', 'Space☆Dandy', 'Tiger & Bunny', 'Zan Sayonara Zetsubou Sensei', 'Berserk: Ougon Jidai-hen II - Doldrey Kouryaku', 'Carnival Phantasm', 'Detective Conan Movie 02: The Fourteenth Target', 'Hoozuki no Reitetsu 2nd Season', 'Initial D Third Stage', 'Inochi no Tabekata', 'Mahou Shoujo Lyrical Nanoha: The Movie 1st', 'Ano Hi Mita Hana no Namae wo Bokutachi wa Mada Shiranai. Movie', 'Beelzebub', 'Bishoujo Senshi Sailor Moon S', 'Durarara!! Specials', 'High☆Speed! Movie: Free! Starting Days', 'Kobayashi-san Chi no Maid Dragon S: Nippon no Omotenashi - Attend wa Dragon Desu', \"Kyoukai no Kanata Movie: I'll Be Here - Kako-hen - Yakusoku no Kizuna\", 'Les Misérables: Shoujo Cosette', 'Lupin III vs. Detective Conan: The Movie', \"Mobile Suit Gundam: Hathaway's Flash\", 'Noragami Aragoto OVA', 'Seitokai Yakuindomo* OVA', 'Tennis no Ouji-sama', 'There She Is!!', 'Top wo Nerae! Gunbuster', 'Musekinin Kanchou Tylor', 'Shingeki no Kyojin OVA', 'Tanaka-kun wa Itsumo Kedaruge', 'Tentai Senshi Sunred 2nd Season', 'Yuru Yuri Nachuyachumi!', 'Beastars 2nd Season', 'Blue Period', 'Douluo Dalu', 'Douluo Dalu: Xiaowu Fuhuo', 'Gekkan Shoujo Nozaki-kun', 'Golden Kamuy', 'Grisaia no Meikyuu: Caprice no Mayu 0', 'Hanasaku Iroha Movie: Home Sweet Home', 'Hoozuki no Reitetsu OVA', 'Id:Invaded', 'Kaleido Star: Legend of Phoenix - Layla Hamilton Monogatari', 'Kokoro ga Sakebitagatterunda.', 'Magi: Sinbad no Bouken (TV)', 'Magic Kaito 1412', 'Aoki Hagane no Arpeggio: Ars Nova Movie 2 - Cadenza', 'Bleach', 'Densetsu Kyojin Ideon: Hatsudou-hen', 'Detective Conan Movie 01: The Timed Skyscraper', 'Dramaturgy', 'Flanders no Inu (Movie)', 'Hoozuki no Reitetsu 2nd Season: Sono Ni', 'InuYasha', 'Jibaku Shounen Hanako-kun', 'K-On!', 'Kara no Kyoukai 4: Garan no Dou', 'Kono Subarashii Sekai ni Shukufuku wo!: Kono Subarashii Choker ni Shukufuku wo!', 'Lupin the IIIrd: Chikemuri no Ishikawa Goemon', 'Non Non Biyori Repeat: Hotaru ga Tanoshinda', 'Paradise Kiss', 'Seihou Bukyou Outlaw Star', 'Uchouten Kazoku', 'Youkoso Jitsuryoku Shijou Shugi no Kyoushitsu e (TV)', 'Michiko to Hatchin', 'Seitokai Yakuindomo Movie', 'Seto no Hanayome OVA', 'Soul Eater', 'Suzumiya Haruhi no Yuuutsu', 'Tasogare Otome x Amnesia', 'Urusei Yatsura 2: Beautiful Dreamer', \"Working'!!\", 'Yume-iro Pâtissière', 'Aggressive Retsuko (ONA) 3rd Season', 'Break Blade 4: Sanka no Chi', 'Detective Conan Movie 22: Zero the Enforcer', 'Detective Conan Movie 23: The Fist of Blue Sapphire', 'Eikoku Koi Monogatari Emma: Molders-hen', 'Gungrave', 'K-On!!: Keikaku!', 'K-On!: Live House!', '91 Days', 'Chuan Shu Zijiu Zhinan', 'Danshi Koukousei no Nichijou Specials', 'Goku Sayonara Zetsubou Sensei', 'Haikyuu!! (OVA)', 'Hidamari Sketch x 365', 'Ie Naki Ko', 'Igano Kabamaru', 'Little Witch Academia (TV)', 'Lupin III: The First', 'Mahoujin Guruguru (2017)', 'Mahoutsukai no Yome: Nishi no Shounen to Seiran no Kishi', 'New Initial D Movie: Legend 3 - Mugen', 'Planetarian: Hoshi no Hito', 'Somali to Mori no Kamisama', 'Yi Nian Yong Heng', 'Yuru Yuri♪♪', 'Yuusha-Ou GaoGaiGar', 'Maria-sama ga Miteru 3rd', 'Oniisama e...', 'Owarimonogatari 2nd Season Recaps', 'Psycho-Pass 3: First Inspector', 'Saiyuuki Gaiden', 'Slayers Try', 'Akachan to Boku', 'Baby Steps', 'Break Blade 5: Shisen no Hate', 'Bungou Stray Dogs', 'Capeta', 'Haikyuu!! Riku vs. Kuu', 'Jormungand', 'Jungle wa Itsumo Hare nochi Guu', 'Kuroko no Basket: Tip Off', 'Lupin the IIIrd: Jigen Daisuke no Bohyou', 'Ai no Utagoe wo Kikasete', 'Akebi-chan no Sailor-fuku', 'Aria the Crepuscolo', 'City Hunter 3', 'Coquelicot-zaka kara', 'Crayon Shin-chan Movie 09: Arashi wo Yobu Mouretsu! Otona Teikoku no Gyakushuu', 'Detective Conan Movie 07: Crossroad in the Ancient Capital', 'Detective Conan Movie 08: Time Travel of the Silver Sky', 'Heartcatch Precure!', 'Hidamari Sketch x ☆☆☆ Specials', 'Kekkai Sensen & Beyond', 'Little Witch Academia', 'Macross F Movie 1: Itsuwari no Utahime', 'Magi: Sinbad no Bouken', 'Nodame Cantabile: Finale - Mine to Kiyora no Saikai', 'Saint☆Oniisan (Movie)', 'Seikai no Senki II', 'Shingeki no Kyojin Movie 2: Jiyuu no Tsubasa', 'Tamayura: Sotsugyou Shashin Part 3 - Akogare', \"Wolf's Rain\", 'Yuuki Yuuna wa Yuusha de Aru: Washio Sumi no Shou 2 - Tamashii', 'Mobile Suit Gundam Wing: Endless Waltz Special', 'Sekaiichi Hatsukoi: Valentine-hen', 'Shiguang Dailiren Fan Wai Pian: Biwu Zhaoqin', 'Shingeki no Kyojin: Lost Girls', 'Tokyo Ghoul', 'Clannad: After Story - Mou Hitotsu no Sekai, Kyou-hen', 'Detective Conan Movie 09: Strategy Above the Depths', 'Emiya-san Chi no Kyou no Gohan', 'Giant Robo the Animation: Chikyuu ga Seishi Suru Hi', 'Ginga Tetsudou 999', 'Gochuumon wa Usagi Desu ka??', 'Innocence', 'InuYasha Movie 3: Tenka Hadou no Ken', 'Jungle wa Itsumo Hare nochi Guu Deluxe', 'Kara no Kyoukai 2: Satsujin Kousatsu (Zen)', 'Last Exile', 'Lucky☆Star: Original na Visual to Animation', 'Break Blade 3: Kyoujin no Ato', 'Detective Conan Movie 12: Full Score of Fear', 'Gochuumon wa Usagi Desu ka??: Dear My Sister', 'Grisaia no Rakuen', 'High Score Girl', 'Kageki Shoujo!!', 'Kubikiri Cycle: Aoiro Savant to Zaregototsukai', 'Lupin III: Part II', 'Saiyuuki Reload: Burial', 'Saraiya Goyou', 'Seitokai Yakuindomo Movie 2', 'Mind Game', 'New Initial D Movie: Legend 2 - Tousou', 'Saenai Heroine no Sodatekata ♭', 'Shingeki no Kyojin Season 2 Movie: Kakusei no Houkou', 'Taishou Otome Otogibanashi', 'The Everlasting Guilty Crown', 'The Last: Naruto the Movie', 'Tunshi Xingkong', 'Yuru Yuri Nachuyachumi!+', 'Zan Sayonara Zetsubou Sensei Bangaichi', 'Ame wo Matsu,', 'BanG Dream! Garupa☆Pico', 'Code Geass: Hangyaku no Lelouch R2 Special Edition - Zero Requiem', 'Colorful (Movie)', 'Enen no Shouboutai: Ni no Shou', 'Hataraku Maou-sama!', 'Hibike! Euphonium Movie 2: Todoketai Melody', 'Higashi no Eden', 'Hoozuki no Reitetsu', 'Hug tto! Precure', 'Isekai no Seikishi Monogatari', 'Jin-Rou', 'Kuroko no Basket Movie 3: Winter Cup - Tobira no Mukou', 'Love Live! School Idol Project 2nd Season', 'Lupin III vs. Detective Conan', 'Magic Kaito', 'Akagami no Shirayuki-hime', 'Cardcaptor Sakura: Clear Card-hen Prologue - Sakura to Futatsu no Kuma', 'Devilman: Crybaby', 'Digimon Adventure', 'Digimon Adventure: Bokura no War Game!', 'Ghost Hunt', 'Hadashi no Gen', 'Haikyuu!! vs. \"Akaten\"', 'Hidamari Sketch x SP', 'Kokoro Connect', 'Lupin the Third: Mine Fujiko to Iu Onna', 'Machikado Mazoku: 2-choume', 'Maria-sama ga Miteru 4th', 'New Initial D Movie: Legend 1 - Kakusei', 'Ojamajo Doremi Na-i-sho', 'Seitokai Yakuindomo OVA', 'Shiki Specials', 'Tentai Senshi Sunred', 'The Disappearance of Conan Edogawa: The Worst Two Days in History', 'Mobile Suit Gundam', 'Mobile Suit Gundam III: Encounters in Space', 'Mobile Suit Gundam SEED', 'Overlord II', 'Ranma ½', 'Shaman King', 'Shanhe Jian Xin', 'Snow Halation', 'Texhnolyze', 'Tiger & Bunny Movie 2: The Rising', 'Toshokan Sensou: Kakumei no Tsubasa', \"City Hunter '91\", 'Detective Conan OVA 10: Kid in Trap Island', 'Free! Movie 4: The Final Stroke - Zenpen', 'Genshiken 2', 'Gochuumon wa Usagi Desu ka??: Sing for You', 'Heike Monogatari', 'Kino no Tabi: The Beautiful World - Nanika wo Suru Tame ni - Life Goes On.', 'Kochira Katsushikaku Kameari Kouenmae Hashutsujo', 'Kyou kara Maou! 3rd Series', 'Little Witch Academia: Mahoujikake no Parade', 'Aggressive Retsuko (ONA) 2nd Season', 'BanG Dream! Garupa☆Pico: Oomori', 'Charlotte', 'Claymore', 'Doraemon (1979)', 'Free! Take Your Marks', 'Go! Princess Precure', 'Golden Time', 'Gundam Build Fighters', 'Hibike! Euphonium Movie 3: Chikai no Finale', 'InuYasha: Kuroi Tessaiga', 'Jinrui wa Suitai Shimashita', 'Junjou Romantica 2', 'Kuroko no Basket: Last Game NG-shuu', 'Mobile Suit Gundam Wing: Endless Waltz', 'Saint Seiya: Meiou Hades Meikai-hen', 'Shadows House', 'Shiki', 'Shokugeki no Souma: Shin no Sara', 'Star☆Twinkle Precure: Hoshi no Uta ni Omoi wo Komete', 'Tamayura: Sotsugyou Shashin Part 2 - Hibiki', 'Tantei Gakuen Q', 'Tegamibachi Reverse', 'Udon no Kuni no Kiniro Kemari', 'Ushiro no Shoumen Daare', 'Neko no Ongaeshi', 'Ranma ½ OVA', 'Saint Seiya', 'Sidonia no Kishi: Daikyuu Wakusei Seneki', 'Uchuu Senkan Yamato 2199: Hoshimeguru Hakobune', 'Ueki no Housoku', 'Wonder Egg Priority', 'Ani ni Tsukeru Kusuri wa Nai! 2', 'Bishoujo Senshi Sailor Moon Crystal Season III', 'Black Jack', 'Crayon Shin-chan', 'Detective Conan Movie 24: The Scarlet Bullet', 'Doukyonin wa Hiza, Tokidoki, Atama no Ue.', 'Dragon Ball Z Special 2: Zetsubou e no Hankou!! Nokosareta Chousenshi - Gohan to Trunks', 'Free! Movie 3: Road to the World - Yume', 'Gakuen Babysitters Special', 'Kobayashi-san Chi no Maid Dragon: Valentine, Soshite Onsen! - Amari Kitai Shinaide Kudasai', 'Kyoukai no Kanata', 'Kyousou Giga (TV)', 'Lucky☆Star', 'Mairimashita! Iruma-kun', 'Arakawa Under the Bridge x Bridge', 'Asagao to Kase-san.', 'Final Fantasy VII: Advent Children', 'Gate: Jieitai Kanochi nite, Kaku Tatakaeri 2nd Season', 'Gekkan Shoujo Nozaki-kun Specials', 'Ginga Eiyuu Densetsu: Die Neue These - Kaikou', 'Hidamari Sketch x 365 Specials', 'Junjou Romantica OVA', 'Koukaku Kidoutai: Stand Alone Complex - Solid State Society 3D', 'Mahouka Koukou no Rettousei: Tsuioku-hen', 'Master Keaton OVA', 'Noragami OVA', 'Pokemon: The Origin', 'Psycho-Pass: Sinners of the System Case.3 - Onshuu no Kanata ni＿＿', 'School Rumble: Ichi Gakki Hoshuu', 'Slayers', 'Sonny Boy', 'Tetsuwan Birdy Decode:02', 'Yamato Nadeshiko Shichihenge♥', 'Memories', 'Mujin Wakusei Survive', 'Nanatsu no Taizai', 'New Game!!', 'One Piece Movie 06: Omatsuri Danshaku to Himitsu no Shima', 'One Piece: Episode of Sabo - 3 Kyoudai no Kizuna Kiseki no Saikai to Uketsugareru Ishi', 'Psycho-Pass Movie', 'Rozen Maiden: Ouvertüre', 'Rurouni Kenshin DVD-BOX Special Ending', 'Taiyou no Ko Esteban', 'Tsuki ga Michibiku Isekai Douchuu', 'Wan Sheng Jie 3', 'Watashi no Ashinaga Ojisan', 'Berserk: Ougon Jidai-hen I - Haou no Tamago', 'Break Blade 2: Ketsubetsu no Michi', 'Change!! Getter Robo: Sekai Saigo no Hi', \"Chi's Sweet Home: Atarashii Ouchi\", 'Chuunibyou demo Koi ga Shitai!', 'Detective Conan Movie 19: The Hellfire Sunflowers', 'Douluo Dalu: Feng Qi Tang Men', 'Doupo Cangqiong 3rd Season', 'Haikyuu!! Lev Genzan!', 'Hakuouki Movie 2: Shikon Soukyuu', 'Heikousen', 'IDOLiSH7', 'Karakai Jouzu no Takagi-san', 'Kuroko no Basket 2nd Season NG-shuu', \"Kyoukai no Kanata Movie 1: I'll Be Here - Kako-hen\", 'Macross Plus Movie Edition', 'Akagami no Shirayuki-hime: Nandemonai Takaramono, Kono Page', 'Akage no Anne', 'Aoi Bungaku Series', 'BanG Dream! 5th Anniversary Animation: CiRCLE Thanks Party!', 'Bishoujo Senshi Sailor Moon', 'D.Gray-man Hallow', 'Daicon Opening Animations', 'Detective Conan Movie 16: The Eleventh Striker', 'Dragon Ball Kai', 'Gakkou no Kaidan', 'Girls & Panzer: Kore ga Hontou no Anzio-sen Desu!', 'Hanasakeru Seishounen', 'Hourou Musuko', 'Joshikousei no Mudazukai', 'Jujutsu Kaisen', 'Little Busters!: EX', 'Macross Plus', 'Nurarihyon no Mago OVA', 'One Punch Man: Road to Hero', 'Panty & Stocking with Garterbelt', 'Shingeki no Kyojin: Chronicle', 'Shirobako Movie', 'Turn A Gundam', 'Uramichi Oniisan', 'Mobile Suit Gundam Wing', 'One Punch Man Specials', 'Princess Principal', 'Princess Principal: Crown Handler Movie 2', 'Seitokai Yakuindomo*', 'Shingeki no Kyojin Movie 1: Guren no Yumiya', 'Soukou Kihei Votoms', 'Tenshi no Tamago', 'Urusei Yatsura', 'Ani ni Tsukeru Kusuri wa Nai! 3', 'Baka to Test to Shoukanjuu Ni!', 'BanG Dream! Film Live', 'Bishoujo Senshi Sailor Moon Eternal Movie 2', 'Bishoujo Senshi Sailor Moon R', 'Bishoujo Senshi Sailor Moon R: The Movie', 'Death Note: Rewrite', 'Gate: Jieitai Kanochi nite, Kaku Tatakaeri', 'JoJo no Kimyou na Bouken: Phantom Blood', 'Koutetsujou no Kabaneri Movie 3: Unato Kessen', 'Kuroko no Basket Movie 2: Winter Cup - Namida no Saki e', 'Ansatsu Kyoushitsu 2nd Season: Kagaijugyou-hen', 'BanG Dream! Movie: Episode of Roselia - I: Yakusoku', 'Binbougami ga!', 'Break Blade 6: Doukoku no Toride', 'Enen no Shouboutai', 'Hayate no Gotoku!!', 'Ichigo Mashimaro Encore', 'Ichigo Mashimaro OVA', 'Kami nomi zo Shiru Sekai: Tenri-hen', 'Keroro Gunsou', 'Kill la Kill Specials', 'Kino no Tabi: The Beautiful World - Byouki no Kuni - For You', 'Kuroko no Basket Movie 1: Winter Cup - Kage to Hikari', 'Macross F: Close Encounter - Deculture Edition', 'Muumindani no Suisei', 'Saint Seiya: Meiou Hades Juuni Kyuu-hen - Yomigaerishi Gold Saint-tachi no Shinwa', 'Seikai no Senki', 'Sekaiichi Hatsukoi', 'Senpai ga Uzai Kouhai no Hanashi', 'Seto no Hanayome', 'Shigatsu wa Kimi no Uso: Moments', 'Shuumatsu Nani Shitemasu ka? Isogashii Desu ka? Sukutte Moratte Ii Desu ka?', 'Uchuu Kaizoku Captain Herlock', 'Yuru Yuri,', 'Manga de Wakaru! Fate/Grand Order', 'Mitsudomoe Zouryouchuu!', 'Pandora Hearts', 'Shoukoujo Sara', 'Space Cobra', 'Tenkuu no Escaflowne', 'Toaru Kagaku no Railgun', 'Tong Ling Fei', 'Yuuki Yuuna wa Yuusha de Aru: Washio Sumi no Shou', 'Yuuseiboushi', '5-toubun no Hanayome', 'Aria the Animation', 'Bishoujo Senshi Sailor Moon S: Kaguya-hime no Koibito', 'Bokura wa Minna Kawai-sou', \"Chi's Sweet Home\", 'Detective Conan Movie 17: Private Eye in the Distant Sea', 'Durarara!!x2 Shou: Watashi no Kokoro wa Nabe Moyou', 'Fruits Basket', 'Ghost (Music)', 'Giovanni no Shima', 'Kakkou no Iinazuke', 'Kami nomi zo Shiru Sekai', 'Kanojo to Kanojo no Neko: Everything Flows', 'Kengan Ashura Part 2', 'Kidou Keisatsu Patlabor: On Television', 'Kuroko no Basket 3rd Season NG-shuu', 'Kuroshitsuji', '3D Kanojo: Real Girl 2nd Season', 'ACCA: 13-ku Kansatsu-ka', 'Arslan Senki (TV)', 'Detective Conan Movie 21: The Crimson Love Letter', 'Dragon Ball Kai (2014)', 'Drifters: Special Edition', 'Full Metal Panic! The Second Raid: Wari to Hima na Sentaichou no Ichinichi', 'Hachimitsu to Clover Specials', 'Hakumei to Mikochi', 'Heion Sedai no Idaten-tachi', 'InuYasha Movie 2: Kagami no Naka no Mugenjo', 'Kakushigoto Movie', 'Kimi to Boku.', 'Kuroko no Basket NG-shuu', 'Minami-ke', 'Mousou Dairinin', 'Naruto: Shippuuden Movie 6 - Road to Ninja', 'Nejimaki Seirei Senki: Tenkyou no Alderamin', 'Pokemon XY&Z', 'Seikai no Senki III', 'Sexy Commando Gaiden: Sugoi yo!! Masaru-san', 'Shin Mazinger Shougeki! Z-hen', 'Tsuritama', 'Minami-ke Tadaima', \"Mobile Suit Gundam: Char's Counterattack\", 'Poyopoyo Kansatsu Nikki', 'Rilakkuma to Kaoru-san', 'Seikai no Monshou', 'Sidonia no Kishi', 'Slam Dunk: Hoero Basketman-damashii! Hanamichi to Rukawa no Atsuki Natsu', 'Working!!', 'Yowamushi Pedal: New Generation', 'Yuuki Yuuna wa Yuusha de Aru: Yuusha no Shou', 'Aggressive Retsuko (ONA)', 'Arashi no Yoru ni', 'Bokura wa Minna Kawai-sou: Hajimete no', 'Bounen no Xamdou', 'Bungou Stray Dogs: Hitori Ayumu', 'D4DJ: First Mix', 'Fairy Tail (2014)', 'Hai to Gensou no Grimgar', 'Inuyashiki', 'Junjou Romantica 3', 'Kindaichi Shounen no Jikenbo Returns 2nd Season', 'Ao Ashi', 'Ao Haru Ride', 'Cardcaptor Sakura: Clear Card-hen', 'Code Geass: Hangyaku no Lelouch II - Handou', 'Daa! Daa! Daa!', 'Flip Flappers', 'Isekai Shokudou 2', 'K: Missing Kings', 'Kokoro Yohou', 'Kyou kara Maou!', 'Machikado Mazoku', 'Maria-sama ga Miteru: Haru', 'Natsume Yuujinchou: Nyanko-sensei to Hajimete no Otsukai', 'Ojamajo Doremi Dokkaan!', 'Overlord Movie 2: Shikkoku no Eiyuu', 'Ranma ½ Super', 'Shinigami Bocchan to Kuro Maid', 'Tiger & Bunny 2', 'Nanatsu no Taizai: Imashime no Fukkatsu', 'Piano no Mori', 'R.O.D: Read or Die', 'Servant x Service', 'Shingeki no Bahamut: Genesis', 'Shoujo☆Kageki Revue Starlight', 'Tenchi Muyou! Ryououki 2nd Season', 'Tian Bao Fuyao Lu 2nd Season', 'Uchuu Senkan Yamato 2202: Ai no Senshi-tachi', 'Utawarerumono', 'White Album 2', 'AKB0048: Next Stage', 'Break Blade 1: Kakusei no Toki', 'Detective Conan Movie 10: Promo Special', 'Digimon Adventure tri. 3: Kokuhaku', 'Free! Eternal Summer', 'Free!: FrFr - Short Movie', 'Genshiken', 'Genshiken OVA', 'Hana yori Dango', 'Hug tto! Precure♡Futari wa Precure Movie: All Stars Memories', 'Huyao Xiao Hongniang: Yue Hong', 'Ichigo Mashimaro', 'Inazuma Eleven', 'Initial D Battle Stage 2', 'Jungle wa Itsumo Hare nochi Guu Final', 'Kimagure Orange☆Road: Ano Hi ni Kaeritai', 'Koyomimonogatari', 'Kyoukai no Kanata: Shinonome', 'Luo Xiao Hei Zhan Ji', 'Lupin III', 'Mahoujin Guruguru', 'Aggressive Retsuko', 'Akudama Drive', 'Blood+', 'Bokura no', 'Cardcaptor Sakura Movie 1', 'Chrno Crusade', 'Da Wang Rao Ming', 'Digimon Tamers', 'Eikoku Koi Monogatari Emma', 'Free! Movie 2: Timeless Medley - Yakusoku', 'Fune wo Amu', 'Gabriel DropOut Specials', 'Gakuen Alice', 'Hakkenden: Touhou Hakken Ibun 2nd Season', 'Hakuouki Movie 1: Kyoto Ranbu', 'Hellsing: Digest for Freaks', 'High School Fleet Movie', 'Ima, Soko ni Iru Boku', 'Jigoku Shoujo Mitsuganae', 'K: Seven Stories Movie 5 - Memory of Red - Burn', 'Layton Kyouju to Eien no Utahime', 'Mahou Shoujo Lyrical Nanoha StrikerS', 'Mob Psycho 100: Dai Ikkai Rei toka Soudansho Ian Ryokou - Kokoro Mitasu Iyashi no Tabi', 'Nezha Zhi Mo Tong Jiang Shi', 'Non Non Biyori: Okinawa e Ikukoto ni Natta', 'Owari no Seraph: Nagoya Kessen-hen', 'Pokemon Movie 01: Mewtwo no Gyakushuu', 'Prison School', 'Rozen Maiden: Träumend', 'Tegamibachi', 'Tenchi Muyou! Ryououki', 'Tennis no Ouji-sama: Another Story - Kako to Mirai no Message', 'Toaru Hikuushi e no Tsuioku', 'Top wo Nerae 2! Diebuster', 'Trapp Ikka Monogatari', 'Wu Dong Qian Kun 2nd Season', 'Nurarihyon no Mago', 'Orange', \"Persona 3 the Movie 2: Midsummer Knight's Dream\", 'Puparia', 'Rokuhou-dou Yotsuiro Biyori', 'Ryuu to Sobakasu no Hime', 'Shin Tennis no Ouji-sama OVA vs. Genius 10', 'Shoujo Kakumei Utena: Adolescence Mokushiroku', 'Shoujo☆Kageki Revue Starlight: Rondo Rondo Rondo', 'Soredemo Sekai wa Utsukushii', 'Tamayura: Sotsugyou Shashin Part 1 - Kizashi', 'Tsurune: Kazemai Koukou Kyuudoubu', 'Diamond no Ace: Second Season OVA', 'Evangelion: 3.0 You Can (Not) Redo', 'Full Metal Panic!', 'Fushigi Yuugi', 'Gakkougurashi!', 'Hanma Baki: Son of Ogre', 'Jigoku Shoujo', 'Kishibe Rohan wa Ugokanai', 'Kuroko no Basket: Mou Ikkai Yarimasen ka', 'Ajin 2nd Season', 'BanG Dream! Garupa☆Pico Fever!', 'Bishoujo Senshi Sailor Moon SuperS', 'Byousoku 5 Centimeter', 'Chuuka Ichiban!', 'Date A Bullet: Nightmare or Queen', 'Doraemon (2005)', 'Free! Dive to the Future', 'Hakuouki: Sekkaroku', 'Heartcatch Precure! Movie: Hana no Miyako de Fashion Show... Desu ka!?', 'Hourou Musuko Specials', 'Kekkai Sensen', 'Kekkaishi (TV)', 'Kimi to, Nami ni Noretara', 'Konnichiwa Anne: Before Green Gables', 'Love Live! Sunshine!! The School Idol Movie: Over the Rainbow', 'Majo Minarai wo Sagashite', 'One Piece: Episode of Luffy - Hand Island no Bouken', 'Overlord Movie 1: Fushisha no Ou', 'Ranma ½: Yomigaeru Kioku', 'Romeo x Juliet', 'Ruru-chan no Jisatsu Haishin', 'Soukyuu no Fafner: Dead Aggressor - Exodus 2nd Season', 'The iDOLM@STER', 'Uchuu Kyoudai: Number Zero', 'Zhen Hun Jie', 'Master Keaton', 'Mobile Suit Gundam Unicorn RE:0096', 'Momo e no Tegami', 'Nisekoi', 'Osomatsu-san 2nd Season', 'Persona 3 the Movie 3: Falling Down', 'Re:Zero kara Hajimeru Isekai Seikatsu - Hyouketsu no Kizuna', 'The iDOLM@STER Movie: Kagayaki no Mukougawa e!', 'Towa no Quon 6: Towa no Quon', 'Ashita no Nadja', 'Asobi Asobase Specials', 'Black Jack (TV)', 'Bleach Movie 4: Jigoku-hen', 'Chibi Maruko-chan', 'Detective Conan Movie 09: Promo Special', 'Diamond no Ace OVA', 'Doupo Cangqiong 2nd Season', 'Ga-Rei: Zero', 'Juubee Ninpuuchou', 'Kareshi Kanojo no Jijou', 'Kino no Tabi: The Beautiful World - The Animated Series', 'Majin Tantei Nougami Neuro', 'Air Gear: Kuro no Hane to Nemuri no Mori - Break on the Sky', 'Ao no Exorcist Movie', 'Baka to Test to Shoukanjuu: Matsuri', 'Boku no Hero Academia the Movie 1: Futari no Hero', 'Code Geass: Hangyaku no Lelouch Special Edition - Black Rebellion', 'Detective Conan: Black History', 'Dragon Quest: Dai no Daibouken (TV)', 'Fairy Tail', 'Fanren Xiu Xian Chuan: Fanren Feng Qi Tian Nan', 'GetBackers', 'Higashi no Eden Movie II: Paradise Lost', 'Hoshiai no Sora', 'Kara no Kyoukai 1: Fukan Fuukei', 'Log Horizon 2nd Season', 'Noein: Mou Hitori no Kimi e', 'Ore wo Suki nano wa Omae dake ka yo: Oretachi no Game Set', 'Penguin Highway', 'Runway de Waratte', 'Sengoku Basara Movie: The Last Party', 'Senjou no Valkyria', 'Senki Zesshou Symphogear AXZ', 'Shouwa Genroku Rakugo Shinjuu: Yotarou Hourou-hen', 'Tsubasa Chronicle 2nd Season', 'Tsurezure Children', 'Tunshi Xingkong 2nd Season', 'Utawarerumono Specials', 'Yahari Ore no Seishun Love Comedy wa Machigatteiru. OVA', 'Yoru wa Honoka', 'New Game!', 'Ongaku', 'Radiant 2nd Season', \"Raison d'être\", 'Strike Witches Movie', 'Sword Art Online: Alicization - War of Underworld', 'Tales of Vesperia: The First Strike', 'To LOVE-Ru Darkness 2nd Specials', 'Uchuu Senkan Yamato', 'Ushio to Tora (TV)', 'World Trigger', 'Yamada-kun to 7-nin no Majo (TV)', 'Yondemasu yo, Azazel-san.', 'Yowamushi Pedal Movie', 'Yowamushi Pedal: Glory Line', 'Yume-iro Pâtissière SP Professional', 'Yuru Yuri', 'Ani ni Tsukeru Kusuri wa Nai! 4', 'Ao Haru Ride OVA', 'BanG Dream! 2nd Season', 'Detective Conan: Conan vs. Kid - Shark & Jewel', 'Digimon Adventure Movie', 'Fate/Grand Order: Shinsei Entaku Ryouiki Camelot 2 - Paladin; Agateram', 'Fukigen na Mononokean Tsuzuki', 'Full Metal Panic! Invisible Victory', 'Gokinjo Monogatari', 'Hakuouki: Hekketsuroku', 'Higashi no Eden: Air Communication', 'Hybrid Child', 'K: Return of Kings', 'Kino no Tabi: The Beautiful World - Tou no Kuni - Free Lance', 'Lupin III: Episode 0 \"First Contact\"', 'Mahou Sensei Negima!: Mou Hitotsu no Sekai', 'Aa! Megami-sama!: Tatakau Tsubasa', 'Angel Beats! Specials', 'Arakawa Under the Bridge', \"Boku no Hero Academia the Movie 3: World Heroes' Mission\", 'Demi-chan wa Kataritai', 'Donten ni Warau Gaiden: Shukumei, Soutou no Fuuma', 'Dungeon ni Deai wo Motomeru no wa Machigatteiru Darou ka', 'Durarara!!x2 Ketsu: Dufufufu!!', 'Garo Movie: Divine Flame', 'Gugure! Kokkuri-san', 'Hataraku Saibou (TV)', 'Higashi no Eden Movie I: The King of Eden', 'Hinomaruzumou', 'Kami no Tou', 'Kara no Kyoukai Remix: Gate of Seventh Heaven', 'Love Live! Sunshine!! 2nd Season', 'Mobile Suit Gundam 00 Special Edition', 'Moyashimon', 'Net-juu no Susume', 'No.6', 'Nodame Cantabile: Finale OVA', 'Saint Seiya: Meiou Hades Elysion-hen', 'Sakamoto Desu ga?', 'Seitokai Yakuindomo', 'Shakugan no Shana II (Second)', 'Sora no Otoshimono: Tokeijikake no Angeloid', 'Sword Art Online Movie: Ordinal Scale', 'Tada-kun wa Koi wo Shinai', 'Tensura Nikki: Tensei shitara Slime Datta Ken', 'Yama no Susume Third Season', 'Minami-ke Okaeri', 'Mini Dragon Specials', 'Mobile Fighter G Gundam', 'Mutsu Enmei Ryuu Gaiden: Shura no Toki', 'Nijuu Mensou no Musume', 'Nobunaga Concerto', 'Patapata Hikousen no Bouken', 'Planetarian: Chiisana Hoshi no Yume', 'Re:Zero kara Hajimeru Isekai Seikatsu - Memory Snow', 'Shounen Onmyouji', 'Slam Dunk: Shouhoku Saidai no Kiki! Moero Sakuragi Hanamichi', 'Sword Art Online: Alicization', 'Tamayura: More Aggressive', 'Uchiage Hanabi', 'Uchuu Patrol Luluco', 'Un-Go: Inga-ron', 'Wakakusa Monogatari: Nan to Jo-sensei', 'Yama no Susume Second Season', 'Aa! Megami-sama!: Sorezore no Tsubasa', 'Bakuten!!', 'Basilisk: Kouga Ninpou Chou', 'Black Jack 21', 'Chuunibyou demo Koi ga Shitai! Ren', 'Dragon Ball Z Movie 12: Fukkatsu no Fusion!! Gokuu to Vegeta', 'Free! Movie 1: Timeless Medley - Kizuna', 'Free!: Dive to the Future - Soushun no Build-up!', 'Gensoumaden Saiyuuki', 'Hakumei no Tsubasa', 'Hakumei to Mikochi: Neji to Bed to Irori to Bakuchi', 'Hokuto no Ken 2', 'Hokuto no Ken: Raoh Gaiden Gekitou-hen', 'Hungry Heart: Wild Striker', 'Initial D Battle Stage', 'Inu x Boku SS Special', 'InuYasha Movie 1: Toki wo Koeru Omoi', 'Itai no wa Iya nano de Bougyoryoku ni Kyokufuri Shitai to Omoimasu.', 'Aa! Megami-sama! Movie', 'Bishoujo Senshi Sailor Moon SuperS: Sailor 9 Senshi Shuuketsu! Black Dream Hole no Kiseki', 'Darker than Black: Kuro no Keiyakusha - Sakura no Hana no Mankai no Shita', 'Date A Bullet: Dead or Bullet', 'Doraemon Movie 07: Nobita to Tetsujin Heidan', 'Dragon Ball Z Special 1: Tatta Hitori no Saishuu Kessen', 'Fairy Tail: Final Series', 'Giant Killing', 'Ginga Tetsudou 999 (Movie)', 'Hello! Lady Lynn', 'Heya Camp△: Sauna to Gohan to Sanrin Bike', 'InuYasha Movie 4: Guren no Houraijima', 'Jigoku Sensei Nube', 'Kaguya-sama wa Kokurasetai: Tensai-tachi no Renai Zunousen OVA', 'Kaitou Saint Tail', 'Katekyo Hitman Reborn! Vongola Family Soutoujou! Vongola Shiki Shuugakuryokou, Kuru!!', 'Kidou Keisatsu Patlabor the Movie', 'Kidou Keisatsu Patlabor: New OVA', 'Kuroko no Basket: Baka ja Katenai no yo!', 'Majo no Tabitabi', 'Mashiro no Oto', 'Mitsudomoe', 'Mitsudomoe: Oppai Ippai Mama Genki', 'One Piece Movie 04: Dead End no Bouken', 'Over Drive', 'Perrine Monogatari', 'Persona 3 the Movie 1: Spring of Birth', 'Re:Creators', 'Rurouni Kenshin: Meiji Kenkaku Romantan - Ishinshishi e no Chinkonka', 'Shin Tennis no Ouji-sama', 'Shoubushi Densetsu Tetsuya', 'Shoukoku no Altair', 'To LOVE-Ru Darkness OVA', 'Toaru Majutsu no Index II', 'Tonari no Seki-kun', 'Towa no Quon 4: Guren no Shoushin', 'Yondemasu yo, Azazel-san. Z', 'Yuru Camp△ Specials', 'Yuuki Yuuna wa Yuusha de Aru: Washio Sumi no Shou 1 - Tomodachi', 'Mekakucity Records', 'Muteki-kyuu*Believer / Mirai Harmony', 'Pretty Rhythm: Rainbow Live', 'Princess Principal: Crown Handler Movie 1', 'R.O.D: The TV', 'Slam Dunk: Zenkoku Seiha Da! - Sakuragi Hanamichi', 'So Ra No Wo To', 'Taiho Shichau zo (TV)', 'Tian Bao Fuyao Lu', 'To LOVE-Ru Darkness 2nd OVA', 'Tokyo Autumn Session', 'Voy@ger', 'Xingchen Bian', 'Yao Shen Ji: Ying Yao Pian', 'Afro Samurai Movie', 'Aikatsu Stars!', 'Baka to Test to Shoukanjuu', 'Boku no Hero Academia the Movie 2: Heroes:Rising - Epilogue Plus - Yume wo Genjitsu ni', 'Candy Candy', 'Densetsu no Yuusha no Densetsu', 'Durarara!!x2 Ten: Onoroke Chakapoko', 'Fugou Keiji: Balance:Unlimited', 'Haikyuu!! Tokushuu! Haru-kou Volley ni Kaketa Seishun', 'Hataraku Saibou Black (TV)', 'Hibike! Euphonium Movie 1: Kitauji Koukou Suisougaku-bu e Youkoso', 'Hoshi wo Ou Kodomo', 'Huyao Xiao Hongniang: Wangquan Fugui', 'Ike! Ina-chuu Takkyuubu', 'Junjou Romantica', 'Kemono Friends', 'Kimagure Orange☆Road', 'Koutetsujou no Kabaneri Movie 2: Moeru Inochi', 'Liang Bu Yi', 'Lord El-Melloi II Sei no Jikenbo: Rail Zeppelin Grace Note Special', 'Love Live! Nijigasaki Gakuen School Idol Doukoukai', 'Amaama to Inazuma', 'Asobi Asobase: Cosplay Taikai/Otona no Watashi e', 'Cike Wu Liuqi Fanwai', 'D-Frag!', 'Denpa-teki na Kanojo', 'Drifters (OVA)', 'Fairy Tail Movie 2: Dragon Cry', 'Fate/kaleid liner Prisma☆Illya 3rei!!', 'Final Fantasy VII: Advent Children - Venice Film Festival Footage', 'Fugou Keiji: Balance:Unlimited', 'Fullmetal Alchemist: The Conqueror of Shamballa', 'Golgo 13 (TV)', 'Hayate no Gotoku!', 'Hello World', 'Heroic Age', 'Hidamari Sketch Specials', 'Journey: Taiko Arabia Hantou de no Kiseki to Tatakai no Monogatari', 'Kindaichi Shounen no Jikenbo Returns', 'Konjiki no Gash Bell!!', 'Koutetsujou no Kabaneri Movie 1: Tsudou Hikari', 'Kuroshitsuji: Sono Shitsuji, Kougyou', 'Mahou Shoujo Lyrical Nanoha: Detonation', 'Metropolis', 'Naruto: Shippuuden - Sunny Side Battle', 'Ojiisan no Lamp', 'Saki Achiga-hen: Episode of Side-A Specials', 'Sengoku Basara Ni', 'Shion no Ou', 'So Ra No Wo To Specials', 'The Big O', 'Toriko', 'Totsukuni no Shoujo', 'Tsubasa Chronicle', 'UFO Robo Grendizer', 'Mekakucity Days', 'Nanatsu no Taizai OVA', \"Ningen Shikkaku: Director's Cut-ban\", 'Shakugan no Shana III (Final)', 'Special A', 'Yondemasu yo, Azazel-san. (TV)', 'Aa! Megami-sama! (TV) Specials', 'Ao no Exorcist', 'Baki: Dai Raitaisai-hen', 'Casshern Sins', 'Da Yu Hai Tang (Movie)', 'Doraemon Movie 27: Nobita no Shin Makai Daibouken - 7-nin no Mahoutsukai', 'Dragon Ball Kai: Mirai ni Heiwa wo! Goku no Tamashii yo Eien ni', 'Fantastic Children', 'Fushigi no Umi no Nadia', 'Girls & Panzer', 'Hollowness', 'Initial D: Project D to the Next Stage - Project D e Mukete', 'Irozuku Sekai no Ashita kara', 'Kakuriyo no Yadomeshi', 'Karakai Jouzu no Takagi-san: Water Slide', 'Kiniro Mosaic: Pretty Days', 'Macross Zero', 'Aa! Megami-sama!: Sorezore no Tsubasa Specials', 'Area 88', 'Arslan Senki (TV): Fuujin Ranbu', 'City Hunter: Goodbye My Sweetheart', 'Dance Dance Danseur', 'Deaimon', 'Detective Conan Magic File 2: Kudou Shinichi - The Case of the Mysterious Wall and the Black Lab', 'Doupo Cangqiong Specials', 'Elfen Lied', 'Fate/Grand Order', 'Flying Witch', 'Gokushufudou Part 2', 'Golden Kamuy 2nd Season OVA', 'Happy Party Train', 'Hello!! Kiniro Mosaic', 'KanColle Movie', 'Kappa no Coo to Natsuyasumi', 'Konohana Kitan', 'Kore wa Zombie Desu ka? of the Dead', 'Kyoukaisenjou no Horizon II', 'Magic Knight Rayearth II', 'Momoko, Kaeru no Uta ga Kikoeru yo.', 'One Piece: Heart of Gold', 'Ranma ½: Akumu! Shunmin Kou', 'Rikei ga Koi ni Ochita no de Shoumei shitemita. Heart', 'Shin Tennis no Ouji-sama Specials', 'Shiroi Suna no Aquatope', 'Towa no Quon 5: Souzetsu no Raifuku', 'Wakaokami wa Shougakusei! Movie', 'Yaoguai Mingdan 2nd Season', 'Zombieland Saga', 'Major 2nd (TV) 2nd Season', 'Minami-ke Betsubara', 'Oban Star-Racers', 'Ouritsu Uchuugun: Honneamise no Tsubasa', 'Paniponi Dash!: Danjite Okonaeba Kishin mo Kore wo Saku', 'Persona 4 the Animation', 'Precure All Stars Movie DX3: Mirai ni Todoke! Sekai wo Tsunagu☆Nijiiro no Hana', 'Saenai Heroine no Sodatekata', 'Sarazanmai', 'Seishun Buta Yarou wa Bunny Girl Senpai no Yume wo Minai Picture Drama', 'Shinchou Yuusha: Kono Yuusha ga Ore Tueee Kuse ni Shinchou Sugiru', 'Shingeki no Kyojin Season 3 Specials', 'Sora no Aosa wo Shiru Hito yo', 'Tanoshii Muumin Ikka Bouken Nikki', 'Tasogare Otome x Amnesia: Taima Otome', 'Tennis no Ouji-sama: Another Story II - Ano Toki no Bokura', 'The Perfect World', 'Yamiyo', 'Yawara!', 'Yoru no Kuni', 'Zipang', 'Aharen-san wa Hakarenai', 'Air Gear', 'Bleach Movie 3: Fade to Black - Kimi no Na wo Yobu', 'Bokura Mada Underground', 'Chuunibyou demo Koi ga Shitai!: Kirameki no... Slapstick Noel', 'Demi-chan wa Kataritai: Demi-chan no Natsuyasumi', 'Donten ni Warau', 'Doupo Cangqiong 2nd Season Specials', 'Gochuumon wa Usagi Desu ka?', 'Grisaia no Kajitsu', 'Gundam Build Divers Re:Rise 2nd Season', 'Itte.', 'Kamisama no Memochou', 'Kidou Senkan Nadesico', 'Koi wa Ameagari no You ni', 'Ling Qi 2', 'Little Busters!', 'Luo Xiao Hei Zhan Ji: Zhongsheng Zhi Men', 'Madang-eul Naon Amtalg', 'Another', 'Bai She: Yuan Qi', 'Be-Bop Highschool', 'Bishoujo Senshi Sailor Moon Eternal Movie 1', 'Detective Conan OVA 04: Conan and Kid and Crystal Mother', 'Doraemon Movie 26: Nobita no Kyouryuu 2006', 'Furiko', 'Haikara-san ga Tooru Movie 1: Benio, Hana no 17-sai', 'Hanbun no Tsuki ga Noboru Sora', 'Hellsing', 'Heppoko Jikken Animation Excel♥Saga', 'Hetalia World Series', 'Hetalia: The Beautiful World Specials', 'High School DxD New', 'Hime-chan no Ribbon', 'Hitoribocchi no Marumaru Seikatsu', 'Kaichou wa Maid-sama!: Omake dayo!', 'Kaleido Star: Aratanaru Tsubasa - Extra Stage', 'Koukaku Kidoutai Arise: Ghost in the Shell - Border:2 Ghost Whispers', 'Kumo no Mukou, Yakusoku no Basho', 'Lady Lady!!', 'Nanbaka 2', 'Owari no Seraph', 'Persona 4 the Animation: No One is Alone', 'Saint☆Oniisan', 'Tensei shitara Slime Datta Ken OVA', 'Tonari no Kaibutsu-kun', 'Waga Seishun no Arcadia', 'Zettai Karen Children: The Unlimited - Hyoubu Kyousuke', 'Mieruko-chan', 'Mondaiji-tachi ga Isekai kara Kuru Sou Desu yo?', 'One Piece Movie 09: Episode of Chopper Plus - Fuyu ni Saku, Kiseki no Sakura', 'Otome Game no Hametsu Flag shika Nai Akuyaku Reijou ni Tensei shiteshimatta...', 'Psycho-Pass: Sinners of the System Case.2 - First Guardian', 'Sayonara Zetsubou Sensei Special', 'Shinryaku!? Ika Musume', 'Shokugeki no Souma: Ni no Sara OVA', 'Sora no Otoshimono: Forte', 'Totsukuni no Shoujo (2022)', 'Yozakura Quartet: Hana no Uta', 'Yozakura Quartet: Tsuki ni Naku', 'Yu☆Gi☆Oh! The Dark Side of Dimensions', 'Acchi Kocchi', 'Aikatsu! Movie', 'Amagi Brilliant Park', 'Ani ni Tsukeru Kusuri wa Nai!', 'Bobobo-bo Bo-bobo', 'Charlotte: Tsuyoimono-tachi', 'Code Geass: Boukoku no Akito 2 - Hikisakareshi Yokuryuu', 'Detective Conan Magic File 4: Osaka Okonomiyaki Odyssey', 'Fairy Tail OVA', 'Fullmetal Alchemist: Brotherhood - 4-Koma Theater', 'Hetalia World Series Specials', 'Hokuto no Ken Zero: Kenshirou Den', 'Hoozuki no Reitetsu 2nd Season OVA', 'Itsudatte Bokura no Koi wa 10 cm Datta.', 'Kara no Kyoukai 6: Boukyaku Rokuon', 'Acchi Kocchi: Place=Princess', 'Ajin Part 1: Shoudou', 'Akame ga Kill!', 'Angel Densetsu', 'Carnival Phantasm EX Season', 'Genjitsu Shugi Yuusha no Oukoku Saikenki Part 2', 'Gintama: Monster Strike-hen', 'Grappler Baki: Saidai Tournament-hen', 'Haiyore! Nyaruko-san F', 'Hibike! Euphonium: Kakedasu Monaka', 'Ishuzoku Reviewers', 'Joshiraku', 'Kamichu! Specials', 'Kara no Kyoukai Movie: Mirai Fukuin - Extra Chorus', 'Oushitsu Kyoushi Heine', 'Psycho-Pass 3', 'Rakudai Kishi no Cavalry', 'Re:Zero kara Hajimeru Isekai Seikatsu - Memory Snow - Manner Movie', 'Sekaiichi Hatsukoi: Propose-hen', 'Shakugan no Shana', 'Shigofumi', 'Shinryaku!! Ika Musume', 'Sugar Sugar Rune', 'Suisei no Gargantia', 'Suteki Desu wa, Sakura-chan! Tomoyo no Cardcaptor Sakura Katsuyaku Video Nikki!', 'Suzumiya Haruhi-chan no Yuuutsu', \"Tales of Symphonia The Animation: Tethe'alla-hen\", 'The iDOLM@STER: 765 Pro to Iu Monogatari', 'Yeon-ae Halujeon 2', 'Yowamushi Pedal: Spare Bike', 'Yu☆Gi☆Oh! Duel Monsters', 'Marmalade Boy', 'Miira no Kaikata', 'On Your Mark', 'One Punch Man 2nd Season', 'PriPara', 'Saki', 'Samurai 7', 'Senki Zesshou Symphogear G', 'Shokugeki no Souma: San no Sara - Kyokuseiryou no Erina', 'Star☆Twinkle Precure', 'Sword Art Online: Alicization - War of Underworld 2nd Season', 'Taiho Shichau zo', 'Tennis no Ouji-sama Movie 2: Eikokushiki Teikyuu Shiro Kessen!', 'Tennis no Ouji-sama: Atobe kara no Okurimono - Kimi ni Sasageru Tennis Prince Matsuri', 'To LOVE-Ru Darkness 2nd', 'Toaru Kagaku no Railgun: Misaka-san wa Ima Chuumoku no Mato Desu kara', 'Tokyo Ravens', 'Tsugu Tsugumomo', 'Uchuu no Kishi Tekkaman Blade', 'Wangan Midnight', 'Wu Geng Ji Zhi Tianqi', 'Zero no Tsukaima F', 'Angel Beats!: Another Epilogue', 'Chouyaku Hyakuninisshu: Uta Koi.', 'Days: Touin Gakuen-sen!', 'Digimon Adventure tri. 2: Ketsui', \"Doggy God's Street\", 'Doraemon Movie 40: Nobita no Shin Kyouryuu', 'Fate/stay night: Unlimited Blade Works 2nd Season - Sunny Day', 'Gabriel DropOut', 'Hetalia: The Beautiful World', 'Hokuto no Ken: Raoh Gaiden Junai-hen', 'Honzuki no Gekokujou: Shisho ni Naru Tame ni wa Shudan wo Erandeiraremasen OVA', 'Huyao Xiao Hongniang: Beishan Yaodi', 'Ie Naki Ko Remy Specials', 'Kamikaze Kaitou Jeanne', 'Kishuku Gakkou no Juliet', 'Koi ni Naritai Aquarium', 'Magic Knight Rayearth', 'Mahouka Koukou no Rettousei Movie: Hoshi wo Yobu Shoujo', 'Aishiteruze Baby★★', 'Ano Ko Secret', 'Chio-chan no Tsuugakuro', 'Chuunibyou demo Koi ga Shitai! Ren: The Rikka Wars', 'Cider no You ni Kotoba ga Wakiagaru', 'City Hunter Movie: Shinjuku Private Eyes', 'CLAMP in Wonderland 2', 'Danganronpa 3: The End of Kibougamine Gakuen - Kibou-hen', 'Darker than Black: Ryuusei no Gemini', 'Digimon Adventure tri. 1: Saikai', 'Dungeon ni Deai wo Motomeru no wa Machigatteiru Darou ka III', 'Fanren Xiu Xian Chuan: Fanren Feng Qi Tian Nan Er', 'Future GPX Cyber Formula Sin', 'Gokudou-kun Manyuuki', 'Grappler Baki (TV)', 'Hakuouki: Reimeiroku', 'Hidamari Sketch', 'Itazura na Kiss', 'Junjou Romantica Special', 'K', 'Kiniro no Corda: Primo Passo - Hitonatsu no Encore', 'Kore wa Zombie Desu ka? of the Dead: Hai, Minotake ni Attemasu', 'Koukaku Kidoutai Arise: Ghost in the Shell - Border:1 Ghost Pain', 'Koukaku Kidoutai: Shin Movie', 'Kumo Desu ga, Nani ka?', 'Mahou Shoujo Lyrical Nanoha: Reflection', 'Mahoutsukai Precure! Movie: Kiseki no Henshin! Cure Mofurun!', 'Mardock Scramble: The First Compression', 'Mirai Nikki (TV)', 'Mugen no Ryvius', 'Naruto: Shippuuden Movie 5 - Blood Prison', 'Neo-Aspect', 'Neon Genesis Evangelion: Death & Rebirth', 'Nodame Cantabile OVA', 'Orange: Mirai', 'Otome Youkai Zakuro', 'Pokemon Generations', \"Ryman's Club\", 'Shonan Junai Gumi!', 'Tegamibachi: Hikari to Ao no Gensou Yawa', 'Tenshi na Konamaiki', 'To LOVE-Ru Darkness', 'Toaru Majutsu no Index Movie: Endymion no Kiseki', 'Tonari no Seki-kun Specials', 'Toradora! Recap', 'Toshokan Sensou', 'Uchuu Senkan Yamato 2', 'Xingchen Bian: Xingchen Yao Hai', 'Xue Ying Ling Zhu 2nd Season', 'Oki ni Mesu mama', 'Omoide Poroporo', 'Paniponi Dash!', 'Salaryman Kintarou', 'Senyuu. 2', 'Simoun', 'Soredemo Machi wa Mawatteiru', 'Tales of Symphonia The Animation: Sekai Tougou-hen', 'Tetsuwan Birdy Decode', 'Top wo Nerae! & Top wo Nerae 2! Gattai Movie!!', 'Toradora!: Bentou no Gokui', 'Towa no Quon 3: Mugen no Renza', 'Urusei Yatsura Movie 5: Kanketsu-hen', 'Xiao Lu He Xiao Lan', '5-fun de Wakaru: Violet Evergarden', 'Ano Natsu de Matteru', 'Boku no Hero Academia 5th Season', 'Bokutachi no Remake', 'Brave Story', 'Detective Conan Movie 11: Jolly Roger in the Deep Azure', 'Donten ni Warau Gaiden: Ketsubetsu, Yamainu no Chikai', 'Dungeon ni Deai wo Motomeru no wa Machigatteiru Darou ka Movie: Orion no Ya', 'Genshiken Nidaime', 'Guilty Crown', 'Idoly Pride', 'K: Seven Stories Movie 4 - Lost Small World - Ori no Mukou ni', 'Kengan Ashura', 'Koi wa Sekai Seifuku no Ato de', 'Koukaku Kidoutai Arise: Ghost in the Shell - Border:4 Ghost Stands Alone', 'Lady Jewelpet', 'Mahouka Koukou no Rettousei', 'Ansatsu Kyoushitsu: Deai no Jikan', 'Bleach Movie 1: Memories of Nobody', 'Bleach Movie 2: The DiamondDust Rebellion - Mou Hitotsu no Hyourinmaru', 'Boruto: Naruto the Movie', 'Chou Denji Machine Voltes V', 'Gallery Fake', 'Haha wo Tazunete Sanzenri', 'High School DxD BorN', 'High School DxD BorN: Yomigaeranai Fushichou', 'Kingsglaive: Final Fantasy XV', 'Kiniro no Corda: Primo Passo', 'Kuroshitsuji II Specials', 'Kyou kara Maou! R', 'Level E', 'Mai-HiME', 'Oshi ga Budoukan Ittekuretara Shinu', 'Puchi Pri*Yucie', 'Sayonara Zetsubou Sensei Jo: Zetsubou Shoujo Senshuu', 'Sayonara Zetsubou Sensei Jo: Zoku Zetsubou Shoujo Senshuu', 'Senki Zesshou Symphogear GX', 'Shingeki no Bahamut: Virgin Soul', 'Shinreigari', 'Shinryaku! Ika Musume', 'SSSS.Dynazenon', 'Sukitte Ii na yo.', 'Super Cub', 'Tamayura: More Aggressive - Tsuitachi dake no Shuugakuryokou, Nanode', 'Tenchi Muyou!', 'Tensai Ouji no Akaji Kokka Saisei Jutsu', 'Xian Wang de Richang Shenghuo 2', 'Zero no Tsukaima: Futatsuki no Kishi', 'Major 2nd (TV)', 'Mardock Scramble: The Third Exhaust', 'Medaka Box Abnormal', 'Micchiri Neko March', 'Mitsuboshi Colors', 'Mobile Suit Gundam Wing: Operation Meteor', 'Naruto: Shippuuden Movie 4 - The Lost Tower', 'Ranma ½: Kessen Tougenkyou! Hanayome wo Torimodose!', 'Re:Zero kara Hajimeru Isekai Seikatsu - Hyouketsu no Kizuna - Manner Movie', 'Rozen Maiden', 'Sakurako-san no Ashimoto ni wa Shitai ga Umatteiru', 'Tenchi Muyou! in Love', 'WWW.Working!!', 'Yamada-kun to 7-nin no Majo: Mou Hitotsu no Suzaku-sai', 'Youjo Senki: Sabaku no Pasta Daisakusen', 'Yowamushi Pedal: Re:ROAD', \"Yu☆Gi☆Oh! 5D's\", 'Ajin', 'Aoki Hagane no Arpeggio: Ars Nova Movie 1 - DC', 'Bai She II: Qing She Jie Qi', \"Boku no Hero Academia the Movie 3: World Heroes' Mission - Tabidachi\", 'Captain Tsubasa: Road to 2002', 'City Hunter: The Secret Service', 'Cowboy Bebop: Yose Atsume Blues', 'Detective Conan Magic File 3: Shinichi and Ran - Memories of Mahjong Tiles and Tanabata', 'Doraemon Movie 33: Nobita no Himitsu Dougu Museum', 'Fukigen na Mononokean', 'Gantz:O', 'Goblin Slayer', 'Hakuouki OVA', 'Hal', 'Higurashi no Naku Koro ni Rei', 'Ikoku Meiro no Croisée The Animation', 'Isekai Izakaya: Koto Aitheria no Izakaya Nobu', 'Jewelpet Twinkle☆', 'Kemono Jihen', 'Keroro Gunsou Movie 3: Tenkuu Daikessen de Arimasu!', 'Mahou Sensei Negima!: Shiroki Tsubasa Ala Alba', 'Mahou Shoujo Lyrical Nanoha', 'Aikatsu!', 'Akazukin Chacha', 'Aldnoah.Zero', 'Amagami SS+ Plus', 'Aoki Densetsu Shoot!', 'Ayakashi: Japanese Classic Horror', 'Chobits', 'City Hunter: Kinkyuu Namachuukei!? Kyouakuhan Saeba Ryou no Saigo', 'Crayon Shin-chan Movie 10: Arashi wo Yobu Appare! Sengoku Daikassen', 'Dakaretai Otoko 1-i ni Odosarete Imasu.', 'Danganronpa 3: The End of Kibougamine Gakuen - Zetsubou-hen', 'Dragon Ball Super', 'Freedom', 'Future GPX Cyber Formula Zero', 'Gokusen', 'Hakkenden: Touhou Hakken Ibun', 'Houkago Teibou Nisshi', 'Huyao Xiao Hongniang: Qian Yan', 'Inu x Boku SS', 'Isekai Quartet', \"Jashin-chan Dropkick'\", 'Juan Siliang', 'Kimagure Orange☆Road OVA', 'Love Live! School Idol Project', 'Love Stage!!: Chotto ja Nakutte', 'Mobile Suit Gundam SEED: SEED Supernova - Tanekyara Gekijou', 'Nanatsu no Umi no Tico', 'New Game!: Watashi, Shain Ryokou tte Hajimete nano de...', 'Piano no Mori (TV) 2nd Season', 'Pokemon Black and White 2: Introduction Movie', 'Pokemon XY: Mega Evolution', 'Saki Zenkoku-hen', 'Shugo Chara!! Doki', 'Steins;Gate: Soumei Eichi no Cognitive Computing', 'Taiho Shichau zo: Second Season', 'Tanaka-kun wa Itsumo Kedaruge Specials', 'Tiger & Bunny Movie 1: The Beginning']\n"
     ]
    }
   ],
   "source": [
    "#creating a list with all anime names from the dataset \n",
    "list_anime_titles = anime_data['Name'].tolist()\n",
    "print(list_anime_titles)"
   ]
  },
  {
   "cell_type": "code",
   "execution_count": 16,
   "id": "008e4f38",
   "metadata": {},
   "outputs": [
    {
     "name": "stdout",
     "output_type": "stream",
     "text": [
      "['Kimi no Na wa.', 'Kyoukai no Kanata']\n"
     ]
    }
   ],
   "source": [
    "# find the closest match for the anime provided by the user \n",
    "find_cl_match = difflib.get_close_matches(anime_name,list_anime_titles)\n",
    "print(find_cl_match)"
   ]
  },
  {
   "cell_type": "code",
   "execution_count": 17,
   "id": "c8d8d446",
   "metadata": {},
   "outputs": [
    {
     "name": "stdout",
     "output_type": "stream",
     "text": [
      "Kimi no Na wa.\n"
     ]
    }
   ],
   "source": [
    "close_match = find_cl_match[0]\n",
    "print(close_match)"
   ]
  },
  {
   "cell_type": "code",
   "execution_count": 18,
   "id": "c4b68f08",
   "metadata": {},
   "outputs": [
    {
     "name": "stdout",
     "output_type": "stream",
     "text": [
      "24\n"
     ]
    }
   ],
   "source": [
    "#finding the index of anime with the title \n",
    "index_of_anime = anime_data[anime_data.Name == close_match]['Index'].values[0]\n",
    "print(index_of_anime)"
   ]
  },
  {
   "cell_type": "code",
   "execution_count": 19,
   "id": "c9d092ac",
   "metadata": {},
   "outputs": [
    {
     "name": "stdout",
     "output_type": "stream",
     "text": [
      "[(0, 0.052310816646287096), (1, 0.0), (2, 0.04325502186003453), (3, 0.05641084848993502), (4, 0.0), (5, 0.0), (6, 0.03645285154622627), (7, 0.02665884062620755), (8, 0.1447931379040876), (9, 0.0), (10, 0.06290930384795546), (11, 0.0), (12, 0.5272696851274081), (13, 0.035711097246111496), (14, 0.629243687796046), (15, 0.0), (16, 0.10219131365641458), (17, 0.16554912610539285), (18, 0.0), (19, 0.06307970571227318), (20, 0.1248827075389088), (21, 0.051359543274066), (22, 0.0), (23, 0.0), (24, 1.0000000000000002), (25, 0.04348670624775556), (26, 0.04187782393447158), (27, 0.10179996119051432), (28, 0.0), (29, 0.12431609364074118), (30, 0.16678171626943764), (31, 0.0665513597376445), (32, 0.0), (33, 0.0), (34, 0.09659417285558955), (35, 0.021351716037397366), (36, 0.06397448933666294), (37, 0.025932654453846734), (38, 0.03659664952291141), (39, 0.05628870288031251), (40, 0.0), (41, 0.05622655610812011), (42, 0.07480181238279524), (43, 0.151226105215372), (44, 0.03717722319056564), (45, 0.05661174309737686), (46, 0.03829381498923527), (47, 0.20477929980161202), (48, 0.0705864079835002), (49, 0.04388331344505356), (50, 0.0), (51, 0.0), (52, 0.09967105444330436), (53, 0.09967105444330436), (54, 0.058389633491698116), (55, 0.05668474341744825), (56, 0.06034112087879875), (57, 0.05713403520440996), (58, 0.10650737608308905), (59, 0.0), (60, 0.0), (61, 0.11158907159699741), (62, 0.07259234786967098), (63, 0.0), (64, 0.5341771471472228), (65, 0.11114560789661206), (66, 0.024945609682998447), (67, 0.11433524137003238), (68, 0.030385610524069465), (69, 0.08022527343710588), (70, 0.0866788991662835), (71, 0.17972029018038727), (72, 0.04406054442509048), (73, 0.07873449320895817), (74, 0.06305381831321474), (75, 0.02748404087691553), (76, 0.10049960788452866), (77, 0.0), (78, 0.0), (79, 0.11447573782630106), (80, 0.11447573782630106), (81, 0.04292594892666774), (82, 0.0370128291428501), (83, 0.019921817429451455), (84, 0.02026804975783181), (85, 0.15303476085387405), (86, 0.14791924422297337), (87, 0.10761272157413476), (88, 0.04575834953953128), (89, 0.0), (90, 0.06471526687835073), (91, 0.05551731623832712), (92, 0.0), (93, 0.11500363381826684), (94, 0.1271946492851517), (95, 0.02267774375328841), (96, 0.0), (97, 0.16824001100677038), (98, 0.15579134667385652), (99, 0.0), (100, 0.0), (101, 0.09799483970463774), (102, 0.04509300877160547), (103, 0.0), (104, 0.045655284980360165), (105, 0.0607771806274492), (106, 0.0), (107, 0.0), (108, 0.0), (109, 0.04855180892183061), (110, 0.10278206934261941), (111, 0.511729401353467), (112, 0.03688486487884273), (113, 0.0), (114, 0.0), (115, 0.0), (116, 0.051359543274066), (117, 0.2687285463931556), (118, 0.0), (119, 0.23303723902866458), (120, 0.04382406263636508), (121, 0.0557632531130787), (122, 0.10389542258429156), (123, 0.03287344675028838), (124, 0.0), (125, 0.0664342956232435), (126, 0.02018406089310055), (127, 0.10956392985804655), (128, 0.10203058626607817), (129, 0.0), (130, 0.10368677913144642), (131, 0.01757168828792211), (132, 0.12235404971001657), (133, 0.06429167482323161), (134, 0.0), (135, 0.0), (136, 0.11947413203723355), (137, 0.018672883095179487), (138, 0.07236845159682218), (139, 0.05718561687598631), (140, 0.06642151955047763), (141, 0.061563675868580955), (142, 0.0), (143, 0.18194994150219376), (144, 0.02686990434634737), (145, 0.03229300015931929), (146, 0.04478985263171185), (147, 0.0), (148, 0.05556442183843641), (149, 0.06650643838272748), (150, 0.04196753023916595), (151, 0.062031834179395735), (152, 0.11500363381826684), (153, 0.1344953968194358), (154, 0.03276326239296343), (155, 0.0), (156, 0.11012842628101076), (157, 0.1230961062954162), (158, 0.12351291518331523), (159, 0.0399794273284046), (160, 0.035361627619210474), (161, 0.046099620817491964), (162, 0.027384046198849897), (163, 0.05864245420839467), (164, 0.04310294979679591), (165, 0.60955174865806), (166, 0.13155314067770404), (167, 0.0), (168, 0.022997022045801202), (169, 0.1507247958418839), (170, 0.058116157403003264), (171, 0.01677847648537038), (172, 0.1607474618957381), (173, 0.046001240946054685), (174, 0.0), (175, 0.07436116030128681), (176, 0.02035014562266472), (177, 0.058313775012691464), (178, 0.07177184832930443), (179, 0.0), (180, 0.04817908687680317), (181, 0.062300343431514325), (182, 0.05329677126138902), (183, 0.0), (184, 0.05689083669959623), (185, 0.04779610958540617), (186, 0.04120508518269329), (187, 0.0), (188, 0.05017580313678292), (189, 0.0), (190, 0.060564781714144464), (191, 0.022732765465614077), (192, 0.021629490028645414), (193, 0.057076965345664116), (194, 0.026570158908701024), (195, 0.0), (196, 0.09160069667653756), (197, 0.04389545356588268), (198, 0.017490382572554697), (199, 0.040581543813210774), (200, 0.10682871762798403), (201, 0.05212493973700487), (202, 0.0), (203, 0.06017900727658801), (204, 0.04950885790722742), (205, 0.17363471162986518), (206, 0.09254834959956414), (207, 0.07246425774667321), (208, 0.02119314492589244), (209, 0.020171755937613275), (210, 0.09419407182566489), (211, 0.0), (212, 0.020323800627294764), (213, 0.069833353610352), (214, 0.10780857048874075), (215, 0.10780857048874075), (216, 0.059733636588717484), (217, 0.03891097642329724), (218, 0.09607963016008278), (219, 0.10007254649858494), (220, 0.07836057753586191), (221, 0.0), (222, 0.06993775224338776), (223, 0.13894572816772535), (224, 0.054879906918159464), (225, 0.5474258629808774), (226, 0.018873928784652074), (227, 0.12272317636947921), (228, 0.026407590012120532), (229, 0.04832549215917556), (230, 0.0), (231, 0.04039318114484788), (232, 0.025063247701519815), (233, 0.12494703537637222), (234, 0.01894369491609555), (235, 0.0), (236, 0.06104569158717864), (237, 0.024837136651781055), (238, 0.06605210701481304), (239, 0.0), (240, 0.0), (241, 0.0), (242, 0.21520302712516826), (243, 0.0796708243112537), (244, 0.02639856245961212), (245, 0.03451894085640826), (246, 0.0), (247, 0.07156833654205358), (248, 0.038305258582552244), (249, 0.01929176068332706), (250, 0.016018043669994823), (251, 0.1626420065187557), (252, 0.023037942188605914), (253, 0.0759894653082751), (254, 0.08947231759366872), (255, 0.0), (256, 0.0), (257, 0.01913625383884266), (258, 0.0), (259, 0.02256596614897467), (260, 0.0), (261, 0.037138987811832926), (262, 0.04454279007390509), (263, 0.020217371627989804), (264, 0.0), (265, 0.020125688407340872), (266, 0.09508851948009303), (267, 0.13628948277219047), (268, 0.058819853798651796), (269, 0.02583223561945826), (270, 0.022676978241664886), (271, 0.019777829322296388), (272, 0.0), (273, 0.0), (274, 0.0680514941638262), (275, 0.052531268369723355), (276, 0.05917051881162383), (277, 0.04096042653302816), (278, 0.0), (279, 0.0), (280, 0.026407590012120532), (281, 0.02098970477941319), (282, 0.021252503227584207), (283, 0.01859476738187264), (284, 0.020418419056882173), (285, 0.020235965524784457), (286, 0.07130478452024912), (287, 0.0), (288, 0.0660898377770893), (289, 0.0), (290, 0.0), (291, 0.0), (292, 0.11271009179638555), (293, 0.027499408573551962), (294, 0.04119229893645395), (295, 0.06963921836940211), (296, 0.0), (297, 0.12339602457586568), (298, 0.06033677520242501), (299, 0.0), (300, 0.07292480746939375), (301, 0.07671121274022782), (302, 0.052226865340242436), (303, 0.044637257094728634), (304, 0.0), (305, 0.09749193056208792), (306, 0.06044200670450836), (307, 0.03397646129210458), (308, 0.057688390740616366), (309, 0.06292166940606381), (310, 0.107356320750078), (311, 0.06801409068013321), (312, 0.04030192236007235), (313, 0.0), (314, 0.027733177362596045), (315, 0.040581543813210774), (316, 0.040581543813210774), (317, 0.05464864303067314), (318, 0.024296138135871677), (319, 0.06246920156097158), (320, 0.10792577808022566), (321, 0.04310294979679591), (322, 0.029446241567059248), (323, 0.09482462159756916), (324, 0.09662978630878251), (325, 0.05212293079883801), (326, 0.10796429408190389), (327, 0.08693504849599801), (328, 0.035361627619210474), (329, 0.21520302712516826), (330, 0.06956141452041445), (331, 0.06323195759366097), (332, 0.18651909383926563), (333, 0.09641359565822923), (334, 0.0), (335, 0.041907112538552845), (336, 0.13994501503540396), (337, 0.024916616577135467), (338, 0.08376728427520733), (339, 0.02730938454687045), (340, 0.07349370462579383), (341, 0.06494871286833909), (342, 0.0), (343, 0.01901121253070556), (344, 0.0), (345, 0.020491511487032706), (346, 0.0), (347, 0.03704245567101533), (348, 0.0), (349, 0.0), (350, 0.0), (351, 0.11204255773412186), (352, 0.049327357089479745), (353, 0.0), (354, 0.09047763348081664), (355, 0.0), (356, 0.10715049610665647), (357, 0.02038469403663763), (358, 0.12076359499258565), (359, 0.04039318114484788), (360, 0.0), (361, 0.0567915553336848), (362, 0.02689110604647118), (363, 0.0), (364, 0.02686992270001494), (365, 0.0), (366, 0.057624556775877044), (367, 0.0), (368, 0.05784110047839172), (369, 0.05784110047839172), (370, 0.0), (371, 0.054820886813453824), (372, 0.029776082701381854), (373, 0.038796981704577065), (374, 0.02063327168910052), (375, 0.0), (376, 0.1544365415669543), (377, 0.04947415878071256), (378, 0.04638634560894088), (379, 0.0), (380, 0.0), (381, 0.11526117263667336), (382, 0.11824919089183884), (383, 0.0), (384, 0.02609931380605412), (385, 0.09213812625601096), (386, 0.06008240958167375), (387, 0.0), (388, 0.02045108360491314), (389, 0.0), (390, 0.05868717074691995), (391, 0.04894569546181366), (392, 0.07270139706913317), (393, 0.0), (394, 0.09344617003941204), (395, 0.06659670794578514), (396, 0.0), (397, 0.07368547752852696), (398, 0.0), (399, 0.13386100545883306), (400, 0.06913494965424495), (401, 0.019699736156202224), (402, 0.06425116598868402), (403, 0.01913625383884266), (404, 0.02689110604647118), (405, 0.01911982800824976), (406, 0.02838824253224147), (407, 0.06569989982753066), (408, 0.06569989982753066), (409, 0.10938078439570546), (410, 0.027848581304698562), (411, 0.05590243080227994), (412, 0.06111066053958944), (413, 0.0), (414, 0.0679565853198227), (415, 0.0), (416, 0.0), (417, 0.0), (418, 0.020862887968823345), (419, 0.05378198101037472), (420, 0.0), (421, 0.0), (422, 0.025571026300540686), (423, 0.07589377510368958), (424, 0.02838221306989318), (425, 0.0874557564985595), (426, 0.061308941381227444), (427, 0.0), (428, 0.0), (429, 0.0), (430, 0.017997895607605535), (431, 0.0), (432, 0.02189844049948199), (433, 0.06370223785303174), (434, 0.06659498183096926), (435, 0.14496022596648683), (436, 0.11934318582832311), (437, 0.07222927697209437), (438, 0.053362078844524354), (439, 0.03074212577951234), (440, 0.0), (441, 0.0), (442, 0.0), (443, 0.025430305780393795), (444, 0.072538349611004), (445, 0.0), (446, 0.03332848815063024), (447, 0.2464749866640245), (448, 0.0), (449, 0.1351266909399717), (450, 0.0), (451, 0.026058203828490268), (452, 0.0), (453, 0.0), (454, 0.48950594605388914), (455, 0.10315653946983737), (456, 0.06442507289466642), (457, 0.061233834937421745), (458, 0.03740140854734557), (459, 0.07785554188170488), (460, 0.05024457161433039), (461, 0.05426859533023908), (462, 0.028634164889977803), (463, 0.18383374248539858), (464, 0.021757129866926926), (465, 0.0), (466, 0.0), (467, 0.0), (468, 0.06797230984707953), (469, 0.050342680328585125), (470, 0.0), (471, 0.0), (472, 0.0), (473, 0.07245521307343875), (474, 0.06972096174325357), (475, 0.0), (476, 0.0), (477, 0.134838669678697), (478, 0.02260482560149168), (479, 0.05222529798288569), (480, 0.07946735800180879), (481, 0.07311211150799081), (482, 0.07222349512043617), (483, 0.07092103895968574), (484, 0.02499349375132731), (485, 0.08109598247201692), (486, 0.0), (487, 0.10449931428645481), (488, 0.11905956206067325), (489, 0.025927800187213974), (490, 0.09285297308845578), (491, 0.1341228545809993), (492, 0.05957166433034897), (493, 0.038243972206373406), (494, 0.5094281052401475), (495, 0.025012998416970363), (496, 0.08560362664968692), (497, 0.05395030068506321), (498, 0.020436943191315195), (499, 0.037268533759629116), (500, 0.0), (501, 0.051801168522181834), (502, 0.07045236733688238), (503, 0.014089714234734032), (504, 0.026822565323009646), (505, 0.05707648506894679), (506, 0.0), (507, 0.056528131745764765), (508, 0.021609503151292855), (509, 0.05675500611503865), (510, 0.0), (511, 0.04777717965542623), (512, 0.02288697126723516), (513, 0.10097820858485805), (514, 0.16636937219670472), (515, 0.019527274716499506), (516, 0.027882213245999217), (517, 0.0246770175329646), (518, 0.0), (519, 0.0), (520, 0.0), (521, 0.0), (522, 0.0), (523, 0.020616802544380114), (524, 0.0), (525, 0.0), (526, 0.0159242070806141), (527, 0.06182407762556756), (528, 0.05160513250559486), (529, 0.02018392421800762), (530, 0.05834932667720355), (531, 0.02816366453579575), (532, 0.023089264389879113), (533, 0.06986819563701938), (534, 0.0844351082885721), (535, 0.0), (536, 0.0), (537, 0.026130739578587574), (538, 0.07720715626522244), (539, 0.12913572036876747), (540, 0.02427687907500292), (541, 0.06086334504454147), (542, 0.06674516670003817), (543, 0.0), (544, 0.18615537521596268), (545, 0.07144787461619227), (546, 0.018440371386783127), (547, 0.0340944854606214), (548, 0.0), (549, 0.07479637116996384), (550, 0.1648772745578949), (551, 0.0), (552, 0.05443171422713917), (553, 0.14228884028087496), (554, 0.05625071653282991), (555, 0.019699736156202224), (556, 0.018243742679860554), (557, 0.06702229561597263), (558, 0.06122903542352549), (559, 0.11015241583556815), (560, 0.13787669631271512), (561, 0.14372008783474416), (562, 0.0), (563, 0.0), (564, 0.0), (565, 0.0358957425092136), (566, 0.02284225940419895), (567, 0.09996901344083459), (568, 0.20082109701416775), (569, 0.06274589776183265), (570, 0.0), (571, 0.19288522478223216), (572, 0.0796708243112537), (573, 0.452315216724489), (574, 0.0), (575, 0.0640196317952126), (576, 0.06703196464227279), (577, 0.026234870989670523), (578, 0.020545660233440406), (579, 0.06068367061287203), (580, 0.41240773240556344), (581, 0.048936605780353276), (582, 0.0), (583, 0.0), (584, 0.02086958507784151), (585, 0.07579110218315617), (586, 0.05149565319873139), (587, 0.0), (588, 0.12217087321974152), (589, 0.04868591915956779), (590, 0.027195321877050236), (591, 0.09546059748903399), (592, 0.0), (593, 0.07983241045882786), (594, 0.0), (595, 0.1328078642156929), (596, 0.016934032768980582), (597, 0.0), (598, 0.01817070592147952), (599, 0.019047299680233), (600, 0.06977963480178846), (601, 0.047022955676213146), (602, 0.17220931151602098), (603, 0.06338075333966393), (604, 0.0), (605, 0.0), (606, 0.02887838409158499), (607, 0.02190170940715187), (608, 0.03907896167668798), (609, 0.02198226080326196), (610, 0.06229639908139079), (611, 0.09847270138405698), (612, 0.021063000662283858), (613, 0.02652920476760716), (614, 0.056621063719230647), (615, 0.08482160202407321), (616, 0.02063345777302423), (617, 0.10796929761082127), (618, 0.0), (619, 0.0), (620, 0.14316462180584583), (621, 0.053546806498025734), (622, 0.0), (623, 0.02200033936231612), (624, 0.0596459408388129), (625, 0.0789170752126333), (626, 0.01931060871011233), (627, 0.01931060871011233), (628, 0.0), (629, 0.07738173505602386), (630, 0.0582773417296937), (631, 0.01931773773305887), (632, 0.1386840963858464), (633, 0.02958440368689993), (634, 0.1726038482608469), (635, 0.07273282473215177), (636, 0.0182575246216288), (637, 0.0), (638, 0.0), (639, 0.015866480951127436), (640, 0.12447325966445819), (641, 0.08420312119708612), (642, 0.06596600200343157), (643, 0.06471797006422303), (644, 0.11995371728808721), (645, 0.048153099019644756), (646, 0.04484476140439572), (647, 0.050905907022844914), (648, 0.10268336833120845), (649, 0.025211917075353984), (650, 0.1238557535940436), (651, 0.045874973497787984), (652, 0.04297357641277953), (653, 0.040319536793734415), (654, 0.12892496939399722), (655, 0.021828941636617496), (656, 0.020994382581665787), (657, 0.024469678458364313), (658, 0.0), (659, 0.06378220505326396), (660, 0.06430419646034216), (661, 0.018626289058566285), (662, 0.0661066925543328), (663, 0.0), (664, 0.08219176965040009), (665, 0.0), (666, 0.03898943693139501), (667, 0.01330960801910062), (668, 0.024484824846130845), (669, 0.016062790948207593), (670, 0.027848581304698562), (671, 0.027723040096941005), (672, 0.07783126541432922), (673, 0.07980877702523578), (674, 0.10609070931467604), (675, 0.021982260803261964), (676, 0.029521721503282073), (677, 0.05944808006313486), (678, 0.027599844818577142), (679, 0.06202348564411651), (680, 0.0), (681, 0.10492950581031012), (682, 0.07115729219289613), (683, 0.07400106844062888), (684, 0.045190207875249314), (685, 0.019310608710112327), (686, 0.0), (687, 0.09577556914903299), (688, 0.0), (689, 0.0), (690, 0.11391141674693729), (691, 0.024936422881238183), (692, 0.0), (693, 0.0773535341510476), (694, 0.0), (695, 0.043801966308294416), (696, 0.0), (697, 0.0), (698, 0.05516672459262672), (699, 0.0), (700, 0.0), (701, 0.02952278851251755), (702, 0.02952278851251755), (703, 0.0810648309589199), (704, 0.07552694267252519), (705, 0.06664376639141317), (706, 0.058235290802116084), (707, 0.0), (708, 0.06537090497081427), (709, 0.0), (710, 0.0), (711, 0.2742315363453424), (712, 0.05957565529647021), (713, 0.06973536884019413), (714, 0.09987040590090909), (715, 0.03633833583316922), (716, 0.09127942542000063), (717, 0.0), (718, 0.02351151512896615), (719, 0.0), (720, 0.08906823078082221), (721, 0.11819631209909583), (722, 0.06681774004061655), (723, 0.10906309332997378), (724, 0.022759500918297575), (725, 0.042298227382690075), (726, 0.0776437446436701), (727, 0.01894775236654932), (728, 0.01748621557623929), (729, 0.06336942263841808), (730, 0.02665884062620755), (731, 0.08366227305272306), (732, 0.05920293436898694), (733, 0.02170059906711116), (734, 0.029058430686128775), (735, 0.0217678203938809), (736, 0.021979939801224656), (737, 0.0), (738, 0.08597804911340048), (739, 0.08597804911340048), (740, 0.02110573611016193), (741, 0.019991064025126064), (742, 0.0), (743, 0.0948806998248024), (744, 0.11147596212761855), (745, 0.0), (746, 0.07908034887231033), (747, 0.04846369208980497), (748, 0.10049228173705896), (749, 0.06823973004467841), (750, 0.5430562273486531), (751, 0.32249896744723494), (752, 0.33732343718590685), (753, 0.5635840898800293), (754, 0.4888324563581728), (755, 0.41892980959212234), (756, 0.478790439334888), (757, 0.39849448335482407), (758, 0.44083901479296256), (759, 0.3753296391534627), (760, 0.399625512819302), (761, 0.37707346891176263), (762, 0.40940307805466575), (763, 0.3962900366178293), (764, 0.3439266187659882), (765, 0.018530148928499628), (766, 0.04624474126614454), (767, 0.023482149487795534), (768, 0.0), (769, 0.016418770808763732), (770, 0.04363126095837602), (771, 0.042630700019550584), (772, 0.018568492970149553), (773, 0.021054988379189354), (774, 0.02028738561656822), (775, 0.0), (776, 0.13082973134935838), (777, 0.07191403530569358), (778, 0.07973074175288153), (779, 0.02193405280682969), (780, 0.09092756117081927), (781, 0.06863479394526373), (782, 0.028310482989699265), (783, 0.028290259689609524), (784, 0.026575865767851054), (785, 0.028310482989699265), (786, 0.07257558584502384), (787, 0.0), (788, 0.057380335742044264), (789, 0.057888881453978844), (790, 0.07973074175288153), (791, 0.05602601921848688), (792, 0.0920643670540162), (793, 0.021222669458039127), (794, 0.12166297138854466), (795, 0.02019567202200151), (796, 0.04957251410554468), (797, 0.0), (798, 0.03925153628604445), (799, 0.023563682640220428), (800, 0.07332921211383583), (801, 0.08640740206475783), (802, 0.05844179665066303), (803, 0.0), (804, 0.0), (805, 0.11388898221545474), (806, 0.020153292435512605), (807, 0.07109621337342904), (808, 0.09713025084541807), (809, 0.0), (810, 0.0), (811, 0.020142194378264106), (812, 0.0), (813, 0.07859647467614819), (814, 0.051570936325905425), (815, 0.04945574491567307), (816, 0.031384780082703026), (817, 0.021095173236739602), (818, 0.021095173236739602), (819, 0.06139856968673592), (820, 0.1422213357176734), (821, 0.0), (822, 0.0), (823, 0.0), (824, 0.0), (825, 0.044516677648208505), (826, 0.0), (827, 0.028037511946228458), (828, 0.0), (829, 0.028429523599166857), (830, 0.025927218535474215), (831, 0.024298506106294), (832, 0.11323965419758776), (833, 0.06224614718268119), (834, 0.022118554784655815), (835, 0.016089885892018038), (836, 0.0), (837, 0.0613014986344539), (838, 0.04141131428575407), (839, 0.096980122674713), (840, 0.01946663905502111), (841, 0.07945017933135973), (842, 0.0), (843, 0.050256931751215074), (844, 0.0), (845, 0.0), (846, 0.06859482360304088), (847, 0.02477549336361464), (848, 0.0), (849, 0.0), (850, 0.02081703923383678), (851, 0.0), (852, 0.04904471775906283), (853, 0.07886831684050512), (854, 0.02730319993282229), (855, 0.0), (856, 0.0285640291466782), (857, 0.0), (858, 0.027115793683536383), (859, 0.0), (860, 0.0569949508730179), (861, 0.0), (862, 0.0), (863, 0.06376592870914828), (864, 0.028551601518225604), (865, 0.019632172087030754), (866, 0.028840021366199297), (867, 0.0), (868, 0.025881903506479592), (869, 0.022531775926818806), (870, 0.046725811979034096), (871, 0.0681551216056272), (872, 0.09563125070210529), (873, 0.06783656475000371), (874, 0.07974565648856376), (875, 0.05138939573062117), (876, 0.06906122343372685), (877, 0.20879262738925486), (878, 0.0), (879, 0.14806342569273417), (880, 0.0), (881, 0.024632981345188387), (882, 0.053581783544589284), (883, 0.09896426902438825), (884, 0.02277117503217732), (885, 0.020380819565028616), (886, 0.10383258218267952), (887, 0.02669521971029933), (888, 0.14596066421189957), (889, 0.07179260703799267), (890, 0.024919373283270648), (891, 0.0), (892, 0.0), (893, 0.019135025093920257), (894, 0.0716965597547377), (895, 0.4132591213622715), (896, 0.04576852993052573), (897, 0.18564218217457262), (898, 0.0), (899, 0.05031170364975733), (900, 0.04139590457401976), (901, 0.0), (902, 0.016606115198480417), (903, 0.02497825992778286), (904, 0.01729559162245077), (905, 0.04722372281974397), (906, 0.0), (907, 0.05965631048671532), (908, 0.02768637783328321), (909, 0.05871055971721539), (910, 0.01662378206564923), (911, 0.0), (912, 0.05965631048671532), (913, 0.03081175553511772), (914, 0.022137166477019146), (915, 0.18701503472859782), (916, 0.13089234460291438), (917, 0.10848932901690189), (918, 0.06760116341094032), (919, 0.04487449415885772), (920, 0.08205254624875108), (921, 0.0), (922, 0.018634814369695142), (923, 0.062048060764377744), (924, 0.0), (925, 0.01897160622393131), (926, 0.02748352718484733), (927, 0.029379503104144628), (928, 0.08418083125502067), (929, 0.0), (930, 0.06704771406034779), (931, 0.0), (932, 0.022172995063081433), (933, 0.09613850798769027), (934, 0.09516928142132378), (935, 0.0), (936, 0.0), (937, 0.1332065599084147), (938, 0.0), (939, 0.02195915143803556), (940, 0.0), (941, 0.0), (942, 0.02831623432845264), (943, 0.0), (944, 0.07619687354708192), (945, 0.0), (946, 0.0), (947, 0.022021331587377107), (948, 0.06477663424054964), (949, 0.06472261239211427), (950, 0.07886703637197133), (951, 0.0), (952, 0.07308103944253205), (953, 0.022767309250804474), (954, 0.04118988724846646), (955, 0.07954136144774655), (956, 0.020242822940683636), (957, 0.022451632810483874), (958, 0.028442882482928936), (959, 0.0), (960, 0.028956637453710084), (961, 0.024376206599749328), (962, 0.01960015282391947), (963, 0.0796964982615888), (964, 0.11749656724795497), (965, 0.01780654874857511), (966, 0.0), (967, 0.028430612242358638), (968, 0.02064170330515221), (969, 0.03081175553511772), (970, 0.07935990753285119), (971, 0.061129512088531464), (972, 0.022560674946582242), (973, 0.02777872177825434), (974, 0.0), (975, 0.07140432517274282), (976, 0.02653431743434038), (977, 0.06760116341094032), (978, 0.0600425220815463), (979, 0.05825981705366614), (980, 0.08820843424004438), (981, 0.0), (982, 0.0676468597700958), (983, 0.0), (984, 0.10789517447200012), (985, 0.07735274739469303), (986, 0.0), (987, 0.0), (988, 0.06888064539206297), (989, 0.05487571830455306), (990, 0.12039361273465891), (991, 0.0), (992, 0.09930702336276817), (993, 0.07709241550456178), (994, 0.0), (995, 0.02623200974655832), (996, 0.0), (997, 0.0625197440441263), (998, 0.11950449276346578), (999, 0.08849376140950413), (1000, 0.026524733195674263), (1001, 0.0), (1002, 0.05970567214575982), (1003, 0.0), (1004, 0.05265031933207358), (1005, 0.019705645234173483), (1006, 0.09091297783934711), (1007, 0.029084497931685216), (1008, 0.02353802605355686), (1009, 0.05073048477798175), (1010, 0.12903253126794045), (1011, 0.14748443168205505), (1012, 0.015139865624188932), (1013, 0.07093473121570767), (1014, 0.029012039369437956), (1015, 0.0), (1016, 0.02474503020656894), (1017, 0.023419782800070947), (1018, 0.02992626116370723), (1019, 0.062261345959320244), (1020, 0.0), (1021, 0.0869192404629795), (1022, 0.0), (1023, 0.1400318819298807), (1024, 0.04146255193087083), (1025, 0.0), (1026, 0.022973414287643216), (1027, 0.019713403365179565), (1028, 0.0), (1029, 0.02659643646033572), (1030, 0.022044165636522742), (1031, 0.053496574921618294), (1032, 0.0), (1033, 0.0720744452211645), (1034, 0.019950004069977226), (1035, 0.029603235143783047), (1036, 0.014712070178445865), (1037, 0.08984778379293122), (1038, 0.029603235143783047), (1039, 0.020200065378474182), (1040, 0.09339559366431278), (1041, 0.03091368261837403), (1042, 0.02688350959164384), (1043, 0.025562111713317705), (1044, 0.10028249306866738), (1045, 0.0), (1046, 0.06461245409143102), (1047, 0.0), (1048, 0.0), (1049, 0.0), (1050, 0.07900192884431104), (1051, 0.0), (1052, 0.02235320461791188), (1053, 0.08640848096533048), (1054, 0.0), (1055, 0.11160157116735964), (1056, 0.030074735902940394), (1057, 0.06126902336980569), (1058, 0.5075506309164792), (1059, 0.020267688489791803), (1060, 0.151226105215372), (1061, 0.020530840366284504), (1062, 0.08673364504450504), (1063, 0.0738114666923261), (1064, 0.04878428370602658), (1065, 0.05943669729615229), (1066, 0.0), (1067, 0.0), (1068, 0.017771322308635488), (1069, 0.0), (1070, 0.0), (1071, 0.12578173024495454), (1072, 0.02639849651497241), (1073, 0.04264707354132109), (1074, 0.052252964727916705), (1075, 0.024188011373640624), (1076, 0.0), (1077, 0.15063951944935552), (1078, 0.05876696331351902), (1079, 0.08873921636319393), (1080, 0.0), (1081, 0.08130421407210003), (1082, 0.044221653625420916), (1083, 0.05501104758198648), (1084, 0.06346898167576707), (1085, 0.015484986776718501), (1086, 0.07974565648856376), (1087, 0.0), (1088, 0.04052473436526199), (1089, 0.04052473436526199), (1090, 0.0), (1091, 0.05608517788318495), (1092, 0.07974565648856376), (1093, 0.09223932499312035), (1094, 0.12520362581526118), (1095, 0.03633833583316922), (1096, 0.021944171958388627), (1097, 0.08895944544743757), (1098, 0.0), (1099, 0.0), (1100, 0.05084088160380415), (1101, 0.09863515009565035), (1102, 0.02964756129297319), (1103, 0.0), (1104, 0.21288160498414516), (1105, 0.0), (1106, 0.0), (1107, 0.05943669729615229), (1108, 0.08630697905629062), (1109, 0.0), (1110, 0.13037124727356364), (1111, 0.0), (1112, 0.02221424906293491), (1113, 0.02141935242990982), (1114, 0.07904319822055732), (1115, 0.0), (1116, 0.02155531096158683), (1117, 0.1197774998699058), (1118, 0.0), (1119, 0.020372006890505924), (1120, 0.023933824128152367), (1121, 0.027946239220071514), (1122, 0.022747673203613074), (1123, 0.08804522384863835), (1124, 0.4799240409373019), (1125, 0.0), (1126, 0.03014946403723841), (1127, 0.1057073989655111), (1128, 0.049654188366039416), (1129, 0.016264747401272137), (1130, 0.06728952705923286), (1131, 0.021520138859257933), (1132, 0.11136419829585131), (1133, 0.05274175426706368), (1134, 0.021009031009982974), (1135, 0.017868765452809705), (1136, 0.023862768834786486), (1137, 0.09038424026552358), (1138, 0.06880316039003923), (1139, 0.06007633097848276), (1140, 0.0), (1141, 0.0), (1142, 0.04117318847580705), (1143, 0.0), (1144, 0.0), (1145, 0.0), (1146, 0.145973513138917), (1147, 0.10158335115854693), (1148, 0.06007633097848276), (1149, 0.10007565646668601), (1150, 0.0), (1151, 0.059531246427933844), (1152, 0.018531835626254302), (1153, 0.02602577812205544), (1154, 0.023445403667282892), (1155, 0.020267688489791803), (1156, 0.07503781148432825), (1157, 0.0), (1158, 0.052251856928227536), (1159, 0.05201944274658472), (1160, 0.07270476447341723), (1161, 0.0), (1162, 0.0), (1163, 0.06670088955974958), (1164, 0.039844865576107585), (1165, 0.0), (1166, 0.0), (1167, 0.09365949635225486), (1168, 0.0), (1169, 0.04810740161301511), (1170, 0.0), (1171, 0.023411174046940493), (1172, 0.10141219692925682), (1173, 0.0), (1174, 0.0274367985684095), (1175, 0.023390770486682103), (1176, 0.02279680569382927), (1177, 0.0), (1178, 0.049579977820057665), (1179, 0.04830315040009394), (1180, 0.023124406252250852), (1181, 0.06834432341892918), (1182, 0.0), (1183, 0.023766242175302137), (1184, 0.022531775926818806), (1185, 0.0), (1186, 0.0), (1187, 0.0), (1188, 0.02952278851251755), (1189, 0.06783656475000371), (1190, 0.020444337999618267), (1191, 0.07534060426493445), (1192, 0.0), (1193, 0.025160809243437585), (1194, 0.07135442737518011), (1195, 0.05848343883597581), (1196, 0.028840021366199297), (1197, 0.07891063103326179), (1198, 0.04565589313231401), (1199, 0.08732627579019256), (1200, 0.030781351685220157), (1201, 0.0), (1202, 0.05087817887641959), (1203, 0.0), (1204, 0.019645428930953137), (1205, 0.0), (1206, 0.052702029912105076), (1207, 0.019762830619731678), (1208, 0.1039222940736812), (1209, 0.029145069950575277), (1210, 0.0), (1211, 0.022146479058918374), (1212, 0.0434971101424507), (1213, 0.11114560789661206), (1214, 0.030476460858716484), (1215, 0.0809266740909326), (1216, 0.0709378247656633), (1217, 0.7011127319169846), (1218, 0.023640788979213925), (1219, 0.11786275859525161), (1220, 0.05447533444508232), (1221, 0.020731983518077396), (1222, 0.0), (1223, 0.1096043918521102), (1224, 0.042515573820248335), (1225, 0.0), (1226, 0.11241388159433717), (1227, 0.06354374014956957), (1228, 0.10937035946574904), (1229, 0.06181437270372889), (1230, 0.020180857354509946), (1231, 0.0), (1232, 0.0), (1233, 0.12030943533307262), (1234, 0.03015652206853527), (1235, 0.05830106491940771), (1236, 0.01863687850920425), (1237, 0.025079131533351295), (1238, 0.04601983274810045), (1239, 0.0), (1240, 0.11854936048612835), (1241, 0.022467024680553508), (1242, 0.0), (1243, 0.05256645029347156), (1244, 0.022446560667076572), (1245, 0.08041151120404817), (1246, 0.14782319399274105), (1247, 0.13241706830309655), (1248, 0.16312391831588097), (1249, 0.0), (1250, 0.030024378522044027), (1251, 0.01969481306466401), (1252, 0.025475125522751305), (1253, 0.11450940702493521), (1254, 0.04315846000680399), (1255, 0.04401742566929543), (1256, 0.07979699065016982), (1257, 0.05785245568769346), (1258, 0.0551273456510176), (1259, 0.052097308181707006), (1260, 0.030671938907336882), (1261, 0.0737642163963378), (1262, 0.08675777444294046), (1263, 0.0), (1264, 0.08247819362163278), (1265, 0.11301254085027529), (1266, 0.04917352890739096), (1267, 0.029767403057121493), (1268, 0.07029357634833935), (1269, 0.11659721958300856), (1270, 0.10826875630029636), (1271, 0.05997153632047065), (1272, 0.06615522546571304), (1273, 0.10552792807135378), (1274, 0.08965771951183318), (1275, 0.0), (1276, 0.1224716231908114), (1277, 0.07360004738222325), (1278, 0.0), (1279, 0.09582837171366783), (1280, 0.1241760858937955), (1281, 0.0), (1282, 0.0), (1283, 0.029152713362695145), (1284, 0.07246941625653461), (1285, 0.06988879230407243), (1286, 0.02186793051630251), (1287, 0.08814642628723351), (1288, 0.03535321958344948), (1289, 0.1486438097229884), (1290, 0.040402564224833556), (1291, 0.0), (1292, 0.09006313217516157), (1293, 0.029776341391486515), (1294, 0.029716098544117584), (1295, 0.041922096714864895), (1296, 0.026783153024325008), (1297, 0.06846232057933789), (1298, 0.02932683274763417), (1299, 0.0), (1300, 0.07316604573423853), (1301, 0.02346421515905187), (1302, 0.032859794495467776), (1303, 0.01808098987853932), (1304, 0.0), (1305, 0.0963160370776576), (1306, 0.11756266157250343), (1307, 0.0), (1308, 0.06627506489961257), (1309, 0.03056603549663855), (1310, 0.04381204395244389), (1311, 0.1055100196288747), (1312, 0.07528917360087073), (1313, 0.026218621638721917), (1314, 0.0242371750004901), (1315, 0.02944193467204363), (1316, 0.04691287637343444), (1317, 0.025145385535899276), (1318, 0.10317893192303597), (1319, 0.06412593535916258), (1320, 0.08180839719783484), (1321, 0.20879197837805774), (1322, 0.08163581293515708), (1323, 0.018913818552454068), (1324, 0.09381239228906965), (1325, 0.029188412152446025), (1326, 0.08151355992996155), (1327, 0.034036722895303365), (1328, 0.08731542265189278), (1329, 0.05921011404664768), (1330, 0.07413361923777219), (1331, 0.06543546211684441), (1332, 0.0), (1333, 0.1582184947072355), (1334, 0.04783424729912737), (1335, 0.07974565648856376), (1336, 0.3406414680329535), (1337, 0.0), (1338, 0.027384046198849897), (1339, 0.21520302712516826), (1340, 0.09666921968666842), (1341, 0.0765652125246573), (1342, 0.11634878717705219), (1343, 0.07183267081701541), (1344, 0.03280534570412523), (1345, 0.09330284330632585), (1346, 0.04310294979679591), (1347, 0.033783365426359194), (1348, 0.0), (1349, 0.0), (1350, 0.02315574229804217), (1351, 0.11161142210497778), (1352, 0.09669040631869164), (1353, 0.061916384656606684), (1354, 0.06634171385923417), (1355, 0.10721589837422409), (1356, 0.023943455552129986), (1357, 0.0), (1358, 0.02527548170311929), (1359, 0.0), (1360, 0.021389194563330244), (1361, 0.0), (1362, 0.0), (1363, 0.02950417966015485), (1364, 0.027994787325105967), (1365, 0.11876300832642256), (1366, 0.044964975903827226), (1367, 0.09029856793431991), (1368, 0.12507122637464885), (1369, 0.01870117512347261), (1370, 0.0963474609614344), (1371, 0.03098492154192324), (1372, 0.05572629007649228), (1373, 0.03754081968802827), (1374, 0.018535069073561714), (1375, 0.029002690707524703), (1376, 0.01970754793732336), (1377, 0.03798277872641295), (1378, 0.15116475897075743), (1379, 0.0), (1380, 0.05371016888329328), (1381, 0.1192826597597936), (1382, 0.02227383234257308), (1383, 0.12567180028092528), (1384, 0.014814177679186663), (1385, 0.02703343274218451), (1386, 0.060036102769818654), (1387, 0.061874145877931726), (1388, 0.023626381914525263), (1389, 0.021631745590669185), (1390, 0.028292390434012788), (1391, 0.0), (1392, 0.06228938786441765), (1393, 0.08447329326830555), (1394, 0.08590300532866253), (1395, 0.07294974531885359), (1396, 0.0955671187810832), (1397, 0.03127049346813422), (1398, 0.03127049346813422), (1399, 0.022179557616384245), (1400, 0.016456215222308057), (1401, 0.027770532203495863), (1402, 0.0), (1403, 0.061874145877931726), (1404, 0.0), (1405, 0.0231485621765572), (1406, 0.15542437976228607), (1407, 0.12442560016995788), (1408, 0.02784307655608228), (1409, 0.0430298198898132), (1410, 0.11314821169462758), (1411, 0.045795941753655055), (1412, 0.06329124085682135), (1413, 0.10846407424365051), (1414, 0.028882158614275216), (1415, 0.0), (1416, 0.10600761490358704), (1417, 0.11985876115102459), (1418, 0.13212103772269415), (1419, 0.0304654788403904), (1420, 0.0), (1421, 0.0), (1422, 0.1259252105337273), (1423, 0.0539758371478636), (1424, 0.14759817960670618), (1425, 0.11563142725156315), (1426, 0.07730396967308516), (1427, 0.0), (1428, 0.04537576671890454), (1429, 0.0), (1430, 0.1086738517650136), (1431, 0.021258309466958055), (1432, 0.01912239586782186), (1433, 0.07538885640801217), (1434, 0.06454767166074499), (1435, 0.022191928030058157), (1436, 0.10646734938227012), (1437, 0.0), (1438, 0.0), (1439, 0.0), (1440, 0.0), (1441, 0.13689043960965086), (1442, 0.10712381105375127), (1443, 0.02145435714835369), (1444, 0.021016630769777434), (1445, 0.0), (1446, 0.021727398444836753), (1447, 0.023780528417530054), (1448, 0.0688901955112847), (1449, 0.056264185873122645), (1450, 0.0), (1451, 0.05726175859054191), (1452, 0.0), (1453, 0.056613525262450386), (1454, 0.11991012865144318), (1455, 0.029162878964128745), (1456, 0.07616375986947405), (1457, 0.0), (1458, 0.02151680096809218), (1459, 0.06980953462050109), (1460, 0.061207204638862936), (1461, 0.027601976822222294), (1462, 0.1540759272341447), (1463, 0.07956256954091781), (1464, 0.021792264090820225), (1465, 0.12047253515427708), (1466, 0.060922917783665674), (1467, 0.09325297425156766), (1468, 0.07463383641616975), (1469, 0.08001206822520592), (1470, 0.02563525359129798), (1471, 0.030423513091291324), (1472, 0.034390261483395884), (1473, 0.1355722444894695), (1474, 0.023759144718870768), (1475, 0.0), (1476, 0.06748067218157018), (1477, 0.0240604473439627), (1478, 0.0), (1479, 0.05286340693931782), (1480, 0.1353056760755276), (1481, 0.09446320137767468), (1482, 0.0196832074252037), (1483, 0.12265451313686833), (1484, 0.04636376664156819), (1485, 0.026776936066205032), (1486, 0.026457608368409446), (1487, 0.02830083028493248), (1488, 0.026840243800822134), (1489, 0.03075429872040714), (1490, 0.0430737169745816), (1491, 0.07739121364488119), (1492, 0.1030488655643236), (1493, 0.026082747512208702), (1494, 0.09509547962982161), (1495, 0.07517704185853519), (1496, 0.5346382948988656), (1497, 0.029710321294196925), (1498, 0.03609738858044122), (1499, 0.076750081449171), (1500, 0.02400492640611362), (1501, 0.0), (1502, 0.06327390248236998), (1503, 0.0531352963225512), (1504, 0.02195038842621792), (1505, 0.02195038842621792), (1506, 0.03075429872040714), (1507, 0.03158633411575044), (1508, 0.05366316989988932), (1509, 0.15684627476408736), (1510, 0.026203184454003225), (1511, 0.056175608326936674), (1512, 0.0), (1513, 0.021929168763659617), (1514, 0.055090120077984736), (1515, 0.0), (1516, 0.024453473532591873), (1517, 0.0), (1518, 0.09851719304054699), (1519, 0.09607002699092348), (1520, 0.022829783263456787), (1521, 0.0701967777676582), (1522, 0.025230616904691198), (1523, 0.04237151209437462), (1524, 0.0), (1525, 0.02944035912408852), (1526, 0.07049483817334495), (1527, 0.0), (1528, 0.020620121413748242), (1529, 0.0), (1530, 0.03062092156047262), (1531, 0.0), (1532, 0.06171300556961813), (1533, 0.01388056182538842), (1534, 0.02186793051630251), (1535, 0.021495300278552353), (1536, 0.02323036457030787), (1537, 0.0), (1538, 0.02264585433725085), (1539, 0.06961377697212089), (1540, 0.08342219338633926), (1541, 0.030385610524069465), (1542, 0.1494029385899293), (1543, 0.027608122228900696), (1544, 0.0), (1545, 0.0351520818237995), (1546, 0.04287203306177392), (1547, 0.058402382219376325), (1548, 0.12030269042324276), (1549, 0.021782716271884158), (1550, 0.08969406112295744), (1551, 0.02296242547423546), (1552, 0.04540443578104635), (1553, 0.17670255147983882), (1554, 0.03059533653025363), (1555, 0.14670551539430532), (1556, 0.019228230637289838), (1557, 0.0), (1558, 0.049941133946004565), (1559, 0.06184510421779996), (1560, 0.0), (1561, 0.026579005498955924), (1562, 0.0), (1563, 0.030537801528941495), (1564, 0.02461584440906421), (1565, 0.11119256668934455), (1566, 0.027608122228900696), (1567, 0.055972712832623187), (1568, 0.046324870508934086), (1569, 0.0), (1570, 0.11440386688743381), (1571, 0.022293871753340477), (1572, 0.0), (1573, 0.0642537011227358), (1574, 0.03287181080081166), (1575, 0.08740047632958431), (1576, 0.17724818197218314), (1577, 0.08429495898554175), (1578, 0.06631021936578181), (1579, 0.05103630758949399), (1580, 0.024881830993392823), (1581, 0.10367566507961277), (1582, 0.020594128769234804), (1583, 0.018783374499171855), (1584, 0.06331345552936285), (1585, 0.020667491035327872), (1586, 0.023010895118632694), (1587, 0.02325359286900446), (1588, 0.14351950345469683), (1589, 0.11349950796988542), (1590, 0.0), (1591, 0.024596896292329945), (1592, 0.029296970132432206), (1593, 0.05554474986771176), (1594, 0.19276952894986724), (1595, 0.0), (1596, 0.09349238997890973), (1597, 0.1174214168454957), (1598, 0.0), (1599, 0.0), (1600, 0.07724817455057498), (1601, 0.19838336972703607), (1602, 0.058055216198963915), (1603, 0.0), (1604, 0.04193972275583527), (1605, 0.024728335667479503), (1606, 0.028741672217532162), (1607, 0.05943669729615229), (1608, 0.0518850881148984), (1609, 0.04932736446214467), (1610, 0.139191748654376), (1611, 0.518051344899673), (1612, 0.0), (1613, 0.0), (1614, 0.12105636308573628), (1615, 0.08546596548127772), (1616, 0.1256247617595139), (1617, 0.03256986270780853), (1618, 0.050516665370918014), (1619, 0.027741883686973317), (1620, 0.0), (1621, 0.027852396244356873), (1622, 0.10506016896445672), (1623, 0.06398334744051852), (1624, 0.0773642248294063), (1625, 0.017084152473202996), (1626, 0.0), (1627, 0.042318074734865416), (1628, 0.0), (1629, 0.08397046545935274), (1630, 0.0), (1631, 0.0), (1632, 0.09586833081710776), (1633, 0.05508279268482571), (1634, 0.047429215357822394), (1635, 0.08688320357997209), (1636, 0.08887503866284807), (1637, 0.046783657825956664), (1638, 0.06392499994234514), (1639, 0.0299658258561091), (1640, 0.07676486948686632), (1641, 0.09768329163089837), (1642, 0.13627603205322777), (1643, 0.057620357391811344), (1644, 0.08750341524275743), (1645, 0.048570415830158614), (1646, 0.030819038080932757), (1647, 0.0), (1648, 0.08925035674529094), (1649, 0.025934818760342142), (1650, 0.09849499672317891), (1651, 0.0), (1652, 0.019158490443481096), (1653, 0.13125935802985444), (1654, 0.09662978630878251), (1655, 0.03283433230547551), (1656, 0.0), (1657, 0.14584280148251788), (1658, 0.02570833659318515), (1659, 0.0888179685435745), (1660, 0.0), (1661, 0.08895944544743757), (1662, 0.08895944544743757), (1663, 0.052267105367043445), (1664, 0.04333251864141919), (1665, 0.04397482169091695), (1666, 0.0), (1667, 0.03678180579114228), (1668, 0.04310294979679591), (1669, 0.08895944544743757), (1670, 0.0997529061720326), (1671, 0.0), (1672, 0.11603807363116492), (1673, 0.03679559267458338), (1674, 0.02277117503217732), (1675, 0.0876386629438938), (1676, 0.03531541054592865), (1677, 0.08895944544743757), (1678, 0.09718227446790194), (1679, 0.0), (1680, 0.05649935353696996), (1681, 0.129716294491905), (1682, 0.1994784838456487), (1683, 0.2482161587870082), (1684, 0.052900984481827), (1685, 0.08187237621786059), (1686, 0.06389547640402693), (1687, 0.0), (1688, 0.0), (1689, 0.0), (1690, 0.0), (1691, 0.07764133960546185), (1692, 0.0), (1693, 0.12448141923880923), (1694, 0.055474270928120184), (1695, 0.0), (1696, 0.019024644854615223), (1697, 0.02256599372677139), (1698, 0.020274967022938517), (1699, 0.0), (1700, 0.0), (1701, 0.0), (1702, 0.04677536665882984), (1703, 0.019224466442566313), (1704, 0.08130568240094832), (1705, 0.06244987028539132), (1706, 0.1277867076899084), (1707, 0.12112174843401957), (1708, 0.08735012307499548), (1709, 0.02656413253449396), (1710, 0.0200837566292969), (1711, 0.0), (1712, 0.06539268657477246), (1713, 0.07972490942470925), (1714, 0.10716241644208713), (1715, 0.10748014812780186), (1716, 0.02969949645903908), (1717, 0.036345493094245035), (1718, 0.02006769589951426), (1719, 0.0), (1720, 0.02754579721771848), (1721, 0.0), (1722, 0.06504960044270343), (1723, 0.13867778303239353), (1724, 0.07767867668279377), (1725, 0.07767867668279377), (1726, 0.0), (1727, 0.0194385381170923), (1728, 0.0), (1729, 0.08205003612355069), (1730, 0.027188767857487257), (1731, 0.0), (1732, 0.07993674423875671), (1733, 0.027256836795272164), (1734, 0.0), (1735, 0.02617310881751411), (1736, 0.02811098570538879), (1737, 0.02696378673915769), (1738, 0.05114498587578639), (1739, 0.08267394344765527), (1740, 0.06977840844101557), (1741, 0.12055946452947491), (1742, 0.019538459169383248), (1743, 0.06723758511786504), (1744, 0.0), (1745, 0.023658026823635832), (1746, 0.16417178393083492), (1747, 0.021156927011055107), (1748, 0.02423341361666295), (1749, 0.0), (1750, 0.025063199125899095), (1751, 0.06838031908130181), (1752, 0.022882126742662438), (1753, 0.0), (1754, 0.15116835031643194), (1755, 0.17492451046118704), (1756, 0.026554670914828504), (1757, 0.018533098091751993), (1758, 0.024800317619384712), (1759, 0.02117181348061348), (1760, 0.08920954935435782), (1761, 0.13709157204016903), (1762, 0.15033215797582464), (1763, 0.027832366719794586), (1764, 0.031214836201766585), (1765, 0.025699676039637718), (1766, 0.0), (1767, 0.030112086267283063), (1768, 0.024102485063029574), (1769, 0.06638641286039608), (1770, 0.05362505760467865), (1771, 0.03083508915693389), (1772, 0.0), (1773, 0.09274365202559007), (1774, 0.08913473596043602), (1775, 0.08745376396019973), (1776, 0.0), (1777, 0.0), (1778, 0.020681110407862375), (1779, 0.0224677066694177), (1780, 0.02008652856072423), (1781, 0.11288798338461586), (1782, 0.0), (1783, 0.021759893284932937), (1784, 0.0), (1785, 0.0), (1786, 0.030464930608736663), (1787, 0.0), (1788, 0.024488257495105446), (1789, 0.12193039877601933), (1790, 0.07797194865639243), (1791, 0.04388149287243335), (1792, 0.0), (1793, 0.09601921018435122), (1794, 0.02294314241081899), (1795, 0.14228588493465322), (1796, 0.0), (1797, 0.0), (1798, 0.12381041098531198), (1799, 0.06263092518892571), (1800, 0.05590347726288152), (1801, 0.15718364988735448), (1802, 0.08773720321065569), (1803, 0.019284891127314057), (1804, 0.02555220180159883), (1805, 0.054952549395139126), (1806, 0.12182591942516738), (1807, 0.1342557380677604), (1808, 0.08769580074737635), (1809, 0.0), (1810, 0.04266513247770196), (1811, 0.04694479656120373), (1812, 0.14429819747248637), (1813, 0.05204717110130931), (1814, 0.031956196079149166), (1815, 0.0346847758381533), (1816, 0.08228173090421403), (1817, 0.02623161988059001), (1818, 0.03103725299680685), (1819, 0.08508278441330733), (1820, 0.014589626340561546), (1821, 0.023232983800722973), (1822, 0.12591830756747924), (1823, 0.056019984525738795), (1824, 0.029592065899147913), (1825, 0.05196939606485977), (1826, 0.06212308273416974), (1827, 0.0), (1828, 0.11474582700881289), (1829, 0.0), (1830, 0.031212760365686872), (1831, 0.044820743590513155), (1832, 0.10314778961116564), (1833, 0.0), (1834, 0.09775367927534423), (1835, 0.019634590215527114), (1836, 0.01930142278530214), (1837, 0.02098191344502339), (1838, 0.07431210818189299), (1839, 0.0), (1840, 0.027862947082693424), (1841, 0.04478901570178393), (1842, 0.0661994982398553), (1843, 0.031392255124713525), (1844, 0.06382466834992649), (1845, 0.07876232427350886), (1846, 0.0), (1847, 0.042291445668491544), (1848, 0.07453861876292385), (1849, 0.0), (1850, 0.027013939466747648), (1851, 0.024291495789925642), (1852, 0.10681540107377568), (1853, 0.0), (1854, 0.0), (1855, 0.024770522206839174), (1856, 0.0), (1857, 0.0331940876057986), (1858, 0.023663637478011586), (1859, 0.06305619728238056), (1860, 0.05786281585319495), (1861, 0.022234309124679), (1862, 0.061207204638862936), (1863, 0.10806524932928802), (1864, 0.02209168527297128), (1865, 0.05265938344971245), (1866, 0.0), (1867, 0.06427419474914506), (1868, 0.026811958292994962), (1869, 0.024145944422736147), (1870, 0.056023667054952896), (1871, 0.0), (1872, 0.025460311910544108), (1873, 0.08980459262281958), (1874, 0.10205221345332266), (1875, 0.050215913718540575), (1876, 0.1085096064394164), (1877, 0.06112001344785757), (1878, 0.0), (1879, 0.06362619523913075), (1880, 0.10642463959557232), (1881, 0.0), (1882, 0.12663754536698563), (1883, 0.05422506014089532), (1884, 0.02523206796619177), (1885, 0.5337302736292653), (1886, 0.04220673486741013), (1887, 0.10765260517660499), (1888, 0.02639096227472269), (1889, 0.032300013271846256), (1890, 0.019317776994303964), (1891, 0.029261129462913087), (1892, 0.10869253661189676), (1893, 0.0), (1894, 0.030226439345203897), (1895, 0.030226439345203897), (1896, 0.0), (1897, 0.05312452624940296), (1898, 0.0), (1899, 0.07994944964136141), (1900, 0.020409944874626478), (1901, 0.020409944874626478), (1902, 0.06870971745172179), (1903, 0.039270853759608114), (1904, 0.0843568153415814), (1905, 0.0), (1906, 0.0), (1907, 0.06013998253061861), (1908, 0.0), (1909, 0.030233439483251856), (1910, 0.022124064962025798), (1911, 0.022124064962025798), (1912, 0.019918481851021134), (1913, 0.11054890667653919), (1914, 0.103487312229492), (1915, 0.027964649560634866), (1916, 0.02713543433362149), (1917, 0.061857905743789396), (1918, 0.022199174577447613), (1919, 0.06991075929740836), (1920, 0.0), (1921, 0.06413515954618927), (1922, 0.022871357583316484), (1923, 0.018935274732865957), (1924, 0.043169997297133264), (1925, 0.027260317587518915), (1926, 0.0), (1927, 0.062031834179395735), (1928, 0.0), (1929, 0.062367717915682644), (1930, 0.0), (1931, 0.0), (1932, 0.06779270471962692), (1933, 0.09630128986109708), (1934, 0.10706483158939809), (1935, 0.0), (1936, 0.02449182537713455), (1937, 0.0), (1938, 0.022157045732815187), (1939, 0.031351921142447586), (1940, 0.0), (1941, 0.0677478217304897), (1942, 0.02839225894599839), (1943, 0.022849327506434352), (1944, 0.0), (1945, 0.0), (1946, 0.030210708704090386), (1947, 0.022571980479989234), (1948, 0.03287181080081166), (1949, 0.06046621291817358), (1950, 0.12471369312810666), (1951, 0.08564089942160491), (1952, 0.026097680724425143), (1953, 0.1550983897402706), (1954, 0.11440386688743381), (1955, 0.08706717151407284), (1956, 0.0), (1957, 0.020884688253214358), (1958, 0.0), (1959, 0.084652620985053), (1960, 0.029830652469417063), (1961, 0.06065164386421181), (1962, 0.06631021936578181), (1963, 0.0), (1964, 0.027232872575615356), (1965, 0.024915663647731155), (1966, 0.026498624267830125), (1967, 0.040291813654193376), (1968, 0.0206990622177365), (1969, 0.07190105789193148), (1970, 0.06908633159710505), (1971, 0.05195174478049236), (1972, 0.09023266222570103), (1973, 0.01429487788514665), (1974, 0.0), (1975, 0.025559699028638035), (1976, 0.05135075400348003), (1977, 0.03142186203899645), (1978, 0.08318614082811178), (1979, 0.0), (1980, 0.12158549061213667), (1981, 0.12856756245371245), (1982, 0.02486977501858857), (1983, 0.168340998994761), (1984, 0.06503840924202943), (1985, 0.09761195763154434), (1986, 0.019320646528529044), (1987, 0.04434954107952993), (1988, 0.030810524058218703), (1989, 0.05468605323677401), (1990, 0.022074656924558025), (1991, 0.05837514943753289), (1992, 0.02578079465193852), (1993, 0.024054552043094986), (1994, 0.020660145532210263), (1995, 0.0), (1996, 0.05921235018976903), (1997, 0.0), (1998, 0.024821326991136577), (1999, 0.02092019866296532)]\n"
     ]
    }
   ],
   "source": [
    "#getting a list of similar anime \n",
    "similarity_score = list(enumerate(similarity[index_of_anime]))\n",
    "print(similarity_score)"
   ]
  },
  {
   "cell_type": "code",
   "execution_count": 20,
   "id": "ad9f2b5c",
   "metadata": {},
   "outputs": [
    {
     "data": {
      "text/plain": [
       "2000"
      ]
     },
     "execution_count": 20,
     "metadata": {},
     "output_type": "execute_result"
    }
   ],
   "source": [
    "len(similarity_score)"
   ]
  },
  {
   "cell_type": "code",
   "execution_count": 21,
   "id": "76663dd2",
   "metadata": {},
   "outputs": [
    {
     "name": "stdout",
     "output_type": "stream",
     "text": [
      "[(24, 1.0000000000000002), (1217, 0.7011127319169846), (14, 0.629243687796046), (165, 0.60955174865806), (753, 0.5635840898800293), (225, 0.5474258629808774), (750, 0.5430562273486531), (1496, 0.5346382948988656), (64, 0.5341771471472228), (1885, 0.5337302736292653), (12, 0.5272696851274081), (1611, 0.518051344899673), (111, 0.511729401353467), (494, 0.5094281052401475), (1058, 0.5075506309164792), (454, 0.48950594605388914), (754, 0.4888324563581728), (1124, 0.4799240409373019), (756, 0.478790439334888), (573, 0.452315216724489), (758, 0.44083901479296256), (755, 0.41892980959212234), (895, 0.4132591213622715), (580, 0.41240773240556344), (762, 0.40940307805466575), (760, 0.399625512819302), (757, 0.39849448335482407), (763, 0.3962900366178293), (761, 0.37707346891176263), (759, 0.3753296391534627), (764, 0.3439266187659882), (1336, 0.3406414680329535), (752, 0.33732343718590685), (751, 0.32249896744723494), (711, 0.2742315363453424), (117, 0.2687285463931556), (1683, 0.2482161587870082), (447, 0.2464749866640245), (119, 0.23303723902866458), (242, 0.21520302712516826), (329, 0.21520302712516826), (1339, 0.21520302712516826), (1104, 0.21288160498414516), (877, 0.20879262738925486), (1321, 0.20879197837805774), (47, 0.20477929980161202), (568, 0.20082109701416775), (1682, 0.1994784838456487), (1601, 0.19838336972703607), (571, 0.19288522478223216), (1594, 0.19276952894986724), (915, 0.18701503472859782), (332, 0.18651909383926563), (544, 0.18615537521596268), (897, 0.18564218217457262), (463, 0.18383374248539858), (143, 0.18194994150219376), (71, 0.17972029018038727), (1576, 0.17724818197218314), (1553, 0.17670255147983882), (1755, 0.17492451046118704), (205, 0.17363471162986518), (634, 0.1726038482608469), (602, 0.17220931151602098), (1983, 0.168340998994761), (97, 0.16824001100677038), (30, 0.16678171626943764), (514, 0.16636937219670472), (17, 0.16554912610539285), (550, 0.1648772745578949), (1746, 0.16417178393083492), (1248, 0.16312391831588097), (251, 0.1626420065187557), (172, 0.1607474618957381), (1333, 0.1582184947072355), (1801, 0.15718364988735448), (1509, 0.15684627476408736), (98, 0.15579134667385652), (1406, 0.15542437976228607), (1953, 0.1550983897402706), (376, 0.1544365415669543), (1462, 0.1540759272341447), (85, 0.15303476085387405), (43, 0.151226105215372), (1060, 0.151226105215372), (1754, 0.15116835031643194), (1378, 0.15116475897075743), (169, 0.1507247958418839), (1077, 0.15063951944935552), (1762, 0.15033215797582464), (1542, 0.1494029385899293), (1289, 0.1486438097229884), (879, 0.14806342569273417), (86, 0.14791924422297337), (1246, 0.14782319399274105), (1424, 0.14759817960670618), (1011, 0.14748443168205505), (1555, 0.14670551539430532), (1146, 0.145973513138917), (888, 0.14596066421189957), (1657, 0.14584280148251788), (435, 0.14496022596648683), (8, 0.1447931379040876), (1812, 0.14429819747248637), (561, 0.14372008783474416), (1588, 0.14351950345469683), (620, 0.14316462180584583), (553, 0.14228884028087496), (1795, 0.14228588493465322), (820, 0.1422213357176734), (1023, 0.1400318819298807), (336, 0.13994501503540396), (1610, 0.139191748654376), (223, 0.13894572816772535), (632, 0.1386840963858464), (1723, 0.13867778303239353), (560, 0.13787669631271512), (1761, 0.13709157204016903), (1441, 0.13689043960965086), (267, 0.13628948277219047), (1642, 0.13627603205322777), (1473, 0.1355722444894695), (1480, 0.1353056760755276), (449, 0.1351266909399717), (477, 0.134838669678697), (153, 0.1344953968194358), (1807, 0.1342557380677604), (491, 0.1341228545809993), (399, 0.13386100545883306), (937, 0.1332065599084147), (595, 0.1328078642156929), (1247, 0.13241706830309655), (1418, 0.13212103772269415), (166, 0.13155314067770404), (1653, 0.13125935802985444), (916, 0.13089234460291438), (776, 0.13082973134935838), (1110, 0.13037124727356364), (1681, 0.129716294491905), (539, 0.12913572036876747), (1010, 0.12903253126794045), (654, 0.12892496939399722), (1981, 0.12856756245371245), (1706, 0.1277867076899084), (94, 0.1271946492851517), (1882, 0.12663754536698563), (1422, 0.1259252105337273), (1822, 0.12591830756747924), (1071, 0.12578173024495454), (1383, 0.12567180028092528), (1616, 0.1256247617595139), (1094, 0.12520362581526118), (1368, 0.12507122637464885), (233, 0.12494703537637222), (20, 0.1248827075389088), (1950, 0.12471369312810666), (1693, 0.12448141923880923), (640, 0.12447325966445819), (1407, 0.12442560016995788), (29, 0.12431609364074118), (1280, 0.1241760858937955), (650, 0.1238557535940436), (1798, 0.12381041098531198), (158, 0.12351291518331523), (297, 0.12339602457586568), (157, 0.1230961062954162), (227, 0.12272317636947921), (1483, 0.12265451313686833), (1276, 0.1224716231908114), (132, 0.12235404971001657), (588, 0.12217087321974152), (1789, 0.12193039877601933), (1806, 0.12182591942516738), (794, 0.12166297138854466), (1980, 0.12158549061213667), (1707, 0.12112174843401957), (1614, 0.12105636308573628), (358, 0.12076359499258565), (1741, 0.12055946452947491), (1465, 0.12047253515427708), (990, 0.12039361273465891), (1233, 0.12030943533307262), (1548, 0.12030269042324276), (644, 0.11995371728808721), (1454, 0.11991012865144318), (1417, 0.11985876115102459), (1117, 0.1197774998699058), (998, 0.11950449276346578), (136, 0.11947413203723355), (436, 0.11934318582832311), (1381, 0.1192826597597936), (488, 0.11905956206067325), (1365, 0.11876300832642256), (1240, 0.11854936048612835), (382, 0.11824919089183884), (721, 0.11819631209909583), (1219, 0.11786275859525161), (1306, 0.11756266157250343), (964, 0.11749656724795497), (1597, 0.1174214168454957), (1269, 0.11659721958300856), (1342, 0.11634878717705219), (1672, 0.11603807363116492), (1425, 0.11563142725156315), (381, 0.11526117263667336), (93, 0.11500363381826684), (152, 0.11500363381826684), (1828, 0.11474582700881289), (1253, 0.11450940702493521), (79, 0.11447573782630106), (80, 0.11447573782630106), (1570, 0.11440386688743381), (1954, 0.11440386688743381), (67, 0.11433524137003238), (690, 0.11391141674693729), (805, 0.11388898221545474), (1589, 0.11349950796988542), (832, 0.11323965419758776), (1410, 0.11314821169462758), (1265, 0.11301254085027529), (1781, 0.11288798338461586), (292, 0.11271009179638555), (1226, 0.11241388159433717), (351, 0.11204255773412186), (1351, 0.11161142210497778), (1055, 0.11160157116735964), (61, 0.11158907159699741), (744, 0.11147596212761855), (1132, 0.11136419829585131), (1565, 0.11119256668934455), (65, 0.11114560789661206), (1213, 0.11114560789661206), (1913, 0.11054890667653919), (559, 0.11015241583556815), (156, 0.11012842628101076), (1223, 0.1096043918521102), (127, 0.10956392985804655), (409, 0.10938078439570546), (1228, 0.10937035946574904), (723, 0.10906309332997378), (1892, 0.10869253661189676), (1430, 0.1086738517650136), (1876, 0.1085096064394164), (917, 0.10848932901690189), (1413, 0.10846407424365051), (1270, 0.10826875630029636), (1863, 0.10806524932928802), (617, 0.10796929761082127), (326, 0.10796429408190389), (320, 0.10792577808022566), (984, 0.10789517447200012), (214, 0.10780857048874075), (215, 0.10780857048874075), (1887, 0.10765260517660499), (87, 0.10761272157413476), (1715, 0.10748014812780186), (310, 0.107356320750078), (1355, 0.10721589837422409), (1714, 0.10716241644208713), (356, 0.10715049610665647), (1442, 0.10712381105375127), (1934, 0.10706483158939809), (200, 0.10682871762798403), (1852, 0.10681540107377568), (58, 0.10650737608308905), (1436, 0.10646734938227012), (1880, 0.10642463959557232), (674, 0.10609070931467604), (1416, 0.10600761490358704), (1127, 0.1057073989655111), (1273, 0.10552792807135378), (1311, 0.1055100196288747), (1622, 0.10506016896445672), (681, 0.10492950581031012), (487, 0.10449931428645481), (1208, 0.1039222940736812), (122, 0.10389542258429156), (886, 0.10383258218267952), (130, 0.10368677913144642), (1581, 0.10367566507961277), (1914, 0.103487312229492), (1318, 0.10317893192303597), (455, 0.10315653946983737), (1832, 0.10314778961116564), (1492, 0.1030488655643236), (110, 0.10278206934261941), (648, 0.10268336833120845), (16, 0.10219131365641458), (1874, 0.10205221345332266), (128, 0.10203058626607817), (27, 0.10179996119051432), (1147, 0.10158335115854693), (1172, 0.10141219692925682), (513, 0.10097820858485805), (76, 0.10049960788452866), (748, 0.10049228173705896), (1044, 0.10028249306866738), (1149, 0.10007565646668601), (219, 0.10007254649858494), (567, 0.09996901344083459), (714, 0.09987040590090909), (1670, 0.0997529061720326), (52, 0.09967105444330436), (53, 0.09967105444330436), (992, 0.09930702336276817), (883, 0.09896426902438825), (1101, 0.09863515009565035), (1518, 0.09851719304054699), (1650, 0.09849499672317891), (611, 0.09847270138405698), (101, 0.09799483970463774), (1834, 0.09775367927534423), (1641, 0.09768329163089837), (1985, 0.09761195763154434), (305, 0.09749193056208792), (1678, 0.09718227446790194), (808, 0.09713025084541807), (839, 0.096980122674713), (1352, 0.09669040631869164), (1340, 0.09666921968666842), (324, 0.09662978630878251), (1654, 0.09662978630878251), (34, 0.09659417285558955), (333, 0.09641359565822923), (1370, 0.0963474609614344), (1305, 0.0963160370776576), (1933, 0.09630128986109708), (933, 0.09613850798769027), (218, 0.09607963016008278), (1519, 0.09607002699092348), (1793, 0.09601921018435122), (1632, 0.09586833081710776), (1279, 0.09582837171366783), (687, 0.09577556914903299), (872, 0.09563125070210529), (1396, 0.0955671187810832), (591, 0.09546059748903399), (934, 0.09516928142132378), (1494, 0.09509547962982161), (266, 0.09508851948009303), (743, 0.0948806998248024), (323, 0.09482462159756916), (1481, 0.09446320137767468), (210, 0.09419407182566489), (1324, 0.09381239228906965), (1167, 0.09365949635225486), (1596, 0.09349238997890973), (394, 0.09344617003941204), (1040, 0.09339559366431278), (1345, 0.09330284330632585), (1467, 0.09325297425156766), (490, 0.09285297308845578), (1773, 0.09274365202559007), (206, 0.09254834959956414), (1093, 0.09223932499312035), (385, 0.09213812625601096), (792, 0.0920643670540162), (196, 0.09160069667653756), (716, 0.09127942542000063), (780, 0.09092756117081927), (1006, 0.09091297783934711), (354, 0.09047763348081664), (1137, 0.09038424026552358), (1367, 0.09029856793431991), (1972, 0.09023266222570103), (1292, 0.09006313217516157), (1037, 0.08984778379293122), (1873, 0.08980459262281958), (1550, 0.08969406112295744), (1274, 0.08965771951183318), (254, 0.08947231759366872), (1648, 0.08925035674529094), (1760, 0.08920954935435782), (1774, 0.08913473596043602), (720, 0.08906823078082221), (1097, 0.08895944544743757), (1661, 0.08895944544743757), (1662, 0.08895944544743757), (1669, 0.08895944544743757), (1677, 0.08895944544743757), (1636, 0.08887503866284807), (1659, 0.0888179685435745), (1079, 0.08873921636319393), (999, 0.08849376140950413), (980, 0.08820843424004438), (1287, 0.08814642628723351), (1123, 0.08804522384863835), (1802, 0.08773720321065569), (1808, 0.08769580074737635), (1675, 0.0876386629438938), (1644, 0.08750341524275743), (425, 0.0874557564985595), (1775, 0.08745376396019973), (1575, 0.08740047632958431), (1708, 0.08735012307499548), (1199, 0.08732627579019256), (1328, 0.08731542265189278), (1955, 0.08706717151407284), (327, 0.08693504849599801), (1021, 0.0869192404629795), (1635, 0.08688320357997209), (1262, 0.08675777444294046), (1062, 0.08673364504450504), (70, 0.0866788991662835), (1053, 0.08640848096533048), (801, 0.08640740206475783), (1108, 0.08630697905629062), (738, 0.08597804911340048), (739, 0.08597804911340048), (1394, 0.08590300532866253), (1951, 0.08564089942160491), (496, 0.08560362664968692), (1615, 0.08546596548127772), (1819, 0.08508278441330733), (615, 0.08482160202407321), (1959, 0.084652620985053), (1393, 0.08447329326830555), (534, 0.0844351082885721), (1904, 0.0843568153415814), (1577, 0.08429495898554175), (641, 0.08420312119708612), (928, 0.08418083125502067), (1629, 0.08397046545935274), (338, 0.08376728427520733), (731, 0.08366227305272306), (1540, 0.08342219338633926), (1978, 0.08318614082811178), (1739, 0.08267394344765527), (1264, 0.08247819362163278), (1816, 0.08228173090421403), (664, 0.08219176965040009), (920, 0.08205254624875108), (1729, 0.08205003612355069), (1685, 0.08187237621786059), (1320, 0.08180839719783484), (1322, 0.08163581293515708), (1326, 0.08151355992996155), (1704, 0.08130568240094832), (1081, 0.08130421407210003), (485, 0.08109598247201692), (703, 0.0810648309589199), (1215, 0.0809266740909326), (1245, 0.08041151120404817), (69, 0.08022527343710588), (1469, 0.08001206822520592), (1899, 0.07994944964136141), (1732, 0.07993674423875671), (593, 0.07983241045882786), (673, 0.07980877702523578), (1256, 0.07979699065016982), (874, 0.07974565648856376), (1086, 0.07974565648856376), (1092, 0.07974565648856376), (1335, 0.07974565648856376), (778, 0.07973074175288153), (790, 0.07973074175288153), (1713, 0.07972490942470925), (963, 0.0796964982615888), (243, 0.0796708243112537), (572, 0.0796708243112537), (1463, 0.07956256954091781), (955, 0.07954136144774655), (480, 0.07946735800180879), (841, 0.07945017933135973), (970, 0.07935990753285119), (746, 0.07908034887231033), (1114, 0.07904319822055732), (1050, 0.07900192884431104), (625, 0.0789170752126333), (1197, 0.07891063103326179), (853, 0.07886831684050512), (950, 0.07886703637197133), (1845, 0.07876232427350886), (73, 0.07873449320895817), (813, 0.07859647467614819), (220, 0.07836057753586191), (1790, 0.07797194865639243), (459, 0.07785554188170488), (672, 0.07783126541432922), (1724, 0.07767867668279377), (1725, 0.07767867668279377), (726, 0.0776437446436701), (1691, 0.07764133960546185), (1491, 0.07739121364488119), (629, 0.07738173505602386), (1624, 0.0773642248294063), (693, 0.0773535341510476), (985, 0.07735274739469303), (1426, 0.07730396967308516), (1600, 0.07724817455057498), (538, 0.07720715626522244), (993, 0.07709241550456178), (1640, 0.07676486948686632), (1499, 0.076750081449171), (301, 0.07671121274022782), (1341, 0.0765652125246573), (944, 0.07619687354708192), (1456, 0.07616375986947405), (253, 0.0759894653082751), (423, 0.07589377510368958), (585, 0.07579110218315617), (704, 0.07552694267252519), (1433, 0.07538885640801217), (1191, 0.07534060426493445), (1312, 0.07528917360087073), (1495, 0.07517704185853519), (1156, 0.07503781148432825), (42, 0.07480181238279524), (549, 0.07479637116996384), (1468, 0.07463383641616975), (1848, 0.07453861876292385), (175, 0.07436116030128681), (1838, 0.07431210818189299), (1330, 0.07413361923777219), (683, 0.07400106844062888), (1063, 0.0738114666923261), (1261, 0.0737642163963378), (397, 0.07368547752852696), (1277, 0.07360004738222325), (340, 0.07349370462579383), (800, 0.07332921211383583), (1300, 0.07316604573423853), (481, 0.07311211150799081), (952, 0.07308103944253205), (1395, 0.07294974531885359), (300, 0.07292480746939375), (635, 0.07273282473215177), (1160, 0.07270476447341723), (392, 0.07270139706913317), (62, 0.07259234786967098), (786, 0.07257558584502384), (444, 0.072538349611004), (1284, 0.07246941625653461), (207, 0.07246425774667321), (473, 0.07245521307343875), (138, 0.07236845159682218), (437, 0.07222927697209437), (482, 0.07222349512043617), (1033, 0.0720744452211645), (777, 0.07191403530569358), (1969, 0.07190105789193148), (1343, 0.07183267081701541), (889, 0.07179260703799267), (178, 0.07177184832930443), (894, 0.0716965597547377), (247, 0.07156833654205358), (545, 0.07144787461619227), (975, 0.07140432517274282), (1194, 0.07135442737518011), (286, 0.07130478452024912), (682, 0.07115729219289613), (807, 0.07109621337342904), (1216, 0.0709378247656633), (1013, 0.07093473121570767), (483, 0.07092103895968574), (48, 0.0705864079835002), (1526, 0.07049483817334495), (502, 0.07045236733688238), (1268, 0.07029357634833935), (1521, 0.0701967777676582), (222, 0.06993775224338776), (1919, 0.06991075929740836), (1285, 0.06988879230407243), (533, 0.06986819563701938), (213, 0.069833353610352), (1459, 0.06980953462050109), (600, 0.06977963480178846), (1740, 0.06977840844101557), (713, 0.06973536884019413), (474, 0.06972096174325357), (295, 0.06963921836940211), (1539, 0.06961377697212089), (330, 0.06956141452041445), (400, 0.06913494965424495), (1970, 0.06908633159710505), (876, 0.06906122343372685), (1448, 0.0688901955112847), (988, 0.06888064539206297), (1138, 0.06880316039003923), (1902, 0.06870971745172179), (781, 0.06863479394526373), (846, 0.06859482360304088), (1297, 0.06846232057933789), (1751, 0.06838031908130181), (1181, 0.06834432341892918), (749, 0.06823973004467841), (871, 0.0681551216056272), (274, 0.0680514941638262), (311, 0.06801409068013321), (468, 0.06797230984707953), (414, 0.0679565853198227), (873, 0.06783656475000371), (1189, 0.06783656475000371), (1932, 0.06779270471962692), (1941, 0.0677478217304897), (982, 0.0676468597700958), (918, 0.06760116341094032), (977, 0.06760116341094032), (1476, 0.06748067218157018), (1130, 0.06728952705923286), (1743, 0.06723758511786504), (930, 0.06704771406034779), (576, 0.06703196464227279), (557, 0.06702229561597263), (722, 0.06681774004061655), (542, 0.06674516670003817), (1163, 0.06670088955974958), (705, 0.06664376639141317), (395, 0.06659670794578514), (434, 0.06659498183096926), (31, 0.0665513597376445), (149, 0.06650643838272748), (125, 0.0664342956232435), (140, 0.06642151955047763), (1769, 0.06638641286039608), (1354, 0.06634171385923417), (1578, 0.06631021936578181), (1962, 0.06631021936578181), (1308, 0.06627506489961257), (1842, 0.0661994982398553), (1272, 0.06615522546571304), (662, 0.0661066925543328), (288, 0.0660898377770893), (238, 0.06605210701481304), (642, 0.06596600200343157), (407, 0.06569989982753066), (408, 0.06569989982753066), (1331, 0.06543546211684441), (1712, 0.06539268657477246), (708, 0.06537090497081427), (1722, 0.06504960044270343), (1984, 0.06503840924202943), (341, 0.06494871286833909), (948, 0.06477663424054964), (949, 0.06472261239211427), (643, 0.06471797006422303), (90, 0.06471526687835073), (1046, 0.06461245409143102), (1434, 0.06454767166074499), (456, 0.06442507289466642), (660, 0.06430419646034216), (133, 0.06429167482323161), (1867, 0.06427419474914506), (1573, 0.0642537011227358), (402, 0.06425116598868402), (1921, 0.06413515954618927), (1319, 0.06412593535916258), (575, 0.0640196317952126), (1623, 0.06398334744051852), (36, 0.06397448933666294), (1638, 0.06392499994234514), (1686, 0.06389547640402693), (1844, 0.06382466834992649), (659, 0.06378220505326396), (863, 0.06376592870914828), (433, 0.06370223785303174), (1879, 0.06362619523913075), (1227, 0.06354374014956957), (1084, 0.06346898167576707), (603, 0.06338075333966393), (729, 0.06336942263841808), (1584, 0.06331345552936285), (1412, 0.06329124085682135), (1502, 0.06327390248236998), (331, 0.06323195759366097), (19, 0.06307970571227318), (1859, 0.06305619728238056), (74, 0.06305381831321474), (309, 0.06292166940606381), (10, 0.06290930384795546), (569, 0.06274589776183265), (1799, 0.06263092518892571), (997, 0.0625197440441263), (319, 0.06246920156097158), (1705, 0.06244987028539132), (1929, 0.062367717915682644), (181, 0.062300343431514325), (610, 0.06229639908139079), (1392, 0.06228938786441765), (1019, 0.062261345959320244), (833, 0.06224614718268119), (1826, 0.06212308273416974), (923, 0.062048060764377744), (151, 0.062031834179395735), (1927, 0.062031834179395735), (679, 0.06202348564411651), (1353, 0.061916384656606684), (1387, 0.061874145877931726), (1403, 0.061874145877931726), (1917, 0.061857905743789396), (1559, 0.06184510421779996), (527, 0.06182407762556756), (1229, 0.06181437270372889), (1532, 0.06171300556961813), (141, 0.061563675868580955), (819, 0.06139856968673592), (426, 0.061308941381227444), (837, 0.0613014986344539), (1057, 0.06126902336980569), (457, 0.061233834937421745), (558, 0.06122903542352549), (1460, 0.061207204638862936), (1862, 0.061207204638862936), (971, 0.061129512088531464), (1877, 0.06112001344785757), (412, 0.06111066053958944), (236, 0.06104569158717864), (1466, 0.060922917783665674), (541, 0.06086334504454147), (105, 0.0607771806274492), (579, 0.06068367061287203), (1961, 0.06065164386421181), (190, 0.060564781714144464), (1949, 0.06046621291817358), (306, 0.06044200670450836), (56, 0.06034112087879875), (298, 0.06033677520242501), (203, 0.06017900727658801), (1907, 0.06013998253061861), (386, 0.06008240958167375), (1139, 0.06007633097848276), (1148, 0.06007633097848276), (978, 0.0600425220815463), (1386, 0.060036102769818654), (1271, 0.05997153632047065), (216, 0.059733636588717484), (1002, 0.05970567214575982), (907, 0.05965631048671532), (912, 0.05965631048671532), (624, 0.0596459408388129), (712, 0.05957565529647021), (492, 0.05957166433034897), (1151, 0.059531246427933844), (677, 0.05944808006313486), (1065, 0.05943669729615229), (1107, 0.05943669729615229), (1607, 0.05943669729615229), (1996, 0.05921235018976903), (1329, 0.05921011404664768), (732, 0.05920293436898694), (276, 0.05917051881162383), (268, 0.058819853798651796), (1078, 0.05876696331351902), (909, 0.05871055971721539), (390, 0.05868717074691995), (163, 0.05864245420839467), (1195, 0.05848343883597581), (802, 0.05844179665066303), (1547, 0.058402382219376325), (54, 0.058389633491698116), (1991, 0.05837514943753289), (530, 0.05834932667720355), (177, 0.058313775012691464), (1235, 0.05830106491940771), (630, 0.0582773417296937), (979, 0.05825981705366614), (706, 0.058235290802116084), (170, 0.058116157403003264), (1602, 0.058055216198963915), (789, 0.057888881453978844), (1860, 0.05786281585319495), (1257, 0.05785245568769346), (368, 0.05784110047839172), (369, 0.05784110047839172), (308, 0.057688390740616366), (366, 0.057624556775877044), (1643, 0.057620357391811344), (788, 0.057380335742044264), (1451, 0.05726175859054191), (139, 0.05718561687598631), (57, 0.05713403520440996), (193, 0.057076965345664116), (505, 0.05707648506894679), (860, 0.0569949508730179), (184, 0.05689083669959623), (361, 0.0567915553336848), (509, 0.05675500611503865), (55, 0.05668474341744825), (614, 0.056621063719230647), (1453, 0.056613525262450386), (45, 0.05661174309737686), (507, 0.056528131745764765), (1680, 0.05649935353696996), (3, 0.05641084848993502), (39, 0.05628870288031251), (1449, 0.056264185873122645), (554, 0.05625071653282991), (41, 0.05622655610812011), (1511, 0.056175608326936674), (1091, 0.05608517788318495), (791, 0.05602601921848688), (1870, 0.056023667054952896), (1823, 0.056019984525738795), (1567, 0.055972712832623187), (1800, 0.05590347726288152), (411, 0.05590243080227994), (121, 0.0557632531130787), (1372, 0.05572629007649228), (148, 0.05556442183843641), (1593, 0.05554474986771176), (91, 0.05551731623832712), (1694, 0.055474270928120184), (698, 0.05516672459262672), (1258, 0.0551273456510176), (1514, 0.055090120077984736), (1633, 0.05508279268482571), (1083, 0.05501104758198648), (1805, 0.054952549395139126), (224, 0.054879906918159464), (989, 0.05487571830455306), (371, 0.054820886813453824), (1989, 0.05468605323677401), (317, 0.05464864303067314), (1220, 0.05447533444508232), (552, 0.05443171422713917), (461, 0.05426859533023908), (1883, 0.05422506014089532), (1423, 0.0539758371478636), (497, 0.05395030068506321), (419, 0.05378198101037472), (1380, 0.05371016888329328), (1508, 0.05366316989988932), (1770, 0.05362505760467865), (882, 0.053581783544589284), (621, 0.053546806498025734), (1031, 0.053496574921618294), (438, 0.053362078844524354), (182, 0.05329677126138902), (1503, 0.0531352963225512), (1897, 0.05312452624940296), (1684, 0.052900984481827), (1479, 0.05286340693931782), (1133, 0.05274175426706368), (1206, 0.052702029912105076), (1865, 0.05265938344971245), (1004, 0.05265031933207358), (1243, 0.05256645029347156), (275, 0.052531268369723355), (0, 0.052310816646287096), (1663, 0.052267105367043445), (1074, 0.052252964727916705), (1158, 0.052251856928227536), (302, 0.052226865340242436), (479, 0.05222529798288569), (201, 0.05212493973700487), (325, 0.05212293079883801), (1259, 0.052097308181707006), (1813, 0.05204717110130931), (1159, 0.05201944274658472), (1825, 0.05196939606485977), (1971, 0.05195174478049236), (1608, 0.0518850881148984), (501, 0.051801168522181834), (528, 0.05160513250559486), (814, 0.051570936325905425), (586, 0.05149565319873139), (875, 0.05138939573062117), (21, 0.051359543274066), (116, 0.051359543274066), (1976, 0.05135075400348003), (1738, 0.05114498587578639), (1579, 0.05103630758949399), (647, 0.050905907022844914), (1202, 0.05087817887641959), (1100, 0.05084088160380415), (1009, 0.05073048477798175), (1618, 0.050516665370918014), (469, 0.050342680328585125), (899, 0.05031170364975733), (843, 0.050256931751215074), (460, 0.05024457161433039), (1875, 0.050215913718540575), (188, 0.05017580313678292), (1558, 0.049941133946004565), (1128, 0.049654188366039416), (1178, 0.049579977820057665), (796, 0.04957251410554468), (204, 0.04950885790722742), (377, 0.04947415878071256), (815, 0.04945574491567307), (1609, 0.04932736446214467), (352, 0.049327357089479745), (1266, 0.04917352890739096), (852, 0.04904471775906283), (391, 0.04894569546181366), (581, 0.048936605780353276), (1064, 0.04878428370602658), (589, 0.04868591915956779), (1645, 0.048570415830158614), (109, 0.04855180892183061), (747, 0.04846369208980497), (229, 0.04832549215917556), (1179, 0.04830315040009394), (180, 0.04817908687680317), (645, 0.048153099019644756), (1169, 0.04810740161301511), (1334, 0.04783424729912737), (185, 0.04779610958540617), (511, 0.04777717965542623), (1634, 0.047429215357822394), (905, 0.04722372281974397), (601, 0.047022955676213146), (1811, 0.04694479656120373), (1316, 0.04691287637343444), (1637, 0.046783657825956664), (1702, 0.04677536665882984), (870, 0.046725811979034096), (378, 0.04638634560894088), (1484, 0.04636376664156819), (1568, 0.046324870508934086), (766, 0.04624474126614454), (161, 0.046099620817491964), (1238, 0.04601983274810045), (173, 0.046001240946054685), (651, 0.045874973497787984), (1411, 0.045795941753655055), (896, 0.04576852993052573), (88, 0.04575834953953128), (1198, 0.04565589313231401), (104, 0.045655284980360165), (1552, 0.04540443578104635), (1428, 0.04537576671890454), (684, 0.045190207875249314), (102, 0.04509300877160547), (1366, 0.044964975903827226), (919, 0.04487449415885772), (646, 0.04484476140439572), (1831, 0.044820743590513155), (146, 0.04478985263171185), (1841, 0.04478901570178393), (303, 0.044637257094728634), (262, 0.04454279007390509), (825, 0.044516677648208505), (1987, 0.04434954107952993), (1082, 0.044221653625420916), (72, 0.04406054442509048), (1255, 0.04401742566929543), (1665, 0.04397482169091695), (197, 0.04389545356588268), (49, 0.04388331344505356), (1791, 0.04388149287243335), (120, 0.04382406263636508), (1310, 0.04381204395244389), (695, 0.043801966308294416), (770, 0.04363126095837602), (1212, 0.0434971101424507), (25, 0.04348670624775556), (1664, 0.04333251864141919), (2, 0.04325502186003453), (1924, 0.043169997297133264), (1254, 0.04315846000680399), (164, 0.04310294979679591), (321, 0.04310294979679591), (1346, 0.04310294979679591), (1668, 0.04310294979679591), (1490, 0.0430737169745816), (1409, 0.0430298198898132), (652, 0.04297357641277953), (81, 0.04292594892666774), (1546, 0.04287203306177392), (1810, 0.04266513247770196), (1073, 0.04264707354132109), (771, 0.042630700019550584), (1224, 0.042515573820248335), (1523, 0.04237151209437462), (1627, 0.042318074734865416), (725, 0.042298227382690075), (1847, 0.042291445668491544), (1886, 0.04220673486741013), (150, 0.04196753023916595), (1604, 0.04193972275583527), (1295, 0.041922096714864895), (335, 0.041907112538552845), (26, 0.04187782393447158), (1024, 0.04146255193087083), (838, 0.04141131428575407), (900, 0.04139590457401976), (186, 0.04120508518269329), (294, 0.04119229893645395), (954, 0.04118988724846646), (1142, 0.04117318847580705), (277, 0.04096042653302816), (199, 0.040581543813210774), (315, 0.040581543813210774), (316, 0.040581543813210774), (1088, 0.04052473436526199), (1089, 0.04052473436526199), (1290, 0.040402564224833556), (231, 0.04039318114484788), (359, 0.04039318114484788), (653, 0.040319536793734415), (312, 0.04030192236007235), (1967, 0.040291813654193376), (159, 0.0399794273284046), (1164, 0.039844865576107585), (1903, 0.039270853759608114), (798, 0.03925153628604445), (608, 0.03907896167668798), (666, 0.03898943693139501), (217, 0.03891097642329724), (373, 0.038796981704577065), (248, 0.038305258582552244), (46, 0.03829381498923527), (493, 0.038243972206373406), (1377, 0.03798277872641295), (1373, 0.03754081968802827), (458, 0.03740140854734557), (499, 0.037268533759629116), (44, 0.03717722319056564), (261, 0.037138987811832926), (347, 0.03704245567101533), (82, 0.0370128291428501), (112, 0.03688486487884273), (1673, 0.03679559267458338), (1667, 0.03678180579114228), (38, 0.03659664952291141), (6, 0.03645285154622627), (1717, 0.036345493094245035), (715, 0.03633833583316922), (1095, 0.03633833583316922), (1498, 0.03609738858044122), (565, 0.0358957425092136), (13, 0.035711097246111496), (160, 0.035361627619210474), (328, 0.035361627619210474), (1288, 0.03535321958344948), (1676, 0.03531541054592865), (1545, 0.0351520818237995), (1815, 0.0346847758381533), (245, 0.03451894085640826), (1472, 0.034390261483395884), (547, 0.0340944854606214), (1327, 0.034036722895303365), (307, 0.03397646129210458), (1347, 0.033783365426359194), (446, 0.03332848815063024), (1857, 0.0331940876057986), (123, 0.03287344675028838), (1574, 0.03287181080081166), (1948, 0.03287181080081166), (1302, 0.032859794495467776), (1655, 0.03283433230547551), (1344, 0.03280534570412523), (154, 0.03276326239296343), (1617, 0.03256986270780853), (1889, 0.032300013271846256), (145, 0.03229300015931929), (1814, 0.031956196079149166), (1507, 0.03158633411575044), (1977, 0.03142186203899645), (1843, 0.031392255124713525), (816, 0.031384780082703026), (1939, 0.031351921142447586), (1397, 0.03127049346813422), (1398, 0.03127049346813422), (1764, 0.031214836201766585), (1830, 0.031212760365686872), (1818, 0.03103725299680685), (1371, 0.03098492154192324), (1041, 0.03091368261837403), (1771, 0.03083508915693389), (1646, 0.030819038080932757), (913, 0.03081175553511772), (969, 0.03081175553511772), (1988, 0.030810524058218703), (1200, 0.030781351685220157), (1489, 0.03075429872040714), (1506, 0.03075429872040714), (439, 0.03074212577951234), (1260, 0.030671938907336882), (1530, 0.03062092156047262), (1554, 0.03059533653025363), (1309, 0.03056603549663855), (1563, 0.030537801528941495), (1214, 0.030476460858716484), (1419, 0.0304654788403904), (1786, 0.030464930608736663), (1471, 0.030423513091291324), (68, 0.030385610524069465), (1541, 0.030385610524069465), (1909, 0.030233439483251856), (1894, 0.030226439345203897), (1895, 0.030226439345203897), (1946, 0.030210708704090386), (1234, 0.03015652206853527), (1126, 0.03014946403723841), (1767, 0.030112086267283063), (1056, 0.030074735902940394), (1250, 0.030024378522044027), (1639, 0.0299658258561091), (1018, 0.02992626116370723), (1960, 0.029830652469417063), (1293, 0.029776341391486515), (372, 0.029776082701381854), (1267, 0.029767403057121493), (1294, 0.029716098544117584), (1497, 0.029710321294196925), (1716, 0.02969949645903908), (1102, 0.02964756129297319), (1035, 0.029603235143783047), (1038, 0.029603235143783047), (1824, 0.029592065899147913), (633, 0.02958440368689993), (701, 0.02952278851251755), (702, 0.02952278851251755), (1188, 0.02952278851251755), (676, 0.029521721503282073), (1363, 0.02950417966015485), (322, 0.029446241567059248), (1315, 0.02944193467204363), (1525, 0.02944035912408852), (927, 0.029379503104144628), (1298, 0.02932683274763417), (1592, 0.029296970132432206), (1891, 0.029261129462913087), (1325, 0.029188412152446025), (1455, 0.029162878964128745), (1283, 0.029152713362695145), (1209, 0.029145069950575277), (1007, 0.029084497931685216), (734, 0.029058430686128775), (1014, 0.029012039369437956), (1375, 0.029002690707524703), (960, 0.028956637453710084), (1414, 0.028882158614275216), (606, 0.02887838409158499), (866, 0.028840021366199297), (1196, 0.028840021366199297), (1606, 0.028741672217532162), (462, 0.028634164889977803), (856, 0.0285640291466782), (864, 0.028551601518225604), (958, 0.028442882482928936), (967, 0.028430612242358638), (829, 0.028429523599166857), (1942, 0.02839225894599839), (406, 0.02838824253224147), (424, 0.02838221306989318), (942, 0.02831623432845264), (782, 0.028310482989699265), (785, 0.028310482989699265), (1487, 0.02830083028493248), (1390, 0.028292390434012788), (783, 0.028290259689609524), (531, 0.02816366453579575), (1736, 0.02811098570538879), (827, 0.028037511946228458), (1364, 0.027994787325105967), (1915, 0.027964649560634866), (1121, 0.027946239220071514), (516, 0.027882213245999217), (1840, 0.027862947082693424), (1621, 0.027852396244356873), (410, 0.027848581304698562), (670, 0.027848581304698562), (1408, 0.02784307655608228), (1763, 0.027832366719794586), (973, 0.02777872177825434), (1401, 0.027770532203495863), (1619, 0.027741883686973317), (314, 0.027733177362596045), (671, 0.027723040096941005), (908, 0.02768637783328321), (1543, 0.027608122228900696), (1566, 0.027608122228900696), (1461, 0.027601976822222294), (678, 0.027599844818577142), (1720, 0.02754579721771848), (293, 0.027499408573551962), (75, 0.02748404087691553), (926, 0.02748352718484733), (1174, 0.0274367985684095), (162, 0.027384046198849897), (1338, 0.027384046198849897), (339, 0.02730938454687045), (854, 0.02730319993282229), (1925, 0.027260317587518915), (1733, 0.027256836795272164), (1964, 0.027232872575615356), (590, 0.027195321877050236), (1730, 0.027188767857487257), (1916, 0.02713543433362149), (858, 0.027115793683536383), (1385, 0.02703343274218451), (1850, 0.027013939466747648), (1737, 0.02696378673915769), (362, 0.02689110604647118), (404, 0.02689110604647118), (1042, 0.02688350959164384), (364, 0.02686992270001494), (144, 0.02686990434634737), (1488, 0.026840243800822134), (504, 0.026822565323009646), (1868, 0.026811958292994962), (1296, 0.026783153024325008), (1485, 0.026776936066205032), (887, 0.02669521971029933), (7, 0.02665884062620755), (730, 0.02665884062620755), (1029, 0.02659643646033572), (1561, 0.026579005498955924), (784, 0.026575865767851054), (194, 0.026570158908701024), (1709, 0.02656413253449396), (1756, 0.026554670914828504), (976, 0.02653431743434038), (613, 0.02652920476760716), (1000, 0.026524733195674263), (1966, 0.026498624267830125), (1486, 0.026457608368409446), (228, 0.026407590012120532), (280, 0.026407590012120532), (244, 0.02639856245961212), (1072, 0.02639849651497241), (1888, 0.02639096227472269), (577, 0.026234870989670523), (995, 0.02623200974655832), (1817, 0.02623161988059001), (1313, 0.026218621638721917), (1510, 0.026203184454003225), (1735, 0.02617310881751411), (537, 0.026130739578587574), (384, 0.02609931380605412), (1952, 0.026097680724425143), (1493, 0.026082747512208702), (451, 0.026058203828490268), (1153, 0.02602577812205544), (1649, 0.025934818760342142), (37, 0.025932654453846734), (489, 0.025927800187213974), (830, 0.025927218535474215), (868, 0.025881903506479592), (269, 0.02583223561945826), (1992, 0.02578079465193852), (1658, 0.02570833659318515), (1765, 0.025699676039637718), (1470, 0.02563525359129798), (422, 0.025571026300540686), (1043, 0.025562111713317705), (1975, 0.025559699028638035), (1804, 0.02555220180159883), (1252, 0.025475125522751305), (1872, 0.025460311910544108), (443, 0.025430305780393795), (1358, 0.02527548170311929), (1884, 0.02523206796619177), (1522, 0.025230616904691198), (649, 0.025211917075353984), (1193, 0.025160809243437585), (1317, 0.025145385535899276), (1237, 0.025079131533351295), (232, 0.025063247701519815), (1750, 0.025063199125899095), (495, 0.025012998416970363), (484, 0.02499349375132731), (903, 0.02497825992778286), (66, 0.024945609682998447), (691, 0.024936422881238183), (890, 0.024919373283270648), (337, 0.024916616577135467), (1965, 0.024915663647731155), (1580, 0.024881830993392823), (1982, 0.02486977501858857), (237, 0.024837136651781055), (1998, 0.024821326991136577), (1758, 0.024800317619384712), (847, 0.02477549336361464), (1855, 0.024770522206839174), (1016, 0.02474503020656894), (1605, 0.024728335667479503), (517, 0.0246770175329646), (881, 0.024632981345188387), (1564, 0.02461584440906421), (1591, 0.024596896292329945), (1936, 0.02449182537713455), (1788, 0.024488257495105446), (668, 0.024484824846130845), (657, 0.024469678458364313), (1516, 0.024453473532591873), (961, 0.024376206599749328), (831, 0.024298506106294), (318, 0.024296138135871677), (1851, 0.024291495789925642), (540, 0.02427687907500292), (1314, 0.0242371750004901), (1748, 0.02423341361666295), (1075, 0.024188011373640624), (1869, 0.024145944422736147), (1768, 0.024102485063029574), (1477, 0.0240604473439627), (1993, 0.024054552043094986), (1500, 0.02400492640611362), (1356, 0.023943455552129986), (1120, 0.023933824128152367), (1136, 0.023862768834786486), (1447, 0.023780528417530054), (1183, 0.023766242175302137), (1474, 0.023759144718870768), (1858, 0.023663637478011586), (1745, 0.023658026823635832), (1218, 0.023640788979213925), (1388, 0.023626381914525263), (799, 0.023563682640220428), (1008, 0.02353802605355686), (718, 0.02351151512896615), (767, 0.023482149487795534), (1301, 0.02346421515905187), (1154, 0.023445403667282892), (1017, 0.023419782800070947), (1171, 0.023411174046940493), (1175, 0.023390770486682103), (1587, 0.02325359286900446), (1821, 0.023232983800722973), (1536, 0.02323036457030787), (1350, 0.02315574229804217), (1405, 0.0231485621765572), (1180, 0.023124406252250852), (532, 0.023089264389879113), (252, 0.023037942188605914), (1586, 0.023010895118632694), (168, 0.022997022045801202), (1026, 0.022973414287643216), (1551, 0.02296242547423546), (1794, 0.02294314241081899), (512, 0.02288697126723516), (1752, 0.022882126742662438), (1922, 0.022871357583316484), (1943, 0.022849327506434352), (566, 0.02284225940419895), (1520, 0.022829783263456787), (1176, 0.02279680569382927), (884, 0.02277117503217732), (1674, 0.02277117503217732), (953, 0.022767309250804474), (724, 0.022759500918297575), (1122, 0.022747673203613074), (191, 0.022732765465614077), (95, 0.02267774375328841), (270, 0.022676978241664886), (1538, 0.02264585433725085), (478, 0.02260482560149168), (1947, 0.022571980479989234), (1697, 0.02256599372677139), (259, 0.02256596614897467), (972, 0.022560674946582242), (869, 0.022531775926818806), (1184, 0.022531775926818806), (1779, 0.0224677066694177), (1241, 0.022467024680553508), (957, 0.022451632810483874), (1244, 0.022446560667076572), (1052, 0.02235320461791188), (1571, 0.022293871753340477), (1382, 0.02227383234257308), (1861, 0.022234309124679), (1112, 0.02221424906293491), (1918, 0.022199174577447613), (1435, 0.022191928030058157), (1399, 0.022179557616384245), (932, 0.022172995063081433), (1938, 0.022157045732815187), (1211, 0.022146479058918374), (914, 0.022137166477019146), (1910, 0.022124064962025798), (1911, 0.022124064962025798), (834, 0.022118554784655815), (1864, 0.02209168527297128), (1990, 0.022074656924558025), (1030, 0.022044165636522742), (947, 0.022021331587377107), (623, 0.02200033936231612), (675, 0.021982260803261964), (609, 0.02198226080326196), (736, 0.021979939801224656), (939, 0.02195915143803556), (1504, 0.02195038842621792), (1505, 0.02195038842621792), (1096, 0.021944171958388627), (779, 0.02193405280682969), (1513, 0.021929168763659617), (607, 0.02190170940715187), (432, 0.02189844049948199), (1286, 0.02186793051630251), (1534, 0.02186793051630251), (655, 0.021828941636617496), (1464, 0.021792264090820225), (1549, 0.021782716271884158), (735, 0.0217678203938809), (1783, 0.021759893284932937), (464, 0.021757129866926926), (1446, 0.021727398444836753), (733, 0.02170059906711116), (1389, 0.021631745590669185), (192, 0.021629490028645414), (508, 0.021609503151292855), (1116, 0.02155531096158683), (1131, 0.021520138859257933), (1458, 0.02151680096809218), (1535, 0.021495300278552353), (1443, 0.02145435714835369), (1113, 0.02141935242990982), (1360, 0.021389194563330244), (35, 0.021351716037397366), (1431, 0.021258309466958055), (282, 0.021252503227584207), (793, 0.021222669458039127), (208, 0.02119314492589244), (1759, 0.02117181348061348), (1747, 0.021156927011055107), (740, 0.02110573611016193), (817, 0.021095173236739602), (818, 0.021095173236739602), (612, 0.021063000662283858), (773, 0.021054988379189354), (1444, 0.021016630769777434), (1134, 0.021009031009982974), (656, 0.020994382581665787), (281, 0.02098970477941319), (1837, 0.02098191344502339), (1999, 0.02092019866296532), (1957, 0.020884688253214358), (584, 0.02086958507784151), (418, 0.020862887968823345), (850, 0.02081703923383678), (1221, 0.020731983518077396), (1968, 0.0206990622177365), (1778, 0.020681110407862375), (1585, 0.020667491035327872), (1994, 0.020660145532210263), (968, 0.02064170330515221), (616, 0.02063345777302423), (374, 0.02063327168910052), (1528, 0.020620121413748242), (523, 0.020616802544380114), (1582, 0.020594128769234804), (578, 0.020545660233440406), (1061, 0.020530840366284504), (345, 0.020491511487032706), (388, 0.02045108360491314), (1190, 0.020444337999618267), (498, 0.020436943191315195), (284, 0.020418419056882173), (1900, 0.020409944874626478), (1901, 0.020409944874626478), (357, 0.02038469403663763), (885, 0.020380819565028616), (1119, 0.020372006890505924), (176, 0.02035014562266472), (212, 0.020323800627294764), (774, 0.02028738561656822), (1698, 0.020274967022938517), (84, 0.02026804975783181), (1059, 0.020267688489791803), (1155, 0.020267688489791803), (956, 0.020242822940683636), (285, 0.020235965524784457), (263, 0.020217371627989804), (1039, 0.020200065378474182), (795, 0.02019567202200151), (126, 0.02018406089310055), (529, 0.02018392421800762), (1230, 0.020180857354509946), (209, 0.020171755937613275), (806, 0.020153292435512605), (811, 0.020142194378264106), (265, 0.020125688407340872), (1780, 0.02008652856072423), (1710, 0.0200837566292969), (1718, 0.02006769589951426), (741, 0.019991064025126064), (1034, 0.019950004069977226), (83, 0.019921817429451455), (1912, 0.019918481851021134), (271, 0.019777829322296388), (1207, 0.019762830619731678), (1027, 0.019713403365179565), (1376, 0.01970754793732336), (1005, 0.019705645234173483), (401, 0.019699736156202224), (555, 0.019699736156202224), (1251, 0.01969481306466401), (1482, 0.0196832074252037), (1204, 0.019645428930953137), (1835, 0.019634590215527114), (865, 0.019632172087030754), (962, 0.01960015282391947), (1742, 0.019538459169383248), (515, 0.019527274716499506), (840, 0.01946663905502111), (1727, 0.0194385381170923), (1986, 0.019320646528529044), (1890, 0.019317776994303964), (631, 0.01931773773305887), (626, 0.01931060871011233), (627, 0.01931060871011233), (685, 0.019310608710112327), (1836, 0.01930142278530214), (249, 0.01929176068332706), (1803, 0.019284891127314057), (1556, 0.019228230637289838), (1703, 0.019224466442566313), (1652, 0.019158490443481096), (257, 0.01913625383884266), (403, 0.01913625383884266), (893, 0.019135025093920257), (1432, 0.01912239586782186), (405, 0.01911982800824976), (599, 0.019047299680233), (1696, 0.019024644854615223), (343, 0.01901121253070556), (925, 0.01897160622393131), (727, 0.01894775236654932), (234, 0.01894369491609555), (1923, 0.018935274732865957), (1323, 0.018913818552454068), (226, 0.018873928784652074), (1583, 0.018783374499171855), (1369, 0.01870117512347261), (137, 0.018672883095179487), (1236, 0.01863687850920425), (922, 0.018634814369695142), (661, 0.018626289058566285), (283, 0.01859476738187264), (772, 0.018568492970149553), (1374, 0.018535069073561714), (1757, 0.018533098091751993), (1152, 0.018531835626254302), (765, 0.018530148928499628), (546, 0.018440371386783127), (636, 0.0182575246216288), (556, 0.018243742679860554), (598, 0.01817070592147952), (1303, 0.01808098987853932), (430, 0.017997895607605535), (1135, 0.017868765452809705), (965, 0.01780654874857511), (1068, 0.017771322308635488), (131, 0.01757168828792211), (198, 0.017490382572554697), (728, 0.01748621557623929), (904, 0.01729559162245077), (1625, 0.017084152473202996), (596, 0.016934032768980582), (171, 0.01677847648537038), (910, 0.01662378206564923), (902, 0.016606115198480417), (1400, 0.016456215222308057), (769, 0.016418770808763732), (1129, 0.016264747401272137), (835, 0.016089885892018038), (669, 0.016062790948207593), (250, 0.016018043669994823), (526, 0.0159242070806141), (639, 0.015866480951127436), (1085, 0.015484986776718501), (1012, 0.015139865624188932), (1384, 0.014814177679186663), (1036, 0.014712070178445865), (1820, 0.014589626340561546), (1973, 0.01429487788514665), (503, 0.014089714234734032), (1533, 0.01388056182538842), (667, 0.01330960801910062), (1, 0.0), (4, 0.0), (5, 0.0), (9, 0.0), (11, 0.0), (15, 0.0), (18, 0.0), (22, 0.0), (23, 0.0), (28, 0.0), (32, 0.0), (33, 0.0), (40, 0.0), (50, 0.0), (51, 0.0), (59, 0.0), (60, 0.0), (63, 0.0), (77, 0.0), (78, 0.0), (89, 0.0), (92, 0.0), (96, 0.0), (99, 0.0), (100, 0.0), (103, 0.0), (106, 0.0), (107, 0.0), (108, 0.0), (113, 0.0), (114, 0.0), (115, 0.0), (118, 0.0), (124, 0.0), (129, 0.0), (134, 0.0), (135, 0.0), (142, 0.0), (147, 0.0), (155, 0.0), (167, 0.0), (174, 0.0), (179, 0.0), (183, 0.0), (187, 0.0), (189, 0.0), (195, 0.0), (202, 0.0), (211, 0.0), (221, 0.0), (230, 0.0), (235, 0.0), (239, 0.0), (240, 0.0), (241, 0.0), (246, 0.0), (255, 0.0), (256, 0.0), (258, 0.0), (260, 0.0), (264, 0.0), (272, 0.0), (273, 0.0), (278, 0.0), (279, 0.0), (287, 0.0), (289, 0.0), (290, 0.0), (291, 0.0), (296, 0.0), (299, 0.0), (304, 0.0), (313, 0.0), (334, 0.0), (342, 0.0), (344, 0.0), (346, 0.0), (348, 0.0), (349, 0.0), (350, 0.0), (353, 0.0), (355, 0.0), (360, 0.0), (363, 0.0), (365, 0.0), (367, 0.0), (370, 0.0), (375, 0.0), (379, 0.0), (380, 0.0), (383, 0.0), (387, 0.0), (389, 0.0), (393, 0.0), (396, 0.0), (398, 0.0), (413, 0.0), (415, 0.0), (416, 0.0), (417, 0.0), (420, 0.0), (421, 0.0), (427, 0.0), (428, 0.0), (429, 0.0), (431, 0.0), (440, 0.0), (441, 0.0), (442, 0.0), (445, 0.0), (448, 0.0), (450, 0.0), (452, 0.0), (453, 0.0), (465, 0.0), (466, 0.0), (467, 0.0), (470, 0.0), (471, 0.0), (472, 0.0), (475, 0.0), (476, 0.0), (486, 0.0), (500, 0.0), (506, 0.0), (510, 0.0), (518, 0.0), (519, 0.0), (520, 0.0), (521, 0.0), (522, 0.0), (524, 0.0), (525, 0.0), (535, 0.0), (536, 0.0), (543, 0.0), (548, 0.0), (551, 0.0), (562, 0.0), (563, 0.0), (564, 0.0), (570, 0.0), (574, 0.0), (582, 0.0), (583, 0.0), (587, 0.0), (592, 0.0), (594, 0.0), (597, 0.0), (604, 0.0), (605, 0.0), (618, 0.0), (619, 0.0), (622, 0.0), (628, 0.0), (637, 0.0), (638, 0.0), (658, 0.0), (663, 0.0), (665, 0.0), (680, 0.0), (686, 0.0), (688, 0.0), (689, 0.0), (692, 0.0), (694, 0.0), (696, 0.0), (697, 0.0), (699, 0.0), (700, 0.0), (707, 0.0), (709, 0.0), (710, 0.0), (717, 0.0), (719, 0.0), (737, 0.0), (742, 0.0), (745, 0.0), (768, 0.0), (775, 0.0), (787, 0.0), (797, 0.0), (803, 0.0), (804, 0.0), (809, 0.0), (810, 0.0), (812, 0.0), (821, 0.0), (822, 0.0), (823, 0.0), (824, 0.0), (826, 0.0), (828, 0.0), (836, 0.0), (842, 0.0), (844, 0.0), (845, 0.0), (848, 0.0), (849, 0.0), (851, 0.0), (855, 0.0), (857, 0.0), (859, 0.0), (861, 0.0), (862, 0.0), (867, 0.0), (878, 0.0), (880, 0.0), (891, 0.0), (892, 0.0), (898, 0.0), (901, 0.0), (906, 0.0), (911, 0.0), (921, 0.0), (924, 0.0), (929, 0.0), (931, 0.0), (935, 0.0), (936, 0.0), (938, 0.0), (940, 0.0), (941, 0.0), (943, 0.0), (945, 0.0), (946, 0.0), (951, 0.0), (959, 0.0), (966, 0.0), (974, 0.0), (981, 0.0), (983, 0.0), (986, 0.0), (987, 0.0), (991, 0.0), (994, 0.0), (996, 0.0), (1001, 0.0), (1003, 0.0), (1015, 0.0), (1020, 0.0), (1022, 0.0), (1025, 0.0), (1028, 0.0), (1032, 0.0), (1045, 0.0), (1047, 0.0), (1048, 0.0), (1049, 0.0), (1051, 0.0), (1054, 0.0), (1066, 0.0), (1067, 0.0), (1069, 0.0), (1070, 0.0), (1076, 0.0), (1080, 0.0), (1087, 0.0), (1090, 0.0), (1098, 0.0), (1099, 0.0), (1103, 0.0), (1105, 0.0), (1106, 0.0), (1109, 0.0), (1111, 0.0), (1115, 0.0), (1118, 0.0), (1125, 0.0), (1140, 0.0), (1141, 0.0), (1143, 0.0), (1144, 0.0), (1145, 0.0), (1150, 0.0), (1157, 0.0), (1161, 0.0), (1162, 0.0), (1165, 0.0), (1166, 0.0), (1168, 0.0), (1170, 0.0), (1173, 0.0), (1177, 0.0), (1182, 0.0), (1185, 0.0), (1186, 0.0), (1187, 0.0), (1192, 0.0), (1201, 0.0), (1203, 0.0), (1205, 0.0), (1210, 0.0), (1222, 0.0), (1225, 0.0), (1231, 0.0), (1232, 0.0), (1239, 0.0), (1242, 0.0), (1249, 0.0), (1263, 0.0), (1275, 0.0), (1278, 0.0), (1281, 0.0), (1282, 0.0), (1291, 0.0), (1299, 0.0), (1304, 0.0), (1307, 0.0), (1332, 0.0), (1337, 0.0), (1348, 0.0), (1349, 0.0), (1357, 0.0), (1359, 0.0), (1361, 0.0), (1362, 0.0), (1379, 0.0), (1391, 0.0), (1402, 0.0), (1404, 0.0), (1415, 0.0), (1420, 0.0), (1421, 0.0), (1427, 0.0), (1429, 0.0), (1437, 0.0), (1438, 0.0), (1439, 0.0), (1440, 0.0), (1445, 0.0), (1450, 0.0), (1452, 0.0), (1457, 0.0), (1475, 0.0), (1478, 0.0), (1501, 0.0), (1512, 0.0), (1515, 0.0), (1517, 0.0), (1524, 0.0), (1527, 0.0), (1529, 0.0), (1531, 0.0), (1537, 0.0), (1544, 0.0), (1557, 0.0), (1560, 0.0), (1562, 0.0), (1569, 0.0), (1572, 0.0), (1590, 0.0), (1595, 0.0), (1598, 0.0), (1599, 0.0), (1603, 0.0), (1612, 0.0), (1613, 0.0), (1620, 0.0), (1626, 0.0), (1628, 0.0), (1630, 0.0), (1631, 0.0), (1647, 0.0), (1651, 0.0), (1656, 0.0), (1660, 0.0), (1666, 0.0), (1671, 0.0), (1679, 0.0), (1687, 0.0), (1688, 0.0), (1689, 0.0), (1690, 0.0), (1692, 0.0), (1695, 0.0), (1699, 0.0), (1700, 0.0), (1701, 0.0), (1711, 0.0), (1719, 0.0), (1721, 0.0), (1726, 0.0), (1728, 0.0), (1731, 0.0), (1734, 0.0), (1744, 0.0), (1749, 0.0), (1753, 0.0), (1766, 0.0), (1772, 0.0), (1776, 0.0), (1777, 0.0), (1782, 0.0), (1784, 0.0), (1785, 0.0), (1787, 0.0), (1792, 0.0), (1796, 0.0), (1797, 0.0), (1809, 0.0), (1827, 0.0), (1829, 0.0), (1833, 0.0), (1839, 0.0), (1846, 0.0), (1849, 0.0), (1853, 0.0), (1854, 0.0), (1856, 0.0), (1866, 0.0), (1871, 0.0), (1878, 0.0), (1881, 0.0), (1893, 0.0), (1896, 0.0), (1898, 0.0), (1905, 0.0), (1906, 0.0), (1908, 0.0), (1920, 0.0), (1926, 0.0), (1928, 0.0), (1930, 0.0), (1931, 0.0), (1935, 0.0), (1937, 0.0), (1940, 0.0), (1944, 0.0), (1945, 0.0), (1956, 0.0), (1958, 0.0), (1963, 0.0), (1974, 0.0), (1979, 0.0), (1995, 0.0), (1997, 0.0)]\n"
     ]
    }
   ],
   "source": [
    "#sorting anime based on their similarity score\n",
    "sorted_similar_anime = sorted(similarity_score , key =lambda x:x[1], reverse= True)\n",
    "print(sorted_similar_anime)"
   ]
  },
  {
   "cell_type": "code",
   "execution_count": 22,
   "id": "1f363b54",
   "metadata": {},
   "outputs": [
    {
     "name": "stdout",
     "output_type": "stream",
     "text": [
      "Anime Suggested for you :) \n",
      "\n",
      "1 . Kimi no Na wa.\n",
      "2 . Shinigami Bocchan to Kuro Maid\n",
      "3 . Koe no Katachi\n",
      "4 . Kaguya-sama wa Kokurasetai: Tensai-tachi no Renai Zunousen\n",
      "5 . Durarara!! Specials\n",
      "6 . Komi-san wa, Comyushou desu. 2nd Season\n",
      "7 . Ano Hi Mita Hana no Namae wo Bokutachi wa Mada Shiranai. Movie\n",
      "8 . Kaguya-sama wa Kokurasetai: Tensai-tachi no Renai Zunousen OVA\n",
      "9 . Kaguya-sama wa Kokurasetai? Tensai-tachi no Renai Zunousen\n",
      "10 . Guilty Crown\n",
      "11 . Kaguya-sama wa Kokurasetai: Ultra Romantic\n",
      "12 . Karakai Jouzu no Takagi-san: Water Slide\n",
      "13 . Karakai Jouzu no Takagi-san 3\n",
      "14 . Komi-san wa, Comyushou desu.\n",
      "15 . Karakai Jouzu no Takagi-san\n",
      "16 . Karakai Jouzu no Takagi-san 2\n",
      "17 . High☆Speed! Movie: Free! Starting Days\n",
      "18 . Senpai ga Uzai Kouhai no Hanashi\n",
      "19 . Kyoukai no Kanata Movie: I'll Be Here - Kako-hen - Yakusoku no Kizuna\n"
     ]
    }
   ],
   "source": [
    "# print the name of similar anime based on the Index\n",
    "print('Anime Suggested for you :) \\n')\n",
    "\n",
    "i=1\n",
    "for anime in sorted_similar_anime:\n",
    "    Index=anime[0]\n",
    "    title_from_index = anime_data[anime_data.Index==Index]['Name'].values[0]\n",
    "    if(i<20):\n",
    "        print(i,'.',title_from_index)\n",
    "        i+=1"
   ]
  },
  {
   "cell_type": "code",
   "execution_count": null,
   "id": "c022b805",
   "metadata": {},
   "outputs": [],
   "source": []
  },
  {
   "cell_type": "code",
   "execution_count": null,
   "id": "c0e8548b",
   "metadata": {},
   "outputs": [],
   "source": []
  },
  {
   "cell_type": "markdown",
   "id": "c5a916e1",
   "metadata": {},
   "source": [
    "ANIME RECOMMENDATION SYSTEM "
   ]
  },
  {
   "cell_type": "code",
   "execution_count": 23,
   "id": "ab6c1e71",
   "metadata": {},
   "outputs": [
    {
     "name": "stdout",
     "output_type": "stream",
     "text": [
      "Enter your favorite Anime:No game no Life\n",
      "Anime Suggested for you :) \n",
      "\n",
      "1 . No Game No Life ['None']\n",
      "2 . Tsukimonogatari ['None']\n",
      "3 . Black Clover ['Shounen']\n",
      "4 . Quanzhi Gaoshou Zhi Dianfeng Rongyao ['None']\n",
      "5 . Yu☆Gi☆Oh! Duel Monsters ['Shounen']\n",
      "6 . D-Frag! ['Seinen']\n",
      "7 . Yu☆Gi☆Oh! 5D's ['Shounen']\n",
      "8 . Hikaru no Go: Hokuto Hai e no Michi ['Shounen']\n",
      "9 . Shoubushi Densetsu Tetsuya ['Shounen']\n",
      "10 . Hikaru no Go ['Shounen']\n",
      "11 . Yu☆Gi☆Oh! The Dark Side of Dimensions ['Shounen']\n",
      "12 . Zero no Tsukaima F ['None']\n",
      "13 . Saki ['None']\n",
      "14 . Saki Zenkoku-hen ['None']\n",
      "15 . Pokemon Generations ['Kids']\n",
      "16 . Saki Achiga-hen: Episode of Side-A Specials ['None']\n",
      "17 . Shion no Ou ['None']\n",
      "18 . Uchouten Kazoku 2 ['None']\n",
      "19 . Shinchou Yuusha: Kono Yuusha ga Ore Tueee Kuse ni Shinchou Sugiru ['None']\n"
     ]
    }
   ],
   "source": [
    "anime_name = input('Enter your favorite Anime:')\n",
    "list_anime_titles = anime_data['Name'].tolist()\n",
    "find_cl_match = difflib.get_close_matches(anime_name,list_anime_titles)\n",
    "close_match = find_cl_match[0]\n",
    "index_of_anime = anime_data[anime_data.Name == close_match]['Index'].values[0]\n",
    "similarity_score = list(enumerate(similarity[index_of_anime]))\n",
    "sorted_similar_anime = sorted(similarity_score , key =lambda x:x[1], reverse= True)\n",
    "print('Anime Suggested for you :) \\n')\n",
    "\n",
    "i=1\n",
    "for anime in sorted_similar_anime:\n",
    "    Index=anime[0]\n",
    "    title_from_index = anime_data[anime_data.Index==Index]['Name'].values[0]\n",
    "    demog_from_index = anime_data[anime_data.Index==Index]['Demographic'].values[0]\n",
    "    if(i<20):\n",
    "        print(i,'.',title_from_index, ([demog_from_index]))\n",
    "        i+=1\n"
   ]
  },
  {
   "cell_type": "code",
   "execution_count": null,
   "id": "2c2fdf87",
   "metadata": {},
   "outputs": [],
   "source": []
  },
  {
   "cell_type": "markdown",
   "id": "cace3d90",
   "metadata": {},
   "source": [
    "GUI CREATION\n"
   ]
  },
  {
   "cell_type": "code",
   "execution_count": 25,
   "id": "a9a528d7",
   "metadata": {},
   "outputs": [],
   "source": [
    "import tkinter as tk\n",
    "from tkinter import messagebox\n",
    "import difflib\n",
    "from PIL import ImageTk, Image\n",
    "\n",
    "\n",
    "#create Tkinter GUI \n",
    "root=tk.Tk()\n",
    "root.title(\"Anime Recommendation System\")\n",
    "root.configure(bg=\"#222222\")\n",
    "root.columnconfigure(0, weight=1)\n",
    "root.rowconfigure(0, weight=1)\n",
    "root.rowconfigure(1,weight=1)\n",
    "\n",
    "\n",
    "\n",
    "\n",
    "\n",
    "\n",
    "#define styling\n",
    "title_font=(\"Arial\",16,\"bold\")\n",
    "root.option_add(\"*Font\",title_font)\n",
    "\n",
    "#define styling for labels\n",
    "label_font=(\"Arial\",12,\"bold\")\n",
    "entry_font=(\"Arial\",12)\n",
    "button_font=(\"Arial\",12,\"bold\")\n",
    "button_bg=\"#3366CC\"\n",
    "button_fg=\"#FFFFFF\"\n",
    "button_active_bg=\"#25476D\"\n",
    "button_active_fg=\"#FFFFFF\"\n",
    "\n",
    "#create a canvas widget and set the bg image\n",
    "try:\n",
    "    bg_image=Image.open(r\"D:\\Users\\User\\Downloads\\ani.gif\")\n",
    "    bg_image=bg_image.resize((1300,600),Image.ANTIALIAS)\n",
    "    root.background=ImageTk.PhotoImage(bg_image)\n",
    "    \n",
    "    #create a canvas widget and place the bg on it\n",
    "    canvas=tk.Canvas(root, width=900, height=400)\n",
    "    canvas.grid(row=0,column=0,padx=10,pady=10,sticky=\"nsew\")\n",
    "    canvas.create_image(0,0,anchor=tk.NW,image=root.background)\n",
    "except IOError:\n",
    "    messagebox.showerror(\"Error\",\"failed to load background image.\")\n",
    "    \n",
    "    \n",
    "#Create GUI elements - label for anime name input \n",
    "name_label=tk.Label(root,text=\"Enter Anime Name:\")\n",
    "name_label.grid(row=0, column=0,padx=10,pady=10,sticky=\"w\")\n",
    "\n",
    "\n",
    "\n",
    "\n",
    "#create the entry field\n",
    "entry = tk.Entry(root, font=entry_font)\n",
    "entry.grid(row=0, column=1, padx=10, pady=10 , sticky=\"ew\")\n",
    "\n",
    "\n",
    "\n",
    "def get_recommendations():\n",
    "    anime_name=entry.get()\n",
    "    \n",
    "\n",
    "#find closest match in the anime dataset\n",
    "    list_anime_titles = anime_data['Name'].tolist()\n",
    "    find_cl_match = difflib.get_close_matches(anime_name, list_anime_titles)\n",
    "    if find_cl_match:\n",
    "        close_match = find_cl_match[0]\n",
    "        index_of_anime = anime_data[anime_data.Name == close_match]['Index'].values[0]\n",
    "\n",
    "        # Compute similarity scores\n",
    "        similarity_score = list(enumerate(similarity[index_of_anime]))\n",
    "        sorted_similar_anime = sorted(similarity_score , key=lambda x: x[1], reverse=True)\n",
    "\n",
    "        # Generate recommendations\n",
    "        recommendations = []\n",
    "        for i, anime in enumerate(sorted_similar_anime):\n",
    "            if i < 20:\n",
    "                Index = anime[0]\n",
    "                title_from_index = anime_data[anime_data.Index == Index]['Name'].values[0]\n",
    "                demog_from_index = anime_data[anime_data.Index == Index]['Demographic'].values[0]\n",
    "                recommendations.append(f\"{i+1}. {title_from_index} {demog_from_index}\")\n",
    "      \n",
    "        messagebox.showinfo(\"Anime Recommendations For You :)\",\"\\n\".join(recommendations))\n",
    "    \n",
    "    else:\n",
    "        messagebox.showinfo(\"Anime Recommendations For You\",\"No match found :(\")\n",
    "\n",
    "button = tk.Button(root, text=\"Get Recommendations\",font=button_font, bg=button_bg, fg=button_fg,activebackground=button_active_bg, activeforeground=button_active_fg, command=get_recommendations)\n",
    "button.grid(row=1, column=0 , padx=10 ,pady=10, sticky=\"ew\")\n",
    "\n",
    "\n",
    "\n",
    "\n",
    "#start the event loop\n",
    "root.mainloop()\n"
   ]
  },
  {
   "cell_type": "code",
   "execution_count": null,
   "id": "cfd864ce",
   "metadata": {},
   "outputs": [],
   "source": []
  },
  {
   "cell_type": "code",
   "execution_count": null,
   "id": "a7056c1d",
   "metadata": {},
   "outputs": [],
   "source": []
  }
 ],
 "metadata": {
  "kernelspec": {
   "display_name": "Python 3 (ipykernel)",
   "language": "python",
   "name": "python3"
  },
  "language_info": {
   "codemirror_mode": {
    "name": "ipython",
    "version": 3
   },
   "file_extension": ".py",
   "mimetype": "text/x-python",
   "name": "python",
   "nbconvert_exporter": "python",
   "pygments_lexer": "ipython3",
   "version": "3.9.12"
  }
 },
 "nbformat": 4,
 "nbformat_minor": 5
}
