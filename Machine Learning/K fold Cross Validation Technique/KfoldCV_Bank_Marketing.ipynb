{
  "cells": [
    {
      "attachments": {},
      "cell_type": "markdown",
      "metadata": {},
      "source": [
        "Author : Kavita Rana\n"
      ]
    },
    {
      "attachments": {},
      "cell_type": "markdown",
      "metadata": {
        "id": "RTEgLojy2XBR"
      },
      "source": [
        "<h1>K-fold Cross Validation</h1>\n",
        "K-fold cross validation is a model evaluation technique that splits the data into k folds, where each fold is used as a test set once. The average accuracy of the model across all folds can then be used to evaluate the model's performance. This technique is often used to evaluate machine learning models because it provides a more accurate estimate of the model's performance than a single train-test split."
      ]
    },
    {
      "cell_type": "code",
      "execution_count": 10,
      "metadata": {
        "id": "1ccgOlT31eef"
      },
      "outputs": [],
      "source": [
        "#Importing all the necessay libaries \n",
        "import numpy as np\n",
        "import pandas as pd\n",
        "from sklearn.linear_model import LogisticRegression\n",
        "from sklearn.tree import DecisionTreeClassifier\n",
        "from sklearn.ensemble import RandomForestClassifier\n",
        "from sklearn.model_selection import KFold\n",
        "from sklearn.preprocessing import LabelEncoder"
      ]
    },
    {
      "cell_type": "code",
      "execution_count": 16,
      "metadata": {
        "id": "34IbXBBw6kmL"
      },
      "outputs": [],
      "source": [
        "df = pd.read_csv('E:\\mygit\\K fold CV - Bank Marketing Dataset\\Bank Marketing Dataset.csv')\n",
        "\n",
        "# Drop the deposit column from the DataFrame\n",
        "X = df.drop('deposit', axis=1)\n",
        "\n",
        "# Create a LabelEncoder object\n",
        "le = LabelEncoder()\n",
        "# Convert all string objects in the DataFrame to numbers\n",
        "for column in X.columns:\n",
        "    if X[column].dtype == 'object':\n",
        "        X[column] = le.fit_transform(X[column])\n",
        "\n",
        "# Split the data into training and testing sets\n",
        "X_train, X_test, y_train, y_test = train_test_split(X, y, test_size=0.3)\n",
        "\n"
      ]
    },
    {
      "cell_type": "code",
      "execution_count": null,
      "metadata": {
        "id": "sRYn3j_01_HG"
      },
      "outputs": [],
      "source": [
        "# Create a KFold object\n",
        "kf = KFold(n_splits=5)\n",
        "\n",
        "# Train and evaluate the models\n",
        "for train_index, test_index in kf.split(X):\n",
        "    X_train, X_test = X.iloc[train_index], X.iloc[test_index]\n",
        "    y_train, y_test = y.iloc[train_index], y.iloc[test_index]\n",
        "\n",
        "    # Random forest classifier\n",
        "    rf = RandomForestClassifier()\n",
        "    rf.fit(X_train, y_train)\n",
        "    rf_score = rf.score(X_test, y_test)\n",
        "\n",
        "    # Decision tree classifier\n",
        "    dt = DecisionTreeClassifier()\n",
        "    dt.fit(X_train, y_train)\n",
        "    dt_score = dt.score(X_test, y_test)\n",
        "\n",
        "    # Print the scores\n",
        "    print('Model Name: Random Forest')\n",
        "    print('Scores:', rf_score)\n",
        "    print()\n",
        "    print('Model Name: Decision Tree')\n",
        "    print('Scores:', dt_score)\n",
        "\n"
      ]
    },
    {
      "cell_type": "code",
      "execution_count": 25,
      "metadata": {
        "colab": {
          "base_uri": "https://localhost:8080/"
        },
        "id": "KafRG5wnAQ0r",
        "outputId": "c20052e0-d359-4f36-f9eb-0a6a0be6a5ea"
      },
      "outputs": [
        {
          "name": "stdout",
          "output_type": "stream",
          "text": [
            "Average Random Forest Score: 0.7701612903225806\n",
            "Average Decision Tree Score: 0.7414874551971327\n"
          ]
        }
      ],
      "source": [
        "print('Average Random Forest Score:', np.mean(rf_score))\n",
        "print('Average Decision Tree Score:', np.mean(dt_score))"
      ]
    },
    {
      "attachments": {},
      "cell_type": "markdown",
      "metadata": {
        "id": "jJAI8w0WAUqi"
      },
      "source": [
        "Based on the average scores, the random forest classifier is a better model for our case. It has a higher average score than the decision tree classifier, which means that it is more accurate at predicting whether or not a customer will respond to a marketing campaign.\n"
      ]
    }
  ],
  "metadata": {
    "colab": {
      "provenance": []
    },
    "kernelspec": {
      "display_name": "Python 3",
      "name": "python3"
    },
    "language_info": {
      "name": "python"
    }
  },
  "nbformat": 4,
  "nbformat_minor": 0
}
