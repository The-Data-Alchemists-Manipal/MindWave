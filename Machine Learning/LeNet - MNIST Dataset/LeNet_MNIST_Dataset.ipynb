{
  "nbformat": 4,
  "nbformat_minor": 0,
  "metadata": {
    "colab": {
      "provenance": []
    },
    "kernelspec": {
      "name": "python3",
      "display_name": "Python 3"
    },
    "language_info": {
      "name": "python"
    }
  },
  "cells": [
    {
      "cell_type": "code",
      "execution_count": 1,
      "metadata": {
        "id": "V0JxISg6hqya",
        "colab": {
          "base_uri": "https://localhost:8080/"
        },
        "outputId": "3701b0b7-d9a2-4d79-f8db-a3a7a7820ec6"
      },
      "outputs": [
        {
          "output_type": "stream",
          "name": "stdout",
          "text": [
            "Drive already mounted at /content/drive; to attempt to forcibly remount, call drive.mount(\"/content/drive\", force_remount=True).\n"
          ]
        }
      ],
      "source": [
        "from google.colab import drive\n",
        "drive.mount('/content/drive')"
      ]
    },
    {
      "cell_type": "code",
      "source": [
        "import os\n",
        "os.chdir(\"/content/drive/MyDrive/Projects/GSSoC/LeNet on MNIST Dataset/\")"
      ],
      "metadata": {
        "id": "KzMl2dArF4P2"
      },
      "execution_count": 2,
      "outputs": []
    },
    {
      "cell_type": "code",
      "execution_count": 56,
      "metadata": {
        "id": "01LQnSyFM_1o"
      },
      "outputs": [],
      "source": [
        "import tensorflow as tf\n",
        "from tensorflow.keras import layers\n",
        "from tensorflow.keras.datasets import mnist\n",
        "from tensorflow.keras.models import Sequential\n",
        "from tensorflow.keras.layers import Conv2D, MaxPooling2D, Flatten, Dense\n",
        "from tensorflow.keras.preprocessing.image import ImageDataGenerator"
      ]
    },
    {
      "cell_type": "markdown",
      "source": [
        "# Loading and Preprocessing the MNIST dataset directly from tensorflow.keras"
      ],
      "metadata": {
        "id": "2ohdbYCpNqVe"
      }
    },
    {
      "cell_type": "code",
      "source": [
        "(X_train, Y_train), (X_test, Y_test) = mnist.load_data()"
      ],
      "metadata": {
        "id": "TqVwhWfOPS7-"
      },
      "execution_count": 4,
      "outputs": []
    },
    {
      "cell_type": "markdown",
      "source": [
        "### Resize images to match the expected input shape of the LeNet Model"
      ],
      "metadata": {
        "id": "8_1dS1uDPMIs"
      }
    },
    {
      "cell_type": "code",
      "source": [
        "X_train = X_train.reshape(-1, 28, 28, 1).astype('float32')\n",
        "X_test = X_test.reshape(-1, 28, 28, 1).astype('float32')"
      ],
      "metadata": {
        "id": "wuGCE3ycPJ4V"
      },
      "execution_count": 17,
      "outputs": []
    },
    {
      "cell_type": "markdown",
      "source": [
        "### Normalize the pixel values to the range [0, 1]"
      ],
      "metadata": {
        "id": "U7pnyqWwPXAu"
      }
    },
    {
      "cell_type": "code",
      "source": [
        "X_train = X_train/ 255.0\n",
        "X_test = X_test / 255.0"
      ],
      "metadata": {
        "id": "V5btVznQNhc4"
      },
      "execution_count": 19,
      "outputs": []
    },
    {
      "cell_type": "markdown",
      "source": [
        "### Convert the labels to a unsigned int format\n",
        "\n"
      ],
      "metadata": {
        "id": "khCSU0yzP-Bv"
      }
    },
    {
      "cell_type": "code",
      "source": [
        "Y_train = Y_train.astype('uint8')\n",
        "Y_test = Y_test.astype('uint8')"
      ],
      "metadata": {
        "id": "a5Jwzv2uP-bn"
      },
      "execution_count": 20,
      "outputs": []
    },
    {
      "cell_type": "markdown",
      "source": [
        "# Data Augmentation"
      ],
      "metadata": {
        "id": "tvBMucnHUotm"
      }
    },
    {
      "cell_type": "code",
      "source": [
        "datagen = ImageDataGenerator(rotation_range=10, width_shift_range=0.1, height_shift_range=0.1)\n",
        "datagen.fit(X_train)"
      ],
      "metadata": {
        "id": "JZ0oynyLUpRt"
      },
      "execution_count": 28,
      "outputs": []
    },
    {
      "cell_type": "markdown",
      "source": [
        "# Building the LeNet Model"
      ],
      "metadata": {
        "id": "bUL5ZsK_OWoX"
      }
    },
    {
      "cell_type": "code",
      "source": [
        "model = Sequential()\n",
        "\n",
        "# Convolutional layers\n",
        "model.add(Conv2D(6, kernel_size=(5, 5), activation='relu', input_shape=(28, 28, 1)))\n",
        "model.add(MaxPooling2D(pool_size=(2, 2)))\n",
        "model.add(Conv2D(16, kernel_size=(5, 5), activation='relu'))\n",
        "model.add(MaxPooling2D(pool_size=(2, 2)))\n",
        "\n",
        "# Flattening the outputs for the fully connected layers\n",
        "model.add(Flatten())\n",
        "\n",
        "# Fully Connected Layers\n",
        "model.add(Dense(120, activation='relu'))\n",
        "model.add(Dense(84, activation='relu'))\n",
        "model.add(Dense(10, activation='softmax'))  # Output layer has 10 classes because digits 0-9 are to be recognised"
      ],
      "metadata": {
        "id": "203NjsBzOC3Q"
      },
      "execution_count": 21,
      "outputs": []
    },
    {
      "cell_type": "markdown",
      "source": [
        "# Compiling the LeNet Model"
      ],
      "metadata": {
        "id": "tjgvTrx5OoHP"
      }
    },
    {
      "cell_type": "code",
      "source": [
        "# Compile the model\n",
        "model.compile(optimizer='adam', loss='categorical_crossentropy', metrics=['accuracy'])"
      ],
      "metadata": {
        "id": "NS6DLAv8Om7w"
      },
      "execution_count": 57,
      "outputs": []
    },
    {
      "cell_type": "markdown",
      "source": [
        "# Training the Model"
      ],
      "metadata": {
        "id": "tgz7QdGBOuQn"
      }
    },
    {
      "cell_type": "code",
      "source": [
        "history = model.fit(datagen.flow(X_train, Y_train, batch_size=32), steps_per_epoch=len(X_train) // 32, epochs=10)"
      ],
      "metadata": {
        "colab": {
          "base_uri": "https://localhost:8080/"
        },
        "id": "TxNUjVfsU3uE",
        "outputId": "2f3683c6-d677-49a8-e063-583e4ae56467"
      },
      "execution_count": 30,
      "outputs": [
        {
          "output_type": "stream",
          "name": "stdout",
          "text": [
            "Epoch 1/10\n",
            "1875/1875 [==============================] - 31s 17ms/step - loss: 0.1199 - accuracy: 0.9627\n",
            "Epoch 2/10\n",
            "1875/1875 [==============================] - 30s 16ms/step - loss: 0.0898 - accuracy: 0.9726\n",
            "Epoch 3/10\n",
            "1875/1875 [==============================] - 30s 16ms/step - loss: 0.0746 - accuracy: 0.9771\n",
            "Epoch 4/10\n",
            "1875/1875 [==============================] - 30s 16ms/step - loss: 0.0656 - accuracy: 0.9792\n",
            "Epoch 5/10\n",
            "1875/1875 [==============================] - 31s 17ms/step - loss: 0.0602 - accuracy: 0.9814\n",
            "Epoch 6/10\n",
            "1875/1875 [==============================] - 30s 16ms/step - loss: 0.0581 - accuracy: 0.9824\n",
            "Epoch 7/10\n",
            "1875/1875 [==============================] - 30s 16ms/step - loss: 0.0528 - accuracy: 0.9837\n",
            "Epoch 8/10\n",
            "1875/1875 [==============================] - 30s 16ms/step - loss: 0.0517 - accuracy: 0.9844\n",
            "Epoch 9/10\n",
            "1875/1875 [==============================] - 31s 17ms/step - loss: 0.0488 - accuracy: 0.9844\n",
            "Epoch 10/10\n",
            "1875/1875 [==============================] - 30s 16ms/step - loss: 0.0456 - accuracy: 0.9853\n"
          ]
        }
      ]
    },
    {
      "cell_type": "markdown",
      "source": [
        "# Make Predictions"
      ],
      "metadata": {
        "id": "O3ZF_13JYhqk"
      }
    },
    {
      "cell_type": "code",
      "source": [
        "Y_pred = model.predict(X_test)"
      ],
      "metadata": {
        "colab": {
          "base_uri": "https://localhost:8080/"
        },
        "id": "2Ktvth7VYhWb",
        "outputId": "1ae19c6d-4cf1-4199-b507-31972dcf3a36"
      },
      "execution_count": 41,
      "outputs": [
        {
          "output_type": "stream",
          "name": "stdout",
          "text": [
            "313/313 [==============================] - 2s 6ms/step\n"
          ]
        }
      ]
    },
    {
      "cell_type": "markdown",
      "source": [
        "# Evaluate Model"
      ],
      "metadata": {
        "id": "-sgqLKA0SFv1"
      }
    },
    {
      "cell_type": "code",
      "source": [
        "loss, accuracy = model.evaluate(X_test, Y_test)\n",
        "\n",
        "print(f'Test loss: {loss:.4f}')\n",
        "print(f'Test accuracy: {accuracy*100:.2f}%\\n')"
      ],
      "metadata": {
        "colab": {
          "base_uri": "https://localhost:8080/"
        },
        "id": "vzK27WoJSFTc",
        "outputId": "03e86064-43b8-4d93-8046-520fb200851e"
      },
      "execution_count": 51,
      "outputs": [
        {
          "output_type": "stream",
          "name": "stdout",
          "text": [
            "313/313 [==============================] - 1s 4ms/step - loss: 0.0300 - accuracy: 0.9906\n",
            "Test loss: 0.0300\n",
            "Test accuracy: 99.06%\n",
            "\n"
          ]
        }
      ]
    },
    {
      "cell_type": "code",
      "source": [],
      "metadata": {
        "id": "s-PSvZKUZj7b"
      },
      "execution_count": null,
      "outputs": []
    }
  ]
}