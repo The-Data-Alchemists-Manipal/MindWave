{
  "cells": [
    {
      "cell_type": "code",
      "execution_count": null,
      "metadata": {
        "id": "ldt_8CT--E_f"
      },
      "outputs": [],
      "source": [
        "import warnings\n",
        "import numpy as np\n",
        "import pandas as pd\n",
        "import matplotlib.pyplot as plt\n",
        "import seaborn as sns\n",
        "from tqdm import tqdm\n",
        "sns.set()\n",
        "\n",
        "data = pd.read_csv(\"dataset.csv\")\n",
        "data.head()"
      ]
    },
    {
      "cell_type": "code",
      "execution_count": null,
      "metadata": {
        "id": "LSD0iq7m9eYz"
      },
      "outputs": [],
      "source": [
        "data.info() #discovering the data"
      ]
    },
    {
      "cell_type": "code",
      "execution_count": null,
      "metadata": {
        "id": "bOX2eTtT9mlU"
      },
      "outputs": [],
      "source": [
        "data.isnull().sum()  #checking if there are any null entries"
      ]
    },
    {
      "cell_type": "code",
      "execution_count": null,
      "metadata": {
        "id": "Dvr7aalJ9qVe"
      },
      "outputs": [],
      "source": [
        "df = data.drop(columns=['id', 'name', 'artists', 'release_date', 'year'])  #dropping irrelevent data\n",
        "df.corr()"
      ]
    },
    {
      "cell_type": "code",
      "execution_count": null,
      "metadata": {
        "id": "cifrC7nq-JLZ"
      },
      "outputs": [],
      "source": [
        "from sklearn.preprocessing import MinMaxScaler\n",
        "datatypes = ['int16', 'int32', 'int64', 'float16', 'float32', 'float64']\n",
        "normarization = data.select_dtypes(include=datatypes)\n",
        "for col in normarization.columns:\n",
        "    MinMaxScaler(col)"
      ]
    },
    {
      "cell_type": "code",
      "execution_count": null,
      "metadata": {
        "id": "T0j_FPoD-e_5"
      },
      "outputs": [],
      "source": [
        "from sklearn.cluster import KMeans\n",
        "kmeans = KMeans(n_clusters=10)\n",
        "features = kmeans.fit_predict(normarization)\n",
        "data['features'] = features\n",
        "MinMaxScaler(data['features'])"
      ]
    },
    {
      "cell_type": "code",
      "execution_count": null,
      "metadata": {
        "id": "YcTDN-6N-mpa"
      },
      "outputs": [],
      "source": [
        "class Spotify_Recommendation():\n",
        "    def __init__(self, dataset):\n",
        "        self.dataset = dataset\n",
        "    def recommend(self, songs, amount=1):\n",
        "        distance = []\n",
        "        song = self.dataset[(self.dataset.name.str.lower() == songs.lower())].head(1).values[0]\n",
        "        rec = self.dataset[self.dataset.name.str.lower() != songs.lower()]\n",
        "        for songs in tqdm(rec.values):\n",
        "            d = 0\n",
        "            for col in np.arange(len(rec.columns)):\n",
        "                if not col in [1, 6, 12, 14, 18]:\n",
        "                    d = d + np.absolute(float(song[col]) - float(songs[col]))\n",
        "            distance.append(d)\n",
        "        rec['distance'] = distance\n",
        "        rec = rec.sort_values('distance')\n",
        "        columns = ['artists', 'name']\n",
        "        return rec[columns][:amount]\n",
        "\n",
        "recommendations = Spotify_Recommendation(data)\n",
        "\n",
        "base=input(\"enter your favourite song :\")\n",
        "no=input(\"enter the no of recommendations you want\")\n",
        "rec=recommendations.recommend(base, no)\n",
        "print(rec)"
      ]
    }
  ],
  "metadata": {
    "colab": {
      "provenance": []
    },
    "kernelspec": {
      "display_name": "Python 3",
      "name": "python3"
    },
    "language_info": {
      "name": "python"
    }
  },
  "nbformat": 4,
  "nbformat_minor": 0
}
