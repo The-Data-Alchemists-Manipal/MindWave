{
  "nbformat": 4,
  "nbformat_minor": 0,
  "metadata": {
    "colab": {
      "provenance": []
    },
    "kernelspec": {
      "name": "python3",
      "display_name": "Python 3"
    },
    "language_info": {
      "name": "python"
    }
  },
  "cells": [
    {
      "cell_type": "code",
      "execution_count": 71,
      "metadata": {
        "id": "FvT4yTaedS5k"
      },
      "outputs": [],
      "source": [
        "import numpy as np\n",
        "import matplotlib.pyplot as plt\n",
        "import pandas as pd \n",
        "import seaborn as sns"
      ]
    },
    {
      "cell_type": "code",
      "source": [
        "dataset = pd.read_csv('/content/EEG_Eye_State_Classification.csv')"
      ],
      "metadata": {
        "id": "PH8I9oYLdonc"
      },
      "execution_count": 72,
      "outputs": []
    },
    {
      "cell_type": "code",
      "source": [
        "dataset.head()"
      ],
      "metadata": {
        "colab": {
          "base_uri": "https://localhost:8080/",
          "height": 270
        },
        "id": "L7vcLBctd5wQ",
        "outputId": "7c48e640-df69-4e35-8b6d-31e9ab6bbdc8"
      },
      "execution_count": 73,
      "outputs": [
        {
          "output_type": "execute_result",
          "data": {
            "text/plain": [
              "       AF3       F7       F3      FC5       T7       P7       O1       O2  \\\n",
              "0  4329.23  4009.23  4289.23  4148.21  4350.26  4586.15  4096.92  4641.03   \n",
              "1  4324.62  4004.62  4293.85  4148.72  4342.05  4586.67  4097.44  4638.97   \n",
              "2  4327.69  4006.67  4295.38  4156.41  4336.92  4583.59  4096.92  4630.26   \n",
              "3  4328.72  4011.79  4296.41  4155.90  4343.59  4582.56  4097.44  4630.77   \n",
              "4  4326.15  4011.79  4292.31  4151.28  4347.69  4586.67  4095.90  4627.69   \n",
              "\n",
              "        P8       T8      FC6       F4       F8      AF4  eyeDetection  \n",
              "0  4222.05  4238.46  4211.28  4280.51  4635.90  4393.85             0  \n",
              "1  4210.77  4226.67  4207.69  4279.49  4632.82  4384.10             0  \n",
              "2  4207.69  4222.05  4206.67  4282.05  4628.72  4389.23             0  \n",
              "3  4217.44  4235.38  4210.77  4287.69  4632.31  4396.41             0  \n",
              "4  4210.77  4244.10  4212.82  4288.21  4632.82  4398.46             0  "
            ],
            "text/html": [
              "\n",
              "  <div id=\"df-d75436e9-459f-4bff-92a9-2e05fae2e772\">\n",
              "    <div class=\"colab-df-container\">\n",
              "      <div>\n",
              "<style scoped>\n",
              "    .dataframe tbody tr th:only-of-type {\n",
              "        vertical-align: middle;\n",
              "    }\n",
              "\n",
              "    .dataframe tbody tr th {\n",
              "        vertical-align: top;\n",
              "    }\n",
              "\n",
              "    .dataframe thead th {\n",
              "        text-align: right;\n",
              "    }\n",
              "</style>\n",
              "<table border=\"1\" class=\"dataframe\">\n",
              "  <thead>\n",
              "    <tr style=\"text-align: right;\">\n",
              "      <th></th>\n",
              "      <th>AF3</th>\n",
              "      <th>F7</th>\n",
              "      <th>F3</th>\n",
              "      <th>FC5</th>\n",
              "      <th>T7</th>\n",
              "      <th>P7</th>\n",
              "      <th>O1</th>\n",
              "      <th>O2</th>\n",
              "      <th>P8</th>\n",
              "      <th>T8</th>\n",
              "      <th>FC6</th>\n",
              "      <th>F4</th>\n",
              "      <th>F8</th>\n",
              "      <th>AF4</th>\n",
              "      <th>eyeDetection</th>\n",
              "    </tr>\n",
              "  </thead>\n",
              "  <tbody>\n",
              "    <tr>\n",
              "      <th>0</th>\n",
              "      <td>4329.23</td>\n",
              "      <td>4009.23</td>\n",
              "      <td>4289.23</td>\n",
              "      <td>4148.21</td>\n",
              "      <td>4350.26</td>\n",
              "      <td>4586.15</td>\n",
              "      <td>4096.92</td>\n",
              "      <td>4641.03</td>\n",
              "      <td>4222.05</td>\n",
              "      <td>4238.46</td>\n",
              "      <td>4211.28</td>\n",
              "      <td>4280.51</td>\n",
              "      <td>4635.90</td>\n",
              "      <td>4393.85</td>\n",
              "      <td>0</td>\n",
              "    </tr>\n",
              "    <tr>\n",
              "      <th>1</th>\n",
              "      <td>4324.62</td>\n",
              "      <td>4004.62</td>\n",
              "      <td>4293.85</td>\n",
              "      <td>4148.72</td>\n",
              "      <td>4342.05</td>\n",
              "      <td>4586.67</td>\n",
              "      <td>4097.44</td>\n",
              "      <td>4638.97</td>\n",
              "      <td>4210.77</td>\n",
              "      <td>4226.67</td>\n",
              "      <td>4207.69</td>\n",
              "      <td>4279.49</td>\n",
              "      <td>4632.82</td>\n",
              "      <td>4384.10</td>\n",
              "      <td>0</td>\n",
              "    </tr>\n",
              "    <tr>\n",
              "      <th>2</th>\n",
              "      <td>4327.69</td>\n",
              "      <td>4006.67</td>\n",
              "      <td>4295.38</td>\n",
              "      <td>4156.41</td>\n",
              "      <td>4336.92</td>\n",
              "      <td>4583.59</td>\n",
              "      <td>4096.92</td>\n",
              "      <td>4630.26</td>\n",
              "      <td>4207.69</td>\n",
              "      <td>4222.05</td>\n",
              "      <td>4206.67</td>\n",
              "      <td>4282.05</td>\n",
              "      <td>4628.72</td>\n",
              "      <td>4389.23</td>\n",
              "      <td>0</td>\n",
              "    </tr>\n",
              "    <tr>\n",
              "      <th>3</th>\n",
              "      <td>4328.72</td>\n",
              "      <td>4011.79</td>\n",
              "      <td>4296.41</td>\n",
              "      <td>4155.90</td>\n",
              "      <td>4343.59</td>\n",
              "      <td>4582.56</td>\n",
              "      <td>4097.44</td>\n",
              "      <td>4630.77</td>\n",
              "      <td>4217.44</td>\n",
              "      <td>4235.38</td>\n",
              "      <td>4210.77</td>\n",
              "      <td>4287.69</td>\n",
              "      <td>4632.31</td>\n",
              "      <td>4396.41</td>\n",
              "      <td>0</td>\n",
              "    </tr>\n",
              "    <tr>\n",
              "      <th>4</th>\n",
              "      <td>4326.15</td>\n",
              "      <td>4011.79</td>\n",
              "      <td>4292.31</td>\n",
              "      <td>4151.28</td>\n",
              "      <td>4347.69</td>\n",
              "      <td>4586.67</td>\n",
              "      <td>4095.90</td>\n",
              "      <td>4627.69</td>\n",
              "      <td>4210.77</td>\n",
              "      <td>4244.10</td>\n",
              "      <td>4212.82</td>\n",
              "      <td>4288.21</td>\n",
              "      <td>4632.82</td>\n",
              "      <td>4398.46</td>\n",
              "      <td>0</td>\n",
              "    </tr>\n",
              "  </tbody>\n",
              "</table>\n",
              "</div>\n",
              "      <button class=\"colab-df-convert\" onclick=\"convertToInteractive('df-d75436e9-459f-4bff-92a9-2e05fae2e772')\"\n",
              "              title=\"Convert this dataframe to an interactive table.\"\n",
              "              style=\"display:none;\">\n",
              "        \n",
              "  <svg xmlns=\"http://www.w3.org/2000/svg\" height=\"24px\"viewBox=\"0 0 24 24\"\n",
              "       width=\"24px\">\n",
              "    <path d=\"M0 0h24v24H0V0z\" fill=\"none\"/>\n",
              "    <path d=\"M18.56 5.44l.94 2.06.94-2.06 2.06-.94-2.06-.94-.94-2.06-.94 2.06-2.06.94zm-11 1L8.5 8.5l.94-2.06 2.06-.94-2.06-.94L8.5 2.5l-.94 2.06-2.06.94zm10 10l.94 2.06.94-2.06 2.06-.94-2.06-.94-.94-2.06-.94 2.06-2.06.94z\"/><path d=\"M17.41 7.96l-1.37-1.37c-.4-.4-.92-.59-1.43-.59-.52 0-1.04.2-1.43.59L10.3 9.45l-7.72 7.72c-.78.78-.78 2.05 0 2.83L4 21.41c.39.39.9.59 1.41.59.51 0 1.02-.2 1.41-.59l7.78-7.78 2.81-2.81c.8-.78.8-2.07 0-2.86zM5.41 20L4 18.59l7.72-7.72 1.47 1.35L5.41 20z\"/>\n",
              "  </svg>\n",
              "      </button>\n",
              "      \n",
              "  <style>\n",
              "    .colab-df-container {\n",
              "      display:flex;\n",
              "      flex-wrap:wrap;\n",
              "      gap: 12px;\n",
              "    }\n",
              "\n",
              "    .colab-df-convert {\n",
              "      background-color: #E8F0FE;\n",
              "      border: none;\n",
              "      border-radius: 50%;\n",
              "      cursor: pointer;\n",
              "      display: none;\n",
              "      fill: #1967D2;\n",
              "      height: 32px;\n",
              "      padding: 0 0 0 0;\n",
              "      width: 32px;\n",
              "    }\n",
              "\n",
              "    .colab-df-convert:hover {\n",
              "      background-color: #E2EBFA;\n",
              "      box-shadow: 0px 1px 2px rgba(60, 64, 67, 0.3), 0px 1px 3px 1px rgba(60, 64, 67, 0.15);\n",
              "      fill: #174EA6;\n",
              "    }\n",
              "\n",
              "    [theme=dark] .colab-df-convert {\n",
              "      background-color: #3B4455;\n",
              "      fill: #D2E3FC;\n",
              "    }\n",
              "\n",
              "    [theme=dark] .colab-df-convert:hover {\n",
              "      background-color: #434B5C;\n",
              "      box-shadow: 0px 1px 3px 1px rgba(0, 0, 0, 0.15);\n",
              "      filter: drop-shadow(0px 1px 2px rgba(0, 0, 0, 0.3));\n",
              "      fill: #FFFFFF;\n",
              "    }\n",
              "  </style>\n",
              "\n",
              "      <script>\n",
              "        const buttonEl =\n",
              "          document.querySelector('#df-d75436e9-459f-4bff-92a9-2e05fae2e772 button.colab-df-convert');\n",
              "        buttonEl.style.display =\n",
              "          google.colab.kernel.accessAllowed ? 'block' : 'none';\n",
              "\n",
              "        async function convertToInteractive(key) {\n",
              "          const element = document.querySelector('#df-d75436e9-459f-4bff-92a9-2e05fae2e772');\n",
              "          const dataTable =\n",
              "            await google.colab.kernel.invokeFunction('convertToInteractive',\n",
              "                                                     [key], {});\n",
              "          if (!dataTable) return;\n",
              "\n",
              "          const docLinkHtml = 'Like what you see? Visit the ' +\n",
              "            '<a target=\"_blank\" href=https://colab.research.google.com/notebooks/data_table.ipynb>data table notebook</a>'\n",
              "            + ' to learn more about interactive tables.';\n",
              "          element.innerHTML = '';\n",
              "          dataTable['output_type'] = 'display_data';\n",
              "          await google.colab.output.renderOutput(dataTable, element);\n",
              "          const docLink = document.createElement('div');\n",
              "          docLink.innerHTML = docLinkHtml;\n",
              "          element.appendChild(docLink);\n",
              "        }\n",
              "      </script>\n",
              "    </div>\n",
              "  </div>\n",
              "  "
            ]
          },
          "metadata": {},
          "execution_count": 73
        }
      ]
    },
    {
      "cell_type": "code",
      "source": [
        "#checking null value is there in dataset\n",
        "dataset.isna().sum()"
      ],
      "metadata": {
        "colab": {
          "base_uri": "https://localhost:8080/"
        },
        "id": "CvgQqXS7d_gJ",
        "outputId": "de1aa9a1-ad2b-468b-ef47-8a38ec1461fa"
      },
      "execution_count": 74,
      "outputs": [
        {
          "output_type": "execute_result",
          "data": {
            "text/plain": [
              "AF3             0\n",
              "F7              0\n",
              "F3              0\n",
              "FC5             0\n",
              "T7              0\n",
              "P7              0\n",
              "O1              0\n",
              "O2              0\n",
              "P8              0\n",
              "T8              0\n",
              "FC6             0\n",
              "F4              0\n",
              "F8              0\n",
              "AF4             0\n",
              "eyeDetection    0\n",
              "dtype: int64"
            ]
          },
          "metadata": {},
          "execution_count": 74
        }
      ]
    },
    {
      "cell_type": "code",
      "source": [
        "x = dataset.iloc[:,:-1].values\n",
        "y = dataset.iloc[:,-1].values"
      ],
      "metadata": {
        "id": "GqSdnVdQegVJ"
      },
      "execution_count": 75,
      "outputs": []
    },
    {
      "cell_type": "code",
      "source": [
        "print(x)"
      ],
      "metadata": {
        "colab": {
          "base_uri": "https://localhost:8080/"
        },
        "id": "w84b6BlMS2eu",
        "outputId": "7af1fbd5-ef03-440d-8020-0852089b27ab"
      },
      "execution_count": 76,
      "outputs": [
        {
          "output_type": "stream",
          "name": "stdout",
          "text": [
            "[[4329.23 4009.23 4289.23 ... 4280.51 4635.9  4393.85]\n",
            " [4324.62 4004.62 4293.85 ... 4279.49 4632.82 4384.1 ]\n",
            " [4327.69 4006.67 4295.38 ... 4282.05 4628.72 4389.23]\n",
            " ...\n",
            " [4277.44 3990.77 4246.67 ... 4257.95 4591.79 4339.49]\n",
            " [4284.62 3991.79 4251.28 ... 4267.18 4596.41 4350.77]\n",
            " [4287.69 3997.44 4260.   ... 4274.36 4597.95 4350.77]]\n"
          ]
        }
      ]
    },
    {
      "cell_type": "code",
      "source": [
        "print(y)"
      ],
      "metadata": {
        "colab": {
          "base_uri": "https://localhost:8080/"
        },
        "id": "LIQMJu33S_1Q",
        "outputId": "59c2b637-3c69-43fb-c3aa-8714c2ee70de"
      },
      "execution_count": 77,
      "outputs": [
        {
          "output_type": "stream",
          "name": "stdout",
          "text": [
            "[0 0 0 ... 1 1 1]\n"
          ]
        }
      ]
    },
    {
      "cell_type": "code",
      "source": [
        "from sklearn.model_selection import train_test_split\n",
        "x_train,x_test,y_train,y_test = train_test_split(x,y,test_size = 0.2 ,random_state = 2)"
      ],
      "metadata": {
        "id": "2xprtq-2TBzL"
      },
      "execution_count": 78,
      "outputs": []
    },
    {
      "cell_type": "code",
      "source": [
        "#Feature scaling of x variable"
      ],
      "metadata": {
        "id": "Thh_YtBRFy2J"
      },
      "execution_count": 79,
      "outputs": []
    },
    {
      "cell_type": "code",
      "source": [
        "\n",
        "from sklearn.preprocessing import StandardScaler\n",
        "sc = StandardScaler()\n",
        "x_train = sc.fit_transform(x_train)\n",
        "x_test = sc.transform(x_test)"
      ],
      "metadata": {
        "id": "SbAzihwhFYBG"
      },
      "execution_count": 80,
      "outputs": []
    },
    {
      "cell_type": "code",
      "source": [
        "from sklearn.svm import SVC\n",
        "from sklearn.ensemble import RandomForestClassifier\n",
        "from sklearn.linear_model import LogisticRegression\n",
        "from sklearn.neighbors import KNeighborsClassifier\n",
        "from sklearn.tree import DecisionTreeClassifier\n",
        "from sklearn.naive_bayes import GaussianNB  \n",
        "from sklearn.ensemble import AdaBoostClassifier\n",
        "from sklearn.ensemble import BaggingClassifier\n",
        "from sklearn.ensemble import ExtraTreesClassifier\n",
        "from xgboost import XGBClassifier\n",
        "#to find accuracy \n",
        "from sklearn.metrics import accuracy_score, precision_score"
      ],
      "metadata": {
        "id": "6WiGQgavVUay"
      },
      "execution_count": 81,
      "outputs": []
    },
    {
      "cell_type": "code",
      "source": [
        "svc = SVC(kernel = 'sigmoid',gamma = 1.0)\n",
        "rfc = RandomForestClassifier(n_estimators = 50, random_state = 2)\n",
        "lr = LogisticRegression(solver = 'liblinear')\n",
        "knn = KNeighborsClassifier()\n",
        "dtc = DecisionTreeClassifier(max_depth = 5)\n",
        "gnb = GaussianNB()\n",
        "adc = AdaBoostClassifier(n_estimators = 50, random_state = 2)\n",
        "bc = BaggingClassifier(n_estimators = 50, random_state = 2)\n",
        "etc = ExtraTreesClassifier(n_estimators = 50, random_state = 2)\n",
        "xbg = XGBClassifier(n_estimators = 50, random_state = 2)"
      ],
      "metadata": {
        "id": "NKbq1gRAeK3p"
      },
      "execution_count": 82,
      "outputs": []
    },
    {
      "cell_type": "code",
      "source": [
        "classifier = {\n",
        "    'SVM': svc,\n",
        "    'RandomForestClassifier' : rfc,\n",
        "    'Logistic_Regression': lr,\n",
        "    'KNN': knn,\n",
        "    'Decision Tree': dtc,\n",
        "    'Gaussian Naive Bayes': gnb,\n",
        "    'AdaBoost': adc,\n",
        "    'Bagging': bc,\n",
        "    'ExtraTree': etc,\n",
        "    'XGB': xbg\n",
        "}"
      ],
      "metadata": {
        "id": "oiM_xgx3fdSu"
      },
      "execution_count": 83,
      "outputs": []
    },
    {
      "cell_type": "code",
      "source": [
        "def train_classifier(classifier,x_train,x_test,y_train,y_test):\n",
        "  classifier.fit(x_train,y_train)\n",
        "  y_pred = classifier.predict(x_test)\n",
        "  accuracy = accuracy_score(y_test,y_pred)\n",
        "  precision = precision_score(y_test,y_pred)\n",
        "  return accuracy ,precision "
      ],
      "metadata": {
        "id": "z735WhOdgh8y"
      },
      "execution_count": 84,
      "outputs": []
    },
    {
      "cell_type": "code",
      "source": [
        "accuracy_score1 = []\n",
        "precision_score2 = []\n",
        "for name,clsr in classifier.items():\n",
        "  current_accuracy,current_precision = train_classifier(clsr,x_train,x_test,y_train,y_test)\n",
        "  print(\"Model - \", name)\n",
        "  print(\"Accuracy - \", current_accuracy)\n",
        "  print(\"Precision - \", current_precision)\n",
        "  print(\"\\n\")\n",
        "  accuracy_score1.append(current_accuracy)\n",
        "  precision_score2.append(current_precision)"
      ],
      "metadata": {
        "colab": {
          "base_uri": "https://localhost:8080/"
        },
        "id": "lLvoMom5hT-5",
        "outputId": "379048f3-39bf-4e02-e3ea-bce330b334d0"
      },
      "execution_count": 85,
      "outputs": [
        {
          "output_type": "stream",
          "name": "stdout",
          "text": [
            "Model -  SVM\n",
            "Accuracy -  0.5146862483311081\n",
            "Precision -  0.4540622627182992\n",
            "\n",
            "\n",
            "Model -  RandomForestClassifier\n",
            "Accuracy -  0.9168891855807744\n",
            "Precision -  0.9221183800623053\n",
            "\n",
            "\n",
            "Model -  Logistic_Regression\n",
            "Accuracy -  0.5947930574098799\n",
            "Precision -  0.5702479338842975\n",
            "\n",
            "\n",
            "Model -  KNN\n",
            "Accuracy -  0.8317757009345794\n",
            "Precision -  0.8156892612338157\n",
            "\n",
            "\n",
            "Model -  Decision Tree\n",
            "Accuracy -  0.6779038718291055\n",
            "Precision -  0.6735849056603773\n",
            "\n",
            "\n",
            "Model -  Gaussian Naive Bayes\n",
            "Accuracy -  0.4432576769025367\n",
            "Precision -  0.44261733470366565\n",
            "\n",
            "\n",
            "Model -  AdaBoost\n",
            "Accuracy -  0.735981308411215\n",
            "Precision -  0.7199675324675324\n",
            "\n",
            "\n",
            "Model -  Bagging\n",
            "Accuracy -  0.9122162883845126\n",
            "Precision -  0.9205974842767296\n",
            "\n",
            "\n",
            "Model -  ExtraTree\n",
            "Accuracy -  0.9389185580774366\n",
            "Precision -  0.9570747217806042\n",
            "\n",
            "\n",
            "Model -  XGB\n",
            "Accuracy -  0.9082109479305741\n",
            "Precision -  0.9069230769230769\n",
            "\n",
            "\n"
          ]
        }
      ]
    },
    {
      "cell_type": "code",
      "source": [
        "performance_dp = pd.DataFrame({'Algorithm ':classifier.keys(),'Accuracy ':accuracy_score1,'Precision':precision_score2})"
      ],
      "metadata": {
        "id": "4x5dPAuxiPWq"
      },
      "execution_count": 86,
      "outputs": []
    },
    {
      "cell_type": "code",
      "source": [
        "performance_dp"
      ],
      "metadata": {
        "id": "eyOOqk7SmXzR",
        "colab": {
          "base_uri": "https://localhost:8080/",
          "height": 363
        },
        "outputId": "14fe1c77-2741-4bbd-c27a-1ba748503ca9"
      },
      "execution_count": 87,
      "outputs": [
        {
          "output_type": "execute_result",
          "data": {
            "text/plain": [
              "               Algorithm   Accuracy   Precision\n",
              "0                     SVM   0.514686   0.454062\n",
              "1  RandomForestClassifier   0.916889   0.922118\n",
              "2     Logistic_Regression   0.594793   0.570248\n",
              "3                     KNN   0.831776   0.815689\n",
              "4           Decision Tree   0.677904   0.673585\n",
              "5    Gaussian Naive Bayes   0.443258   0.442617\n",
              "6                AdaBoost   0.735981   0.719968\n",
              "7                 Bagging   0.912216   0.920597\n",
              "8               ExtraTree   0.938919   0.957075\n",
              "9                     XGB   0.908211   0.906923"
            ],
            "text/html": [
              "\n",
              "  <div id=\"df-de51b438-7c4a-49a8-96b9-1b139d92d4e5\">\n",
              "    <div class=\"colab-df-container\">\n",
              "      <div>\n",
              "<style scoped>\n",
              "    .dataframe tbody tr th:only-of-type {\n",
              "        vertical-align: middle;\n",
              "    }\n",
              "\n",
              "    .dataframe tbody tr th {\n",
              "        vertical-align: top;\n",
              "    }\n",
              "\n",
              "    .dataframe thead th {\n",
              "        text-align: right;\n",
              "    }\n",
              "</style>\n",
              "<table border=\"1\" class=\"dataframe\">\n",
              "  <thead>\n",
              "    <tr style=\"text-align: right;\">\n",
              "      <th></th>\n",
              "      <th>Algorithm</th>\n",
              "      <th>Accuracy</th>\n",
              "      <th>Precision</th>\n",
              "    </tr>\n",
              "  </thead>\n",
              "  <tbody>\n",
              "    <tr>\n",
              "      <th>0</th>\n",
              "      <td>SVM</td>\n",
              "      <td>0.514686</td>\n",
              "      <td>0.454062</td>\n",
              "    </tr>\n",
              "    <tr>\n",
              "      <th>1</th>\n",
              "      <td>RandomForestClassifier</td>\n",
              "      <td>0.916889</td>\n",
              "      <td>0.922118</td>\n",
              "    </tr>\n",
              "    <tr>\n",
              "      <th>2</th>\n",
              "      <td>Logistic_Regression</td>\n",
              "      <td>0.594793</td>\n",
              "      <td>0.570248</td>\n",
              "    </tr>\n",
              "    <tr>\n",
              "      <th>3</th>\n",
              "      <td>KNN</td>\n",
              "      <td>0.831776</td>\n",
              "      <td>0.815689</td>\n",
              "    </tr>\n",
              "    <tr>\n",
              "      <th>4</th>\n",
              "      <td>Decision Tree</td>\n",
              "      <td>0.677904</td>\n",
              "      <td>0.673585</td>\n",
              "    </tr>\n",
              "    <tr>\n",
              "      <th>5</th>\n",
              "      <td>Gaussian Naive Bayes</td>\n",
              "      <td>0.443258</td>\n",
              "      <td>0.442617</td>\n",
              "    </tr>\n",
              "    <tr>\n",
              "      <th>6</th>\n",
              "      <td>AdaBoost</td>\n",
              "      <td>0.735981</td>\n",
              "      <td>0.719968</td>\n",
              "    </tr>\n",
              "    <tr>\n",
              "      <th>7</th>\n",
              "      <td>Bagging</td>\n",
              "      <td>0.912216</td>\n",
              "      <td>0.920597</td>\n",
              "    </tr>\n",
              "    <tr>\n",
              "      <th>8</th>\n",
              "      <td>ExtraTree</td>\n",
              "      <td>0.938919</td>\n",
              "      <td>0.957075</td>\n",
              "    </tr>\n",
              "    <tr>\n",
              "      <th>9</th>\n",
              "      <td>XGB</td>\n",
              "      <td>0.908211</td>\n",
              "      <td>0.906923</td>\n",
              "    </tr>\n",
              "  </tbody>\n",
              "</table>\n",
              "</div>\n",
              "      <button class=\"colab-df-convert\" onclick=\"convertToInteractive('df-de51b438-7c4a-49a8-96b9-1b139d92d4e5')\"\n",
              "              title=\"Convert this dataframe to an interactive table.\"\n",
              "              style=\"display:none;\">\n",
              "        \n",
              "  <svg xmlns=\"http://www.w3.org/2000/svg\" height=\"24px\"viewBox=\"0 0 24 24\"\n",
              "       width=\"24px\">\n",
              "    <path d=\"M0 0h24v24H0V0z\" fill=\"none\"/>\n",
              "    <path d=\"M18.56 5.44l.94 2.06.94-2.06 2.06-.94-2.06-.94-.94-2.06-.94 2.06-2.06.94zm-11 1L8.5 8.5l.94-2.06 2.06-.94-2.06-.94L8.5 2.5l-.94 2.06-2.06.94zm10 10l.94 2.06.94-2.06 2.06-.94-2.06-.94-.94-2.06-.94 2.06-2.06.94z\"/><path d=\"M17.41 7.96l-1.37-1.37c-.4-.4-.92-.59-1.43-.59-.52 0-1.04.2-1.43.59L10.3 9.45l-7.72 7.72c-.78.78-.78 2.05 0 2.83L4 21.41c.39.39.9.59 1.41.59.51 0 1.02-.2 1.41-.59l7.78-7.78 2.81-2.81c.8-.78.8-2.07 0-2.86zM5.41 20L4 18.59l7.72-7.72 1.47 1.35L5.41 20z\"/>\n",
              "  </svg>\n",
              "      </button>\n",
              "      \n",
              "  <style>\n",
              "    .colab-df-container {\n",
              "      display:flex;\n",
              "      flex-wrap:wrap;\n",
              "      gap: 12px;\n",
              "    }\n",
              "\n",
              "    .colab-df-convert {\n",
              "      background-color: #E8F0FE;\n",
              "      border: none;\n",
              "      border-radius: 50%;\n",
              "      cursor: pointer;\n",
              "      display: none;\n",
              "      fill: #1967D2;\n",
              "      height: 32px;\n",
              "      padding: 0 0 0 0;\n",
              "      width: 32px;\n",
              "    }\n",
              "\n",
              "    .colab-df-convert:hover {\n",
              "      background-color: #E2EBFA;\n",
              "      box-shadow: 0px 1px 2px rgba(60, 64, 67, 0.3), 0px 1px 3px 1px rgba(60, 64, 67, 0.15);\n",
              "      fill: #174EA6;\n",
              "    }\n",
              "\n",
              "    [theme=dark] .colab-df-convert {\n",
              "      background-color: #3B4455;\n",
              "      fill: #D2E3FC;\n",
              "    }\n",
              "\n",
              "    [theme=dark] .colab-df-convert:hover {\n",
              "      background-color: #434B5C;\n",
              "      box-shadow: 0px 1px 3px 1px rgba(0, 0, 0, 0.15);\n",
              "      filter: drop-shadow(0px 1px 2px rgba(0, 0, 0, 0.3));\n",
              "      fill: #FFFFFF;\n",
              "    }\n",
              "  </style>\n",
              "\n",
              "      <script>\n",
              "        const buttonEl =\n",
              "          document.querySelector('#df-de51b438-7c4a-49a8-96b9-1b139d92d4e5 button.colab-df-convert');\n",
              "        buttonEl.style.display =\n",
              "          google.colab.kernel.accessAllowed ? 'block' : 'none';\n",
              "\n",
              "        async function convertToInteractive(key) {\n",
              "          const element = document.querySelector('#df-de51b438-7c4a-49a8-96b9-1b139d92d4e5');\n",
              "          const dataTable =\n",
              "            await google.colab.kernel.invokeFunction('convertToInteractive',\n",
              "                                                     [key], {});\n",
              "          if (!dataTable) return;\n",
              "\n",
              "          const docLinkHtml = 'Like what you see? Visit the ' +\n",
              "            '<a target=\"_blank\" href=https://colab.research.google.com/notebooks/data_table.ipynb>data table notebook</a>'\n",
              "            + ' to learn more about interactive tables.';\n",
              "          element.innerHTML = '';\n",
              "          dataTable['output_type'] = 'display_data';\n",
              "          await google.colab.output.renderOutput(dataTable, element);\n",
              "          const docLink = document.createElement('div');\n",
              "          docLink.innerHTML = docLinkHtml;\n",
              "          element.appendChild(docLink);\n",
              "        }\n",
              "      </script>\n",
              "    </div>\n",
              "  </div>\n",
              "  "
            ]
          },
          "metadata": {},
          "execution_count": 87
        }
      ]
    },
    {
      "cell_type": "code",
      "source": [
        "#we can see that our extratree classifier is the best model\n"
      ],
      "metadata": {
        "id": "6AG4v3KVKfL_"
      },
      "execution_count": 88,
      "outputs": []
    },
    {
      "cell_type": "code",
      "source": [
        "import pickle\n",
        "pickle.dump(etc,open('/content/model.pkl','wb'))"
      ],
      "metadata": {
        "id": "8DqHz3h-GoNK"
      },
      "execution_count": 89,
      "outputs": []
    },
    {
      "cell_type": "code",
      "source": [
        "model_loaded = pickle.load(open('/content/model.pkl','rb'))"
      ],
      "metadata": {
        "id": "CgdbyvaeK_D0"
      },
      "execution_count": 90,
      "outputs": []
    },
    {
      "cell_type": "code",
      "source": [
        "y_pred = model_loaded.predict(x_test)\n",
        "print(y_pred)"
      ],
      "metadata": {
        "colab": {
          "base_uri": "https://localhost:8080/"
        },
        "id": "GR9irzlJLMfS",
        "outputId": "baeea2f7-cbb3-4735-fec6-d18dffc9c4e7"
      },
      "execution_count": 91,
      "outputs": [
        {
          "output_type": "stream",
          "name": "stdout",
          "text": [
            "[1 0 1 ... 1 0 1]\n"
          ]
        }
      ]
    },
    {
      "cell_type": "code",
      "source": [
        "#confusion matrix\n",
        "from sklearn.metrics import confusion_matrix\n",
        "cm = confusion_matrix(y_test,y_pred)\n",
        "print(\"Confusion matrix is \\n\",cm)\n",
        "print(\"\\nAccuracy of our model is \",accuracy_score(y_test,y_pred))"
      ],
      "metadata": {
        "colab": {
          "base_uri": "https://localhost:8080/"
        },
        "id": "corrCsEzLTKa",
        "outputId": "09bf0b22-0110-406a-c412-bfb39b607571"
      },
      "execution_count": 96,
      "outputs": [
        {
          "output_type": "stream",
          "name": "stdout",
          "text": [
            "Confusion matrix is \n",
            " [[1609   54]\n",
            " [ 129 1204]]\n",
            "\n",
            "Accuracy of our model is  0.9389185580774366\n"
          ]
        }
      ]
    },
    {
      "cell_type": "code",
      "source": [],
      "metadata": {
        "id": "-NVC3oiYLi-E"
      },
      "execution_count": 70,
      "outputs": []
    },
    {
      "cell_type": "code",
      "source": [],
      "metadata": {
        "id": "abyMTxkZMuga"
      },
      "execution_count": null,
      "outputs": []
    }
  ]
}