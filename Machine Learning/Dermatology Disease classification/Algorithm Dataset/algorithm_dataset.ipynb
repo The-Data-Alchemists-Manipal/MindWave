{
 "cells": [
  {
   "cell_type": "code",
   "execution_count": 7,
   "metadata": {},
   "outputs": [],
   "source": [
    "import numpy as np\n",
    "import pandas as pd\n",
    "import sklearn \n",
    "import matplotlib.pyplot as plt"
   ]
  },
  {
   "cell_type": "code",
   "execution_count": 8,
   "metadata": {},
   "outputs": [
    {
     "data": {
      "text/html": [
       "<div>\n",
       "<style scoped>\n",
       "    .dataframe tbody tr th:only-of-type {\n",
       "        vertical-align: middle;\n",
       "    }\n",
       "\n",
       "    .dataframe tbody tr th {\n",
       "        vertical-align: top;\n",
       "    }\n",
       "\n",
       "    .dataframe thead th {\n",
       "        text-align: right;\n",
       "    }\n",
       "</style>\n",
       "<table border=\"1\" class=\"dataframe\">\n",
       "  <thead>\n",
       "    <tr style=\"text-align: right;\">\n",
       "      <th></th>\n",
       "      <th>erythema</th>\n",
       "      <th>scaling</th>\n",
       "      <th>definite_borders</th>\n",
       "      <th>itching</th>\n",
       "      <th>koebner_phenomenon</th>\n",
       "      <th>polygonal_papules</th>\n",
       "      <th>follicular_papules</th>\n",
       "      <th>oral_mucosal_involvement</th>\n",
       "      <th>knee_and_elbow_involvement</th>\n",
       "      <th>scalp_involvement</th>\n",
       "      <th>...</th>\n",
       "      <th>disappearance_granular_layer</th>\n",
       "      <th>vacuolisation_damage_basal_layer</th>\n",
       "      <th>spongiosis</th>\n",
       "      <th>saw_tooth_appearance_retes</th>\n",
       "      <th>follicular_horn_plug</th>\n",
       "      <th>perifollicular_parakeratosis</th>\n",
       "      <th>inflammatory_mononuclear_infiltrate</th>\n",
       "      <th>band_like_infiltrate</th>\n",
       "      <th>age</th>\n",
       "      <th>class</th>\n",
       "    </tr>\n",
       "  </thead>\n",
       "  <tbody>\n",
       "    <tr>\n",
       "      <th>0</th>\n",
       "      <td>2</td>\n",
       "      <td>2</td>\n",
       "      <td>0</td>\n",
       "      <td>3</td>\n",
       "      <td>0</td>\n",
       "      <td>0</td>\n",
       "      <td>0</td>\n",
       "      <td>0</td>\n",
       "      <td>1</td>\n",
       "      <td>0</td>\n",
       "      <td>...</td>\n",
       "      <td>0</td>\n",
       "      <td>0</td>\n",
       "      <td>3</td>\n",
       "      <td>0</td>\n",
       "      <td>0</td>\n",
       "      <td>0</td>\n",
       "      <td>1</td>\n",
       "      <td>0</td>\n",
       "      <td>55</td>\n",
       "      <td>2</td>\n",
       "    </tr>\n",
       "    <tr>\n",
       "      <th>1</th>\n",
       "      <td>3</td>\n",
       "      <td>3</td>\n",
       "      <td>3</td>\n",
       "      <td>2</td>\n",
       "      <td>1</td>\n",
       "      <td>0</td>\n",
       "      <td>0</td>\n",
       "      <td>0</td>\n",
       "      <td>1</td>\n",
       "      <td>1</td>\n",
       "      <td>...</td>\n",
       "      <td>0</td>\n",
       "      <td>0</td>\n",
       "      <td>0</td>\n",
       "      <td>0</td>\n",
       "      <td>0</td>\n",
       "      <td>0</td>\n",
       "      <td>1</td>\n",
       "      <td>0</td>\n",
       "      <td>8</td>\n",
       "      <td>1</td>\n",
       "    </tr>\n",
       "    <tr>\n",
       "      <th>2</th>\n",
       "      <td>2</td>\n",
       "      <td>1</td>\n",
       "      <td>2</td>\n",
       "      <td>3</td>\n",
       "      <td>1</td>\n",
       "      <td>3</td>\n",
       "      <td>0</td>\n",
       "      <td>3</td>\n",
       "      <td>0</td>\n",
       "      <td>0</td>\n",
       "      <td>...</td>\n",
       "      <td>0</td>\n",
       "      <td>2</td>\n",
       "      <td>3</td>\n",
       "      <td>2</td>\n",
       "      <td>0</td>\n",
       "      <td>0</td>\n",
       "      <td>2</td>\n",
       "      <td>3</td>\n",
       "      <td>26</td>\n",
       "      <td>3</td>\n",
       "    </tr>\n",
       "    <tr>\n",
       "      <th>3</th>\n",
       "      <td>2</td>\n",
       "      <td>2</td>\n",
       "      <td>2</td>\n",
       "      <td>0</td>\n",
       "      <td>0</td>\n",
       "      <td>0</td>\n",
       "      <td>0</td>\n",
       "      <td>0</td>\n",
       "      <td>3</td>\n",
       "      <td>2</td>\n",
       "      <td>...</td>\n",
       "      <td>3</td>\n",
       "      <td>0</td>\n",
       "      <td>0</td>\n",
       "      <td>0</td>\n",
       "      <td>0</td>\n",
       "      <td>0</td>\n",
       "      <td>3</td>\n",
       "      <td>0</td>\n",
       "      <td>40</td>\n",
       "      <td>1</td>\n",
       "    </tr>\n",
       "    <tr>\n",
       "      <th>4</th>\n",
       "      <td>2</td>\n",
       "      <td>3</td>\n",
       "      <td>2</td>\n",
       "      <td>2</td>\n",
       "      <td>2</td>\n",
       "      <td>2</td>\n",
       "      <td>0</td>\n",
       "      <td>2</td>\n",
       "      <td>0</td>\n",
       "      <td>0</td>\n",
       "      <td>...</td>\n",
       "      <td>2</td>\n",
       "      <td>3</td>\n",
       "      <td>2</td>\n",
       "      <td>3</td>\n",
       "      <td>0</td>\n",
       "      <td>0</td>\n",
       "      <td>2</td>\n",
       "      <td>3</td>\n",
       "      <td>45</td>\n",
       "      <td>3</td>\n",
       "    </tr>\n",
       "  </tbody>\n",
       "</table>\n",
       "<p>5 rows × 35 columns</p>\n",
       "</div>"
      ],
      "text/plain": [
       "   erythema  scaling  definite_borders  itching  koebner_phenomenon   \n",
       "0         2        2                 0        3                   0  \\\n",
       "1         3        3                 3        2                   1   \n",
       "2         2        1                 2        3                   1   \n",
       "3         2        2                 2        0                   0   \n",
       "4         2        3                 2        2                   2   \n",
       "\n",
       "   polygonal_papules  follicular_papules  oral_mucosal_involvement   \n",
       "0                  0                   0                         0  \\\n",
       "1                  0                   0                         0   \n",
       "2                  3                   0                         3   \n",
       "3                  0                   0                         0   \n",
       "4                  2                   0                         2   \n",
       "\n",
       "   knee_and_elbow_involvement  scalp_involvement  ...   \n",
       "0                           1                  0  ...  \\\n",
       "1                           1                  1  ...   \n",
       "2                           0                  0  ...   \n",
       "3                           3                  2  ...   \n",
       "4                           0                  0  ...   \n",
       "\n",
       "   disappearance_granular_layer  vacuolisation_damage_basal_layer  spongiosis   \n",
       "0                             0                                 0           3  \\\n",
       "1                             0                                 0           0   \n",
       "2                             0                                 2           3   \n",
       "3                             3                                 0           0   \n",
       "4                             2                                 3           2   \n",
       "\n",
       "   saw_tooth_appearance_retes  follicular_horn_plug   \n",
       "0                           0                     0  \\\n",
       "1                           0                     0   \n",
       "2                           2                     0   \n",
       "3                           0                     0   \n",
       "4                           3                     0   \n",
       "\n",
       "   perifollicular_parakeratosis  inflammatory_mononuclear_infiltrate   \n",
       "0                             0                                    1  \\\n",
       "1                             0                                    1   \n",
       "2                             0                                    2   \n",
       "3                             0                                    3   \n",
       "4                             0                                    2   \n",
       "\n",
       "   band_like_infiltrate  age  class  \n",
       "0                     0   55      2  \n",
       "1                     0    8      1  \n",
       "2                     3   26      3  \n",
       "3                     0   40      1  \n",
       "4                     3   45      3  \n",
       "\n",
       "[5 rows x 35 columns]"
      ]
     },
     "execution_count": 8,
     "metadata": {},
     "output_type": "execute_result"
    }
   ],
   "source": [
    "dataset=pd.read_csv('dermatology_database_1.csv')\n",
    "dataset.head()"
   ]
  },
  {
   "cell_type": "code",
   "execution_count": 9,
   "metadata": {},
   "outputs": [
    {
     "data": {
      "text/plain": [
       "erythema                               0\n",
       "scaling                                0\n",
       "definite_borders                       0\n",
       "itching                                0\n",
       "koebner_phenomenon                     0\n",
       "polygonal_papules                      0\n",
       "follicular_papules                     0\n",
       "oral_mucosal_involvement               0\n",
       "knee_and_elbow_involvement             0\n",
       "scalp_involvement                      0\n",
       "family_history                         0\n",
       "melanin_incontinence                   0\n",
       "eosinophils_infiltrate                 0\n",
       "PNL_infiltrate                         0\n",
       "fibrosis_papillary_dermis              0\n",
       "exocytosis                             0\n",
       "acanthosis                             0\n",
       "hyperkeratosis                         0\n",
       "parakeratosis                          0\n",
       "clubbing_rete_ridges                   0\n",
       "elongation_rete_ridges                 0\n",
       "thinning_suprapapillary_epidermis      0\n",
       "spongiform_pustule                     0\n",
       "munro_microabcess                      0\n",
       "focal_hypergranulosis                  0\n",
       "disappearance_granular_layer           0\n",
       "vacuolisation_damage_basal_layer       0\n",
       "spongiosis                             0\n",
       "saw_tooth_appearance_retes             0\n",
       "follicular_horn_plug                   0\n",
       "perifollicular_parakeratosis           0\n",
       "inflammatory_mononuclear_infiltrate    0\n",
       "band_like_infiltrate                   0\n",
       "age                                    0\n",
       "class                                  0\n",
       "dtype: int64"
      ]
     },
     "execution_count": 9,
     "metadata": {},
     "output_type": "execute_result"
    }
   ],
   "source": [
    "dataset.isna().sum()"
   ]
  },
  {
   "cell_type": "code",
   "execution_count": 10,
   "metadata": {},
   "outputs": [],
   "source": [
    "X=dataset.iloc[:,:-1].values\n",
    "Y=dataset.iloc[:,-1].values\n"
   ]
  },
  {
   "cell_type": "code",
   "execution_count": 11,
   "metadata": {},
   "outputs": [],
   "source": [
    "from sklearn import svm\n",
    "from sklearn.ensemble import RandomForestClassifier\n",
    "from sklearn.linear_model import LogisticRegression\n",
    "from sklearn.pipeline import make_pipeline\n",
    "from sklearn.model_selection import GridSearchCV\n",
    "model_params={\n",
    "    'svm':{\n",
    "        'model':svm.SVC(gamma='auto',probability=True),\n",
    "        'params':{\n",
    "            'C':[1,10,100,1000],\n",
    "            'kernel':['rbf','linear']\n",
    "        }\n",
    "    },\n",
    "    'random_forest':{\n",
    "        'model':RandomForestClassifier(),\n",
    "        'params':{\n",
    "            'n_estimators':[1,5,10]\n",
    "        }\n",
    "    },\n",
    "    'logistic_regression':{\n",
    "        'model':LogisticRegression(solver='liblinear',multi_class='auto'),\n",
    "        'params':{\n",
    "            'C':[1,5,10]\n",
    "        }\n",
    "    }\n",
    "}"
   ]
  },
  {
   "cell_type": "code",
   "execution_count": 12,
   "metadata": {},
   "outputs": [],
   "source": [
    "from sklearn.model_selection import train_test_split\n",
    "X_train,X_test,Y_train,Y_test=train_test_split(X,Y,test_size=0.2,random_state=0)"
   ]
  },
  {
   "cell_type": "code",
   "execution_count": 13,
   "metadata": {},
   "outputs": [
    {
     "data": {
      "text/html": [
       "<div>\n",
       "<style scoped>\n",
       "    .dataframe tbody tr th:only-of-type {\n",
       "        vertical-align: middle;\n",
       "    }\n",
       "\n",
       "    .dataframe tbody tr th {\n",
       "        vertical-align: top;\n",
       "    }\n",
       "\n",
       "    .dataframe thead th {\n",
       "        text-align: right;\n",
       "    }\n",
       "</style>\n",
       "<table border=\"1\" class=\"dataframe\">\n",
       "  <thead>\n",
       "    <tr style=\"text-align: right;\">\n",
       "      <th></th>\n",
       "      <th>model</th>\n",
       "      <th>best_score</th>\n",
       "      <th>best_params</th>\n",
       "    </tr>\n",
       "  </thead>\n",
       "  <tbody>\n",
       "    <tr>\n",
       "      <th>0</th>\n",
       "      <td>svm</td>\n",
       "      <td>0.968542</td>\n",
       "      <td>{'C': 1, 'kernel': 'linear'}</td>\n",
       "    </tr>\n",
       "    <tr>\n",
       "      <th>1</th>\n",
       "      <td>random_forest</td>\n",
       "      <td>0.975620</td>\n",
       "      <td>{'n_estimators': 10}</td>\n",
       "    </tr>\n",
       "    <tr>\n",
       "      <th>2</th>\n",
       "      <td>logistic_regression</td>\n",
       "      <td>0.982456</td>\n",
       "      <td>{'C': 1}</td>\n",
       "    </tr>\n",
       "  </tbody>\n",
       "</table>\n",
       "</div>"
      ],
      "text/plain": [
       "                 model  best_score                   best_params\n",
       "0                  svm    0.968542  {'C': 1, 'kernel': 'linear'}\n",
       "1        random_forest    0.975620          {'n_estimators': 10}\n",
       "2  logistic_regression    0.982456                      {'C': 1}"
      ]
     },
     "execution_count": 13,
     "metadata": {},
     "output_type": "execute_result"
    }
   ],
   "source": [
    "scores=[]\n",
    "best_estimators={}\n",
    "for algo,mp in model_params.items():\n",
    "  \n",
    "  clf=GridSearchCV(mp['model'],mp['params'],cv=5,return_train_score=False)\n",
    "  clf.fit(X_train,Y_train)\n",
    "  scores.append({\n",
    "      'model':algo,\n",
    "      'best_score':clf.best_score_,\n",
    "      'best_params':clf.best_params_\n",
    "  })\n",
    "  best_estimators[algo]=clf.best_estimator_\n",
    "\n",
    "df =pd.DataFrame(scores,columns=['model','best_score','best_params'])\n",
    "df"
   ]
  },
  {
   "cell_type": "code",
   "execution_count": 14,
   "metadata": {},
   "outputs": [
    {
     "data": {
      "text/plain": [
       "0.9305555555555556"
      ]
     },
     "execution_count": 14,
     "metadata": {},
     "output_type": "execute_result"
    }
   ],
   "source": [
    "best_estimators['random_forest'].score(X_test,Y_test)"
   ]
  },
  {
   "cell_type": "code",
   "execution_count": 15,
   "metadata": {},
   "outputs": [
    {
     "data": {
      "text/plain": [
       "0.9305555555555556"
      ]
     },
     "execution_count": 15,
     "metadata": {},
     "output_type": "execute_result"
    }
   ],
   "source": [
    "best_estimators['svm'].score(X_test,Y_test)"
   ]
  },
  {
   "cell_type": "code",
   "execution_count": 16,
   "metadata": {},
   "outputs": [],
   "source": [
    "best_clf=best_estimators['logistic_regression']"
   ]
  },
  {
   "cell_type": "code",
   "execution_count": 17,
   "metadata": {},
   "outputs": [
    {
     "data": {
      "text/plain": [
       "['Trained_model.pkl']"
      ]
     },
     "execution_count": 17,
     "metadata": {},
     "output_type": "execute_result"
    }
   ],
   "source": [
    "\n",
    "import joblib\n",
    "joblib.dump(best_clf,'Trained_model.pkl')"
   ]
  }
 ],
 "metadata": {
  "kernelspec": {
   "display_name": "Python 3",
   "language": "python",
   "name": "python3"
  },
  "language_info": {
   "codemirror_mode": {
    "name": "ipython",
    "version": 3
   },
   "file_extension": ".py",
   "mimetype": "text/x-python",
   "name": "python",
   "nbconvert_exporter": "python",
   "pygments_lexer": "ipython3",
   "version": "3.10.8"
  },
  "orig_nbformat": 4
 },
 "nbformat": 4,
 "nbformat_minor": 2
}
