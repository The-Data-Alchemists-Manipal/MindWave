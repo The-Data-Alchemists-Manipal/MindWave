{
 "cells": [
  {
   "cell_type": "code",
   "execution_count": 1,
   "metadata": {},
   "outputs": [],
   "source": [
    "import pandas as pd\n",
    "import numpy as np\n",
    "import matplotlib.pyplot as plt\n",
    "import seaborn as sns\n",
    "from sklearn.cluster import KMeans, AgglomerativeClustering, DBSCAN\n",
    "from sklearn.preprocessing import StandardScaler\n",
    "from sklearn.metrics import silhouette_score\n",
    "from scipy.cluster.hierarchy import dendrogram"
   ]
  },
  {
   "cell_type": "code",
   "execution_count": 7,
   "metadata": {},
   "outputs": [],
   "source": [
    "df = pd.read_csv('segmentation data legend.xlsx')\n",
    "df.head(10)"
   ]
  },
  {
   "cell_type": "code",
   "execution_count": null,
   "metadata": {},
   "outputs": [],
   "source": [
    "df.describe()"
   ]
  },
  {
   "cell_type": "code",
   "execution_count": null,
   "metadata": {},
   "outputs": [],
   "source": [
    "df.info()"
   ]
  },
  {
   "cell_type": "code",
   "execution_count": null,
   "metadata": {},
   "outputs": [],
   "source": [
    "df.isna().sum()"
   ]
  },
  {
   "cell_type": "code",
   "execution_count": null,
   "metadata": {},
   "outputs": [],
   "source": [
    "df.shape"
   ]
  },
  {
   "cell_type": "code",
   "execution_count": null,
   "metadata": {},
   "outputs": [],
   "source": [
    "df.drop(['ID'], inplace = True, axis = 1)"
   ]
  },
  {
   "cell_type": "code",
   "execution_count": null,
   "metadata": {},
   "outputs": [],
   "source": [
    "plt.figure(figsize=(21,15))\n",
    "\n",
    "plt.subplot2grid((2,2), (0,0))\n",
    "box1 = sns.boxplot(y=df.Age)\n",
    "plt.title(\"Age\")\n",
    "\n",
    "plt.subplot2grid((2,2), (0,1))\n",
    "box2 = sns.boxplot(y=df.Income)\n",
    "plt.title(\"Income\")\n",
    "\n",
    "plt.show()"
   ]
  },
  {
   "cell_type": "code",
   "execution_count": null,
   "metadata": {},
   "outputs": [],
   "source": [
    "df.Age.describe()"
   ]
  },
  {
   "cell_type": "code",
   "execution_count": null,
   "metadata": {},
   "outputs": [],
   "source": [
    "df.Income.describe()\n"
   ]
  },
  {
   "cell_type": "code",
   "execution_count": null,
   "metadata": {},
   "outputs": [],
   "source": [
    "plt.figure(figsize=(21,15))\n",
    "\n",
    "plt.subplot2grid((3,3), (0,0))\n",
    "sns.histplot(df.Sex.astype(str), stat='proportion')\n",
    "\n",
    "plt.subplot2grid((3,3), (0,1))\n",
    "sns.histplot(df['Marital status'].astype(str), stat='proportion')\n",
    "\n",
    "plt.subplot2grid((3,3), (0,2))\n",
    "sns.histplot(df.Education.astype(str).sort_values(), stat='proportion')\n",
    "\n",
    "plt.subplot2grid((3,3), (1,0))\n",
    "sns.histplot(df.Occupation.astype(str).sort_values(), stat='proportion')\n",
    "\n",
    "plt.subplot2grid((3,3), (1,1))\n",
    "sns.histplot(df['Settlement size'].astype(str).sort_values(), stat='proportion')\n",
    "\n",
    "plt.show()"
   ]
  },
  {
   "cell_type": "code",
   "execution_count": null,
   "metadata": {},
   "outputs": [],
   "source": [
    "import warnings \n",
    "\n",
    "warnings.filterwarnings('ignore')\n",
    "\n",
    "\n",
    "# Make the plots\n",
    "sns.displot(df, x=df['Marital status'], hue=\"Sex\", kind=\"kde\", fill=True, ax=axs[0,0], height=3, aspect=1.5)\n",
    "sns.displot(df, x=df['Age'], hue=\"Sex\", kind=\"kde\", fill=True, ax=axs[0,1], height=3, aspect=1.5)\n",
    "sns.displot(df, x=df['Education'], hue=\"Sex\", kind=\"kde\", fill=True, ax=axs[1,0], height=3, aspect=1.5)\n",
    "sns.displot(df, x=df['Income'], hue=\"Sex\", kind=\"kde\", fill=True, ax=axs[1,1], height=3, aspect=1.5)\n",
    "sns.displot(df, x=df['Occupation'], hue=\"Sex\", kind=\"kde\", fill=True, ax=axs[2,0], height=3, aspect=1.5)\n",
    "\n",
    "# Display the plots\n",
    "plt.show()"
   ]
  },
  {
   "cell_type": "code",
   "execution_count": null,
   "metadata": {},
   "outputs": [],
   "source": [
    "col_names = df.columns\n",
    "features = df[col_names]\n",
    "\n",
    "scaler = StandardScaler().fit(features.values)\n",
    "features = scaler.transform(features.values)\n",
    "scaled = pd.DataFrame(features, columns = col_names)\n",
    "scaled.head()"
   ]
  },
  {
   "cell_type": "code",
   "execution_count": null,
   "metadata": {},
   "outputs": [],
   "source": [
    "data=scaled[['Age','Income']]\n",
    "data.head()"
   ]
  },
  {
   "cell_type": "code",
   "execution_count": null,
   "metadata": {},
   "outputs": [],
   "source": [
    "wcss = {'wcss_score':[], 'no_of_clusters':[]}\n",
    "for i in range(1,11):\n",
    "    kmeans = KMeans(i, random_state=0)\n",
    "    kmeans.fit(data)\n",
    "    wcss['wcss_score'].append(kmeans.inertia_)\n",
    "    wcss['no_of_clusters'].append(i)\n",
    "wcss_df = pd.DataFrame(wcss)\n",
    "\n",
    "wcss_df.head(15)"
   ]
  },
  {
   "cell_type": "code",
   "execution_count": null,
   "metadata": {},
   "outputs": [],
   "source": [
    "plt.figure(figsize=(14,10))\n",
    "plt.plot(wcss_df.no_of_clusters, wcss_df.wcss_score, marker='o')\n",
    "plt.title(\"Elbow Method to determine number of clusters(K)\")\n",
    "plt.show()"
   ]
  },
  {
   "cell_type": "code",
   "execution_count": null,
   "metadata": {},
   "outputs": [],
   "source": [
    "kmeans=KMeans(n_clusters=4,random_state=0) \n",
    "kmeans.fit(data)"
   ]
  },
  {
   "cell_type": "code",
   "execution_count": null,
   "metadata": {},
   "outputs": [],
   "source": [
    "prediction=kmeans.fit_predict(data)\n",
    "prediction\n",
    "\n",
    "clustered_data = df.copy()\n",
    "clustered_data[\"cluster_index\"] = prediction"
   ]
  },
  {
   "cell_type": "code",
   "execution_count": null,
   "metadata": {},
   "outputs": [],
   "source": [
    "clustered_data"
   ]
  },
  {
   "cell_type": "code",
   "execution_count": null,
   "metadata": {},
   "outputs": [],
   "source": [
    "sns.scatterplot(x=clustered_data.Age,\n",
    "                y=clustered_data.Income,\n",
    "                hue=clustered_data.cluster_index,\n",
    "                palette=\"deep\")"
   ]
  },
  {
   "cell_type": "code",
   "execution_count": null,
   "metadata": {},
   "outputs": [],
   "source": [
    "score = silhouette_score(df, clustered_data.cluster_index, random_state=0)\n",
    "print(f\"Silhouette score: {score:0.3f} ~ 0\")"
   ]
  },
  {
   "cell_type": "code",
   "execution_count": null,
   "metadata": {},
   "outputs": [],
   "source": [
    "def s_score(distance, linkage):\n",
    "    agc = AgglomerativeClustering(n_clusters=4, affinity=distance, linkage=linkage)\n",
    "    agc.fit_predict(scaled)\n",
    "    score = silhouette_score(scaled, agc.labels_, random_state=0)\n",
    "    return score"
   ]
  },
  {
   "cell_type": "code",
   "execution_count": null,
   "metadata": {},
   "outputs": [],
   "source": [
    "distances = ['euclidean', 'l1', 'l2', 'manhattan', 'cosine']\n",
    "linkages = ['ward', 'complete', 'average', 'single']"
   ]
  },
  {
   "cell_type": "code",
   "execution_count": null,
   "metadata": {},
   "outputs": [],
   "source": [
    "scoring = {'dist':[], 'link':[], 'sScore':[]}\n",
    "for i in distances:\n",
    "    for j in linkages:\n",
    "        try:\n",
    "            score = s_score(i, j)\n",
    "            scoring['dist'].append(i)\n",
    "            scoring['link'].append(j)\n",
    "            scoring['sScore'].append(score)\n",
    "        except:\n",
    "            scoring['dist'].append(i)\n",
    "            scoring['link'].append(j)\n",
    "            scoring['sScore'].append(np.nan)\n",
    "scoringDf = pd.DataFrame(scoring)"
   ]
  },
  {
   "cell_type": "code",
   "execution_count": null,
   "metadata": {},
   "outputs": [],
   "source": [
    "scoringDf.dropna(axis=0, inplace=True)\n"
   ]
  },
  {
   "cell_type": "code",
   "execution_count": null,
   "metadata": {},
   "outputs": [],
   "source": [
    "final_result = scoringDf[scoringDf['sScore'] == max(scoringDf['sScore'])]\n",
    "final_result"
   ]
  },
  {
   "cell_type": "code",
   "execution_count": null,
   "metadata": {},
   "outputs": [],
   "source": [
    "dbs = DBSCAN(eps=2, min_samples=10)\n",
    "dbs.fit_predict(scaled)\n",
    "score = silhouette_score(scaled, dbs.labels_, random_state=0)\n",
    "print(f\"Silhouette score: {score:0.3f}\")"
   ]
  }
 ],
 "metadata": {
  "kernelspec": {
   "display_name": "Python 3",
   "language": "python",
   "name": "python3"
  },
  "language_info": {
   "codemirror_mode": {
    "name": "ipython",
    "version": 3
   },
   "file_extension": ".py",
   "mimetype": "text/x-python",
   "name": "python",
   "nbconvert_exporter": "python",
   "pygments_lexer": "ipython3",
   "version": "3.10.6"
  },
  "orig_nbformat": 4
 },
 "nbformat": 4,
 "nbformat_minor": 2
}
