{
  "nbformat": 4,
  "nbformat_minor": 0,
  "metadata": {
    "colab": {
      "provenance": []
    },
    "kernelspec": {
      "name": "python3",
      "display_name": "Python 3"
    },
    "language_info": {
      "name": "python"
    }
  },
  "cells": [
    {
      "cell_type": "code",
      "execution_count": 1,
      "metadata": {
        "id": "CX_oqoac4abn"
      },
      "outputs": [],
      "source": [
        "import pandas as pd"
      ]
    },
    {
      "cell_type": "code",
      "source": [
        "df = pd.read_csv('/content/final_data.csv')"
      ],
      "metadata": {
        "id": "a-vkqI7O4fnk"
      },
      "execution_count": 2,
      "outputs": []
    },
    {
      "cell_type": "code",
      "source": [
        "df"
      ],
      "metadata": {
        "colab": {
          "base_uri": "https://localhost:8080/",
          "height": 423
        },
        "id": "HHX4WUJm4tUy",
        "outputId": "930e8cd0-7959-4c86-d725-5b05f7382224"
      },
      "execution_count": 3,
      "outputs": [
        {
          "output_type": "execute_result",
          "data": {
            "text/plain": [
              "                                            Discription  \\\n",
              "0     KINGDOM OF WHITE Replay Full Sleeves White Shi...   \n",
              "1                   United Colors of Benetton Men Shirt   \n",
              "2     KINGDOM OF WHITE Cloudy Full Sleeves White Kur...   \n",
              "3                   United Colors of Benetton Men Shirt   \n",
              "4     Dennis Lingo Men's Solid Slim Fit Cotton Casua...   \n",
              "...                                                 ...   \n",
              "1251              Multi-color High Neck Heart Print Top   \n",
              "1252                  Women Self Design Regular Fit Top   \n",
              "1253                                     Lilac Crop Top   \n",
              "1254                            Blue Printed A-Line Top   \n",
              "1255                       Peacock Cinched Shirt Jacket   \n",
              "\n",
              "                                                    url        Vendor  \n",
              "0     https://www.amazon.in/sspa/click?ie=UTF8&spc=M...        Amazon  \n",
              "1     https://www.amazon.in/sspa/click?ie=UTF8&spc=M...        Amazon  \n",
              "2     https://www.amazon.in/sspa/click?ie=UTF8&spc=M...        Amazon  \n",
              "3     https://www.amazon.in/sspa/click?ie=UTF8&spc=M...        Amazon  \n",
              "4     https://www.amazon.in/Dennis-Lingo-Solid-Casua...        Amazon  \n",
              "...                                                 ...           ...  \n",
              "1251  https://www.nykaafashion.com/mixt-by-nykaa-fas...  NykaaFashion  \n",
              "1252  https://www.nykaafashion.com/only-women-self-d...  NykaaFashion  \n",
              "1253  https://www.nykaafashion.com/i-saw-it-first-li...  NykaaFashion  \n",
              "1254  https://www.nykaafashion.com/qomn-blue-printed...  NykaaFashion  \n",
              "1255  https://www.nykaafashion.com/shaye-peacock-cin...  NykaaFashion  \n",
              "\n",
              "[1256 rows x 3 columns]"
            ],
            "text/html": [
              "\n",
              "  <div id=\"df-d7b90040-1e46-49b6-9c74-f8658aa3581a\">\n",
              "    <div class=\"colab-df-container\">\n",
              "      <div>\n",
              "<style scoped>\n",
              "    .dataframe tbody tr th:only-of-type {\n",
              "        vertical-align: middle;\n",
              "    }\n",
              "\n",
              "    .dataframe tbody tr th {\n",
              "        vertical-align: top;\n",
              "    }\n",
              "\n",
              "    .dataframe thead th {\n",
              "        text-align: right;\n",
              "    }\n",
              "</style>\n",
              "<table border=\"1\" class=\"dataframe\">\n",
              "  <thead>\n",
              "    <tr style=\"text-align: right;\">\n",
              "      <th></th>\n",
              "      <th>Discription</th>\n",
              "      <th>url</th>\n",
              "      <th>Vendor</th>\n",
              "    </tr>\n",
              "  </thead>\n",
              "  <tbody>\n",
              "    <tr>\n",
              "      <th>0</th>\n",
              "      <td>KINGDOM OF WHITE Replay Full Sleeves White Shi...</td>\n",
              "      <td>https://www.amazon.in/sspa/click?ie=UTF8&amp;spc=M...</td>\n",
              "      <td>Amazon</td>\n",
              "    </tr>\n",
              "    <tr>\n",
              "      <th>1</th>\n",
              "      <td>United Colors of Benetton Men Shirt</td>\n",
              "      <td>https://www.amazon.in/sspa/click?ie=UTF8&amp;spc=M...</td>\n",
              "      <td>Amazon</td>\n",
              "    </tr>\n",
              "    <tr>\n",
              "      <th>2</th>\n",
              "      <td>KINGDOM OF WHITE Cloudy Full Sleeves White Kur...</td>\n",
              "      <td>https://www.amazon.in/sspa/click?ie=UTF8&amp;spc=M...</td>\n",
              "      <td>Amazon</td>\n",
              "    </tr>\n",
              "    <tr>\n",
              "      <th>3</th>\n",
              "      <td>United Colors of Benetton Men Shirt</td>\n",
              "      <td>https://www.amazon.in/sspa/click?ie=UTF8&amp;spc=M...</td>\n",
              "      <td>Amazon</td>\n",
              "    </tr>\n",
              "    <tr>\n",
              "      <th>4</th>\n",
              "      <td>Dennis Lingo Men's Solid Slim Fit Cotton Casua...</td>\n",
              "      <td>https://www.amazon.in/Dennis-Lingo-Solid-Casua...</td>\n",
              "      <td>Amazon</td>\n",
              "    </tr>\n",
              "    <tr>\n",
              "      <th>...</th>\n",
              "      <td>...</td>\n",
              "      <td>...</td>\n",
              "      <td>...</td>\n",
              "    </tr>\n",
              "    <tr>\n",
              "      <th>1251</th>\n",
              "      <td>Multi-color High Neck Heart Print Top</td>\n",
              "      <td>https://www.nykaafashion.com/mixt-by-nykaa-fas...</td>\n",
              "      <td>NykaaFashion</td>\n",
              "    </tr>\n",
              "    <tr>\n",
              "      <th>1252</th>\n",
              "      <td>Women Self Design Regular Fit Top</td>\n",
              "      <td>https://www.nykaafashion.com/only-women-self-d...</td>\n",
              "      <td>NykaaFashion</td>\n",
              "    </tr>\n",
              "    <tr>\n",
              "      <th>1253</th>\n",
              "      <td>Lilac Crop Top</td>\n",
              "      <td>https://www.nykaafashion.com/i-saw-it-first-li...</td>\n",
              "      <td>NykaaFashion</td>\n",
              "    </tr>\n",
              "    <tr>\n",
              "      <th>1254</th>\n",
              "      <td>Blue Printed A-Line Top</td>\n",
              "      <td>https://www.nykaafashion.com/qomn-blue-printed...</td>\n",
              "      <td>NykaaFashion</td>\n",
              "    </tr>\n",
              "    <tr>\n",
              "      <th>1255</th>\n",
              "      <td>Peacock Cinched Shirt Jacket</td>\n",
              "      <td>https://www.nykaafashion.com/shaye-peacock-cin...</td>\n",
              "      <td>NykaaFashion</td>\n",
              "    </tr>\n",
              "  </tbody>\n",
              "</table>\n",
              "<p>1256 rows × 3 columns</p>\n",
              "</div>\n",
              "      <button class=\"colab-df-convert\" onclick=\"convertToInteractive('df-d7b90040-1e46-49b6-9c74-f8658aa3581a')\"\n",
              "              title=\"Convert this dataframe to an interactive table.\"\n",
              "              style=\"display:none;\">\n",
              "        \n",
              "  <svg xmlns=\"http://www.w3.org/2000/svg\" height=\"24px\"viewBox=\"0 0 24 24\"\n",
              "       width=\"24px\">\n",
              "    <path d=\"M0 0h24v24H0V0z\" fill=\"none\"/>\n",
              "    <path d=\"M18.56 5.44l.94 2.06.94-2.06 2.06-.94-2.06-.94-.94-2.06-.94 2.06-2.06.94zm-11 1L8.5 8.5l.94-2.06 2.06-.94-2.06-.94L8.5 2.5l-.94 2.06-2.06.94zm10 10l.94 2.06.94-2.06 2.06-.94-2.06-.94-.94-2.06-.94 2.06-2.06.94z\"/><path d=\"M17.41 7.96l-1.37-1.37c-.4-.4-.92-.59-1.43-.59-.52 0-1.04.2-1.43.59L10.3 9.45l-7.72 7.72c-.78.78-.78 2.05 0 2.83L4 21.41c.39.39.9.59 1.41.59.51 0 1.02-.2 1.41-.59l7.78-7.78 2.81-2.81c.8-.78.8-2.07 0-2.86zM5.41 20L4 18.59l7.72-7.72 1.47 1.35L5.41 20z\"/>\n",
              "  </svg>\n",
              "      </button>\n",
              "      \n",
              "  <style>\n",
              "    .colab-df-container {\n",
              "      display:flex;\n",
              "      flex-wrap:wrap;\n",
              "      gap: 12px;\n",
              "    }\n",
              "\n",
              "    .colab-df-convert {\n",
              "      background-color: #E8F0FE;\n",
              "      border: none;\n",
              "      border-radius: 50%;\n",
              "      cursor: pointer;\n",
              "      display: none;\n",
              "      fill: #1967D2;\n",
              "      height: 32px;\n",
              "      padding: 0 0 0 0;\n",
              "      width: 32px;\n",
              "    }\n",
              "\n",
              "    .colab-df-convert:hover {\n",
              "      background-color: #E2EBFA;\n",
              "      box-shadow: 0px 1px 2px rgba(60, 64, 67, 0.3), 0px 1px 3px 1px rgba(60, 64, 67, 0.15);\n",
              "      fill: #174EA6;\n",
              "    }\n",
              "\n",
              "    [theme=dark] .colab-df-convert {\n",
              "      background-color: #3B4455;\n",
              "      fill: #D2E3FC;\n",
              "    }\n",
              "\n",
              "    [theme=dark] .colab-df-convert:hover {\n",
              "      background-color: #434B5C;\n",
              "      box-shadow: 0px 1px 3px 1px rgba(0, 0, 0, 0.15);\n",
              "      filter: drop-shadow(0px 1px 2px rgba(0, 0, 0, 0.3));\n",
              "      fill: #FFFFFF;\n",
              "    }\n",
              "  </style>\n",
              "\n",
              "      <script>\n",
              "        const buttonEl =\n",
              "          document.querySelector('#df-d7b90040-1e46-49b6-9c74-f8658aa3581a button.colab-df-convert');\n",
              "        buttonEl.style.display =\n",
              "          google.colab.kernel.accessAllowed ? 'block' : 'none';\n",
              "\n",
              "        async function convertToInteractive(key) {\n",
              "          const element = document.querySelector('#df-d7b90040-1e46-49b6-9c74-f8658aa3581a');\n",
              "          const dataTable =\n",
              "            await google.colab.kernel.invokeFunction('convertToInteractive',\n",
              "                                                     [key], {});\n",
              "          if (!dataTable) return;\n",
              "\n",
              "          const docLinkHtml = 'Like what you see? Visit the ' +\n",
              "            '<a target=\"_blank\" href=https://colab.research.google.com/notebooks/data_table.ipynb>data table notebook</a>'\n",
              "            + ' to learn more about interactive tables.';\n",
              "          element.innerHTML = '';\n",
              "          dataTable['output_type'] = 'display_data';\n",
              "          await google.colab.output.renderOutput(dataTable, element);\n",
              "          const docLink = document.createElement('div');\n",
              "          docLink.innerHTML = docLinkHtml;\n",
              "          element.appendChild(docLink);\n",
              "        }\n",
              "      </script>\n",
              "    </div>\n",
              "  </div>\n",
              "  "
            ]
          },
          "metadata": {},
          "execution_count": 3
        }
      ]
    },
    {
      "cell_type": "code",
      "source": [
        "import nltk\n",
        "from nltk.corpus import stopwords\n",
        "from nltk.stem import WordNetLemmatizer\n",
        "from nltk.tokenize import word_tokenize\n",
        "import re"
      ],
      "metadata": {
        "id": "vtoCmVMJ4t4O"
      },
      "execution_count": 4,
      "outputs": []
    },
    {
      "cell_type": "code",
      "source": [
        "# Download NLTK resources\n",
        "nltk.download('punkt')\n",
        "nltk.download('wordnet')\n",
        "nltk.download('stopwords')"
      ],
      "metadata": {
        "colab": {
          "base_uri": "https://localhost:8080/"
        },
        "id": "KkUIxXjf4xnY",
        "outputId": "e759f023-6ffd-495d-c043-c0985a90b6de"
      },
      "execution_count": 5,
      "outputs": [
        {
          "output_type": "stream",
          "name": "stderr",
          "text": [
            "[nltk_data] Downloading package punkt to /root/nltk_data...\n",
            "[nltk_data]   Unzipping tokenizers/punkt.zip.\n",
            "[nltk_data] Downloading package wordnet to /root/nltk_data...\n",
            "[nltk_data] Downloading package stopwords to /root/nltk_data...\n",
            "[nltk_data]   Unzipping corpora/stopwords.zip.\n"
          ]
        },
        {
          "output_type": "execute_result",
          "data": {
            "text/plain": [
              "True"
            ]
          },
          "metadata": {},
          "execution_count": 5
        }
      ]
    },
    {
      "cell_type": "code",
      "source": [
        "# Define stopwords\n",
        "stop_words = set(stopwords.words('english'))\n",
        "\n",
        "# Initialize lemmatizer\n",
        "lemmatizer = WordNetLemmatizer()"
      ],
      "metadata": {
        "id": "muPYhdl240Co"
      },
      "execution_count": 6,
      "outputs": []
    },
    {
      "cell_type": "code",
      "source": [
        "# Function to preprocess text\n",
        "def preprocess_text(text):\n",
        "    # Remove special characters and digits\n",
        "    text = re.sub(r'[^a-zA-Z]', ' ', text)\n",
        "    \n",
        "    # Convert text to lowercase\n",
        "    text = text.lower()\n",
        "    \n",
        "    # Tokenize text\n",
        "    tokens = word_tokenize(text)\n",
        "    \n",
        "    # Remove stopwords and perform lemmatization\n",
        "    cleaned_tokens = [lemmatizer.lemmatize(token) for token in tokens if token not in stop_words]\n",
        "    \n",
        "    # Join tokens back into a single string\n",
        "    cleaned_text = ' '.join(cleaned_tokens)\n",
        "    \n",
        "    return cleaned_text"
      ],
      "metadata": {
        "id": "5-ImljzY44rA"
      },
      "execution_count": 7,
      "outputs": []
    },
    {
      "cell_type": "code",
      "source": [
        "# Apply preprocessing to 'description' column\n",
        "df['cleaned_description'] = df['Discription'].apply(preprocess_text)\n"
      ],
      "metadata": {
        "id": "4Rrx73Y14-dF"
      },
      "execution_count": 8,
      "outputs": []
    },
    {
      "cell_type": "code",
      "source": [
        "\n",
        "# Save preprocessed data to a new CSV file\n",
        "df.to_csv('/content/preprocessed_data.csv', index=False)"
      ],
      "metadata": {
        "id": "bRDOLcGq5MQE"
      },
      "execution_count": 9,
      "outputs": []
    },
    {
      "cell_type": "code",
      "source": [
        "df"
      ],
      "metadata": {
        "colab": {
          "base_uri": "https://localhost:8080/",
          "height": 423
        },
        "id": "l7olhsLt5PGc",
        "outputId": "9ec5dd40-9113-435c-d6d5-ea574653a8ef"
      },
      "execution_count": 10,
      "outputs": [
        {
          "output_type": "execute_result",
          "data": {
            "text/plain": [
              "                                            Discription  \\\n",
              "0     KINGDOM OF WHITE Replay Full Sleeves White Shi...   \n",
              "1                   United Colors of Benetton Men Shirt   \n",
              "2     KINGDOM OF WHITE Cloudy Full Sleeves White Kur...   \n",
              "3                   United Colors of Benetton Men Shirt   \n",
              "4     Dennis Lingo Men's Solid Slim Fit Cotton Casua...   \n",
              "...                                                 ...   \n",
              "1251              Multi-color High Neck Heart Print Top   \n",
              "1252                  Women Self Design Regular Fit Top   \n",
              "1253                                     Lilac Crop Top   \n",
              "1254                            Blue Printed A-Line Top   \n",
              "1255                       Peacock Cinched Shirt Jacket   \n",
              "\n",
              "                                                    url        Vendor  \\\n",
              "0     https://www.amazon.in/sspa/click?ie=UTF8&spc=M...        Amazon   \n",
              "1     https://www.amazon.in/sspa/click?ie=UTF8&spc=M...        Amazon   \n",
              "2     https://www.amazon.in/sspa/click?ie=UTF8&spc=M...        Amazon   \n",
              "3     https://www.amazon.in/sspa/click?ie=UTF8&spc=M...        Amazon   \n",
              "4     https://www.amazon.in/Dennis-Lingo-Solid-Casua...        Amazon   \n",
              "...                                                 ...           ...   \n",
              "1251  https://www.nykaafashion.com/mixt-by-nykaa-fas...  NykaaFashion   \n",
              "1252  https://www.nykaafashion.com/only-women-self-d...  NykaaFashion   \n",
              "1253  https://www.nykaafashion.com/i-saw-it-first-li...  NykaaFashion   \n",
              "1254  https://www.nykaafashion.com/qomn-blue-printed...  NykaaFashion   \n",
              "1255  https://www.nykaafashion.com/shaye-peacock-cin...  NykaaFashion   \n",
              "\n",
              "                                    cleaned_description  \n",
              "0     kingdom white replay full sleeve white shirt r...  \n",
              "1                       united color benetton men shirt  \n",
              "2     kingdom white cloudy full sleeve white kurta w...  \n",
              "3                       united color benetton men shirt  \n",
              "4     dennis lingo men solid slim fit cotton casual ...  \n",
              "...                                                 ...  \n",
              "1251              multi color high neck heart print top  \n",
              "1252                  woman self design regular fit top  \n",
              "1253                                     lilac crop top  \n",
              "1254                              blue printed line top  \n",
              "1255                       peacock cinched shirt jacket  \n",
              "\n",
              "[1256 rows x 4 columns]"
            ],
            "text/html": [
              "\n",
              "  <div id=\"df-97fbfa16-3fce-4326-89d3-f718a737b7bc\">\n",
              "    <div class=\"colab-df-container\">\n",
              "      <div>\n",
              "<style scoped>\n",
              "    .dataframe tbody tr th:only-of-type {\n",
              "        vertical-align: middle;\n",
              "    }\n",
              "\n",
              "    .dataframe tbody tr th {\n",
              "        vertical-align: top;\n",
              "    }\n",
              "\n",
              "    .dataframe thead th {\n",
              "        text-align: right;\n",
              "    }\n",
              "</style>\n",
              "<table border=\"1\" class=\"dataframe\">\n",
              "  <thead>\n",
              "    <tr style=\"text-align: right;\">\n",
              "      <th></th>\n",
              "      <th>Discription</th>\n",
              "      <th>url</th>\n",
              "      <th>Vendor</th>\n",
              "      <th>cleaned_description</th>\n",
              "    </tr>\n",
              "  </thead>\n",
              "  <tbody>\n",
              "    <tr>\n",
              "      <th>0</th>\n",
              "      <td>KINGDOM OF WHITE Replay Full Sleeves White Shi...</td>\n",
              "      <td>https://www.amazon.in/sspa/click?ie=UTF8&amp;spc=M...</td>\n",
              "      <td>Amazon</td>\n",
              "      <td>kingdom white replay full sleeve white shirt r...</td>\n",
              "    </tr>\n",
              "    <tr>\n",
              "      <th>1</th>\n",
              "      <td>United Colors of Benetton Men Shirt</td>\n",
              "      <td>https://www.amazon.in/sspa/click?ie=UTF8&amp;spc=M...</td>\n",
              "      <td>Amazon</td>\n",
              "      <td>united color benetton men shirt</td>\n",
              "    </tr>\n",
              "    <tr>\n",
              "      <th>2</th>\n",
              "      <td>KINGDOM OF WHITE Cloudy Full Sleeves White Kur...</td>\n",
              "      <td>https://www.amazon.in/sspa/click?ie=UTF8&amp;spc=M...</td>\n",
              "      <td>Amazon</td>\n",
              "      <td>kingdom white cloudy full sleeve white kurta w...</td>\n",
              "    </tr>\n",
              "    <tr>\n",
              "      <th>3</th>\n",
              "      <td>United Colors of Benetton Men Shirt</td>\n",
              "      <td>https://www.amazon.in/sspa/click?ie=UTF8&amp;spc=M...</td>\n",
              "      <td>Amazon</td>\n",
              "      <td>united color benetton men shirt</td>\n",
              "    </tr>\n",
              "    <tr>\n",
              "      <th>4</th>\n",
              "      <td>Dennis Lingo Men's Solid Slim Fit Cotton Casua...</td>\n",
              "      <td>https://www.amazon.in/Dennis-Lingo-Solid-Casua...</td>\n",
              "      <td>Amazon</td>\n",
              "      <td>dennis lingo men solid slim fit cotton casual ...</td>\n",
              "    </tr>\n",
              "    <tr>\n",
              "      <th>...</th>\n",
              "      <td>...</td>\n",
              "      <td>...</td>\n",
              "      <td>...</td>\n",
              "      <td>...</td>\n",
              "    </tr>\n",
              "    <tr>\n",
              "      <th>1251</th>\n",
              "      <td>Multi-color High Neck Heart Print Top</td>\n",
              "      <td>https://www.nykaafashion.com/mixt-by-nykaa-fas...</td>\n",
              "      <td>NykaaFashion</td>\n",
              "      <td>multi color high neck heart print top</td>\n",
              "    </tr>\n",
              "    <tr>\n",
              "      <th>1252</th>\n",
              "      <td>Women Self Design Regular Fit Top</td>\n",
              "      <td>https://www.nykaafashion.com/only-women-self-d...</td>\n",
              "      <td>NykaaFashion</td>\n",
              "      <td>woman self design regular fit top</td>\n",
              "    </tr>\n",
              "    <tr>\n",
              "      <th>1253</th>\n",
              "      <td>Lilac Crop Top</td>\n",
              "      <td>https://www.nykaafashion.com/i-saw-it-first-li...</td>\n",
              "      <td>NykaaFashion</td>\n",
              "      <td>lilac crop top</td>\n",
              "    </tr>\n",
              "    <tr>\n",
              "      <th>1254</th>\n",
              "      <td>Blue Printed A-Line Top</td>\n",
              "      <td>https://www.nykaafashion.com/qomn-blue-printed...</td>\n",
              "      <td>NykaaFashion</td>\n",
              "      <td>blue printed line top</td>\n",
              "    </tr>\n",
              "    <tr>\n",
              "      <th>1255</th>\n",
              "      <td>Peacock Cinched Shirt Jacket</td>\n",
              "      <td>https://www.nykaafashion.com/shaye-peacock-cin...</td>\n",
              "      <td>NykaaFashion</td>\n",
              "      <td>peacock cinched shirt jacket</td>\n",
              "    </tr>\n",
              "  </tbody>\n",
              "</table>\n",
              "<p>1256 rows × 4 columns</p>\n",
              "</div>\n",
              "      <button class=\"colab-df-convert\" onclick=\"convertToInteractive('df-97fbfa16-3fce-4326-89d3-f718a737b7bc')\"\n",
              "              title=\"Convert this dataframe to an interactive table.\"\n",
              "              style=\"display:none;\">\n",
              "        \n",
              "  <svg xmlns=\"http://www.w3.org/2000/svg\" height=\"24px\"viewBox=\"0 0 24 24\"\n",
              "       width=\"24px\">\n",
              "    <path d=\"M0 0h24v24H0V0z\" fill=\"none\"/>\n",
              "    <path d=\"M18.56 5.44l.94 2.06.94-2.06 2.06-.94-2.06-.94-.94-2.06-.94 2.06-2.06.94zm-11 1L8.5 8.5l.94-2.06 2.06-.94-2.06-.94L8.5 2.5l-.94 2.06-2.06.94zm10 10l.94 2.06.94-2.06 2.06-.94-2.06-.94-.94-2.06-.94 2.06-2.06.94z\"/><path d=\"M17.41 7.96l-1.37-1.37c-.4-.4-.92-.59-1.43-.59-.52 0-1.04.2-1.43.59L10.3 9.45l-7.72 7.72c-.78.78-.78 2.05 0 2.83L4 21.41c.39.39.9.59 1.41.59.51 0 1.02-.2 1.41-.59l7.78-7.78 2.81-2.81c.8-.78.8-2.07 0-2.86zM5.41 20L4 18.59l7.72-7.72 1.47 1.35L5.41 20z\"/>\n",
              "  </svg>\n",
              "      </button>\n",
              "      \n",
              "  <style>\n",
              "    .colab-df-container {\n",
              "      display:flex;\n",
              "      flex-wrap:wrap;\n",
              "      gap: 12px;\n",
              "    }\n",
              "\n",
              "    .colab-df-convert {\n",
              "      background-color: #E8F0FE;\n",
              "      border: none;\n",
              "      border-radius: 50%;\n",
              "      cursor: pointer;\n",
              "      display: none;\n",
              "      fill: #1967D2;\n",
              "      height: 32px;\n",
              "      padding: 0 0 0 0;\n",
              "      width: 32px;\n",
              "    }\n",
              "\n",
              "    .colab-df-convert:hover {\n",
              "      background-color: #E2EBFA;\n",
              "      box-shadow: 0px 1px 2px rgba(60, 64, 67, 0.3), 0px 1px 3px 1px rgba(60, 64, 67, 0.15);\n",
              "      fill: #174EA6;\n",
              "    }\n",
              "\n",
              "    [theme=dark] .colab-df-convert {\n",
              "      background-color: #3B4455;\n",
              "      fill: #D2E3FC;\n",
              "    }\n",
              "\n",
              "    [theme=dark] .colab-df-convert:hover {\n",
              "      background-color: #434B5C;\n",
              "      box-shadow: 0px 1px 3px 1px rgba(0, 0, 0, 0.15);\n",
              "      filter: drop-shadow(0px 1px 2px rgba(0, 0, 0, 0.3));\n",
              "      fill: #FFFFFF;\n",
              "    }\n",
              "  </style>\n",
              "\n",
              "      <script>\n",
              "        const buttonEl =\n",
              "          document.querySelector('#df-97fbfa16-3fce-4326-89d3-f718a737b7bc button.colab-df-convert');\n",
              "        buttonEl.style.display =\n",
              "          google.colab.kernel.accessAllowed ? 'block' : 'none';\n",
              "\n",
              "        async function convertToInteractive(key) {\n",
              "          const element = document.querySelector('#df-97fbfa16-3fce-4326-89d3-f718a737b7bc');\n",
              "          const dataTable =\n",
              "            await google.colab.kernel.invokeFunction('convertToInteractive',\n",
              "                                                     [key], {});\n",
              "          if (!dataTable) return;\n",
              "\n",
              "          const docLinkHtml = 'Like what you see? Visit the ' +\n",
              "            '<a target=\"_blank\" href=https://colab.research.google.com/notebooks/data_table.ipynb>data table notebook</a>'\n",
              "            + ' to learn more about interactive tables.';\n",
              "          element.innerHTML = '';\n",
              "          dataTable['output_type'] = 'display_data';\n",
              "          await google.colab.output.renderOutput(dataTable, element);\n",
              "          const docLink = document.createElement('div');\n",
              "          docLink.innerHTML = docLinkHtml;\n",
              "          element.appendChild(docLink);\n",
              "        }\n",
              "      </script>\n",
              "    </div>\n",
              "  </div>\n",
              "  "
            ]
          },
          "metadata": {},
          "execution_count": 10
        }
      ]
    },
    {
      "cell_type": "code",
      "source": [
        "from sklearn.feature_extraction.text import TfidfVectorizer\n",
        "from sklearn.metrics.pairwise import cosine_similarity"
      ],
      "metadata": {
        "id": "YK4rAwdI5TSW"
      },
      "execution_count": 11,
      "outputs": []
    },
    {
      "cell_type": "code",
      "source": [
        "# Load preprocessed data from CSV file\n",
        "df = pd.read_csv('/content/preprocessed_data.csv')\n",
        "\n",
        "# Get the preprocessed descriptions as a list\n",
        "preprocessed_descriptions = df['cleaned_description'].tolist()\n"
      ],
      "metadata": {
        "id": "tzgArgqZ7i0I"
      },
      "execution_count": 12,
      "outputs": []
    },
    {
      "cell_type": "code",
      "source": [
        "# Initialize TF-IDF vectorizer\n",
        "vectorizer = TfidfVectorizer()\n",
        "\n",
        "# Fit and transform the preprocessed descriptions\n",
        "tfidf_matrix = vectorizer.fit_transform(preprocessed_descriptions)\n",
        "\n"
      ],
      "metadata": {
        "id": "2k6h4ofd7tDy"
      },
      "execution_count": 13,
      "outputs": []
    },
    {
      "cell_type": "code",
      "source": [
        "# Function to compute similarity between input text and database texts\n",
        "def compute_similarity(input_text):\n",
        "    # Preprocess the input text\n",
        "    cleaned_input_text = preprocess_text(input_text)\n",
        "    \n",
        "    # Transform the input text using the fitted TF-IDF vectorizer\n",
        "    input_tfidf = vectorizer.transform([cleaned_input_text])\n",
        "    \n",
        "    # Compute cosine similarity between the input text and database texts\n",
        "    similarity_scores = cosine_similarity(input_tfidf, tfidf_matrix)\n",
        "    \n",
        "    # Get indices of top-N most similar items\n",
        "    top_indices = similarity_scores.argsort()[0][-N:][::-1]\n",
        "    \n",
        "    # Get URLs of top-N most similar items\n",
        "    top_urls = df.loc[top_indices, 'url'].tolist()\n",
        "    \n",
        "    return top_urls\n"
      ],
      "metadata": {
        "id": "A_1JBtVs7xvK"
      },
      "execution_count": 14,
      "outputs": []
    },
    {
      "cell_type": "code",
      "source": [
        "# Example usage\n",
        "input_text = \"slim summer t-shirts\"\n",
        "N = 5  # Number of top similar items to retrieve\n",
        "\n",
        "# Compute similarity and get top-N most similar item URLs\n",
        "similar_item_urls = compute_similarity(input_text)\n",
        "\n",
        "print(similar_item_urls)\n"
      ],
      "metadata": {
        "colab": {
          "base_uri": "https://localhost:8080/"
        },
        "id": "FbVX_FVo73ni",
        "outputId": "c47c9f7d-e642-418a-f945-3dd9bec5cebe"
      },
      "execution_count": 15,
      "outputs": [
        {
          "output_type": "stream",
          "name": "stdout",
          "text": [
            "['https://www.nykaafashion.com/cover-story-summer-peach-shirt/p/7599620', 'https://www.flipkart.com/dennis-lingo-men-striped-casual-black-shirt/p/itm84e2bcc38582a?pid=SHTFNANMQRMCPEH8&lid=LSTSHTFNANMQRMCPEH8D1XR0F&marketplace=FLIPKART&q=shirts&store=clo%2Fash%2Faxc&srno=s_2_74&otracker=search&otracker1=search&fm=organic&iid=e589643c-b331-4c05-b484-15f529f9fe07.SHTFNANMQRMCPEH8.SEARCH&ppt=None&ppn=None&ssid=tngovjzwk00000001684598847225&qH=514ca2b2d46ccf67', 'https://www.amazon.in/DHRUVI-TRENDZ-Abstract-Printed-Regular/dp/B0BZVWJ32L/ref=sxin_20_slsr_d_i_fsnewarrivals_fa_1_B0BZVWJ32L?content-id=amzn1.sym.75fb7dbe-1dae-415e-a068-997b8c3956f7%3Aamzn1.sym.75fb7dbe-1dae-415e-a068-997b8c3956f7&crid=3EKVZNS1FCSRP&cv_ct_cx=shirt&keywords=shirt&pd_rd_i=B0BZVWJ32L&pd_rd_r=ccd40d52-081a-4088-8598-28ca3f836aca&pd_rd_w=hf9Pj&pd_rd_wg=AMbk2&pf_rd_p=75fb7dbe-1dae-415e-a068-997b8c3956f7&pf_rd_r=ZHEDTJH0ACM8JS09E1J7&qid=1684559026&sbo=RZvfv%2F%2FHxDF%2BO5021pAnSA%3D%3D&sprefix=shir%2Caps%2C310&sr=1-2-5b2ee5ec-0735-4782-9f3a-9d21a55133d0', 'https://www.flipkart.com/combraided-men-checkered-casual-red-blue-shirt/p/itm47aad3179e46e?pid=SHTG6BX7ZP4SFATW&lid=LSTSHTG6BX7ZP4SFATWKNHZ7J&marketplace=FLIPKART&q=shirts&store=clo%2Fash%2Faxc&srno=s_2_64&otracker=search&otracker1=search&fm=organic&iid=e589643c-b331-4c05-b484-15f529f9fe07.SHTG6BX7ZP4SFATW.SEARCH&ppt=None&ppn=None&ssid=tngovjzwk00000001684598847225&qH=514ca2b2d46ccf67', 'https://www.flipkart.com/dennis-lingo-men-checkered-casual-blue-shirt/p/itmf5jwaaffgqtxf?pid=SHTF5JNXSSZZGYMB&lid=LSTSHTF5JNXSSZZGYMBLY277R&marketplace=FLIPKART&q=shirts&store=clo%2Fash%2Faxc&srno=s_1_22&otracker=search&otracker1=search&fm=organic&iid=9af312a9-2a3b-48d3-a265-6cb079432e97.SHTF5JNXSSZZGYMB.SEARCH&ppt=None&ppn=None&ssid=xo05m6l5tc0000001684598634269&qH=514ca2b2d46ccf67']\n"
          ]
        }
      ]
    },
    {
      "cell_type": "code",
      "source": [
        "for item in similar_item_urls:\n",
        "  print(item)"
      ],
      "metadata": {
        "colab": {
          "base_uri": "https://localhost:8080/"
        },
        "id": "wki1F5c98Aew",
        "outputId": "2a541e77-2daf-405e-8de2-20134c9abcbe"
      },
      "execution_count": 16,
      "outputs": [
        {
          "output_type": "stream",
          "name": "stdout",
          "text": [
            "https://www.nykaafashion.com/cover-story-summer-peach-shirt/p/7599620\n",
            "https://www.flipkart.com/dennis-lingo-men-striped-casual-black-shirt/p/itm84e2bcc38582a?pid=SHTFNANMQRMCPEH8&lid=LSTSHTFNANMQRMCPEH8D1XR0F&marketplace=FLIPKART&q=shirts&store=clo%2Fash%2Faxc&srno=s_2_74&otracker=search&otracker1=search&fm=organic&iid=e589643c-b331-4c05-b484-15f529f9fe07.SHTFNANMQRMCPEH8.SEARCH&ppt=None&ppn=None&ssid=tngovjzwk00000001684598847225&qH=514ca2b2d46ccf67\n",
            "https://www.amazon.in/DHRUVI-TRENDZ-Abstract-Printed-Regular/dp/B0BZVWJ32L/ref=sxin_20_slsr_d_i_fsnewarrivals_fa_1_B0BZVWJ32L?content-id=amzn1.sym.75fb7dbe-1dae-415e-a068-997b8c3956f7%3Aamzn1.sym.75fb7dbe-1dae-415e-a068-997b8c3956f7&crid=3EKVZNS1FCSRP&cv_ct_cx=shirt&keywords=shirt&pd_rd_i=B0BZVWJ32L&pd_rd_r=ccd40d52-081a-4088-8598-28ca3f836aca&pd_rd_w=hf9Pj&pd_rd_wg=AMbk2&pf_rd_p=75fb7dbe-1dae-415e-a068-997b8c3956f7&pf_rd_r=ZHEDTJH0ACM8JS09E1J7&qid=1684559026&sbo=RZvfv%2F%2FHxDF%2BO5021pAnSA%3D%3D&sprefix=shir%2Caps%2C310&sr=1-2-5b2ee5ec-0735-4782-9f3a-9d21a55133d0\n",
            "https://www.flipkart.com/combraided-men-checkered-casual-red-blue-shirt/p/itm47aad3179e46e?pid=SHTG6BX7ZP4SFATW&lid=LSTSHTG6BX7ZP4SFATWKNHZ7J&marketplace=FLIPKART&q=shirts&store=clo%2Fash%2Faxc&srno=s_2_64&otracker=search&otracker1=search&fm=organic&iid=e589643c-b331-4c05-b484-15f529f9fe07.SHTG6BX7ZP4SFATW.SEARCH&ppt=None&ppn=None&ssid=tngovjzwk00000001684598847225&qH=514ca2b2d46ccf67\n",
            "https://www.flipkart.com/dennis-lingo-men-checkered-casual-blue-shirt/p/itmf5jwaaffgqtxf?pid=SHTF5JNXSSZZGYMB&lid=LSTSHTF5JNXSSZZGYMBLY277R&marketplace=FLIPKART&q=shirts&store=clo%2Fash%2Faxc&srno=s_1_22&otracker=search&otracker1=search&fm=organic&iid=9af312a9-2a3b-48d3-a265-6cb079432e97.SHTF5JNXSSZZGYMB.SEARCH&ppt=None&ppn=None&ssid=xo05m6l5tc0000001684598634269&qH=514ca2b2d46ccf67\n"
          ]
        }
      ]
    },
    {
      "cell_type": "code",
      "source": [
        "#floral shirt\n",
        "#jeans\n",
        "#round neck tshirt\n",
        "#mini shorts"
      ],
      "metadata": {
        "id": "MO7mWs388N-F"
      },
      "execution_count": null,
      "outputs": []
    },
    {
      "cell_type": "code",
      "source": [],
      "metadata": {
        "id": "FDBtoJyaj0lC"
      },
      "execution_count": null,
      "outputs": []
    }
  ]
}