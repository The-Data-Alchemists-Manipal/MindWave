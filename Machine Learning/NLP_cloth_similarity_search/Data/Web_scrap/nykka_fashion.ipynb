{
 "cells": [
  {
   "cell_type": "code",
   "execution_count": 1,
   "id": "3d0ff5a2",
   "metadata": {},
   "outputs": [],
   "source": [
    "from bs4 import BeautifulSoup\n",
    "import requests\n",
    "import pandas as pd\n",
    "import numpy as np"
   ]
  },
  {
   "cell_type": "code",
   "execution_count": 2,
   "id": "91651ef7",
   "metadata": {},
   "outputs": [],
   "source": [
    "# Function to extract Product Title\n",
    "def get_desc(soup):\n",
    "\n",
    "    try:\n",
    "        # Outer Tag Object  css-cmh3n9\n",
    "        title = soup.find(\"span\", attrs={\"class\":'css-cmh3n9'})\n",
    "        \n",
    "        # Inner NavigatableString Object\n",
    "        title_value = title.text\n",
    "        # Title as a string value\n",
    "        title_string = title_value.strip()\n",
    "        print(title_string)\n",
    "        \n",
    "    except AttributeError:\n",
    "        title_string = \"\"\n",
    "\n",
    "    return title_string"
   ]
  },
  {
   "cell_type": "code",
   "execution_count": 19,
   "id": "93db4415",
   "metadata": {},
   "outputs": [],
   "source": [
    "if __name__ == '__main__':\n",
    "\n",
    "    # add your user agent \n",
    "    HEADERS = ({\n",
    "        'User-Agent' : 'Mozilla/5.0 (X11; Linux x86_64) AppleWebKit/537.36 (KHTML, like Gecko) Chrome/111.0.0.0 Safari/537.36',\n",
    "        'Accept-Language' : 'en-US , en;q=0.5 ',\n",
    "    })\n",
    "    \n",
    "    \n",
    "    URL = 'https://www.nykaafashion.com/catalogsearch/result/?q=tops&searchType=ManualSearch&internalSearchTerm=tops&typedSearchTerm=tops&p=2'\n",
    "    d = {\"Discription\":[], \"url\":[],\"Vendor\":[]}\n",
    "    \n",
    "    # HTTP Request\n",
    "    webpage = requests.get(URL, headers=HEADERS)\n",
    "    \n",
    "    # Soup Object containing all data\n",
    "    soup = BeautifulSoup(webpage.content, \"html.parser\")\n",
    "    \n",
    "    # Fetch links as List of Tag Objects  css-19nu305\n",
    "    links = soup.find_all('a',attrs={'class':'css-19nu305'})\n",
    "    \n",
    "    # Store the links\n",
    "    links_list = []\n",
    "    \n",
    "    # Loop for extracting links from Tag Objects\n",
    "    for link in links:\n",
    "        links_list.append(link.get('href'))\n",
    "    \n",
    "    # Loop for extracting product details from each link \n",
    "    for link in links_list:\n",
    "        prod_link = \"https://www.nykaafashion.com\" + link\n",
    "        new_webpage = requests.get(prod_link , headers=HEADERS)\n",
    "        \n",
    "        new_soup = BeautifulSoup(new_webpage.content, \"html.parser\")\n",
    "        \n",
    "        # Function calls to display all necessary product information\n",
    "        d['Discription'].append(get_desc(new_soup))\n",
    "        d['url'].append(prod_link)\n",
    "        print(prod_link)\n",
    "        d['Vendor'].append('NykaaFashion')\n",
    "        \n",
    "    nykaa_df = pd.DataFrame.from_dict(d)\n",
    "    nykaa_df['Discription'].replace('', np.nan, inplace=True)\n",
    "    nykaa_df = nykaa_df.dropna(subset=['Discription'])\n",
    "    "
   ]
  },
  {
   "cell_type": "code",
   "execution_count": 20,
   "id": "0fa9529f",
   "metadata": {},
   "outputs": [
    {
     "data": {
      "text/html": [
       "<div>\n",
       "<style scoped>\n",
       "    .dataframe tbody tr th:only-of-type {\n",
       "        vertical-align: middle;\n",
       "    }\n",
       "\n",
       "    .dataframe tbody tr th {\n",
       "        vertical-align: top;\n",
       "    }\n",
       "\n",
       "    .dataframe thead th {\n",
       "        text-align: right;\n",
       "    }\n",
       "</style>\n",
       "<table border=\"1\" class=\"dataframe\">\n",
       "  <thead>\n",
       "    <tr style=\"text-align: right;\">\n",
       "      <th></th>\n",
       "      <th>Discription</th>\n",
       "      <th>url</th>\n",
       "      <th>Vendor</th>\n",
       "    </tr>\n",
       "  </thead>\n",
       "  <tbody>\n",
       "  </tbody>\n",
       "</table>\n",
       "</div>"
      ],
      "text/plain": [
       "Empty DataFrame\n",
       "Columns: [Discription, url, Vendor]\n",
       "Index: []"
      ]
     },
     "execution_count": 20,
     "metadata": {},
     "output_type": "execute_result"
    }
   ],
   "source": [
    "nykaa_df"
   ]
  },
  {
   "cell_type": "code",
   "execution_count": 18,
   "id": "c6bb7747",
   "metadata": {},
   "outputs": [],
   "source": [
    "nykaa_df.to_csv(\"nykaa_tops.csv\", header=True, index=False)"
   ]
  },
  {
   "cell_type": "code",
   "execution_count": null,
   "id": "20a89f16",
   "metadata": {},
   "outputs": [],
   "source": []
  }
 ],
 "metadata": {
  "kernelspec": {
   "display_name": "Python 3 (ipykernel)",
   "language": "python",
   "name": "python3"
  },
  "language_info": {
   "codemirror_mode": {
    "name": "ipython",
    "version": 3
   },
   "file_extension": ".py",
   "mimetype": "text/x-python",
   "name": "python",
   "nbconvert_exporter": "python",
   "pygments_lexer": "ipython3",
   "version": "3.10.6"
  }
 },
 "nbformat": 4,
 "nbformat_minor": 5
}
