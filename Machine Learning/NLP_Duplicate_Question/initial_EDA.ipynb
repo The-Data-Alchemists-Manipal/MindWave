{
 "cells": [
  {
   "cell_type": "code",
   "execution_count": 1,
   "id": "600ccbe8",
   "metadata": {},
   "outputs": [],
   "source": [
    "import numpy as np\n",
    "import pandas as pd\n",
    "import seaborn as sns\n",
    "import matplotlib.pyplot as plt"
   ]
  },
  {
   "cell_type": "code",
   "execution_count": 3,
   "id": "60425156",
   "metadata": {},
   "outputs": [
    {
     "data": {
      "text/plain": [
       "(404290, 6)"
      ]
     },
     "execution_count": 3,
     "metadata": {},
     "output_type": "execute_result"
    }
   ],
   "source": [
    "df = pd.read_csv(\"train.csv\")\n",
    "df.shape"
   ]
  },
  {
   "cell_type": "code",
   "execution_count": 4,
   "id": "5a3d86b9",
   "metadata": {},
   "outputs": [
    {
     "data": {
      "text/html": [
       "<div>\n",
       "<style scoped>\n",
       "    .dataframe tbody tr th:only-of-type {\n",
       "        vertical-align: middle;\n",
       "    }\n",
       "\n",
       "    .dataframe tbody tr th {\n",
       "        vertical-align: top;\n",
       "    }\n",
       "\n",
       "    .dataframe thead th {\n",
       "        text-align: right;\n",
       "    }\n",
       "</style>\n",
       "<table border=\"1\" class=\"dataframe\">\n",
       "  <thead>\n",
       "    <tr style=\"text-align: right;\">\n",
       "      <th></th>\n",
       "      <th>id</th>\n",
       "      <th>qid1</th>\n",
       "      <th>qid2</th>\n",
       "      <th>question1</th>\n",
       "      <th>question2</th>\n",
       "      <th>is_duplicate</th>\n",
       "    </tr>\n",
       "  </thead>\n",
       "  <tbody>\n",
       "    <tr>\n",
       "      <th>350745</th>\n",
       "      <td>350745</td>\n",
       "      <td>479500</td>\n",
       "      <td>479501</td>\n",
       "      <td>Which is more important, MATLAB, c++ or python...</td>\n",
       "      <td>Where should I go for VAT/CST/TIN registration...</td>\n",
       "      <td>0</td>\n",
       "    </tr>\n",
       "    <tr>\n",
       "      <th>76821</th>\n",
       "      <td>76821</td>\n",
       "      <td>131258</td>\n",
       "      <td>108665</td>\n",
       "      <td>Why is Narendra Modi promoting Jio?</td>\n",
       "      <td>Is PM Narendra Modi the brand ambassador of Re...</td>\n",
       "      <td>1</td>\n",
       "    </tr>\n",
       "    <tr>\n",
       "      <th>2266</th>\n",
       "      <td>2266</td>\n",
       "      <td>4506</td>\n",
       "      <td>4507</td>\n",
       "      <td>What would be a realistic plan to lose weight?</td>\n",
       "      <td>How can I efficiently lose weight?</td>\n",
       "      <td>1</td>\n",
       "    </tr>\n",
       "    <tr>\n",
       "      <th>123664</th>\n",
       "      <td>123664</td>\n",
       "      <td>186132</td>\n",
       "      <td>103197</td>\n",
       "      <td>Poll Question! If you shoot me in The head at ...</td>\n",
       "      <td>Can you shoot a Dangerous Human easily death w...</td>\n",
       "      <td>1</td>\n",
       "    </tr>\n",
       "    <tr>\n",
       "      <th>245169</th>\n",
       "      <td>245169</td>\n",
       "      <td>357948</td>\n",
       "      <td>357949</td>\n",
       "      <td>How do I repair my relationship after I cheated?</td>\n",
       "      <td>How can you repair your relationship after you...</td>\n",
       "      <td>0</td>\n",
       "    </tr>\n",
       "    <tr>\n",
       "      <th>288862</th>\n",
       "      <td>288862</td>\n",
       "      <td>409878</td>\n",
       "      <td>409879</td>\n",
       "      <td>I need an help. Please can you suggest me a we...</td>\n",
       "      <td>What are the suggestions to get a good score i...</td>\n",
       "      <td>0</td>\n",
       "    </tr>\n",
       "    <tr>\n",
       "      <th>296149</th>\n",
       "      <td>296149</td>\n",
       "      <td>46956</td>\n",
       "      <td>26997</td>\n",
       "      <td>Which are the best SEO companies in Delhi?</td>\n",
       "      <td>What are the top most SEO Company in Delhi?</td>\n",
       "      <td>1</td>\n",
       "    </tr>\n",
       "    <tr>\n",
       "      <th>266235</th>\n",
       "      <td>266235</td>\n",
       "      <td>260723</td>\n",
       "      <td>345417</td>\n",
       "      <td>What are the resource files in C++?</td>\n",
       "      <td>What is a resource file?</td>\n",
       "      <td>0</td>\n",
       "    </tr>\n",
       "    <tr>\n",
       "      <th>145682</th>\n",
       "      <td>145682</td>\n",
       "      <td>230309</td>\n",
       "      <td>176813</td>\n",
       "      <td>What cell parts are only found in plant cells?</td>\n",
       "      <td>Which parts of plant cells are not found in an...</td>\n",
       "      <td>0</td>\n",
       "    </tr>\n",
       "    <tr>\n",
       "      <th>86164</th>\n",
       "      <td>86164</td>\n",
       "      <td>10693</td>\n",
       "      <td>4121</td>\n",
       "      <td>Why is Saltwater Taffy candy imported in Hong ...</td>\n",
       "      <td>Why is Saltwater taffy candy imported in Japan?</td>\n",
       "      <td>1</td>\n",
       "    </tr>\n",
       "  </tbody>\n",
       "</table>\n",
       "</div>"
      ],
      "text/plain": [
       "            id    qid1    qid2  \\\n",
       "350745  350745  479500  479501   \n",
       "76821    76821  131258  108665   \n",
       "2266      2266    4506    4507   \n",
       "123664  123664  186132  103197   \n",
       "245169  245169  357948  357949   \n",
       "288862  288862  409878  409879   \n",
       "296149  296149   46956   26997   \n",
       "266235  266235  260723  345417   \n",
       "145682  145682  230309  176813   \n",
       "86164    86164   10693    4121   \n",
       "\n",
       "                                                question1  \\\n",
       "350745  Which is more important, MATLAB, c++ or python...   \n",
       "76821                 Why is Narendra Modi promoting Jio?   \n",
       "2266       What would be a realistic plan to lose weight?   \n",
       "123664  Poll Question! If you shoot me in The head at ...   \n",
       "245169   How do I repair my relationship after I cheated?   \n",
       "288862  I need an help. Please can you suggest me a we...   \n",
       "296149         Which are the best SEO companies in Delhi?   \n",
       "266235                What are the resource files in C++?   \n",
       "145682     What cell parts are only found in plant cells?   \n",
       "86164   Why is Saltwater Taffy candy imported in Hong ...   \n",
       "\n",
       "                                                question2  is_duplicate  \n",
       "350745  Where should I go for VAT/CST/TIN registration...             0  \n",
       "76821   Is PM Narendra Modi the brand ambassador of Re...             1  \n",
       "2266                   How can I efficiently lose weight?             1  \n",
       "123664  Can you shoot a Dangerous Human easily death w...             1  \n",
       "245169  How can you repair your relationship after you...             0  \n",
       "288862  What are the suggestions to get a good score i...             0  \n",
       "296149        What are the top most SEO Company in Delhi?             1  \n",
       "266235                           What is a resource file?             0  \n",
       "145682  Which parts of plant cells are not found in an...             0  \n",
       "86164     Why is Saltwater taffy candy imported in Japan?             1  "
      ]
     },
     "execution_count": 4,
     "metadata": {},
     "output_type": "execute_result"
    }
   ],
   "source": [
    "df.sample(10)"
   ]
  },
  {
   "cell_type": "code",
   "execution_count": 5,
   "id": "37b00141",
   "metadata": {},
   "outputs": [
    {
     "name": "stdout",
     "output_type": "stream",
     "text": [
      "<class 'pandas.core.frame.DataFrame'>\n",
      "RangeIndex: 404290 entries, 0 to 404289\n",
      "Data columns (total 6 columns):\n",
      " #   Column        Non-Null Count   Dtype \n",
      "---  ------        --------------   ----- \n",
      " 0   id            404290 non-null  int64 \n",
      " 1   qid1          404290 non-null  int64 \n",
      " 2   qid2          404290 non-null  int64 \n",
      " 3   question1     404289 non-null  object\n",
      " 4   question2     404288 non-null  object\n",
      " 5   is_duplicate  404290 non-null  int64 \n",
      "dtypes: int64(4), object(2)\n",
      "memory usage: 18.5+ MB\n"
     ]
    }
   ],
   "source": [
    "df.info()"
   ]
  },
  {
   "cell_type": "code",
   "execution_count": 6,
   "id": "c5b82789",
   "metadata": {},
   "outputs": [
    {
     "data": {
      "text/plain": [
       "id              0\n",
       "qid1            0\n",
       "qid2            0\n",
       "question1       1\n",
       "question2       2\n",
       "is_duplicate    0\n",
       "dtype: int64"
      ]
     },
     "execution_count": 6,
     "metadata": {},
     "output_type": "execute_result"
    }
   ],
   "source": [
    "# missing values\n",
    "df.isnull().sum()"
   ]
  },
  {
   "cell_type": "code",
   "execution_count": 7,
   "id": "e704abaf",
   "metadata": {},
   "outputs": [
    {
     "data": {
      "text/plain": [
       "0"
      ]
     },
     "execution_count": 7,
     "metadata": {},
     "output_type": "execute_result"
    }
   ],
   "source": [
    "# duplicate rows\n",
    "df.duplicated().sum()"
   ]
  },
  {
   "cell_type": "code",
   "execution_count": 16,
   "id": "3f9bd6af",
   "metadata": {},
   "outputs": [
    {
     "name": "stdout",
     "output_type": "stream",
     "text": [
      "0    255027\n",
      "1    149263\n",
      "Name: is_duplicate, dtype: int64\n",
      "0    63.080215\n",
      "1    36.919785\n",
      "Name: is_duplicate, dtype: float64\n"
     ]
    },
    {
     "data": {
      "text/plain": [
       "<AxesSubplot: ylabel='Density'>"
      ]
     },
     "execution_count": 16,
     "metadata": {},
     "output_type": "execute_result"
    },
    {
     "data": {
      "image/png": "[encoded data removed]",
      "text/plain": [
       "<Figure size 640x480 with 1 Axes>"
      ]
     },
     "metadata": {},
     "output_type": "display_data"
    }
   ],
   "source": [
    "# Distribution of duplicate and non-duplicate questions\n",
    "\n",
    "print(df['is_duplicate'].value_counts())\n",
    "print((df['is_duplicate'].value_counts()/df['is_duplicate'].count())*100)\n",
    "df['is_duplicate'].value_counts().plot(kind='density')"
   ]
  },
  {
   "cell_type": "code",
   "execution_count": 17,
   "id": "788d2d08",
   "metadata": {},
   "outputs": [
    {
     "name": "stdout",
     "output_type": "stream",
     "text": [
      "Number of unique questions 537933\n",
      "Number of questions getting repeated 111780\n"
     ]
    }
   ],
   "source": [
    "# Repeated questions\n",
    "\n",
    "qid = pd.Series(df['qid1'].tolist() + df['qid2'].tolist())\n",
    "print('Number of unique questions',np.unique(qid).shape[0])\n",
    "x = qid.value_counts()>1\n",
    "print('Number of questions getting repeated',x[x].shape[0])"
   ]
  },
  {
   "cell_type": "code",
   "execution_count": 18,
   "id": "2fa5bb83",
   "metadata": {},
   "outputs": [
    {
     "data": {
      "image/png": "[encoded data removed]",
      "text/plain": [
       "<Figure size 640x480 with 1 Axes>"
      ]
     },
     "metadata": {},
     "output_type": "display_data"
    }
   ],
   "source": [
    "# Repeated questions histogram\n",
    "\n",
    "plt.hist(qid.value_counts().values,bins=160)\n",
    "plt.yscale('symlog')\n",
    "plt.show()"
   ]
  },
  {
   "cell_type": "code",
   "execution_count": null,
   "id": "f9573e2f",
   "metadata": {},
   "outputs": [],
   "source": []
  }
 ],
 "metadata": {
  "kernelspec": {
   "display_name": "Python 3",
   "language": "python",
   "name": "python3"
  },
  "language_info": {
   "codemirror_mode": {
    "name": "ipython",
    "version": 3
   },
   "file_extension": ".py",
   "mimetype": "text/x-python",
   "name": "python",
   "nbconvert_exporter": "python",
   "pygments_lexer": "ipython3",
   "version": "3.11.3"
  }
 },
 "nbformat": 4,
 "nbformat_minor": 5
}
