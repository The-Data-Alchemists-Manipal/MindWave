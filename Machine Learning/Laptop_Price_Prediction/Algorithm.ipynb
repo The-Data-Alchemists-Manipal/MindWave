{
 "cells": [
  {
   "cell_type": "code",
   "execution_count": null,
   "id": "dd7ab8aa",
   "metadata": {},
   "outputs": [],
   "source": [
    "import pandas as pd\n",
    "import numpy as np\n",
    "import csv\n",
    "import seaborn as sns\n",
    "import matplotlib.pyplot as plt\n",
    "from sklearn.model_selection import train_test_split\n",
    "from sklearn.compose import ColumnTransformer\n",
    "from sklearn.pipeline import Pipeline\n",
    "from sklearn.preprocessing import OneHotEncoder\n",
    "from sklearn.metrics import r2_score,mean_absolute_error\n",
    "from sklearn.linear_model import LinearRegression,Ridge,Lasso\n",
    "from sklearn.neighbors import KNeighborsRegressor\n",
    "from sklearn.tree import DecisionTreeRegressor\n",
    "from sklearn.ensemble import RandomForestRegressor,GradientBoostingRegressor,AdaBoostRegressor,ExtraTreesRegressor\n",
    "from sklearn.svm import SVR"
   ]
  },
  {
   "cell_type": "code",
   "execution_count": null,
   "id": "892a420b",
   "metadata": {},
   "outputs": [],
   "source": [
    "df = pd.read_csv(r'laptop_price.csv')"
   ]
  },
  {
   "cell_type": "code",
   "execution_count": null,
   "id": "8b39d888",
   "metadata": {},
   "outputs": [],
   "source": [
    "print(df)"
   ]
  },
  {
   "cell_type": "code",
   "execution_count": null,
   "id": "c1ceb335",
   "metadata": {},
   "outputs": [],
   "source": [
    "df.head()\n",
    "df.info()\n",
    "df.shape\n",
    "df.duplicated().sum()       # To find how many duplicate values are there\n",
    "df.isnull().sum()           # To find how many null values are there"
   ]
  },
  {
   "cell_type": "code",
   "execution_count": null,
   "id": "6ac06453",
   "metadata": {},
   "outputs": [],
   "source": [
    "df.drop(columns=['Unnamed: 13'],inplace=True)   #Drop Unnamed Columns\n",
    "df.head()\n",
    "df['Ram'] = df['Ram'].astype('str').str.replace('GB','')    #To remove GB from Ram and convert into to number from string\n",
    "df['Weight'] = df['Weight'].astype('str').str.replace('kg','')    # To remove the kg from Weight and convert it into number from string\n",
    "df['Ram']=df['Ram'].astype('int32')\n",
    "df['Weight']=df['Weight'].astype('float32')\n",
    "df.head()\n",
    "df.info()"
   ]
  },
  {
   "cell_type": "code",
   "execution_count": null,
   "id": "c3020a4a",
   "metadata": {},
   "outputs": [],
   "source": [
    "sns.distplot(df['Price_euros'])\n",
    "\n",
    "#Observation will be data is skewed."
   ]
  },
  {
   "cell_type": "code",
   "execution_count": null,
   "id": "974503da",
   "metadata": {},
   "outputs": [],
   "source": [
    "df['Company'].value_counts().plot(kind='bar')"
   ]
  },
  {
   "cell_type": "code",
   "execution_count": null,
   "id": "d65d9522",
   "metadata": {},
   "outputs": [],
   "source": [
    "sns.barplot(x=df['Company'],y=df['Price_euros'])\n",
    "plt.xticks(rotation='vertical')\n"
   ]
  },
  {
   "cell_type": "code",
   "execution_count": null,
   "id": "0088a136",
   "metadata": {},
   "outputs": [],
   "source": [
    "df['TypeName'].value_counts().plot(kind='bar')\n",
    "\n",
    "#Observation : Notebooks are highly priced"
   ]
  },
  {
   "cell_type": "code",
   "execution_count": null,
   "id": "e249ab2b",
   "metadata": {},
   "outputs": [],
   "source": [
    "sns.barplot(x=df['TypeName'],y=df['Price_euros'])\n",
    "plt.xticks(rotation='vertical')\n",
    "\n",
    "#Onservation : Workstation > Gaming > ..."
   ]
  },
  {
   "cell_type": "code",
   "execution_count": null,
   "id": "14715f74",
   "metadata": {},
   "outputs": [],
   "source": [
    "sns.scatterplot(x=df['Inches'],y=df['Price_euros'])\n",
    "\n",
    "#Observation : As size increases, prices are increasing."
   ]
  },
  {
   "cell_type": "code",
   "execution_count": null,
   "id": "82df4d92",
   "metadata": {},
   "outputs": [],
   "source": [
    "df['ScreenResolution'].value_counts()\n",
    "\n",
    "\n",
    "#Feature engineering : Find laptop is touch screen or not"
   ]
  },
  {
   "cell_type": "code",
   "execution_count": null,
   "id": "9b54d012",
   "metadata": {},
   "outputs": [],
   "source": [
    "df['TouchScreen'] = df['ScreenResolution'].apply(lambda x:1 if 'Touchscreen' in x else 0)\n",
    "df.info()\n",
    "df.sample()\n",
    "\n",
    "df['TouchScreen'].value_counts().plot(kind='bar')\n"
   ]
  },
  {
   "cell_type": "code",
   "execution_count": null,
   "id": "f80abd2e",
   "metadata": {},
   "outputs": [],
   "source": [
    "sns.barplot(x=df['TouchScreen'],y=df['Price_euros'])\n",
    "\n",
    "################SHOWS THAT TOUCHSCREEN IS IMP!!!!!!!!!"
   ]
  },
  {
   "cell_type": "code",
   "execution_count": null,
   "id": "87e91615",
   "metadata": {},
   "outputs": [],
   "source": [
    "df['IPS'] = df['ScreenResolution'].apply(lambda x:1 if 'IPS' in x else 0)\n",
    "df['IPS'].value_counts().plot(kind='bar')\n",
    "# sns.barplot(x=df['IPS'],y=df['Price_euros'])\n",
    "######### IPS panel is there or not is imp!!!!!!!!"
   ]
  },
  {
   "cell_type": "code",
   "execution_count": null,
   "id": "b1eeae41",
   "metadata": {},
   "outputs": [],
   "source": [
    "newdf = df['ScreenResolution'].str.split('x',n=1,expand=True)\n",
    "df['X_Resolution'] = newdf[0]   #Still problematic\n",
    "df['X_Resolution'] = df['X_Resolution'].str.replace(',','').str.findall(r'(\\d+\\.?\\d+)').apply(lambda x : x[-1])\n",
    "df['Y_Resolution'] = newdf[1]\n",
    "df['X_Resolution'] = df['X_Resolution'].astype('int32')\n",
    "df['Y_Resolution'] = df['Y_Resolution'].astype('int32')\n",
    "\n",
    "df.head()\n",
    "\n",
    "# df.sample()"
   ]
  },
  {
   "cell_type": "code",
   "execution_count": null,
   "id": "99ae7eea",
   "metadata": {},
   "outputs": [],
   "source": [
    "df.info()\n",
    "df.corr()['Price_euros']"
   ]
  },
  {
   "cell_type": "code",
   "execution_count": null,
   "id": "2e3d7406",
   "metadata": {},
   "outputs": [],
   "source": [
    "df['PPI'] = ((((df['X_Resolution']**2) + (df['Y_Resolution']**2))**0.5)/df['Inches']).astype('float')"
   ]
  },
  {
   "cell_type": "code",
   "execution_count": null,
   "id": "744d73c2",
   "metadata": {},
   "outputs": [],
   "source": [
    "df.drop(columns=['ScreenResolution'],inplace=True)"
   ]
  },
  {
   "cell_type": "code",
   "execution_count": null,
   "id": "a7b6a116",
   "metadata": {},
   "outputs": [],
   "source": [
    "df.info()\n",
    "df['Cpu'].value_counts().plot(kind='bar')\n",
    "# plt.xticks(rotation='vertical')"
   ]
  },
  {
   "cell_type": "code",
   "execution_count": null,
   "id": "87de6e34",
   "metadata": {},
   "outputs": [],
   "source": [
    "df['Cpu Name'] = df['Cpu'].apply(lambda x : \" \".join(x.split()[0:3]))\n",
    "df['Cpu Name']"
   ]
  },
  {
   "cell_type": "code",
   "execution_count": null,
   "id": "68722cd2",
   "metadata": {},
   "outputs": [],
   "source": [
    "def fetch_processor_name(text) : \n",
    "    if text=='Intel Core i7' or text == 'Intel Core i5' or text == 'Intel Core i3':\n",
    "        return text\n",
    "    else:\n",
    "        if text.split()[0] == 'Intel':\n",
    "            return 'Other Intel Processor'\n",
    "        else:\n",
    "            return 'AMD Processor'\n"
   ]
  },
  {
   "cell_type": "code",
   "execution_count": null,
   "id": "a53b4357",
   "metadata": {},
   "outputs": [],
   "source": [
    "        \n",
    "df['CPU Brand'] = df['Cpu Name'].apply(fetch_processor_name)\n",
    "df.head()"
   ]
  },
  {
   "cell_type": "code",
   "execution_count": null,
   "id": "0b72d623",
   "metadata": {},
   "outputs": [],
   "source": [
    "df['CPU Brand'].value_counts().plot(kind='bar')"
   ]
  },
  {
   "cell_type": "code",
   "execution_count": null,
   "id": "345d4bf8",
   "metadata": {},
   "outputs": [],
   "source": [
    "df['Gpu_brand'] = df['Gpu'].apply(lambda x:x.split()[0])\n",
    "df = df[df['Gpu_brand'] != 'ARM']\n",
    "df.drop(columns=['Gpu'],inplace=True)\n",
    "\n",
    "df.head()"
   ]
  },
  {
   "cell_type": "code",
   "execution_count": null,
   "id": "ec3cc959",
   "metadata": {},
   "outputs": [],
   "source": [
    "def getOS(input):\n",
    "    if input == 'Windows 10' or input == 'Windows 7' or input == 'Windows 10 S':\n",
    "        return 'Windows'\n",
    "    elif input == 'macOS' or input == 'Mac OS X':\n",
    "        return 'Mac'\n",
    "    else:\n",
    "        return 'Others'\n",
    "df['os'] = df['OpSys'].apply(getOS)\n",
    "df.drop(columns=['OpSys'],inplace=True)\n",
    "\n",
    "df.head()"
   ]
  },
  {
   "cell_type": "code",
   "execution_count": null,
   "id": "0470d82c",
   "metadata": {},
   "outputs": [],
   "source": [
    "# df['Memory'] = df['Memory'].str.replace('\\.0', '', regex=True)\n",
    "# df[\"Memory\"] = df[\"Memory\"].str.replace('GB', '')\n",
    "# df[\"Memory\"] = df[\"Memory\"].str.replace('TB', '000')\n",
    "# new = df[\"Memory\"].str.split(\"+\", n = 1, expand = True)\n",
    "# df[\"first\"]= new[0]\n",
    "# df[\"first\"]=df[\"first\"].str.strip()\n",
    "# df[\"second\"]= new[1]\n",
    "# df[\"Layer1HDD\"] = df[\"first\"].apply(lambda x: 1 if \"HDD\" in x else 0)\n",
    "# df[\"Layer1SSD\"] = df[\"first\"].apply(lambda x: 1 if \"SSD\" in x else 0)\n",
    "# df[\"Layer1Hybrid\"] = df[\"first\"].apply(lambda x: 1 if \"Hybrid\" in x else 0)\n",
    "# df[\"Layer1Flash_Storage\"] = df[\"first\"].apply(lambda x: 1 if \"Flash Storage\" in x else 0)\n",
    "# df['first'] = df['first'].str.replace(r'/D', '')\n",
    "# df[\"second\"].fillna(\"0\", inplace = True)\n",
    "# df[\"Layer2HDD\"] = df[\"second\"].apply(lambda x: 1 if \"HDD\" in x else 0)\n",
    "# df[\"Layer2SSD\"] = df[\"second\"].apply(lambda x: 1 if \"SSD\" in x else 0)\n",
    "# df[\"Layer2Hybrid\"] = df[\"second\"].apply(lambda x: 1 if \"Hybrid\" in x else 0)\n",
    "# df[\"Layer2Flash_Storage\"] = df[\"second\"].apply(lambda x: 1 if \"Flash Storage\" in x else 0)\n",
    "# df['second'] = df['second'].str.replace(r'D', '')\n",
    "\n",
    "# df[\"Layer2HDD\"] = df[\"second\"].apply(lambda x: 1 if \"HDD\" in x else 0)\n",
    "# df[\"Layer2SSD\"] = df[\"second\"].apply(lambda x: 1 if \"SSD\" in x else 0)\n",
    "# df[\"Layer2Hybrid\"] = df[\"second\"].apply(lambda x: 1 if \"Hybrid\" in x else 0)\n",
    "# df[\"Layer2Flash_Storage\"] = df[\"second\"].apply(lambda x: 1 if \"Flash Storage\" in x else 0)\n",
    "# df['second'] = df['second'].str.replace(r'D', '')\n",
    "\n",
    "# print(df[\"first\"].remove())\n",
    "# df[\"first\"] = df[\"first\"].astype(int)\n",
    "# df[\"second\"] = df[\"second\"].astype(int)\n",
    "\n",
    "# df[\"HDD\"]=(df[\"first\"]*df[\"Layer1HDD\"]+df[\"second\"]*df[\"Layer2HDD\"])\n",
    "# df[\"SSD\"]=(df[\"first\"]*df[\"Layer1SSD\"]+df[\"second\"]*df[\"Layer2SSD\"])\n",
    "# df[\"Hybrid\"]=(df[\"first\"]*df[\"Layer1Hybrid\"]+df[\"second\"]*df[\"Layer2Hybrid\"])\n",
    "# df[\"Flash_Storage\"]=(df[\"first\"]*df[\"Layer1Flash_Storage\"]+df[\"second\"]*df[\"Layer2Flash_Storage\"])\n",
    "\n",
    "# df.drop(columns=['first', 'second', 'Layer1HDD', 'Layer1SSD', 'Layer1Hybrid',\n",
    "#        'Layer1Flash_Storage', 'Layer2HDD', 'Layer2SSD', 'Layer2Hybrid',\n",
    "#        'Layer2Flash_Storage'],inplace=True)\n",
    "df.drop(columns=['Memory'],inplace = True)"
   ]
  },
  {
   "cell_type": "code",
   "execution_count": null,
   "id": "856066ac",
   "metadata": {},
   "outputs": [],
   "source": [
    "x = df.drop(columns=['Price_euros'])\n",
    "\n",
    "y = np.log(df['Price_euros'])\n",
    "\n",
    "X_train,X_test,y_train,y_test = train_test_split(x,y,test_size=0.15,random_state=2)"
   ]
  },
  {
   "cell_type": "code",
   "execution_count": null,
   "id": "d4cffe96",
   "metadata": {},
   "outputs": [],
   "source": [
    "step1 = ColumnTransformer(transformers=[\n",
    "\n",
    "('col_tnf',OneHotEncoder(sparse=False,drop='first'),[0,1,7,10,11])\n",
    "\n",
    "],remainder='passthrough')\n",
    "\n",
    "step2 = RandomForestRegressor(n_estimators=100,\n",
    "\n",
    "random_state=3,\n",
    "\n",
    "max_samples=0.5,\n",
    "\n",
    "max_features=0.75,\n",
    "\n",
    "max_depth=15)\n",
    "\n",
    "pipe = Pipeline([\n",
    "\n",
    "('step1',step1),\n",
    "\n",
    "('step2',step2)\n",
    "\n",
    "])\n",
    "\n",
    "pipe.fit(X_train,y_train)\n",
    "\n",
    "y_pred = pipe.predict(X_test)\n",
    "\n",
    "print('R2 score',r2_score(y_test,y_pred))\n",
    "\n",
    "print('MAE',mean_absolute_error(y_test,y_pred))"
   ]
  }
 ],
 "metadata": {
  "kernelspec": {
   "display_name": "Python 3 (ipykernel)",
   "language": "python",
   "name": "python3"
  },
  "language_info": {
   "codemirror_mode": {
    "name": "ipython",
    "version": 3
   },
   "file_extension": ".py",
   "mimetype": "text/x-python",
   "name": "python",
   "nbconvert_exporter": "python",
   "pygments_lexer": "ipython3",
   "version": "3.9.13"
  }
 },
 "nbformat": 4,
 "nbformat_minor": 5
}
