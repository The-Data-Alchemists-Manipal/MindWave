{
  "nbformat": 4,
  "nbformat_minor": 0,
  "metadata": {
    "colab": {
      "provenance": []
    },
    "kernelspec": {
      "name": "python3",
      "display_name": "Python 3"
    },
    "language_info": {
      "name": "python"
    }
  },
  "cells": [
    {
      "cell_type": "code",
      "execution_count": 12,
      "metadata": {
        "id": "l8Ym25GEusz9"
      },
      "outputs": [],
      "source": [
        "import cv2\n",
        "import numpy as np\n",
        "from google.colab.patches import cv2_imshow"
      ]
    },
    {
      "cell_type": "code",
      "source": [
        "image = cv2.imread('Image_path.jpg')"
      ],
      "metadata": {
        "id": "AyVjhniuuxJz"
      },
      "execution_count": 2,
      "outputs": []
    },
    {
      "cell_type": "code",
      "source": [
        "image_resized = cv2.resize(image, None, fx=0.5, fy=0.5)"
      ],
      "metadata": {
        "id": "Vbus0ZeXOzH5"
      },
      "execution_count": 3,
      "outputs": []
    },
    {
      "cell_type": "code",
      "source": [
        "#removing impurities from image\n",
        "image_cleared = cv2.medianBlur(image_resized, 3)\n",
        "image_cleared = cv2.medianBlur(image_cleared, 3)\n",
        "image_cleared = cv2.medianBlur(image_cleared, 3)\n",
        "\n",
        "image_cleared = cv2.edgePreservingFilter(image_cleared, sigma_s=5)"
      ],
      "metadata": {
        "id": "O8St4DwZO2Yo"
      },
      "execution_count": 4,
      "outputs": []
    },
    {
      "cell_type": "code",
      "source": [
        "\n",
        "#Bilateral Image filtering\n",
        "image_filtered = cv2.bilateralFilter(image_cleared, 3, 10, 5)\n",
        "\n",
        "for i in range(2):\n",
        "\timage_filtered = cv2.bilateralFilter(image_filtered, 3, 20, 10)\n",
        "\n",
        "for i in range(3):\n",
        "\timage_filtered = cv2.bilateralFilter(image_filtered, 5, 30, 10)"
      ],
      "metadata": {
        "id": "fLpBqAx6O4LQ"
      },
      "execution_count": 5,
      "outputs": []
    },
    {
      "cell_type": "code",
      "source": [
        "\n",
        "#Sharpening the image using addWeighted()\n",
        "gaussian_mask= cv2.GaussianBlur(image_filtered, (7,7), 2)\n",
        "image_sharp = cv2.addWeighted(image_filtered, 1.5, gaussian_mask, -0.5, 0)\n",
        "image_sharp = cv2.addWeighted(image_sharp, 1.4, gaussian_mask, -0.2, 10)\n"
      ],
      "metadata": {
        "id": "THkVVAfMO6xv"
      },
      "execution_count": 6,
      "outputs": []
    },
    {
      "cell_type": "code",
      "source": [
        "#displayng images\n",
        "#final image\n",
        "cv2_imshow(image_sharp)\n",
        "\n"
      ],
      "metadata": {
        "id": "z9Z-oVwJO-iA"
      },
      "execution_count": null,
      "outputs": []
    },
    {
      "cell_type": "code",
      "source": [
        "#Clear impurities\n",
        "cv2_imshow(image_cleared)\n"
      ],
      "metadata": {
        "id": "72gwnKeiPJJX"
      },
      "execution_count": null,
      "outputs": []
    },
    {
      "cell_type": "code",
      "source": [
        "#Original Image\n",
        "\n",
        "cv2_imshow(image_resized)"
      ],
      "metadata": {
        "id": "-eARz4dTPfrR"
      },
      "execution_count": null,
      "outputs": []
    },
    {
      "cell_type": "code",
      "source": [],
      "metadata": {
        "id": "NPqP83Q2PiTO"
      },
      "execution_count": null,
      "outputs": []
    }
  ]
}