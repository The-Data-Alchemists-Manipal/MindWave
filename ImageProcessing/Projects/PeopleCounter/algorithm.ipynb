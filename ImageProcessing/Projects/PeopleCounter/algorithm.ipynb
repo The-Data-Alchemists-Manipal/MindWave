{
 "cells": [
  {
   "cell_type": "code",
   "execution_count": null,
   "metadata": {},
   "outputs": [],
   "source": [
    "import numpy as np\n",
    "import cv2 as cv\n",
    "\n",
    "cap = cv.VideoCapture('dataset/video.mp4')\n",
    "fgbg = cv.createBackgroundSubtractorKNN(history = 500,detectShadows=False)\n",
    "\n",
    "counter = 0\n",
    "\n",
    "while True:\n",
    "    ret, frame = cap.read()\n",
    "    if frame is None:\n",
    "        break\n",
    "        \n",
    "    frame = cv.resize(frame, (800, 650))\n",
    "    fgmask = fgbg.apply(frame)\n",
    "\n",
    "    # Find contours of the detected objects\n",
    "    contours, _ = cv.findContours(fgmask, cv.RETR_EXTERNAL, cv.CHAIN_APPROX_SIMPLE)\n",
    "    \n",
    "    # Reset the counter\n",
    "    counter = 0\n",
    "    \n",
    "    for contour in contours:\n",
    "        \n",
    "        # Set the size of people in the frame to detect correctly\n",
    "        if cv.contourArea(contour) > 200:\n",
    "            # Draw bounding box\n",
    "            (x, y, w, h) = cv.boundingRect(contour)\n",
    "            cv.rectangle(frame, (x, y), (x + w, y + h), (0, 255, 0), 2)\n",
    "        \n",
    "            # Increment the counter\n",
    "            counter += 1\n",
    "    \n",
    "    # Display the counter on the frame\n",
    "    cv.putText(frame, f\"Person Count: {counter}\", (10, 30), cv.FONT_HERSHEY_SIMPLEX, 1, (0, 0, 255), 2)\n",
    "    \n",
    "    cv.imshow('Frame', frame)\n",
    "    cv.imshow('FG MASK Frame', fgmask)\n",
    "\n",
    "    keyboard = cv.waitKey(70)  \n",
    "    if keyboard == ord('q') or keyboard == 27:\n",
    "        break\n",
    "\n",
    "cap.release()\n",
    "cv.destroyAllWindows()\n"
   ]
  }
 ],
 "metadata": {
  "language_info": {
   "name": "python"
  },
  "orig_nbformat": 4
 },
 "nbformat": 4,
 "nbformat_minor": 2
}
