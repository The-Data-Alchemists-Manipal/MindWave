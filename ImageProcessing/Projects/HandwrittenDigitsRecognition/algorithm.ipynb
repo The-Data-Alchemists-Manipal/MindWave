{
 "cells": [
  {
   "cell_type": "code",
   "execution_count": 213,
   "id": "8129a08c",
   "metadata": {},
   "outputs": [
    {
     "name": "stdout",
     "output_type": "stream",
     "text": [
      "1/1 [==============================] - 0s 158ms/step\n",
      "Recognized Digits: ['', '0']\n"
     ]
    },
    {
     "data": {
      "image/png": "[encoded data removed]",
      "text/plain": [
       "<Figure size 640x480 with 1 Axes>"
      ]
     },
     "metadata": {},
     "output_type": "display_data"
    }
   ],
   "source": [
    "import cv2\n",
    "import pytesseract\n",
    "import numpy as np\n",
    "import tensorflow as tf\n",
    "import matplotlib.pyplot as plt\n",
    "\n",
    "# Load the pre-trained MNIST model\n",
    "model = tf.keras.models.load_model('mnist.h5')\n",
    "\n",
    "# Load the image using OpenCV\n",
    "image = cv2.imread('dataset/zero.png')\n",
    "\n",
    "# Preprocess the image\n",
    "gray = cv2.cvtColor(image, cv2.COLOR_BGR2GRAY)\n",
    "blur = cv2.GaussianBlur(gray, (5, 5), 0)\n",
    "thresh = cv2.threshold(blur, 0, 255, cv2.THRESH_BINARY_INV + cv2.THRESH_OTSU)[1]\n",
    "\n",
    "# Find contours in the image\n",
    "contours, _ = cv2.findContours(thresh, cv2.RETR_EXTERNAL, cv2.CHAIN_APPROX_SIMPLE)\n",
    "\n",
    "# Initialize an empty list to store recognized digits\n",
    "recognized_digits = []\n",
    "\n",
    "# Iterate over the contours\n",
    "for contour in contours:\n",
    "    # Get the bounding rectangle coordinates\n",
    "    (x, y, w, h) = cv2.boundingRect(contour)\n",
    "\n",
    "    # Use the entire image as the digit ROI\n",
    "    roi = thresh\n",
    "\n",
    "    # Use Tesseract OCR to recognize the digit\n",
    "    pytesseract.pytesseract.tesseract_cmd = 'C:\\Program Files\\Tesseract-OCR\\\\tesseract'\n",
    "    digit = pytesseract.image_to_string(roi, config='--psm 10 --oem 3 -c tessedit_char_whitelist=0123456789')\n",
    "\n",
    "    # Append the recognized digit to the list\n",
    "    recognized_digits.append(digit)\n",
    "\n",
    "# If no digit is recognized with Tesseract, use the MNIST model\n",
    "if not any(recognized_digits):\n",
    "    # Preprocess the image for the MNIST model\n",
    "    resized_image = cv2.resize(gray, (28, 28))\n",
    "    normalized_image = resized_image.reshape(1, 28, 28, 1).astype('float32') / 255.0\n",
    "\n",
    "    # Perform digit recognition with the MNIST model\n",
    "    prediction = model.predict(normalized_image)\n",
    "    digit = np.argmax(prediction)\n",
    "\n",
    "    # Append the recognized digit to the list\n",
    "    recognized_digits.append(str(digit))\n",
    "\n",
    "# Print the recognized digits\n",
    "print('Recognized Digits:', recognized_digits)\n",
    "\n",
    "# Display the entire image\n",
    "plt.imshow(cv2.cvtColor(image, cv2.COLOR_BGR2RGB))\n",
    "plt.axis('off')\n",
    "plt.show()\n"
   ]
  }
 ],
 "metadata": {
  "kernelspec": {
   "display_name": "Python 3 (ipykernel)",
   "language": "python",
   "name": "python3"
  },
  "language_info": {
   "codemirror_mode": {
    "name": "ipython",
    "version": 3
   },
   "file_extension": ".py",
   "mimetype": "text/x-python",
   "name": "python",
   "nbconvert_exporter": "python",
   "pygments_lexer": "ipython3",
   "version": "3.10.9"
  }
 },
 "nbformat": 4,
 "nbformat_minor": 5
}
