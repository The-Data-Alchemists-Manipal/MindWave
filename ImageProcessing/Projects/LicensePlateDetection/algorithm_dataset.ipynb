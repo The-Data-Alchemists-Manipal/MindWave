{
 "cells": [
  {
   "cell_type": "code",
   "execution_count": 1,
   "id": "e58a6023",
   "metadata": {},
   "outputs": [],
   "source": [
    "import cv2\n",
    "import imutils\n",
    "import pytesseract\n",
    "from datetime import datetime\n",
    "\n",
    "pytesseract.pytesseract.tesseract_cmd = 'C:\\Program Files\\Tesseract-OCR\\\\tesseract'"
   ]
  },
  {
   "cell_type": "code",
   "execution_count": 2,
   "id": "2afb5f47",
   "metadata": {},
   "outputs": [],
   "source": [
    "image = cv2.imread('test.jpg')\n",
    "image = imutils.resize(image, width=300 )\n",
    "# cv2.imshow(\"original image\", image)\n",
    "# cv2.waitKey(0)\n",
    "\n",
    "gray_image = cv2.cvtColor(image, cv2.COLOR_BGR2GRAY)\n",
    "# cv2.imshow(\"greyed image\", gray_image)\n",
    "# cv2.waitKey(0)\n",
    "\n",
    "gray_image = cv2.bilateralFilter(gray_image, 11, 17, 17)\n",
    "# cv2.imshow(\"smoothened image\", gray_image)\n",
    "# cv2.waitKey(0)\n",
    "\n",
    "edged = cv2.Canny(gray_image, 30, 200)\n",
    "# cv2.imshow(\"edged image\", edged)\n",
    "# cv2.waitKey(0)"
   ]
  },
  {
   "cell_type": "code",
   "execution_count": 3,
   "id": "f23f1985",
   "metadata": {},
   "outputs": [
    {
     "data": {
      "text/plain": [
       "array([[[188, 218, 229],\n",
       "        [188, 218, 229],\n",
       "        [188, 218, 229],\n",
       "        ...,\n",
       "        [176, 149, 115],\n",
       "        [212, 187, 150],\n",
       "        [249, 228, 193]],\n",
       "\n",
       "       [[190, 220, 231],\n",
       "        [190, 220, 231],\n",
       "        [189, 219, 230],\n",
       "        ...,\n",
       "        [243, 222, 187],\n",
       "        [230, 205, 168],\n",
       "        [244, 219, 185]],\n",
       "\n",
       "       [[189, 219, 230],\n",
       "        [189, 219, 230],\n",
       "        [189, 219, 230],\n",
       "        ...,\n",
       "        [252, 240, 204],\n",
       "        [239, 216, 178],\n",
       "        [222, 198, 163]],\n",
       "\n",
       "       ...,\n",
       "\n",
       "       [[ 87, 102, 108],\n",
       "        [ 90, 105, 111],\n",
       "        [114, 126, 133],\n",
       "        ...,\n",
       "        [ 21,  26,  29],\n",
       "        [ 20,  25,  28],\n",
       "        [ 19,  24,  27]],\n",
       "\n",
       "       [[ 56,  71,  77],\n",
       "        [ 58,  72,  78],\n",
       "        [ 79,  91,  97],\n",
       "        ...,\n",
       "        [ 20,  25,  28],\n",
       "        [ 19,  24,  27],\n",
       "        [ 19,  24,  27]],\n",
       "\n",
       "       [[ 38,  51,  54],\n",
       "        [ 41,  53,  56],\n",
       "        [ 44,  54,  57],\n",
       "        ...,\n",
       "        [ 19,  24,  27],\n",
       "        [ 19,  24,  27],\n",
       "        [ 19,  24,  27]]], dtype=uint8)"
      ]
     },
     "execution_count": 3,
     "metadata": {},
     "output_type": "execute_result"
    }
   ],
   "source": [
    "cnts,new = cv2.findContours(edged.copy(), cv2.RETR_LIST, cv2.CHAIN_APPROX_SIMPLE)\n",
    "image1=image.copy()\n",
    "cv2.drawContours(image1,cnts,-1,(0,255,0),3)\n",
    "# cv2.imshow(\"contours\",image1)\n",
    "# cv2.waitKey(0)\n",
    "\n",
    "cnts = sorted(cnts, key = cv2.contourArea, reverse = True) [:30]\n",
    "screenCnt = None\n",
    "image2 = image.copy()\n",
    "cv2.drawContours(image2,cnts,-1,(0,255,0),3)\n",
    "# cv2.imshow(\"Top 30 contours\",image2)\n",
    "# cv2.waitKey(0)"
   ]
  },
  {
   "cell_type": "code",
   "execution_count": 4,
   "id": "1985624e",
   "metadata": {},
   "outputs": [
    {
     "data": {
      "text/plain": [
       "113"
      ]
     },
     "execution_count": 4,
     "metadata": {},
     "output_type": "execute_result"
    }
   ],
   "source": [
    "i=7\n",
    "for c in cnts:\n",
    "        perimeter = cv2.arcLength(c, True)\n",
    "        approx = cv2.approxPolyDP(c, 0.018 * perimeter, True)\n",
    "        if len(approx) == 4:\n",
    "                screenCnt = approx\n",
    "\n",
    "                x,y,w,h = cv2.boundingRect(c)\n",
    "                new_img=image[y:y+h,x:x+w]\n",
    "                cv2.imwrite('./'+str(i)+'.png',new_img)\n",
    "                i+=1\n",
    "                break\n",
    "\n",
    "cv2.drawContours(image, [screenCnt], -1, (0, 255, 0), 3)\n",
    "cv2.imshow(\"Detected license plate\", image)\n",
    "cv2.waitKey(0)"
   ]
  },
  {
   "cell_type": "code",
   "execution_count": 5,
   "id": "e3b17d27",
   "metadata": {},
   "outputs": [
    {
     "name": "stdout",
     "output_type": "stream",
     "text": [
      "Number plate is:  MH12DE1433\n",
      "\n",
      "Date & Time:  2023-06-16 16:41:07.138238\n"
     ]
    }
   ],
   "source": [
    "Cropped_loc = './7.png'\n",
    "cv2.imshow(\"cropped\", cv2.imread(Cropped_loc))\n",
    "plate = pytesseract.image_to_string(Cropped_loc, lang='eng')\n",
    "print(\"Number plate is: \", plate)\n",
    "print(\"Date & Time: \", datetime.now())\n",
    "cv2.waitKey(0)\n",
    "cv2.destroyAllWindows()"
   ]
  },
  {
   "cell_type": "code",
   "execution_count": null,
   "id": "9740f3f9",
   "metadata": {},
   "outputs": [],
   "source": []
  }
 ],
 "metadata": {
  "kernelspec": {
   "display_name": "Python 3 (ipykernel)",
   "language": "python",
   "name": "python3"
  },
  "language_info": {
   "codemirror_mode": {
    "name": "ipython",
    "version": 3
   },
   "file_extension": ".py",
   "mimetype": "text/x-python",
   "name": "python",
   "nbconvert_exporter": "python",
   "pygments_lexer": "ipython3",
   "version": "3.10.9"
  }
 },
 "nbformat": 4,
 "nbformat_minor": 5
}
