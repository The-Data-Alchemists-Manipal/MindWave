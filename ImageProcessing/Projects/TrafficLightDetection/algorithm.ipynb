{
 "cells": [
  {
   "cell_type": "code",
   "execution_count": 15,
   "id": "6bf2e5ef",
   "metadata": {},
   "outputs": [
    {
     "name": "stdout",
     "output_type": "stream",
     "text": [
      "Active Traffic Light Color: Green\n"
     ]
    }
   ],
   "source": [
    "import cv2\n",
    "import numpy as np\n",
    "\n",
    "def get_active_color(image_path):\n",
    "    # Load the image\n",
    "    image = cv2.imread(image_path)\n",
    "    cv2.imshow(\"Traffic Light Image\", image)\n",
    "\n",
    "    # Convert the image to HSV color space\n",
    "    hsv_image = cv2.cvtColor(image, cv2.COLOR_BGR2HSV)\n",
    "\n",
    "    # Define color ranges for each traffic light color\n",
    "    lower_red = np.array([0, 120, 70])\n",
    "    upper_red = np.array([10, 255, 255])\n",
    "    lower_yellow = np.array([20, 100, 100])\n",
    "    upper_yellow = np.array([40, 255, 255])\n",
    "    lower_green = np.array([60, 100, 100])\n",
    "    upper_green = np.array([80, 255, 255])\n",
    "\n",
    "    # Threshold the HSV image to extract each color\n",
    "    mask_red = cv2.inRange(hsv_image, lower_red, upper_red)\n",
    "    mask_yellow = cv2.inRange(hsv_image, lower_yellow, upper_yellow)\n",
    "    mask_green = cv2.inRange(hsv_image, lower_green, upper_green)\n",
    "\n",
    "    # Count the number of pixels in each color range\n",
    "    red_pixels = cv2.countNonZero(mask_red)\n",
    "    yellow_pixels = cv2.countNonZero(mask_yellow)\n",
    "    green_pixels = cv2.countNonZero(mask_green)\n",
    "\n",
    "    # Determine the active color based on the highest pixel count\n",
    "    if red_pixels > yellow_pixels and red_pixels > green_pixels:\n",
    "        active_color = \"Red\"\n",
    "        mask = mask_red\n",
    "    elif yellow_pixels > red_pixels and yellow_pixels > green_pixels:\n",
    "        active_color = \"Yellow\"\n",
    "        mask = mask_yellow\n",
    "    else:\n",
    "        active_color = \"Green\"\n",
    "        mask = mask_green\n",
    "\n",
    "    # Apply the mask to the original image to highlight the detected color\n",
    "    color_highlight = cv2.bitwise_and(image, image, mask=mask)\n",
    "    \n",
    "    # Print the color\n",
    "    print(\"Active Traffic Light Color:\", active_color)\n",
    "\n",
    "    # Show the image with the color highlight\n",
    "    cv2.imshow(\"Traffic Light with Color Highlight\", color_highlight)\n",
    "    cv2.waitKey(0)\n",
    "    cv2.destroyAllWindows()\n",
    "\n",
    "    return active_color\n",
    "\n",
    "# Example usage\n",
    "image_path = 'light1.webp'\n",
    "active_color = get_active_color(image_path)\n",
    "\n"
   ]
  },
  {
   "cell_type": "code",
   "execution_count": null,
   "id": "07ff702b",
   "metadata": {},
   "outputs": [],
   "source": []
  }
 ],
 "metadata": {
  "kernelspec": {
   "display_name": "Python 3 (ipykernel)",
   "language": "python",
   "name": "python3"
  },
  "language_info": {
   "codemirror_mode": {
    "name": "ipython",
    "version": 3
   },
   "file_extension": ".py",
   "mimetype": "text/x-python",
   "name": "python",
   "nbconvert_exporter": "python",
   "pygments_lexer": "ipython3",
   "version": "3.10.9"
  }
 },
 "nbformat": 4,
 "nbformat_minor": 5
}
