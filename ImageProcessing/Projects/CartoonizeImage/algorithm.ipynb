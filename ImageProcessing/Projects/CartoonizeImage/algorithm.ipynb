{
 "cells": [
  {
   "cell_type": "code",
   "execution_count": null,
   "metadata": {},
   "outputs": [],
   "source": [
    "import cv2\n",
    "import numpy as np\n",
    "\n",
    "def cartoonize_image(image_path):\n",
    "    # Load the input image\n",
    "    img = cv2.imread(image_path)\n",
    "\n",
    "    # Convert image to grayscale\n",
    "    grey = cv2.cvtColor(img, cv2.COLOR_BGR2GRAY)\n",
    "\n",
    "    # Apply median blur to reduce noise\n",
    "    grey = cv2.medianBlur(grey, 5)\n",
    "\n",
    "    # Detect edges using adaptive thresholding\n",
    "    edges = cv2.adaptiveThreshold(grey, 255, cv2.ADAPTIVE_THRESH_MEAN_C, cv2.THRESH_BINARY, 9, 9)\n",
    "\n",
    "    # Apply bilateral filter to create a cartoon-like effect\n",
    "    color = cv2.bilateralFilter(img, 80, 250, 250)\n",
    "\n",
    "    # Combine the filtered image with edges\n",
    "    cartoon = cv2.bitwise_and(color, color, mask=edges)\n",
    "\n",
    "    # Display the original and cartoonized image\n",
    "    cv2.imshow(\"Original\", img)\n",
    "    cv2.imshow(\"Cartoon\", cartoon)\n",
    "    cv2.waitKey(0)\n",
    "    cv2.destroyAllWindows()\n",
    "\n",
    "    # Save the cartoonized image\n",
    "    output_path = \"cartoon.jpg\"\n",
    "    cv2.imwrite(output_path, cartoon)\n",
    "\n",
    "    return output_path\n",
    "\n",
    "# Provide the image path\n",
    "image_path = \"person3.jpg\"\n",
    "\n",
    "# Cartoonize the image and get the output path\n",
    "output_path = cartoonize_image(image_path)\n",
    "\n",
    "print(f\"Cartoonized image saved at: {output_path}\")\n"
   ]
  }
 ],
 "metadata": {
  "language_info": {
   "name": "python"
  },
  "orig_nbformat": 4
 },
 "nbformat": 4,
 "nbformat_minor": 2
}
