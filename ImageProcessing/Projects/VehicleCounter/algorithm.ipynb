{
 "cells": [
  {
   "cell_type": "code",
   "execution_count": null,
   "metadata": {},
   "outputs": [],
   "source": [
    "import cv2\n",
    "\n",
    "def count_cars(image_path, cascade_path, target_width=500):\n",
    "    # Load the image\n",
    "    image = cv2.imread(image_path)\n",
    "\n",
    "    # Resize the image to a target width while maintaining the aspect ratio\n",
    "    height, width = image.shape[:2]\n",
    "    target_height = int(target_width / width * height)\n",
    "    resized_image = cv2.resize(image, (target_width, target_height))\n",
    "\n",
    "    # Load the pre-trained Haar Cascade classifier for car detection\n",
    "    car_classifier = cv2.CascadeClassifier(cascade_path)\n",
    "\n",
    "    # Convert the resized image to grayscale\n",
    "    gray_image = cv2.cvtColor(resized_image, cv2.COLOR_BGR2GRAY)\n",
    "\n",
    "    # Perform car detection\n",
    "    cars = car_classifier.detectMultiScale(gray_image, scaleFactor=1.2, minNeighbors=1, minSize=(70, 70))\n",
    "\n",
    "    car_count = 0\n",
    "\n",
    "    # Draw rectangles around the detected cars and count them\n",
    "    for (x, y, w, h) in cars:\n",
    "        x = int(x / target_width * width)\n",
    "        y = int(y / target_height * height)\n",
    "        w = int(w / target_width * width)\n",
    "        h = int(h / target_height * height)\n",
    "\n",
    "        cv2.rectangle(image, (x, y), (x + w, y + h), (0, 255, 0), 4)\n",
    "        car_count += 1\n",
    "\n",
    "        # Place the count on the rectangle\n",
    "        cv2.putText(image, str(car_count), (x, y - 5), cv2.FONT_HERSHEY_SIMPLEX, 1, (0, 255, 255), 4)\n",
    "\n",
    "    # Display the image with the detected cars and car count\n",
    "    cv2.putText(image, f\"Total Cars: {car_count}\", (50, 50), cv2.FONT_HERSHEY_SIMPLEX, 1, (0, 0, 255), 2)\n",
    "    cv2.imshow(\"Detected Cars\", image)\n",
    "    cv2.waitKey(0)\n",
    "    cv2.destroyAllWindows()\n",
    "\n",
    "if __name__ == \"__main__\":\n",
    "    image_path = \"dataset/vehicle.jpg\"  # Replace with the path to your image\n",
    "    cascade_path = \"haarcascade_car.xml\"  # Replace with the path to the haarcascade_car.xml file\n",
    "\n",
    "    count_cars(image_path, cascade_path)\n"
   ]
  }
 ],
 "metadata": {
  "language_info": {
   "name": "python"
  },
  "orig_nbformat": 4
 },
 "nbformat": 4,
 "nbformat_minor": 2
}
