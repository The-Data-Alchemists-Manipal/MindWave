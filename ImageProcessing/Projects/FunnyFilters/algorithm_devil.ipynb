{
 "cells": [
  {
   "cell_type": "code",
   "execution_count": null,
   "metadata": {},
   "outputs": [],
   "source": [
    "import cv2\n",
    "\n",
    "face_cascade = cv2.CascadeClassifier('haarcascade_frontalface_default.xml')\n",
    "filename = 'dataset/image1.jpg'\n",
    "img = cv2.imread(filename)\n",
    "gray = cv2.cvtColor(img, cv2.COLOR_BGR2GRAY)\n",
    "fl = face_cascade.detectMultiScale(gray, 1.09, 7)\n",
    "devil = cv2.imread('dataset/devil.png', cv2.IMREAD_UNCHANGED)  # Load the devil thorns with alpha channel\n",
    "\n",
    "def put_devil_filter(devil, fc, x, y, w, h):\n",
    "    face_width = w\n",
    "    face_height = h\n",
    "\n",
    "    devil_width = int(face_width * 2)\n",
    "    devil_height = int(face_height * 1.7)\n",
    "\n",
    "    devil_resized = cv2.resize(devil, (devil_width, devil_height))\n",
    "\n",
    "    x_offset = x - int((devil_width - face_width) / 2)\n",
    "    y_offset = y - int((devil_height - face_height) / 2) - int(h * 0.65)  # Adjust vertical offset\n",
    "\n",
    "    for i in range(devil_height):\n",
    "        for j in range(devil_width):\n",
    "            if devil_resized[i][j][3] != 0:  # Check alpha channel value\n",
    "                fc[y_offset + i][x_offset + j][:3] = devil_resized[i][j][:3]\n",
    "\n",
    "    return fc\n",
    "\n",
    "for (x, y, w, h) in fl:\n",
    "    frame = put_devil_filter(devil, img, x, y, w, h)\n",
    "\n",
    "cv2.imshow('image', frame)\n",
    "cv2.waitKey(20000) & 0xff\n",
    "cv2.destroyAllWindows()\n"
   ]
  }
 ],
 "metadata": {
  "language_info": {
   "name": "python"
  },
  "orig_nbformat": 4
 },
 "nbformat": 4,
 "nbformat_minor": 2
}
