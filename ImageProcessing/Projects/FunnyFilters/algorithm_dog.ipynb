{
 "cells": [
  {
   "cell_type": "code",
   "execution_count": null,
   "metadata": {},
   "outputs": [],
   "source": [
    "import cv2\n",
    "\n",
    "face_cascade = cv2.CascadeClassifier('haarcascade_frontalface_default.xml')\n",
    "filename = 'dataset/image1.jpg'\n",
    "img = cv2.imread(filename)\n",
    "gray = cv2.cvtColor(img, cv2.COLOR_BGR2GRAY)\n",
    "fl = face_cascade.detectMultiScale(gray, 1.09, 7)\n",
    "dog = cv2.imread('dataset/dog.png', cv2.IMREAD_UNCHANGED)  # Load the dog filter with alpha channel\n",
    "\n",
    "def put_dog_filter(dog, fc, x, y, w, h):\n",
    "    face_width = w\n",
    "    face_height = h\n",
    "\n",
    "    dog_width = int(face_width * 1.5)\n",
    "    dog_height = int(face_height * 1.95)\n",
    "\n",
    "    dog_resized = cv2.resize(dog, (dog_width, dog_height))\n",
    "\n",
    "    x_offset = x - int((dog_width - face_width) / 2)\n",
    "    y_offset = y - int((dog_height - face_height) / 2)\n",
    "\n",
    "    for i in range(dog_height):\n",
    "        for j in range(dog_width):\n",
    "            if dog_resized[i][j][3] != 0:  # Check alpha channel value\n",
    "                fc[y_offset + i][x_offset + j][:3] = dog_resized[i][j][:3]\n",
    "\n",
    "    return fc\n",
    "\n",
    "for (x, y, w, h) in fl:\n",
    "    frame = put_dog_filter(dog, img, x, y, w, h)\n",
    "\n",
    "cv2.imshow('image', frame)\n",
    "cv2.waitKey(20000) & 0xff\n",
    "cv2.destroyAllWindows()\n"
   ]
  }
 ],
 "metadata": {
  "language_info": {
   "name": "python"
  },
  "orig_nbformat": 4
 },
 "nbformat": 4,
 "nbformat_minor": 2
}
