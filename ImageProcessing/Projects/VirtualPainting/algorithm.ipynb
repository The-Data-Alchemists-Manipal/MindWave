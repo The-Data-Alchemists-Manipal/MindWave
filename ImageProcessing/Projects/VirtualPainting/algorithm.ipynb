{
 "cells": [
  {
   "cell_type": "code",
   "execution_count": 13,
   "id": "e8c4df99",
   "metadata": {},
   "outputs": [
    {
     "name": "stdout",
     "output_type": "stream",
     "text": [
      "Drawing saved as drawing.png\n"
     ]
    }
   ],
   "source": [
    "import cv2\n",
    "import numpy as np\n",
    "\n",
    "# Constants\n",
    "canvas_size = (1400, 750)\n",
    "color_bar_width = 50\n",
    "drawing = False\n",
    "ix, iy = -1, -1\n",
    "color = (0, 0, 0)\n",
    "\n",
    "# Create a blank white canvas\n",
    "canvas = np.ones((canvas_size[1], canvas_size[0], 3), dtype=np.uint8) * 255\n",
    "\n",
    "# Create continuous color bar\n",
    "color_bar = np.zeros((canvas_size[1], color_bar_width, 3), dtype=np.uint8)\n",
    "\n",
    "# Generate color bar using applyColorMap\n",
    "color_map = np.arange(256, dtype=np.uint8).reshape(256, 1)\n",
    "color_map = cv2.resize(color_map, (color_bar_width, canvas_size[1]))\n",
    "color_bar[:, :, :] = cv2.applyColorMap(color_map, cv2.COLORMAP_JET)\n",
    "\n",
    "# Function to draw on the canvas\n",
    "def draw(event, x, y, flags, param):\n",
    "    global drawing, ix, iy\n",
    "\n",
    "    if event == cv2.EVENT_LBUTTONDOWN:\n",
    "        drawing = True\n",
    "        ix, iy = x, y\n",
    "    elif event == cv2.EVENT_LBUTTONUP:\n",
    "        drawing = False\n",
    "    elif event == cv2.EVENT_MOUSEMOVE:\n",
    "        if drawing:\n",
    "            cv2.line(canvas, (ix, iy), (x, y), tuple(map(int, color)), 3)\n",
    "            ix, iy = x, y\n",
    "\n",
    "# Create a window and bind the draw function to the window\n",
    "cv2.namedWindow('Virtual Painter')\n",
    "cv2.setMouseCallback('Virtual Painter', draw)\n",
    "\n",
    "while True:\n",
    "    # Combine the canvas and color bar\n",
    "    combined_image = np.hstack((canvas, color_bar))\n",
    "\n",
    "    # Display the combined image\n",
    "    cv2.imshow('Virtual Painter', combined_image)\n",
    "\n",
    "    # Check for key press events\n",
    "    key = cv2.waitKey(1) & 0xFF\n",
    "\n",
    "    # Quit the program when 'q' is pressed\n",
    "    if key == ord('q'):\n",
    "        # Save the drawing as an image\n",
    "        cv2.imwrite('drawing.png', canvas)\n",
    "        print(\"Drawing saved as drawing.png\")\n",
    "        break\n",
    "\n",
    "    # Retrieve the mouse position\n",
    "    x, y = ix, iy\n",
    "\n",
    "    # Change color based on the selected color bar region\n",
    "    if canvas_size[0] <= x <= canvas_size[0] + color_bar_width:\n",
    "        color_index = y\n",
    "        if 0 <= color_index < color_bar.shape[0]:\n",
    "            color = color_bar[color_index, 0]\n",
    "\n",
    "cv2.destroyAllWindows()\n"
   ]
  },
  {
   "cell_type": "code",
   "execution_count": null,
   "id": "7e014832",
   "metadata": {},
   "outputs": [],
   "source": []
  }
 ],
 "metadata": {
  "kernelspec": {
   "display_name": "Python 3 (ipykernel)",
   "language": "python",
   "name": "python3"
  },
  "language_info": {
   "codemirror_mode": {
    "name": "ipython",
    "version": 3
   },
   "file_extension": ".py",
   "mimetype": "text/x-python",
   "name": "python",
   "nbconvert_exporter": "python",
   "pygments_lexer": "ipython3",
   "version": "3.10.9"
  }
 },
 "nbformat": 4,
 "nbformat_minor": 5
}
