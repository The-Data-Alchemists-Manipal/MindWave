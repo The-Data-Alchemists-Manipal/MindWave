{
 "cells": [
  {
   "cell_type": "code",
   "execution_count": 8,
   "id": "ca408225",
   "metadata": {},
   "outputs": [
    {
     "name": "stdout",
     "output_type": "stream",
     "text": [
      "Enter '1' to use the camera or '2' to use static images: 1\n"
     ]
    }
   ],
   "source": [
    "import cv2\n",
    "\n",
    "face_capture = cv2.CascadeClassifier(\"haarcascade_frontalface_default.xml\")\n",
    "\n",
    "# Ask the user for input\n",
    "choice = input(\"Enter '1' to use the camera or '2' to use static images: \")\n",
    "\n",
    "if choice.lower() == \"1\":\n",
    "    # Use the camera\n",
    "    video = cv2.VideoCapture(0)\n",
    "    while True:\n",
    "        ret, video_data = video.read()\n",
    "        gray = cv2.cvtColor(video_data, cv2.COLOR_BGR2GRAY)\n",
    "        faces = face_capture.detectMultiScale(gray, scaleFactor=1.1, minNeighbors=5, minSize=(30, 30))\n",
    "\n",
    "        for (x, y, w, h) in faces:\n",
    "            cv2.rectangle(video_data, (x, y), (x+w, y+h), (255, 0, 0), 4)\n",
    "\n",
    "        cv2.imshow(\"Live\", video_data)\n",
    "        if cv2.waitKey(1) == ord(\"q\"):\n",
    "            break\n",
    "\n",
    "    video.release()\n",
    "    cv2.destroyAllWindows()\n",
    "elif choice.lower() == \"2\":\n",
    "    # Load the images\n",
    "    image1 = cv2.imread(\"image1.png\")\n",
    "    image2 = cv2.imread(\"image2.jpg\")\n",
    "\n",
    "    # Convert images to grayscale\n",
    "    gray_image1 = cv2.cvtColor(image1, cv2.COLOR_BGR2GRAY)\n",
    "    gray_image2 = cv2.cvtColor(image2, cv2.COLOR_BGR2GRAY)\n",
    "\n",
    "    # Perform face detection on the grayscale images\n",
    "    faces1 = face_capture.detectMultiScale(gray_image1, scaleFactor=1.1, minNeighbors=5, minSize=(30, 30))\n",
    "    faces2 = face_capture.detectMultiScale(gray_image2, scaleFactor=1.1, minNeighbors=5, minSize=(30, 30))\n",
    "\n",
    "    # Draw rectangles around the detected faces\n",
    "    for (x, y, w, h) in faces1:\n",
    "        cv2.rectangle(image1, (x, y), (x+w, y+h), (255, 0, 0), 4)\n",
    "\n",
    "    for (x, y, w, h) in faces2:\n",
    "        cv2.rectangle(image2, (x, y), (x+w, y+h), (255, 0, 0), 4)\n",
    "\n",
    "    # Display the images\n",
    "    cv2.imshow(\"Image 1\", image1)\n",
    "    cv2.imshow(\"Image 2\", image2)\n",
    "    cv2.waitKey(0)\n",
    "    cv2.destroyAllWindows()\n",
    "else:\n",
    "    print(\"Invalid choice. Please enter 1 or 2.\")"
   ]
  },
  {
   "cell_type": "code",
   "execution_count": null,
   "id": "5da466d9",
   "metadata": {},
   "outputs": [],
   "source": []
  }
 ],
 "metadata": {
  "kernelspec": {
   "display_name": "Python 3 (ipykernel)",
   "language": "python",
   "name": "python3"
  },
  "language_info": {
   "codemirror_mode": {
    "name": "ipython",
    "version": 3
   },
   "file_extension": ".py",
   "mimetype": "text/x-python",
   "name": "python",
   "nbconvert_exporter": "python",
   "pygments_lexer": "ipython3",
   "version": "3.10.9"
  }
 },
 "nbformat": 4,
 "nbformat_minor": 5
}
